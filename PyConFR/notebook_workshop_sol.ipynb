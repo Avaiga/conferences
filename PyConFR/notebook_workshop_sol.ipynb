{
 "cells": [
  {
   "cell_type": "markdown",
   "id": "306e5793",
   "metadata": {
    "id": "306e5793"
   },
   "source": [
    "# Install Taipy\n",
    "\n",
    "To install Taipy, just `pip install` it."
   ]
  },
  {
   "cell_type": "code",
   "execution_count": null,
   "id": "c9cd05ba",
   "metadata": {
    "id": "c9cd05ba",
    "outputId": "3b72f1f4-8d12-40dd-cbda-5c85e8b516f8"
   },
   "outputs": [],
   "source": [
    "%pip install taipy -q"
   ]
  },
  {
   "cell_type": "code",
   "execution_count": null,
   "id": "c870cd8b",
   "metadata": {
    "id": "c870cd8b"
   },
   "outputs": [],
   "source": [
    "%pip install pmdarima -q"
   ]
  },
  {
   "cell_type": "code",
   "execution_count": 1,
   "id": "5e031cc1",
   "metadata": {},
   "outputs": [
    {
     "name": "stdout",
     "output_type": "stream",
     "text": [
      "Package                Version\n",
      "---------------------- -----------\n",
      "alembic                1.8.1\n",
      "aniso8601              9.0.1\n",
      "apispec                5.2.2\n",
      "apispec-webframeworks  0.5.2\n",
      "appdirs                1.4.4\n",
      "argon2-cffi            21.3.0\n",
      "argon2-cffi-bindings   21.2.0\n",
      "asttokens              2.0.8\n",
      "attrs                  22.1.0\n",
      "backcall               0.2.0\n",
      "beautifulsoup4         4.11.1\n",
      "bidict                 0.22.0\n",
      "bleach                 5.0.1\n",
      "certifi                2022.9.14\n",
      "cffi                   1.15.1\n",
      "charset-normalizer     2.1.1\n",
      "click                  8.1.3\n",
      "cloudpickle            2.2.0\n",
      "cmdstanpy              1.0.8\n",
      "colorama               0.4.5\n",
      "contourpy              1.0.5\n",
      "convertdate            2.4.0\n",
      "cycler                 0.11.0\n",
      "Cython                 0.29.32\n",
      "dask                   2022.12.1\n",
      "debugpy                1.6.3\n",
      "decorator              5.1.1\n",
      "deepdiff               6.2.3\n",
      "defusedxml             0.7.1\n",
      "distlib                0.3.4\n",
      "distributed            2022.12.1\n",
      "dnspython              2.2.1\n",
      "entrypoints            0.4\n",
      "ephem                  4.1.3\n",
      "et-xmlfile             1.1.0\n",
      "executing              1.1.0\n",
      "fastjsonschema         2.16.2\n",
      "filelock               3.4.2\n",
      "Flask                  2.2.2\n",
      "Flask-Cors             3.0.10\n",
      "Flask-JWT-Extended     4.4.4\n",
      "flask-marshmallow      0.14.0\n",
      "Flask-Migrate          3.1.0\n",
      "Flask-RESTful          0.3.9\n",
      "Flask-SocketIO         5.3.1\n",
      "Flask-SQLAlchemy       3.0.0\n",
      "fonttools              4.38.0\n",
      "fsspec                 2022.11.0\n",
      "gevent                 22.10.2\n",
      "gevent-websocket       0.10.1\n",
      "gitignore-parser       0.1.2\n",
      "greenlet               2.0.2\n",
      "h11                    0.14.0\n",
      "HeapDict               1.0.1\n",
      "hijri-converter        2.2.4\n",
      "holidays               0.16\n",
      "huggingface-hub        0.12.0\n",
      "idna                   3.4\n",
      "ipykernel              6.16.0\n",
      "ipython                8.5.0\n",
      "ipython-genutils       0.2.0\n",
      "ipywidgets             8.0.2\n",
      "itsdangerous           2.1.2\n",
      "jedi                   0.18.1\n",
      "Jinja2                 3.1.2\n",
      "joblib                 1.2.0\n",
      "jsonschema             4.16.0\n",
      "jupyter                1.0.0\n",
      "jupyter_client         7.3.5\n",
      "jupyter-console        6.4.4\n",
      "jupyter-core           4.11.1\n",
      "jupyterlab-pygments    0.2.2\n",
      "jupyterlab-widgets     3.0.3\n",
      "kiwisolver             1.4.4\n",
      "korean-lunar-calendar  0.3.1\n",
      "kthread                0.2.3\n",
      "locket                 1.0.0\n",
      "LunarCalendar          0.0.9\n",
      "lxml                   4.9.1\n",
      "Mako                   1.2.3\n",
      "Markdown               3.4.1\n",
      "MarkupSafe             2.1.1\n",
      "marshmallow            3.18.0\n",
      "marshmallow-sqlalchemy 0.28.1\n",
      "matplotlib             3.6.1\n",
      "matplotlib-inline      0.1.6\n",
      "mistune                2.0.4\n",
      "modin                  0.18.0\n",
      "msgpack                1.0.4\n",
      "multitasking           0.0.11\n",
      "nbclient               0.6.8\n",
      "nbconvert              7.1.0\n",
      "nbformat               5.6.1\n",
      "nest-asyncio           1.5.6\n",
      "networkx               2.8.7\n",
      "notebook               6.4.12\n",
      "numpy                  1.23.3\n",
      "openpyxl               3.0.10\n",
      "ordered-set            4.1.0\n",
      "orjson                 3.8.6\n",
      "packaging              21.3\n",
      "pandas                 1.5.2\n",
      "pandocfilters          1.5.0\n",
      "parso                  0.8.3\n",
      "partd                  1.3.0\n",
      "passlib                1.7.4\n",
      "patsy                  0.5.2\n",
      "pickleshare            0.7.5\n",
      "Pillow                 9.2.0\n",
      "pip                    22.2.2\n",
      "pipenv                 2022.1.8\n",
      "pmdarima               2.0.1\n",
      "prometheus-client      0.14.1\n",
      "prompt-toolkit         3.0.31\n",
      "prophet                1.1.1\n",
      "psutil                 5.9.2\n",
      "pure-eval              0.2.2\n",
      "pyarrow                10.0.1\n",
      "pycparser              2.21\n",
      "Pygments               2.13.0\n",
      "PyJWT                  2.5.0\n",
      "PyMeeus                0.5.11\n",
      "pymongo                4.3.3\n",
      "pyparsing              3.0.9\n",
      "pyrsistent             0.18.1\n",
      "python-dateutil        2.8.2\n",
      "python-dotenv          0.20.0\n",
      "python-engineio        4.3.4\n",
      "python-socketio        5.7.1\n",
      "pytz                   2022.1\n",
      "pytz-deprecation-shim  0.1.0.post0\n",
      "pywin32                304\n",
      "pywinpty               2.0.8\n",
      "PyYAML                 6.0\n",
      "pyzmq                  24.0.1\n",
      "qtconsole              5.3.2\n",
      "QtPy                   2.2.1\n",
      "regex                  2022.10.31\n",
      "requests               2.28.1\n",
      "scikit-learn           1.1.2\n",
      "scipy                  1.9.1\n",
      "Send2Trash             1.8.0\n",
      "setuptools             63.4.1\n",
      "setuptools-git         1.2\n",
      "simple-websocket       0.9.0\n",
      "six                    1.16.0\n",
      "sortedcontainers       2.4.0\n",
      "soupsieve              2.3.2.post1\n",
      "SQLAlchemy             1.4.41\n",
      "stack-data             0.5.1\n",
      "statsmodels            0.13.2\n",
      "taipy                  2.1.0\n",
      "taipy-config           2.1.0\n",
      "taipy-core             2.1.1\n",
      "taipy-gui              2.1.0\n",
      "taipy-rest             2.1.0\n",
      "tblib                  1.7.0\n",
      "terminado              0.16.0\n",
      "threadpoolctl          3.1.0\n",
      "tinycss2               1.1.1\n",
      "tokenizers             0.13.2\n",
      "toml                   0.10.2\n",
      "toolz                  0.12.0\n",
      "torch                  1.13.1\n",
      "tornado                6.2\n",
      "tqdm                   4.64.1\n",
      "traitlets              5.4.0\n",
      "transformers           4.26.0\n",
      "typing_extensions      4.4.0\n",
      "tzdata                 2022.4\n",
      "tzlocal                4.2\n",
      "urllib3                1.26.12\n",
      "virtualenv             20.13.0\n",
      "virtualenv-clone       0.5.7\n",
      "wcwidth                0.2.5\n",
      "webencodings           0.5.1\n",
      "Werkzeug               2.2.2\n",
      "wheel                  0.37.1\n",
      "widgetsnbextension     4.0.3\n",
      "wincertstore           0.2\n",
      "wsproto                1.2.0\n",
      "yfinance               0.1.81\n",
      "zict                   2.2.0\n",
      "zope.event             4.5.0\n",
      "zope.interface         5.4.0\n",
      "Note: you may need to restart the kernel to use updated packages.\n"
     ]
    }
   ],
   "source": [
    "pip list"
   ]
  },
  {
   "cell_type": "markdown",
   "id": "c42e5ded",
   "metadata": {
    "id": "c42e5ded"
   },
   "source": [
    "# Import the packages"
   ]
  },
  {
   "cell_type": "code",
   "execution_count": 2,
   "id": "d69871ac",
   "metadata": {
    "id": "d69871ac"
   },
   "outputs": [],
   "source": [
    "from taipy.gui import Gui, Markdown, notify\n",
    "from taipy import Config, Scope\n",
    "import taipy as tp\n",
    "\n",
    "import datetime as dt\n",
    "\n",
    "from pmdarima import auto_arima\n",
    "\n",
    "from sklearn.linear_model import LinearRegression\n",
    "\n",
    "import pandas as pd\n",
    "import numpy as np"
   ]
  },
  {
   "cell_type": "markdown",
   "id": "81074375",
   "metadata": {
    "id": "81074375"
   },
   "source": [
    "# Taipy Gui Basics\n",
    "## Markdown Syntax"
   ]
  },
  {
   "cell_type": "markdown",
   "id": "8ad49481",
   "metadata": {
    "id": "8ad49481"
   },
   "source": [
    "Taipy uses the Markdown syntax to display elements. `#` creates a title, `*` puts your text in italics and `**` puts it in bold."
   ]
  },
  {
   "cell_type": "markdown",
   "id": "929a56cf",
   "metadata": {
    "id": "929a56cf"
   },
   "source": [
    "![](img/gui_basic_eng.png)"
   ]
  },
  {
   "cell_type": "code",
   "execution_count": 3,
   "id": "a170a8e5",
   "metadata": {
    "id": "a170a8e5"
   },
   "outputs": [],
   "source": [
    "page_md = \"\"\"\n",
    "# Taipy\n",
    "\n",
    "Test **here** to put some *markdown*\n",
    "\n",
    "Click to access the [doc](https://docs.taipy.io/en/latest/)\n",
    "\"\"\""
   ]
  },
  {
   "cell_type": "code",
   "execution_count": 4,
   "id": "1cf6cf9d",
   "metadata": {
    "id": "1cf6cf9d",
    "outputId": "d69b4a02-2df5-4830-a043-9c2b5a423d0b"
   },
   "outputs": [
    {
     "name": "stdout",
     "output_type": "stream",
     "text": [
      "[2023-02-17 13:05:23,683][Taipy][INFO] Running in 'single_client' mode in notebook environment\n",
      "[2023-02-17 13:05:23,938][Taipy][INFO]  * Server starting on http://127.0.0.1:6001\n"
     ]
    },
    {
     "name": "stderr",
     "output_type": "stream",
     "text": [
      "UserWarning: libuv only supports millisecond timer resolution; all times less will be set to 1 ms\n"
     ]
    }
   ],
   "source": [
    "Gui(page_md).run(dark_mode=False, run_browser=False, port=6001)"
   ]
  },
  {
   "cell_type": "markdown",
   "id": "ea452214",
   "metadata": {
    "id": "ea452214"
   },
   "source": [
    "## Visual elements\n",
    "Create different visual elements. The syntax is always the same for each visual element.  `<|{value}|name_of_visual_element|property_1=value_of_property_1|...|>`\n",
    "- Create a [slider](https://docs.taipy.io/en/latest/manuals/gui/viselements/slider/) `<|{value}|slider|>`\n",
    "\n",
    "- Create a [date](https://docs.taipy.io/en/latest/manuals/gui/viselements/date/) `<|{value}|date|>`\n",
    "\n",
    "- Create a [selector](https://docs.taipy.io/en/latest/manuals/gui/viselements/selector/) `<|{value}|selector|lov={list_of_values}|>`\n"
   ]
  },
  {
   "cell_type": "markdown",
   "id": "68f228f9",
   "metadata": {
    "id": "68f228f9"
   },
   "source": [
    "![](img/control.png)"
   ]
  },
  {
   "cell_type": "code",
   "execution_count": 5,
   "id": "bc42cca4",
   "metadata": {
    "id": "bc42cca4"
   },
   "outputs": [
    {
     "name": "stderr",
     "output_type": "stream",
     "text": [
      "UserWarning: libuv only supports millisecond timer resolution; all times less will be set to 1 ms\n"
     ]
    }
   ],
   "source": [
    "slider_value = 0\n",
    "date_value = None\n",
    "selected_value = None\n",
    "selector = ['Test 1', 'Test 2', 'Test 3']\n",
    "\n",
    "control_md = \"\"\"\n",
    "## Controls\n",
    "\n",
    "<|{slider_value}|slider|> <|{slider_value}|>\n",
    "\n",
    "<|{date_value}|date|> <|{date_value}|>\n",
    "\n",
    "<|{selected_value}|selector|lov={selector}|> <|{selected_value}|>\n",
    "\"\"\""
   ]
  },
  {
   "cell_type": "code",
   "execution_count": 6,
   "id": "c5bbe9b7-bd0e-41db-9032-f8495b47a856",
   "metadata": {},
   "outputs": [
    {
     "name": "stdout",
     "output_type": "stream",
     "text": [
      "[2023-02-17 13:05:35,544][Taipy][INFO] Running in 'single_client' mode in notebook environment\n",
      "[2023-02-17 13:05:35,560][Taipy][INFO]  * Server starting on http://127.0.0.1:5000\n"
     ]
    }
   ],
   "source": [
    "Gui(control_md).run(dark_mode=False, run_browser=False)"
   ]
  },
  {
   "cell_type": "markdown",
   "id": "b4ac0541",
   "metadata": {
    "id": "b4ac0541"
   },
   "source": [
    "## Data Viz\n",
    "\n",
    "A dataset gathering information on the number of deaths, confirmed cases and recovered for different regions is going to be used to create an interactive Dashboard."
   ]
  },
  {
   "cell_type": "code",
   "execution_count": 8,
   "id": "49bd29ff",
   "metadata": {
    "id": "49bd29ff",
    "outputId": "b0900888-a15b-4af2-a97d-f796aa28cc46"
   },
   "outputs": [
    {
     "data": {
      "text/html": [
       "<div>\n",
       "<style scoped>\n",
       "    .dataframe tbody tr th:only-of-type {\n",
       "        vertical-align: middle;\n",
       "    }\n",
       "\n",
       "    .dataframe tbody tr th {\n",
       "        vertical-align: top;\n",
       "    }\n",
       "\n",
       "    .dataframe thead th {\n",
       "        text-align: right;\n",
       "    }\n",
       "</style>\n",
       "<table border=\"1\" class=\"dataframe\">\n",
       "  <thead>\n",
       "    <tr style=\"text-align: right;\">\n",
       "      <th></th>\n",
       "      <th>Country/Region</th>\n",
       "      <th>Province/State</th>\n",
       "      <th>Latitude</th>\n",
       "      <th>Longitude</th>\n",
       "      <th>Confirmed</th>\n",
       "      <th>Recovered</th>\n",
       "      <th>Deaths</th>\n",
       "      <th>Date</th>\n",
       "    </tr>\n",
       "  </thead>\n",
       "  <tbody>\n",
       "    <tr>\n",
       "      <th>1241947</th>\n",
       "      <td>Vietnam</td>\n",
       "      <td>NaN</td>\n",
       "      <td>14.058324</td>\n",
       "      <td>108.277199</td>\n",
       "      <td>1465.0</td>\n",
       "      <td>1325.0</td>\n",
       "      <td>35.0</td>\n",
       "      <td>2020-12-31</td>\n",
       "    </tr>\n",
       "    <tr>\n",
       "      <th>1241948</th>\n",
       "      <td>West Bank and Gaza</td>\n",
       "      <td>NaN</td>\n",
       "      <td>31.952200</td>\n",
       "      <td>35.233200</td>\n",
       "      <td>138004.0</td>\n",
       "      <td>117183.0</td>\n",
       "      <td>1400.0</td>\n",
       "      <td>2020-12-31</td>\n",
       "    </tr>\n",
       "    <tr>\n",
       "      <th>1241949</th>\n",
       "      <td>Yemen</td>\n",
       "      <td>NaN</td>\n",
       "      <td>15.552727</td>\n",
       "      <td>48.516388</td>\n",
       "      <td>2099.0</td>\n",
       "      <td>1394.0</td>\n",
       "      <td>610.0</td>\n",
       "      <td>2020-12-31</td>\n",
       "    </tr>\n",
       "    <tr>\n",
       "      <th>1241950</th>\n",
       "      <td>Zambia</td>\n",
       "      <td>NaN</td>\n",
       "      <td>-13.133897</td>\n",
       "      <td>27.849332</td>\n",
       "      <td>20725.0</td>\n",
       "      <td>18660.0</td>\n",
       "      <td>388.0</td>\n",
       "      <td>2020-12-31</td>\n",
       "    </tr>\n",
       "    <tr>\n",
       "      <th>1241951</th>\n",
       "      <td>Zimbabwe</td>\n",
       "      <td>NaN</td>\n",
       "      <td>-19.015438</td>\n",
       "      <td>29.154857</td>\n",
       "      <td>13867.0</td>\n",
       "      <td>11250.0</td>\n",
       "      <td>363.0</td>\n",
       "      <td>2020-12-31</td>\n",
       "    </tr>\n",
       "  </tbody>\n",
       "</table>\n",
       "</div>"
      ],
      "text/plain": [
       "             Country/Region Province/State   Latitude   Longitude  Confirmed  \\\n",
       "1241947             Vietnam            NaN  14.058324  108.277199     1465.0   \n",
       "1241948  West Bank and Gaza            NaN  31.952200   35.233200   138004.0   \n",
       "1241949               Yemen            NaN  15.552727   48.516388     2099.0   \n",
       "1241950              Zambia            NaN -13.133897   27.849332    20725.0   \n",
       "1241951            Zimbabwe            NaN -19.015438   29.154857    13867.0   \n",
       "\n",
       "         Recovered  Deaths        Date  \n",
       "1241947     1325.0    35.0  2020-12-31  \n",
       "1241948   117183.0  1400.0  2020-12-31  \n",
       "1241949     1394.0   610.0  2020-12-31  \n",
       "1241950    18660.0   388.0  2020-12-31  \n",
       "1241951    11250.0   363.0  2020-12-31  "
      ]
     },
     "execution_count": 8,
     "metadata": {},
     "output_type": "execute_result"
    },
    {
     "name": "stderr",
     "output_type": "stream",
     "text": [
      "UserWarning: libuv only supports millisecond timer resolution; all times less will be set to 1 ms\n"
     ]
    }
   ],
   "source": [
    "path_to_data = \"data/covid-19-all.csv\"\n",
    "data = pd.read_csv(path_to_data, low_memory=False)\n",
    "data[-5:]"
   ]
  },
  {
   "cell_type": "code",
   "execution_count": 9,
   "id": "18b5bb55",
   "metadata": {
    "id": "18b5bb55"
   },
   "outputs": [],
   "source": [
    "def initialize_case_evolution(data, selected_country='India') -> pd.DataFrame:\n",
    "    # Aggregation of the dataframe per Country/Region\n",
    "    country_date_df = data.groupby([\"Country/Region\",'Date']).sum().reset_index()\n",
    "    \n",
    "    # a country is selected, here India by default\n",
    "    country_date_df = country_date_df.loc[country_date_df['Country/Region']==selected_country]\n",
    "    return country_date_df"
   ]
  },
  {
   "cell_type": "code",
   "execution_count": 10,
   "id": "f5ae821c",
   "metadata": {
    "id": "f5ae821c",
    "outputId": "0ca17075-c088-437a-b6e3-48a798a0bdde"
   },
   "outputs": [
    {
     "name": "stderr",
     "output_type": "stream",
     "text": [
      "FutureWarning: The default value of numeric_only in DataFrameGroupBy.sum is deprecated. In a future version, numeric_only will default to False. Either specify numeric_only or select only columns which should be valid for the function.\n"
     ]
    },
    {
     "data": {
      "text/html": [
       "<div>\n",
       "<style scoped>\n",
       "    .dataframe tbody tr th:only-of-type {\n",
       "        vertical-align: middle;\n",
       "    }\n",
       "\n",
       "    .dataframe tbody tr th {\n",
       "        vertical-align: top;\n",
       "    }\n",
       "\n",
       "    .dataframe thead th {\n",
       "        text-align: right;\n",
       "    }\n",
       "</style>\n",
       "<table border=\"1\" class=\"dataframe\">\n",
       "  <thead>\n",
       "    <tr style=\"text-align: right;\">\n",
       "      <th></th>\n",
       "      <th>Country/Region</th>\n",
       "      <th>Date</th>\n",
       "      <th>Latitude</th>\n",
       "      <th>Longitude</th>\n",
       "      <th>Confirmed</th>\n",
       "      <th>Recovered</th>\n",
       "      <th>Deaths</th>\n",
       "    </tr>\n",
       "  </thead>\n",
       "  <tbody>\n",
       "    <tr>\n",
       "      <th>23021</th>\n",
       "      <td>India</td>\n",
       "      <td>2020-01-30</td>\n",
       "      <td>23.746783</td>\n",
       "      <td>78.96288</td>\n",
       "      <td>1.0</td>\n",
       "      <td>0.0</td>\n",
       "      <td>0.0</td>\n",
       "    </tr>\n",
       "    <tr>\n",
       "      <th>23022</th>\n",
       "      <td>India</td>\n",
       "      <td>2020-01-31</td>\n",
       "      <td>23.746783</td>\n",
       "      <td>78.96288</td>\n",
       "      <td>1.0</td>\n",
       "      <td>0.0</td>\n",
       "      <td>0.0</td>\n",
       "    </tr>\n",
       "    <tr>\n",
       "      <th>23023</th>\n",
       "      <td>India</td>\n",
       "      <td>2020-02-01</td>\n",
       "      <td>23.746783</td>\n",
       "      <td>78.96288</td>\n",
       "      <td>1.0</td>\n",
       "      <td>0.0</td>\n",
       "      <td>0.0</td>\n",
       "    </tr>\n",
       "    <tr>\n",
       "      <th>23024</th>\n",
       "      <td>India</td>\n",
       "      <td>2020-02-02</td>\n",
       "      <td>23.746783</td>\n",
       "      <td>78.96288</td>\n",
       "      <td>2.0</td>\n",
       "      <td>0.0</td>\n",
       "      <td>0.0</td>\n",
       "    </tr>\n",
       "    <tr>\n",
       "      <th>23025</th>\n",
       "      <td>India</td>\n",
       "      <td>2020-02-03</td>\n",
       "      <td>23.746783</td>\n",
       "      <td>78.96288</td>\n",
       "      <td>3.0</td>\n",
       "      <td>0.0</td>\n",
       "      <td>0.0</td>\n",
       "    </tr>\n",
       "  </tbody>\n",
       "</table>\n",
       "</div>"
      ],
      "text/plain": [
       "      Country/Region        Date   Latitude  Longitude  Confirmed  Recovered  \\\n",
       "23021          India  2020-01-30  23.746783   78.96288        1.0        0.0   \n",
       "23022          India  2020-01-31  23.746783   78.96288        1.0        0.0   \n",
       "23023          India  2020-02-01  23.746783   78.96288        1.0        0.0   \n",
       "23024          India  2020-02-02  23.746783   78.96288        2.0        0.0   \n",
       "23025          India  2020-02-03  23.746783   78.96288        3.0        0.0   \n",
       "\n",
       "       Deaths  \n",
       "23021     0.0  \n",
       "23022     0.0  \n",
       "23023     0.0  \n",
       "23024     0.0  \n",
       "23025     0.0  "
      ]
     },
     "execution_count": 10,
     "metadata": {},
     "output_type": "execute_result"
    },
    {
     "name": "stderr",
     "output_type": "stream",
     "text": [
      "UserWarning: libuv only supports millisecond timer resolution; all times less will be set to 1 ms\n"
     ]
    }
   ],
   "source": [
    "country_date_df = initialize_case_evolution(data)\n",
    "country_date_df.head()"
   ]
  },
  {
   "cell_type": "markdown",
   "id": "d1fd9854",
   "metadata": {
    "id": "d1fd9854"
   },
   "source": [
    "Create a [chart](https://docs.taipy.io/en/latest/manuals/gui/viselements/chart/) showing the evolution of Deaths in France (_Deaths_ for _y_ and _Date_ for _x_). The visual element (chart) has the same syntax as the other ones with specific properties (_x_, _y_, _type_ for example). Here are some [examples of charts](https://docs.taipy.io/en/release-1.1/manuals/gui/viselements/charts/bar/). The _x_ and _y_ porperties only needs the name of the dataframe columns to display."
   ]
  },
  {
   "cell_type": "markdown",
   "id": "bebeb0eb",
   "metadata": {
    "id": "bebeb0eb"
   },
   "source": [
    "![](img/simple_graph.png)"
   ]
  },
  {
   "cell_type": "code",
   "execution_count": 11,
   "id": "baa8dc69",
   "metadata": {
    "id": "baa8dc69"
   },
   "outputs": [],
   "source": [
    "country_md = \"<|{country_date_df}|chart|x=Date|y=Deaths|type=bar|>\""
   ]
  },
  {
   "cell_type": "code",
   "execution_count": 12,
   "id": "dd9f1eec-323d-4818-a57c-2bd0506fb551",
   "metadata": {},
   "outputs": [
    {
     "name": "stdout",
     "output_type": "stream",
     "text": [
      "[2023-02-17 13:06:27,149][Taipy][INFO] Running in 'single_client' mode in notebook environment\n",
      "[2023-02-17 13:06:27,166][Taipy][INFO]  * Server starting on http://127.0.0.1:6005\n"
     ]
    }
   ],
   "source": [
    "Gui(country_md).run(dark_mode=False, run_browser=False, port=6005)"
   ]
  },
  {
   "cell_type": "markdown",
   "id": "6580b5fe",
   "metadata": {
    "id": "6580b5fe"
   },
   "source": [
    "## Add new traces\n",
    "\n",
    "- Add on the graph the number of Confirmed and Recovered cases (_Confirmed_ and _Recovered_) with the number of Deaths\n",
    "- _y_ (and _x_) can be indexed this way to add more traces (`y[1]=`, `y[2]=`, `y[3]=`)."
   ]
  },
  {
   "cell_type": "markdown",
   "id": "baf9d2b6",
   "metadata": {
    "id": "baf9d2b6"
   },
   "source": [
    "![](img/multi_traces.png)"
   ]
  },
  {
   "cell_type": "code",
   "execution_count": 13,
   "id": "242756d9",
   "metadata": {
    "id": "242756d9"
   },
   "outputs": [
    {
     "name": "stderr",
     "output_type": "stream",
     "text": [
      "UserWarning: libuv only supports millisecond timer resolution; all times less will be set to 1 ms\n"
     ]
    }
   ],
   "source": [
    "country_md = \"<|{country_date_df}|chart|type=bar|x=Date|y[1]=Deaths|y[2]=Recovered|y[3]=Confirmed|>\""
   ]
  },
  {
   "cell_type": "code",
   "execution_count": 14,
   "id": "98482902-22fe-4fb4-81a0-d609ee18bfba",
   "metadata": {},
   "outputs": [
    {
     "name": "stdout",
     "output_type": "stream",
     "text": [
      "[2023-02-17 13:06:40,818][Taipy][INFO] Running in 'single_client' mode in notebook environment\n",
      "[2023-02-17 13:06:42,903][Taipy][INFO] Gui server has been stopped.\n",
      "[2023-02-17 13:06:42,904][Taipy][INFO]  * Server starting on http://127.0.0.1:5000\n"
     ]
    }
   ],
   "source": [
    "Gui(country_md).run(dark_mode=False, run_browser=False)"
   ]
  },
  {
   "cell_type": "markdown",
   "id": "f84e0a88",
   "metadata": {
    "id": "f84e0a88"
   },
   "source": [
    "## Style the graph with personalized properties\n",
    "The _layout_ dictionnary specifies how bars should be displayed. They would be 'stacked'.\n",
    "\n",
    "The _options_ dictionary will change the opacity of the unselected markers.\n",
    "\n",
    "These are Plotly properties."
   ]
  },
  {
   "cell_type": "markdown",
   "id": "99c5d669",
   "metadata": {
    "id": "99c5d669"
   },
   "source": [
    "![](img/stack_chart.png)"
   ]
  },
  {
   "cell_type": "code",
   "execution_count": 15,
   "id": "f068e3ba",
   "metadata": {
    "id": "f068e3ba"
   },
   "outputs": [
    {
     "name": "stderr",
     "output_type": "stream",
     "text": [
      "UserWarning: libuv only supports millisecond timer resolution; all times less will be set to 1 ms\n"
     ]
    }
   ],
   "source": [
    "layout = {'barmode':'stack'}\n",
    "country_md = \"<|{country_date_df}|chart|type=bar|x=Date|y[1]=Deaths|y[2]=Recovered|y[3]=Confirmed|layout={layout}|>\""
   ]
  },
  {
   "cell_type": "code",
   "execution_count": 16,
   "id": "5a526dbe-2aa7-4a76-b146-295c2d06de88",
   "metadata": {},
   "outputs": [
    {
     "name": "stdout",
     "output_type": "stream",
     "text": [
      "[2023-02-17 13:07:14,725][Taipy][INFO] Running in 'single_client' mode in notebook environment\n",
      "[2023-02-17 13:07:14,741][Taipy][INFO]  * Server starting on http://127.0.0.1:6008\n"
     ]
    }
   ],
   "source": [
    "Gui(country_md).run(dark_mode=False, run_browser=False, port=6008)"
   ]
  },
  {
   "cell_type": "markdown",
   "id": "cd4d0268",
   "metadata": {
    "id": "cd4d0268"
   },
   "source": [
    "## Add texts that sums up the data\n",
    "\n",
    "Use the [text](https://docs.taipy.io/en/latest/manuals/gui/viselements/text/) visual element.\n",
    "\n",
    "- Add the total number of Deaths (last line of _country_date_df_)\n",
    "- Add the total number of Recovered (last line of _country_date_df_)\n",
    "- Add the total number of Confirmed (last line of _country_date_df_)\n"
   ]
  },
  {
   "cell_type": "code",
   "execution_count": 17,
   "id": "f9060a46",
   "metadata": {
    "id": "f9060a46",
    "outputId": "0d12534f-60a6-4acf-c555-5a6babd1c3d4"
   },
   "outputs": [
    {
     "data": {
      "text/html": [
       "<div>\n",
       "<style scoped>\n",
       "    .dataframe tbody tr th:only-of-type {\n",
       "        vertical-align: middle;\n",
       "    }\n",
       "\n",
       "    .dataframe tbody tr th {\n",
       "        vertical-align: top;\n",
       "    }\n",
       "\n",
       "    .dataframe thead th {\n",
       "        text-align: right;\n",
       "    }\n",
       "</style>\n",
       "<table border=\"1\" class=\"dataframe\">\n",
       "  <thead>\n",
       "    <tr style=\"text-align: right;\">\n",
       "      <th></th>\n",
       "      <th>Country/Region</th>\n",
       "      <th>Date</th>\n",
       "      <th>Latitude</th>\n",
       "      <th>Longitude</th>\n",
       "      <th>Confirmed</th>\n",
       "      <th>Recovered</th>\n",
       "      <th>Deaths</th>\n",
       "    </tr>\n",
       "  </thead>\n",
       "  <tbody>\n",
       "    <tr>\n",
       "      <th>23021</th>\n",
       "      <td>India</td>\n",
       "      <td>2020-01-30</td>\n",
       "      <td>23.746783</td>\n",
       "      <td>78.962880</td>\n",
       "      <td>1.0</td>\n",
       "      <td>0.0</td>\n",
       "      <td>0.0</td>\n",
       "    </tr>\n",
       "    <tr>\n",
       "      <th>23022</th>\n",
       "      <td>India</td>\n",
       "      <td>2020-01-31</td>\n",
       "      <td>23.746783</td>\n",
       "      <td>78.962880</td>\n",
       "      <td>1.0</td>\n",
       "      <td>0.0</td>\n",
       "      <td>0.0</td>\n",
       "    </tr>\n",
       "    <tr>\n",
       "      <th>23023</th>\n",
       "      <td>India</td>\n",
       "      <td>2020-02-01</td>\n",
       "      <td>23.746783</td>\n",
       "      <td>78.962880</td>\n",
       "      <td>1.0</td>\n",
       "      <td>0.0</td>\n",
       "      <td>0.0</td>\n",
       "    </tr>\n",
       "    <tr>\n",
       "      <th>23024</th>\n",
       "      <td>India</td>\n",
       "      <td>2020-02-02</td>\n",
       "      <td>23.746783</td>\n",
       "      <td>78.962880</td>\n",
       "      <td>2.0</td>\n",
       "      <td>0.0</td>\n",
       "      <td>0.0</td>\n",
       "    </tr>\n",
       "    <tr>\n",
       "      <th>23025</th>\n",
       "      <td>India</td>\n",
       "      <td>2020-02-03</td>\n",
       "      <td>23.746783</td>\n",
       "      <td>78.962880</td>\n",
       "      <td>3.0</td>\n",
       "      <td>0.0</td>\n",
       "      <td>0.0</td>\n",
       "    </tr>\n",
       "    <tr>\n",
       "      <th>...</th>\n",
       "      <td>...</td>\n",
       "      <td>...</td>\n",
       "      <td>...</td>\n",
       "      <td>...</td>\n",
       "      <td>...</td>\n",
       "      <td>...</td>\n",
       "      <td>...</td>\n",
       "    </tr>\n",
       "    <tr>\n",
       "      <th>23353</th>\n",
       "      <td>India</td>\n",
       "      <td>2020-12-27</td>\n",
       "      <td>854.924665</td>\n",
       "      <td>3023.983447</td>\n",
       "      <td>10207871.0</td>\n",
       "      <td>9782669.0</td>\n",
       "      <td>147901.0</td>\n",
       "    </tr>\n",
       "    <tr>\n",
       "      <th>23354</th>\n",
       "      <td>India</td>\n",
       "      <td>2020-12-28</td>\n",
       "      <td>854.924665</td>\n",
       "      <td>3023.983447</td>\n",
       "      <td>10224303.0</td>\n",
       "      <td>9807569.0</td>\n",
       "      <td>148153.0</td>\n",
       "    </tr>\n",
       "    <tr>\n",
       "      <th>23355</th>\n",
       "      <td>India</td>\n",
       "      <td>2020-12-29</td>\n",
       "      <td>854.924665</td>\n",
       "      <td>3023.983447</td>\n",
       "      <td>10244852.0</td>\n",
       "      <td>9834141.0</td>\n",
       "      <td>148439.0</td>\n",
       "    </tr>\n",
       "    <tr>\n",
       "      <th>23356</th>\n",
       "      <td>India</td>\n",
       "      <td>2020-12-30</td>\n",
       "      <td>854.924665</td>\n",
       "      <td>3023.983447</td>\n",
       "      <td>10266674.0</td>\n",
       "      <td>9860280.0</td>\n",
       "      <td>148738.0</td>\n",
       "    </tr>\n",
       "    <tr>\n",
       "      <th>23357</th>\n",
       "      <td>India</td>\n",
       "      <td>2020-12-31</td>\n",
       "      <td>854.924665</td>\n",
       "      <td>3023.983447</td>\n",
       "      <td>10266674.0</td>\n",
       "      <td>9860280.0</td>\n",
       "      <td>148738.0</td>\n",
       "    </tr>\n",
       "  </tbody>\n",
       "</table>\n",
       "<p>337 rows × 7 columns</p>\n",
       "</div>"
      ],
      "text/plain": [
       "      Country/Region        Date    Latitude    Longitude   Confirmed  \\\n",
       "23021          India  2020-01-30   23.746783    78.962880         1.0   \n",
       "23022          India  2020-01-31   23.746783    78.962880         1.0   \n",
       "23023          India  2020-02-01   23.746783    78.962880         1.0   \n",
       "23024          India  2020-02-02   23.746783    78.962880         2.0   \n",
       "23025          India  2020-02-03   23.746783    78.962880         3.0   \n",
       "...              ...         ...         ...          ...         ...   \n",
       "23353          India  2020-12-27  854.924665  3023.983447  10207871.0   \n",
       "23354          India  2020-12-28  854.924665  3023.983447  10224303.0   \n",
       "23355          India  2020-12-29  854.924665  3023.983447  10244852.0   \n",
       "23356          India  2020-12-30  854.924665  3023.983447  10266674.0   \n",
       "23357          India  2020-12-31  854.924665  3023.983447  10266674.0   \n",
       "\n",
       "       Recovered    Deaths  \n",
       "23021        0.0       0.0  \n",
       "23022        0.0       0.0  \n",
       "23023        0.0       0.0  \n",
       "23024        0.0       0.0  \n",
       "23025        0.0       0.0  \n",
       "...          ...       ...  \n",
       "23353  9782669.0  147901.0  \n",
       "23354  9807569.0  148153.0  \n",
       "23355  9834141.0  148439.0  \n",
       "23356  9860280.0  148738.0  \n",
       "23357  9860280.0  148738.0  \n",
       "\n",
       "[337 rows x 7 columns]"
      ]
     },
     "execution_count": 17,
     "metadata": {},
     "output_type": "execute_result"
    },
    {
     "name": "stderr",
     "output_type": "stream",
     "text": [
      "UserWarning: libuv only supports millisecond timer resolution; all times less will be set to 1 ms\n"
     ]
    }
   ],
   "source": [
    "country_date_df"
   ]
  },
  {
   "cell_type": "markdown",
   "id": "ec27c620",
   "metadata": {
    "id": "ec27c620"
   },
   "source": [
    "This is how we can get the total number of Deaths from the dataset for India."
   ]
  },
  {
   "cell_type": "code",
   "execution_count": 18,
   "id": "c0a73440",
   "metadata": {
    "id": "c0a73440",
    "outputId": "642a8cff-1c8f-4748-af5e-7b4dc70d9627"
   },
   "outputs": [
    {
     "data": {
      "text/plain": [
       "148738.0"
      ]
     },
     "execution_count": 18,
     "metadata": {},
     "output_type": "execute_result"
    }
   ],
   "source": [
    "country_date_df.iloc[-1, 6] # gives the number of deaths for India (5 is for recovered and 4 is confirmed)"
   ]
  },
  {
   "cell_type": "markdown",
   "id": "4a043817",
   "metadata": {
    "id": "4a043817"
   },
   "source": [
    "Use the [text](https://docs.taipy.io/en/release-1.1/manuals/gui/viselements/text/) visual element. Note that between `{}`, any Python variable can be put but also any Python code."
   ]
  },
  {
   "cell_type": "markdown",
   "id": "8b5b47ec",
   "metadata": {
    "id": "8b5b47ec"
   },
   "source": [
    "![](img/control_text.png)"
   ]
  },
  {
   "cell_type": "code",
   "execution_count": 19,
   "id": "beab9af4",
   "metadata": {
    "id": "beab9af4"
   },
   "outputs": [],
   "source": [
    "country_md = \"\"\"\n",
    "## Deaths <|{country_date_df.iloc[-1, 6]}|text|>\n",
    "\n",
    "## Recovered <|{country_date_df.iloc[-1, 5]}|text|>\n",
    "\n",
    "## Confirmed <|{country_date_df.iloc[-1, 4]}|text|>\n",
    "\n",
    "<|{country_date_df}|chart|type=bar|x=Date|y[1]=Deaths|y[2]=Recovered|y[3]=Confirmed|layout={layout}|>\n",
    "\"\"\""
   ]
  },
  {
   "cell_type": "code",
   "execution_count": 20,
   "id": "0bde617b-a796-4cab-bb77-8d1e294b3603",
   "metadata": {},
   "outputs": [
    {
     "name": "stdout",
     "output_type": "stream",
     "text": [
      "[2023-02-17 13:07:27,148][Taipy][INFO] Running in 'single_client' mode in notebook environment\n",
      "[2023-02-17 13:07:29,258][Taipy][INFO] Gui server has been stopped.\n",
      "[2023-02-17 13:07:29,259][Taipy][INFO]  * Server starting on http://127.0.0.1:5000\n"
     ]
    },
    {
     "name": "stderr",
     "output_type": "stream",
     "text": [
      "WARNING:root:\u001b[1;31m\n",
      "--- 3 warning(s) were found for page '/' in variable 'country_md' ---\n",
      " - Warning 1: Variable 'options' is not available in either the '__main__' or '__main__' modules.\n",
      " - Warning 2: Variable 'options' is not defined (in expression '{options}'): 'types.SimpleNamespace' object has no attribute 'options'\n",
      " - Warning 3: Cannot evaluate expression 'options': name 'options' is not defined\n",
      "----------------------------------------------------------------------\u001b[0m\n",
      "\n"
     ]
    }
   ],
   "source": [
    "Gui(country_md).run(dark_mode=False, run_browser=False)"
   ]
  },
  {
   "cell_type": "markdown",
   "id": "f48f94cd",
   "metadata": {
    "id": "f48f94cd"
   },
   "source": [
    "## Local _on_change_\n",
    "\n",
    "- Add a [selector](https://docs.taipy.io/en/latest/manuals/gui/viselements/selector/) with `dropdown=True` containing the name of all the _Country/region_\n",
    "- Give to the _on_change_ selector property the name of the _on_change_country_ function. This function will be called when the selector will be used.\n",
    "- This function has a 'state' parameter and has to be completed. When the selector is used, this function is called with the _state_ argument. It contains all the Gui variables; 'state.country_date_df' is then the dataframe used in the Gui."
   ]
  },
  {
   "cell_type": "markdown",
   "id": "35953a48",
   "metadata": {
    "id": "35953a48"
   },
   "source": [
    "![](img/on_change_local.png)"
   ]
  },
  {
   "cell_type": "code",
   "execution_count": 21,
   "id": "ed63f76a",
   "metadata": {
    "id": "ed63f76a"
   },
   "outputs": [
    {
     "name": "stderr",
     "output_type": "stream",
     "text": [
      "UserWarning: libuv only supports millisecond timer resolution; all times less will be set to 1 ms\n"
     ]
    }
   ],
   "source": [
    "country_lov = sorted(data[\"Country/Region\"].dropna().unique().tolist())\n",
    "selected_country = \"India\"\n",
    "\n",
    "country_md = \"\"\"\n",
    "<|{selected_country}|selector|lov={country_lov}|on_change=on_change_country|dropdown|label=Country|>\n",
    "\n",
    "## Deaths <|{country_date_df.iloc[-1, 6]}|>\n",
    "\n",
    "## Recovered <|{country_date_df.iloc[-1, 5]}|>\n",
    "\n",
    "## Confirmed <|{country_date_df.iloc[-1, 4]}|>\n",
    "\n",
    "<|{country_date_df}|chart|type=bar|x=Date|y[1]=Deaths|y[2]=Recovered|y[3]=Confirmed|layout={layout}|>\n",
    "\"\"\""
   ]
  },
  {
   "cell_type": "code",
   "execution_count": 22,
   "id": "42e91877",
   "metadata": {
    "id": "42e91877"
   },
   "outputs": [],
   "source": [
    "def on_change_country(state):\n",
    "    # state contains all the Gui variables and this is through this state variable that we can update the Gui\n",
    "    # state.selected_country, state.country_date_df, ...\n",
    "    # update country_date_df with the right country (use initialize_case_evolution)\n",
    "    print(\"Chosen country: \", state.selected_country)\n",
    "    state.country_date_df = initialize_case_evolution(data, state.selected_country)"
   ]
  },
  {
   "cell_type": "code",
   "execution_count": 23,
   "id": "2dc35c5a-1840-4d35-b7ab-af61757dc804",
   "metadata": {},
   "outputs": [
    {
     "name": "stdout",
     "output_type": "stream",
     "text": [
      "[2023-02-17 13:08:00,551][Taipy][INFO] Running in 'single_client' mode in notebook environment\n"
     ]
    },
    {
     "name": "stderr",
     "output_type": "stream",
     "text": [
      "INFO:Taipy:Running in 'single_client' mode in notebook environment\n"
     ]
    },
    {
     "name": "stdout",
     "output_type": "stream",
     "text": [
      "[2023-02-17 13:08:00,568][Taipy][INFO]  * Server starting on http://127.0.0.1:6010\n"
     ]
    },
    {
     "name": "stderr",
     "output_type": "stream",
     "text": [
      "INFO:Taipy: * Server starting on http://127.0.0.1:6010\n"
     ]
    },
    {
     "name": "stdout",
     "output_type": "stream",
     "text": [
      "Chosen country:  Iran\n"
     ]
    },
    {
     "name": "stderr",
     "output_type": "stream",
     "text": [
      "FutureWarning: The default value of numeric_only in DataFrameGroupBy.sum is deprecated. In a future version, numeric_only will default to False. Either specify numeric_only or select only columns which should be valid for the function.\n"
     ]
    },
    {
     "name": "stdout",
     "output_type": "stream",
     "text": [
      "Chosen country:  Israel\n"
     ]
    },
    {
     "name": "stderr",
     "output_type": "stream",
     "text": [
      "FutureWarning: The default value of numeric_only in DataFrameGroupBy.sum is deprecated. In a future version, numeric_only will default to False. Either specify numeric_only or select only columns which should be valid for the function.\n"
     ]
    }
   ],
   "source": [
    "Gui(country_md).run(dark_mode=False, run_browser=False, port=6010)"
   ]
  },
  {
   "cell_type": "markdown",
   "id": "6e528ce2",
   "metadata": {
    "id": "6e528ce2"
   },
   "source": [
    "## Layout\n",
    "\n",
    "Use the [layout](https://docs.taipy.io/en/latest/manuals/gui/viselements/layout/) block to change the page structure. This block creates invisible columns to put text/visual elements in.\n",
    "\n",
    "Syntax :\n",
    "```\n",
    "<|layout|columns=1 1 1 ...|\n",
    "(first column)\n",
    "\n",
    "(in second column)\n",
    "\n",
    "(third column)\n",
    "(again, third column)\n",
    "\n",
    "(...)\n",
    "|>\n",
    "```"
   ]
  },
  {
   "cell_type": "code",
   "execution_count": 26,
   "id": "f89fd2fb",
   "metadata": {
    "id": "f89fd2fb"
   },
   "outputs": [
    {
     "name": "stderr",
     "output_type": "stream",
     "text": [
      "UserWarning: libuv only supports millisecond timer resolution; all times less will be set to 1 ms\n"
     ]
    }
   ],
   "source": [
    "final_country_md = \"\"\"\n",
    "<|layout|columns=1 1 1 1|\n",
    "<|{selected_country}|selector|lov={country_lov}|on_change=on_change_country|dropdown|label=Country|>\n",
    "\n",
    "## Deaths <|{country_date_df.iloc[-1, 6]}|>\n",
    "\n",
    "## Recovered <|{country_date_df.iloc[-1, 5]}|>\n",
    "\n",
    "## Confirmed <|{country_date_df.iloc[-1, 4]}|>\n",
    "|>\n",
    "\n",
    "<|{country_date_df}|chart|type=bar|x=Date|y[1]=Deaths|y[2]=Recovered|y[3]=Confirmed|layout={layout}|>\n",
    "\"\"\""
   ]
  },
  {
   "cell_type": "code",
   "execution_count": 27,
   "id": "84a77afa-33c3-41e5-a1ef-64efaf883334",
   "metadata": {},
   "outputs": [
    {
     "name": "stdout",
     "output_type": "stream",
     "text": [
      "[2023-02-17 13:08:48,538][Taipy][INFO] Running in 'single_client' mode in notebook environment\n"
     ]
    },
    {
     "name": "stderr",
     "output_type": "stream",
     "text": [
      "INFO:Taipy:Running in 'single_client' mode in notebook environment\n",
      "ResourceWarning: Unclosed socket <zmq.Socket(zmq.PUSH) at 0x17662742980>\n"
     ]
    },
    {
     "name": "stdout",
     "output_type": "stream",
     "text": [
      "[2023-02-17 13:08:50,658][Taipy][INFO] Gui server has been stopped.\n"
     ]
    },
    {
     "name": "stderr",
     "output_type": "stream",
     "text": [
      "INFO:Taipy:Gui server has been stopped.\n"
     ]
    },
    {
     "name": "stdout",
     "output_type": "stream",
     "text": [
      "[2023-02-17 13:08:50,659][Taipy][INFO]  * Server starting on http://127.0.0.1:6013\n"
     ]
    },
    {
     "name": "stderr",
     "output_type": "stream",
     "text": [
      "INFO:Taipy: * Server starting on http://127.0.0.1:6013\n",
      "UserWarning: Decoding Message has failed: {'type': 'U', 'name': '_TpLv_tpec_TpExPr_selected_country_TPMDL_0', 'payload': {'value': 'Finland', 'relvar': '_TpL_tpec_TpExPr_country_lov_TPMDL_0', 'on_change': 'on_change_country'}, 'propagate': True, 'client_id': '20230217130839303358-0.7349189024755856', 'ack_id': 'fb9b8ecc-020c-41dd-b039-f9e7439754a7', 'module_context': '__main__'}\n",
      "'types.SimpleNamespace' object has no attribute '_TpLv_tpec_TpExPr_selected_country_TPMDL_0'\n",
      "UserWarning: Decoding Message has failed: {'type': 'U', 'name': '_TpLv_tpec_TpExPr_selected_country_TPMDL_0', 'payload': {'value': 'Fiji', 'relvar': '_TpL_tpec_TpExPr_country_lov_TPMDL_0', 'on_change': 'on_change_country'}, 'propagate': True, 'client_id': '20230217130839303358-0.7349189024755856', 'ack_id': '13f047e8-576a-4424-a33f-8e92d249b839', 'module_context': '__main__'}\n",
      "'types.SimpleNamespace' object has no attribute '_TpLv_tpec_TpExPr_selected_country_TPMDL_0'\n"
     ]
    },
    {
     "name": "stdout",
     "output_type": "stream",
     "text": [
      "Chosen country:  Indonesia\n"
     ]
    },
    {
     "name": "stderr",
     "output_type": "stream",
     "text": [
      "FutureWarning: The default value of numeric_only in DataFrameGroupBy.sum is deprecated. In a future version, numeric_only will default to False. Either specify numeric_only or select only columns which should be valid for the function.\n"
     ]
    }
   ],
   "source": [
    "Gui(final_country_md).run(dark_mode=False, run_browser=False, port=6013)"
   ]
  },
  {
   "cell_type": "markdown",
   "id": "f63dcc18",
   "metadata": {
    "id": "f63dcc18"
   },
   "source": [
    "![](img/layout.png)"
   ]
  },
  {
   "cell_type": "markdown",
   "id": "e9ab05a9",
   "metadata": {
    "id": "e9ab05a9"
   },
   "source": [
    "# Map"
   ]
  },
  {
   "cell_type": "code",
   "execution_count": 28,
   "id": "92212747",
   "metadata": {
    "id": "92212747"
   },
   "outputs": [
    {
     "name": "stderr",
     "output_type": "stream",
     "text": [
      "UserWarning: libuv only supports millisecond timer resolution; all times less will be set to 1 ms\n"
     ]
    }
   ],
   "source": [
    "def initialize_map(data):\n",
    "    data['Province/State'] = data['Province/State'].fillna(data[\"Country/Region\"])\n",
    "    data_province = data.groupby([\"Country/Region\",\n",
    "                                  'Province/State',\n",
    "                                  'Longitude',\n",
    "                                  'Latitude'])\\\n",
    "                         .max()\n",
    "\n",
    "    data_province_displayed = data_province[data_province['Deaths']>10].reset_index()\n",
    "\n",
    "    data_province_displayed['Size'] = np.sqrt(data_province_displayed.loc[:,'Deaths']/data_province_displayed.loc[:,'Deaths'].max())*80 + 3\n",
    "    data_province_displayed['Text'] = data_province_displayed.loc[:,'Deaths'].astype(str) + ' deaths</br>' + data_province_displayed.loc[:,'Province/State']\n",
    "    return data_province_displayed"
   ]
  },
  {
   "cell_type": "code",
   "execution_count": 29,
   "id": "5a1f5cb6",
   "metadata": {
    "id": "5a1f5cb6",
    "outputId": "ff8c0dc6-5b6a-4693-c1f1-01635ecf65c5"
   },
   "outputs": [
    {
     "data": {
      "text/html": [
       "<div>\n",
       "<style scoped>\n",
       "    .dataframe tbody tr th:only-of-type {\n",
       "        vertical-align: middle;\n",
       "    }\n",
       "\n",
       "    .dataframe tbody tr th {\n",
       "        vertical-align: top;\n",
       "    }\n",
       "\n",
       "    .dataframe thead th {\n",
       "        text-align: right;\n",
       "    }\n",
       "</style>\n",
       "<table border=\"1\" class=\"dataframe\">\n",
       "  <thead>\n",
       "    <tr style=\"text-align: right;\">\n",
       "      <th></th>\n",
       "      <th>Country/Region</th>\n",
       "      <th>Province/State</th>\n",
       "      <th>Longitude</th>\n",
       "      <th>Latitude</th>\n",
       "      <th>Confirmed</th>\n",
       "      <th>Recovered</th>\n",
       "      <th>Deaths</th>\n",
       "      <th>Date</th>\n",
       "      <th>Size</th>\n",
       "      <th>Text</th>\n",
       "    </tr>\n",
       "  </thead>\n",
       "  <tbody>\n",
       "    <tr>\n",
       "      <th>0</th>\n",
       "      <td>Afghanistan</td>\n",
       "      <td>Afghanistan</td>\n",
       "      <td>67.709953</td>\n",
       "      <td>33.93911</td>\n",
       "      <td>51526.0</td>\n",
       "      <td>41727.0</td>\n",
       "      <td>2191.0</td>\n",
       "      <td>2020-12-31</td>\n",
       "      <td>17.771247</td>\n",
       "      <td>2191.0 deaths&lt;/br&gt;Afghanistan</td>\n",
       "    </tr>\n",
       "    <tr>\n",
       "      <th>1</th>\n",
       "      <td>Albania</td>\n",
       "      <td>Albania</td>\n",
       "      <td>20.168300</td>\n",
       "      <td>41.15330</td>\n",
       "      <td>58316.0</td>\n",
       "      <td>33634.0</td>\n",
       "      <td>1181.0</td>\n",
       "      <td>2020-12-31</td>\n",
       "      <td>13.844784</td>\n",
       "      <td>1181.0 deaths&lt;/br&gt;Albania</td>\n",
       "    </tr>\n",
       "    <tr>\n",
       "      <th>2</th>\n",
       "      <td>Algeria</td>\n",
       "      <td>Algeria</td>\n",
       "      <td>1.659600</td>\n",
       "      <td>28.03390</td>\n",
       "      <td>99610.0</td>\n",
       "      <td>67127.0</td>\n",
       "      <td>2756.0</td>\n",
       "      <td>2020-12-31</td>\n",
       "      <td>19.566684</td>\n",
       "      <td>2756.0 deaths&lt;/br&gt;Algeria</td>\n",
       "    </tr>\n",
       "    <tr>\n",
       "      <th>3</th>\n",
       "      <td>Andorra</td>\n",
       "      <td>Andorra</td>\n",
       "      <td>1.521800</td>\n",
       "      <td>42.50630</td>\n",
       "      <td>8049.0</td>\n",
       "      <td>7432.0</td>\n",
       "      <td>84.0</td>\n",
       "      <td>2020-12-31</td>\n",
       "      <td>5.892249</td>\n",
       "      <td>84.0 deaths&lt;/br&gt;Andorra</td>\n",
       "    </tr>\n",
       "    <tr>\n",
       "      <th>4</th>\n",
       "      <td>Angola</td>\n",
       "      <td>Angola</td>\n",
       "      <td>17.873900</td>\n",
       "      <td>-11.20270</td>\n",
       "      <td>17553.0</td>\n",
       "      <td>11044.0</td>\n",
       "      <td>405.0</td>\n",
       "      <td>2020-12-31</td>\n",
       "      <td>9.350728</td>\n",
       "      <td>405.0 deaths&lt;/br&gt;Angola</td>\n",
       "    </tr>\n",
       "  </tbody>\n",
       "</table>\n",
       "</div>"
      ],
      "text/plain": [
       "  Country/Region Province/State  Longitude  Latitude  Confirmed  Recovered  \\\n",
       "0    Afghanistan    Afghanistan  67.709953  33.93911    51526.0    41727.0   \n",
       "1        Albania        Albania  20.168300  41.15330    58316.0    33634.0   \n",
       "2        Algeria        Algeria   1.659600  28.03390    99610.0    67127.0   \n",
       "3        Andorra        Andorra   1.521800  42.50630     8049.0     7432.0   \n",
       "4         Angola         Angola  17.873900 -11.20270    17553.0    11044.0   \n",
       "\n",
       "   Deaths        Date       Size                           Text  \n",
       "0  2191.0  2020-12-31  17.771247  2191.0 deaths</br>Afghanistan  \n",
       "1  1181.0  2020-12-31  13.844784      1181.0 deaths</br>Albania  \n",
       "2  2756.0  2020-12-31  19.566684      2756.0 deaths</br>Algeria  \n",
       "3    84.0  2020-12-31   5.892249        84.0 deaths</br>Andorra  \n",
       "4   405.0  2020-12-31   9.350728        405.0 deaths</br>Angola  "
      ]
     },
     "execution_count": 29,
     "metadata": {},
     "output_type": "execute_result"
    },
    {
     "name": "stderr",
     "output_type": "stream",
     "text": [
      "UserWarning: libuv only supports millisecond timer resolution; all times less will be set to 1 ms\n"
     ]
    }
   ],
   "source": [
    "data_province_displayed = initialize_map(data)\n",
    "data_province_displayed.head()"
   ]
  },
  {
   "cell_type": "markdown",
   "id": "fe689939",
   "metadata": {
    "id": "fe689939"
   },
   "source": [
    "Properties to style the map\n",
    "- marker color corresponds to the number of Deaths (column _Deaths_)\n",
    "- marker sizes corresponds to the size in _Size_ column which is created from the number of Deaths\n",
    "\n",
    "layout_map permet defined the initial zoom and position of the map\n"
   ]
  },
  {
   "cell_type": "code",
   "execution_count": 30,
   "id": "62a4cc23",
   "metadata": {
    "id": "62a4cc23"
   },
   "outputs": [],
   "source": [
    "marker_map = {\"color\":\"Deaths\", \"size\": \"Size\", \"showscale\":True, \"colorscale\":\"Viridis\"}\n",
    "layout_map = {\n",
    "            \"dragmode\": \"zoom\",\n",
    "            \"mapbox\": { \"style\": \"open-street-map\", \"center\": { \"lat\": 38, \"lon\": -90 }, \"zoom\": 3}\n",
    "            }"
   ]
  },
  {
   "cell_type": "markdown",
   "id": "fb251153",
   "metadata": {
    "id": "fb251153"
   },
   "source": [
    "We give to Plotly:\n",
    "- a map type\n",
    "- the name of the latitude column\n",
    "- the name of the longitude column\n",
    "- properties: on the size and color of the markers\n",
    "- the name of the column for the text of the points"
   ]
  },
  {
   "cell_type": "code",
   "execution_count": 31,
   "id": "7e65e017",
   "metadata": {
    "id": "7e65e017"
   },
   "outputs": [],
   "source": [
    "selected_points = []\n",
    "map_md = \"\"\"\n",
    "<|{data_province_displayed}|chart|type=scattermapbox|selected={selected_points}|lat=Latitude|lon=Longitude|marker={marker_map}|layout={layout_map}|text=Text|mode=markers|height=800px|options={options}|>\n",
    "\"\"\""
   ]
  },
  {
   "cell_type": "code",
   "execution_count": 36,
   "id": "b068a3af",
   "metadata": {
    "id": "b068a3af",
    "outputId": "b1fcab52-320d-49aa-8a98-60a6b21ce8fb"
   },
   "outputs": [
    {
     "name": "stdout",
     "output_type": "stream",
     "text": [
      "[2023-02-17 16:57:28,454][Taipy][INFO] Running in 'single_client' mode in notebook environment\n"
     ]
    },
    {
     "name": "stderr",
     "output_type": "stream",
     "text": [
      "INFO:Taipy:Running in 'single_client' mode in notebook environment\n",
      "ResourceWarning: Unclosed socket <zmq.Socket(zmq.PUSH) at 0x176627f4040>\n"
     ]
    },
    {
     "name": "stdout",
     "output_type": "stream",
     "text": [
      "[2023-02-17 16:57:30,778][Taipy][INFO] Gui server has been stopped.\n"
     ]
    },
    {
     "name": "stderr",
     "output_type": "stream",
     "text": [
      "INFO:Taipy:Gui server has been stopped.\n"
     ]
    },
    {
     "name": "stdout",
     "output_type": "stream",
     "text": [
      "[2023-02-17 16:57:30,780][Taipy][INFO]  * Server starting on http://127.0.0.1:6017\n"
     ]
    },
    {
     "name": "stderr",
     "output_type": "stream",
     "text": [
      "INFO:Taipy: * Server starting on http://127.0.0.1:6017\n",
      "WARNING:root:\u001b[1;31m\n",
      "--- 3 warning(s) were found for page '/' in variable 'map_md' ---\n",
      " - Warning 1: Variable 'options' is not available in either the '__main__' or '__main__' modules.\n",
      " - Warning 2: Variable 'options' is not defined (in expression '{options}'): 'types.SimpleNamespace' object has no attribute 'options'\n",
      " - Warning 3: Cannot evaluate expression 'options': name 'options' is not defined\n",
      "------------------------------------------------------------------\u001b[0m\n",
      "\n"
     ]
    }
   ],
   "source": [
    "Gui(map_md).run(dark_mode=False, run_browser=False, port=6017)"
   ]
  },
  {
   "cell_type": "markdown",
   "id": "56c0ea66",
   "metadata": {
    "id": "56c0ea66"
   },
   "source": [
    "![](img/carte.png)"
   ]
  },
  {
   "cell_type": "markdown",
   "id": "cab1cacc",
   "metadata": {
    "id": "cab1cacc"
   },
   "source": [
    "# Part and the _render_ property\n",
    "- Create a [toggle](https://docs.taipy.io/en/latest/manuals/gui/viselements/toggle/) (works the same as a selector) with a lov of 'Map' an 'Country'\n",
    "- Create two part blocks that renders or not depending on the value of the toggle\n",
    "    - To do this, use the fact that in the _render_ property of the part block, Python code can be inserted in `{}`"
   ]
  },
  {
   "cell_type": "code",
   "execution_count": 33,
   "id": "91bb95bc",
   "metadata": {
    "id": "91bb95bc"
   },
   "outputs": [
    {
     "name": "stderr",
     "output_type": "stream",
     "text": [
      "UserWarning: libuv only supports millisecond timer resolution; all times less will be set to 1 ms\n"
     ]
    }
   ],
   "source": [
    "representation_toggle = ['Map', 'Country']\n",
    "selected_representation = representation_toggle[0]"
   ]
  },
  {
   "cell_type": "code",
   "execution_count": 34,
   "id": "e76ebb06",
   "metadata": {
    "id": "e76ebb06"
   },
   "outputs": [],
   "source": [
    "main_page = \"\"\"\n",
    "<|{selected_representation}|toggle|lov={representation_toggle}|>\n",
    "\n",
    "<|part|render={selected_representation == \"Country\"}|\n",
    "\"\"\"+final_country_md+\"\"\"\n",
    "|>\n",
    "\n",
    "<|part|render={selected_representation == \"Map\"}|\n",
    "\"\"\"+map_md+\"\"\"\n",
    "|>\n",
    "\"\"\" "
   ]
  },
  {
   "cell_type": "code",
   "execution_count": 35,
   "id": "186846ba",
   "metadata": {
    "id": "186846ba",
    "outputId": "c5cf9b85-034b-4f80-e9ca-32b31f4caab1"
   },
   "outputs": [
    {
     "name": "stdout",
     "output_type": "stream",
     "text": [
      "[2023-02-17 13:10:35,438][Taipy][INFO] Running in 'single_client' mode in notebook environment\n"
     ]
    },
    {
     "name": "stderr",
     "output_type": "stream",
     "text": [
      "INFO:Taipy:Running in 'single_client' mode in notebook environment\n"
     ]
    },
    {
     "name": "stdout",
     "output_type": "stream",
     "text": [
      "[2023-02-17 13:10:35,455][Taipy][INFO]  * Server starting on http://127.0.0.1:6019\n"
     ]
    },
    {
     "name": "stderr",
     "output_type": "stream",
     "text": [
      "INFO:Taipy: * Server starting on http://127.0.0.1:6019\n"
     ]
    }
   ],
   "source": [
    "Gui(main_page).run(dark_mode=False, run_browser=False, port=6019)"
   ]
  },
  {
   "cell_type": "markdown",
   "id": "47d5c7ce",
   "metadata": {
    "id": "47d5c7ce"
   },
   "source": [
    "![](img/part_render.png)"
   ]
  },
  {
   "cell_type": "markdown",
   "id": "0c8130ec",
   "metadata": {
    "id": "0c8130ec"
   },
   "source": [
    "# Taipy Core\n",
    "Here are the functions that we are going to use to predict the number of Deaths for a country.\n",
    "We will:\n",
    "- preprocess the data (_preprocess_),\n",
    "- create a training and testing database (_make_train_test_data_),\n",
    "- train a model (_train_model_),\n",
    "- generate predictions (_forecast_),\n",
    "- generate a dataframe with the historical data and the predictions (_result_)\n",
    "\n",
    "![](img/all_architecture.svg)"
   ]
  },
  {
   "cell_type": "code",
   "execution_count": null,
   "id": "43951062-3a8d-45af-9aef-bee607ffd6f2",
   "metadata": {},
   "outputs": [],
   "source": [
    "# initialise variables\n",
    "selected_scenario = None\n",
    "scenario_selector = None\n",
    "\n",
    "first_date = dt.datetime(2020,11,1)\n",
    "\n",
    "scenario_name = None\n",
    "\n",
    "result = None"
   ]
  },
  {
   "cell_type": "code",
   "execution_count": null,
   "id": "0bab3b3c",
   "metadata": {},
   "outputs": [],
   "source": [
    "#Config.configure_job_executions(mode=\"standalone\", nb_of_workers=2)"
   ]
  },
  {
   "cell_type": "code",
   "execution_count": null,
   "id": "688ebab8",
   "metadata": {
    "id": "688ebab8"
   },
   "outputs": [],
   "source": [
    "\n",
    "def add_features(data):\n",
    "    dates = pd.to_datetime(data[\"Date\"])\n",
    "    data[\"Months\"] = dates.dt.month\n",
    "    data[\"Days\"] = dates.dt.isocalendar().day\n",
    "    data[\"Week\"] = dates.dt.isocalendar().week\n",
    "    data[\"Day of week\"] = dates.dt.dayofweek\n",
    "    return data\n",
    "\n",
    "def create_train_data(final_data, date):\n",
    "    bool_index = pd.to_datetime(final_data['Date']) <= date\n",
    "    train_data = final_data[bool_index]\n",
    "    return train_data\n",
    "\n",
    "def preprocess(initial_data, country, date):\n",
    "    data = initial_data.groupby([\"Country/Region\",'Date'])\\\n",
    "                       .sum()\\\n",
    "                       .dropna()\\\n",
    "                       .reset_index()\n",
    "\n",
    "    final_data = data.loc[data['Country/Region']==country].reset_index(drop=True)\n",
    "    final_data = final_data[['Date','Deaths']]\n",
    "    final_data = add_features(final_data)\n",
    "    \n",
    "    train_data = create_train_data(final_data, date)\n",
    "    return final_data, train_data\n",
    "\n",
    "\n",
    "def train_arima(train_data):\n",
    "    model = auto_arima(train_data['Deaths'],\n",
    "                       start_p=1, start_q=1,\n",
    "                       max_p=5, max_q=5,\n",
    "                       start_P=0, seasonal=False,\n",
    "                       d=1, D=1, trace=True,\n",
    "                       error_action='ignore',  \n",
    "                       suppress_warnings=True)\n",
    "    model.fit(train_data['Deaths'])\n",
    "    return model\n",
    "\n",
    "\n",
    "def forecast(model):\n",
    "    predictions = model.predict(n_periods=60)\n",
    "    return np.array(predictions)\n",
    "\n",
    "\n",
    "def result(final_data, predictions, date):\n",
    "    dates = pd.to_datetime([date + dt.timedelta(days=i)\n",
    "                            for i in range(len(predictions))])\n",
    "    final_data['Date'] = pd.to_datetime(final_data['Date'])\n",
    "    predictions = pd.concat([pd.Series(dates, name=\"Date\"),\n",
    "                             pd.Series(predictions, name=\"Predictions\")], axis=1)\n",
    "    return final_data.merge(predictions, on=\"Date\", how=\"outer\")\n",
    "\n",
    "\n",
    "def train_linear_regression(train_data):    \n",
    "    y = train_data['Deaths']\n",
    "    X = train_data.drop(['Deaths','Date'], axis=1)\n",
    "    \n",
    "    model = LinearRegression()\n",
    "    model.fit(X,y)\n",
    "    return model\n",
    "\n",
    "def forecast_linear_regression(model, date):\n",
    "    dates = pd.to_datetime([date + dt.timedelta(days=i)\n",
    "                            for i in range(60)])\n",
    "    X = add_features(pd.DataFrame({\"Date\":dates}))\n",
    "    X.drop('Date', axis=1, inplace=True)\n",
    "    predictions = model.predict(X)\n",
    "    return predictions"
   ]
  },
  {
   "cell_type": "markdown",
   "id": "9d2e845f",
   "metadata": {
    "id": "9d2e845f"
   },
   "source": [
    "First we must define the Data Nodes then the tasks (associated to the Python function). Furthermore, we gather these tasks into different pipelines and these pipelines into a scenario.\n",
    "\n",
    "A Data Node needs a **unique id**. If needed, the storage type can be changed for CSV and SQL. Other parameters are then needed."
   ]
  },
  {
   "cell_type": "markdown",
   "id": "b19ed6d7",
   "metadata": {
    "id": "b19ed6d7"
   },
   "source": [
    "### Data Nodes and Task for preprocess"
   ]
  },
  {
   "cell_type": "markdown",
   "id": "6c0e2743",
   "metadata": {
    "id": "6c0e2743"
   },
   "source": [
    "<img src=\"img/preprocess.svg\" alt=\"drawing\" width=\"500\"/>"
   ]
  },
  {
   "cell_type": "code",
   "execution_count": null,
   "id": "a0dec60e",
   "metadata": {
    "id": "a0dec60e"
   },
   "outputs": [],
   "source": [
    "initial_data_cfg = Config.configure_data_node(id=\"initial_data\",\n",
    "                                              storage_type=\"csv\",\n",
    "                                              path=path_to_data,\n",
    "                                              cacheable=True,\n",
    "                                              validity_period=dt.timedelta(days=5),\n",
    "                                              scope=Scope.GLOBAL)\n",
    "\n",
    "country_cfg = Config.configure_data_node(id=\"country\", default_data=\"India\",\n",
    "                                         cacheable=True, validity_period=dt.timedelta(days=5))\n",
    "\n",
    "\n",
    "date_cfg = Config.configure_data_node(id=\"date\", default_data=dt.datetime(2020,10,10),\n",
    "                                         cacheable=True, validity_period=dt.timedelta(days=5))"
   ]
  },
  {
   "cell_type": "markdown",
   "id": "ff0c6e21",
   "metadata": {},
   "source": [
    "<img src=\"img/preprocess.svg\" alt=\"drawing\" width=\"500\"/>"
   ]
  },
  {
   "cell_type": "code",
   "execution_count": null,
   "id": "ef9193a1",
   "metadata": {},
   "outputs": [],
   "source": [
    "final_data_cfg =  Config.configure_data_node(id=\"final_data\",\n",
    "                                            cacheable=True, validity_period=dt.timedelta(days=5))\n",
    "\n",
    "\n",
    "train_data_cfg =  Config.configure_data_node(id=\"train_data\", cacheable=True, validity_period=dt.timedelta(days=5))\n"
   ]
  },
  {
   "cell_type": "markdown",
   "id": "5f2897e2",
   "metadata": {},
   "source": [
    "<img src=\"img/preprocess.svg\" alt=\"drawing\" width=\"500\"/>"
   ]
  },
  {
   "cell_type": "code",
   "execution_count": null,
   "id": "7c18d8ea",
   "metadata": {},
   "outputs": [],
   "source": [
    "task_preprocess_cfg = Config.configure_task(id=\"task_preprocess_data\",\n",
    "                                           function=preprocess,\n",
    "                                           input=[initial_data_cfg, country_cfg, date_cfg],\n",
    "                                           output=[final_data_cfg,train_data_cfg])"
   ]
  },
  {
   "cell_type": "markdown",
   "id": "1908c988",
   "metadata": {
    "id": "1908c988"
   },
   "source": [
    "### Data Nodes and Task for train_model"
   ]
  },
  {
   "cell_type": "markdown",
   "id": "e8bd5020",
   "metadata": {
    "id": "e8bd5020"
   },
   "source": [
    "<img src=\"img/train_model.svg\" alt=\"drawing\" width=\"500\"/>"
   ]
  },
  {
   "cell_type": "code",
   "execution_count": null,
   "id": "96afe994",
   "metadata": {
    "id": "96afe994"
   },
   "outputs": [],
   "source": [
    "model_cfg = Config.configure_data_node(id=\"model\", cacheable=True, validity_period=dt.timedelta(days=5), scope=Scope.PIPELINE)\n",
    "\n",
    "task_train_cfg = Config.configure_task(id=\"task_train\",\n",
    "                                      function=train_arima,\n",
    "                                      input=train_data_cfg,\n",
    "                                      output=model_cfg)"
   ]
  },
  {
   "cell_type": "markdown",
   "id": "849d0a97",
   "metadata": {
    "id": "849d0a97"
   },
   "source": [
    "### Data Nodes and Task for forecast"
   ]
  },
  {
   "cell_type": "markdown",
   "id": "e0a125c7",
   "metadata": {
    "id": "e0a125c7"
   },
   "source": [
    "<img src=\"img/forecast_arima.svg\" alt=\"drawing\" width=\"500\"/>"
   ]
  },
  {
   "cell_type": "code",
   "execution_count": null,
   "id": "46b0287b",
   "metadata": {
    "id": "46b0287b"
   },
   "outputs": [],
   "source": [
    "predictions_cfg = Config.configure_data_node(id=\"predictions\", scope=Scope.PIPELINE)\n",
    "\n",
    "task_forecast_cfg = Config.configure_task(id=\"task_forecast\",\n",
    "                                      function=forecast,\n",
    "                                      input=model_cfg,\n",
    "                                      output=predictions_cfg)"
   ]
  },
  {
   "cell_type": "markdown",
   "id": "73ab0ee0",
   "metadata": {
    "id": "73ab0ee0"
   },
   "source": [
    "### Data Nodes and Task for result"
   ]
  },
  {
   "cell_type": "markdown",
   "id": "899c41df",
   "metadata": {
    "id": "899c41df"
   },
   "source": [
    "<img src=\"img/result.svg\" alt=\"drawing\" width=\"500\"/>"
   ]
  },
  {
   "cell_type": "code",
   "execution_count": null,
   "id": "92f6ca0c",
   "metadata": {
    "id": "92f6ca0c"
   },
   "outputs": [],
   "source": [
    "result_cfg = Config.configure_data_node(id=\"result\", scope=Scope.PIPELINE)\n",
    "\n",
    "task_result_cfg = Config.configure_task(id=\"task_result\",\n",
    "                                      function=result,\n",
    "                                      input=[final_data_cfg, predictions_cfg, date_cfg],\n",
    "                                      output=result_cfg)"
   ]
  },
  {
   "cell_type": "markdown",
   "id": "252820b6",
   "metadata": {
    "id": "252820b6"
   },
   "source": [
    "## [Configuration of pipelines](https://docs.taipy.io/en/release-1.1/manuals/reference/taipy.Config/#taipy.core.config.config.Config.configure_default_pipeline)"
   ]
  },
  {
   "cell_type": "code",
   "execution_count": null,
   "id": "ed34224b",
   "metadata": {
    "id": "ed34224b"
   },
   "outputs": [],
   "source": [
    "pipeline_preprocessing_cfg = Config.configure_pipeline(id=\"pipeline_preprocessing\",\n",
    "                                                       task_configs=[task_preprocess_cfg])\n",
    "\n",
    "pipeline_arima_cfg = Config.configure_pipeline(id=\"ARIMA\",\n",
    "                                               task_configs=[task_train_cfg,\n",
    "                                                             task_forecast_cfg,\n",
    "                                                             task_result_cfg])"
   ]
  },
  {
   "cell_type": "markdown",
   "id": "9834cac0",
   "metadata": {},
   "source": [
    "## Add more models\n",
    "\n",
    "<img src=\"img/pipeline_linear_regression.svg\" alt=\"drawing\" width=\"500\"/>"
   ]
  },
  {
   "cell_type": "code",
   "execution_count": null,
   "id": "aa1025e1",
   "metadata": {},
   "outputs": [],
   "source": [
    "def train_linear_regression(train_data):    \n",
    "    y = train_data['Deaths']\n",
    "    X = train_data.drop(['Deaths','Date'], axis=1)\n",
    "    \n",
    "    model = LinearRegression()\n",
    "    model.fit(X,y)\n",
    "    return model\n",
    "\n",
    "def forecast_linear_regression(model, date):\n",
    "    dates = pd.to_datetime([date + dt.timedelta(days=i)\n",
    "                            for i in range(60)])\n",
    "    X = add_features(pd.DataFrame({\"Date\":dates}))\n",
    "    X.drop('Date', axis=1, inplace=True)\n",
    "    predictions = model.predict(X)\n",
    "    return pd.Series(predictions)\n",
    "\n",
    "\n",
    "task_train_linear_cfg = Config.configure_task(id=\"task_train_linear\",\n",
    "                                      function=train_linear_regression,\n",
    "                                      input=train_data_cfg,\n",
    "                                      output=model_cfg)\n",
    "\n",
    "task_forecast_linear_cfg = Config.configure_task(id=\"task_forecast_linear\",\n",
    "                                      function=forecast_linear_regression,\n",
    "                                      input=[model_cfg, date_cfg],\n",
    "                                      output=predictions_cfg)\n",
    "\n",
    "pipeline_linear_regression_cfg = Config.configure_pipeline(id=\"LinearRegression\",\n",
    "                                               task_configs=[task_train_linear_cfg,\n",
    "                                                             task_forecast_linear_cfg,\n",
    "                                                             task_result_cfg])"
   ]
  },
  {
   "cell_type": "markdown",
   "id": "27dbc823",
   "metadata": {
    "id": "27dbc823"
   },
   "source": [
    "## [Configuration of scénario](https://docs.taipy.io/en/release-1.1/manuals/reference/taipy.Config/#taipy.core.config.config.Config.configure_default_scenario)"
   ]
  },
  {
   "cell_type": "code",
   "execution_count": null,
   "id": "36f84118",
   "metadata": {},
   "outputs": [],
   "source": [
    "scenario_cfg = Config.configure_scenario(id='scenario', pipeline_configs=[pipeline_preprocessing_cfg,\n",
    "                                                                          pipeline_arima_cfg,\n",
    "                                                                          pipeline_linear_regression_cfg])"
   ]
  },
  {
   "cell_type": "markdown",
   "id": "986ebad5",
   "metadata": {
    "id": "986ebad5"
   },
   "source": [
    "## Creation and submit of scenario"
   ]
  },
  {
   "cell_type": "code",
   "execution_count": null,
   "id": "ee902abf",
   "metadata": {
    "id": "ee902abf",
    "outputId": "f2e36e97-1ce2-49ae-b4b7-23f84e68892a"
   },
   "outputs": [],
   "source": [
    "scenario = tp.create_scenario(scenario_cfg, name='First Scenario')\n",
    "tp.submit(scenario)"
   ]
  },
  {
   "cell_type": "code",
   "execution_count": null,
   "id": "0438a233",
   "metadata": {
    "id": "0438a233",
    "outputId": "494c2bd8-eef2-4a0f-92ca-46ce061aeaee"
   },
   "outputs": [],
   "source": [
    "scenario.initial_data.read()"
   ]
  },
  {
   "cell_type": "code",
   "execution_count": null,
   "id": "a4f4dafd",
   "metadata": {
    "id": "a4f4dafd",
    "outputId": "a9928f34-27e3-4e90-c43d-4aa073fc5617"
   },
   "outputs": [],
   "source": [
    "scenario.train_data.read()"
   ]
  },
  {
   "cell_type": "code",
   "execution_count": null,
   "id": "79602c0e",
   "metadata": {
    "id": "79602c0e",
    "outputId": "fe06a4ba-a59a-419e-f244-aed87412fb05"
   },
   "outputs": [],
   "source": [
    "scenario.ARIMA.predictions.read()"
   ]
  },
  {
   "cell_type": "markdown",
   "id": "d9915978",
   "metadata": {
    "id": "d9915978"
   },
   "source": [
    "## Caching\n",
    "Some job are skipped because no change has been done to the \"input\" Data Nodes."
   ]
  },
  {
   "cell_type": "code",
   "execution_count": null,
   "id": "7cb68da0",
   "metadata": {
    "id": "7cb68da0",
    "outputId": "b06a184d-f2aa-4e00-cac4-3a0111d1755c"
   },
   "outputs": [],
   "source": [
    "tp.submit(scenario)"
   ]
  },
  {
   "cell_type": "markdown",
   "id": "ba83beac",
   "metadata": {
    "id": "ba83beac"
   },
   "source": [
    "## Write in data nodes\n",
    "\n",
    "To write a data node:\n",
    "\n",
    "`<Data Node>.write(new_value)`"
   ]
  },
  {
   "cell_type": "code",
   "execution_count": null,
   "id": "31d6562d",
   "metadata": {
    "id": "31d6562d",
    "outputId": "9fef8e2d-9026-438f-da23-8299d3fe3497"
   },
   "outputs": [],
   "source": [
    "scenario.country.write('US')\n",
    "tp.submit(scenario)\n",
    "scenario.result.read()"
   ]
  },
  {
   "cell_type": "code",
   "execution_count": null,
   "id": "cbd77b13",
   "metadata": {},
   "outputs": [],
   "source": [
    "scenario.ARIMA.predictions.read()"
   ]
  },
  {
   "cell_type": "markdown",
   "id": "9d9d2c81",
   "metadata": {
    "id": "9d9d2c81"
   },
   "source": [
    "## Simple framework"
   ]
  },
  {
   "cell_type": "code",
   "execution_count": null,
   "id": "4892eb7d",
   "metadata": {
    "id": "4892eb7d"
   },
   "outputs": [],
   "source": [
    "scenario = tp.create_scenario(scenario_cfg, name='Second Scenario')\n",
    "tp.submit(scenario)"
   ]
  },
  {
   "cell_type": "code",
   "execution_count": null,
   "id": "b5ac9bec",
   "metadata": {},
   "outputs": [],
   "source": [
    "scenario.ARIMA.task_forecast.function"
   ]
  },
  {
   "cell_type": "code",
   "execution_count": null,
   "id": "3b7c15c8",
   "metadata": {
    "id": "a9248942"
   },
   "outputs": [],
   "source": [
    "scenario.ARIMA.model.read()"
   ]
  },
  {
   "cell_type": "code",
   "execution_count": null,
   "id": "89d5d002",
   "metadata": {},
   "outputs": [],
   "source": [
    "scenario.pipelines['LinearRegression'].model.read()"
   ]
  },
  {
   "cell_type": "code",
   "execution_count": null,
   "id": "daf87c40",
   "metadata": {},
   "outputs": [],
   "source": [
    "[s.country.read() for s in tp.get_scenarios()]"
   ]
  },
  {
   "cell_type": "code",
   "execution_count": null,
   "id": "b3181b24",
   "metadata": {},
   "outputs": [],
   "source": [
    "[s.date.read() for s in tp.get_scenarios()]"
   ]
  },
  {
   "cell_type": "markdown",
   "id": "73fd648f",
   "metadata": {
    "id": "73fd648f"
   },
   "source": [
    "## Create a Gui for the backend\n",
    "_scenario_selector_ lets you choose a scenario and display its results."
   ]
  },
  {
   "cell_type": "code",
   "execution_count": null,
   "id": "760f1a04",
   "metadata": {
    "id": "760f1a04",
    "outputId": "447fe599-faf2-47d9-d3f8-2f3e2297642a"
   },
   "outputs": [],
   "source": [
    "scenario_selector = [(s.id, s.name) for s in tp.get_scenarios()]\n",
    "selected_scenario = scenario.id\n",
    "print(scenario_selector,'\\n', selected_scenario)"
   ]
  },
  {
   "cell_type": "code",
   "execution_count": null,
   "id": "b590bdcc",
   "metadata": {
    "id": "b590bdcc",
    "outputId": "5747bb81-4c48-45ad-8457-f36fa783cff5"
   },
   "outputs": [],
   "source": [
    "result_arima = scenario.pipelines['ARIMA'].result.read()\n",
    "result_rd = scenario.pipelines['LinearRegression'].result.read()\n",
    "result = result_rd.merge(result_arima, on=\"Date\", how=\"outer\").sort_values(by='Date')\n",
    "result"
   ]
  },
  {
   "cell_type": "markdown",
   "id": "53c5cbc8",
   "metadata": {
    "id": "53c5cbc8"
   },
   "source": [
    "**Tips** : the _value_by_id_ property if set to True for a selected will make _selected_scenario_ directly refer to the first element of the tupple (here the id)"
   ]
  },
  {
   "cell_type": "markdown",
   "id": "4d705028",
   "metadata": {
    "id": "4d705028"
   },
   "source": [
    "![](img/predictions.png)"
   ]
  },
  {
   "cell_type": "code",
   "execution_count": null,
   "id": "ff76ef5f",
   "metadata": {
    "id": "ff76ef5f"
   },
   "outputs": [],
   "source": [
    "prediction_md = \"\"\"\n",
    "<|layout|columns=1 2 5 1 3|\n",
    "<|{scenario_name}|input|label=Name|>\n",
    "\n",
    "<br/>\n",
    "<|Create|button|on_action=create_new_scenario|>\n",
    "\n",
    "Prediction date\n",
    "<|{first_date}|date|>\n",
    "\n",
    "<|{selected_country}|selector|lov={country_lov}|dropdown|on_change=on_change_country|label=Country|>\n",
    "\n",
    "<br/>\n",
    "<|Submit|button|on_action=submit_scenario|>\n",
    "\n",
    "<|{selected_scenario}|selector|lov={scenario_selector}|on_change=actualize_graph|dropdown|value_by_id|label=Scenario|>\n",
    "|>\n",
    "\n",
    "<|{result}|chart|x=Date|y[1]=Deaths_x|type[1]=bar|y[2]=Predictions_x|y[3]=Predictions_y|>\n",
    "\"\"\""
   ]
  },
  {
   "cell_type": "code",
   "execution_count": null,
   "id": "de9e35b6",
   "metadata": {
    "id": "de9e35b6"
   },
   "outputs": [],
   "source": [
    "def create_new_scenario(state):\n",
    "    scenario = tp.create_scenario(scenario_cfg, name=state.scenario_name)\n",
    "    state.scenario_selector += [(scenario.id, scenario.name)]"
   ]
  },
  {
   "cell_type": "code",
   "execution_count": null,
   "id": "41f73a34",
   "metadata": {
    "id": "41f73a34"
   },
   "outputs": [],
   "source": [
    "def submit_scenario(state):\n",
    "    # 1) get the selected scenario\n",
    "    # 2) write in country Data Node, the selected country\n",
    "    # 3) submit the scenario\n",
    "    # 4) actualize le graph avec actualize_graph\n",
    "    scenario = tp.get(state.selected_scenario)\n",
    "    scenario.country.write(state.selected_country)\n",
    "    scenario.date.write(state.first_date.replace(tzinfo=None))\n",
    "    tp.submit(scenario)\n",
    "    actualize_graph(state)"
   ]
  },
  {
   "cell_type": "code",
   "execution_count": null,
   "id": "ef2d2fff",
   "metadata": {
    "id": "ef2d2fff"
   },
   "outputs": [],
   "source": [
    "def actualize_graph(state):\n",
    "    # 1) update the result dataframe\n",
    "    # 2) change selected_country with the predicted country of the scenario\n",
    "    scenario = tp.get(state.selected_scenario)\n",
    "    result_arima = scenario.pipelines['ARIMA'].result.read()\n",
    "    result_rd = scenario.pipelines['LinearRegression'].result.read()\n",
    "    if result_arima is not None and result_rd is not None:\n",
    "        state.result = result_rd.merge(result_arima, on=\"Date\", how=\"outer\").sort_values(by='Date')\n",
    "    state.selected_country = scenario.country.read()"
   ]
  },
  {
   "cell_type": "code",
   "execution_count": null,
   "id": "b9d18b7f",
   "metadata": {
    "id": "b9d18b7f",
    "outputId": "f0b7e1d3-3a44-4f8d-fccf-95065ae86ea1"
   },
   "outputs": [],
   "source": [
    "Gui(prediction_md).run(dark_mode=False, port=5090)"
   ]
  },
  {
   "cell_type": "markdown",
   "id": "40a63136",
   "metadata": {
    "id": "40a63136"
   },
   "source": [
    "# Multi-pages and Taipy Rest"
   ]
  },
  {
   "cell_type": "markdown",
   "id": "9b4d3ab8",
   "metadata": {
    "id": "9b4d3ab8"
   },
   "source": [
    "To create a multi-pages app, we only need a dictionary with names as the keys and the Markdowns as the values.\n",
    "\n",
    "The _navbar_ control (<|navbar|>) has a default behaviour. It redirects to the different pages of the app automatically. Other solutions exists."
   ]
  },
  {
   "cell_type": "markdown",
   "id": "77019d17",
   "metadata": {
    "id": "77019d17"
   },
   "source": [
    "![](img/multi_pages.png)"
   ]
  },
  {
   "cell_type": "code",
   "execution_count": null,
   "id": "b0db7725",
   "metadata": {
    "id": "b0db7725",
    "outputId": "26b9efff-d31d-429a-ca16-a7f07e704605"
   },
   "outputs": [],
   "source": [
    "navbar_md = \"<center>\\n<|navbar|>\\n</center>\"\n",
    "\n",
    "pages = {\n",
    "    \"Map\":navbar_md+map_md,\n",
    "    \"Country\":navbar_md+final_country_md,\n",
    "    \"Predictions\":navbar_md+prediction_md\n",
    "}\n",
    "\n",
    "rest = tp.Rest()\n",
    "\n",
    "gui_multi_pages = Gui(pages=pages)\n",
    "tp.run(gui_multi_pages, rest, dark_mode=False, port=6066)"
   ]
  },
  {
   "cell_type": "code",
   "execution_count": null,
   "id": "54ba12f6",
   "metadata": {},
   "outputs": [],
   "source": []
  }
 ],
 "metadata": {
  "colab": {
   "collapsed_sections": [
    "b4ac0541",
    "6580b5fe",
    "f84e0a88",
    "cd4d0268",
    "f48f94cd",
    "6e528ce2",
    "6ab0529e",
    "b19ed6d7",
    "e9a53d43",
    "1908c988",
    "849d0a97",
    "73ab0ee0",
    "252820b6",
    "27dbc823",
    "986ebad5",
    "d9915978",
    "ba83beac",
    "73fd648f"
   ],
   "name": "Microsoft_workshop-solution_en.ipynb",
   "provenance": []
  },
  "kernelspec": {
   "display_name": "notebook",
   "language": "python",
   "name": "notebook"
  },
  "language_info": {
   "codemirror_mode": {
    "name": "ipython",
    "version": 3
   },
   "file_extension": ".py",
   "mimetype": "text/x-python",
   "name": "python",
   "nbconvert_exporter": "python",
   "pygments_lexer": "ipython3",
   "version": "3.10.4"
  },
  "vscode": {
   "interpreter": {
    "hash": "ba8253bf2265f190ff2d77bc66a586dcdf245e31b6255d2bcabcbf71b1320c9e"
   }
  }
 },
 "nbformat": 4,
 "nbformat_minor": 5
}
