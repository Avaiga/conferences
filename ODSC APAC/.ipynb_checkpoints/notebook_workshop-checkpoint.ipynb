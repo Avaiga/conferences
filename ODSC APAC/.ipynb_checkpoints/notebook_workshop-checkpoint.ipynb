{
 "cells": [
  {
   "cell_type": "markdown",
   "id": "306e5793",
   "metadata": {
    "id": "306e5793"
   },
   "source": [
    "# Install Taipy\n",
    "\n",
    "To install Taipy, just `pip install` it."
   ]
  },
  {
   "cell_type": "code",
   "execution_count": 1,
   "id": "c9cd05ba",
   "metadata": {
    "id": "c9cd05ba",
    "outputId": "3b72f1f4-8d12-40dd-cbda-5c85e8b516f8"
   },
   "outputs": [
    {
     "name": "stdout",
     "output_type": "stream",
     "text": [
      "Requirement already satisfied: taipy in c:\\users\\jacta\\anaconda3\\lib\\site-packages (1.1.0)\n",
      "Requirement already satisfied: taipy-rest<1.2,>=1.1 in c:\\users\\jacta\\anaconda3\\lib\\site-packages (from taipy) (1.1.1)\n",
      "Requirement already satisfied: taipy-gui<1.2,>=1.1 in c:\\users\\jacta\\anaconda3\\lib\\site-packages (from taipy) (1.1.1)\n",
      "Requirement already satisfied: flask<3.0,>=2.1 in c:\\users\\jacta\\anaconda3\\lib\\site-packages (from taipy-gui<1.2,>=1.1->taipy) (2.1.1)\n",
      "Requirement already satisfied: pytz<2022.2,>=2021.3 in c:\\users\\jacta\\anaconda3\\lib\\site-packages (from taipy-gui<1.2,>=1.1->taipy) (2022.1)\n",
      "Requirement already satisfied: tzlocal<5.0,>=3.0 in c:\\users\\jacta\\anaconda3\\lib\\site-packages (from taipy-gui<1.2,>=1.1->taipy) (4.2)\n",
      "Requirement already satisfied: pandas<2.0,>=1.3.4 in c:\\users\\jacta\\anaconda3\\lib\\site-packages (from taipy-gui<1.2,>=1.1->taipy) (1.4.2)\n",
      "Requirement already satisfied: flask-talisman<2.0,>=1.0 in c:\\users\\jacta\\anaconda3\\lib\\site-packages (from taipy-gui<1.2,>=1.1->taipy) (1.0.0)\n",
      "Requirement already satisfied: backports.zoneinfo<0.3,>=0.2.1 in c:\\users\\jacta\\anaconda3\\lib\\site-packages (from taipy-gui<1.2,>=1.1->taipy) (0.2.1)\n",
      "Requirement already satisfied: flask-cors<4.0,>=3.0.10 in c:\\users\\jacta\\anaconda3\\lib\\site-packages (from taipy-gui<1.2,>=1.1->taipy) (3.0.10)\n",
      "Requirement already satisfied: simple-websocket<0.6,>=0.3 in c:\\users\\jacta\\anaconda3\\lib\\site-packages (from taipy-gui<1.2,>=1.1->taipy) (0.5.1)\n",
      "Requirement already satisfied: python-dotenv<0.21,>=0.19 in c:\\users\\jacta\\anaconda3\\lib\\site-packages (from taipy-gui<1.2,>=1.1->taipy) (0.20.0)\n",
      "Requirement already satisfied: flask-socketio<6.0,>=5.1.1 in c:\\users\\jacta\\anaconda3\\lib\\site-packages (from taipy-gui<1.2,>=1.1->taipy) (5.1.1)\n",
      "Requirement already satisfied: markdown<4.0,>=3.3.4 in c:\\users\\jacta\\anaconda3\\lib\\site-packages (from taipy-gui<1.2,>=1.1->taipy) (3.3.4)\n",
      "Requirement already satisfied: itsdangerous>=2.0 in c:\\users\\jacta\\anaconda3\\lib\\site-packages (from flask<3.0,>=2.1->taipy-gui<1.2,>=1.1->taipy) (2.1.2)\n",
      "Requirement already satisfied: importlib-metadata>=3.6.0 in c:\\users\\jacta\\anaconda3\\lib\\site-packages (from flask<3.0,>=2.1->taipy-gui<1.2,>=1.1->taipy) (3.10.0)\n",
      "Requirement already satisfied: Werkzeug>=2.0 in c:\\users\\jacta\\anaconda3\\lib\\site-packages (from flask<3.0,>=2.1->taipy-gui<1.2,>=1.1->taipy) (2.0.0)\n",
      "Requirement already satisfied: Jinja2>=3.0 in c:\\users\\jacta\\anaconda3\\lib\\site-packages (from flask<3.0,>=2.1->taipy-gui<1.2,>=1.1->taipy) (3.1.1)\n",
      "Requirement already satisfied: click>=8.0 in c:\\users\\jacta\\anaconda3\\lib\\site-packages (from flask<3.0,>=2.1->taipy-gui<1.2,>=1.1->taipy) (8.1.2)\n",
      "Requirement already satisfied: colorama in c:\\users\\jacta\\anaconda3\\lib\\site-packages (from click>=8.0->flask<3.0,>=2.1->taipy-gui<1.2,>=1.1->taipy) (0.4.4)\n",
      "Requirement already satisfied: Six in c:\\users\\jacta\\anaconda3\\lib\\site-packages (from flask-cors<4.0,>=3.0.10->taipy-gui<1.2,>=1.1->taipy) (1.15.0)\n",
      "Requirement already satisfied: python-socketio>=5.0.2 in c:\\users\\jacta\\anaconda3\\lib\\site-packages (from flask-socketio<6.0,>=5.1.1->taipy-gui<1.2,>=1.1->taipy) (5.5.2)\n",
      "Requirement already satisfied: zipp>=0.5 in c:\\users\\jacta\\anaconda3\\lib\\site-packages (from importlib-metadata>=3.6.0->flask<3.0,>=2.1->taipy-gui<1.2,>=1.1->taipy) (3.4.1)\n",
      "Requirement already satisfied: MarkupSafe>=2.0 in c:\\users\\jacta\\anaconda3\\lib\\site-packages (from Jinja2>=3.0->flask<3.0,>=2.1->taipy-gui<1.2,>=1.1->taipy) (2.1.1)\n",
      "Requirement already satisfied: python-dateutil>=2.8.1 in c:\\users\\jacta\\anaconda3\\lib\\site-packages (from pandas<2.0,>=1.3.4->taipy-gui<1.2,>=1.1->taipy) (2.8.1)\n",
      "Requirement already satisfied: numpy>=1.18.5 in c:\\users\\jacta\\anaconda3\\lib\\site-packages (from pandas<2.0,>=1.3.4->taipy-gui<1.2,>=1.1->taipy) (1.21.0)\n",
      "Requirement already satisfied: bidict>=0.21.0 in c:\\users\\jacta\\anaconda3\\lib\\site-packages (from python-socketio>=5.0.2->flask-socketio<6.0,>=5.1.1->taipy-gui<1.2,>=1.1->taipy) (0.22.0)\n",
      "Requirement already satisfied: python-engineio>=4.3.0 in c:\\users\\jacta\\anaconda3\\lib\\site-packages (from python-socketio>=5.0.2->flask-socketio<6.0,>=5.1.1->taipy-gui<1.2,>=1.1->taipy) (4.3.1)\n",
      "Requirement already satisfied: wsproto in c:\\users\\jacta\\anaconda3\\lib\\site-packages (from simple-websocket<0.6,>=0.3->taipy-gui<1.2,>=1.1->taipy) (1.1.0)\n",
      "Requirement already satisfied: taipy-core<1.2,>=1.1 in c:\\users\\jacta\\anaconda3\\lib\\site-packages (from taipy-rest<1.2,>=1.1->taipy) (1.1.2)\n",
      "Requirement already satisfied: marshmallow-sqlalchemy<0.29,>=0.25 in c:\\users\\jacta\\anaconda3\\lib\\site-packages (from taipy-rest<1.2,>=1.1->taipy) (0.28.0)\n",
      "Requirement already satisfied: flask-migrate<4.0,>=3.1 in c:\\users\\jacta\\anaconda3\\lib\\site-packages (from taipy-rest<1.2,>=1.1->taipy) (3.1.0)\n",
      "Requirement already satisfied: flask-jwt-extended<5.0,>=4.3 in c:\\users\\jacta\\anaconda3\\lib\\site-packages (from taipy-rest<1.2,>=1.1->taipy) (4.3.1)\n",
      "Requirement already satisfied: passlib<1.8,>=1.7.4 in c:\\users\\jacta\\anaconda3\\lib\\site-packages (from taipy-rest<1.2,>=1.1->taipy) (1.7.4)\n",
      "Requirement already satisfied: apispec-webframeworks<0.6,>=0.5.2 in c:\\users\\jacta\\anaconda3\\lib\\site-packages (from taipy-rest<1.2,>=1.1->taipy) (0.5.2)\n",
      "Requirement already satisfied: apispec[yaml]<6.0,>=5.1 in c:\\users\\jacta\\anaconda3\\lib\\site-packages (from taipy-rest<1.2,>=1.1->taipy) (5.1.1)\n",
      "Requirement already satisfied: flask-restful<0.4,>=0.3.9 in c:\\users\\jacta\\anaconda3\\lib\\site-packages (from taipy-rest<1.2,>=1.1->taipy) (0.3.9)\n",
      "Requirement already satisfied: flask-marshmallow<0.15,>=0.14 in c:\\users\\jacta\\anaconda3\\lib\\site-packages (from taipy-rest<1.2,>=1.1->taipy) (0.14.0)\n",
      "Requirement already satisfied: PyYAML>=3.10 in c:\\users\\jacta\\anaconda3\\lib\\site-packages (from apispec[yaml]<6.0,>=5.1->taipy-rest<1.2,>=1.1->taipy) (5.4.1)\n",
      "Requirement already satisfied: PyJWT<3.0,>=2.0 in c:\\users\\jacta\\anaconda3\\lib\\site-packages (from flask-jwt-extended<5.0,>=4.3->taipy-rest<1.2,>=1.1->taipy) (2.1.0)\n",
      "Requirement already satisfied: marshmallow>=2.0.0 in c:\\users\\jacta\\anaconda3\\lib\\site-packages (from flask-marshmallow<0.15,>=0.14->taipy-rest<1.2,>=1.1->taipy) (3.15.0)\n",
      "Requirement already satisfied: alembic>=0.7 in c:\\users\\jacta\\anaconda3\\lib\\site-packages (from flask-migrate<4.0,>=3.1->taipy-rest<1.2,>=1.1->taipy) (1.7.7)\n",
      "Requirement already satisfied: Flask-SQLAlchemy>=1.0 in c:\\users\\jacta\\anaconda3\\lib\\site-packages (from flask-migrate<4.0,>=3.1->taipy-rest<1.2,>=1.1->taipy) (2.5.1)\n",
      "Requirement already satisfied: SQLAlchemy>=1.3.0 in c:\\users\\jacta\\anaconda3\\lib\\site-packages (from alembic>=0.7->flask-migrate<4.0,>=3.1->taipy-rest<1.2,>=1.1->taipy) (1.4.35)\n",
      "Requirement already satisfied: importlib-resources in c:\\users\\jacta\\anaconda3\\lib\\site-packages (from alembic>=0.7->flask-migrate<4.0,>=3.1->taipy-rest<1.2,>=1.1->taipy) (5.6.0)\n",
      "Requirement already satisfied: Mako in c:\\users\\jacta\\anaconda3\\lib\\site-packages (from alembic>=0.7->flask-migrate<4.0,>=3.1->taipy-rest<1.2,>=1.1->taipy) (1.2.0)\n",
      "Requirement already satisfied: aniso8601>=0.82 in c:\\users\\jacta\\anaconda3\\lib\\site-packages (from flask-restful<0.4,>=0.3.9->taipy-rest<1.2,>=1.1->taipy) (9.0.1)\n",
      "Requirement already satisfied: packaging in c:\\users\\jacta\\anaconda3\\lib\\site-packages (from marshmallow>=2.0.0->flask-marshmallow<0.15,>=0.14->taipy-rest<1.2,>=1.1->taipy) (21.3)\n",
      "Requirement already satisfied: greenlet!=0.4.17 in c:\\users\\jacta\\anaconda3\\lib\\site-packages (from SQLAlchemy>=1.3.0->alembic>=0.7->flask-migrate<4.0,>=3.1->taipy-rest<1.2,>=1.1->taipy) (1.1.2)\n",
      "Requirement already satisfied: openpyxl<4.0,>=3.0.3 in c:\\users\\jacta\\anaconda3\\lib\\site-packages (from taipy-core<1.2,>=1.1->taipy-rest<1.2,>=1.1->taipy) (3.0.9)\n",
      "Requirement already satisfied: toml<0.11,>=0.10 in c:\\users\\jacta\\anaconda3\\lib\\site-packages (from taipy-core<1.2,>=1.1->taipy-rest<1.2,>=1.1->taipy) (0.10.2)\n",
      "Requirement already satisfied: networkx<3.0,>=2.6 in c:\\users\\jacta\\anaconda3\\lib\\site-packages (from taipy-core<1.2,>=1.1->taipy-rest<1.2,>=1.1->taipy) (2.7.1)\n",
      "Requirement already satisfied: et-xmlfile in c:\\users\\jacta\\anaconda3\\lib\\site-packages (from openpyxl<4.0,>=3.0.3->taipy-core<1.2,>=1.1->taipy-rest<1.2,>=1.1->taipy) (1.1.0)\n",
      "Requirement already satisfied: pytz-deprecation-shim in c:\\users\\jacta\\anaconda3\\lib\\site-packages (from tzlocal<5.0,>=3.0->taipy-gui<1.2,>=1.1->taipy) (0.1.0.post0)\n",
      "Requirement already satisfied: tzdata in c:\\users\\jacta\\anaconda3\\lib\\site-packages (from tzlocal<5.0,>=3.0->taipy-gui<1.2,>=1.1->taipy) (2022.1)\n",
      "Requirement already satisfied: pyparsing!=3.0.5,>=2.0.2 in c:\\users\\jacta\\anaconda3\\lib\\site-packages (from packaging->marshmallow>=2.0.0->flask-marshmallow<0.15,>=0.14->taipy-rest<1.2,>=1.1->taipy) (2.4.7)\n",
      "Requirement already satisfied: h11<1,>=0.9.0 in c:\\users\\jacta\\anaconda3\\lib\\site-packages (from wsproto->simple-websocket<0.6,>=0.3->taipy-gui<1.2,>=1.1->taipy) (0.13.0)\n",
      "Note: you may need to restart the kernel to use updated packages.\n"
     ]
    }
   ],
   "source": [
    "pip install taipy"
   ]
  },
  {
   "cell_type": "code",
   "execution_count": 2,
   "id": "c870cd8b",
   "metadata": {
    "id": "c870cd8b"
   },
   "outputs": [
    {
     "name": "stdout",
     "output_type": "stream",
     "text": [
      "Requirement already satisfied: pmdarima in c:\\users\\jacta\\anaconda3\\lib\\site-packages (1.8.5)\n",
      "Requirement already satisfied: scikit-learn>=0.22 in c:\\users\\jacta\\anaconda3\\lib\\site-packages (from pmdarima) (1.0.2)\n",
      "Requirement already satisfied: scipy>=1.3.2 in c:\\users\\jacta\\anaconda3\\lib\\site-packages (from pmdarima) (1.7.1)\n",
      "Requirement already satisfied: setuptools!=50.0.0,>=38.6.0 in c:\\users\\jacta\\anaconda3\\lib\\site-packages (from pmdarima) (52.0.0.post20210125)\n",
      "Requirement already satisfied: pandas>=0.19 in c:\\users\\jacta\\anaconda3\\lib\\site-packages (from pmdarima) (1.4.2)\n",
      "Requirement already satisfied: urllib3 in c:\\users\\jacta\\anaconda3\\lib\\site-packages (from pmdarima) (1.26.4)\n",
      "Requirement already satisfied: numpy>=1.19.3 in c:\\users\\jacta\\anaconda3\\lib\\site-packages (from pmdarima) (1.21.0)\n",
      "Requirement already satisfied: joblib>=0.11 in c:\\users\\jacta\\anaconda3\\lib\\site-packages (from pmdarima) (1.1.0)\n",
      "Requirement already satisfied: Cython!=0.29.18,>=0.29 in c:\\users\\jacta\\anaconda3\\lib\\site-packages (from pmdarima) (0.29.30)\n",
      "Requirement already satisfied: statsmodels!=0.12.0,>=0.11 in c:\\users\\jacta\\anaconda3\\lib\\site-packages (from pmdarima) (0.13.2)\n",
      "Requirement already satisfied: pytz>=2020.1 in c:\\users\\jacta\\anaconda3\\lib\\site-packages (from pandas>=0.19->pmdarima) (2022.1)\n",
      "Requirement already satisfied: python-dateutil>=2.8.1 in c:\\users\\jacta\\anaconda3\\lib\\site-packages (from pandas>=0.19->pmdarima) (2.8.1)\n",
      "Requirement already satisfied: six>=1.5 in c:\\users\\jacta\\anaconda3\\lib\\site-packages (from python-dateutil>=2.8.1->pandas>=0.19->pmdarima) (1.15.0)\n",
      "Requirement already satisfied: threadpoolctl>=2.0.0 in c:\\users\\jacta\\anaconda3\\lib\\site-packages (from scikit-learn>=0.22->pmdarima) (3.1.0)\n",
      "Requirement already satisfied: packaging>=21.3 in c:\\users\\jacta\\anaconda3\\lib\\site-packages (from statsmodels!=0.12.0,>=0.11->pmdarima) (21.3)\n",
      "Requirement already satisfied: patsy>=0.5.2 in c:\\users\\jacta\\anaconda3\\lib\\site-packages (from statsmodels!=0.12.0,>=0.11->pmdarima) (0.5.2)\n",
      "Requirement already satisfied: pyparsing!=3.0.5,>=2.0.2 in c:\\users\\jacta\\anaconda3\\lib\\site-packages (from packaging>=21.3->statsmodels!=0.12.0,>=0.11->pmdarima) (2.4.7)\n",
      "Note: you may need to restart the kernel to use updated packages.\n"
     ]
    }
   ],
   "source": [
    "pip install pmdarima"
   ]
  },
  {
   "cell_type": "code",
   "execution_count": 3,
   "id": "7186867d",
   "metadata": {
    "id": "7186867d"
   },
   "outputs": [
    {
     "name": "stdout",
     "output_type": "stream",
     "text": [
      "Requirement already satisfied: requests in c:\\users\\jacta\\anaconda3\\lib\\site-packages (2.25.1)\n",
      "Requirement already satisfied: chardet<5,>=3.0.2 in c:\\users\\jacta\\anaconda3\\lib\\site-packages (from requests) (4.0.0)\n",
      "Requirement already satisfied: urllib3<1.27,>=1.21.1 in c:\\users\\jacta\\anaconda3\\lib\\site-packages (from requests) (1.26.4)\n",
      "Requirement already satisfied: idna<3,>=2.5 in c:\\users\\jacta\\anaconda3\\lib\\site-packages (from requests) (2.10)\n",
      "Requirement already satisfied: certifi>=2017.4.17 in c:\\users\\jacta\\anaconda3\\lib\\site-packages (from requests) (2021.10.8)\n",
      "Note: you may need to restart the kernel to use updated packages.\n"
     ]
    }
   ],
   "source": [
    "pip install requests"
   ]
  },
  {
   "cell_type": "markdown",
   "id": "c42e5ded",
   "metadata": {
    "id": "c42e5ded"
   },
   "source": [
    "# Import the packages et initialization"
   ]
  },
  {
   "cell_type": "code",
   "execution_count": 4,
   "id": "d69871ac",
   "metadata": {
    "id": "d69871ac"
   },
   "outputs": [],
   "source": [
    "from taipy.gui import Gui, Markdown, notify\n",
    "from taipy import Config\n",
    "import taipy as tp\n",
    "\n",
    "import datetime as dt\n",
    "\n",
    "from pmdarima import auto_arima\n",
    "\n",
    "import pandas as pd\n",
    "import numpy as np\n",
    "\n",
    "import requests"
   ]
  },
  {
   "cell_type": "code",
   "execution_count": 5,
   "id": "62085243",
   "metadata": {
    "id": "62085243"
   },
   "outputs": [],
   "source": [
    "from pandas.core.common import SettingWithCopyWarning\n",
    "import warnings\n",
    "\n",
    "warnings.simplefilter(action=\"ignore\", category=SettingWithCopyWarning)\n",
    "\n",
    "data_country_date = None\n",
    "selected_country = None\n",
    "\n",
    "selected_scenario = None\n",
    "scenario_selector = None\n",
    "\n",
    "first_date = None\n",
    "\n",
    "scenario_name = None\n",
    "\n",
    "result = None\n",
    "\n",
    "selected_points = []\n",
    "\n",
    "data_province_displayed = None\n",
    "\n",
    "api_year = None\n",
    "api_pop = None\n",
    "api_country = None"
   ]
  },
  {
   "cell_type": "markdown",
   "id": "81074375",
   "metadata": {
    "id": "81074375"
   },
   "source": [
    "# Taipy Gui Basics\n",
    "## Markdown Syntax"
   ]
  },
  {
   "cell_type": "markdown",
   "id": "8ad49481",
   "metadata": {
    "id": "8ad49481"
   },
   "source": [
    "Taipy uses the Markdown syntax to display elements. `#` creates a title, `*` puts your text in italics and `**` puts it in bold."
   ]
  },
  {
   "cell_type": "markdown",
   "id": "929a56cf",
   "metadata": {
    "id": "929a56cf"
   },
   "source": [
    "![](img/gui_basic.png)"
   ]
  },
  {
   "cell_type": "code",
   "execution_count": 6,
   "id": "a170a8e5",
   "metadata": {
    "id": "a170a8e5"
   },
   "outputs": [],
   "source": [
    "page_md = \"\"\"\n",
    "# Taipy\n",
    "\n",
    "Test **here** to put some *markdown*\n",
    "\n",
    "Click to access the [doc](https://docs.taipy.io/en/latest/)\n",
    "\"\"\""
   ]
  },
  {
   "cell_type": "code",
   "execution_count": 7,
   "id": "1cf6cf9d",
   "metadata": {
    "id": "1cf6cf9d",
    "outputId": "d69b4a02-2df5-4830-a043-9c2b5a423d0b"
   },
   "outputs": [
    {
     "name": "stdout",
     "output_type": "stream",
     "text": [
      " * Server starting on http://127.0.0.1:8000\n",
      " * Serving Flask app 'Taipy' (lazy loading)\n",
      " * Environment: production\n",
      "\u001b[31m   WARNING: This is a development server. Do not use it in a production deployment.\u001b[0m\n",
      "\u001b[2m   Use a production WSGI server instead.\u001b[0m\n",
      " * Debug mode: off\n"
     ]
    }
   ],
   "source": [
    "page = Markdown(page_md)\n",
    "\n",
    "gui = Gui(page=page)\n",
    "gui.run(dark_mode=False,  port=8000)"
   ]
  },
  {
   "cell_type": "markdown",
   "id": "ea452214",
   "metadata": {
    "id": "ea452214"
   },
   "source": [
    "## Visual elements\n",
    "Create different visual elements. The syntax is always the same for each visual element.  `<|{value}|name_of_visual_element|property_1=value_of_property_1|...|>`\n",
    "- Create a [slider](https://docs.taipy.io/en/latest/manuals/gui/viselements/slider/) `<|{value}|slider|>`\n",
    "\n",
    "- Create a [date](https://docs.taipy.io/en/latest/manuals/gui/viselements/date/) `<|{value}|date|>`\n",
    "\n",
    "- Create a [selector](https://docs.taipy.io/en/latest/manuals/gui/viselements/selector/) `<|{value}|selector|lov={list_of_values}|>`\n"
   ]
  },
  {
   "cell_type": "markdown",
   "id": "68f228f9",
   "metadata": {
    "id": "68f228f9"
   },
   "source": [
    "![](img/control.png)"
   ]
  },
  {
   "cell_type": "code",
   "execution_count": 8,
   "id": "eb6455bd",
   "metadata": {
    "id": "eb6455bd"
   },
   "outputs": [],
   "source": [
    "slider_value = 0\n",
    "date_value = None\n",
    "selected_value = None"
   ]
  },
  {
   "cell_type": "code",
   "execution_count": 9,
   "id": "bc42cca4",
   "metadata": {
    "id": "bc42cca4"
   },
   "outputs": [],
   "source": [
    "selector = ['Test 1', 'Test 2', 'Test 3']\n",
    "\n",
    "control_md = \"\"\"\n",
    "## Controls\n",
    "\n",
    "<|{slider_value}|slider|> <|{slider_value}|>\n",
    "\n",
    "<|{date_value}|date|> <|{date_value}|>\n",
    "\n",
    "<|{selected_value}|selector|lov={selector}|>  <|{selected_value}|>\n",
    "\"\"\""
   ]
  },
  {
   "cell_type": "code",
   "execution_count": 10,
   "id": "5986d8a8",
   "metadata": {
    "id": "5986d8a8",
    "outputId": "7691b852-4d69-4402-f02e-53d5feb44529"
   },
   "outputs": [
    {
     "name": "stdout",
     "output_type": "stream",
     "text": [
      "Gui server has been stopped\n",
      " * Server starting on http://127.0.0.1:8000\n",
      " * Serving Flask app 'Taipy' (lazy loading)\n",
      " * Environment: production\n",
      "\u001b[31m   WARNING: This is a development server. Do not use it in a production deployment.\u001b[0m\n",
      "\u001b[2m   Use a production WSGI server instead.\u001b[0m\n",
      " * Debug mode: off\n"
     ]
    }
   ],
   "source": [
    "gui.stop()\n",
    "page.set_content(control_md)\n",
    "gui.run()"
   ]
  },
  {
   "cell_type": "markdown",
   "id": "b4ac0541",
   "metadata": {
    "id": "b4ac0541"
   },
   "source": [
    "## Data Viz\n",
    "\n",
    "A dataset gathering information on the number of deaths, confirmed cases and recovered for different regions is going to be used to create an interactive Dashboard."
   ]
  },
  {
   "cell_type": "code",
   "execution_count": 11,
   "id": "49bd29ff",
   "metadata": {
    "id": "49bd29ff",
    "outputId": "b0900888-a15b-4af2-a97d-f796aa28cc46"
   },
   "outputs": [
    {
     "data": {
      "text/html": [
       "<div>\n",
       "<style scoped>\n",
       "    .dataframe tbody tr th:only-of-type {\n",
       "        vertical-align: middle;\n",
       "    }\n",
       "\n",
       "    .dataframe tbody tr th {\n",
       "        vertical-align: top;\n",
       "    }\n",
       "\n",
       "    .dataframe thead th {\n",
       "        text-align: right;\n",
       "    }\n",
       "</style>\n",
       "<table border=\"1\" class=\"dataframe\">\n",
       "  <thead>\n",
       "    <tr style=\"text-align: right;\">\n",
       "      <th></th>\n",
       "      <th>Country/Region</th>\n",
       "      <th>Province/State</th>\n",
       "      <th>Latitude</th>\n",
       "      <th>Longitude</th>\n",
       "      <th>Confirmed</th>\n",
       "      <th>Recovered</th>\n",
       "      <th>Deaths</th>\n",
       "      <th>Date</th>\n",
       "    </tr>\n",
       "  </thead>\n",
       "  <tbody>\n",
       "    <tr>\n",
       "      <th>1241947</th>\n",
       "      <td>Vietnam</td>\n",
       "      <td>NaN</td>\n",
       "      <td>14.058324</td>\n",
       "      <td>108.277199</td>\n",
       "      <td>1465.0</td>\n",
       "      <td>1325.0</td>\n",
       "      <td>35.0</td>\n",
       "      <td>2020-12-31</td>\n",
       "    </tr>\n",
       "    <tr>\n",
       "      <th>1241948</th>\n",
       "      <td>West Bank and Gaza</td>\n",
       "      <td>NaN</td>\n",
       "      <td>31.952200</td>\n",
       "      <td>35.233200</td>\n",
       "      <td>138004.0</td>\n",
       "      <td>117183.0</td>\n",
       "      <td>1400.0</td>\n",
       "      <td>2020-12-31</td>\n",
       "    </tr>\n",
       "    <tr>\n",
       "      <th>1241949</th>\n",
       "      <td>Yemen</td>\n",
       "      <td>NaN</td>\n",
       "      <td>15.552727</td>\n",
       "      <td>48.516388</td>\n",
       "      <td>2099.0</td>\n",
       "      <td>1394.0</td>\n",
       "      <td>610.0</td>\n",
       "      <td>2020-12-31</td>\n",
       "    </tr>\n",
       "    <tr>\n",
       "      <th>1241950</th>\n",
       "      <td>Zambia</td>\n",
       "      <td>NaN</td>\n",
       "      <td>-13.133897</td>\n",
       "      <td>27.849332</td>\n",
       "      <td>20725.0</td>\n",
       "      <td>18660.0</td>\n",
       "      <td>388.0</td>\n",
       "      <td>2020-12-31</td>\n",
       "    </tr>\n",
       "    <tr>\n",
       "      <th>1241951</th>\n",
       "      <td>Zimbabwe</td>\n",
       "      <td>NaN</td>\n",
       "      <td>-19.015438</td>\n",
       "      <td>29.154857</td>\n",
       "      <td>13867.0</td>\n",
       "      <td>11250.0</td>\n",
       "      <td>363.0</td>\n",
       "      <td>2020-12-31</td>\n",
       "    </tr>\n",
       "  </tbody>\n",
       "</table>\n",
       "</div>"
      ],
      "text/plain": [
       "             Country/Region Province/State   Latitude   Longitude  Confirmed  \\\n",
       "1241947             Vietnam            NaN  14.058324  108.277199     1465.0   \n",
       "1241948  West Bank and Gaza            NaN  31.952200   35.233200   138004.0   \n",
       "1241949               Yemen            NaN  15.552727   48.516388     2099.0   \n",
       "1241950              Zambia            NaN -13.133897   27.849332    20725.0   \n",
       "1241951            Zimbabwe            NaN -19.015438   29.154857    13867.0   \n",
       "\n",
       "         Recovered  Deaths        Date  \n",
       "1241947     1325.0    35.0  2020-12-31  \n",
       "1241948   117183.0  1400.0  2020-12-31  \n",
       "1241949     1394.0   610.0  2020-12-31  \n",
       "1241950    18660.0   388.0  2020-12-31  \n",
       "1241951    11250.0   363.0  2020-12-31  "
      ]
     },
     "execution_count": 11,
     "metadata": {},
     "output_type": "execute_result"
    }
   ],
   "source": [
    "path_to_data = \"data/covid-19-all.csv\"\n",
    "data = pd.read_csv(path_to_data, low_memory=False)\n",
    "data[-5:]"
   ]
  },
  {
   "cell_type": "code",
   "execution_count": 12,
   "id": "18b5bb55",
   "metadata": {
    "id": "18b5bb55"
   },
   "outputs": [],
   "source": [
    "def initialize_case_evolution(data, selected_country='France'):\n",
    "    # Aggregation of the dataframe per Country/Region\n",
    "    data_country_date = data.groupby([\"Country/Region\",'Date'])\\\n",
    "                            .sum()\\\n",
    "                            .reset_index()\n",
    "    \n",
    "    # a country is selected, here France by default\n",
    "    data_country_date = data_country_date.loc[data_country_date['Country/Region']==selected_country]\n",
    "    return data_country_date"
   ]
  },
  {
   "cell_type": "code",
   "execution_count": 13,
   "id": "f5ae821c",
   "metadata": {
    "id": "f5ae821c",
    "outputId": "0ca17075-c088-437a-b6e3-48a798a0bdde"
   },
   "outputs": [
    {
     "data": {
      "text/html": [
       "<div>\n",
       "<style scoped>\n",
       "    .dataframe tbody tr th:only-of-type {\n",
       "        vertical-align: middle;\n",
       "    }\n",
       "\n",
       "    .dataframe tbody tr th {\n",
       "        vertical-align: top;\n",
       "    }\n",
       "\n",
       "    .dataframe thead th {\n",
       "        text-align: right;\n",
       "    }\n",
       "</style>\n",
       "<table border=\"1\" class=\"dataframe\">\n",
       "  <thead>\n",
       "    <tr style=\"text-align: right;\">\n",
       "      <th></th>\n",
       "      <th>Country/Region</th>\n",
       "      <th>Date</th>\n",
       "      <th>Latitude</th>\n",
       "      <th>Longitude</th>\n",
       "      <th>Confirmed</th>\n",
       "      <th>Recovered</th>\n",
       "      <th>Deaths</th>\n",
       "    </tr>\n",
       "  </thead>\n",
       "  <tbody>\n",
       "    <tr>\n",
       "      <th>18101</th>\n",
       "      <td>France</td>\n",
       "      <td>2020-01-24</td>\n",
       "      <td>14.6415</td>\n",
       "      <td>-56.3159</td>\n",
       "      <td>2.0</td>\n",
       "      <td>0.0</td>\n",
       "      <td>0.0</td>\n",
       "    </tr>\n",
       "    <tr>\n",
       "      <th>18102</th>\n",
       "      <td>France</td>\n",
       "      <td>2020-01-25</td>\n",
       "      <td>14.6415</td>\n",
       "      <td>-56.3159</td>\n",
       "      <td>3.0</td>\n",
       "      <td>0.0</td>\n",
       "      <td>0.0</td>\n",
       "    </tr>\n",
       "    <tr>\n",
       "      <th>18103</th>\n",
       "      <td>France</td>\n",
       "      <td>2020-01-26</td>\n",
       "      <td>14.6415</td>\n",
       "      <td>-56.3159</td>\n",
       "      <td>3.0</td>\n",
       "      <td>0.0</td>\n",
       "      <td>0.0</td>\n",
       "    </tr>\n",
       "    <tr>\n",
       "      <th>18104</th>\n",
       "      <td>France</td>\n",
       "      <td>2020-01-27</td>\n",
       "      <td>14.6415</td>\n",
       "      <td>-56.3159</td>\n",
       "      <td>3.0</td>\n",
       "      <td>0.0</td>\n",
       "      <td>0.0</td>\n",
       "    </tr>\n",
       "    <tr>\n",
       "      <th>18105</th>\n",
       "      <td>France</td>\n",
       "      <td>2020-01-28</td>\n",
       "      <td>14.6415</td>\n",
       "      <td>-56.3159</td>\n",
       "      <td>4.0</td>\n",
       "      <td>0.0</td>\n",
       "      <td>0.0</td>\n",
       "    </tr>\n",
       "  </tbody>\n",
       "</table>\n",
       "</div>"
      ],
      "text/plain": [
       "      Country/Region        Date  Latitude  Longitude  Confirmed  Recovered  \\\n",
       "18101         France  2020-01-24   14.6415   -56.3159        2.0        0.0   \n",
       "18102         France  2020-01-25   14.6415   -56.3159        3.0        0.0   \n",
       "18103         France  2020-01-26   14.6415   -56.3159        3.0        0.0   \n",
       "18104         France  2020-01-27   14.6415   -56.3159        3.0        0.0   \n",
       "18105         France  2020-01-28   14.6415   -56.3159        4.0        0.0   \n",
       "\n",
       "       Deaths  \n",
       "18101     0.0  \n",
       "18102     0.0  \n",
       "18103     0.0  \n",
       "18104     0.0  \n",
       "18105     0.0  "
      ]
     },
     "execution_count": 13,
     "metadata": {},
     "output_type": "execute_result"
    }
   ],
   "source": [
    "data_country_date = initialize_case_evolution(data)\n",
    "data_country_date.head()"
   ]
  },
  {
   "cell_type": "markdown",
   "id": "d1fd9854",
   "metadata": {
    "id": "d1fd9854"
   },
   "source": [
    "Create a [chart](https://docs.taipy.io/en/latest/manuals/gui/viselements/chart/) showing the evolution of Deaths in France (_Deaths_ for _y_ and _Date_ for _x_). The visual element (chart) has the same syntax as the other ones with specific properties (_x_, _y_, _type_ for example). Here are some [examples of charts](https://docs.taipy.io/en/release-1.1/manuals/gui/viselements/charts/bar/). The _x_ and _y_ porperties only needs the name of the dataframe columns to display."
   ]
  },
  {
   "cell_type": "markdown",
   "id": "bebeb0eb",
   "metadata": {
    "id": "bebeb0eb"
   },
   "source": [
    "![](img/simple_graph.png)"
   ]
  },
  {
   "cell_type": "code",
   "execution_count": 14,
   "id": "baa8dc69",
   "metadata": {
    "id": "baa8dc69"
   },
   "outputs": [],
   "source": [
    "country_md = \"<|{data_country_date}|chart|x=Date|y=Deaths|type=bar|>\""
   ]
  },
  {
   "cell_type": "code",
   "execution_count": 15,
   "id": "e83c2f04",
   "metadata": {
    "id": "e83c2f04",
    "outputId": "3e87cb87-81c4-4a45-8b35-156a2621457c"
   },
   "outputs": [
    {
     "name": "stdout",
     "output_type": "stream",
     "text": [
      "Gui server has been stopped\n",
      " * Server starting on http://127.0.0.1:8000\n",
      " * Serving Flask app 'Taipy' (lazy loading)\n",
      " * Environment: production\n",
      "\u001b[31m   WARNING: This is a development server. Do not use it in a production deployment.\u001b[0m\n",
      "\u001b[2m   Use a production WSGI server instead.\u001b[0m\n",
      " * Debug mode: off\n"
     ]
    }
   ],
   "source": [
    "gui.stop()\n",
    "page.set_content(country_md)\n",
    "gui.run()"
   ]
  },
  {
   "cell_type": "markdown",
   "id": "6580b5fe",
   "metadata": {
    "id": "6580b5fe"
   },
   "source": [
    "## Add new traces\n",
    "\n",
    "- Add on the graph the number of Confirmed and Recovered cases (_Confirmed_ and _Recovered_) with the number of Deaths\n",
    "- _y_ (and _x_) can be indexed this way to add more traces (`y[1]=`, `y[2]=`, `y[3]=`)."
   ]
  },
  {
   "cell_type": "markdown",
   "id": "baf9d2b6",
   "metadata": {
    "id": "baf9d2b6"
   },
   "source": [
    "![](img/multi_traces.png)"
   ]
  },
  {
   "cell_type": "code",
   "execution_count": 16,
   "id": "242756d9",
   "metadata": {
    "id": "242756d9"
   },
   "outputs": [],
   "source": [
    "country_md = \"<|{data_country_date}|chart|type=bar|x=Date|y[1]=Deaths|y[2]=Recovered|y[3]=Confirmed|>\""
   ]
  },
  {
   "cell_type": "code",
   "execution_count": 17,
   "id": "4f65f1a2",
   "metadata": {
    "id": "4f65f1a2",
    "outputId": "10b40d69-445e-4a73-f69f-0f67fc5a4b9a"
   },
   "outputs": [
    {
     "name": "stdout",
     "output_type": "stream",
     "text": [
      "Gui server has been stopped\n",
      " * Server starting on http://127.0.0.1:8000\n",
      " * Serving Flask app 'Taipy' (lazy loading)\n",
      " * Environment: production\n",
      "\u001b[31m   WARNING: This is a development server. Do not use it in a production deployment.\u001b[0m\n",
      "\u001b[2m   Use a production WSGI server instead.\u001b[0m\n",
      " * Debug mode: off\n"
     ]
    }
   ],
   "source": [
    "gui.stop()\n",
    "page.set_content(country_md)\n",
    "gui.run()"
   ]
  },
  {
   "cell_type": "markdown",
   "id": "f84e0a88",
   "metadata": {
    "id": "f84e0a88"
   },
   "source": [
    "## Style the graph with personnalized properties\n",
    "The _layout_ dictionnary specifies how bars should be displayed. They would be 'stacked'.\n",
    "\n",
    "The _options_ dictionary will change the opacity of the unselected markers.\n",
    "\n",
    "These are Plotly properties."
   ]
  },
  {
   "cell_type": "markdown",
   "id": "99c5d669",
   "metadata": {
    "id": "99c5d669"
   },
   "source": [
    "![](img/stack_chart.png)"
   ]
  },
  {
   "cell_type": "code",
   "execution_count": 18,
   "id": "f068e3ba",
   "metadata": {
    "id": "f068e3ba"
   },
   "outputs": [],
   "source": [
    "layout = {'barmode':'stack'}\n",
    "options = {\"unselected\":{\"marker\":{\"opacity\":0.5}}}\n",
    "country_md = \"<|{data_country_date}|chart|type=bar|x=Date|y[1]=Deaths|y[2]=Recovered|y[3]=Confirmed|layout={layout}|options={options}|>\""
   ]
  },
  {
   "cell_type": "code",
   "execution_count": 19,
   "id": "dfa787fb",
   "metadata": {
    "id": "dfa787fb",
    "outputId": "fa1a08c7-a1ed-4dde-c9c5-06cdd0db8872"
   },
   "outputs": [
    {
     "name": "stdout",
     "output_type": "stream",
     "text": [
      "Gui server has been stopped\n",
      " * Server starting on http://127.0.0.1:8000\n",
      " * Serving Flask app 'Taipy' (lazy loading)\n",
      " * Environment: production\n",
      "\u001b[31m   WARNING: This is a development server. Do not use it in a production deployment.\u001b[0m\n",
      "\u001b[2m   Use a production WSGI server instead.\u001b[0m\n",
      " * Debug mode: off\n"
     ]
    }
   ],
   "source": [
    "gui.stop()\n",
    "page.set_content(country_md)\n",
    "gui.run()"
   ]
  },
  {
   "cell_type": "markdown",
   "id": "cd4d0268",
   "metadata": {
    "id": "cd4d0268"
   },
   "source": [
    "## Add texts that sums up the data\n",
    "\n",
    "Use the [text](https://docs.taipy.io/en/latest/manuals/gui/viselements/text/) visual element.\n",
    "\n",
    "- Add the total number of Deaths (last line of _data_country_date_)\n",
    "- Add the total number of Recovered (last line of _data_country_date_)\n",
    "- Add the total number of Confirmed (last line of _data_country_date_)\n"
   ]
  },
  {
   "cell_type": "code",
   "execution_count": 20,
   "id": "f9060a46",
   "metadata": {
    "id": "f9060a46",
    "outputId": "0d12534f-60a6-4acf-c555-5a6babd1c3d4"
   },
   "outputs": [
    {
     "data": {
      "text/html": [
       "<div>\n",
       "<style scoped>\n",
       "    .dataframe tbody tr th:only-of-type {\n",
       "        vertical-align: middle;\n",
       "    }\n",
       "\n",
       "    .dataframe tbody tr th {\n",
       "        vertical-align: top;\n",
       "    }\n",
       "\n",
       "    .dataframe thead th {\n",
       "        text-align: right;\n",
       "    }\n",
       "</style>\n",
       "<table border=\"1\" class=\"dataframe\">\n",
       "  <thead>\n",
       "    <tr style=\"text-align: right;\">\n",
       "      <th></th>\n",
       "      <th>Country/Region</th>\n",
       "      <th>Date</th>\n",
       "      <th>Latitude</th>\n",
       "      <th>Longitude</th>\n",
       "      <th>Confirmed</th>\n",
       "      <th>Recovered</th>\n",
       "      <th>Deaths</th>\n",
       "    </tr>\n",
       "  </thead>\n",
       "  <tbody>\n",
       "    <tr>\n",
       "      <th>18101</th>\n",
       "      <td>France</td>\n",
       "      <td>2020-01-24</td>\n",
       "      <td>14.641500</td>\n",
       "      <td>-56.315900</td>\n",
       "      <td>2.0</td>\n",
       "      <td>0.0</td>\n",
       "      <td>0.0</td>\n",
       "    </tr>\n",
       "    <tr>\n",
       "      <th>18102</th>\n",
       "      <td>France</td>\n",
       "      <td>2020-01-25</td>\n",
       "      <td>14.641500</td>\n",
       "      <td>-56.315900</td>\n",
       "      <td>3.0</td>\n",
       "      <td>0.0</td>\n",
       "      <td>0.0</td>\n",
       "    </tr>\n",
       "    <tr>\n",
       "      <th>18103</th>\n",
       "      <td>France</td>\n",
       "      <td>2020-01-26</td>\n",
       "      <td>14.641500</td>\n",
       "      <td>-56.315900</td>\n",
       "      <td>3.0</td>\n",
       "      <td>0.0</td>\n",
       "      <td>0.0</td>\n",
       "    </tr>\n",
       "    <tr>\n",
       "      <th>18104</th>\n",
       "      <td>France</td>\n",
       "      <td>2020-01-27</td>\n",
       "      <td>14.641500</td>\n",
       "      <td>-56.315900</td>\n",
       "      <td>3.0</td>\n",
       "      <td>0.0</td>\n",
       "      <td>0.0</td>\n",
       "    </tr>\n",
       "    <tr>\n",
       "      <th>18105</th>\n",
       "      <td>France</td>\n",
       "      <td>2020-01-28</td>\n",
       "      <td>14.641500</td>\n",
       "      <td>-56.315900</td>\n",
       "      <td>4.0</td>\n",
       "      <td>0.0</td>\n",
       "      <td>0.0</td>\n",
       "    </tr>\n",
       "    <tr>\n",
       "      <th>...</th>\n",
       "      <td>...</td>\n",
       "      <td>...</td>\n",
       "      <td>...</td>\n",
       "      <td>...</td>\n",
       "      <td>...</td>\n",
       "      <td>...</td>\n",
       "      <td>...</td>\n",
       "    </tr>\n",
       "    <tr>\n",
       "      <th>18439</th>\n",
       "      <td>France</td>\n",
       "      <td>2020-12-27</td>\n",
       "      <td>91.463495</td>\n",
       "      <td>-238.646914</td>\n",
       "      <td>2616510.0</td>\n",
       "      <td>195861.0</td>\n",
       "      <td>62867.0</td>\n",
       "    </tr>\n",
       "    <tr>\n",
       "      <th>18440</th>\n",
       "      <td>France</td>\n",
       "      <td>2020-12-28</td>\n",
       "      <td>91.463495</td>\n",
       "      <td>-238.646914</td>\n",
       "      <td>2619616.0</td>\n",
       "      <td>196642.0</td>\n",
       "      <td>63235.0</td>\n",
       "    </tr>\n",
       "    <tr>\n",
       "      <th>18441</th>\n",
       "      <td>France</td>\n",
       "      <td>2020-12-29</td>\n",
       "      <td>91.463495</td>\n",
       "      <td>-238.646914</td>\n",
       "      <td>2631110.0</td>\n",
       "      <td>197726.0</td>\n",
       "      <td>64204.0</td>\n",
       "    </tr>\n",
       "    <tr>\n",
       "      <th>18442</th>\n",
       "      <td>France</td>\n",
       "      <td>2020-12-30</td>\n",
       "      <td>91.463495</td>\n",
       "      <td>-238.646914</td>\n",
       "      <td>2657624.0</td>\n",
       "      <td>198966.0</td>\n",
       "      <td>64508.0</td>\n",
       "    </tr>\n",
       "    <tr>\n",
       "      <th>18443</th>\n",
       "      <td>France</td>\n",
       "      <td>2020-12-31</td>\n",
       "      <td>91.463495</td>\n",
       "      <td>-238.646914</td>\n",
       "      <td>2677666.0</td>\n",
       "      <td>200142.0</td>\n",
       "      <td>64759.0</td>\n",
       "    </tr>\n",
       "  </tbody>\n",
       "</table>\n",
       "<p>343 rows × 7 columns</p>\n",
       "</div>"
      ],
      "text/plain": [
       "      Country/Region        Date   Latitude   Longitude  Confirmed  Recovered  \\\n",
       "18101         France  2020-01-24  14.641500  -56.315900        2.0        0.0   \n",
       "18102         France  2020-01-25  14.641500  -56.315900        3.0        0.0   \n",
       "18103         France  2020-01-26  14.641500  -56.315900        3.0        0.0   \n",
       "18104         France  2020-01-27  14.641500  -56.315900        3.0        0.0   \n",
       "18105         France  2020-01-28  14.641500  -56.315900        4.0        0.0   \n",
       "...              ...         ...        ...         ...        ...        ...   \n",
       "18439         France  2020-12-27  91.463495 -238.646914  2616510.0   195861.0   \n",
       "18440         France  2020-12-28  91.463495 -238.646914  2619616.0   196642.0   \n",
       "18441         France  2020-12-29  91.463495 -238.646914  2631110.0   197726.0   \n",
       "18442         France  2020-12-30  91.463495 -238.646914  2657624.0   198966.0   \n",
       "18443         France  2020-12-31  91.463495 -238.646914  2677666.0   200142.0   \n",
       "\n",
       "        Deaths  \n",
       "18101      0.0  \n",
       "18102      0.0  \n",
       "18103      0.0  \n",
       "18104      0.0  \n",
       "18105      0.0  \n",
       "...        ...  \n",
       "18439  62867.0  \n",
       "18440  63235.0  \n",
       "18441  64204.0  \n",
       "18442  64508.0  \n",
       "18443  64759.0  \n",
       "\n",
       "[343 rows x 7 columns]"
      ]
     },
     "execution_count": 20,
     "metadata": {},
     "output_type": "execute_result"
    }
   ],
   "source": [
    "data_country_date"
   ]
  },
  {
   "cell_type": "markdown",
   "id": "ec27c620",
   "metadata": {
    "id": "ec27c620"
   },
   "source": [
    "This is how we can get the total number of Deaths from the daatset for France."
   ]
  },
  {
   "cell_type": "code",
   "execution_count": 21,
   "id": "c0a73440",
   "metadata": {
    "id": "c0a73440",
    "outputId": "642a8cff-1c8f-4748-af5e-7b4dc70d9627"
   },
   "outputs": [
    {
     "data": {
      "text/plain": [
       "64759.0"
      ]
     },
     "execution_count": 21,
     "metadata": {},
     "output_type": "execute_result"
    }
   ],
   "source": [
    "data_country_date.iloc[-1, 6] # gives the number of deaths for France (5 is for recovered and 4 is confirmed)"
   ]
  },
  {
   "cell_type": "markdown",
   "id": "4a043817",
   "metadata": {
    "id": "4a043817"
   },
   "source": [
    "Use the [text](https://docs.taipy.io/en/release-1.1/manuals/gui/viselements/text/) visual element. Note that between `{}`, any Python variable can be put but also any Python code."
   ]
  },
  {
   "cell_type": "markdown",
   "id": "8b5b47ec",
   "metadata": {
    "id": "8b5b47ec"
   },
   "source": [
    "![](img/control_text.png)"
   ]
  },
  {
   "cell_type": "code",
   "execution_count": 22,
   "id": "beab9af4",
   "metadata": {
    "id": "beab9af4"
   },
   "outputs": [],
   "source": [
    "country_md = \"\"\"\n",
    "## Deaths <|{data_country_date.iloc[-1, 6]}|text|>\n",
    "\n",
    "## Recovered <|{data_country_date.iloc[-1, 5]}|text|>\n",
    "\n",
    "## Confirmed <|{data_country_date.iloc[-1, 4]}|text|>\n",
    "\n",
    "<|{data_country_date}|chart|type=bar|x=Date|y[1]=Deaths|y[2]=Recovered|y[3]=Confirmed|layout={layout}|options={options}|>\n",
    "\"\"\""
   ]
  },
  {
   "cell_type": "code",
   "execution_count": 23,
   "id": "1b8e26f5",
   "metadata": {
    "id": "1b8e26f5",
    "outputId": "cde6776e-5097-4743-ce8d-23bc29819b1d"
   },
   "outputs": [
    {
     "name": "stdout",
     "output_type": "stream",
     "text": [
      "Gui server has been stopped\n",
      " * Server starting on http://127.0.0.1:8000\n",
      " * Serving Flask app 'Taipy' (lazy loading)\n",
      " * Environment: production\n",
      "\u001b[31m   WARNING: This is a development server. Do not use it in a production deployment.\u001b[0m\n",
      "\u001b[2m   Use a production WSGI server instead.\u001b[0m\n",
      " * Debug mode: off\n"
     ]
    }
   ],
   "source": [
    "gui.stop()\n",
    "page.set_content(country_md)\n",
    "gui.run()"
   ]
  },
  {
   "cell_type": "markdown",
   "id": "f48f94cd",
   "metadata": {
    "id": "f48f94cd"
   },
   "source": [
    "## Local _on_change_\n",
    "\n",
    "- Add a [selector](https://docs.taipy.io/en/latest/manuals/gui/viselements/selector/) with `dropdown=True` containing the name of all the _Country/region_\n",
    "- Give to the _on_change_ selector property the name of the _on_change_country_ function. This function will be called when the selector will be used.\n",
    "- This function has a 'state' parameter and has to be completed. When the selector is used, this function is called with the _state_ argument. It contains all the Gui variables; 'state.data_country_date' is then the dataframe used in the Gui."
   ]
  },
  {
   "cell_type": "markdown",
   "id": "35953a48",
   "metadata": {
    "id": "35953a48"
   },
   "source": [
    "![](img/on_change_local.png)"
   ]
  },
  {
   "cell_type": "code",
   "execution_count": 24,
   "id": "ed63f76a",
   "metadata": {
    "id": "ed63f76a"
   },
   "outputs": [],
   "source": [
    "selector_country = list(data['Country/Region'].astype(str).unique())\n",
    "selected_country = 'France'\n",
    "\n",
    "country_md = \"\"\"\n",
    "<|{selected_country}|selector|lov={selector_country}|on_change=on_change_country|dropdown|label=Country|>\n",
    "\n",
    "## Deaths <|{data_country_date.iloc[-1, 6]}|>\n",
    "\n",
    "## Recovered <|{data_country_date.iloc[-1, 5]}|>\n",
    "\n",
    "## Confirmed <|{data_country_date.iloc[-1, 4]}|>\n",
    "\n",
    "<|{data_country_date}|chart|type=bar|x=Date|y[1]=Deaths|y[2]=Recovered|y[3]=Confirmed|layout={layout}|options={options}|>\n",
    "\"\"\""
   ]
  },
  {
   "cell_type": "code",
   "execution_count": 25,
   "id": "42e91877",
   "metadata": {
    "id": "42e91877"
   },
   "outputs": [],
   "source": [
    "def on_change_country(state):\n",
    "    # state contains all the Gui variables and this is through this state variable that we can update the Gui\n",
    "    # state.selected_country, state.data_country_date, ...\n",
    "    # update data_country_date with the right country (use initialize_case_evolution)\n",
    "    print(\"Chosen country: \", state.selected_country)\n",
    "    state.data_country_date = initialize_case_evolution(data, state.selected_country)"
   ]
  },
  {
   "cell_type": "code",
   "execution_count": 26,
   "id": "8f2541f5",
   "metadata": {
    "id": "8f2541f5",
    "outputId": "dd07a1b2-283d-4a53-aa71-a432c4a29645"
   },
   "outputs": [
    {
     "name": "stdout",
     "output_type": "stream",
     "text": [
      "Gui server has been stopped\n",
      " * Server starting on http://127.0.0.1:8000\n",
      " * Serving Flask app 'Taipy' (lazy loading)\n",
      " * Environment: production\n",
      "\u001b[31m   WARNING: This is a development server. Do not use it in a production deployment.\u001b[0m\n",
      "\u001b[2m   Use a production WSGI server instead.\u001b[0m\n",
      " * Debug mode: off\n"
     ]
    }
   ],
   "source": [
    "gui.stop()\n",
    "page.set_content(country_md)\n",
    "gui.run()"
   ]
  },
  {
   "cell_type": "markdown",
   "id": "6e528ce2",
   "metadata": {
    "id": "6e528ce2"
   },
   "source": [
    "## Layout\n",
    "\n",
    "Use the [layout](https://docs.taipy.io/en/latest/manuals/gui/viselements/layout/) block to change the page structure. This block creates invisible columns to put text/visual elements in.\n",
    "\n",
    "Syntax :\n",
    "```\n",
    "<|layout|columns=1 1 1 ...|\n",
    "(first column)\n",
    "\n",
    "(in second column)\n",
    "\n",
    "(third column)\n",
    "(again, third column)\n",
    "\n",
    "(...)\n",
    "|>\n",
    "```"
   ]
  },
  {
   "cell_type": "code",
   "execution_count": 27,
   "id": "f89fd2fb",
   "metadata": {
    "id": "f89fd2fb"
   },
   "outputs": [],
   "source": [
    "final_country_md = \"\"\"\n",
    "<|layout|columns=1 1 1 1|\n",
    "<|{selected_country}|selector|lov={selector_country}|on_change=on_change_country|dropdown|label=Country|>\n",
    "\n",
    "## Deaths <|{data_country_date.iloc[-1, 6]}|>\n",
    "\n",
    "## Recovered <|{data_country_date.iloc[-1, 5]}|>\n",
    "\n",
    "## Confirmed <|{data_country_date.iloc[-1, 4]}|>\n",
    "|>\n",
    "\n",
    "<|{data_country_date}|chart|type=bar|x=Date|y[1]=Deaths|y[2]=Recovered|y[3]=Confirmed|layout={layout}|options={options}|>\n",
    "\"\"\""
   ]
  },
  {
   "cell_type": "code",
   "execution_count": 28,
   "id": "a349a33f",
   "metadata": {
    "id": "a349a33f",
    "outputId": "aa184e5c-74a5-4646-cd3a-d83bcfb5cbed"
   },
   "outputs": [
    {
     "name": "stdout",
     "output_type": "stream",
     "text": [
      "Gui server has been stopped\n",
      " * Server starting on http://127.0.0.1:8000\n",
      " * Serving Flask app 'Taipy' (lazy loading)\n",
      " * Environment: production\n",
      "\u001b[31m   WARNING: This is a development server. Do not use it in a production deployment.\u001b[0m\n",
      "\u001b[2m   Use a production WSGI server instead.\u001b[0m\n",
      " * Debug mode: off\n"
     ]
    }
   ],
   "source": [
    "gui.stop()\n",
    "page.set_content(final_country_md)\n",
    "gui.run()"
   ]
  },
  {
   "cell_type": "markdown",
   "id": "f63dcc18",
   "metadata": {
    "id": "f63dcc18"
   },
   "source": [
    "![](img/layout.png)"
   ]
  },
  {
   "cell_type": "markdown",
   "id": "e9ab05a9",
   "metadata": {
    "id": "e9ab05a9"
   },
   "source": [
    "# Map"
   ]
  },
  {
   "cell_type": "code",
   "execution_count": 29,
   "id": "92212747",
   "metadata": {
    "id": "92212747"
   },
   "outputs": [],
   "source": [
    "def initialize_map(data):\n",
    "    data['Province/State'] = data['Province/State'].fillna(data[\"Country/Region\"])\n",
    "    data_province = data.groupby([\"Country/Region\",\n",
    "                                  'Province/State',\n",
    "                                  'Longitude',\n",
    "                                  'Latitude'])\\\n",
    "                         .max()\n",
    "\n",
    "    data_province_displayed = data_province[data_province['Deaths']>10].reset_index()\n",
    "\n",
    "    data_province_displayed['Size'] = np.sqrt(data_province_displayed.loc[:,'Deaths']/data_province_displayed.loc[:,'Deaths'].max())*80 + 3\n",
    "    data_province_displayed['Text'] = data_province_displayed.loc[:,'Deaths'].astype(str) + ' deaths </br> ' + data_province_displayed.loc[:,'Province/State']\n",
    "    return data_province_displayed"
   ]
  },
  {
   "cell_type": "code",
   "execution_count": 30,
   "id": "5a1f5cb6",
   "metadata": {
    "id": "5a1f5cb6",
    "outputId": "ff8c0dc6-5b6a-4693-c1f1-01635ecf65c5"
   },
   "outputs": [
    {
     "data": {
      "text/html": [
       "<div>\n",
       "<style scoped>\n",
       "    .dataframe tbody tr th:only-of-type {\n",
       "        vertical-align: middle;\n",
       "    }\n",
       "\n",
       "    .dataframe tbody tr th {\n",
       "        vertical-align: top;\n",
       "    }\n",
       "\n",
       "    .dataframe thead th {\n",
       "        text-align: right;\n",
       "    }\n",
       "</style>\n",
       "<table border=\"1\" class=\"dataframe\">\n",
       "  <thead>\n",
       "    <tr style=\"text-align: right;\">\n",
       "      <th></th>\n",
       "      <th>Country/Region</th>\n",
       "      <th>Province/State</th>\n",
       "      <th>Longitude</th>\n",
       "      <th>Latitude</th>\n",
       "      <th>Confirmed</th>\n",
       "      <th>Recovered</th>\n",
       "      <th>Deaths</th>\n",
       "      <th>Date</th>\n",
       "      <th>Size</th>\n",
       "      <th>Text</th>\n",
       "    </tr>\n",
       "  </thead>\n",
       "  <tbody>\n",
       "    <tr>\n",
       "      <th>0</th>\n",
       "      <td>Afghanistan</td>\n",
       "      <td>Afghanistan</td>\n",
       "      <td>67.709953</td>\n",
       "      <td>33.93911</td>\n",
       "      <td>51526.0</td>\n",
       "      <td>41727.0</td>\n",
       "      <td>2191.0</td>\n",
       "      <td>2020-12-31</td>\n",
       "      <td>17.771247</td>\n",
       "      <td>2191.0 deaths &lt;/br&gt; Afghanistan</td>\n",
       "    </tr>\n",
       "    <tr>\n",
       "      <th>1</th>\n",
       "      <td>Albania</td>\n",
       "      <td>Albania</td>\n",
       "      <td>20.168300</td>\n",
       "      <td>41.15330</td>\n",
       "      <td>58316.0</td>\n",
       "      <td>33634.0</td>\n",
       "      <td>1181.0</td>\n",
       "      <td>2020-12-31</td>\n",
       "      <td>13.844784</td>\n",
       "      <td>1181.0 deaths &lt;/br&gt; Albania</td>\n",
       "    </tr>\n",
       "    <tr>\n",
       "      <th>2</th>\n",
       "      <td>Algeria</td>\n",
       "      <td>Algeria</td>\n",
       "      <td>1.659600</td>\n",
       "      <td>28.03390</td>\n",
       "      <td>99610.0</td>\n",
       "      <td>67127.0</td>\n",
       "      <td>2756.0</td>\n",
       "      <td>2020-12-31</td>\n",
       "      <td>19.566684</td>\n",
       "      <td>2756.0 deaths &lt;/br&gt; Algeria</td>\n",
       "    </tr>\n",
       "    <tr>\n",
       "      <th>3</th>\n",
       "      <td>Andorra</td>\n",
       "      <td>Andorra</td>\n",
       "      <td>1.521800</td>\n",
       "      <td>42.50630</td>\n",
       "      <td>8049.0</td>\n",
       "      <td>7432.0</td>\n",
       "      <td>84.0</td>\n",
       "      <td>2020-12-31</td>\n",
       "      <td>5.892249</td>\n",
       "      <td>84.0 deaths &lt;/br&gt; Andorra</td>\n",
       "    </tr>\n",
       "    <tr>\n",
       "      <th>4</th>\n",
       "      <td>Angola</td>\n",
       "      <td>Angola</td>\n",
       "      <td>17.873900</td>\n",
       "      <td>-11.20270</td>\n",
       "      <td>17553.0</td>\n",
       "      <td>11044.0</td>\n",
       "      <td>405.0</td>\n",
       "      <td>2020-12-31</td>\n",
       "      <td>9.350728</td>\n",
       "      <td>405.0 deaths &lt;/br&gt; Angola</td>\n",
       "    </tr>\n",
       "  </tbody>\n",
       "</table>\n",
       "</div>"
      ],
      "text/plain": [
       "  Country/Region Province/State  Longitude  Latitude  Confirmed  Recovered  \\\n",
       "0    Afghanistan    Afghanistan  67.709953  33.93911    51526.0    41727.0   \n",
       "1        Albania        Albania  20.168300  41.15330    58316.0    33634.0   \n",
       "2        Algeria        Algeria   1.659600  28.03390    99610.0    67127.0   \n",
       "3        Andorra        Andorra   1.521800  42.50630     8049.0     7432.0   \n",
       "4         Angola         Angola  17.873900 -11.20270    17553.0    11044.0   \n",
       "\n",
       "   Deaths        Date       Size                             Text  \n",
       "0  2191.0  2020-12-31  17.771247  2191.0 deaths </br> Afghanistan  \n",
       "1  1181.0  2020-12-31  13.844784      1181.0 deaths </br> Albania  \n",
       "2  2756.0  2020-12-31  19.566684      2756.0 deaths </br> Algeria  \n",
       "3    84.0  2020-12-31   5.892249        84.0 deaths </br> Andorra  \n",
       "4   405.0  2020-12-31   9.350728        405.0 deaths </br> Angola  "
      ]
     },
     "execution_count": 30,
     "metadata": {},
     "output_type": "execute_result"
    }
   ],
   "source": [
    "data_province_displayed = initialize_map(data)\n",
    "data_province_displayed.head()"
   ]
  },
  {
   "cell_type": "markdown",
   "id": "fe689939",
   "metadata": {
    "id": "fe689939"
   },
   "source": [
    "Properties to style the map\n",
    "- marker color corresponds to the number of Deaths (column _Deaths_)\n",
    "- marker sizes corresponds to the size in _Size_ column which is created from the number of Deaths\n",
    "\n",
    "layout_map permet defined the initial zoom and position of the map\n"
   ]
  },
  {
   "cell_type": "code",
   "execution_count": 31,
   "id": "62a4cc23",
   "metadata": {
    "id": "62a4cc23"
   },
   "outputs": [],
   "source": [
    "marker_map = {\"color\":\"Deaths\", \"size\": \"Size\", \"showscale\":True, \"colorscale\":\"Viridis\"}\n",
    "layout_map = {\n",
    "            \"dragmode\": \"zoom\",\n",
    "            \"mapbox\": { \"style\": \"open-street-map\", \"center\": { \"lat\": 38, \"lon\": -90 }, \"zoom\": 3}\n",
    "            }"
   ]
  },
  {
   "cell_type": "markdown",
   "id": "fb251153",
   "metadata": {
    "id": "fb251153"
   },
   "source": [
    "We give to Plotly:\n",
    "- a map type\n",
    "- the name of the latitude column\n",
    "- the name of the longitude column\n",
    "- properties: on the size and color of the markers\n",
    "- the name of the column for the text of the points"
   ]
  },
  {
   "cell_type": "code",
   "execution_count": 32,
   "id": "7e65e017",
   "metadata": {
    "id": "7e65e017"
   },
   "outputs": [],
   "source": [
    "map_md = \"\"\"\n",
    "<|{data_province_displayed}|chart|type=scattermapbox|selected={selected_points}|lat=Latitude|lon=Longitude|marker={marker_map}|layout={layout_map}|text=Text|mode=markers|height=800px|options={options}|>\n",
    "\"\"\""
   ]
  },
  {
   "cell_type": "code",
   "execution_count": 33,
   "id": "b068a3af",
   "metadata": {
    "id": "b068a3af",
    "outputId": "b1fcab52-320d-49aa-8a98-60a6b21ce8fb"
   },
   "outputs": [
    {
     "name": "stdout",
     "output_type": "stream",
     "text": [
      "Gui server has been stopped\n",
      " * Server starting on http://127.0.0.1:8000\n",
      " * Serving Flask app 'Taipy' (lazy loading)\n",
      " * Environment: production\n",
      "\u001b[31m   WARNING: This is a development server. Do not use it in a production deployment.\u001b[0m\n",
      "\u001b[2m   Use a production WSGI server instead.\u001b[0m\n",
      " * Debug mode: off\n"
     ]
    }
   ],
   "source": [
    "gui.stop()\n",
    "page.set_content(map_md)\n",
    "gui.run()"
   ]
  },
  {
   "cell_type": "markdown",
   "id": "56c0ea66",
   "metadata": {
    "id": "56c0ea66"
   },
   "source": [
    "![](img/carte.png)"
   ]
  },
  {
   "cell_type": "markdown",
   "id": "cab1cacc",
   "metadata": {
    "id": "cab1cacc"
   },
   "source": [
    "# Part and the _render_ property\n",
    "- Create a [toggle](https://docs.taipy.io/en/latest/manuals/gui/viselements/toggle/) (works the same as a selector) with a lov of 'Map' an 'Country'\n",
    "- Create two part blocks that renders or not depending on the value of the toggle\n",
    "    - To do this, use the fact that in the _render_ property of the part block, Python code can be inserted in `{}`"
   ]
  },
  {
   "cell_type": "code",
   "execution_count": 34,
   "id": "91bb95bc",
   "metadata": {
    "id": "91bb95bc"
   },
   "outputs": [],
   "source": [
    "representation_selector = ['Map', 'Country']\n",
    "selected_representation = representation_selector[0]"
   ]
  },
  {
   "cell_type": "code",
   "execution_count": 35,
   "id": "e76ebb06",
   "metadata": {
    "id": "e76ebb06"
   },
   "outputs": [],
   "source": [
    "main_page = \"\"\"\n",
    "<|{selected_representation}|toggle|lov={representation_selector}|>\n",
    "\n",
    "<|part|render={selected_representation == \"Country\"}|\n",
    "\"\"\"+final_country_md+\"\"\"\n",
    "|>\n",
    "\n",
    "<|part|render={selected_representation == \"Map\"}|\n",
    "\"\"\"+map_md+\"\"\"\n",
    "|>\n",
    "\"\"\" "
   ]
  },
  {
   "cell_type": "code",
   "execution_count": 36,
   "id": "186846ba",
   "metadata": {
    "id": "186846ba",
    "outputId": "c5cf9b85-034b-4f80-e9ca-32b31f4caab1"
   },
   "outputs": [
    {
     "name": "stdout",
     "output_type": "stream",
     "text": [
      "Gui server has been stopped\n",
      " * Server starting on http://127.0.0.1:8000\n",
      " * Serving Flask app 'Taipy' (lazy loading)\n",
      " * Environment: production\n",
      "\u001b[31m   WARNING: This is a development server. Do not use it in a production deployment.\u001b[0m\n",
      "\u001b[2m   Use a production WSGI server instead.\u001b[0m\n",
      " * Debug mode: off\n"
     ]
    }
   ],
   "source": [
    "gui.stop()\n",
    "page.set_content(main_page)\n",
    "gui.run()"
   ]
  },
  {
   "cell_type": "markdown",
   "id": "47d5c7ce",
   "metadata": {
    "id": "47d5c7ce"
   },
   "source": [
    "![](img/part_render.png)"
   ]
  },
  {
   "cell_type": "markdown",
   "id": "0c8130ec",
   "metadata": {
    "id": "0c8130ec"
   },
   "source": [
    "# Taipy Core\n",
    "Here are the functions that we are going to use to predict the number of Deaths for a country.\n",
    "We will:\n",
    "- preprocess the data (_preprocess_),\n",
    "- create a training and testing database (_make_train_test_data_),\n",
    "- train a model (_train_model_),\n",
    "- generate predictions (_forecast_),\n",
    "- generate a dataframe with the historical data and the predictions (_result_)\n",
    "\n",
    "![](img/all_architecture.svg)"
   ]
  },
  {
   "cell_type": "code",
   "execution_count": 37,
   "id": "688ebab8",
   "metadata": {
    "id": "688ebab8"
   },
   "outputs": [],
   "source": [
    "def preprocess(initial_data, country):\n",
    "    data = initial_data.groupby([\"Country/Region\",'Date'])\\\n",
    "                       .sum()\\\n",
    "                       .dropna()\\\n",
    "                       .reset_index()\n",
    "\n",
    "    preprocess_data = data.loc[data['Country/Region']==country].reset_index(drop=True)\n",
    "    return preprocess_data\n",
    "    \n",
    "    \n",
    "def create_train_data(preprocess_data, date):\n",
    "    bool_index = pd.to_datetime(preprocess_data['Date']) <= date\n",
    "    train_data = preprocess_data[bool_index]\n",
    "    return train_data\n",
    "\n",
    "\n",
    "def train_model(train_data):\n",
    "    model = auto_arima(train_data['Deaths'],\n",
    "                       start_p=1, start_q=1,\n",
    "                       max_p=5, max_q=5,\n",
    "                       start_P=0, seasonal=False,\n",
    "                       d=1, D=1, trace=True,\n",
    "                       error_action='ignore',  \n",
    "                       suppress_warnings=True)\n",
    "    model.fit(train_data['Deaths'])\n",
    "    return model\n",
    "\n",
    "\n",
    "def forecast(model):\n",
    "    predictions = model.predict(n_periods=60)\n",
    "    return predictions\n",
    "\n",
    "\n",
    "def result(preprocess_data, predictions, date):\n",
    "    dates = pd.to_datetime([date + dt.timedelta(days=i)\n",
    "                            for i in range(len(predictions))])\n",
    "    preprocess_data['Date'] = pd.to_datetime(preprocess_data['Date'])\n",
    "    predictions = pd.concat([pd.Series(dates, name=\"Date\"),\n",
    "                             pd.Series(predictions, name=\"Predictions\")], axis=1)\n",
    "    return preprocess_data.merge(predictions, on=\"Date\", how=\"outer\")"
   ]
  },
  {
   "cell_type": "markdown",
   "id": "9d2e845f",
   "metadata": {
    "id": "9d2e845f"
   },
   "source": [
    "First we must define the Data Nodes then the tasks (associated to the Python function). Furthermore, we gather these tasks into different pipelines and these pipelines into a scenario.\n",
    "\n",
    "A Data Nod needs a **unique id**. If needed, the storage type can be changed for CSV and SQL. Other parameters are then needed."
   ]
  },
  {
   "cell_type": "markdown",
   "id": "b19ed6d7",
   "metadata": {
    "id": "b19ed6d7"
   },
   "source": [
    "### Data Nodes and Task for preprocess"
   ]
  },
  {
   "cell_type": "markdown",
   "id": "6c0e2743",
   "metadata": {
    "id": "6c0e2743"
   },
   "source": [
    "<img src=\"img/preprocess.svg\" alt=\"drawing\" width=\"500\"/>"
   ]
  },
  {
   "cell_type": "code",
   "execution_count": 38,
   "id": "a0dec60e",
   "metadata": {
    "id": "a0dec60e"
   },
   "outputs": [],
   "source": [
    "initial_data_cfg = Config.configure_data_node(id=\"initial_data\",\n",
    "                                              storage_type=\"csv\",\n",
    "                                              path=path_to_data,\n",
    "                                              cacheable=True,\n",
    "                                              validity_period=dt.timedelta(days=5))\n",
    "\n",
    "country_cfg = Config.configure_data_node(id=\"country\", default_data=\"France\",\n",
    "                                         cacheable=True, validity_period=dt.timedelta(days=5))\n",
    "\n",
    "\n",
    "preprocess_data_cfg =  Config.configure_data_node(id=\"preprocess_data\",\n",
    "                                                  cacheable=True, validity_period=dt.timedelta(days=5))\n",
    "\n",
    "\n",
    "task_preprocess_cfg = Config.configure_task(id=\"task_preprocess_data\",\n",
    "                                           function=preprocess,\n",
    "                                           input=[initial_data_cfg, country_cfg],\n",
    "                                           output=preprocess_data_cfg)"
   ]
  },
  {
   "cell_type": "markdown",
   "id": "e9a53d43",
   "metadata": {
    "id": "e9a53d43"
   },
   "source": [
    "### Data Nodes and Task for make_train_test_data"
   ]
  },
  {
   "cell_type": "markdown",
   "id": "caacd215",
   "metadata": {
    "id": "caacd215"
   },
   "source": [
    "<img src=\"img/make_train_test_data.svg\" alt=\"drawing\" width=\"500\"/>"
   ]
  },
  {
   "cell_type": "code",
   "execution_count": 39,
   "id": "d357539c",
   "metadata": {
    "id": "d357539c"
   },
   "outputs": [],
   "source": [
    "train_data_cfg =  Config.configure_data_node(id=\"train_data\", cacheable=True, validity_period=dt.timedelta(days=5))\n",
    "\n",
    "date_cfg = Config.configure_data_node(id=\"date\", default_data=dt.datetime(2020,12,1),\n",
    "                                         cacheable=True, validity_period=dt.timedelta(days=5))\n",
    "\n",
    "task_train_test_cfg = Config.configure_task(id=\"task_make_train_test_data\",\n",
    "                                           function=create_train_data,\n",
    "                                           input=[preprocess_data_cfg, date_cfg],\n",
    "                                           output=train_data_cfg)"
   ]
  },
  {
   "cell_type": "markdown",
   "id": "1908c988",
   "metadata": {
    "id": "1908c988"
   },
   "source": [
    "### Data Nodes and Task for train_model"
   ]
  },
  {
   "cell_type": "markdown",
   "id": "e8bd5020",
   "metadata": {
    "id": "e8bd5020"
   },
   "source": [
    "<img src=\"img/train_model.svg\" alt=\"drawing\" width=\"500\"/>"
   ]
  },
  {
   "cell_type": "code",
   "execution_count": 40,
   "id": "96afe994",
   "metadata": {
    "id": "96afe994"
   },
   "outputs": [],
   "source": [
    "model_cfg = Config.configure_data_node(id=\"model\", cacheable=True, validity_period=dt.timedelta(days=5))\n",
    "\n",
    "task_train_cfg = Config.configure_task(id=\"task_train\",\n",
    "                                      function=train_model,\n",
    "                                      input=train_data_cfg,\n",
    "                                      output=model_cfg)"
   ]
  },
  {
   "cell_type": "markdown",
   "id": "849d0a97",
   "metadata": {
    "id": "849d0a97"
   },
   "source": [
    "### Data Nodes and Task for forecast"
   ]
  },
  {
   "cell_type": "markdown",
   "id": "e0a125c7",
   "metadata": {
    "id": "e0a125c7"
   },
   "source": [
    "<img src=\"img/forecast.svg\" alt=\"drawing\" width=\"500\"/>"
   ]
  },
  {
   "cell_type": "code",
   "execution_count": 41,
   "id": "46b0287b",
   "metadata": {
    "id": "46b0287b"
   },
   "outputs": [],
   "source": [
    "predictions_cfg = Config.configure_data_node(id=\"predictions\")\n",
    "\n",
    "task_forecast_cfg = Config.configure_task(id=\"task_forecast\",\n",
    "                                      function=forecast,\n",
    "                                      input=model_cfg,\n",
    "                                      output=predictions_cfg)"
   ]
  },
  {
   "cell_type": "markdown",
   "id": "73ab0ee0",
   "metadata": {
    "id": "73ab0ee0"
   },
   "source": [
    "### Data Nodes and Task for result"
   ]
  },
  {
   "cell_type": "markdown",
   "id": "899c41df",
   "metadata": {
    "id": "899c41df"
   },
   "source": [
    "<img src=\"img/result.svg\" alt=\"drawing\" width=\"500\"/>"
   ]
  },
  {
   "cell_type": "code",
   "execution_count": 42,
   "id": "92f6ca0c",
   "metadata": {
    "id": "92f6ca0c"
   },
   "outputs": [],
   "source": [
    "result_cfg = Config.configure_data_node(id=\"result\")\n",
    "\n",
    "task_result_cfg = Config.configure_task(id=\"task_result\",\n",
    "                                      function=result,\n",
    "                                      input=[preprocess_data_cfg, predictions_cfg, date_cfg],\n",
    "                                      output=result_cfg)"
   ]
  },
  {
   "cell_type": "markdown",
   "id": "252820b6",
   "metadata": {
    "id": "252820b6"
   },
   "source": [
    "## [Configuration of pipelines](https://docs.taipy.io/en/release-1.1/manuals/reference/taipy.Config/#taipy.core.config.config.Config.configure_default_pipeline)"
   ]
  },
  {
   "cell_type": "code",
   "execution_count": 43,
   "id": "ed34224b",
   "metadata": {
    "id": "ed34224b"
   },
   "outputs": [],
   "source": [
    "pipeline_preprocessing_cfg = Config.configure_pipeline(id=\"pipeline_preprocessing\",\n",
    "                                                       task_configs=[task_preprocess_cfg, task_train_test_cfg])\n",
    "\n",
    "pipeline_train_cfg = Config.configure_pipeline(id=\"pipeline_train\",\n",
    "                                               task_configs=[task_train_cfg])\n",
    "\n",
    "pipeline_forecast_cfg = Config.configure_pipeline(id=\"pipeline_forecast\",\n",
    "                                                       task_configs=[task_forecast_cfg, task_result_cfg])"
   ]
  },
  {
   "cell_type": "markdown",
   "id": "27dbc823",
   "metadata": {
    "id": "27dbc823"
   },
   "source": [
    "## [Configuration of scénario](https://docs.taipy.io/en/release-1.1/manuals/reference/taipy.Config/#taipy.core.config.config.Config.configure_default_scenario)"
   ]
  },
  {
   "cell_type": "code",
   "execution_count": 44,
   "id": "9c742722",
   "metadata": {
    "id": "9c742722"
   },
   "outputs": [],
   "source": [
    "scenario_cfg = Config.configure_scenario(id='scenario', pipeline_configs=[pipeline_preprocessing_cfg,\n",
    "                                                                         pipeline_train_cfg,\n",
    "                                                                         pipeline_forecast_cfg])"
   ]
  },
  {
   "cell_type": "markdown",
   "id": "986ebad5",
   "metadata": {
    "id": "986ebad5"
   },
   "source": [
    "## Creation and submit of scenario"
   ]
  },
  {
   "cell_type": "code",
   "execution_count": 45,
   "id": "ee902abf",
   "metadata": {
    "id": "ee902abf",
    "outputId": "f2e36e97-1ce2-49ae-b4b7-23f84e68892a"
   },
   "outputs": [
    {
     "name": "stderr",
     "output_type": "stream",
     "text": [
      "C:\\Users\\jacta\\anaconda3\\lib\\site-packages\\taipy\\core\\data\\csv.py:145: DtypeWarning: Columns (0,1) have mixed types. Specify dtype option on import or set low_memory=False.\n",
      "  return pd.read_csv(self._path)\n"
     ]
    },
    {
     "name": "stdout",
     "output_type": "stream",
     "text": [
      "[2022-08-31 11:18:10,718][Taipy][INFO] job JOB_task_preprocess_data_f195e2d1-e813-4bf5-9825-38678c24248a is completed.\n",
      "[2022-08-31 11:18:10,839][Taipy][INFO] job JOB_task_make_train_test_data_3645fe29-a9d7-40e4-84ff-d8edbe36c9b8 is completed.\n",
      "Performing stepwise search to minimize aic\n",
      " ARIMA(1,1,1)(0,0,0)[0] intercept   : AIC=4063.315, Time=0.12 sec\n",
      " ARIMA(0,1,0)(0,0,0)[0] intercept   : AIC=4402.604, Time=0.01 sec\n",
      " ARIMA(1,1,0)(0,0,0)[0] intercept   : AIC=4159.716, Time=0.02 sec\n",
      " ARIMA(0,1,1)(0,0,0)[0] intercept   : AIC=4250.876, Time=0.07 sec\n",
      " ARIMA(0,1,0)(0,0,0)[0]             : AIC=4501.081, Time=0.01 sec\n",
      " ARIMA(2,1,1)(0,0,0)[0] intercept   : AIC=4064.802, Time=0.17 sec\n",
      " ARIMA(1,1,2)(0,0,0)[0] intercept   : AIC=4063.583, Time=0.19 sec\n",
      " ARIMA(0,1,2)(0,0,0)[0] intercept   : AIC=4232.637, Time=0.09 sec\n",
      " ARIMA(2,1,0)(0,0,0)[0] intercept   : AIC=4133.353, Time=0.03 sec\n",
      " ARIMA(2,1,2)(0,0,0)[0] intercept   : AIC=4057.414, Time=0.24 sec\n",
      " ARIMA(3,1,2)(0,0,0)[0] intercept   : AIC=4031.935, Time=0.19 sec\n",
      " ARIMA(3,1,1)(0,0,0)[0] intercept   : AIC=4030.365, Time=0.18 sec\n",
      " ARIMA(3,1,0)(0,0,0)[0] intercept   : AIC=4039.994, Time=0.05 sec\n",
      " ARIMA(4,1,1)(0,0,0)[0] intercept   : AIC=4032.934, Time=0.23 sec\n",
      " ARIMA(4,1,0)(0,0,0)[0] intercept   : AIC=4031.209, Time=0.20 sec\n",
      " ARIMA(4,1,2)(0,0,0)[0] intercept   : AIC=4002.248, Time=0.41 sec\n",
      " ARIMA(5,1,2)(0,0,0)[0] intercept   : AIC=4034.446, Time=0.64 sec\n",
      " ARIMA(4,1,3)(0,0,0)[0] intercept   : AIC=3986.414, Time=0.50 sec\n",
      " ARIMA(3,1,3)(0,0,0)[0] intercept   : AIC=3983.671, Time=0.40 sec\n",
      " ARIMA(2,1,3)(0,0,0)[0] intercept   : AIC=4023.278, Time=0.35 sec\n",
      " ARIMA(3,1,4)(0,0,0)[0] intercept   : AIC=3986.724, Time=0.51 sec\n",
      " ARIMA(2,1,4)(0,0,0)[0] intercept   : AIC=inf, Time=0.43 sec\n",
      " ARIMA(4,1,4)(0,0,0)[0] intercept   : AIC=3983.088, Time=0.51 sec\n",
      " ARIMA(5,1,4)(0,0,0)[0] intercept   : AIC=3985.450, Time=0.56 sec\n",
      " ARIMA(4,1,5)(0,0,0)[0] intercept   : AIC=3964.413, Time=0.67 sec\n",
      " ARIMA(3,1,5)(0,0,0)[0] intercept   : AIC=3985.053, Time=0.62 sec\n",
      " ARIMA(5,1,5)(0,0,0)[0] intercept   : AIC=3977.194, Time=0.69 sec\n",
      " ARIMA(4,1,5)(0,0,0)[0]             : AIC=3963.695, Time=0.59 sec\n",
      " ARIMA(3,1,5)(0,0,0)[0]             : AIC=3984.667, Time=0.47 sec\n",
      " ARIMA(4,1,4)(0,0,0)[0]             : AIC=3982.753, Time=0.43 sec\n",
      " ARIMA(5,1,5)(0,0,0)[0]             : AIC=3968.967, Time=0.59 sec\n",
      " ARIMA(3,1,4)(0,0,0)[0]             : AIC=3985.090, Time=0.41 sec\n",
      " ARIMA(5,1,4)(0,0,0)[0]             : AIC=3984.604, Time=0.45 sec\n",
      "\n",
      "Best model:  ARIMA(4,1,5)(0,0,0)[0]          \n",
      "Total fit time: 11.039 seconds\n",
      "[2022-08-31 11:18:22,577][Taipy][INFO] job JOB_task_train_55c1cada-d6a0-4a16-a7d2-3fd8bf70bc32 is completed.\n",
      "[2022-08-31 11:18:22,664][Taipy][INFO] job JOB_task_forecast_5574f0e5-5d88-4c71-9d91-eb4187bbf551 is completed.\n",
      "[2022-08-31 11:18:22,750][Taipy][INFO] job JOB_task_result_610fdb01-3f2f-4fa9-9a39-3ef73bb7b11d is completed.\n"
     ]
    }
   ],
   "source": [
    "scenario = tp.create_scenario(scenario_cfg, name='First Scenario')\n",
    "tp.submit(scenario)"
   ]
  },
  {
   "cell_type": "code",
   "execution_count": 46,
   "id": "0438a233",
   "metadata": {
    "id": "0438a233",
    "outputId": "494c2bd8-eef2-4a0f-92ca-46ce061aeaee"
   },
   "outputs": [
    {
     "data": {
      "text/plain": [
       "ARIMA(order=(4, 1, 5), scoring_args={}, suppress_warnings=True,\n",
       "      with_intercept=False)"
      ]
     },
     "execution_count": 46,
     "metadata": {},
     "output_type": "execute_result"
    }
   ],
   "source": [
    "scenario.model.read()"
   ]
  },
  {
   "cell_type": "code",
   "execution_count": 47,
   "id": "a4f4dafd",
   "metadata": {
    "id": "a4f4dafd",
    "outputId": "a9928f34-27e3-4e90-c43d-4aa073fc5617"
   },
   "outputs": [
    {
     "data": {
      "text/html": [
       "<div>\n",
       "<style scoped>\n",
       "    .dataframe tbody tr th:only-of-type {\n",
       "        vertical-align: middle;\n",
       "    }\n",
       "\n",
       "    .dataframe tbody tr th {\n",
       "        vertical-align: top;\n",
       "    }\n",
       "\n",
       "    .dataframe thead th {\n",
       "        text-align: right;\n",
       "    }\n",
       "</style>\n",
       "<table border=\"1\" class=\"dataframe\">\n",
       "  <thead>\n",
       "    <tr style=\"text-align: right;\">\n",
       "      <th></th>\n",
       "      <th>Country/Region</th>\n",
       "      <th>Date</th>\n",
       "      <th>Latitude</th>\n",
       "      <th>Longitude</th>\n",
       "      <th>Confirmed</th>\n",
       "      <th>Recovered</th>\n",
       "      <th>Deaths</th>\n",
       "      <th>Predictions</th>\n",
       "    </tr>\n",
       "  </thead>\n",
       "  <tbody>\n",
       "    <tr>\n",
       "      <th>0</th>\n",
       "      <td>France</td>\n",
       "      <td>2020-01-24</td>\n",
       "      <td>14.6415</td>\n",
       "      <td>-56.3159</td>\n",
       "      <td>2.0</td>\n",
       "      <td>0.0</td>\n",
       "      <td>0.0</td>\n",
       "      <td>NaN</td>\n",
       "    </tr>\n",
       "    <tr>\n",
       "      <th>1</th>\n",
       "      <td>France</td>\n",
       "      <td>2020-01-25</td>\n",
       "      <td>14.6415</td>\n",
       "      <td>-56.3159</td>\n",
       "      <td>3.0</td>\n",
       "      <td>0.0</td>\n",
       "      <td>0.0</td>\n",
       "      <td>NaN</td>\n",
       "    </tr>\n",
       "    <tr>\n",
       "      <th>2</th>\n",
       "      <td>France</td>\n",
       "      <td>2020-01-26</td>\n",
       "      <td>14.6415</td>\n",
       "      <td>-56.3159</td>\n",
       "      <td>3.0</td>\n",
       "      <td>0.0</td>\n",
       "      <td>0.0</td>\n",
       "      <td>NaN</td>\n",
       "    </tr>\n",
       "    <tr>\n",
       "      <th>3</th>\n",
       "      <td>France</td>\n",
       "      <td>2020-01-27</td>\n",
       "      <td>14.6415</td>\n",
       "      <td>-56.3159</td>\n",
       "      <td>3.0</td>\n",
       "      <td>0.0</td>\n",
       "      <td>0.0</td>\n",
       "      <td>NaN</td>\n",
       "    </tr>\n",
       "    <tr>\n",
       "      <th>4</th>\n",
       "      <td>France</td>\n",
       "      <td>2020-01-28</td>\n",
       "      <td>14.6415</td>\n",
       "      <td>-56.3159</td>\n",
       "      <td>4.0</td>\n",
       "      <td>0.0</td>\n",
       "      <td>0.0</td>\n",
       "      <td>NaN</td>\n",
       "    </tr>\n",
       "    <tr>\n",
       "      <th>...</th>\n",
       "      <td>...</td>\n",
       "      <td>...</td>\n",
       "      <td>...</td>\n",
       "      <td>...</td>\n",
       "      <td>...</td>\n",
       "      <td>...</td>\n",
       "      <td>...</td>\n",
       "      <td>...</td>\n",
       "    </tr>\n",
       "    <tr>\n",
       "      <th>367</th>\n",
       "      <td>NaN</td>\n",
       "      <td>2021-01-25</td>\n",
       "      <td>NaN</td>\n",
       "      <td>NaN</td>\n",
       "      <td>NaN</td>\n",
       "      <td>NaN</td>\n",
       "      <td>NaN</td>\n",
       "      <td>60434.677846</td>\n",
       "    </tr>\n",
       "    <tr>\n",
       "      <th>368</th>\n",
       "      <td>NaN</td>\n",
       "      <td>2021-01-26</td>\n",
       "      <td>NaN</td>\n",
       "      <td>NaN</td>\n",
       "      <td>NaN</td>\n",
       "      <td>NaN</td>\n",
       "      <td>NaN</td>\n",
       "      <td>60532.754494</td>\n",
       "    </tr>\n",
       "    <tr>\n",
       "      <th>369</th>\n",
       "      <td>NaN</td>\n",
       "      <td>2021-01-27</td>\n",
       "      <td>NaN</td>\n",
       "      <td>NaN</td>\n",
       "      <td>NaN</td>\n",
       "      <td>NaN</td>\n",
       "      <td>NaN</td>\n",
       "      <td>60486.535972</td>\n",
       "    </tr>\n",
       "    <tr>\n",
       "      <th>370</th>\n",
       "      <td>NaN</td>\n",
       "      <td>2021-01-28</td>\n",
       "      <td>NaN</td>\n",
       "      <td>NaN</td>\n",
       "      <td>NaN</td>\n",
       "      <td>NaN</td>\n",
       "      <td>NaN</td>\n",
       "      <td>60441.811373</td>\n",
       "    </tr>\n",
       "    <tr>\n",
       "      <th>371</th>\n",
       "      <td>NaN</td>\n",
       "      <td>2021-01-29</td>\n",
       "      <td>NaN</td>\n",
       "      <td>NaN</td>\n",
       "      <td>NaN</td>\n",
       "      <td>NaN</td>\n",
       "      <td>NaN</td>\n",
       "      <td>60533.041914</td>\n",
       "    </tr>\n",
       "  </tbody>\n",
       "</table>\n",
       "<p>372 rows × 8 columns</p>\n",
       "</div>"
      ],
      "text/plain": [
       "    Country/Region       Date  Latitude  Longitude  Confirmed  Recovered  \\\n",
       "0           France 2020-01-24   14.6415   -56.3159        2.0        0.0   \n",
       "1           France 2020-01-25   14.6415   -56.3159        3.0        0.0   \n",
       "2           France 2020-01-26   14.6415   -56.3159        3.0        0.0   \n",
       "3           France 2020-01-27   14.6415   -56.3159        3.0        0.0   \n",
       "4           France 2020-01-28   14.6415   -56.3159        4.0        0.0   \n",
       "..             ...        ...       ...        ...        ...        ...   \n",
       "367            NaN 2021-01-25       NaN        NaN        NaN        NaN   \n",
       "368            NaN 2021-01-26       NaN        NaN        NaN        NaN   \n",
       "369            NaN 2021-01-27       NaN        NaN        NaN        NaN   \n",
       "370            NaN 2021-01-28       NaN        NaN        NaN        NaN   \n",
       "371            NaN 2021-01-29       NaN        NaN        NaN        NaN   \n",
       "\n",
       "     Deaths   Predictions  \n",
       "0       0.0           NaN  \n",
       "1       0.0           NaN  \n",
       "2       0.0           NaN  \n",
       "3       0.0           NaN  \n",
       "4       0.0           NaN  \n",
       "..      ...           ...  \n",
       "367     NaN  60434.677846  \n",
       "368     NaN  60532.754494  \n",
       "369     NaN  60486.535972  \n",
       "370     NaN  60441.811373  \n",
       "371     NaN  60533.041914  \n",
       "\n",
       "[372 rows x 8 columns]"
      ]
     },
     "execution_count": 47,
     "metadata": {},
     "output_type": "execute_result"
    }
   ],
   "source": [
    "scenario.result.read()"
   ]
  },
  {
   "cell_type": "code",
   "execution_count": 48,
   "id": "79602c0e",
   "metadata": {
    "id": "79602c0e",
    "outputId": "fe06a4ba-a59a-419e-f244-aed87412fb05"
   },
   "outputs": [
    {
     "data": {
      "text/plain": [
       "array([53829.43409244, 54022.96066516, 54638.01588721, 55053.67235513,\n",
       "       55098.58843879, 55434.38315872, 55978.97675189, 56129.70105003,\n",
       "       56192.74060801, 56633.16084199, 56984.23722705, 56976.03873499,\n",
       "       57159.04874851, 57587.30935412, 57713.58867701, 57692.43572287,\n",
       "       57992.31250913, 58290.477899  , 58259.48714096, 58332.91555762,\n",
       "       58663.52725783, 58778.97481455, 58710.69001212, 58901.11849439,\n",
       "       59155.12281467, 59122.0926843 , 59121.53511101, 59370.91814431,\n",
       "       59482.8265903 , 59394.48491962, 59501.88013251, 59717.44140809,\n",
       "       59694.5712561 , 59647.80233847, 59829.87129182, 59940.6606115 ,\n",
       "       59850.60917429, 59896.75669315, 60077.52588962, 60070.46558527,\n",
       "       59998.35097083, 60124.97135672, 60233.96014812, 60153.59797928,\n",
       "       60156.20602612, 60304.78515491, 60314.65089421, 60232.31929845,\n",
       "       60313.80188397, 60418.71725186, 60354.2171085 , 60327.5186994 ,\n",
       "       60446.20753759, 60471.27225151, 60389.2331293 , 60434.67784604,\n",
       "       60532.75449425, 60486.53597154, 60441.81137263, 60533.04191396])"
      ]
     },
     "execution_count": 48,
     "metadata": {},
     "output_type": "execute_result"
    }
   ],
   "source": [
    "scenario.predictions.read()"
   ]
  },
  {
   "cell_type": "markdown",
   "id": "d9915978",
   "metadata": {
    "id": "d9915978"
   },
   "source": [
    "## Caching\n",
    "Some job are skipped because no change has been done to the \"input\" Data Nodes."
   ]
  },
  {
   "cell_type": "code",
   "execution_count": 49,
   "id": "7cb68da0",
   "metadata": {
    "id": "7cb68da0",
    "outputId": "b06a184d-f2aa-4e00-cac4-3a0111d1755c"
   },
   "outputs": [
    {
     "name": "stdout",
     "output_type": "stream",
     "text": [
      "[2022-08-31 11:18:22,896][Taipy][INFO] job JOB_task_preprocess_data_ba9437dc-30b7-4cde-9e6d-163d6a543d57 is skipped.\n",
      "[2022-08-31 11:18:22,960][Taipy][INFO] job JOB_task_make_train_test_data_e22891e9-d98a-49b1-ae8f-307e1ae2b9af is skipped.\n",
      "[2022-08-31 11:18:23,021][Taipy][INFO] job JOB_task_train_9f2bd76d-a421-4506-90e9-60e6a1963b06 is skipped.\n",
      "[2022-08-31 11:18:23,100][Taipy][INFO] job JOB_task_forecast_8ce830aa-b968-45e3-8804-a4a5421b99f8 is completed.\n",
      "[2022-08-31 11:18:23,183][Taipy][INFO] job JOB_task_result_d0d6305e-2716-4b04-8c67-59b05ae16146 is completed.\n"
     ]
    }
   ],
   "source": [
    "tp.submit(scenario)"
   ]
  },
  {
   "cell_type": "markdown",
   "id": "ba83beac",
   "metadata": {
    "id": "ba83beac"
   },
   "source": [
    "## Write in data nodes\n",
    "\n",
    "To write a data node:\n",
    "\n",
    "`<Data Node>.write(new_value)`"
   ]
  },
  {
   "cell_type": "code",
   "execution_count": 50,
   "id": "31d6562d",
   "metadata": {
    "id": "31d6562d",
    "outputId": "9fef8e2d-9026-438f-da23-8299d3fe3497"
   },
   "outputs": [
    {
     "name": "stderr",
     "output_type": "stream",
     "text": [
      "C:\\Users\\jacta\\anaconda3\\lib\\site-packages\\taipy\\core\\data\\csv.py:145: DtypeWarning: Columns (0,1) have mixed types. Specify dtype option on import or set low_memory=False.\n",
      "  return pd.read_csv(self._path)\n"
     ]
    },
    {
     "name": "stdout",
     "output_type": "stream",
     "text": [
      "[2022-08-31 11:18:24,316][Taipy][INFO] job JOB_task_preprocess_data_3de95bf6-ad02-4bf3-9db7-e09435f58432 is completed.\n",
      "[2022-08-31 11:18:24,418][Taipy][INFO] job JOB_task_make_train_test_data_47798be1-8f93-42ea-9aac-497f0456e3f0 is completed.\n",
      "Performing stepwise search to minimize aic\n",
      " ARIMA(1,1,1)(0,0,0)[0] intercept   : AIC=4639.915, Time=0.03 sec\n",
      " ARIMA(0,1,0)(0,0,0)[0] intercept   : AIC=4997.160, Time=0.01 sec\n",
      " ARIMA(1,1,0)(0,0,0)[0] intercept   : AIC=4637.908, Time=0.02 sec\n",
      " ARIMA(0,1,1)(0,0,0)[0] intercept   : AIC=4795.329, Time=0.06 sec\n",
      " ARIMA(0,1,0)(0,0,0)[0]             : AIC=5293.721, Time=0.01 sec\n",
      " ARIMA(2,1,0)(0,0,0)[0] intercept   : AIC=4639.917, Time=0.03 sec\n",
      " ARIMA(2,1,1)(0,0,0)[0] intercept   : AIC=4641.880, Time=0.09 sec\n",
      " ARIMA(1,1,0)(0,0,0)[0]             : AIC=4653.543, Time=0.01 sec\n",
      "\n",
      "Best model:  ARIMA(1,1,0)(0,0,0)[0] intercept\n",
      "Total fit time: 0.254 seconds\n",
      "[2022-08-31 11:18:24,772][Taipy][INFO] job JOB_task_train_b5983278-1ba1-445b-8476-fc62c98ff1e7 is completed.\n",
      "[2022-08-31 11:18:24,854][Taipy][INFO] job JOB_task_forecast_fa1e8bf5-1c03-4b20-adf0-887eba1c0887 is completed.\n",
      "[2022-08-31 11:18:24,941][Taipy][INFO] job JOB_task_result_e378533d-f3cb-435f-87b4-0e7b79d91065 is completed.\n"
     ]
    },
    {
     "data": {
      "text/html": [
       "<div>\n",
       "<style scoped>\n",
       "    .dataframe tbody tr th:only-of-type {\n",
       "        vertical-align: middle;\n",
       "    }\n",
       "\n",
       "    .dataframe tbody tr th {\n",
       "        vertical-align: top;\n",
       "    }\n",
       "\n",
       "    .dataframe thead th {\n",
       "        text-align: right;\n",
       "    }\n",
       "</style>\n",
       "<table border=\"1\" class=\"dataframe\">\n",
       "  <thead>\n",
       "    <tr style=\"text-align: right;\">\n",
       "      <th></th>\n",
       "      <th>Country/Region</th>\n",
       "      <th>Date</th>\n",
       "      <th>Latitude</th>\n",
       "      <th>Longitude</th>\n",
       "      <th>Confirmed</th>\n",
       "      <th>Recovered</th>\n",
       "      <th>Deaths</th>\n",
       "      <th>Predictions</th>\n",
       "    </tr>\n",
       "  </thead>\n",
       "  <tbody>\n",
       "    <tr>\n",
       "      <th>0</th>\n",
       "      <td>US</td>\n",
       "      <td>2020-01-22</td>\n",
       "      <td>47.140037</td>\n",
       "      <td>-120.79136</td>\n",
       "      <td>1.0</td>\n",
       "      <td>0.0</td>\n",
       "      <td>0.0</td>\n",
       "      <td>NaN</td>\n",
       "    </tr>\n",
       "    <tr>\n",
       "      <th>1</th>\n",
       "      <td>US</td>\n",
       "      <td>2020-01-23</td>\n",
       "      <td>47.140037</td>\n",
       "      <td>-120.79136</td>\n",
       "      <td>1.0</td>\n",
       "      <td>0.0</td>\n",
       "      <td>0.0</td>\n",
       "      <td>NaN</td>\n",
       "    </tr>\n",
       "    <tr>\n",
       "      <th>2</th>\n",
       "      <td>US</td>\n",
       "      <td>2020-01-24</td>\n",
       "      <td>85.345498</td>\n",
       "      <td>-210.45008</td>\n",
       "      <td>2.0</td>\n",
       "      <td>0.0</td>\n",
       "      <td>0.0</td>\n",
       "      <td>NaN</td>\n",
       "    </tr>\n",
       "    <tr>\n",
       "      <th>3</th>\n",
       "      <td>US</td>\n",
       "      <td>2020-01-25</td>\n",
       "      <td>87.000686</td>\n",
       "      <td>-209.92221</td>\n",
       "      <td>2.0</td>\n",
       "      <td>0.0</td>\n",
       "      <td>0.0</td>\n",
       "      <td>NaN</td>\n",
       "    </tr>\n",
       "    <tr>\n",
       "      <th>4</th>\n",
       "      <td>US</td>\n",
       "      <td>2020-01-26</td>\n",
       "      <td>158.375485</td>\n",
       "      <td>-442.26423</td>\n",
       "      <td>5.0</td>\n",
       "      <td>0.0</td>\n",
       "      <td>0.0</td>\n",
       "      <td>NaN</td>\n",
       "    </tr>\n",
       "    <tr>\n",
       "      <th>...</th>\n",
       "      <td>...</td>\n",
       "      <td>...</td>\n",
       "      <td>...</td>\n",
       "      <td>...</td>\n",
       "      <td>...</td>\n",
       "      <td>...</td>\n",
       "      <td>...</td>\n",
       "      <td>...</td>\n",
       "    </tr>\n",
       "    <tr>\n",
       "      <th>369</th>\n",
       "      <td>NaN</td>\n",
       "      <td>2021-01-25</td>\n",
       "      <td>NaN</td>\n",
       "      <td>NaN</td>\n",
       "      <td>NaN</td>\n",
       "      <td>NaN</td>\n",
       "      <td>NaN</td>\n",
       "      <td>329923.124817</td>\n",
       "    </tr>\n",
       "    <tr>\n",
       "      <th>370</th>\n",
       "      <td>NaN</td>\n",
       "      <td>2021-01-26</td>\n",
       "      <td>NaN</td>\n",
       "      <td>NaN</td>\n",
       "      <td>NaN</td>\n",
       "      <td>NaN</td>\n",
       "      <td>NaN</td>\n",
       "      <td>330821.612822</td>\n",
       "    </tr>\n",
       "    <tr>\n",
       "      <th>371</th>\n",
       "      <td>NaN</td>\n",
       "      <td>2021-01-27</td>\n",
       "      <td>NaN</td>\n",
       "      <td>NaN</td>\n",
       "      <td>NaN</td>\n",
       "      <td>NaN</td>\n",
       "      <td>NaN</td>\n",
       "      <td>331720.093820</td>\n",
       "    </tr>\n",
       "    <tr>\n",
       "      <th>372</th>\n",
       "      <td>NaN</td>\n",
       "      <td>2021-01-28</td>\n",
       "      <td>NaN</td>\n",
       "      <td>NaN</td>\n",
       "      <td>NaN</td>\n",
       "      <td>NaN</td>\n",
       "      <td>NaN</td>\n",
       "      <td>332618.568997</td>\n",
       "    </tr>\n",
       "    <tr>\n",
       "      <th>373</th>\n",
       "      <td>NaN</td>\n",
       "      <td>2021-01-29</td>\n",
       "      <td>NaN</td>\n",
       "      <td>NaN</td>\n",
       "      <td>NaN</td>\n",
       "      <td>NaN</td>\n",
       "      <td>NaN</td>\n",
       "      <td>333517.039337</td>\n",
       "    </tr>\n",
       "  </tbody>\n",
       "</table>\n",
       "<p>374 rows × 8 columns</p>\n",
       "</div>"
      ],
      "text/plain": [
       "    Country/Region       Date    Latitude  Longitude  Confirmed  Recovered  \\\n",
       "0               US 2020-01-22   47.140037 -120.79136        1.0        0.0   \n",
       "1               US 2020-01-23   47.140037 -120.79136        1.0        0.0   \n",
       "2               US 2020-01-24   85.345498 -210.45008        2.0        0.0   \n",
       "3               US 2020-01-25   87.000686 -209.92221        2.0        0.0   \n",
       "4               US 2020-01-26  158.375485 -442.26423        5.0        0.0   \n",
       "..             ...        ...         ...        ...        ...        ...   \n",
       "369            NaN 2021-01-25         NaN        NaN        NaN        NaN   \n",
       "370            NaN 2021-01-26         NaN        NaN        NaN        NaN   \n",
       "371            NaN 2021-01-27         NaN        NaN        NaN        NaN   \n",
       "372            NaN 2021-01-28         NaN        NaN        NaN        NaN   \n",
       "373            NaN 2021-01-29         NaN        NaN        NaN        NaN   \n",
       "\n",
       "     Deaths    Predictions  \n",
       "0       0.0            NaN  \n",
       "1       0.0            NaN  \n",
       "2       0.0            NaN  \n",
       "3       0.0            NaN  \n",
       "4       0.0            NaN  \n",
       "..      ...            ...  \n",
       "369     NaN  329923.124817  \n",
       "370     NaN  330821.612822  \n",
       "371     NaN  331720.093820  \n",
       "372     NaN  332618.568997  \n",
       "373     NaN  333517.039337  \n",
       "\n",
       "[374 rows x 8 columns]"
      ]
     },
     "execution_count": 50,
     "metadata": {},
     "output_type": "execute_result"
    }
   ],
   "source": [
    "scenario.country.write('US')\n",
    "tp.submit(scenario)\n",
    "scenario.result.read()"
   ]
  },
  {
   "cell_type": "markdown",
   "id": "9d9d2c81",
   "metadata": {
    "id": "9d9d2c81"
   },
   "source": [
    "## Simple framework"
   ]
  },
  {
   "cell_type": "code",
   "execution_count": 51,
   "id": "4892eb7d",
   "metadata": {
    "id": "4892eb7d"
   },
   "outputs": [
    {
     "name": "stderr",
     "output_type": "stream",
     "text": [
      "C:\\Users\\jacta\\anaconda3\\lib\\site-packages\\taipy\\core\\data\\csv.py:145: DtypeWarning: Columns (0,1) have mixed types. Specify dtype option on import or set low_memory=False.\n",
      "  return pd.read_csv(self._path)\n"
     ]
    },
    {
     "name": "stdout",
     "output_type": "stream",
     "text": [
      "[2022-08-31 11:18:26,119][Taipy][INFO] job JOB_task_preprocess_data_51dfba21-5afb-44c1-9c94-abf0f4d8d98a is completed.\n",
      "[2022-08-31 11:18:26,203][Taipy][INFO] job JOB_task_make_train_test_data_df6e8fe8-5fec-4642-8e28-a7459825a77d is completed.\n",
      "Performing stepwise search to minimize aic\n",
      " ARIMA(1,1,1)(0,0,0)[0] intercept   : AIC=4063.315, Time=0.11 sec\n",
      " ARIMA(0,1,0)(0,0,0)[0] intercept   : AIC=4402.604, Time=0.01 sec\n",
      " ARIMA(1,1,0)(0,0,0)[0] intercept   : AIC=4159.716, Time=0.01 sec\n",
      " ARIMA(0,1,1)(0,0,0)[0] intercept   : AIC=4250.876, Time=0.07 sec\n",
      " ARIMA(0,1,0)(0,0,0)[0]             : AIC=4501.081, Time=0.01 sec\n",
      " ARIMA(2,1,1)(0,0,0)[0] intercept   : AIC=4064.802, Time=0.19 sec\n",
      " ARIMA(1,1,2)(0,0,0)[0] intercept   : AIC=4063.583, Time=0.28 sec\n",
      " ARIMA(0,1,2)(0,0,0)[0] intercept   : AIC=4232.637, Time=0.09 sec\n",
      " ARIMA(2,1,0)(0,0,0)[0] intercept   : AIC=4133.353, Time=0.03 sec\n",
      " ARIMA(2,1,2)(0,0,0)[0] intercept   : AIC=4057.414, Time=0.27 sec\n",
      " ARIMA(3,1,2)(0,0,0)[0] intercept   : AIC=4031.935, Time=0.21 sec\n",
      " ARIMA(3,1,1)(0,0,0)[0] intercept   : AIC=4030.365, Time=0.17 sec\n",
      " ARIMA(3,1,0)(0,0,0)[0] intercept   : AIC=4039.994, Time=0.05 sec\n",
      " ARIMA(4,1,1)(0,0,0)[0] intercept   : AIC=4032.934, Time=0.22 sec\n",
      " ARIMA(4,1,0)(0,0,0)[0] intercept   : AIC=4031.209, Time=0.20 sec\n",
      " ARIMA(4,1,2)(0,0,0)[0] intercept   : AIC=4002.248, Time=0.41 sec\n",
      " ARIMA(5,1,2)(0,0,0)[0] intercept   : AIC=4034.446, Time=0.48 sec\n",
      " ARIMA(4,1,3)(0,0,0)[0] intercept   : AIC=3986.414, Time=0.43 sec\n",
      " ARIMA(3,1,3)(0,0,0)[0] intercept   : AIC=3983.671, Time=0.43 sec\n",
      " ARIMA(2,1,3)(0,0,0)[0] intercept   : AIC=4023.278, Time=0.36 sec\n",
      " ARIMA(3,1,4)(0,0,0)[0] intercept   : AIC=3986.724, Time=0.50 sec\n",
      " ARIMA(2,1,4)(0,0,0)[0] intercept   : AIC=inf, Time=0.40 sec\n",
      " ARIMA(4,1,4)(0,0,0)[0] intercept   : AIC=3983.088, Time=0.51 sec\n",
      " ARIMA(5,1,4)(0,0,0)[0] intercept   : AIC=3985.450, Time=0.56 sec\n",
      " ARIMA(4,1,5)(0,0,0)[0] intercept   : AIC=3964.413, Time=0.65 sec\n",
      " ARIMA(3,1,5)(0,0,0)[0] intercept   : AIC=3985.053, Time=0.62 sec\n",
      " ARIMA(5,1,5)(0,0,0)[0] intercept   : AIC=3977.194, Time=0.69 sec\n",
      " ARIMA(4,1,5)(0,0,0)[0]             : AIC=3963.695, Time=0.59 sec\n",
      " ARIMA(3,1,5)(0,0,0)[0]             : AIC=3984.667, Time=0.47 sec\n",
      " ARIMA(4,1,4)(0,0,0)[0]             : AIC=3982.753, Time=0.43 sec\n",
      " ARIMA(5,1,5)(0,0,0)[0]             : AIC=3968.967, Time=0.60 sec\n",
      " ARIMA(3,1,4)(0,0,0)[0]             : AIC=3985.090, Time=0.40 sec\n",
      " ARIMA(5,1,4)(0,0,0)[0]             : AIC=3984.604, Time=0.45 sec\n",
      "\n",
      "Best model:  ARIMA(4,1,5)(0,0,0)[0]          \n",
      "Total fit time: 10.906 seconds\n",
      "[2022-08-31 11:18:37,783][Taipy][INFO] job JOB_task_train_8369f353-644f-4f0c-9dfd-789fbf5e3d85 is completed.\n",
      "[2022-08-31 11:18:37,867][Taipy][INFO] job JOB_task_forecast_3f7c2166-f6c5-49a9-8a07-ade782ba7d59 is completed.\n",
      "[2022-08-31 11:18:37,949][Taipy][INFO] job JOB_task_result_7888c355-9ebd-451f-8cd7-e98d259b85a4 is completed.\n"
     ]
    }
   ],
   "source": [
    "scenario = tp.create_scenario(scenario_cfg, name='Second Scenario')\n",
    "tp.submit(scenario)"
   ]
  },
  {
   "cell_type": "code",
   "execution_count": 52,
   "id": "a9248942",
   "metadata": {
    "id": "a9248942"
   },
   "outputs": [
    {
     "name": "stdout",
     "output_type": "stream",
     "text": [
      "[2022-08-31 11:18:37,962][Taipy][WARNING] Data node DATANODE_model_03f9d082-2bdf-434a-90c6-2cd18a6f05a0 is being read but has never been written.\n",
      "[2022-08-31 11:18:37,995][Taipy][WARNING] Data node DATANODE_model_98a2d52d-ccb6-4b6b-8833-07f427dfe038 is being read but has never been written.\n",
      "[2022-08-31 11:18:38,001][Taipy][WARNING] Data node DATANODE_model_b51cc9e3-67b8-418f-a005-ca036bb2007e is being read but has never been written.\n",
      "[2022-08-31 11:18:38,018][Taipy][WARNING] Data node DATANODE_model_921df79f-f3ef-4507-8ea4-797423a92af4 is being read but has never been written.\n",
      "[2022-08-31 11:18:38,023][Taipy][WARNING] Data node DATANODE_model_fe100abe-f6a4-4828-9561-691a57be1844 is being read but has never been written.\n"
     ]
    },
    {
     "data": {
      "text/plain": [
       "[None,\n",
       " ARIMA(order=(4, 1, 5), scoring_args={}, suppress_warnings=True,\n",
       "       with_intercept=False),\n",
       " ARIMA(order=(1, 1, 0), scoring_args={}, suppress_warnings=True),\n",
       " ARIMA(order=(4, 1, 5), scoring_args={}, suppress_warnings=True,\n",
       "       with_intercept=False),\n",
       " ARIMA(order=(1, 1, 0), scoring_args={}, suppress_warnings=True),\n",
       " ARIMA(order=(1, 1, 0), scoring_args={}, suppress_warnings=True),\n",
       " None,\n",
       " None,\n",
       " ARIMA(order=(4, 1, 5), scoring_args={}, suppress_warnings=True,\n",
       "       with_intercept=False),\n",
       " ARIMA(order=(1, 1, 0), scoring_args={}, suppress_warnings=True),\n",
       " None,\n",
       " None,\n",
       " ARIMA(order=(4, 1, 5), scoring_args={}, suppress_warnings=True,\n",
       "       with_intercept=False),\n",
       " ARIMA(order=(1, 1, 0), scoring_args={}, suppress_warnings=True),\n",
       " ARIMA(order=(4, 1, 5), scoring_args={}, suppress_warnings=True,\n",
       "       with_intercept=False),\n",
       " ARIMA(order=(4, 1, 5), scoring_args={}, suppress_warnings=True,\n",
       "       with_intercept=False),\n",
       " ARIMA(order=(1, 1, 0), scoring_args={}, suppress_warnings=True)]"
      ]
     },
     "execution_count": 52,
     "metadata": {},
     "output_type": "execute_result"
    }
   ],
   "source": [
    "[s.model.read() for s in tp.get_scenarios()]"
   ]
  },
  {
   "cell_type": "markdown",
   "id": "73fd648f",
   "metadata": {
    "id": "73fd648f"
   },
   "source": [
    "## Create a Gui for the backend\n",
    "_scenario_selector_ lets you choose a scenario and display its results."
   ]
  },
  {
   "cell_type": "code",
   "execution_count": 53,
   "id": "760f1a04",
   "metadata": {
    "id": "760f1a04",
    "outputId": "447fe599-faf2-47d9-d3f8-2f3e2297642a"
   },
   "outputs": [
    {
     "name": "stdout",
     "output_type": "stream",
     "text": [
      "[('SCENARIO_scenario_011735c1-1716-4900-8a87-c008b0ebf702', 'First Scenario'), ('SCENARIO_scenario_4414c9bf-1e36-4091-9e2c-e26c5d55829f', 'Second Scenario'), ('SCENARIO_scenario_50921b98-4ed0-4fa9-92f6-94a11fdfc312', 'First Scenario'), ('SCENARIO_scenario_54c20fc7-e6f3-4e34-ad80-f0c5ab8fb2a0', 'Second Scenario'), ('SCENARIO_scenario_696256f0-d9a9-4e1d-a2b9-3119b8f18281', 'First Scenario'), ('SCENARIO_scenario_76a9f20e-537c-4032-b31d-2019c99ea012', 'First Scenario'), ('SCENARIO_scenario_854a6642-cd6d-487c-9999-126131fbd2b6', 'First Scenario'), ('SCENARIO_scenario_98930574-5c46-47a1-a415-813515c8e5e4', 'Second Scenario'), ('SCENARIO_scenario_9a6bb656-ecd6-43cc-9cb8-10cc6bd58266', 'Second Scenario'), ('SCENARIO_scenario_9cbdf341-6994-4cad-9eec-524db67a4e36', 'First Scenario'), ('SCENARIO_scenario_a3a64c9f-d302-412f-b724-d4f21290061f', 'Second Scenario'), ('SCENARIO_scenario_bf33e913-413f-4c47-84a8-3670d5c60e52', 'First Scenario'), ('SCENARIO_scenario_d035d394-005c-4060-8d57-bfd2e045d174', 'Second Scenario'), ('SCENARIO_scenario_d24ce9b4-4404-42d6-837e-850b69643882', 'First Scenario'), ('SCENARIO_scenario_d2fac01a-b1fa-4b3b-ac41-05bf40cfd725', 'Second Scenario'), ('SCENARIO_scenario_ec489781-2ffe-4d9b-b7f3-677a54c3f0d9', 'Second Scenario'), ('SCENARIO_scenario_f561b9c6-23a7-4a80-9754-6cd4cb212d9a', 'First Scenario')] \n",
      " SCENARIO_scenario_ec489781-2ffe-4d9b-b7f3-677a54c3f0d9\n"
     ]
    }
   ],
   "source": [
    "scenario_selector = [(s.id, s.name) for s in tp.get_scenarios()]\n",
    "selected_scenario = scenario.id\n",
    "print(scenario_selector,'\\n', selected_scenario)"
   ]
  },
  {
   "cell_type": "code",
   "execution_count": 54,
   "id": "b590bdcc",
   "metadata": {
    "id": "b590bdcc",
    "outputId": "5747bb81-4c48-45ad-8457-f36fa783cff5"
   },
   "outputs": [
    {
     "data": {
      "text/html": [
       "<div>\n",
       "<style scoped>\n",
       "    .dataframe tbody tr th:only-of-type {\n",
       "        vertical-align: middle;\n",
       "    }\n",
       "\n",
       "    .dataframe tbody tr th {\n",
       "        vertical-align: top;\n",
       "    }\n",
       "\n",
       "    .dataframe thead th {\n",
       "        text-align: right;\n",
       "    }\n",
       "</style>\n",
       "<table border=\"1\" class=\"dataframe\">\n",
       "  <thead>\n",
       "    <tr style=\"text-align: right;\">\n",
       "      <th></th>\n",
       "      <th>Country/Region</th>\n",
       "      <th>Date</th>\n",
       "      <th>Latitude</th>\n",
       "      <th>Longitude</th>\n",
       "      <th>Confirmed</th>\n",
       "      <th>Recovered</th>\n",
       "      <th>Deaths</th>\n",
       "      <th>Predictions</th>\n",
       "    </tr>\n",
       "  </thead>\n",
       "  <tbody>\n",
       "    <tr>\n",
       "      <th>0</th>\n",
       "      <td>France</td>\n",
       "      <td>2020-01-24</td>\n",
       "      <td>14.6415</td>\n",
       "      <td>-56.3159</td>\n",
       "      <td>2.0</td>\n",
       "      <td>0.0</td>\n",
       "      <td>0.0</td>\n",
       "      <td>NaN</td>\n",
       "    </tr>\n",
       "    <tr>\n",
       "      <th>1</th>\n",
       "      <td>France</td>\n",
       "      <td>2020-01-25</td>\n",
       "      <td>14.6415</td>\n",
       "      <td>-56.3159</td>\n",
       "      <td>3.0</td>\n",
       "      <td>0.0</td>\n",
       "      <td>0.0</td>\n",
       "      <td>NaN</td>\n",
       "    </tr>\n",
       "    <tr>\n",
       "      <th>2</th>\n",
       "      <td>France</td>\n",
       "      <td>2020-01-26</td>\n",
       "      <td>14.6415</td>\n",
       "      <td>-56.3159</td>\n",
       "      <td>3.0</td>\n",
       "      <td>0.0</td>\n",
       "      <td>0.0</td>\n",
       "      <td>NaN</td>\n",
       "    </tr>\n",
       "    <tr>\n",
       "      <th>3</th>\n",
       "      <td>France</td>\n",
       "      <td>2020-01-27</td>\n",
       "      <td>14.6415</td>\n",
       "      <td>-56.3159</td>\n",
       "      <td>3.0</td>\n",
       "      <td>0.0</td>\n",
       "      <td>0.0</td>\n",
       "      <td>NaN</td>\n",
       "    </tr>\n",
       "    <tr>\n",
       "      <th>4</th>\n",
       "      <td>France</td>\n",
       "      <td>2020-01-28</td>\n",
       "      <td>14.6415</td>\n",
       "      <td>-56.3159</td>\n",
       "      <td>4.0</td>\n",
       "      <td>0.0</td>\n",
       "      <td>0.0</td>\n",
       "      <td>NaN</td>\n",
       "    </tr>\n",
       "    <tr>\n",
       "      <th>...</th>\n",
       "      <td>...</td>\n",
       "      <td>...</td>\n",
       "      <td>...</td>\n",
       "      <td>...</td>\n",
       "      <td>...</td>\n",
       "      <td>...</td>\n",
       "      <td>...</td>\n",
       "      <td>...</td>\n",
       "    </tr>\n",
       "    <tr>\n",
       "      <th>367</th>\n",
       "      <td>NaN</td>\n",
       "      <td>2021-01-25</td>\n",
       "      <td>NaN</td>\n",
       "      <td>NaN</td>\n",
       "      <td>NaN</td>\n",
       "      <td>NaN</td>\n",
       "      <td>NaN</td>\n",
       "      <td>60434.677846</td>\n",
       "    </tr>\n",
       "    <tr>\n",
       "      <th>368</th>\n",
       "      <td>NaN</td>\n",
       "      <td>2021-01-26</td>\n",
       "      <td>NaN</td>\n",
       "      <td>NaN</td>\n",
       "      <td>NaN</td>\n",
       "      <td>NaN</td>\n",
       "      <td>NaN</td>\n",
       "      <td>60532.754494</td>\n",
       "    </tr>\n",
       "    <tr>\n",
       "      <th>369</th>\n",
       "      <td>NaN</td>\n",
       "      <td>2021-01-27</td>\n",
       "      <td>NaN</td>\n",
       "      <td>NaN</td>\n",
       "      <td>NaN</td>\n",
       "      <td>NaN</td>\n",
       "      <td>NaN</td>\n",
       "      <td>60486.535972</td>\n",
       "    </tr>\n",
       "    <tr>\n",
       "      <th>370</th>\n",
       "      <td>NaN</td>\n",
       "      <td>2021-01-28</td>\n",
       "      <td>NaN</td>\n",
       "      <td>NaN</td>\n",
       "      <td>NaN</td>\n",
       "      <td>NaN</td>\n",
       "      <td>NaN</td>\n",
       "      <td>60441.811373</td>\n",
       "    </tr>\n",
       "    <tr>\n",
       "      <th>371</th>\n",
       "      <td>NaN</td>\n",
       "      <td>2021-01-29</td>\n",
       "      <td>NaN</td>\n",
       "      <td>NaN</td>\n",
       "      <td>NaN</td>\n",
       "      <td>NaN</td>\n",
       "      <td>NaN</td>\n",
       "      <td>60533.041914</td>\n",
       "    </tr>\n",
       "  </tbody>\n",
       "</table>\n",
       "<p>372 rows × 8 columns</p>\n",
       "</div>"
      ],
      "text/plain": [
       "    Country/Region       Date  Latitude  Longitude  Confirmed  Recovered  \\\n",
       "0           France 2020-01-24   14.6415   -56.3159        2.0        0.0   \n",
       "1           France 2020-01-25   14.6415   -56.3159        3.0        0.0   \n",
       "2           France 2020-01-26   14.6415   -56.3159        3.0        0.0   \n",
       "3           France 2020-01-27   14.6415   -56.3159        3.0        0.0   \n",
       "4           France 2020-01-28   14.6415   -56.3159        4.0        0.0   \n",
       "..             ...        ...       ...        ...        ...        ...   \n",
       "367            NaN 2021-01-25       NaN        NaN        NaN        NaN   \n",
       "368            NaN 2021-01-26       NaN        NaN        NaN        NaN   \n",
       "369            NaN 2021-01-27       NaN        NaN        NaN        NaN   \n",
       "370            NaN 2021-01-28       NaN        NaN        NaN        NaN   \n",
       "371            NaN 2021-01-29       NaN        NaN        NaN        NaN   \n",
       "\n",
       "     Deaths   Predictions  \n",
       "0       0.0           NaN  \n",
       "1       0.0           NaN  \n",
       "2       0.0           NaN  \n",
       "3       0.0           NaN  \n",
       "4       0.0           NaN  \n",
       "..      ...           ...  \n",
       "367     NaN  60434.677846  \n",
       "368     NaN  60532.754494  \n",
       "369     NaN  60486.535972  \n",
       "370     NaN  60441.811373  \n",
       "371     NaN  60533.041914  \n",
       "\n",
       "[372 rows x 8 columns]"
      ]
     },
     "execution_count": 54,
     "metadata": {},
     "output_type": "execute_result"
    }
   ],
   "source": [
    "result = scenario.result.read()\n",
    "result"
   ]
  },
  {
   "cell_type": "markdown",
   "id": "53c5cbc8",
   "metadata": {
    "id": "53c5cbc8"
   },
   "source": [
    "**Tips** : the _value_by_id_ property if set to True for a selected will make _selected_scenario_ directly refer to the first element of the tupple (here the id)"
   ]
  },
  {
   "cell_type": "markdown",
   "id": "4d705028",
   "metadata": {
    "id": "4d705028"
   },
   "source": [
    "![](img/predictions.png)"
   ]
  },
  {
   "cell_type": "code",
   "execution_count": 55,
   "id": "ff76ef5f",
   "metadata": {
    "id": "ff76ef5f"
   },
   "outputs": [],
   "source": [
    "prediction_md = \"\"\"\n",
    "<|layout|columns=1 5 5 1 3|\n",
    "<|{scenario_name}|input|label=Name|>\n",
    "\n",
    "<br/>\n",
    "<|Create|button|on_action=create_new_scenario|>\n",
    "\n",
    "<|{first_date}|date|>\n",
    "\n",
    "<|{selected_country}|selector|lov={selector_country}|dropdown|on_change=on_change_country|label=Country|>\n",
    "\n",
    "<br/>\n",
    "<|Submit|button|on_action=submit_scenario|>\n",
    "\n",
    "<|{selected_scenario}|selector|lov={scenario_selector}|on_change=actualize_graph|dropdown|value_by_id|label=Scenario|>\n",
    "|>\n",
    "\n",
    "<|{result}|chart|x=Date|y[1]=Deaths|type[1]=bar|y[2]=Predictions|>\n",
    "\"\"\""
   ]
  },
  {
   "cell_type": "code",
   "execution_count": 56,
   "id": "de9e35b6",
   "metadata": {
    "id": "de9e35b6"
   },
   "outputs": [],
   "source": [
    "def create_new_scenario(state):\n",
    "    scenario = tp.create_scenario(scenario_cfg, name=state.scenario_name)\n",
    "    state.scenario_selector += [(scenario.id, scenario.name)]"
   ]
  },
  {
   "cell_type": "code",
   "execution_count": 57,
   "id": "ef2d2fff",
   "metadata": {
    "id": "ef2d2fff"
   },
   "outputs": [],
   "source": [
    "def actualize_graph(state):\n",
    "    # 1) update the result dataframe\n",
    "    # 2) change selected_country with the predicted country of the scenario\n",
    "    scenario = tp.get(state.selected_scenario)\n",
    "    state.result = scenario.result.read()\n",
    "    state.selected_country = scenario.country.read()"
   ]
  },
  {
   "cell_type": "code",
   "execution_count": 58,
   "id": "41f73a34",
   "metadata": {
    "id": "41f73a34"
   },
   "outputs": [],
   "source": [
    "def submit_scenario(state):\n",
    "    # 1) get the selected scenario\n",
    "    # 2) write in country Data Node, the selected country\n",
    "    # 3) submit the scenario\n",
    "    # 4) actualize le graph avec actualize_graph\n",
    "    scenario = tp.get(state.selected_scenario)\n",
    "    scenario.country.write(state.selected_country)\n",
    "    scenario.date.write(state.first_date.replace(tzinfo=None))\n",
    "    tp.submit(scenario)\n",
    "    actualize_graph(state)"
   ]
  },
  {
   "cell_type": "code",
   "execution_count": 59,
   "id": "b9d18b7f",
   "metadata": {
    "id": "b9d18b7f",
    "outputId": "f0b7e1d3-3a44-4f8d-fccf-95065ae86ea1"
   },
   "outputs": [
    {
     "name": "stdout",
     "output_type": "stream",
     "text": [
      "Gui server has been stopped\n",
      " * Server starting on http://127.0.0.1:8000\n",
      " * Serving Flask app 'Taipy' (lazy loading)\n",
      " * Environment: production\n",
      "\u001b[31m   WARNING: This is a development server. Do not use it in a production deployment.\u001b[0m\n",
      "\u001b[2m   Use a production WSGI server instead.\u001b[0m\n",
      " * Debug mode: off\n"
     ]
    }
   ],
   "source": [
    "gui.stop()\n",
    "page.set_content(prediction_md)\n",
    "gui.run()"
   ]
  },
  {
   "cell_type": "markdown",
   "id": "40a63136",
   "metadata": {
    "id": "40a63136"
   },
   "source": [
    "# Multi-pages and Taipy Rest"
   ]
  },
  {
   "cell_type": "markdown",
   "id": "9b4d3ab8",
   "metadata": {
    "id": "9b4d3ab8"
   },
   "source": [
    "To create a multi-pages app, we only need a dictionary with names as the keys and the Markdowns as the values.\n",
    "\n",
    "The _navbar_ control (<|navbar|>) has a default behaviour. It redirects to the different pages of the app automatically. Other solutions exists."
   ]
  },
  {
   "cell_type": "markdown",
   "id": "77019d17",
   "metadata": {
    "id": "77019d17"
   },
   "source": [
    "![](img/multi_pages.png)"
   ]
  },
  {
   "cell_type": "code",
   "execution_count": 60,
   "id": "b0db7725",
   "metadata": {
    "id": "b0db7725",
    "outputId": "26b9efff-d31d-429a-ca16-a7f07e704605"
   },
   "outputs": [
    {
     "name": "stdout",
     "output_type": "stream",
     "text": [
      " * Server starting on http://127.0.0.1:5006\n",
      " * Serving Flask app 'taipy.rest.app' (lazy loading)\n",
      " * Environment: None\n",
      " * Debug mode: off\n"
     ]
    },
    {
     "name": "stderr",
     "output_type": "stream",
     "text": [
      "C:\\Users\\jacta\\anaconda3\\lib\\site-packages\\taipy\\gui\\gui.py:726: UserWarning: on_action: 'submit_scenario' function invocation exception: 'datetime.datetime' object has no attribute 'tz_localize'\n",
      "  warnings.warn(f\"on_action: '{action_function.__name__}' function invocation exception: {e}\")\n",
      "C:\\Users\\jacta\\anaconda3\\lib\\site-packages\\taipy\\gui\\gui.py:701: UserWarning: on_action: 'submit_scenario' is not a function\n",
      "  warnings.warn(f\"on_action: '{action}' is not a function\")\n"
     ]
    }
   ],
   "source": [
    "navbar_md = \"<center>\\n<|navbar|>\\n</center>\"\n",
    "\n",
    "pages = {\n",
    "    \"Map\":navbar_md+map_md,\n",
    "    \"Country\":navbar_md+final_country_md,\n",
    "    \"Predictions\":navbar_md+prediction_md\n",
    "}\n",
    "\n",
    "rest = tp.Rest()\n",
    "\n",
    "gui_multi_pages = Gui(pages=pages)\n",
    "tp.run(gui_multi_pages, rest, dark_mode=False, port=5006)"
   ]
  }
 ],
 "metadata": {
  "colab": {
   "collapsed_sections": [
    "b4ac0541",
    "6580b5fe",
    "f84e0a88",
    "cd4d0268",
    "f48f94cd",
    "6e528ce2",
    "6ab0529e",
    "b19ed6d7",
    "e9a53d43",
    "1908c988",
    "849d0a97",
    "73ab0ee0",
    "252820b6",
    "27dbc823",
    "986ebad5",
    "d9915978",
    "ba83beac",
    "73fd648f"
   ],
   "name": "Microsoft_workshop-solution_en.ipynb",
   "provenance": []
  },
  "kernelspec": {
   "display_name": "Python 3",
   "language": "python",
   "name": "python3"
  },
  "language_info": {
   "codemirror_mode": {
    "name": "ipython",
    "version": 3
   },
   "file_extension": ".py",
   "mimetype": "text/x-python",
   "name": "python",
   "nbconvert_exporter": "python",
   "pygments_lexer": "ipython3",
   "version": "3.8.5"
  }
 },
 "nbformat": 4,
 "nbformat_minor": 5
}
