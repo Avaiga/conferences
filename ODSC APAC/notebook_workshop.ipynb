{
 "cells": [
  {
   "cell_type": "markdown",
   "id": "306e5793",
   "metadata": {
    "id": "306e5793"
   },
   "source": [
    "# Install Taipy\n",
    "\n",
    "To install Taipy, just `pip install` it."
   ]
  },
  {
   "cell_type": "code",
   "execution_count": 1,
   "id": "c9cd05ba",
   "metadata": {
    "id": "c9cd05ba",
    "outputId": "3b72f1f4-8d12-40dd-cbda-5c85e8b516f8"
   },
   "outputs": [
    {
     "name": "stdout",
     "output_type": "stream",
     "text": [
      "Requirement already satisfied: taipy in c:\\users\\jacta\\anaconda3\\lib\\site-packages (1.1.0)Note: you may need to restart the kernel to use updated packages.\n",
      "Requirement already satisfied: taipy-rest<1.2,>=1.1 in c:\\users\\jacta\\anaconda3\\lib\\site-packages (from taipy) (1.1.1)\n",
      "Requirement already satisfied: taipy-gui<1.2,>=1.1 in c:\\users\\jacta\\anaconda3\\lib\\site-packages (from taipy) (1.1.1)\n",
      "Requirement already satisfied: flask-talisman<2.0,>=1.0 in c:\\users\\jacta\\anaconda3\\lib\\site-packages (from taipy-gui<1.2,>=1.1->taipy) (1.0.0)\n",
      "Requirement already satisfied: simple-websocket<0.6,>=0.3 in c:\\users\\jacta\\anaconda3\\lib\\site-packages (from taipy-gui<1.2,>=1.1->taipy) (0.5.1)\n",
      "Requirement already satisfied: flask<3.0,>=2.1 in c:\\users\\jacta\\anaconda3\\lib\\site-packages (from taipy-gui<1.2,>=1.1->taipy) (2.1.1)\n",
      "Requirement already satisfied: pandas<2.0,>=1.3.4 in c:\\users\\jacta\\anaconda3\\lib\\site-packages (from taipy-gui<1.2,>=1.1->taipy) (1.4.2)\n",
      "Requirement already satisfied: backports.zoneinfo<0.3,>=0.2.1 in c:\\users\\jacta\\anaconda3\\lib\\site-packages (from taipy-gui<1.2,>=1.1->taipy) (0.2.1)\n",
      "Requirement already satisfied: markdown<4.0,>=3.3.4 in c:\\users\\jacta\\anaconda3\\lib\\site-packages (from taipy-gui<1.2,>=1.1->taipy) (3.3.4)\n",
      "Requirement already satisfied: flask-socketio<6.0,>=5.1.1 in c:\\users\\jacta\\anaconda3\\lib\\site-packages (from taipy-gui<1.2,>=1.1->taipy) (5.1.1)\n",
      "Requirement already satisfied: pytz<2022.2,>=2021.3 in c:\\users\\jacta\\anaconda3\\lib\\site-packages (from taipy-gui<1.2,>=1.1->taipy) (2022.1)\n",
      "Requirement already satisfied: tzlocal<5.0,>=3.0 in c:\\users\\jacta\\anaconda3\\lib\\site-packages (from taipy-gui<1.2,>=1.1->taipy) (4.2)\n",
      "Requirement already satisfied: flask-cors<4.0,>=3.0.10 in c:\\users\\jacta\\anaconda3\\lib\\site-packages (from taipy-gui<1.2,>=1.1->taipy) (3.0.10)\n",
      "Requirement already satisfied: python-dotenv<0.21,>=0.19 in c:\\users\\jacta\\anaconda3\\lib\\site-packages (from taipy-gui<1.2,>=1.1->taipy) (0.20.0)\n",
      "Requirement already satisfied: Jinja2>=3.0 in c:\\users\\jacta\\anaconda3\\lib\\site-packages (from flask<3.0,>=2.1->taipy-gui<1.2,>=1.1->taipy) (3.1.1)\n",
      "Requirement already satisfied: importlib-metadata>=3.6.0 in c:\\users\\jacta\\anaconda3\\lib\\site-packages (from flask<3.0,>=2.1->taipy-gui<1.2,>=1.1->taipy) (3.10.0)\n",
      "Requirement already satisfied: itsdangerous>=2.0 in c:\\users\\jacta\\anaconda3\\lib\\site-packages (from flask<3.0,>=2.1->taipy-gui<1.2,>=1.1->taipy) (2.1.2)\n",
      "Requirement already satisfied: Werkzeug>=2.0 in c:\\users\\jacta\\anaconda3\\lib\\site-packages (from flask<3.0,>=2.1->taipy-gui<1.2,>=1.1->taipy) (2.0.0)\n",
      "Requirement already satisfied: click>=8.0 in c:\\users\\jacta\\anaconda3\\lib\\site-packages (from flask<3.0,>=2.1->taipy-gui<1.2,>=1.1->taipy) (8.1.2)\n",
      "Requirement already satisfied: colorama in c:\\users\\jacta\\anaconda3\\lib\\site-packages (from click>=8.0->flask<3.0,>=2.1->taipy-gui<1.2,>=1.1->taipy) (0.4.4)\n",
      "Requirement already satisfied: Six in c:\\users\\jacta\\anaconda3\\lib\\site-packages (from flask-cors<4.0,>=3.0.10->taipy-gui<1.2,>=1.1->taipy) (1.15.0)\n",
      "Requirement already satisfied: python-socketio>=5.0.2 in c:\\users\\jacta\\anaconda3\\lib\\site-packages (from flask-socketio<6.0,>=5.1.1->taipy-gui<1.2,>=1.1->taipy) (5.5.2)\n",
      "Requirement already satisfied: zipp>=0.5 in c:\\users\\jacta\\anaconda3\\lib\\site-packages (from importlib-metadata>=3.6.0->flask<3.0,>=2.1->taipy-gui<1.2,>=1.1->taipy) (3.4.1)\n",
      "Requirement already satisfied: MarkupSafe>=2.0 in c:\\users\\jacta\\anaconda3\\lib\\site-packages (from Jinja2>=3.0->flask<3.0,>=2.1->taipy-gui<1.2,>=1.1->taipy) (2.1.1)\n",
      "Requirement already satisfied: numpy>=1.18.5 in c:\\users\\jacta\\anaconda3\\lib\\site-packages (from pandas<2.0,>=1.3.4->taipy-gui<1.2,>=1.1->taipy) (1.21.0)\n",
      "Requirement already satisfied: python-dateutil>=2.8.1 in c:\\users\\jacta\\anaconda3\\lib\\site-packages (from pandas<2.0,>=1.3.4->taipy-gui<1.2,>=1.1->taipy) (2.8.1)\n",
      "Requirement already satisfied: bidict>=0.21.0 in c:\\users\\jacta\\anaconda3\\lib\\site-packages (from python-socketio>=5.0.2->flask-socketio<6.0,>=5.1.1->taipy-gui<1.2,>=1.1->taipy) (0.22.0)\n",
      "Requirement already satisfied: python-engineio>=4.3.0 in c:\\users\\jacta\\anaconda3\\lib\\site-packages (from python-socketio>=5.0.2->flask-socketio<6.0,>=5.1.1->taipy-gui<1.2,>=1.1->taipy) (4.3.1)\n",
      "Requirement already satisfied: wsproto in c:\\users\\jacta\\anaconda3\\lib\\site-packages (from simple-websocket<0.6,>=0.3->taipy-gui<1.2,>=1.1->taipy) (1.1.0)\n",
      "Requirement already satisfied: apispec[yaml]<6.0,>=5.1 in c:\\users\\jacta\\anaconda3\\lib\\site-packages (from taipy-rest<1.2,>=1.1->taipy) (5.1.1)\n",
      "Requirement already satisfied: flask-jwt-extended<5.0,>=4.3 in c:\\users\\jacta\\anaconda3\\lib\\site-packages (from taipy-rest<1.2,>=1.1->taipy) (4.3.1)\n",
      "Requirement already satisfied: flask-restful<0.4,>=0.3.9 in c:\\users\\jacta\\anaconda3\\lib\\site-packages (from taipy-rest<1.2,>=1.1->taipy) (0.3.9)\n",
      "Requirement already satisfied: flask-migrate<4.0,>=3.1 in c:\\users\\jacta\\anaconda3\\lib\\site-packages (from taipy-rest<1.2,>=1.1->taipy) (3.1.0)\n",
      "Requirement already satisfied: flask-marshmallow<0.15,>=0.14 in c:\\users\\jacta\\anaconda3\\lib\\site-packages (from taipy-rest<1.2,>=1.1->taipy) (0.14.0)\n",
      "Requirement already satisfied: marshmallow-sqlalchemy<0.29,>=0.25 in c:\\users\\jacta\\anaconda3\\lib\\site-packages (from taipy-rest<1.2,>=1.1->taipy) (0.28.0)\n",
      "Requirement already satisfied: passlib<1.8,>=1.7.4 in c:\\users\\jacta\\anaconda3\\lib\\site-packages (from taipy-rest<1.2,>=1.1->taipy) (1.7.4)\n",
      "Requirement already satisfied: taipy-core<1.2,>=1.1 in c:\\users\\jacta\\anaconda3\\lib\\site-packages (from taipy-rest<1.2,>=1.1->taipy) (1.1.2)\n",
      "Requirement already satisfied: apispec-webframeworks<0.6,>=0.5.2 in c:\\users\\jacta\\anaconda3\\lib\\site-packages (from taipy-rest<1.2,>=1.1->taipy) (0.5.2)\n",
      "Requirement already satisfied: PyYAML>=3.10 in c:\\users\\jacta\\anaconda3\\lib\\site-packages (from apispec[yaml]<6.0,>=5.1->taipy-rest<1.2,>=1.1->taipy) (5.4.1)\n",
      "Requirement already satisfied: PyJWT<3.0,>=2.0 in c:\\users\\jacta\\anaconda3\\lib\\site-packages (from flask-jwt-extended<5.0,>=4.3->taipy-rest<1.2,>=1.1->taipy) (2.1.0)\n",
      "Requirement already satisfied: marshmallow>=2.0.0 in c:\\users\\jacta\\anaconda3\\lib\\site-packages (from flask-marshmallow<0.15,>=0.14->taipy-rest<1.2,>=1.1->taipy) (3.15.0)\n",
      "Requirement already satisfied: alembic>=0.7 in c:\\users\\jacta\\anaconda3\\lib\\site-packages (from flask-migrate<4.0,>=3.1->taipy-rest<1.2,>=1.1->taipy) (1.7.7)\n",
      "Requirement already satisfied: Flask-SQLAlchemy>=1.0 in c:\\users\\jacta\\anaconda3\\lib\\site-packages (from flask-migrate<4.0,>=3.1->taipy-rest<1.2,>=1.1->taipy) (2.5.1)\n",
      "Requirement already satisfied: SQLAlchemy>=1.3.0 in c:\\users\\jacta\\anaconda3\\lib\\site-packages (from alembic>=0.7->flask-migrate<4.0,>=3.1->taipy-rest<1.2,>=1.1->taipy) (1.4.35)\n",
      "Requirement already satisfied: Mako in c:\\users\\jacta\\anaconda3\\lib\\site-packages (from alembic>=0.7->flask-migrate<4.0,>=3.1->taipy-rest<1.2,>=1.1->taipy) (1.2.0)\n",
      "Requirement already satisfied: importlib-resources in c:\\users\\jacta\\anaconda3\\lib\\site-packages (from alembic>=0.7->flask-migrate<4.0,>=3.1->taipy-rest<1.2,>=1.1->taipy) (5.6.0)\n",
      "Requirement already satisfied: aniso8601>=0.82 in c:\\users\\jacta\\anaconda3\\lib\\site-packages (from flask-restful<0.4,>=0.3.9->taipy-rest<1.2,>=1.1->taipy) (9.0.1)\n",
      "Requirement already satisfied: packaging in c:\\users\\jacta\\anaconda3\\lib\\site-packages (from marshmallow>=2.0.0->flask-marshmallow<0.15,>=0.14->taipy-rest<1.2,>=1.1->taipy) (21.3)\n",
      "Requirement already satisfied: greenlet!=0.4.17 in c:\\users\\jacta\\anaconda3\\lib\\site-packages (from SQLAlchemy>=1.3.0->alembic>=0.7->flask-migrate<4.0,>=3.1->taipy-rest<1.2,>=1.1->taipy) (1.1.2)\n",
      "Requirement already satisfied: networkx<3.0,>=2.6 in c:\\users\\jacta\\anaconda3\\lib\\site-packages (from taipy-core<1.2,>=1.1->taipy-rest<1.2,>=1.1->taipy) (2.7.1)\n",
      "Requirement already satisfied: openpyxl<4.0,>=3.0.3 in c:\\users\\jacta\\anaconda3\\lib\\site-packages (from taipy-core<1.2,>=1.1->taipy-rest<1.2,>=1.1->taipy) (3.0.9)\n",
      "Requirement already satisfied: toml<0.11,>=0.10 in c:\\users\\jacta\\anaconda3\\lib\\site-packages (from taipy-core<1.2,>=1.1->taipy-rest<1.2,>=1.1->taipy) (0.10.2)\n",
      "Requirement already satisfied: et-xmlfile in c:\\users\\jacta\\anaconda3\\lib\\site-packages (from openpyxl<4.0,>=3.0.3->taipy-core<1.2,>=1.1->taipy-rest<1.2,>=1.1->taipy) (1.1.0)\n",
      "Requirement already satisfied: pytz-deprecation-shim in c:\\users\\jacta\\anaconda3\\lib\\site-packages (from tzlocal<5.0,>=3.0->taipy-gui<1.2,>=1.1->taipy) (0.1.0.post0)\n",
      "Requirement already satisfied: tzdata in c:\\users\\jacta\\anaconda3\\lib\\site-packages (from tzlocal<5.0,>=3.0->taipy-gui<1.2,>=1.1->taipy) (2022.1)\n",
      "Requirement already satisfied: pyparsing!=3.0.5,>=2.0.2 in c:\\users\\jacta\\anaconda3\\lib\\site-packages (from packaging->marshmallow>=2.0.0->flask-marshmallow<0.15,>=0.14->taipy-rest<1.2,>=1.1->taipy) (2.4.7)\n",
      "Requirement already satisfied: h11<1,>=0.9.0 in c:\\users\\jacta\\anaconda3\\lib\\site-packages (from wsproto->simple-websocket<0.6,>=0.3->taipy-gui<1.2,>=1.1->taipy) (0.13.0)\n",
      "\n"
     ]
    }
   ],
   "source": [
    "pip install taipy"
   ]
  },
  {
   "cell_type": "code",
   "execution_count": 2,
   "id": "c870cd8b",
   "metadata": {
    "id": "c870cd8b"
   },
   "outputs": [
    {
     "name": "stdout",
     "output_type": "stream",
     "text": [
      "Requirement already satisfied: pmdarima in c:\\users\\jacta\\anaconda3\\lib\\site-packages (1.8.5)\n",
      "Requirement already satisfied: scipy>=1.3.2 in c:\\users\\jacta\\anaconda3\\lib\\site-packages (from pmdarima) (1.7.1)\n",
      "Requirement already satisfied: numpy>=1.19.3 in c:\\users\\jacta\\anaconda3\\lib\\site-packages (from pmdarima) (1.21.0)\n",
      "Requirement already satisfied: urllib3 in c:\\users\\jacta\\anaconda3\\lib\\site-packages (from pmdarima) (1.26.4)\n",
      "Requirement already satisfied: scikit-learn>=0.22 in c:\\users\\jacta\\anaconda3\\lib\\site-packages (from pmdarima) (1.0.2)\n",
      "Requirement already satisfied: joblib>=0.11 in c:\\users\\jacta\\anaconda3\\lib\\site-packages (from pmdarima) (1.1.0)\n",
      "Requirement already satisfied: statsmodels!=0.12.0,>=0.11 in c:\\users\\jacta\\anaconda3\\lib\\site-packages (from pmdarima) (0.13.2)\n",
      "Requirement already satisfied: setuptools!=50.0.0,>=38.6.0 in c:\\users\\jacta\\anaconda3\\lib\\site-packages (from pmdarima) (52.0.0.post20210125)\n",
      "Requirement already satisfied: Cython!=0.29.18,>=0.29 in c:\\users\\jacta\\anaconda3\\lib\\site-packages (from pmdarima) (0.29.30)\n",
      "Requirement already satisfied: pandas>=0.19 in c:\\users\\jacta\\anaconda3\\lib\\site-packages (from pmdarima) (1.4.2)\n",
      "Requirement already satisfied: python-dateutil>=2.8.1 in c:\\users\\jacta\\anaconda3\\lib\\site-packages (from pandas>=0.19->pmdarima) (2.8.1)\n",
      "Requirement already satisfied: pytz>=2020.1 in c:\\users\\jacta\\anaconda3\\lib\\site-packages (from pandas>=0.19->pmdarima) (2022.1)\n",
      "Requirement already satisfied: six>=1.5 in c:\\users\\jacta\\anaconda3\\lib\\site-packages (from python-dateutil>=2.8.1->pandas>=0.19->pmdarima) (1.15.0)\n",
      "Requirement already satisfied: threadpoolctl>=2.0.0 in c:\\users\\jacta\\anaconda3\\lib\\site-packages (from scikit-learn>=0.22->pmdarima) (3.1.0)\n",
      "Requirement already satisfied: packaging>=21.3 in c:\\users\\jacta\\anaconda3\\lib\\site-packages (from statsmodels!=0.12.0,>=0.11->pmdarima) (21.3)\n",
      "Requirement already satisfied: patsy>=0.5.2 in c:\\users\\jacta\\anaconda3\\lib\\site-packages (from statsmodels!=0.12.0,>=0.11->pmdarima) (0.5.2)\n",
      "Requirement already satisfied: pyparsing!=3.0.5,>=2.0.2 in c:\\users\\jacta\\anaconda3\\lib\\site-packages (from packaging>=21.3->statsmodels!=0.12.0,>=0.11->pmdarima) (2.4.7)\n",
      "Note: you may need to restart the kernel to use updated packages.\n"
     ]
    }
   ],
   "source": [
    "pip install pmdarima"
   ]
  },
  {
   "cell_type": "markdown",
   "id": "c42e5ded",
   "metadata": {
    "id": "c42e5ded"
   },
   "source": [
    "# Import the packages et initialization"
   ]
  },
  {
   "cell_type": "code",
   "execution_count": 3,
   "id": "d69871ac",
   "metadata": {
    "id": "d69871ac"
   },
   "outputs": [],
   "source": [
    "from taipy.gui import Gui, Markdown, notify\n",
    "from taipy import Config, Scope\n",
    "import taipy as tp\n",
    "\n",
    "import datetime as dt\n",
    "\n",
    "from pmdarima import auto_arima\n",
    "\n",
    "from sklearn.linear_model import LinearRegression\n",
    "\n",
    "import pandas as pd\n",
    "import numpy as np"
   ]
  },
  {
   "cell_type": "code",
   "execution_count": 4,
   "id": "62085243",
   "metadata": {
    "id": "62085243"
   },
   "outputs": [],
   "source": [
    "from pandas.core.common import SettingWithCopyWarning\n",
    "import warnings\n",
    "\n",
    "warnings.simplefilter(action=\"ignore\", category=SettingWithCopyWarning)\n",
    "\n",
    "data_country_date = None\n",
    "selected_country = None\n",
    "\n",
    "selected_scenario = None\n",
    "scenario_selector = None\n",
    "\n",
    "first_date = dt.datetime(2020,11,1)\n",
    "\n",
    "scenario_name = None\n",
    "\n",
    "result = None\n",
    "\n",
    "selected_points = []\n",
    "\n",
    "data_province_displayed = None\n",
    "\n",
    "api_year = None\n",
    "api_pop = None\n",
    "api_country = None"
   ]
  },
  {
   "cell_type": "markdown",
   "id": "81074375",
   "metadata": {
    "id": "81074375"
   },
   "source": [
    "# Taipy Gui Basics\n",
    "## Markdown Syntax"
   ]
  },
  {
   "cell_type": "markdown",
   "id": "8ad49481",
   "metadata": {
    "id": "8ad49481"
   },
   "source": [
    "Taipy uses the Markdown syntax to display elements. `#` creates a title, `*` puts your text in italics and `**` puts it in bold."
   ]
  },
  {
   "cell_type": "markdown",
   "id": "929a56cf",
   "metadata": {
    "id": "929a56cf"
   },
   "source": [
    "![](img/gui_basic.png)"
   ]
  },
  {
   "cell_type": "code",
   "execution_count": 5,
   "id": "a170a8e5",
   "metadata": {
    "id": "a170a8e5"
   },
   "outputs": [],
   "source": [
    "page_md = \"\"\"\n",
    "# Taipy\n",
    "\n",
    "Test **here** to put some *markdown*\n",
    "\n",
    "Click to access the [doc](https://docs.taipy.io/en/latest/)\n",
    "\"\"\""
   ]
  },
  {
   "cell_type": "code",
   "execution_count": 6,
   "id": "1cf6cf9d",
   "metadata": {
    "id": "1cf6cf9d",
    "outputId": "d69b4a02-2df5-4830-a043-9c2b5a423d0b"
   },
   "outputs": [
    {
     "name": "stdout",
     "output_type": "stream",
     "text": [
      " * Server starting on http://127.0.0.1:6007\n",
      " * Serving Flask app 'Taipy' (lazy loading)\n",
      " * Environment: production\n",
      "\u001b[31m   WARNING: This is a development server. Do not use it in a production deployment.\u001b[0m\n",
      "\u001b[2m   Use a production WSGI server instead.\u001b[0m\n"
     ]
    }
   ],
   "source": [
    "page = Markdown(page_md)\n",
    "\n",
    "gui = Gui(page=page)\n",
    "gui.run(dark_mode=False, port=6007)"
   ]
  },
  {
   "cell_type": "markdown",
   "id": "ea452214",
   "metadata": {
    "id": "ea452214"
   },
   "source": [
    "## Visual elements\n",
    "Create different visual elements. The syntax is always the same for each visual element.  `<|{value}|name_of_visual_element|property_1=value_of_property_1|...|>`\n",
    "- Create a [slider](https://docs.taipy.io/en/latest/manuals/gui/viselements/slider/) `<|{value}|slider|>`\n",
    "\n",
    "- Create a [date](https://docs.taipy.io/en/latest/manuals/gui/viselements/date/) `<|{value}|date|>`\n",
    "\n",
    "- Create a [selector](https://docs.taipy.io/en/latest/manuals/gui/viselements/selector/) `<|{value}|selector|lov={list_of_values}|>`\n"
   ]
  },
  {
   "cell_type": "markdown",
   "id": "68f228f9",
   "metadata": {
    "id": "68f228f9"
   },
   "source": [
    "![](img/control.png)"
   ]
  },
  {
   "cell_type": "code",
   "execution_count": 7,
   "id": "eb6455bd",
   "metadata": {
    "id": "eb6455bd"
   },
   "outputs": [
    {
     "name": "stdout",
     "output_type": "stream",
     "text": [
      " * Debug mode: off\r\n"
     ]
    }
   ],
   "source": [
    "slider_value = 0\n",
    "date_value = None\n",
    "selected_value = None"
   ]
  },
  {
   "cell_type": "code",
   "execution_count": 8,
   "id": "bc42cca4",
   "metadata": {
    "id": "bc42cca4"
   },
   "outputs": [],
   "source": [
    "selector = ['Test 1', 'Test 2', 'Test 3']\n",
    "\n",
    "control_md = \"\"\"\n",
    "## Controls\n",
    "\n",
    "<|{slider_value}|slider|> <|{slider_value}|>\n",
    "\n",
    "<|{date_value}|date|> <|{date_value}|>\n",
    "\n",
    "<|{selected_value}|selector|lov={selector}|>  <|{selected_value}|>\n",
    "\"\"\""
   ]
  },
  {
   "cell_type": "code",
   "execution_count": 9,
   "id": "5986d8a8",
   "metadata": {
    "id": "5986d8a8",
    "outputId": "7691b852-4d69-4402-f02e-53d5feb44529"
   },
   "outputs": [
    {
     "name": "stdout",
     "output_type": "stream",
     "text": [
      "Gui server has been stopped\n",
      " * Server starting on http://127.0.0.1:6007\n",
      " * Serving Flask app 'Taipy' (lazy loading)\n",
      " * Environment: production\n",
      "\u001b[31m   WARNING: This is a development server. Do not use it in a production deployment.\u001b[0m\n",
      "\u001b[2m   Use a production WSGI server instead.\u001b[0m\n",
      " * Debug mode: off\n"
     ]
    }
   ],
   "source": [
    "gui.stop()\n",
    "page.set_content(control_md)\n",
    "gui.run()"
   ]
  },
  {
   "cell_type": "markdown",
   "id": "b4ac0541",
   "metadata": {
    "id": "b4ac0541"
   },
   "source": [
    "## Data Viz\n",
    "\n",
    "A dataset gathering information on the number of deaths, confirmed cases and recovered for different regions is going to be used to create an interactive Dashboard."
   ]
  },
  {
   "cell_type": "code",
   "execution_count": 10,
   "id": "49bd29ff",
   "metadata": {
    "id": "49bd29ff",
    "outputId": "b0900888-a15b-4af2-a97d-f796aa28cc46"
   },
   "outputs": [
    {
     "data": {
      "text/html": [
       "<div>\n",
       "<style scoped>\n",
       "    .dataframe tbody tr th:only-of-type {\n",
       "        vertical-align: middle;\n",
       "    }\n",
       "\n",
       "    .dataframe tbody tr th {\n",
       "        vertical-align: top;\n",
       "    }\n",
       "\n",
       "    .dataframe thead th {\n",
       "        text-align: right;\n",
       "    }\n",
       "</style>\n",
       "<table border=\"1\" class=\"dataframe\">\n",
       "  <thead>\n",
       "    <tr style=\"text-align: right;\">\n",
       "      <th></th>\n",
       "      <th>Country/Region</th>\n",
       "      <th>Province/State</th>\n",
       "      <th>Latitude</th>\n",
       "      <th>Longitude</th>\n",
       "      <th>Confirmed</th>\n",
       "      <th>Recovered</th>\n",
       "      <th>Deaths</th>\n",
       "      <th>Date</th>\n",
       "    </tr>\n",
       "  </thead>\n",
       "  <tbody>\n",
       "    <tr>\n",
       "      <th>1241947</th>\n",
       "      <td>Vietnam</td>\n",
       "      <td>NaN</td>\n",
       "      <td>14.058324</td>\n",
       "      <td>108.277199</td>\n",
       "      <td>1465.0</td>\n",
       "      <td>1325.0</td>\n",
       "      <td>35.0</td>\n",
       "      <td>2020-12-31</td>\n",
       "    </tr>\n",
       "    <tr>\n",
       "      <th>1241948</th>\n",
       "      <td>West Bank and Gaza</td>\n",
       "      <td>NaN</td>\n",
       "      <td>31.952200</td>\n",
       "      <td>35.233200</td>\n",
       "      <td>138004.0</td>\n",
       "      <td>117183.0</td>\n",
       "      <td>1400.0</td>\n",
       "      <td>2020-12-31</td>\n",
       "    </tr>\n",
       "    <tr>\n",
       "      <th>1241949</th>\n",
       "      <td>Yemen</td>\n",
       "      <td>NaN</td>\n",
       "      <td>15.552727</td>\n",
       "      <td>48.516388</td>\n",
       "      <td>2099.0</td>\n",
       "      <td>1394.0</td>\n",
       "      <td>610.0</td>\n",
       "      <td>2020-12-31</td>\n",
       "    </tr>\n",
       "    <tr>\n",
       "      <th>1241950</th>\n",
       "      <td>Zambia</td>\n",
       "      <td>NaN</td>\n",
       "      <td>-13.133897</td>\n",
       "      <td>27.849332</td>\n",
       "      <td>20725.0</td>\n",
       "      <td>18660.0</td>\n",
       "      <td>388.0</td>\n",
       "      <td>2020-12-31</td>\n",
       "    </tr>\n",
       "    <tr>\n",
       "      <th>1241951</th>\n",
       "      <td>Zimbabwe</td>\n",
       "      <td>NaN</td>\n",
       "      <td>-19.015438</td>\n",
       "      <td>29.154857</td>\n",
       "      <td>13867.0</td>\n",
       "      <td>11250.0</td>\n",
       "      <td>363.0</td>\n",
       "      <td>2020-12-31</td>\n",
       "    </tr>\n",
       "  </tbody>\n",
       "</table>\n",
       "</div>"
      ],
      "text/plain": [
       "             Country/Region Province/State   Latitude   Longitude  Confirmed  \\\n",
       "1241947             Vietnam            NaN  14.058324  108.277199     1465.0   \n",
       "1241948  West Bank and Gaza            NaN  31.952200   35.233200   138004.0   \n",
       "1241949               Yemen            NaN  15.552727   48.516388     2099.0   \n",
       "1241950              Zambia            NaN -13.133897   27.849332    20725.0   \n",
       "1241951            Zimbabwe            NaN -19.015438   29.154857    13867.0   \n",
       "\n",
       "         Recovered  Deaths        Date  \n",
       "1241947     1325.0    35.0  2020-12-31  \n",
       "1241948   117183.0  1400.0  2020-12-31  \n",
       "1241949     1394.0   610.0  2020-12-31  \n",
       "1241950    18660.0   388.0  2020-12-31  \n",
       "1241951    11250.0   363.0  2020-12-31  "
      ]
     },
     "execution_count": 10,
     "metadata": {},
     "output_type": "execute_result"
    }
   ],
   "source": [
    "path_to_data = \"data/covid-19-all.csv\"\n",
    "data = pd.read_csv(path_to_data, low_memory=False)\n",
    "data[-5:]"
   ]
  },
  {
   "cell_type": "code",
   "execution_count": 11,
   "id": "18b5bb55",
   "metadata": {
    "id": "18b5bb55"
   },
   "outputs": [],
   "source": [
    "def initialize_case_evolution(data, selected_country='India'):\n",
    "    # Aggregation of the dataframe per Country/Region\n",
    "    data_country_date = data.groupby([\"Country/Region\",'Date'])\\\n",
    "                            .sum()\\\n",
    "                            .reset_index()\n",
    "    \n",
    "    # a country is selected, here India by default\n",
    "    data_country_date = data_country_date.loc[data_country_date['Country/Region']==selected_country]\n",
    "    return data_country_date"
   ]
  },
  {
   "cell_type": "code",
   "execution_count": 12,
   "id": "f5ae821c",
   "metadata": {
    "id": "f5ae821c",
    "outputId": "0ca17075-c088-437a-b6e3-48a798a0bdde"
   },
   "outputs": [
    {
     "data": {
      "text/html": [
       "<div>\n",
       "<style scoped>\n",
       "    .dataframe tbody tr th:only-of-type {\n",
       "        vertical-align: middle;\n",
       "    }\n",
       "\n",
       "    .dataframe tbody tr th {\n",
       "        vertical-align: top;\n",
       "    }\n",
       "\n",
       "    .dataframe thead th {\n",
       "        text-align: right;\n",
       "    }\n",
       "</style>\n",
       "<table border=\"1\" class=\"dataframe\">\n",
       "  <thead>\n",
       "    <tr style=\"text-align: right;\">\n",
       "      <th></th>\n",
       "      <th>Country/Region</th>\n",
       "      <th>Date</th>\n",
       "      <th>Latitude</th>\n",
       "      <th>Longitude</th>\n",
       "      <th>Confirmed</th>\n",
       "      <th>Recovered</th>\n",
       "      <th>Deaths</th>\n",
       "    </tr>\n",
       "  </thead>\n",
       "  <tbody>\n",
       "    <tr>\n",
       "      <th>23021</th>\n",
       "      <td>India</td>\n",
       "      <td>2020-01-30</td>\n",
       "      <td>23.746783</td>\n",
       "      <td>78.96288</td>\n",
       "      <td>1.0</td>\n",
       "      <td>0.0</td>\n",
       "      <td>0.0</td>\n",
       "    </tr>\n",
       "    <tr>\n",
       "      <th>23022</th>\n",
       "      <td>India</td>\n",
       "      <td>2020-01-31</td>\n",
       "      <td>23.746783</td>\n",
       "      <td>78.96288</td>\n",
       "      <td>1.0</td>\n",
       "      <td>0.0</td>\n",
       "      <td>0.0</td>\n",
       "    </tr>\n",
       "    <tr>\n",
       "      <th>23023</th>\n",
       "      <td>India</td>\n",
       "      <td>2020-02-01</td>\n",
       "      <td>23.746783</td>\n",
       "      <td>78.96288</td>\n",
       "      <td>1.0</td>\n",
       "      <td>0.0</td>\n",
       "      <td>0.0</td>\n",
       "    </tr>\n",
       "    <tr>\n",
       "      <th>23024</th>\n",
       "      <td>India</td>\n",
       "      <td>2020-02-02</td>\n",
       "      <td>23.746783</td>\n",
       "      <td>78.96288</td>\n",
       "      <td>2.0</td>\n",
       "      <td>0.0</td>\n",
       "      <td>0.0</td>\n",
       "    </tr>\n",
       "    <tr>\n",
       "      <th>23025</th>\n",
       "      <td>India</td>\n",
       "      <td>2020-02-03</td>\n",
       "      <td>23.746783</td>\n",
       "      <td>78.96288</td>\n",
       "      <td>3.0</td>\n",
       "      <td>0.0</td>\n",
       "      <td>0.0</td>\n",
       "    </tr>\n",
       "  </tbody>\n",
       "</table>\n",
       "</div>"
      ],
      "text/plain": [
       "      Country/Region        Date   Latitude  Longitude  Confirmed  Recovered  \\\n",
       "23021          India  2020-01-30  23.746783   78.96288        1.0        0.0   \n",
       "23022          India  2020-01-31  23.746783   78.96288        1.0        0.0   \n",
       "23023          India  2020-02-01  23.746783   78.96288        1.0        0.0   \n",
       "23024          India  2020-02-02  23.746783   78.96288        2.0        0.0   \n",
       "23025          India  2020-02-03  23.746783   78.96288        3.0        0.0   \n",
       "\n",
       "       Deaths  \n",
       "23021     0.0  \n",
       "23022     0.0  \n",
       "23023     0.0  \n",
       "23024     0.0  \n",
       "23025     0.0  "
      ]
     },
     "execution_count": 12,
     "metadata": {},
     "output_type": "execute_result"
    }
   ],
   "source": [
    "data_country_date = initialize_case_evolution(data)\n",
    "data_country_date.head()"
   ]
  },
  {
   "cell_type": "markdown",
   "id": "d1fd9854",
   "metadata": {
    "id": "d1fd9854"
   },
   "source": [
    "Create a [chart](https://docs.taipy.io/en/latest/manuals/gui/viselements/chart/) showing the evolution of Deaths in France (_Deaths_ for _y_ and _Date_ for _x_). The visual element (chart) has the same syntax as the other ones with specific properties (_x_, _y_, _type_ for example). Here are some [examples of charts](https://docs.taipy.io/en/release-1.1/manuals/gui/viselements/charts/bar/). The _x_ and _y_ porperties only needs the name of the dataframe columns to display."
   ]
  },
  {
   "cell_type": "markdown",
   "id": "bebeb0eb",
   "metadata": {
    "id": "bebeb0eb"
   },
   "source": [
    "![](img/simple_graph.png)"
   ]
  },
  {
   "cell_type": "code",
   "execution_count": 13,
   "id": "baa8dc69",
   "metadata": {
    "id": "baa8dc69"
   },
   "outputs": [],
   "source": [
    "country_md = \"<|{data_country_date}|chart|x=Date|y=Deaths|type=bar|>\""
   ]
  },
  {
   "cell_type": "code",
   "execution_count": 14,
   "id": "e83c2f04",
   "metadata": {
    "id": "e83c2f04",
    "outputId": "3e87cb87-81c4-4a45-8b35-156a2621457c"
   },
   "outputs": [
    {
     "name": "stdout",
     "output_type": "stream",
     "text": [
      "Gui server has been stopped\n",
      " * Server starting on http://127.0.0.1:6007\n",
      " * Serving Flask app 'Taipy' (lazy loading)\n",
      " * Environment: production\n",
      "\u001b[31m   WARNING: This is a development server. Do not use it in a production deployment.\u001b[0m\n",
      "\u001b[2m   Use a production WSGI server instead.\u001b[0m\n",
      " * Debug mode: off\n"
     ]
    }
   ],
   "source": [
    "gui.stop()\n",
    "page.set_content(country_md)\n",
    "gui.run()"
   ]
  },
  {
   "cell_type": "markdown",
   "id": "6580b5fe",
   "metadata": {
    "id": "6580b5fe"
   },
   "source": [
    "## Add new traces\n",
    "\n",
    "- Add on the graph the number of Confirmed and Recovered cases (_Confirmed_ and _Recovered_) with the number of Deaths\n",
    "- _y_ (and _x_) can be indexed this way to add more traces (`y[1]=`, `y[2]=`, `y[3]=`)."
   ]
  },
  {
   "cell_type": "markdown",
   "id": "baf9d2b6",
   "metadata": {
    "id": "baf9d2b6"
   },
   "source": [
    "![](img/multi_traces.png)"
   ]
  },
  {
   "cell_type": "code",
   "execution_count": 15,
   "id": "242756d9",
   "metadata": {
    "id": "242756d9"
   },
   "outputs": [],
   "source": [
    "country_md = \"<|{data_country_date}|chart|type=bar|x=Date|y[1]=Deaths|y[2]=Recovered|y[3]=Confirmed|>\""
   ]
  },
  {
   "cell_type": "code",
   "execution_count": 16,
   "id": "4f65f1a2",
   "metadata": {
    "id": "4f65f1a2",
    "outputId": "10b40d69-445e-4a73-f69f-0f67fc5a4b9a"
   },
   "outputs": [
    {
     "name": "stdout",
     "output_type": "stream",
     "text": [
      "Gui server has been stopped\n",
      " * Server starting on http://127.0.0.1:6007\n",
      " * Serving Flask app 'Taipy' (lazy loading)\n",
      " * Environment: production\n",
      "\u001b[31m   WARNING: This is a development server. Do not use it in a production deployment.\u001b[0m\n",
      "\u001b[2m   Use a production WSGI server instead.\u001b[0m\n",
      " * Debug mode: off\n"
     ]
    }
   ],
   "source": [
    "gui.stop()\n",
    "page.set_content(country_md)\n",
    "gui.run()"
   ]
  },
  {
   "cell_type": "markdown",
   "id": "f84e0a88",
   "metadata": {
    "id": "f84e0a88"
   },
   "source": [
    "## Style the graph with personnalized properties\n",
    "The _layout_ dictionnary specifies how bars should be displayed. They would be 'stacked'.\n",
    "\n",
    "The _options_ dictionary will change the opacity of the unselected markers.\n",
    "\n",
    "These are Plotly properties."
   ]
  },
  {
   "cell_type": "markdown",
   "id": "99c5d669",
   "metadata": {
    "id": "99c5d669"
   },
   "source": [
    "![](img/stack_chart.png)"
   ]
  },
  {
   "cell_type": "code",
   "execution_count": 17,
   "id": "f068e3ba",
   "metadata": {
    "id": "f068e3ba"
   },
   "outputs": [],
   "source": [
    "layout = {'barmode':'stack'}\n",
    "options = {\"unselected\":{\"marker\":{\"opacity\":0.5}}}\n",
    "country_md = \"<|{data_country_date}|chart|type=bar|x=Date|y[1]=Deaths|y[2]=Recovered|y[3]=Confirmed|layout={layout}|options={options}|>\""
   ]
  },
  {
   "cell_type": "code",
   "execution_count": 18,
   "id": "dfa787fb",
   "metadata": {
    "id": "dfa787fb",
    "outputId": "fa1a08c7-a1ed-4dde-c9c5-06cdd0db8872"
   },
   "outputs": [
    {
     "name": "stdout",
     "output_type": "stream",
     "text": [
      "Gui server has been stopped\n",
      " * Server starting on http://127.0.0.1:6007\n",
      " * Serving Flask app 'Taipy' (lazy loading)\n",
      " * Environment: production\n"
     ]
    }
   ],
   "source": [
    "gui.stop()\n",
    "page.set_content(country_md)\n",
    "gui.run()"
   ]
  },
  {
   "cell_type": "markdown",
   "id": "cd4d0268",
   "metadata": {
    "id": "cd4d0268"
   },
   "source": [
    "## Add texts that sums up the data\n",
    "\n",
    "Use the [text](https://docs.taipy.io/en/latest/manuals/gui/viselements/text/) visual element.\n",
    "\n",
    "- Add the total number of Deaths (last line of _data_country_date_)\n",
    "- Add the total number of Recovered (last line of _data_country_date_)\n",
    "- Add the total number of Confirmed (last line of _data_country_date_)\n"
   ]
  },
  {
   "cell_type": "code",
   "execution_count": 19,
   "id": "f9060a46",
   "metadata": {
    "id": "f9060a46",
    "outputId": "0d12534f-60a6-4acf-c555-5a6babd1c3d4"
   },
   "outputs": [
    {
     "name": "stdout",
     "output_type": "stream",
     "text": [
      "\u001b[31m   WARNING: This is a development server. Do not use it in a production deployment.\u001b[0m\r\n"
     ]
    },
    {
     "data": {
      "text/html": [
       "<div>\n",
       "<style scoped>\n",
       "    .dataframe tbody tr th:only-of-type {\n",
       "        vertical-align: middle;\n",
       "    }\n",
       "\n",
       "    .dataframe tbody tr th {\n",
       "        vertical-align: top;\n",
       "    }\n",
       "\n",
       "    .dataframe thead th {\n",
       "        text-align: right;\n",
       "    }\n",
       "</style>\n",
       "<table border=\"1\" class=\"dataframe\">\n",
       "  <thead>\n",
       "    <tr style=\"text-align: right;\">\n",
       "      <th></th>\n",
       "      <th>Country/Region</th>\n",
       "      <th>Date</th>\n",
       "      <th>Latitude</th>\n",
       "      <th>Longitude</th>\n",
       "      <th>Confirmed</th>\n",
       "      <th>Recovered</th>\n",
       "      <th>Deaths</th>\n",
       "    </tr>\n",
       "  </thead>\n",
       "  <tbody>\n",
       "    <tr>\n",
       "      <th>23021</th>\n",
       "      <td>India</td>\n",
       "      <td>2020-01-30</td>\n",
       "      <td>23.746783</td>\n",
       "      <td>78.962880</td>\n",
       "      <td>1.0</td>\n",
       "      <td>0.0</td>\n",
       "      <td>0.0</td>\n",
       "    </tr>\n",
       "    <tr>\n",
       "      <th>23022</th>\n",
       "      <td>India</td>\n",
       "      <td>2020-01-31</td>\n",
       "      <td>23.746783</td>\n",
       "      <td>78.962880</td>\n",
       "      <td>1.0</td>\n",
       "      <td>0.0</td>\n",
       "      <td>0.0</td>\n",
       "    </tr>\n",
       "    <tr>\n",
       "      <th>23023</th>\n",
       "      <td>India</td>\n",
       "      <td>2020-02-01</td>\n",
       "      <td>23.746783</td>\n",
       "      <td>78.962880</td>\n",
       "      <td>1.0</td>\n",
       "      <td>0.0</td>\n",
       "      <td>0.0</td>\n",
       "    </tr>\n",
       "    <tr>\n",
       "      <th>23024</th>\n",
       "      <td>India</td>\n",
       "      <td>2020-02-02</td>\n",
       "      <td>23.746783</td>\n",
       "      <td>78.962880</td>\n",
       "      <td>2.0</td>\n",
       "      <td>0.0</td>\n",
       "      <td>0.0</td>\n",
       "    </tr>\n",
       "    <tr>\n",
       "      <th>23025</th>\n",
       "      <td>India</td>\n",
       "      <td>2020-02-03</td>\n",
       "      <td>23.746783</td>\n",
       "      <td>78.962880</td>\n",
       "      <td>3.0</td>\n",
       "      <td>0.0</td>\n",
       "      <td>0.0</td>\n",
       "    </tr>\n",
       "    <tr>\n",
       "      <th>...</th>\n",
       "      <td>...</td>\n",
       "      <td>...</td>\n",
       "      <td>...</td>\n",
       "      <td>...</td>\n",
       "      <td>...</td>\n",
       "      <td>...</td>\n",
       "      <td>...</td>\n",
       "    </tr>\n",
       "    <tr>\n",
       "      <th>23353</th>\n",
       "      <td>India</td>\n",
       "      <td>2020-12-27</td>\n",
       "      <td>854.924665</td>\n",
       "      <td>3023.983447</td>\n",
       "      <td>10207871.0</td>\n",
       "      <td>9782669.0</td>\n",
       "      <td>147901.0</td>\n",
       "    </tr>\n",
       "    <tr>\n",
       "      <th>23354</th>\n",
       "      <td>India</td>\n",
       "      <td>2020-12-28</td>\n",
       "      <td>854.924665</td>\n",
       "      <td>3023.983447</td>\n",
       "      <td>10224303.0</td>\n",
       "      <td>9807569.0</td>\n",
       "      <td>148153.0</td>\n",
       "    </tr>\n",
       "    <tr>\n",
       "      <th>23355</th>\n",
       "      <td>India</td>\n",
       "      <td>2020-12-29</td>\n",
       "      <td>854.924665</td>\n",
       "      <td>3023.983447</td>\n",
       "      <td>10244852.0</td>\n",
       "      <td>9834141.0</td>\n",
       "      <td>148439.0</td>\n",
       "    </tr>\n",
       "    <tr>\n",
       "      <th>23356</th>\n",
       "      <td>India</td>\n",
       "      <td>2020-12-30</td>\n",
       "      <td>854.924665</td>\n",
       "      <td>3023.983447</td>\n",
       "      <td>10266674.0</td>\n",
       "      <td>9860280.0</td>\n",
       "      <td>148738.0</td>\n",
       "    </tr>\n",
       "    <tr>\n",
       "      <th>23357</th>\n",
       "      <td>India</td>\n",
       "      <td>2020-12-31</td>\n",
       "      <td>854.924665</td>\n",
       "      <td>3023.983447</td>\n",
       "      <td>10266674.0</td>\n",
       "      <td>9860280.0</td>\n",
       "      <td>148738.0</td>\n",
       "    </tr>\n",
       "  </tbody>\n",
       "</table>\n",
       "<p>337 rows × 7 columns</p>\n",
       "</div>"
      ],
      "text/plain": [
       "      Country/Region        Date    Latitude    Longitude   Confirmed  \\\n",
       "23021          India  2020-01-30   23.746783    78.962880         1.0   \n",
       "23022          India  2020-01-31   23.746783    78.962880         1.0   \n",
       "23023          India  2020-02-01   23.746783    78.962880         1.0   \n",
       "23024          India  2020-02-02   23.746783    78.962880         2.0   \n",
       "23025          India  2020-02-03   23.746783    78.962880         3.0   \n",
       "...              ...         ...         ...          ...         ...   \n",
       "23353          India  2020-12-27  854.924665  3023.983447  10207871.0   \n",
       "23354          India  2020-12-28  854.924665  3023.983447  10224303.0   \n",
       "23355          India  2020-12-29  854.924665  3023.983447  10244852.0   \n",
       "23356          India  2020-12-30  854.924665  3023.983447  10266674.0   \n",
       "23357          India  2020-12-31  854.924665  3023.983447  10266674.0   \n",
       "\n",
       "       Recovered    Deaths  \n",
       "23021        0.0       0.0  \n",
       "23022        0.0       0.0  \n",
       "23023        0.0       0.0  \n",
       "23024        0.0       0.0  \n",
       "23025        0.0       0.0  \n",
       "...          ...       ...  \n",
       "23353  9782669.0  147901.0  \n",
       "23354  9807569.0  148153.0  \n",
       "23355  9834141.0  148439.0  \n",
       "23356  9860280.0  148738.0  \n",
       "23357  9860280.0  148738.0  \n",
       "\n",
       "[337 rows x 7 columns]"
      ]
     },
     "execution_count": 19,
     "metadata": {},
     "output_type": "execute_result"
    },
    {
     "name": "stdout",
     "output_type": "stream",
     "text": [
      "\u001b[2m   Use a production WSGI server instead.\u001b[0m\n",
      " * Debug mode: off\n"
     ]
    }
   ],
   "source": [
    "data_country_date"
   ]
  },
  {
   "cell_type": "markdown",
   "id": "ec27c620",
   "metadata": {
    "id": "ec27c620"
   },
   "source": [
    "This is how we can get the total number of Deaths from the daatset for France."
   ]
  },
  {
   "cell_type": "code",
   "execution_count": 20,
   "id": "c0a73440",
   "metadata": {
    "id": "c0a73440",
    "outputId": "642a8cff-1c8f-4748-af5e-7b4dc70d9627"
   },
   "outputs": [
    {
     "data": {
      "text/plain": [
       "148738.0"
      ]
     },
     "execution_count": 20,
     "metadata": {},
     "output_type": "execute_result"
    }
   ],
   "source": [
    "data_country_date.iloc[-1, 6] # gives the number of deaths for France (5 is for recovered and 4 is confirmed)"
   ]
  },
  {
   "cell_type": "markdown",
   "id": "4a043817",
   "metadata": {
    "id": "4a043817"
   },
   "source": [
    "Use the [text](https://docs.taipy.io/en/release-1.1/manuals/gui/viselements/text/) visual element. Note that between `{}`, any Python variable can be put but also any Python code."
   ]
  },
  {
   "cell_type": "markdown",
   "id": "8b5b47ec",
   "metadata": {
    "id": "8b5b47ec"
   },
   "source": [
    "![](img/control_text.png)"
   ]
  },
  {
   "cell_type": "code",
   "execution_count": 21,
   "id": "beab9af4",
   "metadata": {
    "id": "beab9af4"
   },
   "outputs": [],
   "source": [
    "country_md = \"\"\"\n",
    "## Deaths <|{data_country_date.iloc[-1, 6]}|text|>\n",
    "\n",
    "## Recovered <|{data_country_date.iloc[-1, 5]}|text|>\n",
    "\n",
    "## Confirmed <|{data_country_date.iloc[-1, 4]}|text|>\n",
    "\n",
    "<|{data_country_date}|chart|type=bar|x=Date|y[1]=Deaths|y[2]=Recovered|y[3]=Confirmed|layout={layout}|options={options}|>\n",
    "\"\"\""
   ]
  },
  {
   "cell_type": "code",
   "execution_count": 22,
   "id": "1b8e26f5",
   "metadata": {
    "id": "1b8e26f5",
    "outputId": "cde6776e-5097-4743-ce8d-23bc29819b1d"
   },
   "outputs": [
    {
     "name": "stdout",
     "output_type": "stream",
     "text": [
      "Gui server has been stopped\n",
      " * Server starting on http://127.0.0.1:6007\n",
      " * Serving Flask app 'Taipy' (lazy loading)\n",
      " * Environment: production\n",
      "\u001b[31m   WARNING: This is a development server. Do not use it in a production deployment.\u001b[0m\n",
      "\u001b[2m   Use a production WSGI server instead.\u001b[0m\n",
      " * Debug mode: off\n"
     ]
    }
   ],
   "source": [
    "gui.stop()\n",
    "page.set_content(country_md)\n",
    "gui.run()"
   ]
  },
  {
   "cell_type": "markdown",
   "id": "f48f94cd",
   "metadata": {
    "id": "f48f94cd"
   },
   "source": [
    "## Local _on_change_\n",
    "\n",
    "- Add a [selector](https://docs.taipy.io/en/latest/manuals/gui/viselements/selector/) with `dropdown=True` containing the name of all the _Country/region_\n",
    "- Give to the _on_change_ selector property the name of the _on_change_country_ function. This function will be called when the selector will be used.\n",
    "- This function has a 'state' parameter and has to be completed. When the selector is used, this function is called with the _state_ argument. It contains all the Gui variables; 'state.data_country_date' is then the dataframe used in the Gui."
   ]
  },
  {
   "cell_type": "markdown",
   "id": "35953a48",
   "metadata": {
    "id": "35953a48"
   },
   "source": [
    "![](img/on_change_local.png)"
   ]
  },
  {
   "cell_type": "code",
   "execution_count": 23,
   "id": "ed63f76a",
   "metadata": {
    "id": "ed63f76a"
   },
   "outputs": [],
   "source": [
    "selector_country = list(data['Country/Region'].astype(str).unique())\n",
    "selected_country = 'France'\n",
    "\n",
    "country_md = \"\"\"\n",
    "<|{selected_country}|selector|lov={selector_country}|on_change=on_change_country|dropdown|label=Country|>\n",
    "\n",
    "## Deaths <|{data_country_date.iloc[-1, 6]}|>\n",
    "\n",
    "## Recovered <|{data_country_date.iloc[-1, 5]}|>\n",
    "\n",
    "## Confirmed <|{data_country_date.iloc[-1, 4]}|>\n",
    "\n",
    "<|{data_country_date}|chart|type=bar|x=Date|y[1]=Deaths|y[2]=Recovered|y[3]=Confirmed|layout={layout}|options={options}|>\n",
    "\"\"\""
   ]
  },
  {
   "cell_type": "code",
   "execution_count": 24,
   "id": "42e91877",
   "metadata": {
    "id": "42e91877"
   },
   "outputs": [],
   "source": [
    "def on_change_country(state):\n",
    "    # state contains all the Gui variables and this is through this state variable that we can update the Gui\n",
    "    # state.selected_country, state.data_country_date, ...\n",
    "    # update data_country_date with the right country (use initialize_case_evolution)\n",
    "    print(\"Chosen country: \", state.selected_country)\n",
    "    state.data_country_date = initialize_case_evolution(data, state.selected_country)"
   ]
  },
  {
   "cell_type": "code",
   "execution_count": 25,
   "id": "8f2541f5",
   "metadata": {
    "id": "8f2541f5",
    "outputId": "dd07a1b2-283d-4a53-aa71-a432c4a29645"
   },
   "outputs": [
    {
     "name": "stdout",
     "output_type": "stream",
     "text": [
      "Gui server has been stopped\n",
      " * Server starting on http://127.0.0.1:6007\n",
      " * Serving Flask app 'Taipy' (lazy loading)\n",
      " * Environment: production\n",
      "\u001b[31m   WARNING: This is a development server. Do not use it in a production deployment.\u001b[0m\n",
      "\u001b[2m   Use a production WSGI server instead.\u001b[0m\n",
      " * Debug mode: off\n"
     ]
    }
   ],
   "source": [
    "gui.stop()\n",
    "page.set_content(country_md)\n",
    "gui.run()"
   ]
  },
  {
   "cell_type": "markdown",
   "id": "6e528ce2",
   "metadata": {
    "id": "6e528ce2"
   },
   "source": [
    "## Layout\n",
    "\n",
    "Use the [layout](https://docs.taipy.io/en/latest/manuals/gui/viselements/layout/) block to change the page structure. This block creates invisible columns to put text/visual elements in.\n",
    "\n",
    "Syntax :\n",
    "```\n",
    "<|layout|columns=1 1 1 ...|\n",
    "(first column)\n",
    "\n",
    "(in second column)\n",
    "\n",
    "(third column)\n",
    "(again, third column)\n",
    "\n",
    "(...)\n",
    "|>\n",
    "```"
   ]
  },
  {
   "cell_type": "code",
   "execution_count": 26,
   "id": "f89fd2fb",
   "metadata": {
    "id": "f89fd2fb"
   },
   "outputs": [],
   "source": [
    "final_country_md = \"\"\"\n",
    "<|layout|columns=1 1 1 1|\n",
    "<|{selected_country}|selector|lov={selector_country}|on_change=on_change_country|dropdown|label=Country|>\n",
    "\n",
    "## Deaths <|{data_country_date.iloc[-1, 6]}|>\n",
    "\n",
    "## Recovered <|{data_country_date.iloc[-1, 5]}|>\n",
    "\n",
    "## Confirmed <|{data_country_date.iloc[-1, 4]}|>\n",
    "|>\n",
    "\n",
    "<|{data_country_date}|chart|type=bar|x=Date|y[1]=Deaths|y[2]=Recovered|y[3]=Confirmed|layout={layout}|options={options}|>\n",
    "\"\"\""
   ]
  },
  {
   "cell_type": "code",
   "execution_count": 27,
   "id": "a349a33f",
   "metadata": {
    "id": "a349a33f",
    "outputId": "aa184e5c-74a5-4646-cd3a-d83bcfb5cbed"
   },
   "outputs": [
    {
     "name": "stdout",
     "output_type": "stream",
     "text": [
      "Gui server has been stopped\n",
      " * Server starting on http://127.0.0.1:6007\n",
      " * Serving Flask app 'Taipy' (lazy loading)\n",
      " * Environment: production\n",
      "\u001b[31m   WARNING: This is a development server. Do not use it in a production deployment.\u001b[0m\n",
      "\u001b[2m   Use a production WSGI server instead.\u001b[0m\n",
      " * Debug mode: off\n"
     ]
    }
   ],
   "source": [
    "gui.stop()\n",
    "page.set_content(final_country_md)\n",
    "gui.run()"
   ]
  },
  {
   "cell_type": "markdown",
   "id": "f63dcc18",
   "metadata": {
    "id": "f63dcc18"
   },
   "source": [
    "![](img/layout.png)"
   ]
  },
  {
   "cell_type": "markdown",
   "id": "e9ab05a9",
   "metadata": {
    "id": "e9ab05a9"
   },
   "source": [
    "# Map"
   ]
  },
  {
   "cell_type": "code",
   "execution_count": 28,
   "id": "92212747",
   "metadata": {
    "id": "92212747"
   },
   "outputs": [],
   "source": [
    "def initialize_map(data):\n",
    "    data['Province/State'] = data['Province/State'].fillna(data[\"Country/Region\"])\n",
    "    data_province = data.groupby([\"Country/Region\",\n",
    "                                  'Province/State',\n",
    "                                  'Longitude',\n",
    "                                  'Latitude'])\\\n",
    "                         .max()\n",
    "\n",
    "    data_province_displayed = data_province[data_province['Deaths']>10].reset_index()\n",
    "\n",
    "    data_province_displayed['Size'] = np.sqrt(data_province_displayed.loc[:,'Deaths']/data_province_displayed.loc[:,'Deaths'].max())*80 + 3\n",
    "    data_province_displayed['Text'] = data_province_displayed.loc[:,'Deaths'].astype(str) + ' deaths </br> ' + data_province_displayed.loc[:,'Province/State']\n",
    "    return data_province_displayed"
   ]
  },
  {
   "cell_type": "code",
   "execution_count": 29,
   "id": "5a1f5cb6",
   "metadata": {
    "id": "5a1f5cb6",
    "outputId": "ff8c0dc6-5b6a-4693-c1f1-01635ecf65c5"
   },
   "outputs": [
    {
     "data": {
      "text/html": [
       "<div>\n",
       "<style scoped>\n",
       "    .dataframe tbody tr th:only-of-type {\n",
       "        vertical-align: middle;\n",
       "    }\n",
       "\n",
       "    .dataframe tbody tr th {\n",
       "        vertical-align: top;\n",
       "    }\n",
       "\n",
       "    .dataframe thead th {\n",
       "        text-align: right;\n",
       "    }\n",
       "</style>\n",
       "<table border=\"1\" class=\"dataframe\">\n",
       "  <thead>\n",
       "    <tr style=\"text-align: right;\">\n",
       "      <th></th>\n",
       "      <th>Country/Region</th>\n",
       "      <th>Province/State</th>\n",
       "      <th>Longitude</th>\n",
       "      <th>Latitude</th>\n",
       "      <th>Confirmed</th>\n",
       "      <th>Recovered</th>\n",
       "      <th>Deaths</th>\n",
       "      <th>Date</th>\n",
       "      <th>Size</th>\n",
       "      <th>Text</th>\n",
       "    </tr>\n",
       "  </thead>\n",
       "  <tbody>\n",
       "    <tr>\n",
       "      <th>0</th>\n",
       "      <td>Afghanistan</td>\n",
       "      <td>Afghanistan</td>\n",
       "      <td>67.709953</td>\n",
       "      <td>33.93911</td>\n",
       "      <td>51526.0</td>\n",
       "      <td>41727.0</td>\n",
       "      <td>2191.0</td>\n",
       "      <td>2020-12-31</td>\n",
       "      <td>17.771247</td>\n",
       "      <td>2191.0 deaths &lt;/br&gt; Afghanistan</td>\n",
       "    </tr>\n",
       "    <tr>\n",
       "      <th>1</th>\n",
       "      <td>Albania</td>\n",
       "      <td>Albania</td>\n",
       "      <td>20.168300</td>\n",
       "      <td>41.15330</td>\n",
       "      <td>58316.0</td>\n",
       "      <td>33634.0</td>\n",
       "      <td>1181.0</td>\n",
       "      <td>2020-12-31</td>\n",
       "      <td>13.844784</td>\n",
       "      <td>1181.0 deaths &lt;/br&gt; Albania</td>\n",
       "    </tr>\n",
       "    <tr>\n",
       "      <th>2</th>\n",
       "      <td>Algeria</td>\n",
       "      <td>Algeria</td>\n",
       "      <td>1.659600</td>\n",
       "      <td>28.03390</td>\n",
       "      <td>99610.0</td>\n",
       "      <td>67127.0</td>\n",
       "      <td>2756.0</td>\n",
       "      <td>2020-12-31</td>\n",
       "      <td>19.566684</td>\n",
       "      <td>2756.0 deaths &lt;/br&gt; Algeria</td>\n",
       "    </tr>\n",
       "    <tr>\n",
       "      <th>3</th>\n",
       "      <td>Andorra</td>\n",
       "      <td>Andorra</td>\n",
       "      <td>1.521800</td>\n",
       "      <td>42.50630</td>\n",
       "      <td>8049.0</td>\n",
       "      <td>7432.0</td>\n",
       "      <td>84.0</td>\n",
       "      <td>2020-12-31</td>\n",
       "      <td>5.892249</td>\n",
       "      <td>84.0 deaths &lt;/br&gt; Andorra</td>\n",
       "    </tr>\n",
       "    <tr>\n",
       "      <th>4</th>\n",
       "      <td>Angola</td>\n",
       "      <td>Angola</td>\n",
       "      <td>17.873900</td>\n",
       "      <td>-11.20270</td>\n",
       "      <td>17553.0</td>\n",
       "      <td>11044.0</td>\n",
       "      <td>405.0</td>\n",
       "      <td>2020-12-31</td>\n",
       "      <td>9.350728</td>\n",
       "      <td>405.0 deaths &lt;/br&gt; Angola</td>\n",
       "    </tr>\n",
       "  </tbody>\n",
       "</table>\n",
       "</div>"
      ],
      "text/plain": [
       "  Country/Region Province/State  Longitude  Latitude  Confirmed  Recovered  \\\n",
       "0    Afghanistan    Afghanistan  67.709953  33.93911    51526.0    41727.0   \n",
       "1        Albania        Albania  20.168300  41.15330    58316.0    33634.0   \n",
       "2        Algeria        Algeria   1.659600  28.03390    99610.0    67127.0   \n",
       "3        Andorra        Andorra   1.521800  42.50630     8049.0     7432.0   \n",
       "4         Angola         Angola  17.873900 -11.20270    17553.0    11044.0   \n",
       "\n",
       "   Deaths        Date       Size                             Text  \n",
       "0  2191.0  2020-12-31  17.771247  2191.0 deaths </br> Afghanistan  \n",
       "1  1181.0  2020-12-31  13.844784      1181.0 deaths </br> Albania  \n",
       "2  2756.0  2020-12-31  19.566684      2756.0 deaths </br> Algeria  \n",
       "3    84.0  2020-12-31   5.892249        84.0 deaths </br> Andorra  \n",
       "4   405.0  2020-12-31   9.350728        405.0 deaths </br> Angola  "
      ]
     },
     "execution_count": 29,
     "metadata": {},
     "output_type": "execute_result"
    }
   ],
   "source": [
    "data_province_displayed = initialize_map(data)\n",
    "data_province_displayed.head()"
   ]
  },
  {
   "cell_type": "markdown",
   "id": "fe689939",
   "metadata": {
    "id": "fe689939"
   },
   "source": [
    "Properties to style the map\n",
    "- marker color corresponds to the number of Deaths (column _Deaths_)\n",
    "- marker sizes corresponds to the size in _Size_ column which is created from the number of Deaths\n",
    "\n",
    "layout_map permet defined the initial zoom and position of the map\n"
   ]
  },
  {
   "cell_type": "code",
   "execution_count": 30,
   "id": "62a4cc23",
   "metadata": {
    "id": "62a4cc23"
   },
   "outputs": [],
   "source": [
    "marker_map = {\"color\":\"Deaths\", \"size\": \"Size\", \"showscale\":True, \"colorscale\":\"Viridis\"}\n",
    "layout_map = {\n",
    "            \"dragmode\": \"zoom\",\n",
    "            \"mapbox\": { \"style\": \"open-street-map\", \"center\": { \"lat\": 38, \"lon\": -90 }, \"zoom\": 3}\n",
    "            }"
   ]
  },
  {
   "cell_type": "markdown",
   "id": "fb251153",
   "metadata": {
    "id": "fb251153"
   },
   "source": [
    "We give to Plotly:\n",
    "- a map type\n",
    "- the name of the latitude column\n",
    "- the name of the longitude column\n",
    "- properties: on the size and color of the markers\n",
    "- the name of the column for the text of the points"
   ]
  },
  {
   "cell_type": "code",
   "execution_count": 31,
   "id": "7e65e017",
   "metadata": {
    "id": "7e65e017"
   },
   "outputs": [],
   "source": [
    "map_md = \"\"\"\n",
    "<|{data_province_displayed}|chart|type=scattermapbox|selected={selected_points}|lat=Latitude|lon=Longitude|marker={marker_map}|layout={layout_map}|text=Text|mode=markers|height=800px|options={options}|>\n",
    "\"\"\""
   ]
  },
  {
   "cell_type": "code",
   "execution_count": 32,
   "id": "b068a3af",
   "metadata": {
    "id": "b068a3af",
    "outputId": "b1fcab52-320d-49aa-8a98-60a6b21ce8fb"
   },
   "outputs": [
    {
     "name": "stdout",
     "output_type": "stream",
     "text": [
      "Gui server has been stopped\n"
     ]
    },
    {
     "name": "stderr",
     "output_type": "stream",
     "text": [
      "C:\\Users\\jacta\\anaconda3\\lib\\site-packages\\taipy\\gui\\gui.py:337: UserWarning: Decoding Message has failed: {'type': 'DU', 'name': '_TpD_tpec_TpExPr_data_country_date_TPMDL_0', 'payload': {'pagekey': 'Confirmed-Recovered-Deaths-Date', 'columns': ['Confirmed', 'Recovered', 'Deaths', 'Date'], 'alldata': True}, 'propagate': True, 'client_id': '20220905160039609838-0.24064301846456781', 'module_context': ''}\n",
      "'types.SimpleNamespace' object has no attribute '_TpD_tpec_TpExPr_data_country_date_TPMDL_0'\n",
      "  warnings.warn(f\"Decoding Message has failed: {message}\\n{e}\")\n",
      "C:\\Users\\jacta\\anaconda3\\lib\\site-packages\\taipy\\gui\\gui.py:337: UserWarning: Decoding Message has failed: {'type': 'RU', 'name': '', 'payload': {'names': ['_TpL_tpec_TpExPr_selector_country_TPMDL_0', '_TpLv_tpec_TpExPr_selected_country_TPMDL_0']}, 'propagate': True, 'client_id': '20220905160039609838-0.24064301846456781', 'module_context': ''}\n",
      "'types.SimpleNamespace' object has no attribute '_TpL_tpec_TpExPr_selector_country_TPMDL_0'\n",
      "  warnings.warn(f\"Decoding Message has failed: {message}\\n{e}\")\n"
     ]
    },
    {
     "name": "stdout",
     "output_type": "stream",
     "text": [
      " * Server starting on http://127.0.0.1:6007\n",
      " * Serving Flask app 'Taipy' (lazy loading)\n",
      " * Environment: production\n",
      "\u001b[31m   WARNING: This is a development server. Do not use it in a production deployment.\u001b[0m\n",
      "\u001b[2m   Use a production WSGI server instead.\u001b[0m\n",
      " * Debug mode: off\n"
     ]
    }
   ],
   "source": [
    "gui.stop()\n",
    "page.set_content(map_md)\n",
    "gui.run()"
   ]
  },
  {
   "cell_type": "markdown",
   "id": "56c0ea66",
   "metadata": {
    "id": "56c0ea66"
   },
   "source": [
    "![](img/carte.png)"
   ]
  },
  {
   "cell_type": "markdown",
   "id": "cab1cacc",
   "metadata": {
    "id": "cab1cacc"
   },
   "source": [
    "# Part and the _render_ property\n",
    "- Create a [toggle](https://docs.taipy.io/en/latest/manuals/gui/viselements/toggle/) (works the same as a selector) with a lov of 'Map' an 'Country'\n",
    "- Create two part blocks that renders or not depending on the value of the toggle\n",
    "    - To do this, use the fact that in the _render_ property of the part block, Python code can be inserted in `{}`"
   ]
  },
  {
   "cell_type": "code",
   "execution_count": 33,
   "id": "91bb95bc",
   "metadata": {
    "id": "91bb95bc"
   },
   "outputs": [],
   "source": [
    "representation_selector = ['Map', 'Country']\n",
    "selected_representation = representation_selector[0]"
   ]
  },
  {
   "cell_type": "code",
   "execution_count": 34,
   "id": "e76ebb06",
   "metadata": {
    "id": "e76ebb06"
   },
   "outputs": [],
   "source": [
    "main_page = \"\"\"\n",
    "<|{selected_representation}|toggle|lov={representation_selector}|>\n",
    "\n",
    "<|part|render={selected_representation == \"Country\"}|\n",
    "\"\"\"+final_country_md+\"\"\"\n",
    "|>\n",
    "\n",
    "<|part|render={selected_representation == \"Map\"}|\n",
    "\"\"\"+map_md+\"\"\"\n",
    "|>\n",
    "\"\"\" "
   ]
  },
  {
   "cell_type": "code",
   "execution_count": 35,
   "id": "186846ba",
   "metadata": {
    "id": "186846ba",
    "outputId": "c5cf9b85-034b-4f80-e9ca-32b31f4caab1"
   },
   "outputs": [
    {
     "name": "stdout",
     "output_type": "stream",
     "text": [
      "Gui server has been stopped\n",
      " * Server starting on http://127.0.0.1:6007\n",
      " * Serving Flask app 'Taipy' (lazy loading)\n",
      " * Environment: production\n",
      "\u001b[31m   WARNING: This is a development server. Do not use it in a production deployment.\u001b[0m\n",
      "\u001b[2m   Use a production WSGI server instead.\u001b[0m\n",
      " * Debug mode: off\n"
     ]
    }
   ],
   "source": [
    "gui.stop()\n",
    "page.set_content(main_page)\n",
    "gui.run()"
   ]
  },
  {
   "cell_type": "markdown",
   "id": "47d5c7ce",
   "metadata": {
    "id": "47d5c7ce"
   },
   "source": [
    "![](img/part_render.png)"
   ]
  },
  {
   "cell_type": "markdown",
   "id": "0c8130ec",
   "metadata": {
    "id": "0c8130ec"
   },
   "source": [
    "# Taipy Core\n",
    "Here are the functions that we are going to use to predict the number of Deaths for a country.\n",
    "We will:\n",
    "- preprocess the data (_preprocess_),\n",
    "- create a training and testing database (_make_train_test_data_),\n",
    "- train a model (_train_model_),\n",
    "- generate predictions (_forecast_),\n",
    "- generate a dataframe with the historical data and the predictions (_result_)\n",
    "\n",
    "![](img/all_architecture.svg)"
   ]
  },
  {
   "cell_type": "code",
   "execution_count": 36,
   "id": "688ebab8",
   "metadata": {
    "id": "688ebab8"
   },
   "outputs": [],
   "source": [
    "def add_features(data):\n",
    "    dates = pd.to_datetime(data[\"Date\"])\n",
    "    data[\"Months\"] = dates.dt.month\n",
    "    data[\"Days\"] = dates.dt.isocalendar().day\n",
    "    data[\"Week\"] = dates.dt.isocalendar().week\n",
    "    data[\"Day of week\"] = dates.dt.dayofweek\n",
    "    return data\n",
    "\n",
    "def create_train_data(final_data, date):\n",
    "    bool_index = pd.to_datetime(final_data['Date']) <= date\n",
    "    train_data = final_data[bool_index]\n",
    "    return train_data\n",
    "\n",
    "def preprocess(initial_data, country, date):\n",
    "    data = initial_data.groupby([\"Country/Region\",'Date'])\\\n",
    "                       .sum()\\\n",
    "                       .dropna()\\\n",
    "                       .reset_index()\n",
    "\n",
    "    final_data = data.loc[data['Country/Region']==country].reset_index(drop=True)\n",
    "    final_data = final_data[['Date','Deaths']]\n",
    "    final_data = add_features(final_data)\n",
    "    \n",
    "    train_data = create_train_data(final_data, date)\n",
    "    return final_data, train_data\n",
    "\n",
    "\n",
    "def train_arima(train_data):\n",
    "    model = auto_arima(train_data['Deaths'],\n",
    "                       start_p=1, start_q=1,\n",
    "                       max_p=5, max_q=5,\n",
    "                       start_P=0, seasonal=False,\n",
    "                       d=1, D=1, trace=True,\n",
    "                       error_action='ignore',  \n",
    "                       suppress_warnings=True)\n",
    "    model.fit(train_data['Deaths'])\n",
    "    return model\n",
    "\n",
    "\n",
    "def forecast(model):\n",
    "    predictions = model.predict(n_periods=60)\n",
    "    return predictions\n",
    "\n",
    "\n",
    "def result(final_data, predictions, date):\n",
    "    dates = pd.to_datetime([date + dt.timedelta(days=i)\n",
    "                            for i in range(len(predictions))])\n",
    "    final_data['Date'] = pd.to_datetime(final_data['Date'])\n",
    "    predictions = pd.concat([pd.Series(dates, name=\"Date\"),\n",
    "                             pd.Series(predictions, name=\"Predictions\")], axis=1)\n",
    "    return final_data.merge(predictions, on=\"Date\", how=\"outer\")"
   ]
  },
  {
   "cell_type": "markdown",
   "id": "9d2e845f",
   "metadata": {
    "id": "9d2e845f"
   },
   "source": [
    "First we must define the Data Nodes then the tasks (associated to the Python function). Furthermore, we gather these tasks into different pipelines and these pipelines into a scenario.\n",
    "\n",
    "A Data Nod needs a **unique id**. If needed, the storage type can be changed for CSV and SQL. Other parameters are then needed."
   ]
  },
  {
   "cell_type": "markdown",
   "id": "b19ed6d7",
   "metadata": {
    "id": "b19ed6d7"
   },
   "source": [
    "### Data Nodes and Task for preprocess"
   ]
  },
  {
   "cell_type": "markdown",
   "id": "6c0e2743",
   "metadata": {
    "id": "6c0e2743"
   },
   "source": [
    "<img src=\"img/preprocess.svg\" alt=\"drawing\" width=\"500\"/>"
   ]
  },
  {
   "cell_type": "code",
   "execution_count": 39,
   "id": "a0dec60e",
   "metadata": {
    "id": "a0dec60e"
   },
   "outputs": [],
   "source": [
    "initial_data_cfg = Config.configure_data_node(id=\"initial_data\",\n",
    "                                              storage_type=\"csv\",\n",
    "                                              path=path_to_data,\n",
    "                                              cacheable=True,\n",
    "                                              validity_period=dt.timedelta(days=5),\n",
    "                                              scope=Scope.GLOBAL)\n",
    "\n",
    "country_cfg = Config.configure_data_node(id=\"country\", default_data=\"India\",\n",
    "                                         cacheable=True, validity_period=dt.timedelta(days=5))\n",
    "\n",
    "\n",
    "final_data_cfg =  Config.configure_data_node(id=\"final_data\",\n",
    "                                                  cacheable=True, validity_period=dt.timedelta(days=5))\n",
    "\n",
    "date_cfg = Config.configure_data_node(id=\"date\", default_data=dt.datetime(2020,10,10),\n",
    "                                         cacheable=True, validity_period=dt.timedelta(days=5))\n",
    "\n",
    "train_data_cfg =  Config.configure_data_node(id=\"train_data\", cacheable=True, validity_period=dt.timedelta(days=5))\n",
    "\n",
    "\n",
    "task_preprocess_cfg = Config.configure_task(id=\"task_preprocess_data\",\n",
    "                                           function=preprocess,\n",
    "                                           input=[initial_data_cfg, country_cfg, date_cfg],\n",
    "                                           output=[final_data_cfg,train_data_cfg])"
   ]
  },
  {
   "cell_type": "markdown",
   "id": "e9a53d43",
   "metadata": {
    "id": "e9a53d43"
   },
   "source": [
    "### Data Nodes and Task for make_train_test_data"
   ]
  },
  {
   "cell_type": "markdown",
   "id": "caacd215",
   "metadata": {
    "id": "caacd215"
   },
   "source": [
    "<img src=\"img/make_train_test_data.svg\" alt=\"drawing\" width=\"500\"/>"
   ]
  },
  {
   "cell_type": "code",
   "execution_count": null,
   "id": "d357539c",
   "metadata": {
    "id": "d357539c"
   },
   "outputs": [],
   "source": []
  },
  {
   "cell_type": "markdown",
   "id": "1908c988",
   "metadata": {
    "id": "1908c988"
   },
   "source": [
    "### Data Nodes and Task for train_model"
   ]
  },
  {
   "cell_type": "markdown",
   "id": "e8bd5020",
   "metadata": {
    "id": "e8bd5020"
   },
   "source": [
    "<img src=\"img/train_model.svg\" alt=\"drawing\" width=\"500\"/>"
   ]
  },
  {
   "cell_type": "code",
   "execution_count": 40,
   "id": "96afe994",
   "metadata": {
    "id": "96afe994"
   },
   "outputs": [],
   "source": [
    "model_cfg = Config.configure_data_node(id=\"model\", cacheable=True, validity_period=dt.timedelta(days=5), scope=Scope.PIPELINE)\n",
    "\n",
    "task_train_cfg = Config.configure_task(id=\"task_train\",\n",
    "                                      function=train_arima,\n",
    "                                      input=train_data_cfg,\n",
    "                                      output=model_cfg)"
   ]
  },
  {
   "cell_type": "markdown",
   "id": "849d0a97",
   "metadata": {
    "id": "849d0a97"
   },
   "source": [
    "### Data Nodes and Task for forecast"
   ]
  },
  {
   "cell_type": "markdown",
   "id": "e0a125c7",
   "metadata": {
    "id": "e0a125c7"
   },
   "source": [
    "<img src=\"img/forecast.svg\" alt=\"drawing\" width=\"500\"/>"
   ]
  },
  {
   "cell_type": "code",
   "execution_count": 41,
   "id": "46b0287b",
   "metadata": {
    "id": "46b0287b"
   },
   "outputs": [],
   "source": [
    "predictions_cfg = Config.configure_data_node(id=\"predictions\", scope=Scope.PIPELINE)\n",
    "\n",
    "task_forecast_cfg = Config.configure_task(id=\"task_forecast\",\n",
    "                                      function=forecast,\n",
    "                                      input=model_cfg,\n",
    "                                      output=predictions_cfg)"
   ]
  },
  {
   "cell_type": "markdown",
   "id": "73ab0ee0",
   "metadata": {
    "id": "73ab0ee0"
   },
   "source": [
    "### Data Nodes and Task for result"
   ]
  },
  {
   "cell_type": "markdown",
   "id": "899c41df",
   "metadata": {
    "id": "899c41df"
   },
   "source": [
    "<img src=\"img/result.svg\" alt=\"drawing\" width=\"500\"/>"
   ]
  },
  {
   "cell_type": "code",
   "execution_count": 42,
   "id": "92f6ca0c",
   "metadata": {
    "id": "92f6ca0c"
   },
   "outputs": [],
   "source": [
    "result_cfg = Config.configure_data_node(id=\"result\", scope=Scope.PIPELINE)\n",
    "\n",
    "task_result_cfg = Config.configure_task(id=\"task_result\",\n",
    "                                      function=result,\n",
    "                                      input=[final_data_cfg, predictions_cfg, date_cfg],\n",
    "                                      output=result_cfg)"
   ]
  },
  {
   "cell_type": "markdown",
   "id": "252820b6",
   "metadata": {
    "id": "252820b6"
   },
   "source": [
    "## [Configuration of pipelines](https://docs.taipy.io/en/release-1.1/manuals/reference/taipy.Config/#taipy.core.config.config.Config.configure_default_pipeline)"
   ]
  },
  {
   "cell_type": "code",
   "execution_count": 43,
   "id": "ed34224b",
   "metadata": {
    "id": "ed34224b"
   },
   "outputs": [],
   "source": [
    "pipeline_preprocessing_cfg = Config.configure_pipeline(id=\"pipeline_preprocessing\",\n",
    "                                                       task_configs=[task_preprocess_cfg])\n",
    "\n",
    "pipeline_arima_cfg = Config.configure_pipeline(id=\"ARIMA\",\n",
    "                                               task_configs=[task_train_cfg, task_forecast_cfg, task_result_cfg])"
   ]
  },
  {
   "cell_type": "markdown",
   "id": "9834cac0",
   "metadata": {},
   "source": [
    "## Add more models"
   ]
  },
  {
   "cell_type": "code",
   "execution_count": 44,
   "id": "aa1025e1",
   "metadata": {},
   "outputs": [],
   "source": [
    "def train_linear_regression(train_data):    \n",
    "    y = train_data['Deaths']\n",
    "    X = train_data.drop(['Deaths','Date'], axis=1)\n",
    "    \n",
    "    model = LinearRegression()\n",
    "    model.fit(X,y)\n",
    "    return model\n",
    "\n",
    "def forecast_linear_regression(model, date):\n",
    "    dates = pd.to_datetime([date + dt.timedelta(days=i)\n",
    "                            for i in range(60)])\n",
    "    X = add_features(pd.DataFrame({\"Date\":dates}))\n",
    "    X.drop('Date', axis=1, inplace=True)\n",
    "    predictions = model.predict(X)\n",
    "    return predictions\n",
    "\n",
    "\n",
    "task_train_cfg = Config.configure_task(id=\"task_train\",\n",
    "                                      function=train_linear_regression,\n",
    "                                      input=train_data_cfg,\n",
    "                                      output=model_cfg)\n",
    "\n",
    "task_forecast_cfg = Config.configure_task(id=\"task_forecast\",\n",
    "                                      function=forecast_linear_regression,\n",
    "                                      input=[model_cfg, date_cfg],\n",
    "                                      output=predictions_cfg)\n",
    "\n",
    "pipeline_random_forest_cfg = Config.configure_pipeline(id=\"LinearRegression\",\n",
    "                                               task_configs=[task_train_cfg, task_forecast_cfg, task_result_cfg])"
   ]
  },
  {
   "cell_type": "markdown",
   "id": "27dbc823",
   "metadata": {
    "id": "27dbc823"
   },
   "source": [
    "## [Configuration of scénario](https://docs.taipy.io/en/release-1.1/manuals/reference/taipy.Config/#taipy.core.config.config.Config.configure_default_scenario)"
   ]
  },
  {
   "cell_type": "code",
   "execution_count": 45,
   "id": "36f84118",
   "metadata": {},
   "outputs": [],
   "source": [
    "scenario_cfg = Config.configure_scenario(id='scenario', pipeline_configs=[pipeline_preprocessing_cfg,\n",
    "                                                                          pipeline_arima_cfg,\n",
    "                                                                          pipeline_random_forest_cfg])"
   ]
  },
  {
   "cell_type": "markdown",
   "id": "986ebad5",
   "metadata": {
    "id": "986ebad5"
   },
   "source": [
    "## Creation and submit of scenario"
   ]
  },
  {
   "cell_type": "code",
   "execution_count": 46,
   "id": "ee902abf",
   "metadata": {
    "id": "ee902abf",
    "outputId": "f2e36e97-1ce2-49ae-b4b7-23f84e68892a"
   },
   "outputs": [
    {
     "name": "stderr",
     "output_type": "stream",
     "text": [
      "C:\\Users\\jacta\\anaconda3\\lib\\site-packages\\taipy\\core\\data\\csv.py:145: DtypeWarning: Columns (0,1) have mixed types. Specify dtype option on import or set low_memory=False.\n",
      "  return pd.read_csv(self._path)\n"
     ]
    },
    {
     "name": "stdout",
     "output_type": "stream",
     "text": [
      "[2022-09-05 17:40:23,925][Taipy][INFO] job JOB_task_preprocess_data_da55f51c-7846-4b22-af14-d11d745b215e is completed.\n",
      "Performing stepwise search to minimize aic\n",
      " ARIMA(1,1,1)(0,0,0)[0] intercept   : AIC=3403.257, Time=0.23 sec\n",
      " ARIMA(0,1,0)(0,0,0)[0] intercept   : AIC=3834.545, Time=0.01 sec\n",
      " ARIMA(1,1,0)(0,0,0)[0] intercept   : AIC=3555.070, Time=0.02 sec\n",
      " ARIMA(0,1,1)(0,0,0)[0] intercept   : AIC=3711.502, Time=0.06 sec\n",
      " ARIMA(0,1,0)(0,0,0)[0]             : AIC=3992.428, Time=0.00 sec\n",
      " ARIMA(2,1,1)(0,0,0)[0] intercept   : AIC=3395.911, Time=0.26 sec\n",
      " ARIMA(2,1,0)(0,0,0)[0] intercept   : AIC=3469.260, Time=0.04 sec\n",
      " ARIMA(3,1,1)(0,0,0)[0] intercept   : AIC=3398.020, Time=0.34 sec\n",
      " ARIMA(2,1,2)(0,0,0)[0] intercept   : AIC=3395.925, Time=0.34 sec\n",
      " ARIMA(1,1,2)(0,0,0)[0] intercept   : AIC=3395.219, Time=0.26 sec\n",
      " ARIMA(0,1,2)(0,0,0)[0] intercept   : AIC=3639.930, Time=0.10 sec\n",
      " ARIMA(1,1,3)(0,0,0)[0] intercept   : AIC=3397.036, Time=0.36 sec\n",
      " ARIMA(0,1,3)(0,0,0)[0] intercept   : AIC=3595.496, Time=0.13 sec\n",
      " ARIMA(2,1,3)(0,0,0)[0] intercept   : AIC=inf, Time=0.41 sec\n",
      " ARIMA(1,1,2)(0,0,0)[0]             : AIC=3394.362, Time=0.17 sec\n",
      " ARIMA(0,1,2)(0,0,0)[0]             : AIC=3726.468, Time=0.13 sec\n",
      " ARIMA(1,1,1)(0,0,0)[0]             : AIC=3402.072, Time=0.10 sec\n",
      " ARIMA(2,1,2)(0,0,0)[0]             : AIC=inf, Time=0.24 sec\n",
      " ARIMA(1,1,3)(0,0,0)[0]             : AIC=3396.195, Time=0.23 sec\n",
      " ARIMA(0,1,1)(0,0,0)[0]             : AIC=3820.542, Time=0.04 sec\n",
      " ARIMA(0,1,3)(0,0,0)[0]             : AIC=3665.462, Time=0.13 sec\n",
      " ARIMA(2,1,1)(0,0,0)[0]             : AIC=3394.738, Time=0.17 sec\n",
      " ARIMA(2,1,3)(0,0,0)[0]             : AIC=3396.752, Time=0.27 sec\n",
      "\n",
      "Best model:  ARIMA(1,1,2)(0,0,0)[0]          \n",
      "Total fit time: 4.036 seconds\n",
      "[2022-09-05 17:40:28,206][Taipy][INFO] job JOB_task_train_1e2dbf41-fd25-4565-872d-9cfc48e2b05f is completed.\n",
      "[2022-09-05 17:40:28,290][Taipy][INFO] job JOB_task_forecast_4dcd1207-8f59-4c0a-a569-2b5672ec02b2 is completed.\n",
      "[2022-09-05 17:40:28,400][Taipy][INFO] job JOB_task_result_4bf7bf2f-dad4-44bb-950f-74830b4e550c is completed.\n",
      "[2022-09-05 17:40:28,484][Taipy][INFO] job JOB_task_train_933e2bc1-6386-4d02-bb9d-51d41225393d is completed.\n",
      "[2022-09-05 17:40:28,573][Taipy][INFO] job JOB_task_forecast_4e5c290c-13d2-4c52-9644-6a91ae1eda3a is completed.\n",
      "[2022-09-05 17:40:28,675][Taipy][INFO] job JOB_task_result_4b4aa01e-d07c-41cb-994e-014c91cd510b is completed.\n"
     ]
    }
   ],
   "source": [
    "scenario = tp.create_scenario(scenario_cfg, name='First Scenario')\n",
    "tp.submit(scenario)"
   ]
  },
  {
   "cell_type": "code",
   "execution_count": 47,
   "id": "0438a233",
   "metadata": {
    "id": "0438a233",
    "outputId": "494c2bd8-eef2-4a0f-92ca-46ce061aeaee"
   },
   "outputs": [
    {
     "name": "stderr",
     "output_type": "stream",
     "text": [
      "C:\\Users\\jacta\\anaconda3\\lib\\site-packages\\taipy\\core\\data\\csv.py:145: DtypeWarning: Columns (0,1) have mixed types. Specify dtype option on import or set low_memory=False.\n",
      "  return pd.read_csv(self._path)\n"
     ]
    },
    {
     "data": {
      "text/html": [
       "<div>\n",
       "<style scoped>\n",
       "    .dataframe tbody tr th:only-of-type {\n",
       "        vertical-align: middle;\n",
       "    }\n",
       "\n",
       "    .dataframe tbody tr th {\n",
       "        vertical-align: top;\n",
       "    }\n",
       "\n",
       "    .dataframe thead th {\n",
       "        text-align: right;\n",
       "    }\n",
       "</style>\n",
       "<table border=\"1\" class=\"dataframe\">\n",
       "  <thead>\n",
       "    <tr style=\"text-align: right;\">\n",
       "      <th></th>\n",
       "      <th>Country/Region</th>\n",
       "      <th>Province/State</th>\n",
       "      <th>Latitude</th>\n",
       "      <th>Longitude</th>\n",
       "      <th>Confirmed</th>\n",
       "      <th>Recovered</th>\n",
       "      <th>Deaths</th>\n",
       "      <th>Date</th>\n",
       "    </tr>\n",
       "  </thead>\n",
       "  <tbody>\n",
       "    <tr>\n",
       "      <th>0</th>\n",
       "      <td>NaN</td>\n",
       "      <td>NaN</td>\n",
       "      <td>NaN</td>\n",
       "      <td>NaN</td>\n",
       "      <td>51526.0</td>\n",
       "      <td>41727.0</td>\n",
       "      <td>2191.0</td>\n",
       "      <td>2021-01-01</td>\n",
       "    </tr>\n",
       "    <tr>\n",
       "      <th>1</th>\n",
       "      <td>NaN</td>\n",
       "      <td>NaN</td>\n",
       "      <td>NaN</td>\n",
       "      <td>NaN</td>\n",
       "      <td>58316.0</td>\n",
       "      <td>33634.0</td>\n",
       "      <td>1181.0</td>\n",
       "      <td>2021-01-01</td>\n",
       "    </tr>\n",
       "    <tr>\n",
       "      <th>2</th>\n",
       "      <td>NaN</td>\n",
       "      <td>NaN</td>\n",
       "      <td>NaN</td>\n",
       "      <td>NaN</td>\n",
       "      <td>99897.0</td>\n",
       "      <td>67395.0</td>\n",
       "      <td>2762.0</td>\n",
       "      <td>2021-01-01</td>\n",
       "    </tr>\n",
       "    <tr>\n",
       "      <th>3</th>\n",
       "      <td>NaN</td>\n",
       "      <td>NaN</td>\n",
       "      <td>NaN</td>\n",
       "      <td>NaN</td>\n",
       "      <td>8117.0</td>\n",
       "      <td>7463.0</td>\n",
       "      <td>84.0</td>\n",
       "      <td>2021-01-01</td>\n",
       "    </tr>\n",
       "    <tr>\n",
       "      <th>4</th>\n",
       "      <td>NaN</td>\n",
       "      <td>NaN</td>\n",
       "      <td>NaN</td>\n",
       "      <td>NaN</td>\n",
       "      <td>17568.0</td>\n",
       "      <td>11146.0</td>\n",
       "      <td>405.0</td>\n",
       "      <td>2021-01-01</td>\n",
       "    </tr>\n",
       "    <tr>\n",
       "      <th>...</th>\n",
       "      <td>...</td>\n",
       "      <td>...</td>\n",
       "      <td>...</td>\n",
       "      <td>...</td>\n",
       "      <td>...</td>\n",
       "      <td>...</td>\n",
       "      <td>...</td>\n",
       "      <td>...</td>\n",
       "    </tr>\n",
       "    <tr>\n",
       "      <th>1241947</th>\n",
       "      <td>Vietnam</td>\n",
       "      <td>NaN</td>\n",
       "      <td>14.058324</td>\n",
       "      <td>108.277199</td>\n",
       "      <td>1465.0</td>\n",
       "      <td>1325.0</td>\n",
       "      <td>35.0</td>\n",
       "      <td>2020-12-31</td>\n",
       "    </tr>\n",
       "    <tr>\n",
       "      <th>1241948</th>\n",
       "      <td>West Bank and Gaza</td>\n",
       "      <td>NaN</td>\n",
       "      <td>31.952200</td>\n",
       "      <td>35.233200</td>\n",
       "      <td>138004.0</td>\n",
       "      <td>117183.0</td>\n",
       "      <td>1400.0</td>\n",
       "      <td>2020-12-31</td>\n",
       "    </tr>\n",
       "    <tr>\n",
       "      <th>1241949</th>\n",
       "      <td>Yemen</td>\n",
       "      <td>NaN</td>\n",
       "      <td>15.552727</td>\n",
       "      <td>48.516388</td>\n",
       "      <td>2099.0</td>\n",
       "      <td>1394.0</td>\n",
       "      <td>610.0</td>\n",
       "      <td>2020-12-31</td>\n",
       "    </tr>\n",
       "    <tr>\n",
       "      <th>1241950</th>\n",
       "      <td>Zambia</td>\n",
       "      <td>NaN</td>\n",
       "      <td>-13.133897</td>\n",
       "      <td>27.849332</td>\n",
       "      <td>20725.0</td>\n",
       "      <td>18660.0</td>\n",
       "      <td>388.0</td>\n",
       "      <td>2020-12-31</td>\n",
       "    </tr>\n",
       "    <tr>\n",
       "      <th>1241951</th>\n",
       "      <td>Zimbabwe</td>\n",
       "      <td>NaN</td>\n",
       "      <td>-19.015438</td>\n",
       "      <td>29.154857</td>\n",
       "      <td>13867.0</td>\n",
       "      <td>11250.0</td>\n",
       "      <td>363.0</td>\n",
       "      <td>2020-12-31</td>\n",
       "    </tr>\n",
       "  </tbody>\n",
       "</table>\n",
       "<p>1241952 rows × 8 columns</p>\n",
       "</div>"
      ],
      "text/plain": [
       "             Country/Region Province/State   Latitude   Longitude  Confirmed  \\\n",
       "0                       NaN            NaN        NaN         NaN    51526.0   \n",
       "1                       NaN            NaN        NaN         NaN    58316.0   \n",
       "2                       NaN            NaN        NaN         NaN    99897.0   \n",
       "3                       NaN            NaN        NaN         NaN     8117.0   \n",
       "4                       NaN            NaN        NaN         NaN    17568.0   \n",
       "...                     ...            ...        ...         ...        ...   \n",
       "1241947             Vietnam            NaN  14.058324  108.277199     1465.0   \n",
       "1241948  West Bank and Gaza            NaN  31.952200   35.233200   138004.0   \n",
       "1241949               Yemen            NaN  15.552727   48.516388     2099.0   \n",
       "1241950              Zambia            NaN -13.133897   27.849332    20725.0   \n",
       "1241951            Zimbabwe            NaN -19.015438   29.154857    13867.0   \n",
       "\n",
       "         Recovered  Deaths        Date  \n",
       "0          41727.0  2191.0  2021-01-01  \n",
       "1          33634.0  1181.0  2021-01-01  \n",
       "2          67395.0  2762.0  2021-01-01  \n",
       "3           7463.0    84.0  2021-01-01  \n",
       "4          11146.0   405.0  2021-01-01  \n",
       "...            ...     ...         ...  \n",
       "1241947     1325.0    35.0  2020-12-31  \n",
       "1241948   117183.0  1400.0  2020-12-31  \n",
       "1241949     1394.0   610.0  2020-12-31  \n",
       "1241950    18660.0   388.0  2020-12-31  \n",
       "1241951    11250.0   363.0  2020-12-31  \n",
       "\n",
       "[1241952 rows x 8 columns]"
      ]
     },
     "execution_count": 47,
     "metadata": {},
     "output_type": "execute_result"
    }
   ],
   "source": [
    "scenario.initial_data.read()"
   ]
  },
  {
   "cell_type": "code",
   "execution_count": 48,
   "id": "a4f4dafd",
   "metadata": {
    "id": "a4f4dafd",
    "outputId": "a9928f34-27e3-4e90-c43d-4aa073fc5617"
   },
   "outputs": [
    {
     "data": {
      "text/html": [
       "<div>\n",
       "<style scoped>\n",
       "    .dataframe tbody tr th:only-of-type {\n",
       "        vertical-align: middle;\n",
       "    }\n",
       "\n",
       "    .dataframe tbody tr th {\n",
       "        vertical-align: top;\n",
       "    }\n",
       "\n",
       "    .dataframe thead th {\n",
       "        text-align: right;\n",
       "    }\n",
       "</style>\n",
       "<table border=\"1\" class=\"dataframe\">\n",
       "  <thead>\n",
       "    <tr style=\"text-align: right;\">\n",
       "      <th></th>\n",
       "      <th>Date</th>\n",
       "      <th>Deaths</th>\n",
       "      <th>Months</th>\n",
       "      <th>Days</th>\n",
       "      <th>Week</th>\n",
       "      <th>Day of week</th>\n",
       "    </tr>\n",
       "  </thead>\n",
       "  <tbody>\n",
       "    <tr>\n",
       "      <th>0</th>\n",
       "      <td>2020-01-30</td>\n",
       "      <td>0.0</td>\n",
       "      <td>1</td>\n",
       "      <td>4</td>\n",
       "      <td>5</td>\n",
       "      <td>3</td>\n",
       "    </tr>\n",
       "    <tr>\n",
       "      <th>1</th>\n",
       "      <td>2020-01-31</td>\n",
       "      <td>0.0</td>\n",
       "      <td>1</td>\n",
       "      <td>5</td>\n",
       "      <td>5</td>\n",
       "      <td>4</td>\n",
       "    </tr>\n",
       "    <tr>\n",
       "      <th>2</th>\n",
       "      <td>2020-02-01</td>\n",
       "      <td>0.0</td>\n",
       "      <td>2</td>\n",
       "      <td>6</td>\n",
       "      <td>5</td>\n",
       "      <td>5</td>\n",
       "    </tr>\n",
       "    <tr>\n",
       "      <th>3</th>\n",
       "      <td>2020-02-02</td>\n",
       "      <td>0.0</td>\n",
       "      <td>2</td>\n",
       "      <td>7</td>\n",
       "      <td>5</td>\n",
       "      <td>6</td>\n",
       "    </tr>\n",
       "    <tr>\n",
       "      <th>4</th>\n",
       "      <td>2020-02-03</td>\n",
       "      <td>0.0</td>\n",
       "      <td>2</td>\n",
       "      <td>1</td>\n",
       "      <td>6</td>\n",
       "      <td>0</td>\n",
       "    </tr>\n",
       "    <tr>\n",
       "      <th>...</th>\n",
       "      <td>...</td>\n",
       "      <td>...</td>\n",
       "      <td>...</td>\n",
       "      <td>...</td>\n",
       "      <td>...</td>\n",
       "      <td>...</td>\n",
       "    </tr>\n",
       "    <tr>\n",
       "      <th>250</th>\n",
       "      <td>2020-10-06</td>\n",
       "      <td>104555.0</td>\n",
       "      <td>10</td>\n",
       "      <td>2</td>\n",
       "      <td>41</td>\n",
       "      <td>1</td>\n",
       "    </tr>\n",
       "    <tr>\n",
       "      <th>251</th>\n",
       "      <td>2020-10-07</td>\n",
       "      <td>105526.0</td>\n",
       "      <td>10</td>\n",
       "      <td>3</td>\n",
       "      <td>41</td>\n",
       "      <td>2</td>\n",
       "    </tr>\n",
       "    <tr>\n",
       "      <th>252</th>\n",
       "      <td>2020-10-08</td>\n",
       "      <td>106490.0</td>\n",
       "      <td>10</td>\n",
       "      <td>4</td>\n",
       "      <td>41</td>\n",
       "      <td>3</td>\n",
       "    </tr>\n",
       "    <tr>\n",
       "      <th>253</th>\n",
       "      <td>2020-10-09</td>\n",
       "      <td>107416.0</td>\n",
       "      <td>10</td>\n",
       "      <td>5</td>\n",
       "      <td>41</td>\n",
       "      <td>4</td>\n",
       "    </tr>\n",
       "    <tr>\n",
       "      <th>254</th>\n",
       "      <td>2020-10-10</td>\n",
       "      <td>108334.0</td>\n",
       "      <td>10</td>\n",
       "      <td>6</td>\n",
       "      <td>41</td>\n",
       "      <td>5</td>\n",
       "    </tr>\n",
       "  </tbody>\n",
       "</table>\n",
       "<p>255 rows × 6 columns</p>\n",
       "</div>"
      ],
      "text/plain": [
       "           Date    Deaths  Months  Days  Week  Day of week\n",
       "0    2020-01-30       0.0       1     4     5            3\n",
       "1    2020-01-31       0.0       1     5     5            4\n",
       "2    2020-02-01       0.0       2     6     5            5\n",
       "3    2020-02-02       0.0       2     7     5            6\n",
       "4    2020-02-03       0.0       2     1     6            0\n",
       "..          ...       ...     ...   ...   ...          ...\n",
       "250  2020-10-06  104555.0      10     2    41            1\n",
       "251  2020-10-07  105526.0      10     3    41            2\n",
       "252  2020-10-08  106490.0      10     4    41            3\n",
       "253  2020-10-09  107416.0      10     5    41            4\n",
       "254  2020-10-10  108334.0      10     6    41            5\n",
       "\n",
       "[255 rows x 6 columns]"
      ]
     },
     "execution_count": 48,
     "metadata": {},
     "output_type": "execute_result"
    }
   ],
   "source": [
    "scenario.train_data.read()"
   ]
  },
  {
   "cell_type": "code",
   "execution_count": 49,
   "id": "79602c0e",
   "metadata": {
    "id": "79602c0e",
    "outputId": "fe06a4ba-a59a-419e-f244-aed87412fb05"
   },
   "outputs": [
    {
     "data": {
      "text/plain": [
       "array([109313.30106717, 110278.58255586, 111243.83576064, 112209.06068233,\n",
       "       113174.25732175, 114139.42567975, 115104.56575714, 116069.67755476,\n",
       "       117034.76107343, 117999.81631398, 118964.84327725, 119929.84196406,\n",
       "       120894.81237523, 121859.75451161, 122824.66837401, 123789.55396326,\n",
       "       124754.4112802 , 125719.24032564, 126684.04110043, 127648.81360538,\n",
       "       128613.55784133, 129578.27380911, 130542.96150953, 131507.62094344,\n",
       "       132472.25211166, 133436.85501502, 134401.42965434, 135365.97603045,\n",
       "       136330.49414419, 137294.98399638, 138259.44558784, 139223.87891941,\n",
       "       140188.28399192, 141152.66080619, 142117.00936305, 143081.32966332,\n",
       "       144045.62170785, 145009.88549744, 145974.12103294, 146938.32831517,\n",
       "       147902.50734496, 148866.65812313, 149830.78065052, 150794.87492795,\n",
       "       151758.94095624, 152722.97873624, 153686.98826876, 154650.96955463,\n",
       "       155614.92259468, 156578.84738974, 157542.74394063, 158506.61224818,\n",
       "       159470.45231323, 160434.26413659, 161398.0477191 , 162361.80306158,\n",
       "       163325.53016487, 164289.22902977, 165252.89965714, 166216.54204779])"
      ]
     },
     "execution_count": 49,
     "metadata": {},
     "output_type": "execute_result"
    }
   ],
   "source": [
    "scenario.ARIMA.predictions.read()"
   ]
  },
  {
   "cell_type": "markdown",
   "id": "d9915978",
   "metadata": {
    "id": "d9915978"
   },
   "source": [
    "## Caching\n",
    "Some job are skipped because no change has been done to the \"input\" Data Nodes."
   ]
  },
  {
   "cell_type": "code",
   "execution_count": 50,
   "id": "7cb68da0",
   "metadata": {
    "id": "7cb68da0",
    "outputId": "b06a184d-f2aa-4e00-cac4-3a0111d1755c"
   },
   "outputs": [
    {
     "name": "stdout",
     "output_type": "stream",
     "text": [
      "[2022-09-05 17:40:29,697][Taipy][INFO] job JOB_task_preprocess_data_1645e6f2-1a5e-4ab7-ae63-a9ef00651727 is skipped.\n",
      "[2022-09-05 17:40:29,781][Taipy][INFO] job JOB_task_train_dc1e852c-7c97-4cf5-84bb-113aba75cfbc is skipped.\n",
      "[2022-09-05 17:40:29,873][Taipy][INFO] job JOB_task_forecast_87298c86-d06a-4400-90bd-e1648ec499b4 is completed.\n",
      "[2022-09-05 17:40:29,976][Taipy][INFO] job JOB_task_result_654ad6c3-f127-46bf-98f3-fccf53cf8cac is completed.\n",
      "[2022-09-05 17:40:30,054][Taipy][INFO] job JOB_task_train_e75a2304-fa99-4df3-a056-dcee3f32db54 is skipped.\n",
      "[2022-09-05 17:40:30,148][Taipy][INFO] job JOB_task_forecast_3cfc8a46-12e4-42c3-8007-9c2827445c97 is completed.\n",
      "[2022-09-05 17:40:30,254][Taipy][INFO] job JOB_task_result_adc4e1b6-acdc-4362-941f-d2fca4fde460 is completed.\n"
     ]
    }
   ],
   "source": [
    "tp.submit(scenario)"
   ]
  },
  {
   "cell_type": "markdown",
   "id": "ba83beac",
   "metadata": {
    "id": "ba83beac"
   },
   "source": [
    "## Write in data nodes\n",
    "\n",
    "To write a data node:\n",
    "\n",
    "`<Data Node>.write(new_value)`"
   ]
  },
  {
   "cell_type": "code",
   "execution_count": 51,
   "id": "31d6562d",
   "metadata": {
    "id": "31d6562d",
    "outputId": "9fef8e2d-9026-438f-da23-8299d3fe3497"
   },
   "outputs": [
    {
     "name": "stderr",
     "output_type": "stream",
     "text": [
      "C:\\Users\\jacta\\anaconda3\\lib\\site-packages\\taipy\\core\\data\\csv.py:145: DtypeWarning: Columns (0,1) have mixed types. Specify dtype option on import or set low_memory=False.\n",
      "  return pd.read_csv(self._path)\n"
     ]
    },
    {
     "name": "stdout",
     "output_type": "stream",
     "text": [
      "[2022-09-05 17:40:31,307][Taipy][INFO] job JOB_task_preprocess_data_1f2bfc99-4785-4f57-a94a-dfae78c7097a is completed.\n",
      "Performing stepwise search to minimize aic\n",
      " ARIMA(1,1,1)(0,0,0)[0] intercept   : AIC=3864.276, Time=0.02 sec\n",
      " ARIMA(0,1,0)(0,0,0)[0] intercept   : AIC=4187.713, Time=0.01 sec\n",
      " ARIMA(1,1,0)(0,0,0)[0] intercept   : AIC=3862.617, Time=0.02 sec\n",
      " ARIMA(0,1,1)(0,0,0)[0] intercept   : AIC=4017.317, Time=0.05 sec\n",
      " ARIMA(0,1,0)(0,0,0)[0]             : AIC=4407.771, Time=0.01 sec\n",
      " ARIMA(2,1,0)(0,0,0)[0] intercept   : AIC=3864.226, Time=0.02 sec\n",
      " ARIMA(2,1,1)(0,0,0)[0] intercept   : AIC=3866.190, Time=0.07 sec\n",
      " ARIMA(1,1,0)(0,0,0)[0]             : AIC=3873.251, Time=0.01 sec\n",
      "\n",
      "Best model:  ARIMA(1,1,0)(0,0,0)[0] intercept\n",
      "Total fit time: 0.214 seconds\n",
      "[2022-09-05 17:40:31,635][Taipy][INFO] job JOB_task_train_0330b1ba-5593-48a9-820b-e1215479f3cb is completed.\n",
      "[2022-09-05 17:40:31,721][Taipy][INFO] job JOB_task_forecast_5b424de1-1298-4d36-a5e5-2ff62325b7b1 is completed.\n",
      "[2022-09-05 17:40:31,823][Taipy][INFO] job JOB_task_result_c7e58629-da21-44f5-90aa-96d52eaf45ef is completed.\n",
      "[2022-09-05 17:40:31,904][Taipy][INFO] job JOB_task_train_eaecf4f1-6354-4068-b8a5-9487e0b73386 is completed.\n",
      "[2022-09-05 17:40:31,990][Taipy][INFO] job JOB_task_forecast_1baa2b95-3994-4057-9fc6-f38f48ed7da2 is completed.\n",
      "[2022-09-05 17:40:32,079][Taipy][INFO] job JOB_task_result_7ceaa698-80cd-420c-9f82-f39667856271 is completed.\n"
     ]
    },
    {
     "data": {
      "text/html": [
       "<div>\n",
       "<style scoped>\n",
       "    .dataframe tbody tr th:only-of-type {\n",
       "        vertical-align: middle;\n",
       "    }\n",
       "\n",
       "    .dataframe tbody tr th {\n",
       "        vertical-align: top;\n",
       "    }\n",
       "\n",
       "    .dataframe thead th {\n",
       "        text-align: right;\n",
       "    }\n",
       "</style>\n",
       "<table border=\"1\" class=\"dataframe\">\n",
       "  <thead>\n",
       "    <tr style=\"text-align: right;\">\n",
       "      <th></th>\n",
       "      <th>Date</th>\n",
       "      <th>Deaths</th>\n",
       "      <th>Months</th>\n",
       "      <th>Days</th>\n",
       "      <th>Week</th>\n",
       "      <th>Day of week</th>\n",
       "      <th>Predictions</th>\n",
       "    </tr>\n",
       "  </thead>\n",
       "  <tbody>\n",
       "    <tr>\n",
       "      <th>0</th>\n",
       "      <td>2020-01-22</td>\n",
       "      <td>0.0</td>\n",
       "      <td>1</td>\n",
       "      <td>3</td>\n",
       "      <td>4</td>\n",
       "      <td>2</td>\n",
       "      <td>NaN</td>\n",
       "    </tr>\n",
       "    <tr>\n",
       "      <th>1</th>\n",
       "      <td>2020-01-23</td>\n",
       "      <td>0.0</td>\n",
       "      <td>1</td>\n",
       "      <td>4</td>\n",
       "      <td>4</td>\n",
       "      <td>3</td>\n",
       "      <td>NaN</td>\n",
       "    </tr>\n",
       "    <tr>\n",
       "      <th>2</th>\n",
       "      <td>2020-01-24</td>\n",
       "      <td>0.0</td>\n",
       "      <td>1</td>\n",
       "      <td>5</td>\n",
       "      <td>4</td>\n",
       "      <td>4</td>\n",
       "      <td>NaN</td>\n",
       "    </tr>\n",
       "    <tr>\n",
       "      <th>3</th>\n",
       "      <td>2020-01-25</td>\n",
       "      <td>0.0</td>\n",
       "      <td>1</td>\n",
       "      <td>6</td>\n",
       "      <td>4</td>\n",
       "      <td>5</td>\n",
       "      <td>NaN</td>\n",
       "    </tr>\n",
       "    <tr>\n",
       "      <th>4</th>\n",
       "      <td>2020-01-26</td>\n",
       "      <td>0.0</td>\n",
       "      <td>1</td>\n",
       "      <td>7</td>\n",
       "      <td>4</td>\n",
       "      <td>6</td>\n",
       "      <td>NaN</td>\n",
       "    </tr>\n",
       "    <tr>\n",
       "      <th>...</th>\n",
       "      <td>...</td>\n",
       "      <td>...</td>\n",
       "      <td>...</td>\n",
       "      <td>...</td>\n",
       "      <td>...</td>\n",
       "      <td>...</td>\n",
       "      <td>...</td>\n",
       "    </tr>\n",
       "    <tr>\n",
       "      <th>340</th>\n",
       "      <td>2020-12-27</td>\n",
       "      <td>334533.0</td>\n",
       "      <td>12</td>\n",
       "      <td>7</td>\n",
       "      <td>52</td>\n",
       "      <td>6</td>\n",
       "      <td>NaN</td>\n",
       "    </tr>\n",
       "    <tr>\n",
       "      <th>341</th>\n",
       "      <td>2020-12-28</td>\n",
       "      <td>336438.0</td>\n",
       "      <td>12</td>\n",
       "      <td>1</td>\n",
       "      <td>53</td>\n",
       "      <td>0</td>\n",
       "      <td>NaN</td>\n",
       "    </tr>\n",
       "    <tr>\n",
       "      <th>342</th>\n",
       "      <td>2020-12-29</td>\n",
       "      <td>340061.0</td>\n",
       "      <td>12</td>\n",
       "      <td>2</td>\n",
       "      <td>53</td>\n",
       "      <td>1</td>\n",
       "      <td>NaN</td>\n",
       "    </tr>\n",
       "    <tr>\n",
       "      <th>343</th>\n",
       "      <td>2020-12-30</td>\n",
       "      <td>343783.0</td>\n",
       "      <td>12</td>\n",
       "      <td>3</td>\n",
       "      <td>53</td>\n",
       "      <td>2</td>\n",
       "      <td>NaN</td>\n",
       "    </tr>\n",
       "    <tr>\n",
       "      <th>344</th>\n",
       "      <td>2020-12-31</td>\n",
       "      <td>347170.0</td>\n",
       "      <td>12</td>\n",
       "      <td>4</td>\n",
       "      <td>53</td>\n",
       "      <td>3</td>\n",
       "      <td>NaN</td>\n",
       "    </tr>\n",
       "  </tbody>\n",
       "</table>\n",
       "<p>345 rows × 7 columns</p>\n",
       "</div>"
      ],
      "text/plain": [
       "          Date    Deaths  Months  Days  Week  Day of week  Predictions\n",
       "0   2020-01-22       0.0       1     3     4            2          NaN\n",
       "1   2020-01-23       0.0       1     4     4            3          NaN\n",
       "2   2020-01-24       0.0       1     5     4            4          NaN\n",
       "3   2020-01-25       0.0       1     6     4            5          NaN\n",
       "4   2020-01-26       0.0       1     7     4            6          NaN\n",
       "..         ...       ...     ...   ...   ...          ...          ...\n",
       "340 2020-12-27  334533.0      12     7    52            6          NaN\n",
       "341 2020-12-28  336438.0      12     1    53            0          NaN\n",
       "342 2020-12-29  340061.0      12     2    53            1          NaN\n",
       "343 2020-12-30  343783.0      12     3    53            2          NaN\n",
       "344 2020-12-31  347170.0      12     4    53            3          NaN\n",
       "\n",
       "[345 rows x 7 columns]"
      ]
     },
     "execution_count": 51,
     "metadata": {},
     "output_type": "execute_result"
    }
   ],
   "source": [
    "scenario.country.write('US')\n",
    "tp.submit(scenario)\n",
    "scenario.result.read()"
   ]
  },
  {
   "cell_type": "markdown",
   "id": "9d9d2c81",
   "metadata": {
    "id": "9d9d2c81"
   },
   "source": [
    "## Simple framework"
   ]
  },
  {
   "cell_type": "code",
   "execution_count": 52,
   "id": "4892eb7d",
   "metadata": {
    "id": "4892eb7d"
   },
   "outputs": [
    {
     "name": "stderr",
     "output_type": "stream",
     "text": [
      "C:\\Users\\jacta\\anaconda3\\lib\\site-packages\\taipy\\core\\data\\csv.py:145: DtypeWarning: Columns (0,1) have mixed types. Specify dtype option on import or set low_memory=False.\n",
      "  return pd.read_csv(self._path)\n"
     ]
    },
    {
     "name": "stdout",
     "output_type": "stream",
     "text": [
      "[2022-09-05 17:40:33,613][Taipy][INFO] job JOB_task_preprocess_data_8418c1dc-b38b-48ae-af65-40f8448f25ce is completed.\n",
      "Performing stepwise search to minimize aic\n",
      " ARIMA(1,1,1)(0,0,0)[0] intercept   : AIC=3403.257, Time=0.21 sec\n",
      " ARIMA(0,1,0)(0,0,0)[0] intercept   : AIC=3834.545, Time=0.01 sec\n",
      " ARIMA(1,1,0)(0,0,0)[0] intercept   : AIC=3555.070, Time=0.02 sec\n",
      " ARIMA(0,1,1)(0,0,0)[0] intercept   : AIC=3711.502, Time=0.06 sec\n",
      " ARIMA(0,1,0)(0,0,0)[0]             : AIC=3992.428, Time=0.00 sec\n",
      " ARIMA(2,1,1)(0,0,0)[0] intercept   : AIC=3395.911, Time=0.22 sec\n",
      " ARIMA(2,1,0)(0,0,0)[0] intercept   : AIC=3469.260, Time=0.03 sec\n",
      " ARIMA(3,1,1)(0,0,0)[0] intercept   : AIC=3398.020, Time=0.32 sec\n",
      " ARIMA(2,1,2)(0,0,0)[0] intercept   : AIC=3395.925, Time=0.31 sec\n",
      " ARIMA(1,1,2)(0,0,0)[0] intercept   : AIC=3395.219, Time=0.25 sec\n",
      " ARIMA(0,1,2)(0,0,0)[0] intercept   : AIC=3639.930, Time=0.08 sec\n",
      " ARIMA(1,1,3)(0,0,0)[0] intercept   : AIC=3397.036, Time=0.30 sec\n",
      " ARIMA(0,1,3)(0,0,0)[0] intercept   : AIC=3595.496, Time=0.12 sec\n",
      " ARIMA(2,1,3)(0,0,0)[0] intercept   : AIC=inf, Time=0.50 sec\n",
      " ARIMA(1,1,2)(0,0,0)[0]             : AIC=3394.362, Time=0.11 sec\n",
      " ARIMA(0,1,2)(0,0,0)[0]             : AIC=3726.468, Time=0.07 sec\n",
      " ARIMA(1,1,1)(0,0,0)[0]             : AIC=3402.072, Time=0.09 sec\n",
      " ARIMA(2,1,2)(0,0,0)[0]             : AIC=inf, Time=0.25 sec\n",
      " ARIMA(1,1,3)(0,0,0)[0]             : AIC=3396.195, Time=0.22 sec\n",
      " ARIMA(0,1,1)(0,0,0)[0]             : AIC=3820.542, Time=0.04 sec\n",
      " ARIMA(0,1,3)(0,0,0)[0]             : AIC=3665.462, Time=0.11 sec\n",
      " ARIMA(2,1,1)(0,0,0)[0]             : AIC=3394.738, Time=0.14 sec\n",
      " ARIMA(2,1,3)(0,0,0)[0]             : AIC=3396.752, Time=0.26 sec\n",
      "\n",
      "Best model:  ARIMA(1,1,2)(0,0,0)[0]          \n",
      "Total fit time: 3.741 seconds\n",
      "[2022-09-05 17:40:37,558][Taipy][INFO] job JOB_task_train_72f771ba-dd46-47dd-afd5-428dac883ac2 is completed.\n",
      "[2022-09-05 17:40:37,647][Taipy][INFO] job JOB_task_forecast_7e8fb8ea-e2fd-4d40-923e-05efff5969f5 is completed.\n",
      "[2022-09-05 17:40:37,741][Taipy][INFO] job JOB_task_result_5047e66a-9652-425e-9d39-035067d07895 is completed.\n",
      "[2022-09-05 17:40:37,836][Taipy][INFO] job JOB_task_train_91d2cb0d-d7c8-4110-a92f-a9319ef5a482 is completed.\n",
      "[2022-09-05 17:40:37,925][Taipy][INFO] job JOB_task_forecast_fd85df3a-da42-42de-9c92-358e99aca227 is completed.\n",
      "[2022-09-05 17:40:38,017][Taipy][INFO] job JOB_task_result_db91ced7-ddf6-454e-ac70-203ebc011b9f is completed.\n"
     ]
    }
   ],
   "source": [
    "scenario = tp.create_scenario(scenario_cfg, name='Second Scenario')\n",
    "tp.submit(scenario)"
   ]
  },
  {
   "cell_type": "code",
   "execution_count": 53,
   "id": "3b7c15c8",
   "metadata": {
    "id": "a9248942"
   },
   "outputs": [
    {
     "data": {
      "text/plain": [
       "ARIMA(order=(1, 1, 2), scoring_args={}, suppress_warnings=True,\n",
       "      with_intercept=False)"
      ]
     },
     "execution_count": 53,
     "metadata": {},
     "output_type": "execute_result"
    }
   ],
   "source": [
    "scenario.pipelines['ARIMA'].model.read()"
   ]
  },
  {
   "cell_type": "code",
   "execution_count": 54,
   "id": "89d5d002",
   "metadata": {},
   "outputs": [
    {
     "data": {
      "text/plain": [
       "LinearRegression()"
      ]
     },
     "execution_count": 54,
     "metadata": {},
     "output_type": "execute_result"
    }
   ],
   "source": [
    "scenario.pipelines['LinearRegression'].model.read()"
   ]
  },
  {
   "cell_type": "markdown",
   "id": "73fd648f",
   "metadata": {
    "id": "73fd648f"
   },
   "source": [
    "## Create a Gui for the backend\n",
    "_scenario_selector_ lets you choose a scenario and display its results."
   ]
  },
  {
   "cell_type": "code",
   "execution_count": 55,
   "id": "760f1a04",
   "metadata": {
    "id": "760f1a04",
    "outputId": "447fe599-faf2-47d9-d3f8-2f3e2297642a"
   },
   "outputs": [
    {
     "name": "stdout",
     "output_type": "stream",
     "text": [
      "[('SCENARIO_scenario_7ced395e-f390-4041-936e-babef85033b7', 'Second Scenario'), ('SCENARIO_scenario_ccacb2f7-085b-4c52-adaf-301def87acd4', 'First Scenario'), ('SCENARIO_scenario_e773f0cc-295c-4efb-8a14-b716ea960c5b', 'Second Scenario'), ('SCENARIO_scenario_ef9f94f2-0c56-446e-b6a9-e52325d7f11b', 'First Scenario')] \n",
      " SCENARIO_scenario_7ced395e-f390-4041-936e-babef85033b7\n"
     ]
    }
   ],
   "source": [
    "scenario_selector = [(s.id, s.name) for s in tp.get_scenarios()]\n",
    "selected_scenario = scenario.id\n",
    "print(scenario_selector,'\\n', selected_scenario)"
   ]
  },
  {
   "cell_type": "code",
   "execution_count": 56,
   "id": "b590bdcc",
   "metadata": {
    "id": "b590bdcc",
    "outputId": "5747bb81-4c48-45ad-8457-f36fa783cff5"
   },
   "outputs": [
    {
     "data": {
      "text/html": [
       "<div>\n",
       "<style scoped>\n",
       "    .dataframe tbody tr th:only-of-type {\n",
       "        vertical-align: middle;\n",
       "    }\n",
       "\n",
       "    .dataframe tbody tr th {\n",
       "        vertical-align: top;\n",
       "    }\n",
       "\n",
       "    .dataframe thead th {\n",
       "        text-align: right;\n",
       "    }\n",
       "</style>\n",
       "<table border=\"1\" class=\"dataframe\">\n",
       "  <thead>\n",
       "    <tr style=\"text-align: right;\">\n",
       "      <th></th>\n",
       "      <th>Date</th>\n",
       "      <th>Deaths_x</th>\n",
       "      <th>Months_x</th>\n",
       "      <th>Days_x</th>\n",
       "      <th>Week_x</th>\n",
       "      <th>Day of week_x</th>\n",
       "      <th>Predictions_x</th>\n",
       "      <th>Deaths_y</th>\n",
       "      <th>Months_y</th>\n",
       "      <th>Days_y</th>\n",
       "      <th>Week_y</th>\n",
       "      <th>Day of week_y</th>\n",
       "      <th>Predictions_y</th>\n",
       "    </tr>\n",
       "  </thead>\n",
       "  <tbody>\n",
       "    <tr>\n",
       "      <th>0</th>\n",
       "      <td>2020-01-30</td>\n",
       "      <td>0.0</td>\n",
       "      <td>1</td>\n",
       "      <td>4</td>\n",
       "      <td>5</td>\n",
       "      <td>3</td>\n",
       "      <td>NaN</td>\n",
       "      <td>0.0</td>\n",
       "      <td>1</td>\n",
       "      <td>4</td>\n",
       "      <td>5</td>\n",
       "      <td>3</td>\n",
       "      <td>NaN</td>\n",
       "    </tr>\n",
       "    <tr>\n",
       "      <th>1</th>\n",
       "      <td>2020-01-31</td>\n",
       "      <td>0.0</td>\n",
       "      <td>1</td>\n",
       "      <td>5</td>\n",
       "      <td>5</td>\n",
       "      <td>4</td>\n",
       "      <td>NaN</td>\n",
       "      <td>0.0</td>\n",
       "      <td>1</td>\n",
       "      <td>5</td>\n",
       "      <td>5</td>\n",
       "      <td>4</td>\n",
       "      <td>NaN</td>\n",
       "    </tr>\n",
       "    <tr>\n",
       "      <th>2</th>\n",
       "      <td>2020-02-01</td>\n",
       "      <td>0.0</td>\n",
       "      <td>2</td>\n",
       "      <td>6</td>\n",
       "      <td>5</td>\n",
       "      <td>5</td>\n",
       "      <td>NaN</td>\n",
       "      <td>0.0</td>\n",
       "      <td>2</td>\n",
       "      <td>6</td>\n",
       "      <td>5</td>\n",
       "      <td>5</td>\n",
       "      <td>NaN</td>\n",
       "    </tr>\n",
       "    <tr>\n",
       "      <th>3</th>\n",
       "      <td>2020-02-02</td>\n",
       "      <td>0.0</td>\n",
       "      <td>2</td>\n",
       "      <td>7</td>\n",
       "      <td>5</td>\n",
       "      <td>6</td>\n",
       "      <td>NaN</td>\n",
       "      <td>0.0</td>\n",
       "      <td>2</td>\n",
       "      <td>7</td>\n",
       "      <td>5</td>\n",
       "      <td>6</td>\n",
       "      <td>NaN</td>\n",
       "    </tr>\n",
       "    <tr>\n",
       "      <th>4</th>\n",
       "      <td>2020-02-03</td>\n",
       "      <td>0.0</td>\n",
       "      <td>2</td>\n",
       "      <td>1</td>\n",
       "      <td>6</td>\n",
       "      <td>0</td>\n",
       "      <td>NaN</td>\n",
       "      <td>0.0</td>\n",
       "      <td>2</td>\n",
       "      <td>1</td>\n",
       "      <td>6</td>\n",
       "      <td>0</td>\n",
       "      <td>NaN</td>\n",
       "    </tr>\n",
       "    <tr>\n",
       "      <th>...</th>\n",
       "      <td>...</td>\n",
       "      <td>...</td>\n",
       "      <td>...</td>\n",
       "      <td>...</td>\n",
       "      <td>...</td>\n",
       "      <td>...</td>\n",
       "      <td>...</td>\n",
       "      <td>...</td>\n",
       "      <td>...</td>\n",
       "      <td>...</td>\n",
       "      <td>...</td>\n",
       "      <td>...</td>\n",
       "      <td>...</td>\n",
       "    </tr>\n",
       "    <tr>\n",
       "      <th>332</th>\n",
       "      <td>2020-12-27</td>\n",
       "      <td>147901.0</td>\n",
       "      <td>12</td>\n",
       "      <td>7</td>\n",
       "      <td>52</td>\n",
       "      <td>6</td>\n",
       "      <td>NaN</td>\n",
       "      <td>147901.0</td>\n",
       "      <td>12</td>\n",
       "      <td>7</td>\n",
       "      <td>52</td>\n",
       "      <td>6</td>\n",
       "      <td>NaN</td>\n",
       "    </tr>\n",
       "    <tr>\n",
       "      <th>333</th>\n",
       "      <td>2020-12-28</td>\n",
       "      <td>148153.0</td>\n",
       "      <td>12</td>\n",
       "      <td>1</td>\n",
       "      <td>53</td>\n",
       "      <td>0</td>\n",
       "      <td>NaN</td>\n",
       "      <td>148153.0</td>\n",
       "      <td>12</td>\n",
       "      <td>1</td>\n",
       "      <td>53</td>\n",
       "      <td>0</td>\n",
       "      <td>NaN</td>\n",
       "    </tr>\n",
       "    <tr>\n",
       "      <th>334</th>\n",
       "      <td>2020-12-29</td>\n",
       "      <td>148439.0</td>\n",
       "      <td>12</td>\n",
       "      <td>2</td>\n",
       "      <td>53</td>\n",
       "      <td>1</td>\n",
       "      <td>NaN</td>\n",
       "      <td>148439.0</td>\n",
       "      <td>12</td>\n",
       "      <td>2</td>\n",
       "      <td>53</td>\n",
       "      <td>1</td>\n",
       "      <td>NaN</td>\n",
       "    </tr>\n",
       "    <tr>\n",
       "      <th>335</th>\n",
       "      <td>2020-12-30</td>\n",
       "      <td>148738.0</td>\n",
       "      <td>12</td>\n",
       "      <td>3</td>\n",
       "      <td>53</td>\n",
       "      <td>2</td>\n",
       "      <td>NaN</td>\n",
       "      <td>148738.0</td>\n",
       "      <td>12</td>\n",
       "      <td>3</td>\n",
       "      <td>53</td>\n",
       "      <td>2</td>\n",
       "      <td>NaN</td>\n",
       "    </tr>\n",
       "    <tr>\n",
       "      <th>336</th>\n",
       "      <td>2020-12-31</td>\n",
       "      <td>148738.0</td>\n",
       "      <td>12</td>\n",
       "      <td>4</td>\n",
       "      <td>53</td>\n",
       "      <td>3</td>\n",
       "      <td>NaN</td>\n",
       "      <td>148738.0</td>\n",
       "      <td>12</td>\n",
       "      <td>4</td>\n",
       "      <td>53</td>\n",
       "      <td>3</td>\n",
       "      <td>NaN</td>\n",
       "    </tr>\n",
       "  </tbody>\n",
       "</table>\n",
       "<p>337 rows × 13 columns</p>\n",
       "</div>"
      ],
      "text/plain": [
       "          Date  Deaths_x  Months_x  Days_x  Week_x  Day of week_x  \\\n",
       "0   2020-01-30       0.0         1       4       5              3   \n",
       "1   2020-01-31       0.0         1       5       5              4   \n",
       "2   2020-02-01       0.0         2       6       5              5   \n",
       "3   2020-02-02       0.0         2       7       5              6   \n",
       "4   2020-02-03       0.0         2       1       6              0   \n",
       "..         ...       ...       ...     ...     ...            ...   \n",
       "332 2020-12-27  147901.0        12       7      52              6   \n",
       "333 2020-12-28  148153.0        12       1      53              0   \n",
       "334 2020-12-29  148439.0        12       2      53              1   \n",
       "335 2020-12-30  148738.0        12       3      53              2   \n",
       "336 2020-12-31  148738.0        12       4      53              3   \n",
       "\n",
       "     Predictions_x  Deaths_y  Months_y  Days_y  Week_y  Day of week_y  \\\n",
       "0              NaN       0.0         1       4       5              3   \n",
       "1              NaN       0.0         1       5       5              4   \n",
       "2              NaN       0.0         2       6       5              5   \n",
       "3              NaN       0.0         2       7       5              6   \n",
       "4              NaN       0.0         2       1       6              0   \n",
       "..             ...       ...       ...     ...     ...            ...   \n",
       "332            NaN  147901.0        12       7      52              6   \n",
       "333            NaN  148153.0        12       1      53              0   \n",
       "334            NaN  148439.0        12       2      53              1   \n",
       "335            NaN  148738.0        12       3      53              2   \n",
       "336            NaN  148738.0        12       4      53              3   \n",
       "\n",
       "     Predictions_y  \n",
       "0              NaN  \n",
       "1              NaN  \n",
       "2              NaN  \n",
       "3              NaN  \n",
       "4              NaN  \n",
       "..             ...  \n",
       "332            NaN  \n",
       "333            NaN  \n",
       "334            NaN  \n",
       "335            NaN  \n",
       "336            NaN  \n",
       "\n",
       "[337 rows x 13 columns]"
      ]
     },
     "execution_count": 56,
     "metadata": {},
     "output_type": "execute_result"
    }
   ],
   "source": [
    "result_arima = scenario.pipelines['ARIMA'].result.read()\n",
    "result_rd = scenario.pipelines['LinearRegression'].result.read()\n",
    "result = result_rd.merge(result_arima, on=\"Date\", how=\"outer\").sort_values(by='Date')\n",
    "result"
   ]
  },
  {
   "cell_type": "markdown",
   "id": "53c5cbc8",
   "metadata": {
    "id": "53c5cbc8"
   },
   "source": [
    "**Tips** : the _value_by_id_ property if set to True for a selected will make _selected_scenario_ directly refer to the first element of the tupple (here the id)"
   ]
  },
  {
   "cell_type": "markdown",
   "id": "4d705028",
   "metadata": {
    "id": "4d705028"
   },
   "source": [
    "![](img/predictions.png)"
   ]
  },
  {
   "cell_type": "code",
   "execution_count": 57,
   "id": "ff76ef5f",
   "metadata": {
    "id": "ff76ef5f"
   },
   "outputs": [],
   "source": [
    "prediction_md = \"\"\"\n",
    "<|layout|columns=1 2 5 1 3|\n",
    "<|{scenario_name}|input|label=Name|>\n",
    "\n",
    "<br/>\n",
    "<|Create|button|on_action=create_new_scenario|>\n",
    "\n",
    "Prediction date\n",
    "<|{first_date}|date|>\n",
    "\n",
    "<|{selected_country}|selector|lov={selector_country}|dropdown|on_change=on_change_country|label=Country|>\n",
    "\n",
    "<br/>\n",
    "<|Submit|button|on_action=submit_scenario|>\n",
    "\n",
    "<|{selected_scenario}|selector|lov={scenario_selector}|on_change=actualize_graph|dropdown|value_by_id|label=Scenario|>\n",
    "|>\n",
    "\n",
    "<|{result}|chart|x=Date|y[1]=Deaths_x|type[1]=bar|y[2]=Predictions_x|y[3]=Predictions_y|>\n",
    "\"\"\""
   ]
  },
  {
   "cell_type": "code",
   "execution_count": 58,
   "id": "de9e35b6",
   "metadata": {
    "id": "de9e35b6"
   },
   "outputs": [],
   "source": [
    "def create_new_scenario(state):\n",
    "    scenario = tp.create_scenario(scenario_cfg, name=state.scenario_name)\n",
    "    state.scenario_selector += [(scenario.id, scenario.name)]"
   ]
  },
  {
   "cell_type": "code",
   "execution_count": 59,
   "id": "ef2d2fff",
   "metadata": {
    "id": "ef2d2fff"
   },
   "outputs": [],
   "source": [
    "def actualize_graph(state):\n",
    "    # 1) update the result dataframe\n",
    "    # 2) change selected_country with the predicted country of the scenario\n",
    "    scenario = tp.get(state.selected_scenario)\n",
    "    result_arima = scenario.pipelines['ARIMA'].result.read()\n",
    "    result_rd = scenario.pipelines['LinearRegression'].result.read()\n",
    "    state.result = result_rd.merge(result_arima, on=\"Date\", how=\"outer\").sort_values(by='Date')\n",
    "    state.selected_country = scenario.country.read()"
   ]
  },
  {
   "cell_type": "code",
   "execution_count": 60,
   "id": "41f73a34",
   "metadata": {
    "id": "41f73a34"
   },
   "outputs": [],
   "source": [
    "def submit_scenario(state):\n",
    "    # 1) get the selected scenario\n",
    "    # 2) write in country Data Node, the selected country\n",
    "    # 3) submit the scenario\n",
    "    # 4) actualize le graph avec actualize_graph\n",
    "    scenario = tp.get(state.selected_scenario)\n",
    "    scenario.country.write(state.selected_country)\n",
    "    scenario.date.write(state.first_date.replace(tzinfo=None))\n",
    "    tp.submit(scenario)\n",
    "    actualize_graph(state)"
   ]
  },
  {
   "cell_type": "code",
   "execution_count": 61,
   "id": "b9d18b7f",
   "metadata": {
    "id": "b9d18b7f",
    "outputId": "f0b7e1d3-3a44-4f8d-fccf-95065ae86ea1"
   },
   "outputs": [
    {
     "name": "stdout",
     "output_type": "stream",
     "text": [
      "Gui server has been stopped\n",
      " * Server starting on http://127.0.0.1:6007\n",
      " * Serving Flask app 'Taipy' (lazy loading)\n",
      " * Environment: production\n",
      "\u001b[31m   WARNING: This is a development server. Do not use it in a production deployment.\u001b[0m\n",
      "\u001b[2m   Use a production WSGI server instead.\u001b[0m\n",
      " * Debug mode: off\n"
     ]
    }
   ],
   "source": [
    "gui.stop()\n",
    "page.set_content(prediction_md)\n",
    "gui.run()"
   ]
  },
  {
   "cell_type": "markdown",
   "id": "40a63136",
   "metadata": {
    "id": "40a63136"
   },
   "source": [
    "# Multi-pages and Taipy Rest"
   ]
  },
  {
   "cell_type": "markdown",
   "id": "9b4d3ab8",
   "metadata": {
    "id": "9b4d3ab8"
   },
   "source": [
    "To create a multi-pages app, we only need a dictionary with names as the keys and the Markdowns as the values.\n",
    "\n",
    "The _navbar_ control (<|navbar|>) has a default behaviour. It redirects to the different pages of the app automatically. Other solutions exists."
   ]
  },
  {
   "cell_type": "markdown",
   "id": "77019d17",
   "metadata": {
    "id": "77019d17"
   },
   "source": [
    "![](img/multi_pages.png)"
   ]
  },
  {
   "cell_type": "code",
   "execution_count": 62,
   "id": "b0db7725",
   "metadata": {
    "id": "b0db7725",
    "outputId": "26b9efff-d31d-429a-ca16-a7f07e704605"
   },
   "outputs": [
    {
     "name": "stdout",
     "output_type": "stream",
     "text": [
      " * Server starting on http://127.0.0.1:5006\n",
      " * Serving Flask app 'taipy.rest.app' (lazy loading)\n",
      " * Environment: None\n",
      " * Debug mode: off\n"
     ]
    }
   ],
   "source": [
    "navbar_md = \"<center>\\n<|navbar|>\\n</center>\"\n",
    "\n",
    "pages = {\n",
    "    \"Map\":navbar_md+map_md,\n",
    "    \"Country\":navbar_md+final_country_md,\n",
    "    \"Predictions\":navbar_md+prediction_md\n",
    "}\n",
    "\n",
    "rest = tp.Rest()\n",
    "\n",
    "gui_multi_pages = Gui(pages=pages)\n",
    "tp.run(gui_multi_pages, rest, dark_mode=False, port=5006)"
   ]
  }
 ],
 "metadata": {
  "colab": {
   "collapsed_sections": [
    "b4ac0541",
    "6580b5fe",
    "f84e0a88",
    "cd4d0268",
    "f48f94cd",
    "6e528ce2",
    "6ab0529e",
    "b19ed6d7",
    "e9a53d43",
    "1908c988",
    "849d0a97",
    "73ab0ee0",
    "252820b6",
    "27dbc823",
    "986ebad5",
    "d9915978",
    "ba83beac",
    "73fd648f"
   ],
   "name": "Microsoft_workshop-solution_en.ipynb",
   "provenance": []
  },
  "kernelspec": {
   "display_name": "Python 3",
   "language": "python",
   "name": "python3"
  },
  "language_info": {
   "codemirror_mode": {
    "name": "ipython",
    "version": 3
   },
   "file_extension": ".py",
   "mimetype": "text/x-python",
   "name": "python",
   "nbconvert_exporter": "python",
   "pygments_lexer": "ipython3",
   "version": "3.8.5"
  }
 },
 "nbformat": 4,
 "nbformat_minor": 5
}
