{
 "cells": [
  {
   "cell_type": "markdown",
   "id": "306e5793",
   "metadata": {
    "id": "306e5793"
   },
   "source": [
    "# Install Taipy\n",
    "\n",
    "To install Taipy, just `pip install` it."
   ]
  },
  {
   "cell_type": "code",
   "execution_count": 1,
   "id": "c9cd05ba",
   "metadata": {
    "id": "c9cd05ba",
    "outputId": "3b72f1f4-8d12-40dd-cbda-5c85e8b516f8"
   },
   "outputs": [
    {
     "name": "stdout",
     "output_type": "stream",
     "text": [
      "Requirement already satisfied: taipy in c:\\users\\jacta\\anaconda3\\lib\\site-packages (1.1.0)\n",
      "Requirement already satisfied: taipy-rest<1.2,>=1.1 in c:\\users\\jacta\\anaconda3\\lib\\site-packages (from taipy) (1.1.1)\n",
      "Requirement already satisfied: taipy-gui<1.2,>=1.1 in c:\\users\\jacta\\anaconda3\\lib\\site-packages (from taipy) (1.1.1)\n",
      "Requirement already satisfied: flask<3.0,>=2.1 in c:\\users\\jacta\\anaconda3\\lib\\site-packages (from taipy-gui<1.2,>=1.1->taipy) (2.1.1)\n",
      "Requirement already satisfied: simple-websocket<0.6,>=0.3 in c:\\users\\jacta\\anaconda3\\lib\\site-packages (from taipy-gui<1.2,>=1.1->taipy) (0.5.1)\n",
      "Requirement already satisfied: flask-talisman<2.0,>=1.0 in c:\\users\\jacta\\anaconda3\\lib\\site-packages (from taipy-gui<1.2,>=1.1->taipy) (1.0.0)\n",
      "Requirement already satisfied: flask-socketio<6.0,>=5.1.1 in c:\\users\\jacta\\anaconda3\\lib\\site-packages (from taipy-gui<1.2,>=1.1->taipy) (5.1.1)\n",
      "Requirement already satisfied: tzlocal<5.0,>=3.0 in c:\\users\\jacta\\anaconda3\\lib\\site-packages (from taipy-gui<1.2,>=1.1->taipy) (4.2)\n",
      "Requirement already satisfied: flask-cors<4.0,>=3.0.10 in c:\\users\\jacta\\anaconda3\\lib\\site-packages (from taipy-gui<1.2,>=1.1->taipy) (3.0.10)\n",
      "Requirement already satisfied: backports.zoneinfo<0.3,>=0.2.1 in c:\\users\\jacta\\anaconda3\\lib\\site-packages (from taipy-gui<1.2,>=1.1->taipy) (0.2.1)\n",
      "Requirement already satisfied: pandas<2.0,>=1.3.4 in c:\\users\\jacta\\anaconda3\\lib\\site-packages (from taipy-gui<1.2,>=1.1->taipy) (1.4.2)\n",
      "Requirement already satisfied: python-dotenv<0.21,>=0.19 in c:\\users\\jacta\\anaconda3\\lib\\site-packages (from taipy-gui<1.2,>=1.1->taipy) (0.20.0)\n",
      "Requirement already satisfied: pytz<2022.2,>=2021.3 in c:\\users\\jacta\\anaconda3\\lib\\site-packages (from taipy-gui<1.2,>=1.1->taipy) (2022.1)\n",
      "Requirement already satisfied: markdown<4.0,>=3.3.4 in c:\\users\\jacta\\anaconda3\\lib\\site-packages (from taipy-gui<1.2,>=1.1->taipy) (3.3.4)\n",
      "Requirement already satisfied: Werkzeug>=2.0 in c:\\users\\jacta\\anaconda3\\lib\\site-packages (from flask<3.0,>=2.1->taipy-gui<1.2,>=1.1->taipy) (2.0.0)\n",
      "Requirement already satisfied: click>=8.0 in c:\\users\\jacta\\anaconda3\\lib\\site-packages (from flask<3.0,>=2.1->taipy-gui<1.2,>=1.1->taipy) (8.1.2)\n",
      "Requirement already satisfied: importlib-metadata>=3.6.0 in c:\\users\\jacta\\anaconda3\\lib\\site-packages (from flask<3.0,>=2.1->taipy-gui<1.2,>=1.1->taipy) (3.10.0)\n",
      "Requirement already satisfied: itsdangerous>=2.0 in c:\\users\\jacta\\anaconda3\\lib\\site-packages (from flask<3.0,>=2.1->taipy-gui<1.2,>=1.1->taipy) (2.1.2)\n",
      "Requirement already satisfied: Jinja2>=3.0 in c:\\users\\jacta\\anaconda3\\lib\\site-packages (from flask<3.0,>=2.1->taipy-gui<1.2,>=1.1->taipy) (3.1.1)\n",
      "Requirement already satisfied: colorama in c:\\users\\jacta\\anaconda3\\lib\\site-packages (from click>=8.0->flask<3.0,>=2.1->taipy-gui<1.2,>=1.1->taipy) (0.4.4)\n",
      "Requirement already satisfied: Six in c:\\users\\jacta\\anaconda3\\lib\\site-packages (from flask-cors<4.0,>=3.0.10->taipy-gui<1.2,>=1.1->taipy) (1.15.0)\n",
      "Requirement already satisfied: python-socketio>=5.0.2 in c:\\users\\jacta\\anaconda3\\lib\\site-packages (from flask-socketio<6.0,>=5.1.1->taipy-gui<1.2,>=1.1->taipy) (5.5.2)\n",
      "Requirement already satisfied: zipp>=0.5 in c:\\users\\jacta\\anaconda3\\lib\\site-packages (from importlib-metadata>=3.6.0->flask<3.0,>=2.1->taipy-gui<1.2,>=1.1->taipy) (3.4.1)\n",
      "Requirement already satisfied: MarkupSafe>=2.0 in c:\\users\\jacta\\anaconda3\\lib\\site-packages (from Jinja2>=3.0->flask<3.0,>=2.1->taipy-gui<1.2,>=1.1->taipy) (2.1.1)\n",
      "Requirement already satisfied: numpy>=1.18.5 in c:\\users\\jacta\\anaconda3\\lib\\site-packages (from pandas<2.0,>=1.3.4->taipy-gui<1.2,>=1.1->taipy) (1.21.0)\n",
      "Requirement already satisfied: python-dateutil>=2.8.1 in c:\\users\\jacta\\anaconda3\\lib\\site-packages (from pandas<2.0,>=1.3.4->taipy-gui<1.2,>=1.1->taipy) (2.8.1)\n",
      "Requirement already satisfied: bidict>=0.21.0 in c:\\users\\jacta\\anaconda3\\lib\\site-packages (from python-socketio>=5.0.2->flask-socketio<6.0,>=5.1.1->taipy-gui<1.2,>=1.1->taipy) (0.22.0)\n",
      "Requirement already satisfied: python-engineio>=4.3.0 in c:\\users\\jacta\\anaconda3\\lib\\site-packages (from python-socketio>=5.0.2->flask-socketio<6.0,>=5.1.1->taipy-gui<1.2,>=1.1->taipy) (4.3.1)\n",
      "Requirement already satisfied: wsproto in c:\\users\\jacta\\anaconda3\\lib\\site-packages (from simple-websocket<0.6,>=0.3->taipy-gui<1.2,>=1.1->taipy) (1.1.0)\n",
      "Requirement already satisfied: flask-migrate<4.0,>=3.1 in c:\\users\\jacta\\anaconda3\\lib\\site-packages (from taipy-rest<1.2,>=1.1->taipy) (3.1.0)\n",
      "Requirement already satisfied: flask-restful<0.4,>=0.3.9 in c:\\users\\jacta\\anaconda3\\lib\\site-packages (from taipy-rest<1.2,>=1.1->taipy) (0.3.9)\n",
      "Requirement already satisfied: marshmallow-sqlalchemy<0.29,>=0.25 in c:\\users\\jacta\\anaconda3\\lib\\site-packages (from taipy-rest<1.2,>=1.1->taipy) (0.28.0)\n",
      "Requirement already satisfied: apispec-webframeworks<0.6,>=0.5.2 in c:\\users\\jacta\\anaconda3\\lib\\site-packages (from taipy-rest<1.2,>=1.1->taipy) (0.5.2)\n",
      "Requirement already satisfied: flask-marshmallow<0.15,>=0.14 in c:\\users\\jacta\\anaconda3\\lib\\site-packages (from taipy-rest<1.2,>=1.1->taipy) (0.14.0)\n",
      "Requirement already satisfied: passlib<1.8,>=1.7.4 in c:\\users\\jacta\\anaconda3\\lib\\site-packages (from taipy-rest<1.2,>=1.1->taipy) (1.7.4)\n",
      "Requirement already satisfied: taipy-core<1.2,>=1.1 in c:\\users\\jacta\\anaconda3\\lib\\site-packages (from taipy-rest<1.2,>=1.1->taipy) (1.1.2)\n",
      "Requirement already satisfied: flask-jwt-extended<5.0,>=4.3 in c:\\users\\jacta\\anaconda3\\lib\\site-packages (from taipy-rest<1.2,>=1.1->taipy) (4.3.1)\n",
      "Requirement already satisfied: apispec[yaml]<6.0,>=5.1 in c:\\users\\jacta\\anaconda3\\lib\\site-packages (from taipy-rest<1.2,>=1.1->taipy) (5.1.1)\n",
      "Requirement already satisfied: PyYAML>=3.10 in c:\\users\\jacta\\anaconda3\\lib\\site-packages (from apispec[yaml]<6.0,>=5.1->taipy-rest<1.2,>=1.1->taipy) (5.4.1)\n",
      "Requirement already satisfied: PyJWT<3.0,>=2.0 in c:\\users\\jacta\\anaconda3\\lib\\site-packages (from flask-jwt-extended<5.0,>=4.3->taipy-rest<1.2,>=1.1->taipy) (2.1.0)\n",
      "Requirement already satisfied: marshmallow>=2.0.0 in c:\\users\\jacta\\anaconda3\\lib\\site-packages (from flask-marshmallow<0.15,>=0.14->taipy-rest<1.2,>=1.1->taipy) (3.15.0)\n",
      "Requirement already satisfied: Flask-SQLAlchemy>=1.0 in c:\\users\\jacta\\anaconda3\\lib\\site-packages (from flask-migrate<4.0,>=3.1->taipy-rest<1.2,>=1.1->taipy) (2.5.1)\n",
      "Requirement already satisfied: alembic>=0.7 in c:\\users\\jacta\\anaconda3\\lib\\site-packages (from flask-migrate<4.0,>=3.1->taipy-rest<1.2,>=1.1->taipy) (1.7.7)\n",
      "Requirement already satisfied: SQLAlchemy>=1.3.0 in c:\\users\\jacta\\anaconda3\\lib\\site-packages (from alembic>=0.7->flask-migrate<4.0,>=3.1->taipy-rest<1.2,>=1.1->taipy) (1.4.35)\n",
      "Requirement already satisfied: importlib-resources in c:\\users\\jacta\\anaconda3\\lib\\site-packages (from alembic>=0.7->flask-migrate<4.0,>=3.1->taipy-rest<1.2,>=1.1->taipy) (5.6.0)\n",
      "Requirement already satisfied: Mako in c:\\users\\jacta\\anaconda3\\lib\\site-packages (from alembic>=0.7->flask-migrate<4.0,>=3.1->taipy-rest<1.2,>=1.1->taipy) (1.2.0)\n",
      "Requirement already satisfied: aniso8601>=0.82 in c:\\users\\jacta\\anaconda3\\lib\\site-packages (from flask-restful<0.4,>=0.3.9->taipy-rest<1.2,>=1.1->taipy) (9.0.1)\n",
      "Requirement already satisfied: packaging in c:\\users\\jacta\\anaconda3\\lib\\site-packages (from marshmallow>=2.0.0->flask-marshmallow<0.15,>=0.14->taipy-rest<1.2,>=1.1->taipy) (21.3)\n",
      "Requirement already satisfied: greenlet!=0.4.17 in c:\\users\\jacta\\anaconda3\\lib\\site-packages (from SQLAlchemy>=1.3.0->alembic>=0.7->flask-migrate<4.0,>=3.1->taipy-rest<1.2,>=1.1->taipy) (1.1.2)\n",
      "Requirement already satisfied: toml<0.11,>=0.10 in c:\\users\\jacta\\anaconda3\\lib\\site-packages (from taipy-core<1.2,>=1.1->taipy-rest<1.2,>=1.1->taipy) (0.10.2)\n",
      "Requirement already satisfied: networkx<3.0,>=2.6 in c:\\users\\jacta\\anaconda3\\lib\\site-packages (from taipy-core<1.2,>=1.1->taipy-rest<1.2,>=1.1->taipy) (2.7.1)\n",
      "Requirement already satisfied: openpyxl<4.0,>=3.0.3 in c:\\users\\jacta\\anaconda3\\lib\\site-packages (from taipy-core<1.2,>=1.1->taipy-rest<1.2,>=1.1->taipy) (3.0.9)\n",
      "Requirement already satisfied: et-xmlfile in c:\\users\\jacta\\anaconda3\\lib\\site-packages (from openpyxl<4.0,>=3.0.3->taipy-core<1.2,>=1.1->taipy-rest<1.2,>=1.1->taipy) (1.1.0)\n",
      "Requirement already satisfied: pytz-deprecation-shim in c:\\users\\jacta\\anaconda3\\lib\\site-packages (from tzlocal<5.0,>=3.0->taipy-gui<1.2,>=1.1->taipy) (0.1.0.post0)\n",
      "Requirement already satisfied: tzdata in c:\\users\\jacta\\anaconda3\\lib\\site-packages (from tzlocal<5.0,>=3.0->taipy-gui<1.2,>=1.1->taipy) (2022.1)\n",
      "Requirement already satisfied: pyparsing!=3.0.5,>=2.0.2 in c:\\users\\jacta\\anaconda3\\lib\\site-packages (from packaging->marshmallow>=2.0.0->flask-marshmallow<0.15,>=0.14->taipy-rest<1.2,>=1.1->taipy) (2.4.7)\n",
      "Requirement already satisfied: h11<1,>=0.9.0 in c:\\users\\jacta\\anaconda3\\lib\\site-packages (from wsproto->simple-websocket<0.6,>=0.3->taipy-gui<1.2,>=1.1->taipy) (0.13.0)\n",
      "Note: you may need to restart the kernel to use updated packages.\n"
     ]
    }
   ],
   "source": [
    "pip install taipy"
   ]
  },
  {
   "cell_type": "code",
   "execution_count": 2,
   "id": "c870cd8b",
   "metadata": {
    "id": "c870cd8b"
   },
   "outputs": [
    {
     "name": "stdout",
     "output_type": "stream",
     "text": [
      "Requirement already satisfied: pmdarima in c:\\users\\jacta\\anaconda3\\lib\\site-packages (1.8.5)\n",
      "Requirement already satisfied: urllib3 in c:\\users\\jacta\\anaconda3\\lib\\site-packages (from pmdarima) (1.26.4)\n",
      "Requirement already satisfied: numpy>=1.19.3 in c:\\users\\jacta\\anaconda3\\lib\\site-packages (from pmdarima) (1.21.0)\n",
      "Requirement already satisfied: scipy>=1.3.2 in c:\\users\\jacta\\anaconda3\\lib\\site-packages (from pmdarima) (1.7.1)\n",
      "Requirement already satisfied: Cython!=0.29.18,>=0.29 in c:\\users\\jacta\\anaconda3\\lib\\site-packages (from pmdarima) (0.29.30)\n",
      "Requirement already satisfied: setuptools!=50.0.0,>=38.6.0 in c:\\users\\jacta\\anaconda3\\lib\\site-packages (from pmdarima) (52.0.0.post20210125)\n",
      "Requirement already satisfied: joblib>=0.11 in c:\\users\\jacta\\anaconda3\\lib\\site-packages (from pmdarima) (1.1.0)\n",
      "Requirement already satisfied: pandas>=0.19 in c:\\users\\jacta\\anaconda3\\lib\\site-packages (from pmdarima) (1.4.2)\n",
      "Requirement already satisfied: statsmodels!=0.12.0,>=0.11 in c:\\users\\jacta\\anaconda3\\lib\\site-packages (from pmdarima) (0.13.2)\n",
      "Requirement already satisfied: scikit-learn>=0.22 in c:\\users\\jacta\\anaconda3\\lib\\site-packages (from pmdarima) (1.0.2)\n",
      "Requirement already satisfied: pytz>=2020.1 in c:\\users\\jacta\\anaconda3\\lib\\site-packages (from pandas>=0.19->pmdarima) (2022.1)\n",
      "Requirement already satisfied: python-dateutil>=2.8.1 in c:\\users\\jacta\\anaconda3\\lib\\site-packages (from pandas>=0.19->pmdarima) (2.8.1)\n",
      "Requirement already satisfied: six>=1.5 in c:\\users\\jacta\\anaconda3\\lib\\site-packages (from python-dateutil>=2.8.1->pandas>=0.19->pmdarima) (1.15.0)\n",
      "Requirement already satisfied: threadpoolctl>=2.0.0 in c:\\users\\jacta\\anaconda3\\lib\\site-packages (from scikit-learn>=0.22->pmdarima) (3.1.0)\n",
      "Requirement already satisfied: packaging>=21.3 in c:\\users\\jacta\\anaconda3\\lib\\site-packages (from statsmodels!=0.12.0,>=0.11->pmdarima) (21.3)\n",
      "Requirement already satisfied: patsy>=0.5.2 in c:\\users\\jacta\\anaconda3\\lib\\site-packages (from statsmodels!=0.12.0,>=0.11->pmdarima) (0.5.2)\n",
      "Requirement already satisfied: pyparsing!=3.0.5,>=2.0.2 in c:\\users\\jacta\\anaconda3\\lib\\site-packages (from packaging>=21.3->statsmodels!=0.12.0,>=0.11->pmdarima) (2.4.7)\n",
      "Note: you may need to restart the kernel to use updated packages.\n"
     ]
    }
   ],
   "source": [
    "pip install pmdarima"
   ]
  },
  {
   "cell_type": "code",
   "execution_count": 3,
   "id": "7186867d",
   "metadata": {
    "id": "7186867d"
   },
   "outputs": [
    {
     "name": "stdout",
     "output_type": "stream",
     "text": [
      "Requirement already satisfied: requests in c:\\users\\jacta\\anaconda3\\lib\\site-packages (2.25.1)\n",
      "Requirement already satisfied: chardet<5,>=3.0.2 in c:\\users\\jacta\\anaconda3\\lib\\site-packages (from requests) (4.0.0)\n",
      "Requirement already satisfied: idna<3,>=2.5 in c:\\users\\jacta\\anaconda3\\lib\\site-packages (from requests) (2.10)\n",
      "Requirement already satisfied: certifi>=2017.4.17 in c:\\users\\jacta\\anaconda3\\lib\\site-packages (from requests) (2021.10.8)\n",
      "Requirement already satisfied: urllib3<1.27,>=1.21.1 in c:\\users\\jacta\\anaconda3\\lib\\site-packages (from requests) (1.26.4)\n",
      "Note: you may need to restart the kernel to use updated packages.\n"
     ]
    }
   ],
   "source": [
    "pip install requests"
   ]
  },
  {
   "cell_type": "markdown",
   "id": "c42e5ded",
   "metadata": {
    "id": "c42e5ded"
   },
   "source": [
    "# Import the packages et initialization"
   ]
  },
  {
   "cell_type": "code",
   "execution_count": 4,
   "id": "d69871ac",
   "metadata": {
    "id": "d69871ac"
   },
   "outputs": [],
   "source": [
    "from taipy.gui import Gui, Markdown, notify\n",
    "from taipy import Config\n",
    "import taipy as tp\n",
    "\n",
    "import datetime as dt\n",
    "\n",
    "from pmdarima import auto_arima\n",
    "\n",
    "import pandas as pd\n",
    "import numpy as np\n",
    "\n",
    "import requests"
   ]
  },
  {
   "cell_type": "code",
   "execution_count": 5,
   "id": "62085243",
   "metadata": {
    "id": "62085243"
   },
   "outputs": [],
   "source": [
    "from pandas.core.common import SettingWithCopyWarning\n",
    "import warnings\n",
    "\n",
    "warnings.simplefilter(action=\"ignore\", category=SettingWithCopyWarning)\n",
    "\n",
    "data_country_date = None\n",
    "selected_country = None\n",
    "\n",
    "selected_scenario = None\n",
    "scenario_selector = None\n",
    "\n",
    "scenario_name = None\n",
    "\n",
    "result = None\n",
    "\n",
    "selected_points = []\n",
    "\n",
    "data_province_displayed = None\n",
    "\n",
    "api_year = None\n",
    "api_pop = None\n",
    "api_country = None"
   ]
  },
  {
   "cell_type": "markdown",
   "id": "81074375",
   "metadata": {
    "id": "81074375"
   },
   "source": [
    "# Taipy Gui Basics\n",
    "## Markdown Syntax"
   ]
  },
  {
   "cell_type": "markdown",
   "id": "8ad49481",
   "metadata": {
    "id": "8ad49481"
   },
   "source": [
    "Taipy uses the Markdown syntax to display elements. `#` creates a title, `*` puts your text in italics and `**` puts it in bold."
   ]
  },
  {
   "cell_type": "markdown",
   "id": "929a56cf",
   "metadata": {
    "id": "929a56cf"
   },
   "source": [
    "![](img/gui_basic.png)"
   ]
  },
  {
   "cell_type": "code",
   "execution_count": 6,
   "id": "a170a8e5",
   "metadata": {
    "id": "a170a8e5"
   },
   "outputs": [],
   "source": [
    "page_md = \"\"\"\n",
    "# Taipy\n",
    "\n",
    "Test **here** to put some *markdown*\n",
    "\n",
    "Click to access the [doc](https://docs.taipy.io/en/latest/)\n",
    "\"\"\""
   ]
  },
  {
   "cell_type": "code",
   "execution_count": 9,
   "id": "1cf6cf9d",
   "metadata": {
    "id": "1cf6cf9d",
    "outputId": "d69b4a02-2df5-4830-a043-9c2b5a423d0b"
   },
   "outputs": [
    {
     "name": "stdout",
     "output_type": "stream",
     "text": [
      " * Server starting on http://127.0.0.1:8000\n",
      " * Serving Flask app 'Taipy' (lazy loading)\n",
      " * Environment: production\n",
      "\u001b[31m   WARNING: This is a development server. Do not use it in a production deployment.\u001b[0m\n",
      "\u001b[2m   Use a production WSGI server instead.\u001b[0m\n",
      " * Debug mode: off\n"
     ]
    }
   ],
   "source": [
    "page = Markdown(page_md)\n",
    "\n",
    "gui = Gui(page=page)\n",
    "gui.run(dark_mode=False,  port=8000)"
   ]
  },
  {
   "cell_type": "markdown",
   "id": "ea452214",
   "metadata": {
    "id": "ea452214"
   },
   "source": [
    "## Visual elements\n",
    "Create different visual elements. The syntax is always the same for each visual element.  `<|{value}|name_of_visual_element|property_1=value_of_property_1|...|>`\n",
    "- Create a [slider](https://docs.taipy.io/en/latest/manuals/gui/viselements/slider/) `<|{value}|slider|>`\n",
    "\n",
    "- Create a [date](https://docs.taipy.io/en/latest/manuals/gui/viselements/date/) `<|{value}|date|>`\n",
    "\n",
    "- Create a [selector](https://docs.taipy.io/en/latest/manuals/gui/viselements/selector/) `<|{value}|selector|lov={list_of_values}|>`\n"
   ]
  },
  {
   "cell_type": "markdown",
   "id": "68f228f9",
   "metadata": {
    "id": "68f228f9"
   },
   "source": [
    "![](img/control.png)"
   ]
  },
  {
   "cell_type": "code",
   "execution_count": 10,
   "id": "eb6455bd",
   "metadata": {
    "id": "eb6455bd"
   },
   "outputs": [],
   "source": [
    "slider_value = 0\n",
    "date_value = None\n",
    "selected_value = None"
   ]
  },
  {
   "cell_type": "code",
   "execution_count": 11,
   "id": "bc42cca4",
   "metadata": {
    "id": "bc42cca4"
   },
   "outputs": [],
   "source": [
    "selector = ['Test 1', 'Test 2', 'Test 3']\n",
    "\n",
    "control_md = \"\"\"\n",
    "## Controls\n",
    "\n",
    "<|{slider_value}|slider|> <|{slider_value}|>\n",
    "\n",
    "<|{date_value}|date|> <|{date_value}|>\n",
    "\n",
    "<|{selected_value}|selector|lov={selector}|>  <|{selected_value}|>\n",
    "\"\"\""
   ]
  },
  {
   "cell_type": "code",
   "execution_count": 12,
   "id": "5986d8a8",
   "metadata": {
    "id": "5986d8a8",
    "outputId": "7691b852-4d69-4402-f02e-53d5feb44529"
   },
   "outputs": [
    {
     "name": "stdout",
     "output_type": "stream",
     "text": [
      "Gui server has been stopped\n",
      " * Server starting on http://127.0.0.1:8000\n",
      " * Serving Flask app 'Taipy' (lazy loading)\n",
      " * Environment: production\n",
      "\u001b[31m   WARNING: This is a development server. Do not use it in a production deployment.\u001b[0m\n",
      "\u001b[2m   Use a production WSGI server instead.\u001b[0m\n",
      " * Debug mode: off\n"
     ]
    }
   ],
   "source": [
    "gui.stop()\n",
    "page.set_content(control_md)\n",
    "gui.run()"
   ]
  },
  {
   "cell_type": "markdown",
   "id": "b4ac0541",
   "metadata": {
    "id": "b4ac0541"
   },
   "source": [
    "## Data Viz\n",
    "\n",
    "A dataset gathering information on the number of deaths, confirmed cases and recovered for different regions is going to be used to create an interactive Dashboard."
   ]
  },
  {
   "cell_type": "code",
   "execution_count": 13,
   "id": "49bd29ff",
   "metadata": {
    "id": "49bd29ff",
    "outputId": "b0900888-a15b-4af2-a97d-f796aa28cc46"
   },
   "outputs": [
    {
     "data": {
      "text/html": [
       "<div>\n",
       "<style scoped>\n",
       "    .dataframe tbody tr th:only-of-type {\n",
       "        vertical-align: middle;\n",
       "    }\n",
       "\n",
       "    .dataframe tbody tr th {\n",
       "        vertical-align: top;\n",
       "    }\n",
       "\n",
       "    .dataframe thead th {\n",
       "        text-align: right;\n",
       "    }\n",
       "</style>\n",
       "<table border=\"1\" class=\"dataframe\">\n",
       "  <thead>\n",
       "    <tr style=\"text-align: right;\">\n",
       "      <th></th>\n",
       "      <th>Country/Region</th>\n",
       "      <th>Province/State</th>\n",
       "      <th>Latitude</th>\n",
       "      <th>Longitude</th>\n",
       "      <th>Confirmed</th>\n",
       "      <th>Recovered</th>\n",
       "      <th>Deaths</th>\n",
       "      <th>Date</th>\n",
       "    </tr>\n",
       "  </thead>\n",
       "  <tbody>\n",
       "    <tr>\n",
       "      <th>1241947</th>\n",
       "      <td>Vietnam</td>\n",
       "      <td>NaN</td>\n",
       "      <td>14.058324</td>\n",
       "      <td>108.277199</td>\n",
       "      <td>1465.0</td>\n",
       "      <td>1325.0</td>\n",
       "      <td>35.0</td>\n",
       "      <td>2020-12-31</td>\n",
       "    </tr>\n",
       "    <tr>\n",
       "      <th>1241948</th>\n",
       "      <td>West Bank and Gaza</td>\n",
       "      <td>NaN</td>\n",
       "      <td>31.952200</td>\n",
       "      <td>35.233200</td>\n",
       "      <td>138004.0</td>\n",
       "      <td>117183.0</td>\n",
       "      <td>1400.0</td>\n",
       "      <td>2020-12-31</td>\n",
       "    </tr>\n",
       "    <tr>\n",
       "      <th>1241949</th>\n",
       "      <td>Yemen</td>\n",
       "      <td>NaN</td>\n",
       "      <td>15.552727</td>\n",
       "      <td>48.516388</td>\n",
       "      <td>2099.0</td>\n",
       "      <td>1394.0</td>\n",
       "      <td>610.0</td>\n",
       "      <td>2020-12-31</td>\n",
       "    </tr>\n",
       "    <tr>\n",
       "      <th>1241950</th>\n",
       "      <td>Zambia</td>\n",
       "      <td>NaN</td>\n",
       "      <td>-13.133897</td>\n",
       "      <td>27.849332</td>\n",
       "      <td>20725.0</td>\n",
       "      <td>18660.0</td>\n",
       "      <td>388.0</td>\n",
       "      <td>2020-12-31</td>\n",
       "    </tr>\n",
       "    <tr>\n",
       "      <th>1241951</th>\n",
       "      <td>Zimbabwe</td>\n",
       "      <td>NaN</td>\n",
       "      <td>-19.015438</td>\n",
       "      <td>29.154857</td>\n",
       "      <td>13867.0</td>\n",
       "      <td>11250.0</td>\n",
       "      <td>363.0</td>\n",
       "      <td>2020-12-31</td>\n",
       "    </tr>\n",
       "  </tbody>\n",
       "</table>\n",
       "</div>"
      ],
      "text/plain": [
       "             Country/Region Province/State   Latitude   Longitude  Confirmed  \\\n",
       "1241947             Vietnam            NaN  14.058324  108.277199     1465.0   \n",
       "1241948  West Bank and Gaza            NaN  31.952200   35.233200   138004.0   \n",
       "1241949               Yemen            NaN  15.552727   48.516388     2099.0   \n",
       "1241950              Zambia            NaN -13.133897   27.849332    20725.0   \n",
       "1241951            Zimbabwe            NaN -19.015438   29.154857    13867.0   \n",
       "\n",
       "         Recovered  Deaths        Date  \n",
       "1241947     1325.0    35.0  2020-12-31  \n",
       "1241948   117183.0  1400.0  2020-12-31  \n",
       "1241949     1394.0   610.0  2020-12-31  \n",
       "1241950    18660.0   388.0  2020-12-31  \n",
       "1241951    11250.0   363.0  2020-12-31  "
      ]
     },
     "execution_count": 13,
     "metadata": {},
     "output_type": "execute_result"
    }
   ],
   "source": [
    "path_to_data = \"data/covid-19-all.csv\"\n",
    "data = pd.read_csv(path_to_data, low_memory=False)\n",
    "data[-5:]"
   ]
  },
  {
   "cell_type": "code",
   "execution_count": 14,
   "id": "18b5bb55",
   "metadata": {
    "id": "18b5bb55"
   },
   "outputs": [],
   "source": [
    "def initialize_case_evolution(data, selected_country='France'):\n",
    "    # Aggregation of the dataframe per Country/Region\n",
    "    data_country_date = data.groupby([\"Country/Region\",'Date'])\\\n",
    "                            .sum()\\\n",
    "                            .reset_index()\n",
    "    \n",
    "    # a country is selected, here France by default\n",
    "    data_country_date = data_country_date.loc[data_country_date['Country/Region']==selected_country]\n",
    "    return data_country_date"
   ]
  },
  {
   "cell_type": "code",
   "execution_count": 15,
   "id": "f5ae821c",
   "metadata": {
    "id": "f5ae821c",
    "outputId": "0ca17075-c088-437a-b6e3-48a798a0bdde"
   },
   "outputs": [
    {
     "data": {
      "text/html": [
       "<div>\n",
       "<style scoped>\n",
       "    .dataframe tbody tr th:only-of-type {\n",
       "        vertical-align: middle;\n",
       "    }\n",
       "\n",
       "    .dataframe tbody tr th {\n",
       "        vertical-align: top;\n",
       "    }\n",
       "\n",
       "    .dataframe thead th {\n",
       "        text-align: right;\n",
       "    }\n",
       "</style>\n",
       "<table border=\"1\" class=\"dataframe\">\n",
       "  <thead>\n",
       "    <tr style=\"text-align: right;\">\n",
       "      <th></th>\n",
       "      <th>Country/Region</th>\n",
       "      <th>Date</th>\n",
       "      <th>Latitude</th>\n",
       "      <th>Longitude</th>\n",
       "      <th>Confirmed</th>\n",
       "      <th>Recovered</th>\n",
       "      <th>Deaths</th>\n",
       "    </tr>\n",
       "  </thead>\n",
       "  <tbody>\n",
       "    <tr>\n",
       "      <th>18101</th>\n",
       "      <td>France</td>\n",
       "      <td>2020-01-24</td>\n",
       "      <td>14.6415</td>\n",
       "      <td>-56.3159</td>\n",
       "      <td>2.0</td>\n",
       "      <td>0.0</td>\n",
       "      <td>0.0</td>\n",
       "    </tr>\n",
       "    <tr>\n",
       "      <th>18102</th>\n",
       "      <td>France</td>\n",
       "      <td>2020-01-25</td>\n",
       "      <td>14.6415</td>\n",
       "      <td>-56.3159</td>\n",
       "      <td>3.0</td>\n",
       "      <td>0.0</td>\n",
       "      <td>0.0</td>\n",
       "    </tr>\n",
       "    <tr>\n",
       "      <th>18103</th>\n",
       "      <td>France</td>\n",
       "      <td>2020-01-26</td>\n",
       "      <td>14.6415</td>\n",
       "      <td>-56.3159</td>\n",
       "      <td>3.0</td>\n",
       "      <td>0.0</td>\n",
       "      <td>0.0</td>\n",
       "    </tr>\n",
       "    <tr>\n",
       "      <th>18104</th>\n",
       "      <td>France</td>\n",
       "      <td>2020-01-27</td>\n",
       "      <td>14.6415</td>\n",
       "      <td>-56.3159</td>\n",
       "      <td>3.0</td>\n",
       "      <td>0.0</td>\n",
       "      <td>0.0</td>\n",
       "    </tr>\n",
       "    <tr>\n",
       "      <th>18105</th>\n",
       "      <td>France</td>\n",
       "      <td>2020-01-28</td>\n",
       "      <td>14.6415</td>\n",
       "      <td>-56.3159</td>\n",
       "      <td>4.0</td>\n",
       "      <td>0.0</td>\n",
       "      <td>0.0</td>\n",
       "    </tr>\n",
       "  </tbody>\n",
       "</table>\n",
       "</div>"
      ],
      "text/plain": [
       "      Country/Region        Date  Latitude  Longitude  Confirmed  Recovered  \\\n",
       "18101         France  2020-01-24   14.6415   -56.3159        2.0        0.0   \n",
       "18102         France  2020-01-25   14.6415   -56.3159        3.0        0.0   \n",
       "18103         France  2020-01-26   14.6415   -56.3159        3.0        0.0   \n",
       "18104         France  2020-01-27   14.6415   -56.3159        3.0        0.0   \n",
       "18105         France  2020-01-28   14.6415   -56.3159        4.0        0.0   \n",
       "\n",
       "       Deaths  \n",
       "18101     0.0  \n",
       "18102     0.0  \n",
       "18103     0.0  \n",
       "18104     0.0  \n",
       "18105     0.0  "
      ]
     },
     "execution_count": 15,
     "metadata": {},
     "output_type": "execute_result"
    }
   ],
   "source": [
    "data_country_date = initialize_case_evolution(data)\n",
    "data_country_date.head()"
   ]
  },
  {
   "cell_type": "markdown",
   "id": "d1fd9854",
   "metadata": {
    "id": "d1fd9854"
   },
   "source": [
    "Create a [chart](https://docs.taipy.io/en/latest/manuals/gui/viselements/chart/) showing the evolution of Deaths in France (_Deaths_ for _y_ and _Date_ for _x_). The visual element (chart) has the same syntax as the other ones with specific properties (_x_, _y_, _type_ for example). Here are some [examples of charts](https://docs.taipy.io/en/release-1.1/manuals/gui/viselements/charts/bar/). The _x_ and _y_ porperties only needs the name of the dataframe columns to display."
   ]
  },
  {
   "cell_type": "markdown",
   "id": "bebeb0eb",
   "metadata": {
    "id": "bebeb0eb"
   },
   "source": [
    "![](img/simple_graph.png)"
   ]
  },
  {
   "cell_type": "code",
   "execution_count": 16,
   "id": "baa8dc69",
   "metadata": {
    "id": "baa8dc69"
   },
   "outputs": [],
   "source": [
    "country_md = \"<|{data_country_date}|chart|x=Date|y=Deaths|type=bar|>\""
   ]
  },
  {
   "cell_type": "code",
   "execution_count": 17,
   "id": "e83c2f04",
   "metadata": {
    "id": "e83c2f04",
    "outputId": "3e87cb87-81c4-4a45-8b35-156a2621457c"
   },
   "outputs": [
    {
     "name": "stdout",
     "output_type": "stream",
     "text": [
      "Gui server has been stopped\n",
      " * Server starting on http://127.0.0.1:8000\n",
      " * Serving Flask app 'Taipy' (lazy loading)\n",
      " * Environment: production\n",
      "\u001b[31m   WARNING: This is a development server. Do not use it in a production deployment.\u001b[0m\n",
      "\u001b[2m   Use a production WSGI server instead.\u001b[0m\n",
      " * Debug mode: off\n"
     ]
    }
   ],
   "source": [
    "gui.stop()\n",
    "page.set_content(country_md)\n",
    "gui.run()"
   ]
  },
  {
   "cell_type": "markdown",
   "id": "6580b5fe",
   "metadata": {
    "id": "6580b5fe"
   },
   "source": [
    "## Add new traces\n",
    "\n",
    "- Add on the graph the number of Confirmed and Recovered cases (_Confirmed_ and _Recovered_) with the number of Deaths\n",
    "- _y_ (and _x_) can be indexed this way to add more traces (`y[1]=`, `y[2]=`, `y[3]=`)."
   ]
  },
  {
   "cell_type": "markdown",
   "id": "baf9d2b6",
   "metadata": {
    "id": "baf9d2b6"
   },
   "source": [
    "![](img/multi_traces.png)"
   ]
  },
  {
   "cell_type": "code",
   "execution_count": 18,
   "id": "242756d9",
   "metadata": {
    "id": "242756d9"
   },
   "outputs": [],
   "source": [
    "country_md = \"<|{data_country_date}|chart|type=bar|x=Date|y[1]=Deaths|y[2]=Recovered|y[3]=Confirmed|>\""
   ]
  },
  {
   "cell_type": "code",
   "execution_count": 19,
   "id": "4f65f1a2",
   "metadata": {
    "id": "4f65f1a2",
    "outputId": "10b40d69-445e-4a73-f69f-0f67fc5a4b9a"
   },
   "outputs": [
    {
     "name": "stdout",
     "output_type": "stream",
     "text": [
      "Gui server has been stopped\n",
      " * Server starting on http://127.0.0.1:8000\n",
      " * Serving Flask app 'Taipy' (lazy loading)\n",
      " * Environment: production\n",
      "\u001b[31m   WARNING: This is a development server. Do not use it in a production deployment.\u001b[0m\n",
      "\u001b[2m   Use a production WSGI server instead.\u001b[0m\n",
      " * Debug mode: off\n"
     ]
    }
   ],
   "source": [
    "gui.stop()\n",
    "page.set_content(country_md)\n",
    "gui.run()"
   ]
  },
  {
   "cell_type": "markdown",
   "id": "f84e0a88",
   "metadata": {
    "id": "f84e0a88"
   },
   "source": [
    "## Style the graph with personnalized properties\n",
    "The _layout_ dictionnary specifies how bars should be displayed. They would be 'stacked'.\n",
    "\n",
    "The _options_ dictionary will change the opacity of the unselected markers.\n",
    "\n",
    "These are Plotly properties."
   ]
  },
  {
   "cell_type": "markdown",
   "id": "99c5d669",
   "metadata": {
    "id": "99c5d669"
   },
   "source": [
    "![](img/stack_chart.png)"
   ]
  },
  {
   "cell_type": "code",
   "execution_count": 20,
   "id": "f068e3ba",
   "metadata": {
    "id": "f068e3ba"
   },
   "outputs": [],
   "source": [
    "layout = {'barmode':'stack'}\n",
    "options = {\"unselected\":{\"marker\":{\"opacity\":0.5}}}\n",
    "country_md = \"<|{data_country_date}|chart|type=bar|x=Date|y[1]=Deaths|y[2]=Recovered|y[3]=Confirmed|layout={layout}|options={options}|>\""
   ]
  },
  {
   "cell_type": "code",
   "execution_count": 21,
   "id": "dfa787fb",
   "metadata": {
    "id": "dfa787fb",
    "outputId": "fa1a08c7-a1ed-4dde-c9c5-06cdd0db8872"
   },
   "outputs": [
    {
     "name": "stdout",
     "output_type": "stream",
     "text": [
      "Gui server has been stopped\n",
      " * Server starting on http://127.0.0.1:8000\n",
      " * Serving Flask app 'Taipy' (lazy loading)\n",
      " * Environment: production\n",
      "\u001b[31m   WARNING: This is a development server. Do not use it in a production deployment.\u001b[0m\n",
      "\u001b[2m   Use a production WSGI server instead.\u001b[0m\n",
      " * Debug mode: off\n"
     ]
    }
   ],
   "source": [
    "gui.stop()\n",
    "page.set_content(country_md)\n",
    "gui.run()"
   ]
  },
  {
   "cell_type": "markdown",
   "id": "cd4d0268",
   "metadata": {
    "id": "cd4d0268"
   },
   "source": [
    "## Add texts that sums up the data\n",
    "\n",
    "Use the [text](https://docs.taipy.io/en/latest/manuals/gui/viselements/text/) visual element.\n",
    "\n",
    "- Add the total number of Deaths (last line of _data_country_date_)\n",
    "- Add the total number of Recovered (last line of _data_country_date_)\n",
    "- Add the total number of Confirmed (last line of _data_country_date_)\n"
   ]
  },
  {
   "cell_type": "code",
   "execution_count": 22,
   "id": "f9060a46",
   "metadata": {
    "id": "f9060a46",
    "outputId": "0d12534f-60a6-4acf-c555-5a6babd1c3d4"
   },
   "outputs": [
    {
     "data": {
      "text/html": [
       "<div>\n",
       "<style scoped>\n",
       "    .dataframe tbody tr th:only-of-type {\n",
       "        vertical-align: middle;\n",
       "    }\n",
       "\n",
       "    .dataframe tbody tr th {\n",
       "        vertical-align: top;\n",
       "    }\n",
       "\n",
       "    .dataframe thead th {\n",
       "        text-align: right;\n",
       "    }\n",
       "</style>\n",
       "<table border=\"1\" class=\"dataframe\">\n",
       "  <thead>\n",
       "    <tr style=\"text-align: right;\">\n",
       "      <th></th>\n",
       "      <th>Country/Region</th>\n",
       "      <th>Date</th>\n",
       "      <th>Latitude</th>\n",
       "      <th>Longitude</th>\n",
       "      <th>Confirmed</th>\n",
       "      <th>Recovered</th>\n",
       "      <th>Deaths</th>\n",
       "    </tr>\n",
       "  </thead>\n",
       "  <tbody>\n",
       "    <tr>\n",
       "      <th>18101</th>\n",
       "      <td>France</td>\n",
       "      <td>2020-01-24</td>\n",
       "      <td>14.641500</td>\n",
       "      <td>-56.315900</td>\n",
       "      <td>2.0</td>\n",
       "      <td>0.0</td>\n",
       "      <td>0.0</td>\n",
       "    </tr>\n",
       "    <tr>\n",
       "      <th>18102</th>\n",
       "      <td>France</td>\n",
       "      <td>2020-01-25</td>\n",
       "      <td>14.641500</td>\n",
       "      <td>-56.315900</td>\n",
       "      <td>3.0</td>\n",
       "      <td>0.0</td>\n",
       "      <td>0.0</td>\n",
       "    </tr>\n",
       "    <tr>\n",
       "      <th>18103</th>\n",
       "      <td>France</td>\n",
       "      <td>2020-01-26</td>\n",
       "      <td>14.641500</td>\n",
       "      <td>-56.315900</td>\n",
       "      <td>3.0</td>\n",
       "      <td>0.0</td>\n",
       "      <td>0.0</td>\n",
       "    </tr>\n",
       "    <tr>\n",
       "      <th>18104</th>\n",
       "      <td>France</td>\n",
       "      <td>2020-01-27</td>\n",
       "      <td>14.641500</td>\n",
       "      <td>-56.315900</td>\n",
       "      <td>3.0</td>\n",
       "      <td>0.0</td>\n",
       "      <td>0.0</td>\n",
       "    </tr>\n",
       "    <tr>\n",
       "      <th>18105</th>\n",
       "      <td>France</td>\n",
       "      <td>2020-01-28</td>\n",
       "      <td>14.641500</td>\n",
       "      <td>-56.315900</td>\n",
       "      <td>4.0</td>\n",
       "      <td>0.0</td>\n",
       "      <td>0.0</td>\n",
       "    </tr>\n",
       "    <tr>\n",
       "      <th>...</th>\n",
       "      <td>...</td>\n",
       "      <td>...</td>\n",
       "      <td>...</td>\n",
       "      <td>...</td>\n",
       "      <td>...</td>\n",
       "      <td>...</td>\n",
       "      <td>...</td>\n",
       "    </tr>\n",
       "    <tr>\n",
       "      <th>18439</th>\n",
       "      <td>France</td>\n",
       "      <td>2020-12-27</td>\n",
       "      <td>91.463495</td>\n",
       "      <td>-238.646914</td>\n",
       "      <td>2616510.0</td>\n",
       "      <td>195861.0</td>\n",
       "      <td>62867.0</td>\n",
       "    </tr>\n",
       "    <tr>\n",
       "      <th>18440</th>\n",
       "      <td>France</td>\n",
       "      <td>2020-12-28</td>\n",
       "      <td>91.463495</td>\n",
       "      <td>-238.646914</td>\n",
       "      <td>2619616.0</td>\n",
       "      <td>196642.0</td>\n",
       "      <td>63235.0</td>\n",
       "    </tr>\n",
       "    <tr>\n",
       "      <th>18441</th>\n",
       "      <td>France</td>\n",
       "      <td>2020-12-29</td>\n",
       "      <td>91.463495</td>\n",
       "      <td>-238.646914</td>\n",
       "      <td>2631110.0</td>\n",
       "      <td>197726.0</td>\n",
       "      <td>64204.0</td>\n",
       "    </tr>\n",
       "    <tr>\n",
       "      <th>18442</th>\n",
       "      <td>France</td>\n",
       "      <td>2020-12-30</td>\n",
       "      <td>91.463495</td>\n",
       "      <td>-238.646914</td>\n",
       "      <td>2657624.0</td>\n",
       "      <td>198966.0</td>\n",
       "      <td>64508.0</td>\n",
       "    </tr>\n",
       "    <tr>\n",
       "      <th>18443</th>\n",
       "      <td>France</td>\n",
       "      <td>2020-12-31</td>\n",
       "      <td>91.463495</td>\n",
       "      <td>-238.646914</td>\n",
       "      <td>2677666.0</td>\n",
       "      <td>200142.0</td>\n",
       "      <td>64759.0</td>\n",
       "    </tr>\n",
       "  </tbody>\n",
       "</table>\n",
       "<p>343 rows × 7 columns</p>\n",
       "</div>"
      ],
      "text/plain": [
       "      Country/Region        Date   Latitude   Longitude  Confirmed  Recovered  \\\n",
       "18101         France  2020-01-24  14.641500  -56.315900        2.0        0.0   \n",
       "18102         France  2020-01-25  14.641500  -56.315900        3.0        0.0   \n",
       "18103         France  2020-01-26  14.641500  -56.315900        3.0        0.0   \n",
       "18104         France  2020-01-27  14.641500  -56.315900        3.0        0.0   \n",
       "18105         France  2020-01-28  14.641500  -56.315900        4.0        0.0   \n",
       "...              ...         ...        ...         ...        ...        ...   \n",
       "18439         France  2020-12-27  91.463495 -238.646914  2616510.0   195861.0   \n",
       "18440         France  2020-12-28  91.463495 -238.646914  2619616.0   196642.0   \n",
       "18441         France  2020-12-29  91.463495 -238.646914  2631110.0   197726.0   \n",
       "18442         France  2020-12-30  91.463495 -238.646914  2657624.0   198966.0   \n",
       "18443         France  2020-12-31  91.463495 -238.646914  2677666.0   200142.0   \n",
       "\n",
       "        Deaths  \n",
       "18101      0.0  \n",
       "18102      0.0  \n",
       "18103      0.0  \n",
       "18104      0.0  \n",
       "18105      0.0  \n",
       "...        ...  \n",
       "18439  62867.0  \n",
       "18440  63235.0  \n",
       "18441  64204.0  \n",
       "18442  64508.0  \n",
       "18443  64759.0  \n",
       "\n",
       "[343 rows x 7 columns]"
      ]
     },
     "execution_count": 22,
     "metadata": {},
     "output_type": "execute_result"
    }
   ],
   "source": [
    "data_country_date"
   ]
  },
  {
   "cell_type": "markdown",
   "id": "ec27c620",
   "metadata": {
    "id": "ec27c620"
   },
   "source": [
    "This is how we can get the total number of Deaths from the daatset for France."
   ]
  },
  {
   "cell_type": "code",
   "execution_count": 23,
   "id": "c0a73440",
   "metadata": {
    "id": "c0a73440",
    "outputId": "642a8cff-1c8f-4748-af5e-7b4dc70d9627"
   },
   "outputs": [
    {
     "data": {
      "text/plain": [
       "64759.0"
      ]
     },
     "execution_count": 23,
     "metadata": {},
     "output_type": "execute_result"
    }
   ],
   "source": [
    "data_country_date.iloc[-1, 6] # gives the number of deaths for France (5 is for recovered and 4 is confirmed)"
   ]
  },
  {
   "cell_type": "markdown",
   "id": "4a043817",
   "metadata": {
    "id": "4a043817"
   },
   "source": [
    "Use the [text](https://docs.taipy.io/en/release-1.1/manuals/gui/viselements/text/) visual element. Note that between `{}`, any Python variable can be put but also any Python code."
   ]
  },
  {
   "cell_type": "markdown",
   "id": "8b5b47ec",
   "metadata": {
    "id": "8b5b47ec"
   },
   "source": [
    "![](img/control_text.png)"
   ]
  },
  {
   "cell_type": "code",
   "execution_count": 24,
   "id": "beab9af4",
   "metadata": {
    "id": "beab9af4"
   },
   "outputs": [],
   "source": [
    "country_md = \"\"\"\n",
    "## Deaths <|{data_country_date.iloc[-1, 6]}|text|>\n",
    "\n",
    "## Recovered <|{data_country_date.iloc[-1, 5]}|text|>\n",
    "\n",
    "## Confirmed <|{data_country_date.iloc[-1, 4]}|text|>\n",
    "\n",
    "<|{data_country_date}|chart|type=bar|x=Date|y[1]=Deaths|y[2]=Recovered|y[3]=Confirmed|layout={layout}|options={options}|>\n",
    "\"\"\""
   ]
  },
  {
   "cell_type": "code",
   "execution_count": 25,
   "id": "1b8e26f5",
   "metadata": {
    "id": "1b8e26f5",
    "outputId": "cde6776e-5097-4743-ce8d-23bc29819b1d"
   },
   "outputs": [
    {
     "name": "stdout",
     "output_type": "stream",
     "text": [
      "Gui server has been stopped\n",
      " * Server starting on http://127.0.0.1:8000\n",
      " * Serving Flask app 'Taipy' (lazy loading)\n",
      " * Environment: production\n",
      "\u001b[31m   WARNING: This is a development server. Do not use it in a production deployment.\u001b[0m\n",
      "\u001b[2m   Use a production WSGI server instead.\u001b[0m\n",
      " * Debug mode: off\n"
     ]
    }
   ],
   "source": [
    "gui.stop()\n",
    "page.set_content(country_md)\n",
    "gui.run()"
   ]
  },
  {
   "cell_type": "markdown",
   "id": "f48f94cd",
   "metadata": {
    "id": "f48f94cd"
   },
   "source": [
    "## Local _on_change_\n",
    "\n",
    "- Add a [selector](https://docs.taipy.io/en/latest/manuals/gui/viselements/selector/) with `dropdown=True` containing the name of all the _Country/region_\n",
    "- Give to the _on_change_ selector property the name of the _on_change_country_ function. This function will be called when the selector will be used.\n",
    "- This function has a 'state' parameter and has to be completed. When the selector is used, this function is called with the _state_ argument. It contains all the Gui variables; 'state.data_country_date' is then the dataframe used in the Gui."
   ]
  },
  {
   "cell_type": "markdown",
   "id": "35953a48",
   "metadata": {
    "id": "35953a48"
   },
   "source": [
    "![](img/on_change_local.png)"
   ]
  },
  {
   "cell_type": "code",
   "execution_count": 26,
   "id": "ed63f76a",
   "metadata": {
    "id": "ed63f76a"
   },
   "outputs": [],
   "source": [
    "selector_country = list(data['Country/Region'].astype(str).unique())\n",
    "selected_country = 'France'\n",
    "\n",
    "country_md = \"\"\"\n",
    "<|{selected_country}|selector|lov={selector_country}|on_change=on_change_country|dropdown|label=Country|>\n",
    "\n",
    "## Deaths <|{data_country_date.iloc[-1, 6]}|>\n",
    "\n",
    "## Recovered <|{data_country_date.iloc[-1, 5]}|>\n",
    "\n",
    "## Confirmed <|{data_country_date.iloc[-1, 4]}|>\n",
    "\n",
    "<|{data_country_date}|chart|type=bar|x=Date|y[1]=Deaths|y[2]=Recovered|y[3]=Confirmed|layout={layout}|options={options}|>\n",
    "\"\"\""
   ]
  },
  {
   "cell_type": "code",
   "execution_count": 27,
   "id": "42e91877",
   "metadata": {
    "id": "42e91877"
   },
   "outputs": [],
   "source": [
    "def on_change_country(state):\n",
    "    # state contains all the Gui variables and this is through this state variable that we can update the Gui\n",
    "    # state.selected_country, state.data_country_date, ...\n",
    "    # update data_country_date with the right country (use initialize_case_evolution)\n",
    "    print(\"Chosen country: \", state.selected_country)\n",
    "    state.data_country_date = initialize_case_evolution(data, state.selected_country)"
   ]
  },
  {
   "cell_type": "code",
   "execution_count": 28,
   "id": "8f2541f5",
   "metadata": {
    "id": "8f2541f5",
    "outputId": "dd07a1b2-283d-4a53-aa71-a432c4a29645"
   },
   "outputs": [
    {
     "name": "stdout",
     "output_type": "stream",
     "text": [
      "Gui server has been stopped\n",
      " * Server starting on http://127.0.0.1:8000\n",
      " * Serving Flask app 'Taipy' (lazy loading)\n",
      " * Environment: production\n",
      "\u001b[31m   WARNING: This is a development server. Do not use it in a production deployment.\u001b[0m\n",
      "\u001b[2m   Use a production WSGI server instead.\u001b[0m\n",
      " * Debug mode: off\n"
     ]
    }
   ],
   "source": [
    "gui.stop()\n",
    "page.set_content(country_md)\n",
    "gui.run()"
   ]
  },
  {
   "cell_type": "markdown",
   "id": "6e528ce2",
   "metadata": {
    "id": "6e528ce2"
   },
   "source": [
    "## Layout\n",
    "\n",
    "Use the [layout](https://docs.taipy.io/en/latest/manuals/gui/viselements/layout/) block to change the page structure. This block creates invisible columns to put text/visual elements in.\n",
    "\n",
    "Syntax :\n",
    "```\n",
    "<|layout|columns=1 1 1 ...|\n",
    "(first column)\n",
    "\n",
    "(in second column)\n",
    "\n",
    "(third column)\n",
    "(again, third column)\n",
    "\n",
    "(...)\n",
    "|>\n",
    "```"
   ]
  },
  {
   "cell_type": "code",
   "execution_count": 29,
   "id": "f89fd2fb",
   "metadata": {
    "id": "f89fd2fb"
   },
   "outputs": [],
   "source": [
    "final_country_md = \"\"\"\n",
    "<|layout|columns=1 1 1 1|\n",
    "<|{selected_country}|selector|lov={selector_country}|on_change=on_change_country|dropdown|label=Country|>\n",
    "\n",
    "## Deaths <|{data_country_date.iloc[-1, 6]}|>\n",
    "\n",
    "## Recovered <|{data_country_date.iloc[-1, 5]}|>\n",
    "\n",
    "## Confirmed <|{data_country_date.iloc[-1, 4]}|>\n",
    "|>\n",
    "\n",
    "<|{data_country_date}|chart|type=bar|x=Date|y[1]=Deaths|y[2]=Recovered|y[3]=Confirmed|layout={layout}|options={options}|>\n",
    "\"\"\""
   ]
  },
  {
   "cell_type": "code",
   "execution_count": 30,
   "id": "a349a33f",
   "metadata": {
    "id": "a349a33f",
    "outputId": "aa184e5c-74a5-4646-cd3a-d83bcfb5cbed"
   },
   "outputs": [
    {
     "name": "stdout",
     "output_type": "stream",
     "text": [
      "Gui server has been stopped\n",
      " * Server starting on http://127.0.0.1:8000\n",
      " * Serving Flask app 'Taipy' (lazy loading)\n",
      " * Environment: production\n",
      "\u001b[31m   WARNING: This is a development server. Do not use it in a production deployment.\u001b[0m\n",
      "\u001b[2m   Use a production WSGI server instead.\u001b[0m\n",
      " * Debug mode: off\n"
     ]
    }
   ],
   "source": [
    "gui.stop()\n",
    "page.set_content(final_country_md)\n",
    "gui.run()"
   ]
  },
  {
   "cell_type": "markdown",
   "id": "f63dcc18",
   "metadata": {
    "id": "f63dcc18"
   },
   "source": [
    "![](img/layout.png)"
   ]
  },
  {
   "cell_type": "markdown",
   "id": "e9ab05a9",
   "metadata": {
    "id": "e9ab05a9"
   },
   "source": [
    "# Map"
   ]
  },
  {
   "cell_type": "code",
   "execution_count": 31,
   "id": "92212747",
   "metadata": {
    "id": "92212747"
   },
   "outputs": [],
   "source": [
    "def initialize_map(data):\n",
    "    data['Province/State'] = data['Province/State'].fillna(data[\"Country/Region\"])\n",
    "    data_province = data.groupby([\"Country/Region\",\n",
    "                                  'Province/State',\n",
    "                                  'Longitude',\n",
    "                                  'Latitude'])\\\n",
    "                         .max()\n",
    "\n",
    "    data_province_displayed = data_province[data_province['Deaths']>10].reset_index()\n",
    "\n",
    "    data_province_displayed['Size'] = np.sqrt(data_province_displayed.loc[:,'Deaths']/data_province_displayed.loc[:,'Deaths'].max())*80 + 3\n",
    "    data_province_displayed['Text'] = data_province_displayed.loc[:,'Deaths'].astype(str) + ' deaths </br> ' + data_province_displayed.loc[:,'Province/State']\n",
    "    return data_province_displayed"
   ]
  },
  {
   "cell_type": "code",
   "execution_count": 32,
   "id": "5a1f5cb6",
   "metadata": {
    "id": "5a1f5cb6",
    "outputId": "ff8c0dc6-5b6a-4693-c1f1-01635ecf65c5"
   },
   "outputs": [
    {
     "data": {
      "text/html": [
       "<div>\n",
       "<style scoped>\n",
       "    .dataframe tbody tr th:only-of-type {\n",
       "        vertical-align: middle;\n",
       "    }\n",
       "\n",
       "    .dataframe tbody tr th {\n",
       "        vertical-align: top;\n",
       "    }\n",
       "\n",
       "    .dataframe thead th {\n",
       "        text-align: right;\n",
       "    }\n",
       "</style>\n",
       "<table border=\"1\" class=\"dataframe\">\n",
       "  <thead>\n",
       "    <tr style=\"text-align: right;\">\n",
       "      <th></th>\n",
       "      <th>Country/Region</th>\n",
       "      <th>Province/State</th>\n",
       "      <th>Longitude</th>\n",
       "      <th>Latitude</th>\n",
       "      <th>Confirmed</th>\n",
       "      <th>Recovered</th>\n",
       "      <th>Deaths</th>\n",
       "      <th>Date</th>\n",
       "      <th>Size</th>\n",
       "      <th>Text</th>\n",
       "    </tr>\n",
       "  </thead>\n",
       "  <tbody>\n",
       "    <tr>\n",
       "      <th>0</th>\n",
       "      <td>Afghanistan</td>\n",
       "      <td>Afghanistan</td>\n",
       "      <td>67.709953</td>\n",
       "      <td>33.93911</td>\n",
       "      <td>51526.0</td>\n",
       "      <td>41727.0</td>\n",
       "      <td>2191.0</td>\n",
       "      <td>2020-12-31</td>\n",
       "      <td>17.771247</td>\n",
       "      <td>2191.0 deaths &lt;/br&gt; Afghanistan</td>\n",
       "    </tr>\n",
       "    <tr>\n",
       "      <th>1</th>\n",
       "      <td>Albania</td>\n",
       "      <td>Albania</td>\n",
       "      <td>20.168300</td>\n",
       "      <td>41.15330</td>\n",
       "      <td>58316.0</td>\n",
       "      <td>33634.0</td>\n",
       "      <td>1181.0</td>\n",
       "      <td>2020-12-31</td>\n",
       "      <td>13.844784</td>\n",
       "      <td>1181.0 deaths &lt;/br&gt; Albania</td>\n",
       "    </tr>\n",
       "    <tr>\n",
       "      <th>2</th>\n",
       "      <td>Algeria</td>\n",
       "      <td>Algeria</td>\n",
       "      <td>1.659600</td>\n",
       "      <td>28.03390</td>\n",
       "      <td>99610.0</td>\n",
       "      <td>67127.0</td>\n",
       "      <td>2756.0</td>\n",
       "      <td>2020-12-31</td>\n",
       "      <td>19.566684</td>\n",
       "      <td>2756.0 deaths &lt;/br&gt; Algeria</td>\n",
       "    </tr>\n",
       "    <tr>\n",
       "      <th>3</th>\n",
       "      <td>Andorra</td>\n",
       "      <td>Andorra</td>\n",
       "      <td>1.521800</td>\n",
       "      <td>42.50630</td>\n",
       "      <td>8049.0</td>\n",
       "      <td>7432.0</td>\n",
       "      <td>84.0</td>\n",
       "      <td>2020-12-31</td>\n",
       "      <td>5.892249</td>\n",
       "      <td>84.0 deaths &lt;/br&gt; Andorra</td>\n",
       "    </tr>\n",
       "    <tr>\n",
       "      <th>4</th>\n",
       "      <td>Angola</td>\n",
       "      <td>Angola</td>\n",
       "      <td>17.873900</td>\n",
       "      <td>-11.20270</td>\n",
       "      <td>17553.0</td>\n",
       "      <td>11044.0</td>\n",
       "      <td>405.0</td>\n",
       "      <td>2020-12-31</td>\n",
       "      <td>9.350728</td>\n",
       "      <td>405.0 deaths &lt;/br&gt; Angola</td>\n",
       "    </tr>\n",
       "  </tbody>\n",
       "</table>\n",
       "</div>"
      ],
      "text/plain": [
       "  Country/Region Province/State  Longitude  Latitude  Confirmed  Recovered  \\\n",
       "0    Afghanistan    Afghanistan  67.709953  33.93911    51526.0    41727.0   \n",
       "1        Albania        Albania  20.168300  41.15330    58316.0    33634.0   \n",
       "2        Algeria        Algeria   1.659600  28.03390    99610.0    67127.0   \n",
       "3        Andorra        Andorra   1.521800  42.50630     8049.0     7432.0   \n",
       "4         Angola         Angola  17.873900 -11.20270    17553.0    11044.0   \n",
       "\n",
       "   Deaths        Date       Size                             Text  \n",
       "0  2191.0  2020-12-31  17.771247  2191.0 deaths </br> Afghanistan  \n",
       "1  1181.0  2020-12-31  13.844784      1181.0 deaths </br> Albania  \n",
       "2  2756.0  2020-12-31  19.566684      2756.0 deaths </br> Algeria  \n",
       "3    84.0  2020-12-31   5.892249        84.0 deaths </br> Andorra  \n",
       "4   405.0  2020-12-31   9.350728        405.0 deaths </br> Angola  "
      ]
     },
     "execution_count": 32,
     "metadata": {},
     "output_type": "execute_result"
    }
   ],
   "source": [
    "data_province_displayed = initialize_map(data)\n",
    "data_province_displayed.head()"
   ]
  },
  {
   "cell_type": "markdown",
   "id": "fe689939",
   "metadata": {
    "id": "fe689939"
   },
   "source": [
    "Properties to style the map\n",
    "- marker color corresponds to the number of Deaths (column _Deaths_)\n",
    "- marker sizes corresponds to the size in _Size_ column which is created from the number of Deaths\n",
    "\n",
    "layout_map permet defined the initial zoom and position of the map\n"
   ]
  },
  {
   "cell_type": "code",
   "execution_count": 33,
   "id": "62a4cc23",
   "metadata": {
    "id": "62a4cc23"
   },
   "outputs": [],
   "source": [
    "marker_map = {\"color\":\"Deaths\", \"size\": \"Size\", \"showscale\":True, \"colorscale\":\"Viridis\"}\n",
    "layout_map = {\n",
    "            \"dragmode\": \"zoom\",\n",
    "            \"mapbox\": { \"style\": \"open-street-map\", \"center\": { \"lat\": 38, \"lon\": -90 }, \"zoom\": 3}\n",
    "            }"
   ]
  },
  {
   "cell_type": "markdown",
   "id": "fb251153",
   "metadata": {
    "id": "fb251153"
   },
   "source": [
    "We give to Plotly:\n",
    "- a map type\n",
    "- the name of the latitude column\n",
    "- the name of the longitude column\n",
    "- properties: on the size and color of the markers\n",
    "- the name of the column for the text of the points"
   ]
  },
  {
   "cell_type": "code",
   "execution_count": 34,
   "id": "7e65e017",
   "metadata": {
    "id": "7e65e017"
   },
   "outputs": [],
   "source": [
    "map_md = \"\"\"\n",
    "<|{data_province_displayed}|chart|type=scattermapbox|selected={selected_points}|lat=Latitude|lon=Longitude|marker={marker_map}|layout={layout_map}|text=Text|mode=markers|height=800px|options={options}|>\n",
    "\"\"\""
   ]
  },
  {
   "cell_type": "code",
   "execution_count": 35,
   "id": "b068a3af",
   "metadata": {
    "id": "b068a3af",
    "outputId": "b1fcab52-320d-49aa-8a98-60a6b21ce8fb"
   },
   "outputs": [
    {
     "name": "stdout",
     "output_type": "stream",
     "text": [
      "Gui server has been stopped\n"
     ]
    },
    {
     "name": "stderr",
     "output_type": "stream",
     "text": [
      "C:\\Users\\jacta\\anaconda3\\lib\\site-packages\\taipy\\gui\\gui.py:337: UserWarning: Decoding Message has failed: {'type': 'RU', 'name': '', 'payload': {'names': ['_TpL_tpec_TpExPr_selector_country_TPMDL_0', '_TpLv_tpec_TpExPr_selected_country_TPMDL_0']}, 'propagate': True, 'client_id': '20220829180417100218-0.8424481706569947', 'module_context': ''}\n",
      "'types.SimpleNamespace' object has no attribute '_TpL_tpec_TpExPr_selector_country_TPMDL_0'\n",
      "  warnings.warn(f\"Decoding Message has failed: {message}\\n{e}\")\n",
      "C:\\Users\\jacta\\anaconda3\\lib\\site-packages\\taipy\\gui\\gui.py:337: UserWarning: Decoding Message has failed: {'type': 'DU', 'name': '_TpD_tpec_TpExPr_data_country_date_TPMDL_0', 'payload': {'pagekey': 'Deaths-Recovered-Date-Confirmed', 'columns': ['Deaths', 'Recovered', 'Date', 'Confirmed'], 'alldata': True}, 'propagate': True, 'client_id': '20220829180417100218-0.8424481706569947', 'module_context': ''}\n",
      "'types.SimpleNamespace' object has no attribute '_TpD_tpec_TpExPr_data_country_date_TPMDL_0'\n",
      "  warnings.warn(f\"Decoding Message has failed: {message}\\n{e}\")\n"
     ]
    },
    {
     "name": "stdout",
     "output_type": "stream",
     "text": [
      " * Server starting on http://127.0.0.1:8000\n",
      " * Serving Flask app 'Taipy' (lazy loading)\n",
      " * Environment: production\n",
      "\u001b[31m   WARNING: This is a development server. Do not use it in a production deployment.\u001b[0m\n",
      "\u001b[2m   Use a production WSGI server instead.\u001b[0m\n",
      " * Debug mode: off\n"
     ]
    }
   ],
   "source": [
    "gui.stop()\n",
    "page.set_content(map_md)\n",
    "gui.run()"
   ]
  },
  {
   "cell_type": "markdown",
   "id": "56c0ea66",
   "metadata": {
    "id": "56c0ea66"
   },
   "source": [
    "![](img/carte.png)"
   ]
  },
  {
   "cell_type": "markdown",
   "id": "cab1cacc",
   "metadata": {
    "id": "cab1cacc"
   },
   "source": [
    "# Part and the _render_ property\n",
    "- Create a [toggle](https://docs.taipy.io/en/latest/manuals/gui/viselements/toggle/) (works the same as a selector) with a lov of 'Map' an 'Country'\n",
    "- Create two part blocks that renders or not depending on the value of the toggle\n",
    "    - To do this, use the fact that in the _render_ property of the part block, Python code can be inserted in `{}`"
   ]
  },
  {
   "cell_type": "code",
   "execution_count": 36,
   "id": "91bb95bc",
   "metadata": {
    "id": "91bb95bc"
   },
   "outputs": [],
   "source": [
    "representation_selector = ['Map', 'Country']\n",
    "selected_representation = representation_selector[0]"
   ]
  },
  {
   "cell_type": "code",
   "execution_count": 37,
   "id": "e76ebb06",
   "metadata": {
    "id": "e76ebb06"
   },
   "outputs": [],
   "source": [
    "main_page = \"\"\"\n",
    "<|{selected_representation}|toggle|lov={representation_selector}|>\n",
    "\n",
    "<|part|render={selected_representation == \"Country\"}|\n",
    "\"\"\"+final_country_md+\"\"\"\n",
    "|>\n",
    "\n",
    "<|part|render={selected_representation == \"Map\"}|\n",
    "\"\"\"+map_md+\"\"\"\n",
    "|>\n",
    "\"\"\" "
   ]
  },
  {
   "cell_type": "code",
   "execution_count": 38,
   "id": "186846ba",
   "metadata": {
    "id": "186846ba",
    "outputId": "c5cf9b85-034b-4f80-e9ca-32b31f4caab1"
   },
   "outputs": [
    {
     "name": "stdout",
     "output_type": "stream",
     "text": [
      "Gui server has been stopped\n",
      " * Server starting on http://127.0.0.1:8000\n",
      " * Serving Flask app 'Taipy' (lazy loading)\n",
      " * Environment: production\n",
      "\u001b[31m   WARNING: This is a development server. Do not use it in a production deployment.\u001b[0m\n",
      "\u001b[2m   Use a production WSGI server instead.\u001b[0m\n",
      " * Debug mode: off\n"
     ]
    }
   ],
   "source": [
    "gui.stop()\n",
    "page.set_content(main_page)\n",
    "gui.run()"
   ]
  },
  {
   "cell_type": "markdown",
   "id": "47d5c7ce",
   "metadata": {
    "id": "47d5c7ce"
   },
   "source": [
    "![](img/part_render.png)"
   ]
  },
  {
   "cell_type": "markdown",
   "id": "0c8130ec",
   "metadata": {
    "id": "0c8130ec"
   },
   "source": [
    "# Taipy Core\n",
    "Here are the functions that we are going to use to predict the number of Deaths for a country.\n",
    "We will:\n",
    "- preprocess the data (_preprocess_),\n",
    "- create a training and testing database (_make_train_test_data_),\n",
    "- train a model (_train_model_),\n",
    "- generate predictions (_forecast_),\n",
    "- generate a dataframe with the historical data and the predictions (_result_)\n",
    "\n",
    "![](img/all_architecture.svg)"
   ]
  },
  {
   "cell_type": "code",
   "execution_count": 39,
   "id": "688ebab8",
   "metadata": {
    "id": "688ebab8"
   },
   "outputs": [],
   "source": [
    "def preprocess(initial_data, country):\n",
    "    data = initial_data.groupby([\"Country/Region\",'Date'])\\\n",
    "                       .sum()\\\n",
    "                       .dropna()\\\n",
    "                       .reset_index()\n",
    "\n",
    "    preprocess_data = data.loc[data['Country/Region']==country].reset_index(drop=True)\n",
    "    return preprocess_data\n",
    "    \n",
    "    \n",
    "def make_train_test_data(preprocess_data):\n",
    "    perc_test = 0.3\n",
    "    nb_to_predict = int(perc_test*len(preprocess_data))\n",
    "    train_data = preprocess_data[:-nb_to_predict]\n",
    "    return train_data, nb_to_predict\n",
    "\n",
    "\n",
    "def train_model(train_data):\n",
    "    model = auto_arima(train_data['Deaths'],\n",
    "                       start_p=1, start_q=1,\n",
    "                       max_p=5, max_q=5,\n",
    "                       start_P=0, seasonal=False,\n",
    "                       d=1, D=1, trace=True,\n",
    "                       error_action='ignore',  \n",
    "                       suppress_warnings=True)\n",
    "    model.fit(train_data['Deaths'])\n",
    "    return model\n",
    "\n",
    "\n",
    "def forecast(model, nb_to_predict):\n",
    "    predictions = model.predict(n_periods=nb_to_predict)\n",
    "    return predictions\n",
    "\n",
    "\n",
    "def result(preprocess_data, predictions, nb_to_predict):\n",
    "    pred_series = pd.Series([np.NaN]*(len(preprocess_data)-nb_to_predict) + list(predictions), name='Predictions')\n",
    "    return pd.concat([preprocess_data, pred_series], axis=1)"
   ]
  },
  {
   "cell_type": "markdown",
   "id": "9d2e845f",
   "metadata": {
    "id": "9d2e845f"
   },
   "source": [
    "First we must define the Data Nodes then the tasks (associated to the Python function). Furthermore, we gather these tasks into different pipelines and these pipelines into a scenario.\n",
    "\n",
    "A Data Nod needs a **unique id**. If needed, the storage type can be changed for CSV and SQL. Other parameters are then needed."
   ]
  },
  {
   "cell_type": "markdown",
   "id": "b19ed6d7",
   "metadata": {
    "id": "b19ed6d7"
   },
   "source": [
    "### Data Nodes and Task for preprocess"
   ]
  },
  {
   "cell_type": "markdown",
   "id": "6c0e2743",
   "metadata": {
    "id": "6c0e2743"
   },
   "source": [
    "<img src=\"img/preprocess.svg\" alt=\"drawing\" width=\"500\"/>"
   ]
  },
  {
   "cell_type": "code",
   "execution_count": 40,
   "id": "a0dec60e",
   "metadata": {
    "id": "a0dec60e"
   },
   "outputs": [],
   "source": [
    "initial_data_cfg = Config.configure_data_node(id=\"initial_data\",\n",
    "                                              storage_type=\"csv\",\n",
    "                                              path=path_to_data,\n",
    "                                              cacheable=True,\n",
    "                                              validity_period=dt.timedelta(days=5))\n",
    "\n",
    "country_cfg = Config.configure_data_node(id=\"country\", default_data=\"France\",\n",
    "                                         cacheable=True, validity_period=dt.timedelta(days=5))\n",
    "\n",
    "preprocess_data_cfg =  Config.configure_data_node(id=\"preprocess_data\",\n",
    "                                                  cacheable=True, validity_period=dt.timedelta(days=5))\n",
    "\n",
    "\n",
    "task_preprocess_cfg = Config.configure_task(id=\"task_preprocess_data\",\n",
    "                                           function=preprocess,\n",
    "                                           input=[initial_data_cfg, country_cfg],\n",
    "                                           output=preprocess_data_cfg)"
   ]
  },
  {
   "cell_type": "markdown",
   "id": "e9a53d43",
   "metadata": {
    "id": "e9a53d43"
   },
   "source": [
    "### Data Nodes and Task for make_train_test_data"
   ]
  },
  {
   "cell_type": "markdown",
   "id": "caacd215",
   "metadata": {
    "id": "caacd215"
   },
   "source": [
    "<img src=\"img/make_train_test_data.svg\" alt=\"drawing\" width=\"500\"/>"
   ]
  },
  {
   "cell_type": "code",
   "execution_count": 41,
   "id": "d357539c",
   "metadata": {
    "id": "d357539c"
   },
   "outputs": [],
   "source": [
    "train_data_cfg =  Config.configure_data_node(id=\"train_data\", cacheable=True, validity_period=dt.timedelta(days=5))\n",
    "\n",
    "nb_to_predict_cfg = Config.configure_data_node(id=\"nb_to_predict\",\n",
    "                                               cacheable=True, validity_period=dt.timedelta(days=5))\n",
    "\n",
    "task_train_test_cfg = Config.configure_task(id=\"task_make_train_test_data\",\n",
    "                                           function=make_train_test_data,\n",
    "                                           input=preprocess_data_cfg,\n",
    "                                           output=[train_data_cfg, nb_to_predict_cfg])"
   ]
  },
  {
   "cell_type": "markdown",
   "id": "1908c988",
   "metadata": {
    "id": "1908c988"
   },
   "source": [
    "### Data Nodes and Task for train_model"
   ]
  },
  {
   "cell_type": "markdown",
   "id": "e8bd5020",
   "metadata": {
    "id": "e8bd5020"
   },
   "source": [
    "<img src=\"img/train_model.svg\" alt=\"drawing\" width=\"500\"/>"
   ]
  },
  {
   "cell_type": "code",
   "execution_count": 42,
   "id": "96afe994",
   "metadata": {
    "id": "96afe994"
   },
   "outputs": [],
   "source": [
    "model_cfg = Config.configure_data_node(id=\"model\", cacheable=True, validity_period=dt.timedelta(days=5))\n",
    "\n",
    "task_train_cfg = Config.configure_task(id=\"task_train\",\n",
    "                                      function=train_model,\n",
    "                                      input=train_data_cfg,\n",
    "                                      output=model_cfg)"
   ]
  },
  {
   "cell_type": "markdown",
   "id": "849d0a97",
   "metadata": {
    "id": "849d0a97"
   },
   "source": [
    "### Data Nodes and Task for forecast"
   ]
  },
  {
   "cell_type": "markdown",
   "id": "e0a125c7",
   "metadata": {
    "id": "e0a125c7"
   },
   "source": [
    "<img src=\"img/forecast.svg\" alt=\"drawing\" width=\"500\"/>"
   ]
  },
  {
   "cell_type": "code",
   "execution_count": 43,
   "id": "46b0287b",
   "metadata": {
    "id": "46b0287b"
   },
   "outputs": [],
   "source": [
    "predictions_cfg = Config.configure_data_node(id=\"predictions\")\n",
    "\n",
    "task_forecast_cfg = Config.configure_task(id=\"task_forecast\",\n",
    "                                      function=forecast,\n",
    "                                      input=[model_cfg, nb_to_predict_cfg],\n",
    "                                      output=predictions_cfg)"
   ]
  },
  {
   "cell_type": "markdown",
   "id": "73ab0ee0",
   "metadata": {
    "id": "73ab0ee0"
   },
   "source": [
    "### Data Nodes and Task for result"
   ]
  },
  {
   "cell_type": "markdown",
   "id": "899c41df",
   "metadata": {
    "id": "899c41df"
   },
   "source": [
    "<img src=\"img/result.svg\" alt=\"drawing\" width=\"500\"/>"
   ]
  },
  {
   "cell_type": "code",
   "execution_count": 44,
   "id": "92f6ca0c",
   "metadata": {
    "id": "92f6ca0c"
   },
   "outputs": [],
   "source": [
    "result_cfg = Config.configure_data_node(id=\"result\")\n",
    "\n",
    "task_result_cfg = Config.configure_task(id=\"task_result\",\n",
    "                                      function=result,\n",
    "                                      input=[preprocess_data_cfg, predictions_cfg, nb_to_predict_cfg],\n",
    "                                      output=result_cfg)"
   ]
  },
  {
   "cell_type": "markdown",
   "id": "252820b6",
   "metadata": {
    "id": "252820b6"
   },
   "source": [
    "## [Configuration of pipelines](https://docs.taipy.io/en/release-1.1/manuals/reference/taipy.Config/#taipy.core.config.config.Config.configure_default_pipeline)"
   ]
  },
  {
   "cell_type": "code",
   "execution_count": 45,
   "id": "ed34224b",
   "metadata": {
    "id": "ed34224b"
   },
   "outputs": [],
   "source": [
    "pipeline_preprocessing_cfg = Config.configure_pipeline(id=\"pipeline_preprocessing\",\n",
    "                                                       task_configs=[task_preprocess_cfg, task_train_test_cfg])\n",
    "\n",
    "pipeline_train_cfg = Config.configure_pipeline(id=\"pipeline_train\",\n",
    "                                               task_configs=[task_train_cfg])\n",
    "\n",
    "pipeline_forecast_cfg = Config.configure_pipeline(id=\"pipeline_forecast\",\n",
    "                                                       task_configs=[task_forecast_cfg, task_result_cfg])"
   ]
  },
  {
   "cell_type": "markdown",
   "id": "27dbc823",
   "metadata": {
    "id": "27dbc823"
   },
   "source": [
    "## [Configuration of scénario](https://docs.taipy.io/en/release-1.1/manuals/reference/taipy.Config/#taipy.core.config.config.Config.configure_default_scenario)"
   ]
  },
  {
   "cell_type": "code",
   "execution_count": 46,
   "id": "9c742722",
   "metadata": {
    "id": "9c742722"
   },
   "outputs": [],
   "source": [
    "scenario_cfg = Config.configure_scenario(id='scenario', pipeline_configs=[pipeline_preprocessing_cfg,\n",
    "                                                                         pipeline_train_cfg,\n",
    "                                                                         pipeline_forecast_cfg])"
   ]
  },
  {
   "cell_type": "markdown",
   "id": "986ebad5",
   "metadata": {
    "id": "986ebad5"
   },
   "source": [
    "## Creation and submit of scenario"
   ]
  },
  {
   "cell_type": "code",
   "execution_count": 47,
   "id": "ee902abf",
   "metadata": {
    "id": "ee902abf",
    "outputId": "f2e36e97-1ce2-49ae-b4b7-23f84e68892a"
   },
   "outputs": [
    {
     "name": "stderr",
     "output_type": "stream",
     "text": [
      "C:\\Users\\jacta\\anaconda3\\lib\\site-packages\\taipy\\core\\data\\csv.py:145: DtypeWarning: Columns (0,1) have mixed types. Specify dtype option on import or set low_memory=False.\n",
      "  return pd.read_csv(self._path)\n"
     ]
    },
    {
     "name": "stdout",
     "output_type": "stream",
     "text": [
      "[2022-08-29 18:04:48,986][Taipy][INFO] job JOB_task_preprocess_data_ee6e5561-c41c-44d1-aec9-866116e1c749 is completed.\n",
      "[2022-08-29 18:04:49,128][Taipy][INFO] job JOB_task_make_train_test_data_be33ce04-571a-40db-a317-6b01a219c256 is completed.\n",
      "Performing stepwise search to minimize aic\n",
      " ARIMA(1,1,1)(0,0,0)[0] intercept   : AIC=2994.124, Time=0.18 sec\n",
      " ARIMA(0,1,0)(0,0,0)[0] intercept   : AIC=3349.636, Time=0.01 sec\n",
      " ARIMA(1,1,0)(0,0,0)[0] intercept   : AIC=3045.305, Time=0.05 sec\n",
      " ARIMA(0,1,1)(0,0,0)[0] intercept   : AIC=3200.566, Time=0.06 sec\n",
      " ARIMA(0,1,0)(0,0,0)[0]             : AIC=3402.421, Time=0.01 sec\n",
      " ARIMA(2,1,1)(0,0,0)[0] intercept   : AIC=2996.090, Time=0.18 sec\n",
      " ARIMA(1,1,2)(0,0,0)[0] intercept   : AIC=2996.081, Time=0.15 sec\n",
      " ARIMA(0,1,2)(0,0,0)[0] intercept   : AIC=3162.541, Time=0.13 sec\n",
      " ARIMA(2,1,0)(0,0,0)[0] intercept   : AIC=3014.299, Time=0.04 sec\n",
      " ARIMA(2,1,2)(0,0,0)[0] intercept   : AIC=2996.306, Time=0.16 sec\n",
      " ARIMA(1,1,1)(0,0,0)[0]             : AIC=2992.816, Time=0.06 sec\n",
      " ARIMA(0,1,1)(0,0,0)[0]             : AIC=3237.322, Time=0.04 sec\n",
      " ARIMA(1,1,0)(0,0,0)[0]             : AIC=3047.241, Time=0.02 sec\n",
      " ARIMA(2,1,1)(0,0,0)[0]             : AIC=2994.775, Time=0.12 sec\n",
      " ARIMA(1,1,2)(0,0,0)[0]             : AIC=2994.765, Time=0.08 sec\n",
      " ARIMA(0,1,2)(0,0,0)[0]             : AIC=3191.574, Time=0.07 sec\n",
      " ARIMA(2,1,0)(0,0,0)[0]             : AIC=3014.129, Time=0.02 sec\n",
      " ARIMA(2,1,2)(0,0,0)[0]             : AIC=2994.978, Time=0.07 sec\n",
      "\n",
      "Best model:  ARIMA(1,1,1)(0,0,0)[0]          \n",
      "Total fit time: 1.479 seconds\n",
      "[2022-08-29 18:04:50,772][Taipy][INFO] job JOB_task_train_6ab279b4-55fc-4108-a6be-fa39895895a5 is completed.\n",
      "[2022-08-29 18:04:50,875][Taipy][INFO] job JOB_task_forecast_8997d1fb-f551-44e7-9f0a-662498b5912f is completed.\n",
      "[2022-08-29 18:04:50,971][Taipy][INFO] job JOB_task_result_ccc2203c-5d0c-43fd-bd7f-176d44a3d818 is completed.\n"
     ]
    }
   ],
   "source": [
    "scenario = tp.create_scenario(scenario_cfg, name='First Scenario')\n",
    "tp.submit(scenario)"
   ]
  },
  {
   "cell_type": "code",
   "execution_count": 48,
   "id": "0438a233",
   "metadata": {
    "id": "0438a233",
    "outputId": "494c2bd8-eef2-4a0f-92ca-46ce061aeaee"
   },
   "outputs": [
    {
     "data": {
      "text/plain": [
       "ARIMA(order=(1, 1, 1), scoring_args={}, suppress_warnings=True,\n",
       "      with_intercept=False)"
      ]
     },
     "execution_count": 48,
     "metadata": {},
     "output_type": "execute_result"
    }
   ],
   "source": [
    "scenario.model.read()"
   ]
  },
  {
   "cell_type": "code",
   "execution_count": 49,
   "id": "a4f4dafd",
   "metadata": {
    "id": "a4f4dafd",
    "outputId": "a9928f34-27e3-4e90-c43d-4aa073fc5617"
   },
   "outputs": [
    {
     "data": {
      "text/html": [
       "<div>\n",
       "<style scoped>\n",
       "    .dataframe tbody tr th:only-of-type {\n",
       "        vertical-align: middle;\n",
       "    }\n",
       "\n",
       "    .dataframe tbody tr th {\n",
       "        vertical-align: top;\n",
       "    }\n",
       "\n",
       "    .dataframe thead th {\n",
       "        text-align: right;\n",
       "    }\n",
       "</style>\n",
       "<table border=\"1\" class=\"dataframe\">\n",
       "  <thead>\n",
       "    <tr style=\"text-align: right;\">\n",
       "      <th></th>\n",
       "      <th>Country/Region</th>\n",
       "      <th>Date</th>\n",
       "      <th>Latitude</th>\n",
       "      <th>Longitude</th>\n",
       "      <th>Confirmed</th>\n",
       "      <th>Recovered</th>\n",
       "      <th>Deaths</th>\n",
       "      <th>Predictions</th>\n",
       "    </tr>\n",
       "  </thead>\n",
       "  <tbody>\n",
       "    <tr>\n",
       "      <th>0</th>\n",
       "      <td>France</td>\n",
       "      <td>2020-01-24</td>\n",
       "      <td>14.641500</td>\n",
       "      <td>-56.315900</td>\n",
       "      <td>2.0</td>\n",
       "      <td>0.0</td>\n",
       "      <td>0.0</td>\n",
       "      <td>NaN</td>\n",
       "    </tr>\n",
       "    <tr>\n",
       "      <th>1</th>\n",
       "      <td>France</td>\n",
       "      <td>2020-01-25</td>\n",
       "      <td>14.641500</td>\n",
       "      <td>-56.315900</td>\n",
       "      <td>3.0</td>\n",
       "      <td>0.0</td>\n",
       "      <td>0.0</td>\n",
       "      <td>NaN</td>\n",
       "    </tr>\n",
       "    <tr>\n",
       "      <th>2</th>\n",
       "      <td>France</td>\n",
       "      <td>2020-01-26</td>\n",
       "      <td>14.641500</td>\n",
       "      <td>-56.315900</td>\n",
       "      <td>3.0</td>\n",
       "      <td>0.0</td>\n",
       "      <td>0.0</td>\n",
       "      <td>NaN</td>\n",
       "    </tr>\n",
       "    <tr>\n",
       "      <th>3</th>\n",
       "      <td>France</td>\n",
       "      <td>2020-01-27</td>\n",
       "      <td>14.641500</td>\n",
       "      <td>-56.315900</td>\n",
       "      <td>3.0</td>\n",
       "      <td>0.0</td>\n",
       "      <td>0.0</td>\n",
       "      <td>NaN</td>\n",
       "    </tr>\n",
       "    <tr>\n",
       "      <th>4</th>\n",
       "      <td>France</td>\n",
       "      <td>2020-01-28</td>\n",
       "      <td>14.641500</td>\n",
       "      <td>-56.315900</td>\n",
       "      <td>4.0</td>\n",
       "      <td>0.0</td>\n",
       "      <td>0.0</td>\n",
       "      <td>NaN</td>\n",
       "    </tr>\n",
       "    <tr>\n",
       "      <th>...</th>\n",
       "      <td>...</td>\n",
       "      <td>...</td>\n",
       "      <td>...</td>\n",
       "      <td>...</td>\n",
       "      <td>...</td>\n",
       "      <td>...</td>\n",
       "      <td>...</td>\n",
       "      <td>...</td>\n",
       "    </tr>\n",
       "    <tr>\n",
       "      <th>338</th>\n",
       "      <td>France</td>\n",
       "      <td>2020-12-27</td>\n",
       "      <td>91.463495</td>\n",
       "      <td>-238.646914</td>\n",
       "      <td>2616510.0</td>\n",
       "      <td>195861.0</td>\n",
       "      <td>62867.0</td>\n",
       "      <td>32931.922617</td>\n",
       "    </tr>\n",
       "    <tr>\n",
       "      <th>339</th>\n",
       "      <td>France</td>\n",
       "      <td>2020-12-28</td>\n",
       "      <td>91.463495</td>\n",
       "      <td>-238.646914</td>\n",
       "      <td>2619616.0</td>\n",
       "      <td>196642.0</td>\n",
       "      <td>63235.0</td>\n",
       "      <td>32936.896572</td>\n",
       "    </tr>\n",
       "    <tr>\n",
       "      <th>340</th>\n",
       "      <td>France</td>\n",
       "      <td>2020-12-29</td>\n",
       "      <td>91.463495</td>\n",
       "      <td>-238.646914</td>\n",
       "      <td>2631110.0</td>\n",
       "      <td>197726.0</td>\n",
       "      <td>64204.0</td>\n",
       "      <td>32941.767204</td>\n",
       "    </tr>\n",
       "    <tr>\n",
       "      <th>341</th>\n",
       "      <td>France</td>\n",
       "      <td>2020-12-30</td>\n",
       "      <td>91.463495</td>\n",
       "      <td>-238.646914</td>\n",
       "      <td>2657624.0</td>\n",
       "      <td>198966.0</td>\n",
       "      <td>64508.0</td>\n",
       "      <td>32946.536660</td>\n",
       "    </tr>\n",
       "    <tr>\n",
       "      <th>342</th>\n",
       "      <td>France</td>\n",
       "      <td>2020-12-31</td>\n",
       "      <td>91.463495</td>\n",
       "      <td>-238.646914</td>\n",
       "      <td>2677666.0</td>\n",
       "      <td>200142.0</td>\n",
       "      <td>64759.0</td>\n",
       "      <td>32951.207042</td>\n",
       "    </tr>\n",
       "  </tbody>\n",
       "</table>\n",
       "<p>343 rows × 8 columns</p>\n",
       "</div>"
      ],
      "text/plain": [
       "    Country/Region        Date   Latitude   Longitude  Confirmed  Recovered  \\\n",
       "0           France  2020-01-24  14.641500  -56.315900        2.0        0.0   \n",
       "1           France  2020-01-25  14.641500  -56.315900        3.0        0.0   \n",
       "2           France  2020-01-26  14.641500  -56.315900        3.0        0.0   \n",
       "3           France  2020-01-27  14.641500  -56.315900        3.0        0.0   \n",
       "4           France  2020-01-28  14.641500  -56.315900        4.0        0.0   \n",
       "..             ...         ...        ...         ...        ...        ...   \n",
       "338         France  2020-12-27  91.463495 -238.646914  2616510.0   195861.0   \n",
       "339         France  2020-12-28  91.463495 -238.646914  2619616.0   196642.0   \n",
       "340         France  2020-12-29  91.463495 -238.646914  2631110.0   197726.0   \n",
       "341         France  2020-12-30  91.463495 -238.646914  2657624.0   198966.0   \n",
       "342         France  2020-12-31  91.463495 -238.646914  2677666.0   200142.0   \n",
       "\n",
       "      Deaths   Predictions  \n",
       "0        0.0           NaN  \n",
       "1        0.0           NaN  \n",
       "2        0.0           NaN  \n",
       "3        0.0           NaN  \n",
       "4        0.0           NaN  \n",
       "..       ...           ...  \n",
       "338  62867.0  32931.922617  \n",
       "339  63235.0  32936.896572  \n",
       "340  64204.0  32941.767204  \n",
       "341  64508.0  32946.536660  \n",
       "342  64759.0  32951.207042  \n",
       "\n",
       "[343 rows x 8 columns]"
      ]
     },
     "execution_count": 49,
     "metadata": {},
     "output_type": "execute_result"
    }
   ],
   "source": [
    "scenario.result.read()"
   ]
  },
  {
   "cell_type": "code",
   "execution_count": 50,
   "id": "79602c0e",
   "metadata": {
    "id": "79602c0e",
    "outputId": "fe06a4ba-a59a-419e-f244-aed87412fb05"
   },
   "outputs": [
    {
     "data": {
      "text/plain": [
       "array([31336.91486027, 31375.02135569, 31412.33627815, 31448.87607071,\n",
       "       31484.65683488, 31519.6943377 , 31554.00401867, 31587.60099658,\n",
       "       31620.50007616, 31652.71575462, 31684.262228  , 31715.15339748,\n",
       "       31745.40287544, 31775.02399153, 31804.02979849, 31832.43307792,\n",
       "       31860.24634591, 31887.48185857, 31914.15161741, 31940.26737463,\n",
       "       31965.84063831, 31990.8826775 , 32015.40452712, 32039.4169929 ,\n",
       "       32062.93065608, 32085.95587812, 32108.50280525, 32130.5813729 ,\n",
       "       32152.20131016, 32173.37214398, 32194.10320345, 32214.40362383,\n",
       "       32234.28235065, 32253.7481436 , 32272.80958041, 32291.47506062,\n",
       "       32309.75280931, 32327.6508807 , 32345.17716167, 32362.33937532,\n",
       "       32379.14508427, 32395.60169408, 32411.71645647, 32427.49647251,\n",
       "       32442.94869576, 32458.07993537, 32472.896859  , 32487.40599583,\n",
       "       32501.61373942, 32515.52635049, 32529.14995974, 32542.4905705 ,\n",
       "       32555.55406139, 32568.34618894, 32580.87259007, 32593.13878463,\n",
       "       32605.15017781, 32616.91206249, 32628.42962164, 32639.70793054,\n",
       "       32650.75195906, 32661.56657382, 32672.15654035, 32682.52652519,\n",
       "       32692.68109795, 32702.6247333 , 32712.36181298, 32721.89662769,\n",
       "       32731.23337901, 32740.37618125, 32749.32906324, 32758.09597013,\n",
       "       32766.68076512, 32775.08723115, 32783.31907259, 32791.37991684,\n",
       "       32799.27331599, 32807.00274831, 32814.57161982, 32821.98326579,\n",
       "       32829.24095223, 32836.34787727, 32843.30717263, 32850.12190497,\n",
       "       32856.79507725, 32863.32963004, 32869.72844285, 32875.99433534,\n",
       "       32882.13006863, 32888.13834647, 32894.02181644, 32899.78307114,\n",
       "       32905.42464931, 32910.94903693, 32916.35866837, 32921.65592743,\n",
       "       32926.84314836, 32931.92261696, 32936.89657152, 32941.76720386,\n",
       "       32946.53666025, 32951.20704239])"
      ]
     },
     "execution_count": 50,
     "metadata": {},
     "output_type": "execute_result"
    }
   ],
   "source": [
    "scenario.predictions.read()"
   ]
  },
  {
   "cell_type": "markdown",
   "id": "d9915978",
   "metadata": {
    "id": "d9915978"
   },
   "source": [
    "## Caching\n",
    "Some job are skipped because no change has been done to the \"input\" Data Nodes."
   ]
  },
  {
   "cell_type": "code",
   "execution_count": 51,
   "id": "7cb68da0",
   "metadata": {
    "id": "7cb68da0",
    "outputId": "b06a184d-f2aa-4e00-cac4-3a0111d1755c"
   },
   "outputs": [
    {
     "name": "stdout",
     "output_type": "stream",
     "text": [
      "[2022-08-29 18:04:51,121][Taipy][INFO] job JOB_task_preprocess_data_b138ff25-f82b-40d3-a34c-19e3f370e36c is skipped.\n",
      "[2022-08-29 18:04:51,236][Taipy][INFO] job JOB_task_make_train_test_data_a1dfdaf0-ee38-4994-8e0f-12da983e4937 is skipped.\n",
      "[2022-08-29 18:04:51,360][Taipy][INFO] job JOB_task_train_b6fa11df-a673-4610-aeb7-193983ea49b4 is skipped.\n",
      "[2022-08-29 18:04:51,488][Taipy][INFO] job JOB_task_forecast_47a6e187-c6c1-4e67-a1f9-5540a2a9d030 is completed.\n",
      "[2022-08-29 18:04:51,599][Taipy][INFO] job JOB_task_result_8adc6c29-a9eb-42f7-9b2e-58bdd9d3589e is completed.\n"
     ]
    }
   ],
   "source": [
    "tp.submit(scenario)"
   ]
  },
  {
   "cell_type": "markdown",
   "id": "ba83beac",
   "metadata": {
    "id": "ba83beac"
   },
   "source": [
    "## Write in data nodes\n",
    "\n",
    "To write a data node:\n",
    "\n",
    "`<Data Node>.write(new_value)`"
   ]
  },
  {
   "cell_type": "code",
   "execution_count": 52,
   "id": "31d6562d",
   "metadata": {
    "id": "31d6562d",
    "outputId": "9fef8e2d-9026-438f-da23-8299d3fe3497"
   },
   "outputs": [
    {
     "name": "stderr",
     "output_type": "stream",
     "text": [
      "C:\\Users\\jacta\\anaconda3\\lib\\site-packages\\taipy\\core\\data\\csv.py:145: DtypeWarning: Columns (0,1) have mixed types. Specify dtype option on import or set low_memory=False.\n",
      "  return pd.read_csv(self._path)\n"
     ]
    },
    {
     "name": "stdout",
     "output_type": "stream",
     "text": [
      "[2022-08-29 18:04:52,985][Taipy][INFO] job JOB_task_preprocess_data_5181ddc3-d475-4a2a-87fa-c9681fda9c22 is completed.\n",
      "[2022-08-29 18:04:53,097][Taipy][INFO] job JOB_task_make_train_test_data_254a94f2-9e4e-4d86-9ca9-b0a4b0710dce is completed.\n",
      "Performing stepwise search to minimize aic\n",
      " ARIMA(1,1,1)(0,0,0)[0] intercept   : AIC=3565.937, Time=0.03 sec\n",
      " ARIMA(0,1,0)(0,0,0)[0] intercept   : AIC=3869.494, Time=0.01 sec\n",
      " ARIMA(1,1,0)(0,0,0)[0] intercept   : AIC=3564.625, Time=0.02 sec\n",
      " ARIMA(0,1,1)(0,0,0)[0] intercept   : AIC=3712.670, Time=0.07 sec\n",
      " ARIMA(0,1,0)(0,0,0)[0]             : AIC=4064.717, Time=0.01 sec\n",
      " ARIMA(2,1,0)(0,0,0)[0] intercept   : AIC=3565.875, Time=0.03 sec\n",
      " ARIMA(2,1,1)(0,0,0)[0] intercept   : AIC=3567.852, Time=0.07 sec\n",
      " ARIMA(1,1,0)(0,0,0)[0]             : AIC=3573.780, Time=0.01 sec\n",
      "\n",
      "Best model:  ARIMA(1,1,0)(0,0,0)[0] intercept\n",
      "Total fit time: 0.249 seconds\n",
      "[2022-08-29 18:04:53,459][Taipy][INFO] job JOB_task_train_862fbf6a-8a57-42ae-ba59-c960636b3cbf is completed.\n",
      "[2022-08-29 18:04:53,574][Taipy][INFO] job JOB_task_forecast_1d8bb9fc-5f85-4844-afa1-cd8e1ce51e64 is completed.\n",
      "[2022-08-29 18:04:53,681][Taipy][INFO] job JOB_task_result_cdbf6451-c231-46e4-b211-0ba418679bd1 is completed.\n"
     ]
    },
    {
     "data": {
      "text/html": [
       "<div>\n",
       "<style scoped>\n",
       "    .dataframe tbody tr th:only-of-type {\n",
       "        vertical-align: middle;\n",
       "    }\n",
       "\n",
       "    .dataframe tbody tr th {\n",
       "        vertical-align: top;\n",
       "    }\n",
       "\n",
       "    .dataframe thead th {\n",
       "        text-align: right;\n",
       "    }\n",
       "</style>\n",
       "<table border=\"1\" class=\"dataframe\">\n",
       "  <thead>\n",
       "    <tr style=\"text-align: right;\">\n",
       "      <th></th>\n",
       "      <th>Country/Region</th>\n",
       "      <th>Date</th>\n",
       "      <th>Latitude</th>\n",
       "      <th>Longitude</th>\n",
       "      <th>Confirmed</th>\n",
       "      <th>Recovered</th>\n",
       "      <th>Deaths</th>\n",
       "      <th>Predictions</th>\n",
       "    </tr>\n",
       "  </thead>\n",
       "  <tbody>\n",
       "    <tr>\n",
       "      <th>0</th>\n",
       "      <td>US</td>\n",
       "      <td>2020-01-22</td>\n",
       "      <td>47.140037</td>\n",
       "      <td>-120.791360</td>\n",
       "      <td>1.0</td>\n",
       "      <td>0.0</td>\n",
       "      <td>0.0</td>\n",
       "      <td>NaN</td>\n",
       "    </tr>\n",
       "    <tr>\n",
       "      <th>1</th>\n",
       "      <td>US</td>\n",
       "      <td>2020-01-23</td>\n",
       "      <td>47.140037</td>\n",
       "      <td>-120.791360</td>\n",
       "      <td>1.0</td>\n",
       "      <td>0.0</td>\n",
       "      <td>0.0</td>\n",
       "      <td>NaN</td>\n",
       "    </tr>\n",
       "    <tr>\n",
       "      <th>2</th>\n",
       "      <td>US</td>\n",
       "      <td>2020-01-24</td>\n",
       "      <td>85.345498</td>\n",
       "      <td>-210.450080</td>\n",
       "      <td>2.0</td>\n",
       "      <td>0.0</td>\n",
       "      <td>0.0</td>\n",
       "      <td>NaN</td>\n",
       "    </tr>\n",
       "    <tr>\n",
       "      <th>3</th>\n",
       "      <td>US</td>\n",
       "      <td>2020-01-25</td>\n",
       "      <td>87.000686</td>\n",
       "      <td>-209.922210</td>\n",
       "      <td>2.0</td>\n",
       "      <td>0.0</td>\n",
       "      <td>0.0</td>\n",
       "      <td>NaN</td>\n",
       "    </tr>\n",
       "    <tr>\n",
       "      <th>4</th>\n",
       "      <td>US</td>\n",
       "      <td>2020-01-26</td>\n",
       "      <td>158.375485</td>\n",
       "      <td>-442.264230</td>\n",
       "      <td>5.0</td>\n",
       "      <td>0.0</td>\n",
       "      <td>0.0</td>\n",
       "      <td>NaN</td>\n",
       "    </tr>\n",
       "    <tr>\n",
       "      <th>...</th>\n",
       "      <td>...</td>\n",
       "      <td>...</td>\n",
       "      <td>...</td>\n",
       "      <td>...</td>\n",
       "      <td>...</td>\n",
       "      <td>...</td>\n",
       "      <td>...</td>\n",
       "      <td>...</td>\n",
       "    </tr>\n",
       "    <tr>\n",
       "      <th>340</th>\n",
       "      <td>US</td>\n",
       "      <td>2020-12-27</td>\n",
       "      <td>124119.377356</td>\n",
       "      <td>-298994.802493</td>\n",
       "      <td>19222064.0</td>\n",
       "      <td>0.0</td>\n",
       "      <td>334533.0</td>\n",
       "      <td>281684.136115</td>\n",
       "    </tr>\n",
       "    <tr>\n",
       "      <th>341</th>\n",
       "      <td>US</td>\n",
       "      <td>2020-12-28</td>\n",
       "      <td>124119.377356</td>\n",
       "      <td>-298994.802493</td>\n",
       "      <td>19396237.0</td>\n",
       "      <td>0.0</td>\n",
       "      <td>336438.0</td>\n",
       "      <td>282520.640662</td>\n",
       "    </tr>\n",
       "    <tr>\n",
       "      <th>342</th>\n",
       "      <td>US</td>\n",
       "      <td>2020-12-29</td>\n",
       "      <td>124119.377356</td>\n",
       "      <td>-298994.802493</td>\n",
       "      <td>19595117.0</td>\n",
       "      <td>0.0</td>\n",
       "      <td>340061.0</td>\n",
       "      <td>283357.145209</td>\n",
       "    </tr>\n",
       "    <tr>\n",
       "      <th>343</th>\n",
       "      <td>US</td>\n",
       "      <td>2020-12-30</td>\n",
       "      <td>124119.377356</td>\n",
       "      <td>-298994.802493</td>\n",
       "      <td>19827133.0</td>\n",
       "      <td>0.0</td>\n",
       "      <td>343783.0</td>\n",
       "      <td>284193.649757</td>\n",
       "    </tr>\n",
       "    <tr>\n",
       "      <th>344</th>\n",
       "      <td>US</td>\n",
       "      <td>2020-12-31</td>\n",
       "      <td>124119.377356</td>\n",
       "      <td>-298994.802493</td>\n",
       "      <td>20061049.0</td>\n",
       "      <td>0.0</td>\n",
       "      <td>347170.0</td>\n",
       "      <td>285030.154306</td>\n",
       "    </tr>\n",
       "  </tbody>\n",
       "</table>\n",
       "<p>345 rows × 8 columns</p>\n",
       "</div>"
      ],
      "text/plain": [
       "    Country/Region        Date       Latitude      Longitude   Confirmed  \\\n",
       "0               US  2020-01-22      47.140037    -120.791360         1.0   \n",
       "1               US  2020-01-23      47.140037    -120.791360         1.0   \n",
       "2               US  2020-01-24      85.345498    -210.450080         2.0   \n",
       "3               US  2020-01-25      87.000686    -209.922210         2.0   \n",
       "4               US  2020-01-26     158.375485    -442.264230         5.0   \n",
       "..             ...         ...            ...            ...         ...   \n",
       "340             US  2020-12-27  124119.377356 -298994.802493  19222064.0   \n",
       "341             US  2020-12-28  124119.377356 -298994.802493  19396237.0   \n",
       "342             US  2020-12-29  124119.377356 -298994.802493  19595117.0   \n",
       "343             US  2020-12-30  124119.377356 -298994.802493  19827133.0   \n",
       "344             US  2020-12-31  124119.377356 -298994.802493  20061049.0   \n",
       "\n",
       "     Recovered    Deaths    Predictions  \n",
       "0          0.0       0.0            NaN  \n",
       "1          0.0       0.0            NaN  \n",
       "2          0.0       0.0            NaN  \n",
       "3          0.0       0.0            NaN  \n",
       "4          0.0       0.0            NaN  \n",
       "..         ...       ...            ...  \n",
       "340        0.0  334533.0  281684.136115  \n",
       "341        0.0  336438.0  282520.640662  \n",
       "342        0.0  340061.0  283357.145209  \n",
       "343        0.0  343783.0  284193.649757  \n",
       "344        0.0  347170.0  285030.154306  \n",
       "\n",
       "[345 rows x 8 columns]"
      ]
     },
     "execution_count": 52,
     "metadata": {},
     "output_type": "execute_result"
    }
   ],
   "source": [
    "scenario.country.write('US')\n",
    "tp.submit(scenario)\n",
    "scenario.result.read()"
   ]
  },
  {
   "cell_type": "markdown",
   "id": "9d9d2c81",
   "metadata": {
    "id": "9d9d2c81"
   },
   "source": [
    "## Simple framework"
   ]
  },
  {
   "cell_type": "code",
   "execution_count": 53,
   "id": "4892eb7d",
   "metadata": {
    "id": "4892eb7d"
   },
   "outputs": [
    {
     "name": "stderr",
     "output_type": "stream",
     "text": [
      "C:\\Users\\jacta\\anaconda3\\lib\\site-packages\\taipy\\core\\data\\csv.py:145: DtypeWarning: Columns (0,1) have mixed types. Specify dtype option on import or set low_memory=False.\n",
      "  return pd.read_csv(self._path)\n"
     ]
    },
    {
     "name": "stdout",
     "output_type": "stream",
     "text": [
      "[2022-08-29 18:04:55,132][Taipy][INFO] job JOB_task_preprocess_data_da57847c-8ddf-4377-a02a-abfdcd9b08c7 is completed.\n",
      "[2022-08-29 18:04:55,260][Taipy][INFO] job JOB_task_make_train_test_data_476a7862-d95c-4c0c-b202-b3621fb04331 is completed.\n",
      "Performing stepwise search to minimize aic\n",
      " ARIMA(1,1,1)(0,0,0)[0] intercept   : AIC=2994.124, Time=0.11 sec\n",
      " ARIMA(0,1,0)(0,0,0)[0] intercept   : AIC=3349.636, Time=0.01 sec\n",
      " ARIMA(1,1,0)(0,0,0)[0] intercept   : AIC=3045.305, Time=0.03 sec\n",
      " ARIMA(0,1,1)(0,0,0)[0] intercept   : AIC=3200.566, Time=0.06 sec\n",
      " ARIMA(0,1,0)(0,0,0)[0]             : AIC=3402.421, Time=0.01 sec\n",
      " ARIMA(2,1,1)(0,0,0)[0] intercept   : AIC=2996.090, Time=0.19 sec\n",
      " ARIMA(1,1,2)(0,0,0)[0] intercept   : AIC=2996.081, Time=0.15 sec\n",
      " ARIMA(0,1,2)(0,0,0)[0] intercept   : AIC=3162.541, Time=0.11 sec\n",
      " ARIMA(2,1,0)(0,0,0)[0] intercept   : AIC=3014.299, Time=0.03 sec\n",
      " ARIMA(2,1,2)(0,0,0)[0] intercept   : AIC=2996.306, Time=0.16 sec\n",
      " ARIMA(1,1,1)(0,0,0)[0]             : AIC=2992.816, Time=0.05 sec\n",
      " ARIMA(0,1,1)(0,0,0)[0]             : AIC=3237.322, Time=0.03 sec\n",
      " ARIMA(1,1,0)(0,0,0)[0]             : AIC=3047.241, Time=0.02 sec\n",
      " ARIMA(2,1,1)(0,0,0)[0]             : AIC=2994.775, Time=0.11 sec\n",
      " ARIMA(1,1,2)(0,0,0)[0]             : AIC=2994.765, Time=0.07 sec\n",
      " ARIMA(0,1,2)(0,0,0)[0]             : AIC=3191.574, Time=0.07 sec\n",
      " ARIMA(2,1,0)(0,0,0)[0]             : AIC=3014.129, Time=0.02 sec\n",
      " ARIMA(2,1,2)(0,0,0)[0]             : AIC=2994.978, Time=0.08 sec\n",
      "\n",
      "Best model:  ARIMA(1,1,1)(0,0,0)[0]          \n",
      "Total fit time: 1.318 seconds\n",
      "[2022-08-29 18:04:56,742][Taipy][INFO] job JOB_task_train_d05b9dec-0c62-42de-85a4-b8b63380ff83 is completed.\n",
      "[2022-08-29 18:04:56,863][Taipy][INFO] job JOB_task_forecast_eed23570-d171-413c-ac73-0924d1bcfd57 is completed.\n",
      "[2022-08-29 18:04:56,958][Taipy][INFO] job JOB_task_result_ec746b9b-b67f-47f5-a92a-91e90cf34109 is completed.\n"
     ]
    }
   ],
   "source": [
    "scenario = tp.create_scenario(scenario_cfg, name='Second Scenario')\n",
    "tp.submit(scenario)"
   ]
  },
  {
   "cell_type": "code",
   "execution_count": 54,
   "id": "a9248942",
   "metadata": {
    "id": "a9248942"
   },
   "outputs": [
    {
     "data": {
      "text/plain": [
       "[ARIMA(order=(1, 1, 0), scoring_args={}, suppress_warnings=True),\n",
       " ARIMA(order=(1, 1, 1), scoring_args={}, suppress_warnings=True,\n",
       "       with_intercept=False)]"
      ]
     },
     "execution_count": 54,
     "metadata": {},
     "output_type": "execute_result"
    }
   ],
   "source": [
    "[s.model.read() for s in tp.get_scenarios()]"
   ]
  },
  {
   "cell_type": "markdown",
   "id": "73fd648f",
   "metadata": {
    "id": "73fd648f"
   },
   "source": [
    "## Create a Gui for the backend\n",
    "_scenario_selector_ lets you choose a scenario and display its results."
   ]
  },
  {
   "cell_type": "code",
   "execution_count": 55,
   "id": "760f1a04",
   "metadata": {
    "id": "760f1a04",
    "outputId": "447fe599-faf2-47d9-d3f8-2f3e2297642a"
   },
   "outputs": [
    {
     "name": "stdout",
     "output_type": "stream",
     "text": [
      "[('SCENARIO_scenario_5b40be93-759c-4705-a1da-9db0962630d2', 'First Scenario'), ('SCENARIO_scenario_c76146a7-0f6e-4181-ab64-d3520565cf18', 'Second Scenario')] \n",
      " SCENARIO_scenario_c76146a7-0f6e-4181-ab64-d3520565cf18\n"
     ]
    }
   ],
   "source": [
    "scenario_selector = [(s.id, s.name) for s in tp.get_scenarios()]\n",
    "selected_scenario = scenario.id\n",
    "print(scenario_selector,'\\n', selected_scenario)"
   ]
  },
  {
   "cell_type": "code",
   "execution_count": 56,
   "id": "b590bdcc",
   "metadata": {
    "id": "b590bdcc",
    "outputId": "5747bb81-4c48-45ad-8457-f36fa783cff5"
   },
   "outputs": [
    {
     "data": {
      "text/html": [
       "<div>\n",
       "<style scoped>\n",
       "    .dataframe tbody tr th:only-of-type {\n",
       "        vertical-align: middle;\n",
       "    }\n",
       "\n",
       "    .dataframe tbody tr th {\n",
       "        vertical-align: top;\n",
       "    }\n",
       "\n",
       "    .dataframe thead th {\n",
       "        text-align: right;\n",
       "    }\n",
       "</style>\n",
       "<table border=\"1\" class=\"dataframe\">\n",
       "  <thead>\n",
       "    <tr style=\"text-align: right;\">\n",
       "      <th></th>\n",
       "      <th>Country/Region</th>\n",
       "      <th>Date</th>\n",
       "      <th>Latitude</th>\n",
       "      <th>Longitude</th>\n",
       "      <th>Confirmed</th>\n",
       "      <th>Recovered</th>\n",
       "      <th>Deaths</th>\n",
       "      <th>Predictions</th>\n",
       "    </tr>\n",
       "  </thead>\n",
       "  <tbody>\n",
       "    <tr>\n",
       "      <th>0</th>\n",
       "      <td>France</td>\n",
       "      <td>2020-01-24</td>\n",
       "      <td>14.641500</td>\n",
       "      <td>-56.315900</td>\n",
       "      <td>2.0</td>\n",
       "      <td>0.0</td>\n",
       "      <td>0.0</td>\n",
       "      <td>NaN</td>\n",
       "    </tr>\n",
       "    <tr>\n",
       "      <th>1</th>\n",
       "      <td>France</td>\n",
       "      <td>2020-01-25</td>\n",
       "      <td>14.641500</td>\n",
       "      <td>-56.315900</td>\n",
       "      <td>3.0</td>\n",
       "      <td>0.0</td>\n",
       "      <td>0.0</td>\n",
       "      <td>NaN</td>\n",
       "    </tr>\n",
       "    <tr>\n",
       "      <th>2</th>\n",
       "      <td>France</td>\n",
       "      <td>2020-01-26</td>\n",
       "      <td>14.641500</td>\n",
       "      <td>-56.315900</td>\n",
       "      <td>3.0</td>\n",
       "      <td>0.0</td>\n",
       "      <td>0.0</td>\n",
       "      <td>NaN</td>\n",
       "    </tr>\n",
       "    <tr>\n",
       "      <th>3</th>\n",
       "      <td>France</td>\n",
       "      <td>2020-01-27</td>\n",
       "      <td>14.641500</td>\n",
       "      <td>-56.315900</td>\n",
       "      <td>3.0</td>\n",
       "      <td>0.0</td>\n",
       "      <td>0.0</td>\n",
       "      <td>NaN</td>\n",
       "    </tr>\n",
       "    <tr>\n",
       "      <th>4</th>\n",
       "      <td>France</td>\n",
       "      <td>2020-01-28</td>\n",
       "      <td>14.641500</td>\n",
       "      <td>-56.315900</td>\n",
       "      <td>4.0</td>\n",
       "      <td>0.0</td>\n",
       "      <td>0.0</td>\n",
       "      <td>NaN</td>\n",
       "    </tr>\n",
       "    <tr>\n",
       "      <th>...</th>\n",
       "      <td>...</td>\n",
       "      <td>...</td>\n",
       "      <td>...</td>\n",
       "      <td>...</td>\n",
       "      <td>...</td>\n",
       "      <td>...</td>\n",
       "      <td>...</td>\n",
       "      <td>...</td>\n",
       "    </tr>\n",
       "    <tr>\n",
       "      <th>338</th>\n",
       "      <td>France</td>\n",
       "      <td>2020-12-27</td>\n",
       "      <td>91.463495</td>\n",
       "      <td>-238.646914</td>\n",
       "      <td>2616510.0</td>\n",
       "      <td>195861.0</td>\n",
       "      <td>62867.0</td>\n",
       "      <td>32931.922617</td>\n",
       "    </tr>\n",
       "    <tr>\n",
       "      <th>339</th>\n",
       "      <td>France</td>\n",
       "      <td>2020-12-28</td>\n",
       "      <td>91.463495</td>\n",
       "      <td>-238.646914</td>\n",
       "      <td>2619616.0</td>\n",
       "      <td>196642.0</td>\n",
       "      <td>63235.0</td>\n",
       "      <td>32936.896572</td>\n",
       "    </tr>\n",
       "    <tr>\n",
       "      <th>340</th>\n",
       "      <td>France</td>\n",
       "      <td>2020-12-29</td>\n",
       "      <td>91.463495</td>\n",
       "      <td>-238.646914</td>\n",
       "      <td>2631110.0</td>\n",
       "      <td>197726.0</td>\n",
       "      <td>64204.0</td>\n",
       "      <td>32941.767204</td>\n",
       "    </tr>\n",
       "    <tr>\n",
       "      <th>341</th>\n",
       "      <td>France</td>\n",
       "      <td>2020-12-30</td>\n",
       "      <td>91.463495</td>\n",
       "      <td>-238.646914</td>\n",
       "      <td>2657624.0</td>\n",
       "      <td>198966.0</td>\n",
       "      <td>64508.0</td>\n",
       "      <td>32946.536660</td>\n",
       "    </tr>\n",
       "    <tr>\n",
       "      <th>342</th>\n",
       "      <td>France</td>\n",
       "      <td>2020-12-31</td>\n",
       "      <td>91.463495</td>\n",
       "      <td>-238.646914</td>\n",
       "      <td>2677666.0</td>\n",
       "      <td>200142.0</td>\n",
       "      <td>64759.0</td>\n",
       "      <td>32951.207042</td>\n",
       "    </tr>\n",
       "  </tbody>\n",
       "</table>\n",
       "<p>343 rows × 8 columns</p>\n",
       "</div>"
      ],
      "text/plain": [
       "    Country/Region        Date   Latitude   Longitude  Confirmed  Recovered  \\\n",
       "0           France  2020-01-24  14.641500  -56.315900        2.0        0.0   \n",
       "1           France  2020-01-25  14.641500  -56.315900        3.0        0.0   \n",
       "2           France  2020-01-26  14.641500  -56.315900        3.0        0.0   \n",
       "3           France  2020-01-27  14.641500  -56.315900        3.0        0.0   \n",
       "4           France  2020-01-28  14.641500  -56.315900        4.0        0.0   \n",
       "..             ...         ...        ...         ...        ...        ...   \n",
       "338         France  2020-12-27  91.463495 -238.646914  2616510.0   195861.0   \n",
       "339         France  2020-12-28  91.463495 -238.646914  2619616.0   196642.0   \n",
       "340         France  2020-12-29  91.463495 -238.646914  2631110.0   197726.0   \n",
       "341         France  2020-12-30  91.463495 -238.646914  2657624.0   198966.0   \n",
       "342         France  2020-12-31  91.463495 -238.646914  2677666.0   200142.0   \n",
       "\n",
       "      Deaths   Predictions  \n",
       "0        0.0           NaN  \n",
       "1        0.0           NaN  \n",
       "2        0.0           NaN  \n",
       "3        0.0           NaN  \n",
       "4        0.0           NaN  \n",
       "..       ...           ...  \n",
       "338  62867.0  32931.922617  \n",
       "339  63235.0  32936.896572  \n",
       "340  64204.0  32941.767204  \n",
       "341  64508.0  32946.536660  \n",
       "342  64759.0  32951.207042  \n",
       "\n",
       "[343 rows x 8 columns]"
      ]
     },
     "execution_count": 56,
     "metadata": {},
     "output_type": "execute_result"
    }
   ],
   "source": [
    "result = scenario.result.read()\n",
    "result"
   ]
  },
  {
   "cell_type": "markdown",
   "id": "53c5cbc8",
   "metadata": {
    "id": "53c5cbc8"
   },
   "source": [
    "**Tips** : the _value_by_id_ property if set to True for a selected will make _selected_scenario_ directly refer to the first element of the tupple (here the id)"
   ]
  },
  {
   "cell_type": "markdown",
   "id": "4d705028",
   "metadata": {
    "id": "4d705028"
   },
   "source": [
    "![](img/predictions.png)"
   ]
  },
  {
   "cell_type": "code",
   "execution_count": 57,
   "id": "ff76ef5f",
   "metadata": {
    "id": "ff76ef5f"
   },
   "outputs": [],
   "source": [
    "prediction_md = \"\"\"\n",
    "<|layout|columns=1 5 1 3|\n",
    "<|{scenario_name}|input|label=Name|>\n",
    "\n",
    "<br/>\n",
    "<|Create|button|on_action=create_new_scenario|>\n",
    "\n",
    "<|{selected_country}|selector|lov={selector_country}|dropdown|on_change=on_change_country|label=Country|>\n",
    "\n",
    "<br/>\n",
    "<|Submit|button|on_action=submit_scenario|>\n",
    "\n",
    "<|{selected_scenario}|selector|lov={scenario_selector}|on_change=actualize_graph|dropdown|value_by_id|label=Scenario|>\n",
    "|>\n",
    "\n",
    "<|{result}|chart|x=Date|y[1]=Deaths|type[1]=bar|y[2]=Predictions|>\n",
    "\"\"\""
   ]
  },
  {
   "cell_type": "code",
   "execution_count": 58,
   "id": "de9e35b6",
   "metadata": {
    "id": "de9e35b6"
   },
   "outputs": [],
   "source": [
    "def create_new_scenario(state):\n",
    "    scenario = tp.create_scenario(scenario_cfg, name=state.scenario_name)\n",
    "    state.scenario_selector += [(scenario.id, scenario.name)]"
   ]
  },
  {
   "cell_type": "code",
   "execution_count": 59,
   "id": "ef2d2fff",
   "metadata": {
    "id": "ef2d2fff"
   },
   "outputs": [],
   "source": [
    "def actualize_graph(state):\n",
    "    # 1) update the result dataframe\n",
    "    # 2) change selected_country with the predicted country of the scenario\n",
    "    scenario = tp.get(state.selected_scenario)\n",
    "    state.result = scenario.result.read()\n",
    "    state.selected_country = scenario.country.read()"
   ]
  },
  {
   "cell_type": "code",
   "execution_count": 60,
   "id": "41f73a34",
   "metadata": {
    "id": "41f73a34"
   },
   "outputs": [],
   "source": [
    "def submit_scenario(state):\n",
    "    # 1) get the selected scenario\n",
    "    # 2) write in country Data Node, the selected country\n",
    "    # 3) submit the scenario\n",
    "    # 4) actualize le graph avec actualize_graph\n",
    "    scenario = tp.get(state.selected_scenario)\n",
    "    scenario.country.write(state.selected_country)\n",
    "    tp.submit(scenario)\n",
    "    actualize_graph(state)"
   ]
  },
  {
   "cell_type": "code",
   "execution_count": 61,
   "id": "b9d18b7f",
   "metadata": {
    "id": "b9d18b7f",
    "outputId": "f0b7e1d3-3a44-4f8d-fccf-95065ae86ea1"
   },
   "outputs": [
    {
     "name": "stdout",
     "output_type": "stream",
     "text": [
      "Gui server has been stopped\n",
      " * Server starting on http://127.0.0.1:8000\n",
      " * Serving Flask app 'Taipy' (lazy loading)\n",
      " * Environment: production\n",
      "\u001b[31m   WARNING: This is a development server. Do not use it in a production deployment.\u001b[0m\n",
      "\u001b[2m   Use a production WSGI server instead.\u001b[0m\n",
      " * Debug mode: off\n"
     ]
    }
   ],
   "source": [
    "gui.stop()\n",
    "page.set_content(prediction_md)\n",
    "gui.run()"
   ]
  },
  {
   "cell_type": "markdown",
   "id": "40a63136",
   "metadata": {
    "id": "40a63136"
   },
   "source": [
    "# Multi-pages and Taipy Rest"
   ]
  },
  {
   "cell_type": "markdown",
   "id": "9b4d3ab8",
   "metadata": {
    "id": "9b4d3ab8"
   },
   "source": [
    "To create a multi-pages app, we only need a dictionary with names as the keys and the Markdowns as the values.\n",
    "\n",
    "The _navbar_ control (<|navbar|>) has a default behaviour. It redirects to the different pages of the app automatically. Other solutions exists."
   ]
  },
  {
   "cell_type": "markdown",
   "id": "77019d17",
   "metadata": {
    "id": "77019d17"
   },
   "source": [
    "![](img/multi_pages.png)"
   ]
  },
  {
   "cell_type": "code",
   "execution_count": 62,
   "id": "b0db7725",
   "metadata": {
    "id": "b0db7725",
    "outputId": "26b9efff-d31d-429a-ca16-a7f07e704605"
   },
   "outputs": [
    {
     "name": "stdout",
     "output_type": "stream",
     "text": [
      " * Server starting on http://127.0.0.1:5006\n",
      " * Serving Flask app 'taipy.rest.app' (lazy loading)\n",
      " * Environment: None\n",
      " * Debug mode: off\n",
      "Chosen country:  Mexico\n",
      "Chosen country:  China\n"
     ]
    },
    {
     "name": "stderr",
     "output_type": "stream",
     "text": [
      "C:\\Users\\jacta\\anaconda3\\lib\\site-packages\\taipy\\core\\data\\csv.py:145: DtypeWarning: Columns (0,1) have mixed types. Specify dtype option on import or set low_memory=False.\n",
      "  return pd.read_csv(self._path)\n"
     ]
    },
    {
     "name": "stdout",
     "output_type": "stream",
     "text": [
      "[2022-08-29 18:05:51,775][Taipy][INFO] job JOB_task_preprocess_data_8c501c82-5289-4146-8658-213234aa12cb is completed.\n",
      "[2022-08-29 18:05:51,911][Taipy][INFO] job JOB_task_make_train_test_data_237c9f10-1443-4d21-8150-8ce6aa607212 is completed.\n",
      "Performing stepwise search to minimize aic\n",
      " ARIMA(1,1,1)(0,0,0)[0] intercept   : AIC=2847.403, Time=0.14 sec\n",
      " ARIMA(0,1,0)(0,0,0)[0] intercept   : AIC=2852.683, Time=0.01 sec\n",
      " ARIMA(1,1,0)(0,0,0)[0] intercept   : AIC=2853.352, Time=0.01 sec\n",
      " ARIMA(0,1,1)(0,0,0)[0] intercept   : AIC=2853.560, Time=0.06 sec\n",
      " ARIMA(0,1,0)(0,0,0)[0]             : AIC=2862.023, Time=0.01 sec\n",
      " ARIMA(2,1,1)(0,0,0)[0] intercept   : AIC=2849.161, Time=0.22 sec\n",
      " ARIMA(1,1,2)(0,0,0)[0] intercept   : AIC=2849.159, Time=0.21 sec\n",
      " ARIMA(0,1,2)(0,0,0)[0] intercept   : AIC=2853.768, Time=0.11 sec\n",
      " ARIMA(2,1,0)(0,0,0)[0] intercept   : AIC=2853.148, Time=0.05 sec\n",
      " ARIMA(2,1,2)(0,0,0)[0] intercept   : AIC=inf, Time=0.22 sec\n",
      " ARIMA(1,1,1)(0,0,0)[0]             : AIC=2847.356, Time=0.05 sec\n",
      " ARIMA(0,1,1)(0,0,0)[0]             : AIC=2861.383, Time=0.02 sec\n",
      " ARIMA(1,1,0)(0,0,0)[0]             : AIC=2860.717, Time=0.01 sec\n",
      " ARIMA(2,1,1)(0,0,0)[0]             : AIC=2849.203, Time=0.07 sec\n",
      " ARIMA(1,1,2)(0,0,0)[0]             : AIC=2849.204, Time=0.08 sec\n",
      " ARIMA(0,1,2)(0,0,0)[0]             : AIC=2860.243, Time=0.04 sec\n",
      " ARIMA(2,1,0)(0,0,0)[0]             : AIC=2858.621, Time=0.01 sec\n",
      " ARIMA(2,1,2)(0,0,0)[0]             : AIC=2851.190, Time=0.13 sec\n",
      "\n",
      "Best model:  ARIMA(1,1,1)(0,0,0)[0]          \n",
      "Total fit time: 1.477 seconds\n",
      "[2022-08-29 18:05:53,568][Taipy][INFO] job JOB_task_train_5b89106d-1c6f-4dd7-895f-7855f02d9431 is completed.\n",
      "[2022-08-29 18:05:53,691][Taipy][INFO] job JOB_task_forecast_25c5df65-d67d-4c6e-8b6e-1570a48b8fe1 is completed.\n",
      "[2022-08-29 18:05:53,794][Taipy][INFO] job JOB_task_result_835d9f93-ba3a-4c97-aa01-b018c2343e6c is completed.\n"
     ]
    }
   ],
   "source": [
    "navbar_md = \"<center>\\n<|navbar|>\\n</center>\"\n",
    "\n",
    "pages = {\n",
    "    \"Map\":navbar_md+map_md,\n",
    "    \"Country\":navbar_md+final_country_md,\n",
    "    \"Predictions\":navbar_md+prediction_md\n",
    "}\n",
    "\n",
    "rest = tp.Rest()\n",
    "\n",
    "gui_multi_pages = Gui(pages=pages)\n",
    "tp.run(gui_multi_pages, rest, dark_mode=False, port=5006)"
   ]
  }
 ],
 "metadata": {
  "colab": {
   "collapsed_sections": [
    "b4ac0541",
    "6580b5fe",
    "f84e0a88",
    "cd4d0268",
    "f48f94cd",
    "6e528ce2",
    "6ab0529e",
    "b19ed6d7",
    "e9a53d43",
    "1908c988",
    "849d0a97",
    "73ab0ee0",
    "252820b6",
    "27dbc823",
    "986ebad5",
    "d9915978",
    "ba83beac",
    "73fd648f"
   ],
   "name": "Microsoft_workshop-solution_en.ipynb",
   "provenance": []
  },
  "kernelspec": {
   "display_name": "Python 3",
   "language": "python",
   "name": "python3"
  },
  "language_info": {
   "codemirror_mode": {
    "name": "ipython",
    "version": 3
   },
   "file_extension": ".py",
   "mimetype": "text/x-python",
   "name": "python",
   "nbconvert_exporter": "python",
   "pygments_lexer": "ipython3",
   "version": "3.8.5"
  }
 },
 "nbformat": 4,
 "nbformat_minor": 5
}
