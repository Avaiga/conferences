{
 "cells": [
  {
   "cell_type": "markdown",
   "id": "306e5793",
   "metadata": {
    "id": "306e5793"
   },
   "source": [
    "# Install Taipy\n",
    "\n",
    "To install Taipy, just `pip install` it."
   ]
  },
  {
   "cell_type": "code",
   "execution_count": 1,
   "id": "c9cd05ba",
   "metadata": {
    "id": "c9cd05ba",
    "outputId": "3b72f1f4-8d12-40dd-cbda-5c85e8b516f8"
   },
   "outputs": [
    {
     "name": "stdout",
     "output_type": "stream",
     "text": [
      "Note: you may need to restart the kernel to use updated packages.\n"
     ]
    }
   ],
   "source": [
    "%pip install taipy -q"
   ]
  },
  {
   "cell_type": "code",
   "execution_count": 2,
   "id": "c870cd8b",
   "metadata": {
    "id": "c870cd8b"
   },
   "outputs": [
    {
     "name": "stdout",
     "output_type": "stream",
     "text": [
      "Note: you may need to restart the kernel to use updated packages.\n"
     ]
    }
   ],
   "source": [
    "%pip install pmdarima -q"
   ]
  },
  {
   "cell_type": "markdown",
   "id": "c42e5ded",
   "metadata": {
    "id": "c42e5ded"
   },
   "source": [
    "# Import the packages"
   ]
  },
  {
   "cell_type": "code",
   "execution_count": 3,
   "id": "d69871ac",
   "metadata": {
    "id": "d69871ac"
   },
   "outputs": [],
   "source": [
    "from taipy.gui import Gui, Markdown, notify\n",
    "from taipy import Config, Scope\n",
    "import taipy as tp\n",
    "\n",
    "import datetime as dt\n",
    "\n",
    "from pmdarima import auto_arima\n",
    "\n",
    "from sklearn.linear_model import LinearRegression\n",
    "\n",
    "import pandas as pd\n",
    "import numpy as np\n",
    "\n",
    "from pandas.core.common import SettingWithCopyWarning\n",
    "import warnings\n",
    "\n",
    "warnings.simplefilter(action=\"ignore\", category=SettingWithCopyWarning)"
   ]
  },
  {
   "cell_type": "markdown",
   "id": "81074375",
   "metadata": {
    "id": "81074375"
   },
   "source": [
    "# Taipy Gui Basics\n",
    "## Markdown Syntax"
   ]
  },
  {
   "cell_type": "markdown",
   "id": "8ad49481",
   "metadata": {
    "id": "8ad49481"
   },
   "source": [
    "Taipy uses the Markdown syntax to display elements. `#` creates a title, `*` puts your text in italics and `**` puts it in bold."
   ]
  },
  {
   "cell_type": "markdown",
   "id": "929a56cf",
   "metadata": {
    "id": "929a56cf"
   },
   "source": [
    "![](img/gui_basic_eng.png)"
   ]
  },
  {
   "cell_type": "code",
   "execution_count": 4,
   "id": "a170a8e5",
   "metadata": {
    "id": "a170a8e5"
   },
   "outputs": [],
   "source": [
    "page_md = \"\"\"\n",
    "# Taipy\n",
    "\n",
    "Test **here** to put some *markdown*\n",
    "\n",
    "Click to access the [doc](https://docs.taipy.io/en/latest/)\n",
    "\"\"\""
   ]
  },
  {
   "cell_type": "code",
   "execution_count": 5,
   "id": "1cf6cf9d",
   "metadata": {
    "id": "1cf6cf9d",
    "outputId": "d69b4a02-2df5-4830-a043-9c2b5a423d0b"
   },
   "outputs": [
    {
     "name": "stdout",
     "output_type": "stream",
     "text": [
      " * Server starting on http://127.0.0.1:5000\n"
     ]
    }
   ],
   "source": [
    "Gui(page_md).run(dark_mode=False, run_browser=False)"
   ]
  },
  {
   "cell_type": "markdown",
   "id": "ea452214",
   "metadata": {
    "id": "ea452214"
   },
   "source": [
    "## Visual elements\n",
    "Create different visual elements. The syntax is always the same for each visual element.  `<|{value}|name_of_visual_element|property_1=value_of_property_1|...|>`\n",
    "- Create a [slider](https://docs.taipy.io/en/latest/manuals/gui/viselements/slider/) `<|{value}|slider|>`\n",
    "\n",
    "- Create a [date](https://docs.taipy.io/en/latest/manuals/gui/viselements/date/) `<|{value}|date|>`\n",
    "\n",
    "- Create a [selector](https://docs.taipy.io/en/latest/manuals/gui/viselements/selector/) `<|{value}|selector|lov={list_of_values}|>`\n"
   ]
  },
  {
   "cell_type": "markdown",
   "id": "68f228f9",
   "metadata": {
    "id": "68f228f9"
   },
   "source": [
    "![](img/control.png)"
   ]
  },
  {
   "cell_type": "code",
   "execution_count": 6,
   "id": "bc42cca4",
   "metadata": {
    "id": "bc42cca4"
   },
   "outputs": [],
   "source": [
    "slider_value = 0\n",
    "date_value = None\n",
    "selected_value = None\n",
    "selector = ['Test 1', 'Test 2', 'Test 3']\n",
    "\n",
    "control_md = \"\"\"\n",
    "## Controls\n",
    "\n",
    "<|{slider_value}|slider|> <|{slider_value}|>\n",
    "\n",
    "<|{date_value}|date|> <|{date_value}|>\n",
    "\n",
    "<|{selected_value}|selector|lov={selector}|> <|{selected_value}|>\n",
    "\"\"\""
   ]
  },
  {
   "cell_type": "code",
   "execution_count": 7,
   "id": "c5bbe9b7-bd0e-41db-9032-f8495b47a856",
   "metadata": {},
   "outputs": [
    {
     "name": "stdout",
     "output_type": "stream",
     "text": [
      "Gui server has been stopped\n",
      " * Server starting on http://127.0.0.1:5000\n"
     ]
    }
   ],
   "source": [
    "Gui(control_md).run(dark_mode=False, run_browser=False)"
   ]
  },
  {
   "cell_type": "markdown",
   "id": "b4ac0541",
   "metadata": {
    "id": "b4ac0541"
   },
   "source": [
    "## Data Viz\n",
    "\n",
    "A dataset gathering information on the number of deaths, confirmed cases and recovered for different regions is going to be used to create an interactive Dashboard."
   ]
  },
  {
   "cell_type": "code",
   "execution_count": 8,
   "id": "49bd29ff",
   "metadata": {
    "id": "49bd29ff",
    "outputId": "b0900888-a15b-4af2-a97d-f796aa28cc46"
   },
   "outputs": [
    {
     "data": {
      "text/html": [
       "<div>\n",
       "<style scoped>\n",
       "    .dataframe tbody tr th:only-of-type {\n",
       "        vertical-align: middle;\n",
       "    }\n",
       "\n",
       "    .dataframe tbody tr th {\n",
       "        vertical-align: top;\n",
       "    }\n",
       "\n",
       "    .dataframe thead th {\n",
       "        text-align: right;\n",
       "    }\n",
       "</style>\n",
       "<table border=\"1\" class=\"dataframe\">\n",
       "  <thead>\n",
       "    <tr style=\"text-align: right;\">\n",
       "      <th></th>\n",
       "      <th>Country/Region</th>\n",
       "      <th>Province/State</th>\n",
       "      <th>Latitude</th>\n",
       "      <th>Longitude</th>\n",
       "      <th>Confirmed</th>\n",
       "      <th>Recovered</th>\n",
       "      <th>Deaths</th>\n",
       "      <th>Date</th>\n",
       "    </tr>\n",
       "  </thead>\n",
       "  <tbody>\n",
       "    <tr>\n",
       "      <th>1241947</th>\n",
       "      <td>Vietnam</td>\n",
       "      <td>NaN</td>\n",
       "      <td>14.058324</td>\n",
       "      <td>108.277199</td>\n",
       "      <td>1465.0</td>\n",
       "      <td>1325.0</td>\n",
       "      <td>35.0</td>\n",
       "      <td>2020-12-31</td>\n",
       "    </tr>\n",
       "    <tr>\n",
       "      <th>1241948</th>\n",
       "      <td>West Bank and Gaza</td>\n",
       "      <td>NaN</td>\n",
       "      <td>31.952200</td>\n",
       "      <td>35.233200</td>\n",
       "      <td>138004.0</td>\n",
       "      <td>117183.0</td>\n",
       "      <td>1400.0</td>\n",
       "      <td>2020-12-31</td>\n",
       "    </tr>\n",
       "    <tr>\n",
       "      <th>1241949</th>\n",
       "      <td>Yemen</td>\n",
       "      <td>NaN</td>\n",
       "      <td>15.552727</td>\n",
       "      <td>48.516388</td>\n",
       "      <td>2099.0</td>\n",
       "      <td>1394.0</td>\n",
       "      <td>610.0</td>\n",
       "      <td>2020-12-31</td>\n",
       "    </tr>\n",
       "    <tr>\n",
       "      <th>1241950</th>\n",
       "      <td>Zambia</td>\n",
       "      <td>NaN</td>\n",
       "      <td>-13.133897</td>\n",
       "      <td>27.849332</td>\n",
       "      <td>20725.0</td>\n",
       "      <td>18660.0</td>\n",
       "      <td>388.0</td>\n",
       "      <td>2020-12-31</td>\n",
       "    </tr>\n",
       "    <tr>\n",
       "      <th>1241951</th>\n",
       "      <td>Zimbabwe</td>\n",
       "      <td>NaN</td>\n",
       "      <td>-19.015438</td>\n",
       "      <td>29.154857</td>\n",
       "      <td>13867.0</td>\n",
       "      <td>11250.0</td>\n",
       "      <td>363.0</td>\n",
       "      <td>2020-12-31</td>\n",
       "    </tr>\n",
       "  </tbody>\n",
       "</table>\n",
       "</div>"
      ],
      "text/plain": [
       "             Country/Region Province/State   Latitude   Longitude  Confirmed  \\\n",
       "1241947             Vietnam            NaN  14.058324  108.277199     1465.0   \n",
       "1241948  West Bank and Gaza            NaN  31.952200   35.233200   138004.0   \n",
       "1241949               Yemen            NaN  15.552727   48.516388     2099.0   \n",
       "1241950              Zambia            NaN -13.133897   27.849332    20725.0   \n",
       "1241951            Zimbabwe            NaN -19.015438   29.154857    13867.0   \n",
       "\n",
       "         Recovered  Deaths        Date  \n",
       "1241947     1325.0    35.0  2020-12-31  \n",
       "1241948   117183.0  1400.0  2020-12-31  \n",
       "1241949     1394.0   610.0  2020-12-31  \n",
       "1241950    18660.0   388.0  2020-12-31  \n",
       "1241951    11250.0   363.0  2020-12-31  "
      ]
     },
     "execution_count": 8,
     "metadata": {},
     "output_type": "execute_result"
    }
   ],
   "source": [
    "path_to_data = \"data/covid-19-all.csv\"\n",
    "data = pd.read_csv(path_to_data, low_memory=False)\n",
    "data[-5:]"
   ]
  },
  {
   "cell_type": "code",
   "execution_count": 9,
   "id": "18b5bb55",
   "metadata": {
    "id": "18b5bb55"
   },
   "outputs": [],
   "source": [
    "def initialize_case_evolution(data, selected_country='India') -> pd.DataFrame:\n",
    "    # Aggregation of the dataframe per Country/Region\n",
    "    country_date_df = data.groupby([\"Country/Region\",'Date']).sum().reset_index()\n",
    "    \n",
    "    # a country is selected, here India by default\n",
    "    country_date_df = country_date_df.loc[country_date_df['Country/Region']==selected_country]\n",
    "    return country_date_df"
   ]
  },
  {
   "cell_type": "code",
   "execution_count": 10,
   "id": "f5ae821c",
   "metadata": {
    "id": "f5ae821c",
    "outputId": "0ca17075-c088-437a-b6e3-48a798a0bdde"
   },
   "outputs": [
    {
     "data": {
      "text/html": [
       "<div>\n",
       "<style scoped>\n",
       "    .dataframe tbody tr th:only-of-type {\n",
       "        vertical-align: middle;\n",
       "    }\n",
       "\n",
       "    .dataframe tbody tr th {\n",
       "        vertical-align: top;\n",
       "    }\n",
       "\n",
       "    .dataframe thead th {\n",
       "        text-align: right;\n",
       "    }\n",
       "</style>\n",
       "<table border=\"1\" class=\"dataframe\">\n",
       "  <thead>\n",
       "    <tr style=\"text-align: right;\">\n",
       "      <th></th>\n",
       "      <th>Country/Region</th>\n",
       "      <th>Date</th>\n",
       "      <th>Latitude</th>\n",
       "      <th>Longitude</th>\n",
       "      <th>Confirmed</th>\n",
       "      <th>Recovered</th>\n",
       "      <th>Deaths</th>\n",
       "    </tr>\n",
       "  </thead>\n",
       "  <tbody>\n",
       "    <tr>\n",
       "      <th>23021</th>\n",
       "      <td>India</td>\n",
       "      <td>2020-01-30</td>\n",
       "      <td>23.746783</td>\n",
       "      <td>78.96288</td>\n",
       "      <td>1.0</td>\n",
       "      <td>0.0</td>\n",
       "      <td>0.0</td>\n",
       "    </tr>\n",
       "    <tr>\n",
       "      <th>23022</th>\n",
       "      <td>India</td>\n",
       "      <td>2020-01-31</td>\n",
       "      <td>23.746783</td>\n",
       "      <td>78.96288</td>\n",
       "      <td>1.0</td>\n",
       "      <td>0.0</td>\n",
       "      <td>0.0</td>\n",
       "    </tr>\n",
       "    <tr>\n",
       "      <th>23023</th>\n",
       "      <td>India</td>\n",
       "      <td>2020-02-01</td>\n",
       "      <td>23.746783</td>\n",
       "      <td>78.96288</td>\n",
       "      <td>1.0</td>\n",
       "      <td>0.0</td>\n",
       "      <td>0.0</td>\n",
       "    </tr>\n",
       "    <tr>\n",
       "      <th>23024</th>\n",
       "      <td>India</td>\n",
       "      <td>2020-02-02</td>\n",
       "      <td>23.746783</td>\n",
       "      <td>78.96288</td>\n",
       "      <td>2.0</td>\n",
       "      <td>0.0</td>\n",
       "      <td>0.0</td>\n",
       "    </tr>\n",
       "    <tr>\n",
       "      <th>23025</th>\n",
       "      <td>India</td>\n",
       "      <td>2020-02-03</td>\n",
       "      <td>23.746783</td>\n",
       "      <td>78.96288</td>\n",
       "      <td>3.0</td>\n",
       "      <td>0.0</td>\n",
       "      <td>0.0</td>\n",
       "    </tr>\n",
       "  </tbody>\n",
       "</table>\n",
       "</div>"
      ],
      "text/plain": [
       "      Country/Region        Date   Latitude  Longitude  Confirmed  Recovered  \\\n",
       "23021          India  2020-01-30  23.746783   78.96288        1.0        0.0   \n",
       "23022          India  2020-01-31  23.746783   78.96288        1.0        0.0   \n",
       "23023          India  2020-02-01  23.746783   78.96288        1.0        0.0   \n",
       "23024          India  2020-02-02  23.746783   78.96288        2.0        0.0   \n",
       "23025          India  2020-02-03  23.746783   78.96288        3.0        0.0   \n",
       "\n",
       "       Deaths  \n",
       "23021     0.0  \n",
       "23022     0.0  \n",
       "23023     0.0  \n",
       "23024     0.0  \n",
       "23025     0.0  "
      ]
     },
     "execution_count": 10,
     "metadata": {},
     "output_type": "execute_result"
    }
   ],
   "source": [
    "country_date_df = initialize_case_evolution(data)\n",
    "country_date_df.head()"
   ]
  },
  {
   "cell_type": "markdown",
   "id": "d1fd9854",
   "metadata": {
    "id": "d1fd9854"
   },
   "source": [
    "Create a [chart](https://docs.taipy.io/en/latest/manuals/gui/viselements/chart/) showing the evolution of Deaths in France (_Deaths_ for _y_ and _Date_ for _x_). The visual element (chart) has the same syntax as the other ones with specific properties (_x_, _y_, _type_ for example). Here are some [examples of charts](https://docs.taipy.io/en/release-1.1/manuals/gui/viselements/charts/bar/). The _x_ and _y_ porperties only needs the name of the dataframe columns to display."
   ]
  },
  {
   "cell_type": "markdown",
   "id": "bebeb0eb",
   "metadata": {
    "id": "bebeb0eb"
   },
   "source": [
    "![](img/simple_graph.png)"
   ]
  },
  {
   "cell_type": "code",
   "execution_count": 11,
   "id": "baa8dc69",
   "metadata": {
    "id": "baa8dc69"
   },
   "outputs": [],
   "source": [
    "country_md = \"<|{country_date_df}|chart|x=Date|y=Deaths|type=bar|>\""
   ]
  },
  {
   "cell_type": "code",
   "execution_count": 12,
   "id": "dd9f1eec-323d-4818-a57c-2bd0506fb551",
   "metadata": {},
   "outputs": [
    {
     "name": "stdout",
     "output_type": "stream",
     "text": [
      "Gui server has been stopped\n",
      " * Server starting on http://127.0.0.1:5000\n"
     ]
    }
   ],
   "source": [
    "Gui(country_md).run(dark_mode=False, run_browser=False)"
   ]
  },
  {
   "cell_type": "markdown",
   "id": "6580b5fe",
   "metadata": {
    "id": "6580b5fe"
   },
   "source": [
    "## Add new traces\n",
    "\n",
    "- Add on the graph the number of Confirmed and Recovered cases (_Confirmed_ and _Recovered_) with the number of Deaths\n",
    "- _y_ (and _x_) can be indexed this way to add more traces (`y[1]=`, `y[2]=`, `y[3]=`)."
   ]
  },
  {
   "cell_type": "markdown",
   "id": "baf9d2b6",
   "metadata": {
    "id": "baf9d2b6"
   },
   "source": [
    "![](img/multi_traces.png)"
   ]
  },
  {
   "cell_type": "code",
   "execution_count": 13,
   "id": "242756d9",
   "metadata": {
    "id": "242756d9"
   },
   "outputs": [],
   "source": [
    "country_md = \"<|{country_date_df}|chart|type=bar|x=Date|y[1]=Deaths|y[2]=Recovered|y[3]=Confirmed|>\""
   ]
  },
  {
   "cell_type": "code",
   "execution_count": 14,
   "id": "98482902-22fe-4fb4-81a0-d609ee18bfba",
   "metadata": {},
   "outputs": [
    {
     "name": "stdout",
     "output_type": "stream",
     "text": [
      "Gui server has been stopped\n",
      " * Server starting on http://127.0.0.1:5000\n"
     ]
    }
   ],
   "source": [
    "Gui(country_md).run(dark_mode=False, run_browser=False)"
   ]
  },
  {
   "cell_type": "markdown",
   "id": "f84e0a88",
   "metadata": {
    "id": "f84e0a88"
   },
   "source": [
    "## Style the graph with personalized properties\n",
    "The _layout_ dictionnary specifies how bars should be displayed. They would be 'stacked'.\n",
    "\n",
    "The _options_ dictionary will change the opacity of the unselected markers.\n",
    "\n",
    "These are Plotly properties."
   ]
  },
  {
   "cell_type": "markdown",
   "id": "99c5d669",
   "metadata": {
    "id": "99c5d669"
   },
   "source": [
    "![](img/stack_chart.png)"
   ]
  },
  {
   "cell_type": "code",
   "execution_count": 15,
   "id": "f068e3ba",
   "metadata": {
    "id": "f068e3ba"
   },
   "outputs": [],
   "source": [
    "layout = {'barmode':'stack'}\n",
    "options = {\"unselected\":{\"marker\":{\"opacity\":0.5}}}\n",
    "country_md = \"<|{country_date_df}|chart|type=bar|x=Date|y[1]=Deaths|y[2]=Recovered|y[3]=Confirmed|layout={layout}|options={options}|>\""
   ]
  },
  {
   "cell_type": "code",
   "execution_count": 16,
   "id": "5a526dbe-2aa7-4a76-b146-295c2d06de88",
   "metadata": {},
   "outputs": [
    {
     "name": "stdout",
     "output_type": "stream",
     "text": [
      "Gui server has been stopped\n",
      " * Server starting on http://127.0.0.1:5000\n"
     ]
    }
   ],
   "source": [
    "Gui(country_md).run(dark_mode=False, run_browser=False)"
   ]
  },
  {
   "cell_type": "markdown",
   "id": "cd4d0268",
   "metadata": {
    "id": "cd4d0268"
   },
   "source": [
    "## Add texts that sums up the data\n",
    "\n",
    "Use the [text](https://docs.taipy.io/en/latest/manuals/gui/viselements/text/) visual element.\n",
    "\n",
    "- Add the total number of Deaths (last line of _country_date_df_)\n",
    "- Add the total number of Recovered (last line of _country_date_df_)\n",
    "- Add the total number of Confirmed (last line of _country_date_df_)\n"
   ]
  },
  {
   "cell_type": "code",
   "execution_count": 17,
   "id": "f9060a46",
   "metadata": {
    "id": "f9060a46",
    "outputId": "0d12534f-60a6-4acf-c555-5a6babd1c3d4"
   },
   "outputs": [
    {
     "data": {
      "text/html": [
       "<div>\n",
       "<style scoped>\n",
       "    .dataframe tbody tr th:only-of-type {\n",
       "        vertical-align: middle;\n",
       "    }\n",
       "\n",
       "    .dataframe tbody tr th {\n",
       "        vertical-align: top;\n",
       "    }\n",
       "\n",
       "    .dataframe thead th {\n",
       "        text-align: right;\n",
       "    }\n",
       "</style>\n",
       "<table border=\"1\" class=\"dataframe\">\n",
       "  <thead>\n",
       "    <tr style=\"text-align: right;\">\n",
       "      <th></th>\n",
       "      <th>Country/Region</th>\n",
       "      <th>Date</th>\n",
       "      <th>Latitude</th>\n",
       "      <th>Longitude</th>\n",
       "      <th>Confirmed</th>\n",
       "      <th>Recovered</th>\n",
       "      <th>Deaths</th>\n",
       "    </tr>\n",
       "  </thead>\n",
       "  <tbody>\n",
       "    <tr>\n",
       "      <th>23021</th>\n",
       "      <td>India</td>\n",
       "      <td>2020-01-30</td>\n",
       "      <td>23.746783</td>\n",
       "      <td>78.962880</td>\n",
       "      <td>1.0</td>\n",
       "      <td>0.0</td>\n",
       "      <td>0.0</td>\n",
       "    </tr>\n",
       "    <tr>\n",
       "      <th>23022</th>\n",
       "      <td>India</td>\n",
       "      <td>2020-01-31</td>\n",
       "      <td>23.746783</td>\n",
       "      <td>78.962880</td>\n",
       "      <td>1.0</td>\n",
       "      <td>0.0</td>\n",
       "      <td>0.0</td>\n",
       "    </tr>\n",
       "    <tr>\n",
       "      <th>23023</th>\n",
       "      <td>India</td>\n",
       "      <td>2020-02-01</td>\n",
       "      <td>23.746783</td>\n",
       "      <td>78.962880</td>\n",
       "      <td>1.0</td>\n",
       "      <td>0.0</td>\n",
       "      <td>0.0</td>\n",
       "    </tr>\n",
       "    <tr>\n",
       "      <th>23024</th>\n",
       "      <td>India</td>\n",
       "      <td>2020-02-02</td>\n",
       "      <td>23.746783</td>\n",
       "      <td>78.962880</td>\n",
       "      <td>2.0</td>\n",
       "      <td>0.0</td>\n",
       "      <td>0.0</td>\n",
       "    </tr>\n",
       "    <tr>\n",
       "      <th>23025</th>\n",
       "      <td>India</td>\n",
       "      <td>2020-02-03</td>\n",
       "      <td>23.746783</td>\n",
       "      <td>78.962880</td>\n",
       "      <td>3.0</td>\n",
       "      <td>0.0</td>\n",
       "      <td>0.0</td>\n",
       "    </tr>\n",
       "    <tr>\n",
       "      <th>...</th>\n",
       "      <td>...</td>\n",
       "      <td>...</td>\n",
       "      <td>...</td>\n",
       "      <td>...</td>\n",
       "      <td>...</td>\n",
       "      <td>...</td>\n",
       "      <td>...</td>\n",
       "    </tr>\n",
       "    <tr>\n",
       "      <th>23353</th>\n",
       "      <td>India</td>\n",
       "      <td>2020-12-27</td>\n",
       "      <td>854.924665</td>\n",
       "      <td>3023.983447</td>\n",
       "      <td>10207871.0</td>\n",
       "      <td>9782669.0</td>\n",
       "      <td>147901.0</td>\n",
       "    </tr>\n",
       "    <tr>\n",
       "      <th>23354</th>\n",
       "      <td>India</td>\n",
       "      <td>2020-12-28</td>\n",
       "      <td>854.924665</td>\n",
       "      <td>3023.983447</td>\n",
       "      <td>10224303.0</td>\n",
       "      <td>9807569.0</td>\n",
       "      <td>148153.0</td>\n",
       "    </tr>\n",
       "    <tr>\n",
       "      <th>23355</th>\n",
       "      <td>India</td>\n",
       "      <td>2020-12-29</td>\n",
       "      <td>854.924665</td>\n",
       "      <td>3023.983447</td>\n",
       "      <td>10244852.0</td>\n",
       "      <td>9834141.0</td>\n",
       "      <td>148439.0</td>\n",
       "    </tr>\n",
       "    <tr>\n",
       "      <th>23356</th>\n",
       "      <td>India</td>\n",
       "      <td>2020-12-30</td>\n",
       "      <td>854.924665</td>\n",
       "      <td>3023.983447</td>\n",
       "      <td>10266674.0</td>\n",
       "      <td>9860280.0</td>\n",
       "      <td>148738.0</td>\n",
       "    </tr>\n",
       "    <tr>\n",
       "      <th>23357</th>\n",
       "      <td>India</td>\n",
       "      <td>2020-12-31</td>\n",
       "      <td>854.924665</td>\n",
       "      <td>3023.983447</td>\n",
       "      <td>10266674.0</td>\n",
       "      <td>9860280.0</td>\n",
       "      <td>148738.0</td>\n",
       "    </tr>\n",
       "  </tbody>\n",
       "</table>\n",
       "<p>337 rows × 7 columns</p>\n",
       "</div>"
      ],
      "text/plain": [
       "      Country/Region        Date    Latitude    Longitude   Confirmed  \\\n",
       "23021          India  2020-01-30   23.746783    78.962880         1.0   \n",
       "23022          India  2020-01-31   23.746783    78.962880         1.0   \n",
       "23023          India  2020-02-01   23.746783    78.962880         1.0   \n",
       "23024          India  2020-02-02   23.746783    78.962880         2.0   \n",
       "23025          India  2020-02-03   23.746783    78.962880         3.0   \n",
       "...              ...         ...         ...          ...         ...   \n",
       "23353          India  2020-12-27  854.924665  3023.983447  10207871.0   \n",
       "23354          India  2020-12-28  854.924665  3023.983447  10224303.0   \n",
       "23355          India  2020-12-29  854.924665  3023.983447  10244852.0   \n",
       "23356          India  2020-12-30  854.924665  3023.983447  10266674.0   \n",
       "23357          India  2020-12-31  854.924665  3023.983447  10266674.0   \n",
       "\n",
       "       Recovered    Deaths  \n",
       "23021        0.0       0.0  \n",
       "23022        0.0       0.0  \n",
       "23023        0.0       0.0  \n",
       "23024        0.0       0.0  \n",
       "23025        0.0       0.0  \n",
       "...          ...       ...  \n",
       "23353  9782669.0  147901.0  \n",
       "23354  9807569.0  148153.0  \n",
       "23355  9834141.0  148439.0  \n",
       "23356  9860280.0  148738.0  \n",
       "23357  9860280.0  148738.0  \n",
       "\n",
       "[337 rows x 7 columns]"
      ]
     },
     "execution_count": 17,
     "metadata": {},
     "output_type": "execute_result"
    }
   ],
   "source": [
    "country_date_df"
   ]
  },
  {
   "cell_type": "markdown",
   "id": "ec27c620",
   "metadata": {
    "id": "ec27c620"
   },
   "source": [
    "This is how we can get the total number of Deaths from the dataset for India."
   ]
  },
  {
   "cell_type": "code",
   "execution_count": 18,
   "id": "c0a73440",
   "metadata": {
    "id": "c0a73440",
    "outputId": "642a8cff-1c8f-4748-af5e-7b4dc70d9627"
   },
   "outputs": [
    {
     "data": {
      "text/plain": [
       "148738.0"
      ]
     },
     "execution_count": 18,
     "metadata": {},
     "output_type": "execute_result"
    }
   ],
   "source": [
    "country_date_df.iloc[-1, 6] # gives the number of deaths for India (5 is for recovered and 4 is confirmed)"
   ]
  },
  {
   "cell_type": "markdown",
   "id": "4a043817",
   "metadata": {
    "id": "4a043817"
   },
   "source": [
    "Use the [text](https://docs.taipy.io/en/release-1.1/manuals/gui/viselements/text/) visual element. Note that between `{}`, any Python variable can be put but also any Python code."
   ]
  },
  {
   "cell_type": "markdown",
   "id": "8b5b47ec",
   "metadata": {
    "id": "8b5b47ec"
   },
   "source": [
    "![](img/control_text.png)"
   ]
  },
  {
   "cell_type": "code",
   "execution_count": 19,
   "id": "beab9af4",
   "metadata": {
    "id": "beab9af4"
   },
   "outputs": [],
   "source": [
    "country_md = \"\"\"\n",
    "## Deaths <|{country_date_df.iloc[-1, 6]}|text|>\n",
    "\n",
    "## Recovered <|{country_date_df.iloc[-1, 5]}|text|>\n",
    "\n",
    "## Confirmed <|{country_date_df.iloc[-1, 4]}|text|>\n",
    "\n",
    "<|{country_date_df}|chart|type=bar|x=Date|y[1]=Deaths|y[2]=Recovered|y[3]=Confirmed|layout={layout}|options={options}|>\n",
    "\"\"\""
   ]
  },
  {
   "cell_type": "code",
   "execution_count": 20,
   "id": "0bde617b-a796-4cab-bb77-8d1e294b3603",
   "metadata": {},
   "outputs": [
    {
     "name": "stdout",
     "output_type": "stream",
     "text": [
      "Gui server has been stopped\n",
      " * Server starting on http://127.0.0.1:5000\n"
     ]
    }
   ],
   "source": [
    "Gui(country_md).run(dark_mode=False, run_browser=False)"
   ]
  },
  {
   "cell_type": "markdown",
   "id": "f48f94cd",
   "metadata": {
    "id": "f48f94cd"
   },
   "source": [
    "## Local _on_change_\n",
    "\n",
    "- Add a [selector](https://docs.taipy.io/en/latest/manuals/gui/viselements/selector/) with `dropdown=True` containing the name of all the _Country/region_\n",
    "- Give to the _on_change_ selector property the name of the _on_change_country_ function. This function will be called when the selector will be used.\n",
    "- This function has a 'state' parameter and has to be completed. When the selector is used, this function is called with the _state_ argument. It contains all the Gui variables; 'state.country_date_df' is then the dataframe used in the Gui."
   ]
  },
  {
   "cell_type": "markdown",
   "id": "35953a48",
   "metadata": {
    "id": "35953a48"
   },
   "source": [
    "![](img/on_change_local.png)"
   ]
  },
  {
   "cell_type": "code",
   "execution_count": 21,
   "id": "ed63f76a",
   "metadata": {
    "id": "ed63f76a"
   },
   "outputs": [],
   "source": [
    "country_lov = sorted(data[\"Country/Region\"].dropna().unique().tolist())\n",
    "selected_country = \"India\"\n",
    "\n",
    "country_md = \"\"\"\n",
    "<|{selected_country}|selector|lov={country_lov}|on_change=on_change_country|dropdown|label=Country|>\n",
    "\n",
    "## Deaths <|{country_date_df.iloc[-1, 6]}|>\n",
    "\n",
    "## Recovered <|{country_date_df.iloc[-1, 5]}|>\n",
    "\n",
    "## Confirmed <|{country_date_df.iloc[-1, 4]}|>\n",
    "\n",
    "<|{country_date_df}|chart|type=bar|x=Date|y[1]=Deaths|y[2]=Recovered|y[3]=Confirmed|layout={layout}|options={options}|>\n",
    "\"\"\""
   ]
  },
  {
   "cell_type": "code",
   "execution_count": 22,
   "id": "42e91877",
   "metadata": {
    "id": "42e91877"
   },
   "outputs": [],
   "source": [
    "def on_change_country(state):\n",
    "    # state contains all the Gui variables and this is through this state variable that we can update the Gui\n",
    "    # state.selected_country, state.country_date_df, ...\n",
    "    # update country_date_df with the right country (use initialize_case_evolution)\n",
    "    print(\"Chosen country: \", state.selected_country)\n",
    "    state.country_date_df = initialize_case_evolution(data, state.selected_country)"
   ]
  },
  {
   "cell_type": "code",
   "execution_count": 23,
   "id": "2dc35c5a-1840-4d35-b7ab-af61757dc804",
   "metadata": {},
   "outputs": [
    {
     "name": "stdout",
     "output_type": "stream",
     "text": [
      "Gui server has been stopped\n",
      " * Server starting on http://127.0.0.1:5000\n"
     ]
    }
   ],
   "source": [
    "Gui(country_md).run(dark_mode=False, run_browser=False)"
   ]
  },
  {
   "cell_type": "markdown",
   "id": "6e528ce2",
   "metadata": {
    "id": "6e528ce2"
   },
   "source": [
    "## Layout\n",
    "\n",
    "Use the [layout](https://docs.taipy.io/en/latest/manuals/gui/viselements/layout/) block to change the page structure. This block creates invisible columns to put text/visual elements in.\n",
    "\n",
    "Syntax :\n",
    "```\n",
    "<|layout|columns=1 1 1 ...|\n",
    "(first column)\n",
    "\n",
    "(in second column)\n",
    "\n",
    "(third column)\n",
    "(again, third column)\n",
    "\n",
    "(...)\n",
    "|>\n",
    "```"
   ]
  },
  {
   "cell_type": "code",
   "execution_count": 24,
   "id": "f89fd2fb",
   "metadata": {
    "id": "f89fd2fb"
   },
   "outputs": [],
   "source": [
    "final_country_md = \"\"\"\n",
    "<|layout|columns=1 1 1 1|\n",
    "<|{selected_country}|selector|lov={country_lov}|on_change=on_change_country|dropdown|label=Country|>\n",
    "\n",
    "## Deaths <|{country_date_df.iloc[-1, 6]}|>\n",
    "\n",
    "## Recovered <|{country_date_df.iloc[-1, 5]}|>\n",
    "\n",
    "## Confirmed <|{country_date_df.iloc[-1, 4]}|>\n",
    "|>\n",
    "\n",
    "<|{country_date_df}|chart|type=bar|x=Date|y[1]=Deaths|y[2]=Recovered|y[3]=Confirmed|layout={layout}|options={options}|>\n",
    "\"\"\""
   ]
  },
  {
   "cell_type": "code",
   "execution_count": 25,
   "id": "84a77afa-33c3-41e5-a1ef-64efaf883334",
   "metadata": {},
   "outputs": [
    {
     "name": "stdout",
     "output_type": "stream",
     "text": [
      "Gui server has been stopped\n",
      " * Server starting on http://127.0.0.1:5000\n"
     ]
    }
   ],
   "source": [
    "Gui(final_country_md).run(dark_mode=False, run_browser=False)"
   ]
  },
  {
   "cell_type": "markdown",
   "id": "f63dcc18",
   "metadata": {
    "id": "f63dcc18"
   },
   "source": [
    "![](img/layout.png)"
   ]
  },
  {
   "cell_type": "markdown",
   "id": "e9ab05a9",
   "metadata": {
    "id": "e9ab05a9"
   },
   "source": [
    "# Map"
   ]
  },
  {
   "cell_type": "code",
   "execution_count": 26,
   "id": "92212747",
   "metadata": {
    "id": "92212747"
   },
   "outputs": [],
   "source": [
    "def initialize_map(data):\n",
    "    data['Province/State'] = data['Province/State'].fillna(data[\"Country/Region\"])\n",
    "    data_province = data.groupby([\"Country/Region\",\n",
    "                                  'Province/State',\n",
    "                                  'Longitude',\n",
    "                                  'Latitude'])\\\n",
    "                         .max()\n",
    "\n",
    "    data_province_displayed = data_province[data_province['Deaths']>10].reset_index()\n",
    "\n",
    "    data_province_displayed['Size'] = np.sqrt(data_province_displayed.loc[:,'Deaths']/data_province_displayed.loc[:,'Deaths'].max())*80 + 3\n",
    "    data_province_displayed['Text'] = data_province_displayed.loc[:,'Deaths'].astype(str) + ' deaths</br>' + data_province_displayed.loc[:,'Province/State']\n",
    "    return data_province_displayed"
   ]
  },
  {
   "cell_type": "code",
   "execution_count": 27,
   "id": "5a1f5cb6",
   "metadata": {
    "id": "5a1f5cb6",
    "outputId": "ff8c0dc6-5b6a-4693-c1f1-01635ecf65c5"
   },
   "outputs": [
    {
     "data": {
      "text/html": [
       "<div>\n",
       "<style scoped>\n",
       "    .dataframe tbody tr th:only-of-type {\n",
       "        vertical-align: middle;\n",
       "    }\n",
       "\n",
       "    .dataframe tbody tr th {\n",
       "        vertical-align: top;\n",
       "    }\n",
       "\n",
       "    .dataframe thead th {\n",
       "        text-align: right;\n",
       "    }\n",
       "</style>\n",
       "<table border=\"1\" class=\"dataframe\">\n",
       "  <thead>\n",
       "    <tr style=\"text-align: right;\">\n",
       "      <th></th>\n",
       "      <th>Country/Region</th>\n",
       "      <th>Province/State</th>\n",
       "      <th>Longitude</th>\n",
       "      <th>Latitude</th>\n",
       "      <th>Confirmed</th>\n",
       "      <th>Recovered</th>\n",
       "      <th>Deaths</th>\n",
       "      <th>Date</th>\n",
       "      <th>Size</th>\n",
       "      <th>Text</th>\n",
       "    </tr>\n",
       "  </thead>\n",
       "  <tbody>\n",
       "    <tr>\n",
       "      <th>0</th>\n",
       "      <td>Afghanistan</td>\n",
       "      <td>Afghanistan</td>\n",
       "      <td>67.709953</td>\n",
       "      <td>33.93911</td>\n",
       "      <td>51526.0</td>\n",
       "      <td>41727.0</td>\n",
       "      <td>2191.0</td>\n",
       "      <td>2020-12-31</td>\n",
       "      <td>17.771247</td>\n",
       "      <td>2191.0 deaths&lt;/br&gt;Afghanistan</td>\n",
       "    </tr>\n",
       "    <tr>\n",
       "      <th>1</th>\n",
       "      <td>Albania</td>\n",
       "      <td>Albania</td>\n",
       "      <td>20.168300</td>\n",
       "      <td>41.15330</td>\n",
       "      <td>58316.0</td>\n",
       "      <td>33634.0</td>\n",
       "      <td>1181.0</td>\n",
       "      <td>2020-12-31</td>\n",
       "      <td>13.844784</td>\n",
       "      <td>1181.0 deaths&lt;/br&gt;Albania</td>\n",
       "    </tr>\n",
       "    <tr>\n",
       "      <th>2</th>\n",
       "      <td>Algeria</td>\n",
       "      <td>Algeria</td>\n",
       "      <td>1.659600</td>\n",
       "      <td>28.03390</td>\n",
       "      <td>99610.0</td>\n",
       "      <td>67127.0</td>\n",
       "      <td>2756.0</td>\n",
       "      <td>2020-12-31</td>\n",
       "      <td>19.566684</td>\n",
       "      <td>2756.0 deaths&lt;/br&gt;Algeria</td>\n",
       "    </tr>\n",
       "    <tr>\n",
       "      <th>3</th>\n",
       "      <td>Andorra</td>\n",
       "      <td>Andorra</td>\n",
       "      <td>1.521800</td>\n",
       "      <td>42.50630</td>\n",
       "      <td>8049.0</td>\n",
       "      <td>7432.0</td>\n",
       "      <td>84.0</td>\n",
       "      <td>2020-12-31</td>\n",
       "      <td>5.892249</td>\n",
       "      <td>84.0 deaths&lt;/br&gt;Andorra</td>\n",
       "    </tr>\n",
       "    <tr>\n",
       "      <th>4</th>\n",
       "      <td>Angola</td>\n",
       "      <td>Angola</td>\n",
       "      <td>17.873900</td>\n",
       "      <td>-11.20270</td>\n",
       "      <td>17553.0</td>\n",
       "      <td>11044.0</td>\n",
       "      <td>405.0</td>\n",
       "      <td>2020-12-31</td>\n",
       "      <td>9.350728</td>\n",
       "      <td>405.0 deaths&lt;/br&gt;Angola</td>\n",
       "    </tr>\n",
       "  </tbody>\n",
       "</table>\n",
       "</div>"
      ],
      "text/plain": [
       "  Country/Region Province/State  Longitude  Latitude  Confirmed  Recovered  \\\n",
       "0    Afghanistan    Afghanistan  67.709953  33.93911    51526.0    41727.0   \n",
       "1        Albania        Albania  20.168300  41.15330    58316.0    33634.0   \n",
       "2        Algeria        Algeria   1.659600  28.03390    99610.0    67127.0   \n",
       "3        Andorra        Andorra   1.521800  42.50630     8049.0     7432.0   \n",
       "4         Angola         Angola  17.873900 -11.20270    17553.0    11044.0   \n",
       "\n",
       "   Deaths        Date       Size                           Text  \n",
       "0  2191.0  2020-12-31  17.771247  2191.0 deaths</br>Afghanistan  \n",
       "1  1181.0  2020-12-31  13.844784      1181.0 deaths</br>Albania  \n",
       "2  2756.0  2020-12-31  19.566684      2756.0 deaths</br>Algeria  \n",
       "3    84.0  2020-12-31   5.892249        84.0 deaths</br>Andorra  \n",
       "4   405.0  2020-12-31   9.350728        405.0 deaths</br>Angola  "
      ]
     },
     "execution_count": 27,
     "metadata": {},
     "output_type": "execute_result"
    }
   ],
   "source": [
    "data_province_displayed = initialize_map(data)\n",
    "data_province_displayed.head()"
   ]
  },
  {
   "cell_type": "markdown",
   "id": "fe689939",
   "metadata": {
    "id": "fe689939"
   },
   "source": [
    "Properties to style the map\n",
    "- marker color corresponds to the number of Deaths (column _Deaths_)\n",
    "- marker sizes corresponds to the size in _Size_ column which is created from the number of Deaths\n",
    "\n",
    "layout_map permet defined the initial zoom and position of the map\n"
   ]
  },
  {
   "cell_type": "code",
   "execution_count": 28,
   "id": "62a4cc23",
   "metadata": {
    "id": "62a4cc23"
   },
   "outputs": [],
   "source": [
    "marker_map = {\"color\":\"Deaths\", \"size\": \"Size\", \"showscale\":True, \"colorscale\":\"Viridis\"}\n",
    "layout_map = {\n",
    "            \"dragmode\": \"zoom\",\n",
    "            \"mapbox\": { \"style\": \"open-street-map\", \"center\": { \"lat\": 38, \"lon\": -90 }, \"zoom\": 3}\n",
    "            }"
   ]
  },
  {
   "cell_type": "markdown",
   "id": "fb251153",
   "metadata": {
    "id": "fb251153"
   },
   "source": [
    "We give to Plotly:\n",
    "- a map type\n",
    "- the name of the latitude column\n",
    "- the name of the longitude column\n",
    "- properties: on the size and color of the markers\n",
    "- the name of the column for the text of the points"
   ]
  },
  {
   "cell_type": "code",
   "execution_count": 29,
   "id": "7e65e017",
   "metadata": {
    "id": "7e65e017"
   },
   "outputs": [],
   "source": [
    "selected_points = []\n",
    "map_md = \"\"\"\n",
    "<|{data_province_displayed}|chart|type=scattermapbox|selected={selected_points}|lat=Latitude|lon=Longitude|marker={marker_map}|layout={layout_map}|text=Text|mode=markers|height=800px|options={options}|>\n",
    "\"\"\""
   ]
  },
  {
   "cell_type": "code",
   "execution_count": 30,
   "id": "b068a3af",
   "metadata": {
    "id": "b068a3af",
    "outputId": "b1fcab52-320d-49aa-8a98-60a6b21ce8fb"
   },
   "outputs": [
    {
     "name": "stdout",
     "output_type": "stream",
     "text": [
      "Gui server has been stopped\n",
      " * Server starting on http://127.0.0.1:5000\n"
     ]
    }
   ],
   "source": [
    "Gui(map_md).run(dark_mode=False, run_browser=False)"
   ]
  },
  {
   "cell_type": "markdown",
   "id": "56c0ea66",
   "metadata": {
    "id": "56c0ea66"
   },
   "source": [
    "![](img/carte.png)"
   ]
  },
  {
   "cell_type": "markdown",
   "id": "cab1cacc",
   "metadata": {
    "id": "cab1cacc"
   },
   "source": [
    "# Part and the _render_ property\n",
    "- Create a [toggle](https://docs.taipy.io/en/latest/manuals/gui/viselements/toggle/) (works the same as a selector) with a lov of 'Map' an 'Country'\n",
    "- Create two part blocks that renders or not depending on the value of the toggle\n",
    "    - To do this, use the fact that in the _render_ property of the part block, Python code can be inserted in `{}`"
   ]
  },
  {
   "cell_type": "code",
   "execution_count": 31,
   "id": "91bb95bc",
   "metadata": {
    "id": "91bb95bc"
   },
   "outputs": [],
   "source": [
    "representation_toggle = ['Map', 'Country']\n",
    "selected_representation = representation_toggle[0]"
   ]
  },
  {
   "cell_type": "code",
   "execution_count": 32,
   "id": "e76ebb06",
   "metadata": {
    "id": "e76ebb06"
   },
   "outputs": [],
   "source": [
    "main_page = \"\"\"\n",
    "<|{selected_representation}|toggle|lov={representation_toggle}|>\n",
    "\n",
    "<|part|render={selected_representation == \"Country\"}|\n",
    "\"\"\"+final_country_md+\"\"\"\n",
    "|>\n",
    "\n",
    "<|part|render={selected_representation == \"Map\"}|\n",
    "\"\"\"+map_md+\"\"\"\n",
    "|>\n",
    "\"\"\" "
   ]
  },
  {
   "cell_type": "code",
   "execution_count": 33,
   "id": "186846ba",
   "metadata": {
    "id": "186846ba",
    "outputId": "c5cf9b85-034b-4f80-e9ca-32b31f4caab1"
   },
   "outputs": [
    {
     "name": "stdout",
     "output_type": "stream",
     "text": [
      "Gui server has been stopped\n",
      " * Server starting on http://127.0.0.1:5000\n"
     ]
    }
   ],
   "source": [
    "Gui(main_page).run(dark_mode=False, run_browser=False)"
   ]
  },
  {
   "cell_type": "markdown",
   "id": "47d5c7ce",
   "metadata": {
    "id": "47d5c7ce"
   },
   "source": [
    "![](img/part_render.png)"
   ]
  },
  {
   "cell_type": "markdown",
   "id": "0c8130ec",
   "metadata": {
    "id": "0c8130ec"
   },
   "source": [
    "# Taipy Core\n",
    "Here are the functions that we are going to use to predict the number of Deaths for a country.\n",
    "We will:\n",
    "- preprocess the data (_preprocess_),\n",
    "- create a training and testing database (_make_train_test_data_),\n",
    "- train a model (_train_model_),\n",
    "- generate predictions (_forecast_),\n",
    "- generate a dataframe with the historical data and the predictions (_result_)\n",
    "\n",
    "![](img/all_architecture.svg)"
   ]
  },
  {
   "cell_type": "code",
   "execution_count": 34,
   "id": "43951062-3a8d-45af-9aef-bee607ffd6f2",
   "metadata": {},
   "outputs": [],
   "source": [
    "# initialise variables\n",
    "selected_scenario = None\n",
    "scenario_selector = None\n",
    "\n",
    "first_date = dt.datetime(2020,11,1)\n",
    "\n",
    "scenario_name = None\n",
    "\n",
    "result = None"
   ]
  },
  {
   "cell_type": "code",
   "execution_count": 35,
   "id": "0bab3b3c",
   "metadata": {},
   "outputs": [],
   "source": [
    "#Config.configure_job_executions(mode=\"standalone\", nb_of_workers=2)"
   ]
  },
  {
   "cell_type": "code",
   "execution_count": 36,
   "id": "688ebab8",
   "metadata": {
    "id": "688ebab8"
   },
   "outputs": [],
   "source": [
    "def add_features(data):\n",
    "    dates = pd.to_datetime(data[\"Date\"])\n",
    "    data[\"Months\"] = dates.dt.month\n",
    "    data[\"Days\"] = dates.dt.isocalendar().day\n",
    "    data[\"Week\"] = dates.dt.isocalendar().week\n",
    "    data[\"Day of week\"] = dates.dt.dayofweek\n",
    "    return data\n",
    "\n",
    "def create_train_data(final_data, date):\n",
    "    bool_index = pd.to_datetime(final_data['Date']) <= date\n",
    "    train_data = final_data[bool_index]\n",
    "    return train_data\n",
    "\n",
    "def preprocess(initial_data, country, date):\n",
    "    data = initial_data.groupby([\"Country/Region\",'Date'])\\\n",
    "                       .sum()\\\n",
    "                       .dropna()\\\n",
    "                       .reset_index()\n",
    "\n",
    "    final_data = data.loc[data['Country/Region']==country].reset_index(drop=True)\n",
    "    final_data = final_data[['Date','Deaths']]\n",
    "    final_data = add_features(final_data)\n",
    "    \n",
    "    train_data = create_train_data(final_data, date)\n",
    "    return final_data, train_data\n",
    "\n",
    "\n",
    "def train_arima(train_data):\n",
    "    model = auto_arima(train_data['Deaths'],\n",
    "                       start_p=1, start_q=1,\n",
    "                       max_p=5, max_q=5,\n",
    "                       start_P=0, seasonal=False,\n",
    "                       d=1, D=1, trace=True,\n",
    "                       error_action='ignore',  \n",
    "                       suppress_warnings=True)\n",
    "    model.fit(train_data['Deaths'])\n",
    "    return model\n",
    "\n",
    "\n",
    "def forecast(model):\n",
    "    predictions = model.predict(n_periods=60)\n",
    "    return predictions\n",
    "\n",
    "\n",
    "def result(final_data, predictions, date):\n",
    "    dates = pd.to_datetime([date + dt.timedelta(days=i)\n",
    "                            for i in range(len(predictions))])\n",
    "    final_data['Date'] = pd.to_datetime(final_data['Date'])\n",
    "    predictions = pd.concat([pd.Series(dates, name=\"Date\"),\n",
    "                             pd.Series(predictions, name=\"Predictions\")], axis=1)\n",
    "    return final_data.merge(predictions, on=\"Date\", how=\"outer\")"
   ]
  },
  {
   "cell_type": "markdown",
   "id": "9d2e845f",
   "metadata": {
    "id": "9d2e845f"
   },
   "source": [
    "First we must define the Data Nodes then the tasks (associated to the Python function). Furthermore, we gather these tasks into different pipelines and these pipelines into a scenario.\n",
    "\n",
    "A Data Node needs a **unique id**. If needed, the storage type can be changed for CSV and SQL. Other parameters are then needed."
   ]
  },
  {
   "cell_type": "markdown",
   "id": "b19ed6d7",
   "metadata": {
    "id": "b19ed6d7"
   },
   "source": [
    "### Data Nodes and Task for preprocess"
   ]
  },
  {
   "cell_type": "markdown",
   "id": "6c0e2743",
   "metadata": {
    "id": "6c0e2743"
   },
   "source": [
    "<img src=\"img/preprocess.svg\" alt=\"drawing\" width=\"500\"/>"
   ]
  },
  {
   "cell_type": "code",
   "execution_count": 37,
   "id": "a0dec60e",
   "metadata": {
    "id": "a0dec60e"
   },
   "outputs": [],
   "source": [
    "initial_data_cfg = Config.configure_data_node(id=\"initial_data\",\n",
    "                                              storage_type=\"csv\",\n",
    "                                              path=path_to_data,\n",
    "                                              cacheable=True,\n",
    "                                              validity_period=dt.timedelta(days=5),\n",
    "                                              scope=Scope.GLOBAL)\n",
    "\n",
    "country_cfg = Config.configure_data_node(id=\"country\", default_data=\"India\",\n",
    "                                         cacheable=True, validity_period=dt.timedelta(days=5))\n",
    "\n",
    "\n",
    "date_cfg = Config.configure_data_node(id=\"date\", default_data=dt.datetime(2020,10,10),\n",
    "                                         cacheable=True, validity_period=dt.timedelta(days=5))"
   ]
  },
  {
   "cell_type": "markdown",
   "id": "ff0c6e21",
   "metadata": {},
   "source": [
    "<img src=\"img/preprocess.svg\" alt=\"drawing\" width=\"500\"/>"
   ]
  },
  {
   "cell_type": "code",
   "execution_count": 38,
   "id": "ef9193a1",
   "metadata": {},
   "outputs": [],
   "source": [
    "final_data_cfg =  Config.configure_data_node(id=\"final_data\",\n",
    "                                            cacheable=True, validity_period=dt.timedelta(days=5))\n",
    "\n",
    "\n",
    "train_data_cfg =  Config.configure_data_node(id=\"train_data\", cacheable=True, validity_period=dt.timedelta(days=5))\n"
   ]
  },
  {
   "cell_type": "markdown",
   "id": "5f2897e2",
   "metadata": {},
   "source": [
    "<img src=\"img/preprocess.svg\" alt=\"drawing\" width=\"500\"/>"
   ]
  },
  {
   "cell_type": "code",
   "execution_count": 39,
   "id": "7c18d8ea",
   "metadata": {},
   "outputs": [],
   "source": [
    "task_preprocess_cfg = Config.configure_task(id=\"task_preprocess_data\",\n",
    "                                           function=preprocess,\n",
    "                                           input=[initial_data_cfg, country_cfg, date_cfg],\n",
    "                                           output=[final_data_cfg,train_data_cfg])"
   ]
  },
  {
   "cell_type": "markdown",
   "id": "1908c988",
   "metadata": {
    "id": "1908c988"
   },
   "source": [
    "### Data Nodes and Task for train_model"
   ]
  },
  {
   "cell_type": "markdown",
   "id": "e8bd5020",
   "metadata": {
    "id": "e8bd5020"
   },
   "source": [
    "<img src=\"img/train_model.svg\" alt=\"drawing\" width=\"500\"/>"
   ]
  },
  {
   "cell_type": "code",
   "execution_count": 40,
   "id": "96afe994",
   "metadata": {
    "id": "96afe994"
   },
   "outputs": [],
   "source": [
    "model_cfg = Config.configure_data_node(id=\"model\", cacheable=True, validity_period=dt.timedelta(days=5), scope=Scope.PIPELINE)\n",
    "\n",
    "task_train_cfg = Config.configure_task(id=\"task_train\",\n",
    "                                      function=train_arima,\n",
    "                                      input=train_data_cfg,\n",
    "                                      output=model_cfg)"
   ]
  },
  {
   "cell_type": "markdown",
   "id": "849d0a97",
   "metadata": {
    "id": "849d0a97"
   },
   "source": [
    "### Data Nodes and Task for forecast"
   ]
  },
  {
   "cell_type": "markdown",
   "id": "e0a125c7",
   "metadata": {
    "id": "e0a125c7"
   },
   "source": [
    "<img src=\"img/forecast_arima.svg\" alt=\"drawing\" width=\"500\"/>"
   ]
  },
  {
   "cell_type": "code",
   "execution_count": 41,
   "id": "46b0287b",
   "metadata": {
    "id": "46b0287b"
   },
   "outputs": [],
   "source": [
    "predictions_cfg = Config.configure_data_node(id=\"predictions\", scope=Scope.PIPELINE)\n",
    "\n",
    "task_forecast_cfg = Config.configure_task(id=\"task_forecast\",\n",
    "                                      function=forecast,\n",
    "                                      input=model_cfg,\n",
    "                                      output=predictions_cfg)"
   ]
  },
  {
   "cell_type": "markdown",
   "id": "73ab0ee0",
   "metadata": {
    "id": "73ab0ee0"
   },
   "source": [
    "### Data Nodes and Task for result"
   ]
  },
  {
   "cell_type": "markdown",
   "id": "899c41df",
   "metadata": {
    "id": "899c41df"
   },
   "source": [
    "<img src=\"img/result.svg\" alt=\"drawing\" width=\"500\"/>"
   ]
  },
  {
   "cell_type": "code",
   "execution_count": 42,
   "id": "92f6ca0c",
   "metadata": {
    "id": "92f6ca0c"
   },
   "outputs": [],
   "source": [
    "result_cfg = Config.configure_data_node(id=\"result\", scope=Scope.PIPELINE)\n",
    "\n",
    "task_result_cfg = Config.configure_task(id=\"task_result\",\n",
    "                                      function=result,\n",
    "                                      input=[final_data_cfg, predictions_cfg, date_cfg],\n",
    "                                      output=result_cfg)"
   ]
  },
  {
   "cell_type": "markdown",
   "id": "252820b6",
   "metadata": {
    "id": "252820b6"
   },
   "source": [
    "## [Configuration of pipelines](https://docs.taipy.io/en/release-1.1/manuals/reference/taipy.Config/#taipy.core.config.config.Config.configure_default_pipeline)"
   ]
  },
  {
   "cell_type": "code",
   "execution_count": 43,
   "id": "ed34224b",
   "metadata": {
    "id": "ed34224b"
   },
   "outputs": [],
   "source": [
    "pipeline_preprocessing_cfg = Config.configure_pipeline(id=\"pipeline_preprocessing\",\n",
    "                                                       task_configs=[task_preprocess_cfg])\n",
    "\n",
    "pipeline_arima_cfg = Config.configure_pipeline(id=\"ARIMA\",\n",
    "                                               task_configs=[task_train_cfg,\n",
    "                                                             task_forecast_cfg,\n",
    "                                                             task_result_cfg])"
   ]
  },
  {
   "cell_type": "markdown",
   "id": "9834cac0",
   "metadata": {},
   "source": [
    "## Add more models\n",
    "\n",
    "<img src=\"img/pipeline_linear_regression.svg\" alt=\"drawing\" width=\"500\"/>"
   ]
  },
  {
   "cell_type": "code",
   "execution_count": 44,
   "id": "aa1025e1",
   "metadata": {},
   "outputs": [],
   "source": [
    "def train_linear_regression(train_data):    \n",
    "    y = train_data['Deaths']\n",
    "    X = train_data.drop(['Deaths','Date'], axis=1)\n",
    "    \n",
    "    model = LinearRegression()\n",
    "    model.fit(X,y)\n",
    "    return model\n",
    "\n",
    "def forecast_linear_regression(model, date):\n",
    "    dates = pd.to_datetime([date + dt.timedelta(days=i)\n",
    "                            for i in range(60)])\n",
    "    X = add_features(pd.DataFrame({\"Date\":dates}))\n",
    "    X.drop('Date', axis=1, inplace=True)\n",
    "    predictions = model.predict(X)\n",
    "    return predictions\n",
    "\n",
    "\n",
    "task_train_cfg = Config.configure_task(id=\"task_train\",\n",
    "                                      function=train_linear_regression,\n",
    "                                      input=train_data_cfg,\n",
    "                                      output=model_cfg)\n",
    "\n",
    "task_forecast_cfg = Config.configure_task(id=\"task_forecast\",\n",
    "                                      function=forecast_linear_regression,\n",
    "                                      input=[model_cfg, date_cfg],\n",
    "                                      output=predictions_cfg)\n",
    "\n",
    "pipeline_random_forest_cfg = Config.configure_pipeline(id=\"LinearRegression\",\n",
    "                                               task_configs=[task_train_cfg,\n",
    "                                                             task_forecast_cfg,\n",
    "                                                             task_result_cfg])"
   ]
  },
  {
   "cell_type": "markdown",
   "id": "27dbc823",
   "metadata": {
    "id": "27dbc823"
   },
   "source": [
    "## [Configuration of scénario](https://docs.taipy.io/en/release-1.1/manuals/reference/taipy.Config/#taipy.core.config.config.Config.configure_default_scenario)"
   ]
  },
  {
   "cell_type": "code",
   "execution_count": 45,
   "id": "36f84118",
   "metadata": {},
   "outputs": [],
   "source": [
    "scenario_cfg = Config.configure_scenario(id='scenario', pipeline_configs=[pipeline_preprocessing_cfg,\n",
    "                                                                          pipeline_arima_cfg,\n",
    "                                                                          pipeline_random_forest_cfg])"
   ]
  },
  {
   "cell_type": "markdown",
   "id": "986ebad5",
   "metadata": {
    "id": "986ebad5"
   },
   "source": [
    "## Creation and submit of scenario"
   ]
  },
  {
   "cell_type": "code",
   "execution_count": 46,
   "id": "ee902abf",
   "metadata": {
    "id": "ee902abf",
    "outputId": "f2e36e97-1ce2-49ae-b4b7-23f84e68892a"
   },
   "outputs": [
    {
     "name": "stderr",
     "output_type": "stream",
     "text": [
      "C:\\Users\\jacta\\AppData\\Local\\R-MINI~1\\envs\\notebook\\lib\\site-packages\\taipy\\core\\data\\csv.py:145: DtypeWarning: Columns (0,1) have mixed types. Specify dtype option on import or set low_memory=False.\n",
      "  return pd.read_csv(self._path)\n"
     ]
    },
    {
     "name": "stdout",
     "output_type": "stream",
     "text": [
      "[2022-09-07 10:12:26,329][Taipy][INFO] job JOB_task_preprocess_data_0265d2c4-eb3b-4089-9a68-174fac11ce99 is completed.\n",
      "Performing stepwise search to minimize aic\n",
      " ARIMA(1,1,1)(0,0,0)[0] intercept   : AIC=3403.257, Time=0.25 sec\n",
      " ARIMA(0,1,0)(0,0,0)[0] intercept   : AIC=3834.545, Time=0.01 sec\n",
      " ARIMA(1,1,0)(0,0,0)[0] intercept   : AIC=3555.070, Time=0.02 sec\n",
      " ARIMA(0,1,1)(0,0,0)[0] intercept   : AIC=3711.502, Time=0.06 sec\n",
      " ARIMA(0,1,0)(0,0,0)[0]             : AIC=3992.428, Time=0.01 sec\n",
      " ARIMA(2,1,1)(0,0,0)[0] intercept   : AIC=3395.911, Time=0.23 sec\n",
      " ARIMA(2,1,0)(0,0,0)[0] intercept   : AIC=3469.260, Time=0.03 sec\n",
      " ARIMA(3,1,1)(0,0,0)[0] intercept   : AIC=3398.025, Time=0.36 sec\n",
      " ARIMA(2,1,2)(0,0,0)[0] intercept   : AIC=3395.437, Time=0.32 sec\n",
      " ARIMA(1,1,2)(0,0,0)[0] intercept   : AIC=3395.219, Time=0.27 sec\n",
      " ARIMA(0,1,2)(0,0,0)[0] intercept   : AIC=3639.930, Time=0.08 sec\n",
      " ARIMA(1,1,3)(0,0,0)[0] intercept   : AIC=3397.038, Time=0.30 sec\n",
      " ARIMA(0,1,3)(0,0,0)[0] intercept   : AIC=3595.496, Time=0.11 sec\n",
      " ARIMA(2,1,3)(0,0,0)[0] intercept   : AIC=inf, Time=0.43 sec\n",
      " ARIMA(1,1,2)(0,0,0)[0]             : AIC=3394.362, Time=0.10 sec\n",
      " ARIMA(0,1,2)(0,0,0)[0]             : AIC=3726.468, Time=0.07 sec\n",
      " ARIMA(1,1,1)(0,0,0)[0]             : AIC=3402.072, Time=0.08 sec\n",
      " ARIMA(2,1,2)(0,0,0)[0]             : AIC=inf, Time=0.25 sec\n",
      " ARIMA(1,1,3)(0,0,0)[0]             : AIC=3396.195, Time=0.19 sec\n",
      " ARIMA(0,1,1)(0,0,0)[0]             : AIC=3820.542, Time=0.04 sec\n",
      " ARIMA(0,1,3)(0,0,0)[0]             : AIC=3665.462, Time=0.11 sec\n",
      " ARIMA(2,1,1)(0,0,0)[0]             : AIC=3394.738, Time=0.13 sec\n",
      " ARIMA(2,1,3)(0,0,0)[0]             : AIC=3396.760, Time=0.23 sec\n",
      "\n",
      "Best model:  ARIMA(1,1,2)(0,0,0)[0]          \n",
      "Total fit time: 3.701 seconds\n",
      "[2022-09-07 10:12:30,257][Taipy][INFO] job JOB_task_train_92194db5-20b1-426d-9019-2f3e93f499a2 is completed.\n",
      "[2022-09-07 10:12:30,453][Taipy][INFO] job JOB_task_forecast_09529df6-2507-4605-9217-37c00855ffaa is completed.\n",
      "[2022-09-07 10:12:30,562][Taipy][INFO] job JOB_task_result_a5b51fc9-12c7-4333-8a4d-985c77940bb1 is completed.\n",
      "[2022-09-07 10:12:30,657][Taipy][INFO] job JOB_task_train_cec8c7a5-804e-47b4-821c-a95ac6386b80 is completed.\n",
      "[2022-09-07 10:12:30,758][Taipy][INFO] job JOB_task_forecast_408bdafa-ca77-4e02-b6bd-8f71661c021e is completed.\n",
      "[2022-09-07 10:12:30,860][Taipy][INFO] job JOB_task_result_c9dda448-021a-4513-9b9a-2f6ac7c59e5b is completed.\n"
     ]
    }
   ],
   "source": [
    "scenario = tp.create_scenario(scenario_cfg, name='First Scenario')\n",
    "tp.submit(scenario)"
   ]
  },
  {
   "cell_type": "code",
   "execution_count": 47,
   "id": "0438a233",
   "metadata": {
    "id": "0438a233",
    "outputId": "494c2bd8-eef2-4a0f-92ca-46ce061aeaee"
   },
   "outputs": [
    {
     "name": "stderr",
     "output_type": "stream",
     "text": [
      "C:\\Users\\jacta\\AppData\\Local\\R-MINI~1\\envs\\notebook\\lib\\site-packages\\taipy\\core\\data\\csv.py:145: DtypeWarning: Columns (0,1) have mixed types. Specify dtype option on import or set low_memory=False.\n",
      "  return pd.read_csv(self._path)\n"
     ]
    },
    {
     "data": {
      "text/html": [
       "<div>\n",
       "<style scoped>\n",
       "    .dataframe tbody tr th:only-of-type {\n",
       "        vertical-align: middle;\n",
       "    }\n",
       "\n",
       "    .dataframe tbody tr th {\n",
       "        vertical-align: top;\n",
       "    }\n",
       "\n",
       "    .dataframe thead th {\n",
       "        text-align: right;\n",
       "    }\n",
       "</style>\n",
       "<table border=\"1\" class=\"dataframe\">\n",
       "  <thead>\n",
       "    <tr style=\"text-align: right;\">\n",
       "      <th></th>\n",
       "      <th>Country/Region</th>\n",
       "      <th>Province/State</th>\n",
       "      <th>Latitude</th>\n",
       "      <th>Longitude</th>\n",
       "      <th>Confirmed</th>\n",
       "      <th>Recovered</th>\n",
       "      <th>Deaths</th>\n",
       "      <th>Date</th>\n",
       "    </tr>\n",
       "  </thead>\n",
       "  <tbody>\n",
       "    <tr>\n",
       "      <th>0</th>\n",
       "      <td>NaN</td>\n",
       "      <td>NaN</td>\n",
       "      <td>NaN</td>\n",
       "      <td>NaN</td>\n",
       "      <td>51526.0</td>\n",
       "      <td>41727.0</td>\n",
       "      <td>2191.0</td>\n",
       "      <td>2021-01-01</td>\n",
       "    </tr>\n",
       "    <tr>\n",
       "      <th>1</th>\n",
       "      <td>NaN</td>\n",
       "      <td>NaN</td>\n",
       "      <td>NaN</td>\n",
       "      <td>NaN</td>\n",
       "      <td>58316.0</td>\n",
       "      <td>33634.0</td>\n",
       "      <td>1181.0</td>\n",
       "      <td>2021-01-01</td>\n",
       "    </tr>\n",
       "    <tr>\n",
       "      <th>2</th>\n",
       "      <td>NaN</td>\n",
       "      <td>NaN</td>\n",
       "      <td>NaN</td>\n",
       "      <td>NaN</td>\n",
       "      <td>99897.0</td>\n",
       "      <td>67395.0</td>\n",
       "      <td>2762.0</td>\n",
       "      <td>2021-01-01</td>\n",
       "    </tr>\n",
       "    <tr>\n",
       "      <th>3</th>\n",
       "      <td>NaN</td>\n",
       "      <td>NaN</td>\n",
       "      <td>NaN</td>\n",
       "      <td>NaN</td>\n",
       "      <td>8117.0</td>\n",
       "      <td>7463.0</td>\n",
       "      <td>84.0</td>\n",
       "      <td>2021-01-01</td>\n",
       "    </tr>\n",
       "    <tr>\n",
       "      <th>4</th>\n",
       "      <td>NaN</td>\n",
       "      <td>NaN</td>\n",
       "      <td>NaN</td>\n",
       "      <td>NaN</td>\n",
       "      <td>17568.0</td>\n",
       "      <td>11146.0</td>\n",
       "      <td>405.0</td>\n",
       "      <td>2021-01-01</td>\n",
       "    </tr>\n",
       "    <tr>\n",
       "      <th>...</th>\n",
       "      <td>...</td>\n",
       "      <td>...</td>\n",
       "      <td>...</td>\n",
       "      <td>...</td>\n",
       "      <td>...</td>\n",
       "      <td>...</td>\n",
       "      <td>...</td>\n",
       "      <td>...</td>\n",
       "    </tr>\n",
       "    <tr>\n",
       "      <th>1241947</th>\n",
       "      <td>Vietnam</td>\n",
       "      <td>NaN</td>\n",
       "      <td>14.058324</td>\n",
       "      <td>108.277199</td>\n",
       "      <td>1465.0</td>\n",
       "      <td>1325.0</td>\n",
       "      <td>35.0</td>\n",
       "      <td>2020-12-31</td>\n",
       "    </tr>\n",
       "    <tr>\n",
       "      <th>1241948</th>\n",
       "      <td>West Bank and Gaza</td>\n",
       "      <td>NaN</td>\n",
       "      <td>31.952200</td>\n",
       "      <td>35.233200</td>\n",
       "      <td>138004.0</td>\n",
       "      <td>117183.0</td>\n",
       "      <td>1400.0</td>\n",
       "      <td>2020-12-31</td>\n",
       "    </tr>\n",
       "    <tr>\n",
       "      <th>1241949</th>\n",
       "      <td>Yemen</td>\n",
       "      <td>NaN</td>\n",
       "      <td>15.552727</td>\n",
       "      <td>48.516388</td>\n",
       "      <td>2099.0</td>\n",
       "      <td>1394.0</td>\n",
       "      <td>610.0</td>\n",
       "      <td>2020-12-31</td>\n",
       "    </tr>\n",
       "    <tr>\n",
       "      <th>1241950</th>\n",
       "      <td>Zambia</td>\n",
       "      <td>NaN</td>\n",
       "      <td>-13.133897</td>\n",
       "      <td>27.849332</td>\n",
       "      <td>20725.0</td>\n",
       "      <td>18660.0</td>\n",
       "      <td>388.0</td>\n",
       "      <td>2020-12-31</td>\n",
       "    </tr>\n",
       "    <tr>\n",
       "      <th>1241951</th>\n",
       "      <td>Zimbabwe</td>\n",
       "      <td>NaN</td>\n",
       "      <td>-19.015438</td>\n",
       "      <td>29.154857</td>\n",
       "      <td>13867.0</td>\n",
       "      <td>11250.0</td>\n",
       "      <td>363.0</td>\n",
       "      <td>2020-12-31</td>\n",
       "    </tr>\n",
       "  </tbody>\n",
       "</table>\n",
       "<p>1241952 rows × 8 columns</p>\n",
       "</div>"
      ],
      "text/plain": [
       "             Country/Region Province/State   Latitude   Longitude  Confirmed  \\\n",
       "0                       NaN            NaN        NaN         NaN    51526.0   \n",
       "1                       NaN            NaN        NaN         NaN    58316.0   \n",
       "2                       NaN            NaN        NaN         NaN    99897.0   \n",
       "3                       NaN            NaN        NaN         NaN     8117.0   \n",
       "4                       NaN            NaN        NaN         NaN    17568.0   \n",
       "...                     ...            ...        ...         ...        ...   \n",
       "1241947             Vietnam            NaN  14.058324  108.277199     1465.0   \n",
       "1241948  West Bank and Gaza            NaN  31.952200   35.233200   138004.0   \n",
       "1241949               Yemen            NaN  15.552727   48.516388     2099.0   \n",
       "1241950              Zambia            NaN -13.133897   27.849332    20725.0   \n",
       "1241951            Zimbabwe            NaN -19.015438   29.154857    13867.0   \n",
       "\n",
       "         Recovered  Deaths        Date  \n",
       "0          41727.0  2191.0  2021-01-01  \n",
       "1          33634.0  1181.0  2021-01-01  \n",
       "2          67395.0  2762.0  2021-01-01  \n",
       "3           7463.0    84.0  2021-01-01  \n",
       "4          11146.0   405.0  2021-01-01  \n",
       "...            ...     ...         ...  \n",
       "1241947     1325.0    35.0  2020-12-31  \n",
       "1241948   117183.0  1400.0  2020-12-31  \n",
       "1241949     1394.0   610.0  2020-12-31  \n",
       "1241950    18660.0   388.0  2020-12-31  \n",
       "1241951    11250.0   363.0  2020-12-31  \n",
       "\n",
       "[1241952 rows x 8 columns]"
      ]
     },
     "execution_count": 47,
     "metadata": {},
     "output_type": "execute_result"
    }
   ],
   "source": [
    "scenario.initial_data.read()"
   ]
  },
  {
   "cell_type": "code",
   "execution_count": 48,
   "id": "a4f4dafd",
   "metadata": {
    "id": "a4f4dafd",
    "outputId": "a9928f34-27e3-4e90-c43d-4aa073fc5617"
   },
   "outputs": [
    {
     "data": {
      "text/html": [
       "<div>\n",
       "<style scoped>\n",
       "    .dataframe tbody tr th:only-of-type {\n",
       "        vertical-align: middle;\n",
       "    }\n",
       "\n",
       "    .dataframe tbody tr th {\n",
       "        vertical-align: top;\n",
       "    }\n",
       "\n",
       "    .dataframe thead th {\n",
       "        text-align: right;\n",
       "    }\n",
       "</style>\n",
       "<table border=\"1\" class=\"dataframe\">\n",
       "  <thead>\n",
       "    <tr style=\"text-align: right;\">\n",
       "      <th></th>\n",
       "      <th>Date</th>\n",
       "      <th>Deaths</th>\n",
       "      <th>Months</th>\n",
       "      <th>Days</th>\n",
       "      <th>Week</th>\n",
       "      <th>Day of week</th>\n",
       "    </tr>\n",
       "  </thead>\n",
       "  <tbody>\n",
       "    <tr>\n",
       "      <th>0</th>\n",
       "      <td>2020-01-30</td>\n",
       "      <td>0.0</td>\n",
       "      <td>1</td>\n",
       "      <td>4</td>\n",
       "      <td>5</td>\n",
       "      <td>3</td>\n",
       "    </tr>\n",
       "    <tr>\n",
       "      <th>1</th>\n",
       "      <td>2020-01-31</td>\n",
       "      <td>0.0</td>\n",
       "      <td>1</td>\n",
       "      <td>5</td>\n",
       "      <td>5</td>\n",
       "      <td>4</td>\n",
       "    </tr>\n",
       "    <tr>\n",
       "      <th>2</th>\n",
       "      <td>2020-02-01</td>\n",
       "      <td>0.0</td>\n",
       "      <td>2</td>\n",
       "      <td>6</td>\n",
       "      <td>5</td>\n",
       "      <td>5</td>\n",
       "    </tr>\n",
       "    <tr>\n",
       "      <th>3</th>\n",
       "      <td>2020-02-02</td>\n",
       "      <td>0.0</td>\n",
       "      <td>2</td>\n",
       "      <td>7</td>\n",
       "      <td>5</td>\n",
       "      <td>6</td>\n",
       "    </tr>\n",
       "    <tr>\n",
       "      <th>4</th>\n",
       "      <td>2020-02-03</td>\n",
       "      <td>0.0</td>\n",
       "      <td>2</td>\n",
       "      <td>1</td>\n",
       "      <td>6</td>\n",
       "      <td>0</td>\n",
       "    </tr>\n",
       "    <tr>\n",
       "      <th>...</th>\n",
       "      <td>...</td>\n",
       "      <td>...</td>\n",
       "      <td>...</td>\n",
       "      <td>...</td>\n",
       "      <td>...</td>\n",
       "      <td>...</td>\n",
       "    </tr>\n",
       "    <tr>\n",
       "      <th>250</th>\n",
       "      <td>2020-10-06</td>\n",
       "      <td>104555.0</td>\n",
       "      <td>10</td>\n",
       "      <td>2</td>\n",
       "      <td>41</td>\n",
       "      <td>1</td>\n",
       "    </tr>\n",
       "    <tr>\n",
       "      <th>251</th>\n",
       "      <td>2020-10-07</td>\n",
       "      <td>105526.0</td>\n",
       "      <td>10</td>\n",
       "      <td>3</td>\n",
       "      <td>41</td>\n",
       "      <td>2</td>\n",
       "    </tr>\n",
       "    <tr>\n",
       "      <th>252</th>\n",
       "      <td>2020-10-08</td>\n",
       "      <td>106490.0</td>\n",
       "      <td>10</td>\n",
       "      <td>4</td>\n",
       "      <td>41</td>\n",
       "      <td>3</td>\n",
       "    </tr>\n",
       "    <tr>\n",
       "      <th>253</th>\n",
       "      <td>2020-10-09</td>\n",
       "      <td>107416.0</td>\n",
       "      <td>10</td>\n",
       "      <td>5</td>\n",
       "      <td>41</td>\n",
       "      <td>4</td>\n",
       "    </tr>\n",
       "    <tr>\n",
       "      <th>254</th>\n",
       "      <td>2020-10-10</td>\n",
       "      <td>108334.0</td>\n",
       "      <td>10</td>\n",
       "      <td>6</td>\n",
       "      <td>41</td>\n",
       "      <td>5</td>\n",
       "    </tr>\n",
       "  </tbody>\n",
       "</table>\n",
       "<p>255 rows × 6 columns</p>\n",
       "</div>"
      ],
      "text/plain": [
       "           Date    Deaths  Months  Days  Week  Day of week\n",
       "0    2020-01-30       0.0       1     4     5            3\n",
       "1    2020-01-31       0.0       1     5     5            4\n",
       "2    2020-02-01       0.0       2     6     5            5\n",
       "3    2020-02-02       0.0       2     7     5            6\n",
       "4    2020-02-03       0.0       2     1     6            0\n",
       "..          ...       ...     ...   ...   ...          ...\n",
       "250  2020-10-06  104555.0      10     2    41            1\n",
       "251  2020-10-07  105526.0      10     3    41            2\n",
       "252  2020-10-08  106490.0      10     4    41            3\n",
       "253  2020-10-09  107416.0      10     5    41            4\n",
       "254  2020-10-10  108334.0      10     6    41            5\n",
       "\n",
       "[255 rows x 6 columns]"
      ]
     },
     "execution_count": 48,
     "metadata": {},
     "output_type": "execute_result"
    }
   ],
   "source": [
    "scenario.train_data.read()"
   ]
  },
  {
   "cell_type": "code",
   "execution_count": 49,
   "id": "79602c0e",
   "metadata": {
    "id": "79602c0e",
    "outputId": "fe06a4ba-a59a-419e-f244-aed87412fb05"
   },
   "outputs": [
    {
     "data": {
      "text/plain": [
       "255    109313.301056\n",
       "256    110278.582535\n",
       "257    111243.835729\n",
       "258    112209.060640\n",
       "259    113174.257267\n",
       "260    114139.425612\n",
       "261    115104.565676\n",
       "262    116069.677459\n",
       "263    117034.760963\n",
       "264    117999.816188\n",
       "265    118964.843135\n",
       "266    119929.841804\n",
       "267    120894.812197\n",
       "268    121859.754315\n",
       "269    122824.668158\n",
       "270    123789.553727\n",
       "271    124754.411023\n",
       "272    125719.240047\n",
       "273    126684.040799\n",
       "274    127648.813281\n",
       "275    128613.557493\n",
       "276    129578.273436\n",
       "277    130542.961111\n",
       "278    131507.620519\n",
       "279    132472.251660\n",
       "280    133436.854536\n",
       "281    134401.429147\n",
       "282    135365.975494\n",
       "283    136330.493578\n",
       "284    137294.983399\n",
       "285    138259.444959\n",
       "286    139223.878259\n",
       "287    140188.283298\n",
       "288    141152.660079\n",
       "289    142117.008602\n",
       "290    143081.328867\n",
       "291    144045.620875\n",
       "292    145009.884628\n",
       "293    145974.120127\n",
       "294    146938.327371\n",
       "295    147902.506362\n",
       "296    148866.657100\n",
       "297    149830.779588\n",
       "298    150794.873824\n",
       "299    151758.939810\n",
       "300    152722.977548\n",
       "301    153686.987037\n",
       "302    154650.968279\n",
       "303    155614.921274\n",
       "304    156578.846024\n",
       "305    157542.742529\n",
       "306    158506.610789\n",
       "307    159470.450806\n",
       "308    160434.262581\n",
       "309    161398.046115\n",
       "310    162361.801407\n",
       "311    163325.528460\n",
       "312    164289.227273\n",
       "313    165252.897848\n",
       "314    166216.540186\n",
       "dtype: float64"
      ]
     },
     "execution_count": 49,
     "metadata": {},
     "output_type": "execute_result"
    }
   ],
   "source": [
    "scenario.ARIMA.predictions.read()"
   ]
  },
  {
   "cell_type": "markdown",
   "id": "d9915978",
   "metadata": {
    "id": "d9915978"
   },
   "source": [
    "## Caching\n",
    "Some job are skipped because no change has been done to the \"input\" Data Nodes."
   ]
  },
  {
   "cell_type": "code",
   "execution_count": 50,
   "id": "7cb68da0",
   "metadata": {
    "id": "7cb68da0",
    "outputId": "b06a184d-f2aa-4e00-cac4-3a0111d1755c"
   },
   "outputs": [
    {
     "name": "stdout",
     "output_type": "stream",
     "text": [
      "[2022-09-07 10:12:31,860][Taipy][INFO] job JOB_task_preprocess_data_7b08f485-b7e7-4687-aaff-b4dce35f85e4 is skipped.\n",
      "[2022-09-07 10:12:31,946][Taipy][INFO] job JOB_task_train_6a50cbb2-6b04-453a-9bb1-a04f807b175b is skipped.\n",
      "[2022-09-07 10:12:32,054][Taipy][INFO] job JOB_task_forecast_be0fe050-86fd-4829-bfb0-e55d93aa3f23 is completed.\n",
      "[2022-09-07 10:12:32,159][Taipy][INFO] job JOB_task_result_7d3a5b16-484d-4009-bccb-98a8b5efd0a0 is completed.\n",
      "[2022-09-07 10:12:32,235][Taipy][INFO] job JOB_task_train_35d7aa09-cd64-4dd8-ab6d-a52bd2857ecf is skipped.\n",
      "[2022-09-07 10:12:32,324][Taipy][INFO] job JOB_task_forecast_9949aab1-cfda-40d4-949f-8b731b4c08d9 is completed.\n",
      "[2022-09-07 10:12:32,418][Taipy][INFO] job JOB_task_result_f51bc3d3-945b-41f1-9aa7-03a8b1c73a77 is completed.\n"
     ]
    }
   ],
   "source": [
    "tp.submit(scenario)"
   ]
  },
  {
   "cell_type": "markdown",
   "id": "ba83beac",
   "metadata": {
    "id": "ba83beac"
   },
   "source": [
    "## Write in data nodes\n",
    "\n",
    "To write a data node:\n",
    "\n",
    "`<Data Node>.write(new_value)`"
   ]
  },
  {
   "cell_type": "code",
   "execution_count": 51,
   "id": "31d6562d",
   "metadata": {
    "id": "31d6562d",
    "outputId": "9fef8e2d-9026-438f-da23-8299d3fe3497"
   },
   "outputs": [
    {
     "name": "stderr",
     "output_type": "stream",
     "text": [
      "C:\\Users\\jacta\\AppData\\Local\\R-MINI~1\\envs\\notebook\\lib\\site-packages\\taipy\\core\\data\\csv.py:145: DtypeWarning: Columns (0,1) have mixed types. Specify dtype option on import or set low_memory=False.\n",
      "  return pd.read_csv(self._path)\n"
     ]
    },
    {
     "name": "stdout",
     "output_type": "stream",
     "text": [
      "[2022-09-07 10:12:33,466][Taipy][INFO] job JOB_task_preprocess_data_81359982-1e32-4057-8c5a-dcb651c51f91 is completed.\n",
      "Performing stepwise search to minimize aic\n",
      " ARIMA(1,1,1)(0,0,0)[0] intercept   : AIC=3864.276, Time=0.03 sec\n",
      " ARIMA(0,1,0)(0,0,0)[0] intercept   : AIC=4187.713, Time=0.01 sec\n",
      " ARIMA(1,1,0)(0,0,0)[0] intercept   : AIC=3862.617, Time=0.02 sec\n",
      " ARIMA(0,1,1)(0,0,0)[0] intercept   : AIC=4017.317, Time=0.06 sec\n",
      " ARIMA(0,1,0)(0,0,0)[0]             : AIC=4407.771, Time=0.01 sec\n",
      " ARIMA(2,1,0)(0,0,0)[0] intercept   : AIC=3864.226, Time=0.03 sec\n",
      " ARIMA(2,1,1)(0,0,0)[0] intercept   : AIC=3866.190, Time=0.07 sec\n",
      " ARIMA(1,1,0)(0,0,0)[0]             : AIC=3873.251, Time=0.01 sec\n",
      "\n",
      "Best model:  ARIMA(1,1,0)(0,0,0)[0] intercept\n",
      "Total fit time: 0.244 seconds\n",
      "[2022-09-07 10:12:33,833][Taipy][INFO] job JOB_task_train_7e429130-e5f3-4c31-b635-54b9f2aa14dc is completed.\n",
      "[2022-09-07 10:12:33,926][Taipy][INFO] job JOB_task_forecast_579a5bae-9fc0-4841-ac62-dee1be1dfd14 is completed.\n",
      "[2022-09-07 10:12:34,025][Taipy][INFO] job JOB_task_result_7bf8ca84-81bf-4a28-989c-954cb59b547f is completed.\n",
      "[2022-09-07 10:12:34,113][Taipy][INFO] job JOB_task_train_57e0300e-70c2-4488-b641-d4fb7df495fe is completed.\n",
      "[2022-09-07 10:12:34,206][Taipy][INFO] job JOB_task_forecast_a0b431a7-61b2-444c-b621-7ba13ab3b975 is completed.\n",
      "[2022-09-07 10:12:34,321][Taipy][INFO] job JOB_task_result_d92e4414-ada4-4764-896d-25fc02d1e00e is completed.\n"
     ]
    },
    {
     "data": {
      "text/html": [
       "<div>\n",
       "<style scoped>\n",
       "    .dataframe tbody tr th:only-of-type {\n",
       "        vertical-align: middle;\n",
       "    }\n",
       "\n",
       "    .dataframe tbody tr th {\n",
       "        vertical-align: top;\n",
       "    }\n",
       "\n",
       "    .dataframe thead th {\n",
       "        text-align: right;\n",
       "    }\n",
       "</style>\n",
       "<table border=\"1\" class=\"dataframe\">\n",
       "  <thead>\n",
       "    <tr style=\"text-align: right;\">\n",
       "      <th></th>\n",
       "      <th>Date</th>\n",
       "      <th>Deaths</th>\n",
       "      <th>Months</th>\n",
       "      <th>Days</th>\n",
       "      <th>Week</th>\n",
       "      <th>Day of week</th>\n",
       "      <th>Predictions</th>\n",
       "    </tr>\n",
       "  </thead>\n",
       "  <tbody>\n",
       "    <tr>\n",
       "      <th>0</th>\n",
       "      <td>2020-01-22</td>\n",
       "      <td>0.0</td>\n",
       "      <td>1.0</td>\n",
       "      <td>3</td>\n",
       "      <td>4</td>\n",
       "      <td>2.0</td>\n",
       "      <td>NaN</td>\n",
       "    </tr>\n",
       "    <tr>\n",
       "      <th>1</th>\n",
       "      <td>2020-01-23</td>\n",
       "      <td>0.0</td>\n",
       "      <td>1.0</td>\n",
       "      <td>4</td>\n",
       "      <td>4</td>\n",
       "      <td>3.0</td>\n",
       "      <td>NaN</td>\n",
       "    </tr>\n",
       "    <tr>\n",
       "      <th>2</th>\n",
       "      <td>2020-01-24</td>\n",
       "      <td>0.0</td>\n",
       "      <td>1.0</td>\n",
       "      <td>5</td>\n",
       "      <td>4</td>\n",
       "      <td>4.0</td>\n",
       "      <td>NaN</td>\n",
       "    </tr>\n",
       "    <tr>\n",
       "      <th>3</th>\n",
       "      <td>2020-01-25</td>\n",
       "      <td>0.0</td>\n",
       "      <td>1.0</td>\n",
       "      <td>6</td>\n",
       "      <td>4</td>\n",
       "      <td>5.0</td>\n",
       "      <td>NaN</td>\n",
       "    </tr>\n",
       "    <tr>\n",
       "      <th>4</th>\n",
       "      <td>2020-01-26</td>\n",
       "      <td>0.0</td>\n",
       "      <td>1.0</td>\n",
       "      <td>7</td>\n",
       "      <td>4</td>\n",
       "      <td>6.0</td>\n",
       "      <td>NaN</td>\n",
       "    </tr>\n",
       "    <tr>\n",
       "      <th>...</th>\n",
       "      <td>...</td>\n",
       "      <td>...</td>\n",
       "      <td>...</td>\n",
       "      <td>...</td>\n",
       "      <td>...</td>\n",
       "      <td>...</td>\n",
       "      <td>...</td>\n",
       "    </tr>\n",
       "    <tr>\n",
       "      <th>400</th>\n",
       "      <td>NaT</td>\n",
       "      <td>NaN</td>\n",
       "      <td>NaN</td>\n",
       "      <td>&lt;NA&gt;</td>\n",
       "      <td>&lt;NA&gt;</td>\n",
       "      <td>NaN</td>\n",
       "      <td>260009.944416</td>\n",
       "    </tr>\n",
       "    <tr>\n",
       "      <th>401</th>\n",
       "      <td>NaT</td>\n",
       "      <td>NaN</td>\n",
       "      <td>NaN</td>\n",
       "      <td>&lt;NA&gt;</td>\n",
       "      <td>&lt;NA&gt;</td>\n",
       "      <td>NaN</td>\n",
       "      <td>260835.572919</td>\n",
       "    </tr>\n",
       "    <tr>\n",
       "      <th>402</th>\n",
       "      <td>NaT</td>\n",
       "      <td>NaN</td>\n",
       "      <td>NaN</td>\n",
       "      <td>&lt;NA&gt;</td>\n",
       "      <td>&lt;NA&gt;</td>\n",
       "      <td>NaN</td>\n",
       "      <td>261661.203059</td>\n",
       "    </tr>\n",
       "    <tr>\n",
       "      <th>403</th>\n",
       "      <td>NaT</td>\n",
       "      <td>NaN</td>\n",
       "      <td>NaN</td>\n",
       "      <td>&lt;NA&gt;</td>\n",
       "      <td>&lt;NA&gt;</td>\n",
       "      <td>NaN</td>\n",
       "      <td>262486.834575</td>\n",
       "    </tr>\n",
       "    <tr>\n",
       "      <th>404</th>\n",
       "      <td>NaT</td>\n",
       "      <td>NaN</td>\n",
       "      <td>NaN</td>\n",
       "      <td>&lt;NA&gt;</td>\n",
       "      <td>&lt;NA&gt;</td>\n",
       "      <td>NaN</td>\n",
       "      <td>263312.467247</td>\n",
       "    </tr>\n",
       "  </tbody>\n",
       "</table>\n",
       "<p>405 rows × 7 columns</p>\n",
       "</div>"
      ],
      "text/plain": [
       "          Date  Deaths  Months  Days  Week  Day of week    Predictions\n",
       "0   2020-01-22     0.0     1.0     3     4          2.0            NaN\n",
       "1   2020-01-23     0.0     1.0     4     4          3.0            NaN\n",
       "2   2020-01-24     0.0     1.0     5     4          4.0            NaN\n",
       "3   2020-01-25     0.0     1.0     6     4          5.0            NaN\n",
       "4   2020-01-26     0.0     1.0     7     4          6.0            NaN\n",
       "..         ...     ...     ...   ...   ...          ...            ...\n",
       "400        NaT     NaN     NaN  <NA>  <NA>          NaN  260009.944416\n",
       "401        NaT     NaN     NaN  <NA>  <NA>          NaN  260835.572919\n",
       "402        NaT     NaN     NaN  <NA>  <NA>          NaN  261661.203059\n",
       "403        NaT     NaN     NaN  <NA>  <NA>          NaN  262486.834575\n",
       "404        NaT     NaN     NaN  <NA>  <NA>          NaN  263312.467247\n",
       "\n",
       "[405 rows x 7 columns]"
      ]
     },
     "execution_count": 51,
     "metadata": {},
     "output_type": "execute_result"
    }
   ],
   "source": [
    "scenario.country.write('US')\n",
    "tp.submit(scenario)\n",
    "scenario.result.read()"
   ]
  },
  {
   "cell_type": "markdown",
   "id": "9d9d2c81",
   "metadata": {
    "id": "9d9d2c81"
   },
   "source": [
    "## Simple framework"
   ]
  },
  {
   "cell_type": "code",
   "execution_count": 52,
   "id": "4892eb7d",
   "metadata": {
    "id": "4892eb7d"
   },
   "outputs": [
    {
     "name": "stderr",
     "output_type": "stream",
     "text": [
      "C:\\Users\\jacta\\AppData\\Local\\R-MINI~1\\envs\\notebook\\lib\\site-packages\\taipy\\core\\data\\csv.py:145: DtypeWarning: Columns (0,1) have mixed types. Specify dtype option on import or set low_memory=False.\n",
      "  return pd.read_csv(self._path)\n"
     ]
    },
    {
     "name": "stdout",
     "output_type": "stream",
     "text": [
      "[2022-09-07 10:12:35,915][Taipy][INFO] job JOB_task_preprocess_data_a1a4729d-d593-4711-bef1-072712cb880c is completed.\n",
      "Performing stepwise search to minimize aic\n",
      " ARIMA(1,1,1)(0,0,0)[0] intercept   : AIC=3403.257, Time=0.20 sec\n",
      " ARIMA(0,1,0)(0,0,0)[0] intercept   : AIC=3834.545, Time=0.01 sec\n",
      " ARIMA(1,1,0)(0,0,0)[0] intercept   : AIC=3555.070, Time=0.02 sec\n",
      " ARIMA(0,1,1)(0,0,0)[0] intercept   : AIC=3711.502, Time=0.06 sec\n",
      " ARIMA(0,1,0)(0,0,0)[0]             : AIC=3992.428, Time=0.01 sec\n",
      " ARIMA(2,1,1)(0,0,0)[0] intercept   : AIC=3395.911, Time=0.22 sec\n",
      " ARIMA(2,1,0)(0,0,0)[0] intercept   : AIC=3469.260, Time=0.03 sec\n",
      " ARIMA(3,1,1)(0,0,0)[0] intercept   : AIC=3398.025, Time=0.35 sec\n",
      " ARIMA(2,1,2)(0,0,0)[0] intercept   : AIC=3395.437, Time=0.34 sec\n",
      " ARIMA(1,1,2)(0,0,0)[0] intercept   : AIC=3395.219, Time=0.28 sec\n",
      " ARIMA(0,1,2)(0,0,0)[0] intercept   : AIC=3639.930, Time=0.11 sec\n",
      " ARIMA(1,1,3)(0,0,0)[0] intercept   : AIC=3397.038, Time=0.35 sec\n",
      " ARIMA(0,1,3)(0,0,0)[0] intercept   : AIC=3595.496, Time=0.13 sec\n",
      " ARIMA(2,1,3)(0,0,0)[0] intercept   : AIC=inf, Time=0.34 sec\n",
      " ARIMA(1,1,2)(0,0,0)[0]             : AIC=3394.362, Time=0.10 sec\n",
      " ARIMA(0,1,2)(0,0,0)[0]             : AIC=3726.468, Time=0.07 sec\n",
      " ARIMA(1,1,1)(0,0,0)[0]             : AIC=3402.072, Time=0.08 sec\n",
      " ARIMA(2,1,2)(0,0,0)[0]             : AIC=inf, Time=0.25 sec\n",
      " ARIMA(1,1,3)(0,0,0)[0]             : AIC=3396.195, Time=0.19 sec\n",
      " ARIMA(0,1,1)(0,0,0)[0]             : AIC=3820.542, Time=0.04 sec\n",
      " ARIMA(0,1,3)(0,0,0)[0]             : AIC=3665.462, Time=0.11 sec\n",
      " ARIMA(2,1,1)(0,0,0)[0]             : AIC=3394.738, Time=0.13 sec\n",
      " ARIMA(2,1,3)(0,0,0)[0]             : AIC=3396.760, Time=0.20 sec\n",
      "\n",
      "Best model:  ARIMA(1,1,2)(0,0,0)[0]          \n",
      "Total fit time: 3.620 seconds\n",
      "[2022-09-07 10:12:39,740][Taipy][INFO] job JOB_task_train_c67c5853-f74e-48bb-9ede-aa6aeef5bc93 is completed.\n",
      "[2022-09-07 10:12:39,840][Taipy][INFO] job JOB_task_forecast_4cbb14d4-2c3d-4d36-99bb-203d4e6b62a2 is completed.\n",
      "[2022-09-07 10:12:39,947][Taipy][INFO] job JOB_task_result_955c8ad3-2a0d-4de1-ab41-1d99b6885978 is completed.\n",
      "[2022-09-07 10:12:40,039][Taipy][INFO] job JOB_task_train_a3827eb3-f623-425e-a2a6-e196b92f079c is completed.\n",
      "[2022-09-07 10:12:40,138][Taipy][INFO] job JOB_task_forecast_c090d21b-ad1c-421a-a7d2-b82e67d1401f is completed.\n",
      "[2022-09-07 10:12:40,235][Taipy][INFO] job JOB_task_result_b10278b4-0199-434c-921e-70e79fd5f1d3 is completed.\n"
     ]
    }
   ],
   "source": [
    "scenario = tp.create_scenario(scenario_cfg, name='Second Scenario')\n",
    "tp.submit(scenario)"
   ]
  },
  {
   "cell_type": "code",
   "execution_count": 53,
   "id": "3b7c15c8",
   "metadata": {
    "id": "a9248942"
   },
   "outputs": [
    {
     "data": {
      "text/html": [
       "<style>#sk-container-id-1 {color: black;background-color: white;}#sk-container-id-1 pre{padding: 0;}#sk-container-id-1 div.sk-toggleable {background-color: white;}#sk-container-id-1 label.sk-toggleable__label {cursor: pointer;display: block;width: 100%;margin-bottom: 0;padding: 0.3em;box-sizing: border-box;text-align: center;}#sk-container-id-1 label.sk-toggleable__label-arrow:before {content: \"▸\";float: left;margin-right: 0.25em;color: #696969;}#sk-container-id-1 label.sk-toggleable__label-arrow:hover:before {color: black;}#sk-container-id-1 div.sk-estimator:hover label.sk-toggleable__label-arrow:before {color: black;}#sk-container-id-1 div.sk-toggleable__content {max-height: 0;max-width: 0;overflow: hidden;text-align: left;background-color: #f0f8ff;}#sk-container-id-1 div.sk-toggleable__content pre {margin: 0.2em;color: black;border-radius: 0.25em;background-color: #f0f8ff;}#sk-container-id-1 input.sk-toggleable__control:checked~div.sk-toggleable__content {max-height: 200px;max-width: 100%;overflow: auto;}#sk-container-id-1 input.sk-toggleable__control:checked~label.sk-toggleable__label-arrow:before {content: \"▾\";}#sk-container-id-1 div.sk-estimator input.sk-toggleable__control:checked~label.sk-toggleable__label {background-color: #d4ebff;}#sk-container-id-1 div.sk-label input.sk-toggleable__control:checked~label.sk-toggleable__label {background-color: #d4ebff;}#sk-container-id-1 input.sk-hidden--visually {border: 0;clip: rect(1px 1px 1px 1px);clip: rect(1px, 1px, 1px, 1px);height: 1px;margin: -1px;overflow: hidden;padding: 0;position: absolute;width: 1px;}#sk-container-id-1 div.sk-estimator {font-family: monospace;background-color: #f0f8ff;border: 1px dotted black;border-radius: 0.25em;box-sizing: border-box;margin-bottom: 0.5em;}#sk-container-id-1 div.sk-estimator:hover {background-color: #d4ebff;}#sk-container-id-1 div.sk-parallel-item::after {content: \"\";width: 100%;border-bottom: 1px solid gray;flex-grow: 1;}#sk-container-id-1 div.sk-label:hover label.sk-toggleable__label {background-color: #d4ebff;}#sk-container-id-1 div.sk-serial::before {content: \"\";position: absolute;border-left: 1px solid gray;box-sizing: border-box;top: 0;bottom: 0;left: 50%;z-index: 0;}#sk-container-id-1 div.sk-serial {display: flex;flex-direction: column;align-items: center;background-color: white;padding-right: 0.2em;padding-left: 0.2em;position: relative;}#sk-container-id-1 div.sk-item {position: relative;z-index: 1;}#sk-container-id-1 div.sk-parallel {display: flex;align-items: stretch;justify-content: center;background-color: white;position: relative;}#sk-container-id-1 div.sk-item::before, #sk-container-id-1 div.sk-parallel-item::before {content: \"\";position: absolute;border-left: 1px solid gray;box-sizing: border-box;top: 0;bottom: 0;left: 50%;z-index: -1;}#sk-container-id-1 div.sk-parallel-item {display: flex;flex-direction: column;z-index: 1;position: relative;background-color: white;}#sk-container-id-1 div.sk-parallel-item:first-child::after {align-self: flex-end;width: 50%;}#sk-container-id-1 div.sk-parallel-item:last-child::after {align-self: flex-start;width: 50%;}#sk-container-id-1 div.sk-parallel-item:only-child::after {width: 0;}#sk-container-id-1 div.sk-dashed-wrapped {border: 1px dashed gray;margin: 0 0.4em 0.5em 0.4em;box-sizing: border-box;padding-bottom: 0.4em;background-color: white;}#sk-container-id-1 div.sk-label label {font-family: monospace;font-weight: bold;display: inline-block;line-height: 1.2em;}#sk-container-id-1 div.sk-label-container {text-align: center;}#sk-container-id-1 div.sk-container {/* jupyter's `normalize.less` sets `[hidden] { display: none; }` but bootstrap.min.css set `[hidden] { display: none !important; }` so we also need the `!important` here to be able to override the default hidden behavior on the sphinx rendered scikit-learn.org. See: https://github.com/scikit-learn/scikit-learn/issues/21755 */display: inline-block !important;position: relative;}#sk-container-id-1 div.sk-text-repr-fallback {display: none;}</style><div id=\"sk-container-id-1\" class=\"sk-top-container\"><div class=\"sk-text-repr-fallback\"><pre> ARIMA(1,1,2)(0,0,0)[0]          </pre><b>In a Jupyter environment, please rerun this cell to show the HTML representation or trust the notebook. <br />On GitHub, the HTML representation is unable to render, please try loading this page with nbviewer.org.</b></div><div class=\"sk-container\" hidden><div class=\"sk-item\"><div class=\"sk-estimator sk-toggleable\"><input class=\"sk-toggleable__control sk-hidden--visually\" id=\"sk-estimator-id-1\" type=\"checkbox\" checked><label for=\"sk-estimator-id-1\" class=\"sk-toggleable__label sk-toggleable__label-arrow\">ARIMA</label><div class=\"sk-toggleable__content\"><pre> ARIMA(1,1,2)(0,0,0)[0]          </pre></div></div></div></div></div>"
      ],
      "text/plain": [
       "ARIMA(order=(1, 1, 2), scoring_args={}, suppress_warnings=True,\n",
       "      with_intercept=False)"
      ]
     },
     "execution_count": 53,
     "metadata": {},
     "output_type": "execute_result"
    }
   ],
   "source": [
    "scenario.pipelines['ARIMA'].model.read()"
   ]
  },
  {
   "cell_type": "code",
   "execution_count": 54,
   "id": "89d5d002",
   "metadata": {},
   "outputs": [
    {
     "data": {
      "text/html": [
       "<style>#sk-container-id-2 {color: black;background-color: white;}#sk-container-id-2 pre{padding: 0;}#sk-container-id-2 div.sk-toggleable {background-color: white;}#sk-container-id-2 label.sk-toggleable__label {cursor: pointer;display: block;width: 100%;margin-bottom: 0;padding: 0.3em;box-sizing: border-box;text-align: center;}#sk-container-id-2 label.sk-toggleable__label-arrow:before {content: \"▸\";float: left;margin-right: 0.25em;color: #696969;}#sk-container-id-2 label.sk-toggleable__label-arrow:hover:before {color: black;}#sk-container-id-2 div.sk-estimator:hover label.sk-toggleable__label-arrow:before {color: black;}#sk-container-id-2 div.sk-toggleable__content {max-height: 0;max-width: 0;overflow: hidden;text-align: left;background-color: #f0f8ff;}#sk-container-id-2 div.sk-toggleable__content pre {margin: 0.2em;color: black;border-radius: 0.25em;background-color: #f0f8ff;}#sk-container-id-2 input.sk-toggleable__control:checked~div.sk-toggleable__content {max-height: 200px;max-width: 100%;overflow: auto;}#sk-container-id-2 input.sk-toggleable__control:checked~label.sk-toggleable__label-arrow:before {content: \"▾\";}#sk-container-id-2 div.sk-estimator input.sk-toggleable__control:checked~label.sk-toggleable__label {background-color: #d4ebff;}#sk-container-id-2 div.sk-label input.sk-toggleable__control:checked~label.sk-toggleable__label {background-color: #d4ebff;}#sk-container-id-2 input.sk-hidden--visually {border: 0;clip: rect(1px 1px 1px 1px);clip: rect(1px, 1px, 1px, 1px);height: 1px;margin: -1px;overflow: hidden;padding: 0;position: absolute;width: 1px;}#sk-container-id-2 div.sk-estimator {font-family: monospace;background-color: #f0f8ff;border: 1px dotted black;border-radius: 0.25em;box-sizing: border-box;margin-bottom: 0.5em;}#sk-container-id-2 div.sk-estimator:hover {background-color: #d4ebff;}#sk-container-id-2 div.sk-parallel-item::after {content: \"\";width: 100%;border-bottom: 1px solid gray;flex-grow: 1;}#sk-container-id-2 div.sk-label:hover label.sk-toggleable__label {background-color: #d4ebff;}#sk-container-id-2 div.sk-serial::before {content: \"\";position: absolute;border-left: 1px solid gray;box-sizing: border-box;top: 0;bottom: 0;left: 50%;z-index: 0;}#sk-container-id-2 div.sk-serial {display: flex;flex-direction: column;align-items: center;background-color: white;padding-right: 0.2em;padding-left: 0.2em;position: relative;}#sk-container-id-2 div.sk-item {position: relative;z-index: 1;}#sk-container-id-2 div.sk-parallel {display: flex;align-items: stretch;justify-content: center;background-color: white;position: relative;}#sk-container-id-2 div.sk-item::before, #sk-container-id-2 div.sk-parallel-item::before {content: \"\";position: absolute;border-left: 1px solid gray;box-sizing: border-box;top: 0;bottom: 0;left: 50%;z-index: -1;}#sk-container-id-2 div.sk-parallel-item {display: flex;flex-direction: column;z-index: 1;position: relative;background-color: white;}#sk-container-id-2 div.sk-parallel-item:first-child::after {align-self: flex-end;width: 50%;}#sk-container-id-2 div.sk-parallel-item:last-child::after {align-self: flex-start;width: 50%;}#sk-container-id-2 div.sk-parallel-item:only-child::after {width: 0;}#sk-container-id-2 div.sk-dashed-wrapped {border: 1px dashed gray;margin: 0 0.4em 0.5em 0.4em;box-sizing: border-box;padding-bottom: 0.4em;background-color: white;}#sk-container-id-2 div.sk-label label {font-family: monospace;font-weight: bold;display: inline-block;line-height: 1.2em;}#sk-container-id-2 div.sk-label-container {text-align: center;}#sk-container-id-2 div.sk-container {/* jupyter's `normalize.less` sets `[hidden] { display: none; }` but bootstrap.min.css set `[hidden] { display: none !important; }` so we also need the `!important` here to be able to override the default hidden behavior on the sphinx rendered scikit-learn.org. See: https://github.com/scikit-learn/scikit-learn/issues/21755 */display: inline-block !important;position: relative;}#sk-container-id-2 div.sk-text-repr-fallback {display: none;}</style><div id=\"sk-container-id-2\" class=\"sk-top-container\"><div class=\"sk-text-repr-fallback\"><pre>LinearRegression()</pre><b>In a Jupyter environment, please rerun this cell to show the HTML representation or trust the notebook. <br />On GitHub, the HTML representation is unable to render, please try loading this page with nbviewer.org.</b></div><div class=\"sk-container\" hidden><div class=\"sk-item\"><div class=\"sk-estimator sk-toggleable\"><input class=\"sk-toggleable__control sk-hidden--visually\" id=\"sk-estimator-id-2\" type=\"checkbox\" checked><label for=\"sk-estimator-id-2\" class=\"sk-toggleable__label sk-toggleable__label-arrow\">LinearRegression</label><div class=\"sk-toggleable__content\"><pre>LinearRegression()</pre></div></div></div></div></div>"
      ],
      "text/plain": [
       "LinearRegression()"
      ]
     },
     "execution_count": 54,
     "metadata": {},
     "output_type": "execute_result"
    }
   ],
   "source": [
    "scenario.pipelines['LinearRegression'].model.read()"
   ]
  },
  {
   "cell_type": "code",
   "execution_count": 63,
   "id": "daf87c40",
   "metadata": {},
   "outputs": [
    {
     "data": {
      "text/plain": [
       "['US',\n",
       " 'India',\n",
       " 'India',\n",
       " 'India',\n",
       " 'US',\n",
       " 'India',\n",
       " 'US',\n",
       " 'India',\n",
       " 'India',\n",
       " 'France',\n",
       " 'India',\n",
       " 'India',\n",
       " 'India',\n",
       " 'India',\n",
       " 'US']"
      ]
     },
     "execution_count": 63,
     "metadata": {},
     "output_type": "execute_result"
    }
   ],
   "source": [
    "[s.country.read() for s in tp.get_scenarios()]"
   ]
  },
  {
   "cell_type": "code",
   "execution_count": 64,
   "id": "b3181b24",
   "metadata": {},
   "outputs": [
    {
     "data": {
      "text/plain": [
       "[datetime.datetime(2020, 10, 10, 0, 0),\n",
       " datetime.datetime(2020, 10, 10, 0, 0),\n",
       " datetime.datetime(2020, 10, 10, 0, 0),\n",
       " datetime.datetime(2020, 10, 10, 0, 0),\n",
       " datetime.datetime(2020, 10, 10, 0, 0),\n",
       " datetime.datetime(2020, 10, 10, 0, 0),\n",
       " datetime.datetime(2020, 10, 10, 0, 0),\n",
       " datetime.datetime(2020, 10, 10, 0, 0),\n",
       " datetime.datetime(2020, 10, 10, 0, 0),\n",
       " datetime.datetime(2020, 10, 7, 22, 0),\n",
       " datetime.datetime(2020, 10, 10, 0, 0),\n",
       " datetime.datetime(2020, 10, 10, 0, 0),\n",
       " datetime.datetime(2020, 10, 10, 0, 0),\n",
       " datetime.datetime(2020, 10, 10, 0, 0),\n",
       " datetime.datetime(2020, 10, 10, 0, 0)]"
      ]
     },
     "execution_count": 64,
     "metadata": {},
     "output_type": "execute_result"
    }
   ],
   "source": [
    "[s.date.read() for s in tp.get_scenarios()]"
   ]
  },
  {
   "cell_type": "markdown",
   "id": "73fd648f",
   "metadata": {
    "id": "73fd648f"
   },
   "source": [
    "## Create a Gui for the backend\n",
    "_scenario_selector_ lets you choose a scenario and display its results."
   ]
  },
  {
   "cell_type": "code",
   "execution_count": 55,
   "id": "760f1a04",
   "metadata": {
    "id": "760f1a04",
    "outputId": "447fe599-faf2-47d9-d3f8-2f3e2297642a"
   },
   "outputs": [
    {
     "name": "stdout",
     "output_type": "stream",
     "text": [
      "[('SCENARIO_scenario_20b7f75a-da49-428e-a3e5-ab6ea5b92a72', 'First Scenario'), ('SCENARIO_scenario_38269550-90d5-4e1e-aa70-10ae9041c0c1', 'Second Scenario'), ('SCENARIO_scenario_53bdf49c-8964-4171-b52c-7748a231d80a', 'Second Scenario'), ('SCENARIO_scenario_65506d05-1340-4640-94cb-8f4877a54b1c', 'First Scenario'), ('SCENARIO_scenario_6e3297e7-854d-4607-9cb1-3de7d4d197ff', 'First Scenario'), ('SCENARIO_scenario_9350d701-2e4e-479b-977d-5c691dc24f56', 'First Scenario'), ('SCENARIO_scenario_a1d51ce3-d750-4131-8a5e-7ac7874b9658', 'First Scenario'), ('SCENARIO_scenario_a9f2492c-b2cf-44a4-85b7-d1b2338d5e95', 'First Scenario'), ('SCENARIO_scenario_b2397ef8-943c-43f0-acf9-527f4e67f4d8', 'First Scenario'), ('SCENARIO_scenario_bb822332-aaa0-47b2-b74a-971c00fa4724', 'tetete'), ('SCENARIO_scenario_bf17b85d-3608-421a-b382-5dc87c47d987', 'First Scenario'), ('SCENARIO_scenario_d55d307c-40b2-4a97-abfb-57284016f51b', 'Second Scenario'), ('SCENARIO_scenario_d973501f-4c77-40b0-abdd-f6a47b975c7c', 'Second Scenario'), ('SCENARIO_scenario_e572c6c2-dbd3-4ca5-bef6-7980ab8d99d2', 'First Scenario'), ('SCENARIO_scenario_fd03137b-1fef-403a-a5f8-4f6c5fda2866', 'First Scenario')] \n",
      " SCENARIO_scenario_38269550-90d5-4e1e-aa70-10ae9041c0c1\n"
     ]
    }
   ],
   "source": [
    "scenario_selector = [(s.id, s.name) for s in tp.get_scenarios()]\n",
    "selected_scenario = scenario.id\n",
    "print(scenario_selector,'\\n', selected_scenario)"
   ]
  },
  {
   "cell_type": "code",
   "execution_count": 56,
   "id": "b590bdcc",
   "metadata": {
    "id": "b590bdcc",
    "outputId": "5747bb81-4c48-45ad-8457-f36fa783cff5"
   },
   "outputs": [
    {
     "data": {
      "text/html": [
       "<div>\n",
       "<style scoped>\n",
       "    .dataframe tbody tr th:only-of-type {\n",
       "        vertical-align: middle;\n",
       "    }\n",
       "\n",
       "    .dataframe tbody tr th {\n",
       "        vertical-align: top;\n",
       "    }\n",
       "\n",
       "    .dataframe thead th {\n",
       "        text-align: right;\n",
       "    }\n",
       "</style>\n",
       "<table border=\"1\" class=\"dataframe\">\n",
       "  <thead>\n",
       "    <tr style=\"text-align: right;\">\n",
       "      <th></th>\n",
       "      <th>Date</th>\n",
       "      <th>Deaths_x</th>\n",
       "      <th>Months_x</th>\n",
       "      <th>Days_x</th>\n",
       "      <th>Week_x</th>\n",
       "      <th>Day of week_x</th>\n",
       "      <th>Predictions_x</th>\n",
       "      <th>Deaths_y</th>\n",
       "      <th>Months_y</th>\n",
       "      <th>Days_y</th>\n",
       "      <th>Week_y</th>\n",
       "      <th>Day of week_y</th>\n",
       "      <th>Predictions_y</th>\n",
       "    </tr>\n",
       "  </thead>\n",
       "  <tbody>\n",
       "    <tr>\n",
       "      <th>0</th>\n",
       "      <td>2020-01-30</td>\n",
       "      <td>0.0</td>\n",
       "      <td>1.0</td>\n",
       "      <td>4</td>\n",
       "      <td>5</td>\n",
       "      <td>3.0</td>\n",
       "      <td>NaN</td>\n",
       "      <td>0.0</td>\n",
       "      <td>1.0</td>\n",
       "      <td>4</td>\n",
       "      <td>5</td>\n",
       "      <td>3.0</td>\n",
       "      <td>NaN</td>\n",
       "    </tr>\n",
       "    <tr>\n",
       "      <th>1</th>\n",
       "      <td>2020-01-31</td>\n",
       "      <td>0.0</td>\n",
       "      <td>1.0</td>\n",
       "      <td>5</td>\n",
       "      <td>5</td>\n",
       "      <td>4.0</td>\n",
       "      <td>NaN</td>\n",
       "      <td>0.0</td>\n",
       "      <td>1.0</td>\n",
       "      <td>5</td>\n",
       "      <td>5</td>\n",
       "      <td>4.0</td>\n",
       "      <td>NaN</td>\n",
       "    </tr>\n",
       "    <tr>\n",
       "      <th>2</th>\n",
       "      <td>2020-02-01</td>\n",
       "      <td>0.0</td>\n",
       "      <td>2.0</td>\n",
       "      <td>6</td>\n",
       "      <td>5</td>\n",
       "      <td>5.0</td>\n",
       "      <td>NaN</td>\n",
       "      <td>0.0</td>\n",
       "      <td>2.0</td>\n",
       "      <td>6</td>\n",
       "      <td>5</td>\n",
       "      <td>5.0</td>\n",
       "      <td>NaN</td>\n",
       "    </tr>\n",
       "    <tr>\n",
       "      <th>3</th>\n",
       "      <td>2020-02-02</td>\n",
       "      <td>0.0</td>\n",
       "      <td>2.0</td>\n",
       "      <td>7</td>\n",
       "      <td>5</td>\n",
       "      <td>6.0</td>\n",
       "      <td>NaN</td>\n",
       "      <td>0.0</td>\n",
       "      <td>2.0</td>\n",
       "      <td>7</td>\n",
       "      <td>5</td>\n",
       "      <td>6.0</td>\n",
       "      <td>NaN</td>\n",
       "    </tr>\n",
       "    <tr>\n",
       "      <th>4</th>\n",
       "      <td>2020-02-03</td>\n",
       "      <td>0.0</td>\n",
       "      <td>2.0</td>\n",
       "      <td>1</td>\n",
       "      <td>6</td>\n",
       "      <td>0.0</td>\n",
       "      <td>NaN</td>\n",
       "      <td>0.0</td>\n",
       "      <td>2.0</td>\n",
       "      <td>1</td>\n",
       "      <td>6</td>\n",
       "      <td>0.0</td>\n",
       "      <td>NaN</td>\n",
       "    </tr>\n",
       "    <tr>\n",
       "      <th>...</th>\n",
       "      <td>...</td>\n",
       "      <td>...</td>\n",
       "      <td>...</td>\n",
       "      <td>...</td>\n",
       "      <td>...</td>\n",
       "      <td>...</td>\n",
       "      <td>...</td>\n",
       "      <td>...</td>\n",
       "      <td>...</td>\n",
       "      <td>...</td>\n",
       "      <td>...</td>\n",
       "      <td>...</td>\n",
       "      <td>...</td>\n",
       "    </tr>\n",
       "    <tr>\n",
       "      <th>392</th>\n",
       "      <td>NaT</td>\n",
       "      <td>NaN</td>\n",
       "      <td>NaN</td>\n",
       "      <td>&lt;NA&gt;</td>\n",
       "      <td>&lt;NA&gt;</td>\n",
       "      <td>NaN</td>\n",
       "      <td>NaN</td>\n",
       "      <td>NaN</td>\n",
       "      <td>NaN</td>\n",
       "      <td>&lt;NA&gt;</td>\n",
       "      <td>&lt;NA&gt;</td>\n",
       "      <td>NaN</td>\n",
       "      <td>162361.801407</td>\n",
       "    </tr>\n",
       "    <tr>\n",
       "      <th>393</th>\n",
       "      <td>NaT</td>\n",
       "      <td>NaN</td>\n",
       "      <td>NaN</td>\n",
       "      <td>&lt;NA&gt;</td>\n",
       "      <td>&lt;NA&gt;</td>\n",
       "      <td>NaN</td>\n",
       "      <td>NaN</td>\n",
       "      <td>NaN</td>\n",
       "      <td>NaN</td>\n",
       "      <td>&lt;NA&gt;</td>\n",
       "      <td>&lt;NA&gt;</td>\n",
       "      <td>NaN</td>\n",
       "      <td>163325.528460</td>\n",
       "    </tr>\n",
       "    <tr>\n",
       "      <th>394</th>\n",
       "      <td>NaT</td>\n",
       "      <td>NaN</td>\n",
       "      <td>NaN</td>\n",
       "      <td>&lt;NA&gt;</td>\n",
       "      <td>&lt;NA&gt;</td>\n",
       "      <td>NaN</td>\n",
       "      <td>NaN</td>\n",
       "      <td>NaN</td>\n",
       "      <td>NaN</td>\n",
       "      <td>&lt;NA&gt;</td>\n",
       "      <td>&lt;NA&gt;</td>\n",
       "      <td>NaN</td>\n",
       "      <td>164289.227273</td>\n",
       "    </tr>\n",
       "    <tr>\n",
       "      <th>395</th>\n",
       "      <td>NaT</td>\n",
       "      <td>NaN</td>\n",
       "      <td>NaN</td>\n",
       "      <td>&lt;NA&gt;</td>\n",
       "      <td>&lt;NA&gt;</td>\n",
       "      <td>NaN</td>\n",
       "      <td>NaN</td>\n",
       "      <td>NaN</td>\n",
       "      <td>NaN</td>\n",
       "      <td>&lt;NA&gt;</td>\n",
       "      <td>&lt;NA&gt;</td>\n",
       "      <td>NaN</td>\n",
       "      <td>165252.897848</td>\n",
       "    </tr>\n",
       "    <tr>\n",
       "      <th>396</th>\n",
       "      <td>NaT</td>\n",
       "      <td>NaN</td>\n",
       "      <td>NaN</td>\n",
       "      <td>&lt;NA&gt;</td>\n",
       "      <td>&lt;NA&gt;</td>\n",
       "      <td>NaN</td>\n",
       "      <td>NaN</td>\n",
       "      <td>NaN</td>\n",
       "      <td>NaN</td>\n",
       "      <td>&lt;NA&gt;</td>\n",
       "      <td>&lt;NA&gt;</td>\n",
       "      <td>NaN</td>\n",
       "      <td>166216.540186</td>\n",
       "    </tr>\n",
       "  </tbody>\n",
       "</table>\n",
       "<p>397 rows × 13 columns</p>\n",
       "</div>"
      ],
      "text/plain": [
       "          Date  Deaths_x  Months_x  Days_x  Week_x  Day of week_x  \\\n",
       "0   2020-01-30       0.0       1.0       4       5            3.0   \n",
       "1   2020-01-31       0.0       1.0       5       5            4.0   \n",
       "2   2020-02-01       0.0       2.0       6       5            5.0   \n",
       "3   2020-02-02       0.0       2.0       7       5            6.0   \n",
       "4   2020-02-03       0.0       2.0       1       6            0.0   \n",
       "..         ...       ...       ...     ...     ...            ...   \n",
       "392        NaT       NaN       NaN    <NA>    <NA>            NaN   \n",
       "393        NaT       NaN       NaN    <NA>    <NA>            NaN   \n",
       "394        NaT       NaN       NaN    <NA>    <NA>            NaN   \n",
       "395        NaT       NaN       NaN    <NA>    <NA>            NaN   \n",
       "396        NaT       NaN       NaN    <NA>    <NA>            NaN   \n",
       "\n",
       "     Predictions_x  Deaths_y  Months_y  Days_y  Week_y  Day of week_y  \\\n",
       "0              NaN       0.0       1.0       4       5            3.0   \n",
       "1              NaN       0.0       1.0       5       5            4.0   \n",
       "2              NaN       0.0       2.0       6       5            5.0   \n",
       "3              NaN       0.0       2.0       7       5            6.0   \n",
       "4              NaN       0.0       2.0       1       6            0.0   \n",
       "..             ...       ...       ...     ...     ...            ...   \n",
       "392            NaN       NaN       NaN    <NA>    <NA>            NaN   \n",
       "393            NaN       NaN       NaN    <NA>    <NA>            NaN   \n",
       "394            NaN       NaN       NaN    <NA>    <NA>            NaN   \n",
       "395            NaN       NaN       NaN    <NA>    <NA>            NaN   \n",
       "396            NaN       NaN       NaN    <NA>    <NA>            NaN   \n",
       "\n",
       "     Predictions_y  \n",
       "0              NaN  \n",
       "1              NaN  \n",
       "2              NaN  \n",
       "3              NaN  \n",
       "4              NaN  \n",
       "..             ...  \n",
       "392  162361.801407  \n",
       "393  163325.528460  \n",
       "394  164289.227273  \n",
       "395  165252.897848  \n",
       "396  166216.540186  \n",
       "\n",
       "[397 rows x 13 columns]"
      ]
     },
     "execution_count": 56,
     "metadata": {},
     "output_type": "execute_result"
    }
   ],
   "source": [
    "result_arima = scenario.pipelines['ARIMA'].result.read()\n",
    "result_rd = scenario.pipelines['LinearRegression'].result.read()\n",
    "result = result_rd.merge(result_arima, on=\"Date\", how=\"outer\").sort_values(by='Date')\n",
    "result"
   ]
  },
  {
   "cell_type": "markdown",
   "id": "53c5cbc8",
   "metadata": {
    "id": "53c5cbc8"
   },
   "source": [
    "**Tips** : the _value_by_id_ property if set to True for a selected will make _selected_scenario_ directly refer to the first element of the tupple (here the id)"
   ]
  },
  {
   "cell_type": "markdown",
   "id": "4d705028",
   "metadata": {
    "id": "4d705028"
   },
   "source": [
    "![](img/predictions.png)"
   ]
  },
  {
   "cell_type": "code",
   "execution_count": 65,
   "id": "ff76ef5f",
   "metadata": {
    "id": "ff76ef5f"
   },
   "outputs": [],
   "source": [
    "prediction_md = \"\"\"\n",
    "<|layout|columns=1 2 5 1 3|\n",
    "<|{scenario_name}|input|label=Name|>\n",
    "\n",
    "<br/>\n",
    "<|Create|button|on_action=create_new_scenario|>\n",
    "\n",
    "Prediction date\n",
    "<|{first_date}|date|>\n",
    "\n",
    "<|{selected_country}|selector|lov={country_lov}|dropdown|on_change=on_change_country|label=Country|>\n",
    "\n",
    "<br/>\n",
    "<|Submit|button|on_action=submit_scenario|>\n",
    "\n",
    "<|{selected_scenario}|selector|lov={scenario_selector}|on_change=actualize_graph|dropdown|value_by_id|label=Scenario|>\n",
    "|>\n",
    "\n",
    "<|{result}|chart|x=Date|y[1]=Deaths_x|type[1]=bar|y[2]=Predictions_x|y[3]=Predictions_y|>\n",
    "\"\"\""
   ]
  },
  {
   "cell_type": "code",
   "execution_count": 66,
   "id": "de9e35b6",
   "metadata": {
    "id": "de9e35b6"
   },
   "outputs": [],
   "source": [
    "def create_new_scenario(state):\n",
    "    scenario = tp.create_scenario(scenario_cfg, name=state.scenario_name)\n",
    "    state.scenario_selector += [(scenario.id, scenario.name)]"
   ]
  },
  {
   "cell_type": "code",
   "execution_count": 67,
   "id": "41f73a34",
   "metadata": {
    "id": "41f73a34"
   },
   "outputs": [],
   "source": [
    "def submit_scenario(state):\n",
    "    # 1) get the selected scenario\n",
    "    # 2) write in country Data Node, the selected country\n",
    "    # 3) submit the scenario\n",
    "    # 4) actualize le graph avec actualize_graph\n",
    "    scenario = tp.get(state.selected_scenario)\n",
    "    scenario.country.write(state.selected_country)\n",
    "    scenario.date.write(state.first_date.replace(tzinfo=None))\n",
    "    tp.submit(scenario)\n",
    "    actualize_graph(state)"
   ]
  },
  {
   "cell_type": "code",
   "execution_count": 68,
   "id": "ef2d2fff",
   "metadata": {
    "id": "ef2d2fff"
   },
   "outputs": [],
   "source": [
    "def actualize_graph(state):\n",
    "    # 1) update the result dataframe\n",
    "    # 2) change selected_country with the predicted country of the scenario\n",
    "    scenario = tp.get(state.selected_scenario)\n",
    "    result_arima = scenario.pipelines['ARIMA'].result.read()\n",
    "    result_rd = scenario.pipelines['LinearRegression'].result.read()\n",
    "    state.result = result_rd.merge(result_arima, on=\"Date\", how=\"outer\").sort_values(by='Date')\n",
    "    state.selected_country = scenario.country.read()"
   ]
  },
  {
   "cell_type": "code",
   "execution_count": 69,
   "id": "b9d18b7f",
   "metadata": {
    "id": "b9d18b7f",
    "outputId": "f0b7e1d3-3a44-4f8d-fccf-95065ae86ea1"
   },
   "outputs": [
    {
     "name": "stdout",
     "output_type": "stream",
     "text": [
      "Gui server has been stopped\n",
      " * Server starting on http://127.0.0.1:5000\n",
      "[2022-09-07 10:17:43,145][Taipy][WARNING] Data node DATANODE_result_d5e4efc9-8e9b-4a77-803f-61acedb907fb is being read but has never been written.\n",
      "[2022-09-07 10:17:43,153][Taipy][WARNING] Data node DATANODE_result_ee597ecf-ef06-468e-b020-280e859f8331 is being read but has never been written.\n"
     ]
    },
    {
     "name": "stderr",
     "output_type": "stream",
     "text": [
      "C:\\Users\\jacta\\AppData\\Local\\R-MINI~1\\envs\\notebook\\lib\\site-packages\\taipy\\gui\\gui.py:442: UserWarning: actualize_graph: callback function raised an exception: 'NoneType' object has no attribute 'merge'\n",
      "  warnings.warn(f\"{on_change or 'on_change'}: callback function raised an exception: {e}\")\n"
     ]
    },
    {
     "name": "stdout",
     "output_type": "stream",
     "text": [
      "Chosen country:  Hong Kong\n"
     ]
    }
   ],
   "source": [
    "Gui(prediction_md).run(dark_mode=False)"
   ]
  },
  {
   "cell_type": "markdown",
   "id": "40a63136",
   "metadata": {
    "id": "40a63136"
   },
   "source": [
    "# Multi-pages and Taipy Rest"
   ]
  },
  {
   "cell_type": "markdown",
   "id": "9b4d3ab8",
   "metadata": {
    "id": "9b4d3ab8"
   },
   "source": [
    "To create a multi-pages app, we only need a dictionary with names as the keys and the Markdowns as the values.\n",
    "\n",
    "The _navbar_ control (<|navbar|>) has a default behaviour. It redirects to the different pages of the app automatically. Other solutions exists."
   ]
  },
  {
   "cell_type": "markdown",
   "id": "77019d17",
   "metadata": {
    "id": "77019d17"
   },
   "source": [
    "![](img/multi_pages.png)"
   ]
  },
  {
   "cell_type": "code",
   "execution_count": 62,
   "id": "b0db7725",
   "metadata": {
    "id": "b0db7725",
    "outputId": "26b9efff-d31d-429a-ca16-a7f07e704605"
   },
   "outputs": [
    {
     "name": "stdout",
     "output_type": "stream",
     "text": [
      " * Server starting on http://127.0.0.1:5006\n"
     ]
    }
   ],
   "source": [
    "navbar_md = \"<center>\\n<|navbar|>\\n</center>\"\n",
    "\n",
    "pages = {\n",
    "    \"Map\":navbar_md+map_md,\n",
    "    \"Country\":navbar_md+final_country_md,\n",
    "    \"Predictions\":navbar_md+prediction_md\n",
    "}\n",
    "\n",
    "rest = tp.Rest()\n",
    "\n",
    "gui_multi_pages = Gui(pages=pages)\n",
    "tp.run(gui_multi_pages, rest, dark_mode=False, port=5006)"
   ]
  }
 ],
 "metadata": {
  "colab": {
   "collapsed_sections": [
    "b4ac0541",
    "6580b5fe",
    "f84e0a88",
    "cd4d0268",
    "f48f94cd",
    "6e528ce2",
    "6ab0529e",
    "b19ed6d7",
    "e9a53d43",
    "1908c988",
    "849d0a97",
    "73ab0ee0",
    "252820b6",
    "27dbc823",
    "986ebad5",
    "d9915978",
    "ba83beac",
    "73fd648f"
   ],
   "name": "Microsoft_workshop-solution_en.ipynb",
   "provenance": []
  },
  "kernelspec": {
   "display_name": "notebook",
   "language": "python",
   "name": "notebook"
  },
  "language_info": {
   "codemirror_mode": {
    "name": "ipython",
    "version": 3
   },
   "file_extension": ".py",
   "mimetype": "text/x-python",
   "name": "python",
   "nbconvert_exporter": "python",
   "pygments_lexer": "ipython3",
   "version": "3.8.0"
  },
  "vscode": {
   "interpreter": {
    "hash": "ba8253bf2265f190ff2d77bc66a586dcdf245e31b6255d2bcabcbf71b1320c9e"
   }
  }
 },
 "nbformat": 4,
 "nbformat_minor": 5
}
