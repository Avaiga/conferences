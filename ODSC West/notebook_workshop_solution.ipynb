{
 "cells": [
  {
   "cell_type": "markdown",
   "id": "306e5793",
   "metadata": {
    "id": "306e5793"
   },
   "source": [
    "# Install Taipy\n",
    "\n",
    "To install Taipy, just `pip install` it."
   ]
  },
  {
   "cell_type": "code",
   "execution_count": 1,
   "id": "c9cd05ba",
   "metadata": {
    "id": "c9cd05ba",
    "outputId": "3b72f1f4-8d12-40dd-cbda-5c85e8b516f8"
   },
   "outputs": [
    {
     "name": "stdout",
     "output_type": "stream",
     "text": [
      "Note: you may need to restart the kernel to use updated packages.\n"
     ]
    }
   ],
   "source": [
    "%pip install taipy -q"
   ]
  },
  {
   "cell_type": "code",
   "execution_count": 2,
   "id": "c870cd8b",
   "metadata": {
    "id": "c870cd8b"
   },
   "outputs": [
    {
     "name": "stdout",
     "output_type": "stream",
     "text": [
      "Note: you may need to restart the kernel to use updated packages.\n"
     ]
    }
   ],
   "source": [
    "%pip install pmdarima -q"
   ]
  },
  {
   "cell_type": "markdown",
   "id": "c42e5ded",
   "metadata": {
    "id": "c42e5ded"
   },
   "source": [
    "# Import the packages"
   ]
  },
  {
   "cell_type": "code",
   "execution_count": 3,
   "id": "d69871ac",
   "metadata": {
    "id": "d69871ac"
   },
   "outputs": [],
   "source": [
    "from taipy.gui import Gui, Markdown, notify\n",
    "from taipy import Config, Scope\n",
    "import taipy as tp\n",
    "\n",
    "import datetime as dt\n",
    "\n",
    "from pmdarima import auto_arima\n",
    "\n",
    "from sklearn.linear_model import LinearRegression\n",
    "\n",
    "import pandas as pd\n",
    "import numpy as np"
   ]
  },
  {
   "cell_type": "markdown",
   "id": "81074375",
   "metadata": {
    "id": "81074375"
   },
   "source": [
    "# Taipy Gui Basics\n",
    "## Markdown Syntax"
   ]
  },
  {
   "cell_type": "markdown",
   "id": "8ad49481",
   "metadata": {
    "id": "8ad49481"
   },
   "source": [
    "Taipy uses the Markdown syntax to display elements. `#` creates a title, `*` puts your text in italics and `**` puts it in bold."
   ]
  },
  {
   "cell_type": "markdown",
   "id": "929a56cf",
   "metadata": {
    "id": "929a56cf"
   },
   "source": [
    "![](img/gui_basic_eng.png)"
   ]
  },
  {
   "cell_type": "code",
   "execution_count": 4,
   "id": "a170a8e5",
   "metadata": {
    "id": "a170a8e5"
   },
   "outputs": [],
   "source": [
    "page_md = \"\"\"\n",
    "# Taipy\n",
    "\n",
    "Test **here** to put some *markdown*\n",
    "\n",
    "Click to access the [doc](https://docs.taipy.io/en/latest/)\n",
    "\"\"\""
   ]
  },
  {
   "cell_type": "code",
   "execution_count": 5,
   "id": "1cf6cf9d",
   "metadata": {
    "id": "1cf6cf9d",
    "outputId": "d69b4a02-2df5-4830-a043-9c2b5a423d0b"
   },
   "outputs": [
    {
     "name": "stdout",
     "output_type": "stream",
     "text": [
      " * Server starting on http://127.0.0.1:5000\n"
     ]
    }
   ],
   "source": [
    "Gui(page_md).run(dark_mode=False, run_browser=False)"
   ]
  },
  {
   "cell_type": "markdown",
   "id": "ea452214",
   "metadata": {
    "id": "ea452214"
   },
   "source": [
    "## Visual elements\n",
    "Create different visual elements. The syntax is always the same for each visual element.  `<|{value}|name_of_visual_element|property_1=value_of_property_1|...|>`\n",
    "- Create a [slider](https://docs.taipy.io/en/latest/manuals/gui/viselements/slider/) `<|{value}|slider|>`\n",
    "\n",
    "- Create a [date](https://docs.taipy.io/en/latest/manuals/gui/viselements/date/) `<|{value}|date|>`\n",
    "\n",
    "- Create a [selector](https://docs.taipy.io/en/latest/manuals/gui/viselements/selector/) `<|{value}|selector|lov={list_of_values}|>`\n"
   ]
  },
  {
   "cell_type": "markdown",
   "id": "68f228f9",
   "metadata": {
    "id": "68f228f9"
   },
   "source": [
    "![](img/control.png)"
   ]
  },
  {
   "cell_type": "code",
   "execution_count": 6,
   "id": "bc42cca4",
   "metadata": {
    "id": "bc42cca4"
   },
   "outputs": [],
   "source": [
    "slider_value = 0\n",
    "date_value = None\n",
    "selected_value = None\n",
    "selector = ['Test 1', 'Test 2', 'Test 3']\n",
    "\n",
    "control_md = \"\"\"\n",
    "## Controls\n",
    "\n",
    "<|{slider_value}|slider|> <|{slider_value}|>\n",
    "\n",
    "<|{date_value}|date|> <|{date_value}|>\n",
    "\n",
    "<|{selected_value}|selector|lov={selector}|> <|{selected_value}|>\n",
    "\"\"\""
   ]
  },
  {
   "cell_type": "code",
   "execution_count": 7,
   "id": "c5bbe9b7-bd0e-41db-9032-f8495b47a856",
   "metadata": {},
   "outputs": [
    {
     "name": "stdout",
     "output_type": "stream",
     "text": [
      "Gui server has been stopped.\n",
      " * Server starting on http://127.0.0.1:5000\n"
     ]
    }
   ],
   "source": [
    "Gui(control_md).run(dark_mode=False, run_browser=False)"
   ]
  },
  {
   "cell_type": "markdown",
   "id": "b4ac0541",
   "metadata": {
    "id": "b4ac0541"
   },
   "source": [
    "## Data Viz\n",
    "\n",
    "A dataset gathering information on the number of deaths, confirmed cases and recovered for different regions is going to be used to create an interactive Dashboard."
   ]
  },
  {
   "cell_type": "code",
   "execution_count": 8,
   "id": "49bd29ff",
   "metadata": {
    "id": "49bd29ff",
    "outputId": "b0900888-a15b-4af2-a97d-f796aa28cc46"
   },
   "outputs": [
    {
     "data": {
      "text/html": [
       "<div>\n",
       "<style scoped>\n",
       "    .dataframe tbody tr th:only-of-type {\n",
       "        vertical-align: middle;\n",
       "    }\n",
       "\n",
       "    .dataframe tbody tr th {\n",
       "        vertical-align: top;\n",
       "    }\n",
       "\n",
       "    .dataframe thead th {\n",
       "        text-align: right;\n",
       "    }\n",
       "</style>\n",
       "<table border=\"1\" class=\"dataframe\">\n",
       "  <thead>\n",
       "    <tr style=\"text-align: right;\">\n",
       "      <th></th>\n",
       "      <th>Country/Region</th>\n",
       "      <th>Province/State</th>\n",
       "      <th>Latitude</th>\n",
       "      <th>Longitude</th>\n",
       "      <th>Confirmed</th>\n",
       "      <th>Recovered</th>\n",
       "      <th>Deaths</th>\n",
       "      <th>Date</th>\n",
       "    </tr>\n",
       "  </thead>\n",
       "  <tbody>\n",
       "    <tr>\n",
       "      <th>1241947</th>\n",
       "      <td>Vietnam</td>\n",
       "      <td>NaN</td>\n",
       "      <td>14.058324</td>\n",
       "      <td>108.277199</td>\n",
       "      <td>1465.0</td>\n",
       "      <td>1325.0</td>\n",
       "      <td>35.0</td>\n",
       "      <td>2020-12-31</td>\n",
       "    </tr>\n",
       "    <tr>\n",
       "      <th>1241948</th>\n",
       "      <td>West Bank and Gaza</td>\n",
       "      <td>NaN</td>\n",
       "      <td>31.952200</td>\n",
       "      <td>35.233200</td>\n",
       "      <td>138004.0</td>\n",
       "      <td>117183.0</td>\n",
       "      <td>1400.0</td>\n",
       "      <td>2020-12-31</td>\n",
       "    </tr>\n",
       "    <tr>\n",
       "      <th>1241949</th>\n",
       "      <td>Yemen</td>\n",
       "      <td>NaN</td>\n",
       "      <td>15.552727</td>\n",
       "      <td>48.516388</td>\n",
       "      <td>2099.0</td>\n",
       "      <td>1394.0</td>\n",
       "      <td>610.0</td>\n",
       "      <td>2020-12-31</td>\n",
       "    </tr>\n",
       "    <tr>\n",
       "      <th>1241950</th>\n",
       "      <td>Zambia</td>\n",
       "      <td>NaN</td>\n",
       "      <td>-13.133897</td>\n",
       "      <td>27.849332</td>\n",
       "      <td>20725.0</td>\n",
       "      <td>18660.0</td>\n",
       "      <td>388.0</td>\n",
       "      <td>2020-12-31</td>\n",
       "    </tr>\n",
       "    <tr>\n",
       "      <th>1241951</th>\n",
       "      <td>Zimbabwe</td>\n",
       "      <td>NaN</td>\n",
       "      <td>-19.015438</td>\n",
       "      <td>29.154857</td>\n",
       "      <td>13867.0</td>\n",
       "      <td>11250.0</td>\n",
       "      <td>363.0</td>\n",
       "      <td>2020-12-31</td>\n",
       "    </tr>\n",
       "  </tbody>\n",
       "</table>\n",
       "</div>"
      ],
      "text/plain": [
       "             Country/Region Province/State   Latitude   Longitude  Confirmed  \\\n",
       "1241947             Vietnam            NaN  14.058324  108.277199     1465.0   \n",
       "1241948  West Bank and Gaza            NaN  31.952200   35.233200   138004.0   \n",
       "1241949               Yemen            NaN  15.552727   48.516388     2099.0   \n",
       "1241950              Zambia            NaN -13.133897   27.849332    20725.0   \n",
       "1241951            Zimbabwe            NaN -19.015438   29.154857    13867.0   \n",
       "\n",
       "         Recovered  Deaths        Date  \n",
       "1241947     1325.0    35.0  2020-12-31  \n",
       "1241948   117183.0  1400.0  2020-12-31  \n",
       "1241949     1394.0   610.0  2020-12-31  \n",
       "1241950    18660.0   388.0  2020-12-31  \n",
       "1241951    11250.0   363.0  2020-12-31  "
      ]
     },
     "execution_count": 8,
     "metadata": {},
     "output_type": "execute_result"
    }
   ],
   "source": [
    "path_to_data = \"data/covid-19-all.csv\"\n",
    "data = pd.read_csv(path_to_data, low_memory=False)\n",
    "data[-5:]"
   ]
  },
  {
   "cell_type": "code",
   "execution_count": 9,
   "id": "18b5bb55",
   "metadata": {
    "id": "18b5bb55"
   },
   "outputs": [],
   "source": [
    "def initialize_case_evolution(data, selected_country='India') -> pd.DataFrame:\n",
    "    # Aggregation of the dataframe per Country/Region\n",
    "    country_date_df = data.groupby([\"Country/Region\",'Date']).sum().reset_index()\n",
    "    \n",
    "    # a country is selected, here India by default\n",
    "    country_date_df = country_date_df.loc[country_date_df['Country/Region']==selected_country]\n",
    "    return country_date_df"
   ]
  },
  {
   "cell_type": "code",
   "execution_count": 10,
   "id": "f5ae821c",
   "metadata": {
    "id": "f5ae821c",
    "outputId": "0ca17075-c088-437a-b6e3-48a798a0bdde"
   },
   "outputs": [
    {
     "name": "stderr",
     "output_type": "stream",
     "text": [
      "C:\\Users\\jacta\\AppData\\Local\\Temp\\ipykernel_31024\\4109659252.py:3: FutureWarning: The default value of numeric_only in DataFrameGroupBy.sum is deprecated. In a future version, numeric_only will default to False. Either specify numeric_only or select only columns which should be valid for the function.\n",
      "  country_date_df = data.groupby([\"Country/Region\",'Date']).sum().reset_index()\n"
     ]
    },
    {
     "data": {
      "text/html": [
       "<div>\n",
       "<style scoped>\n",
       "    .dataframe tbody tr th:only-of-type {\n",
       "        vertical-align: middle;\n",
       "    }\n",
       "\n",
       "    .dataframe tbody tr th {\n",
       "        vertical-align: top;\n",
       "    }\n",
       "\n",
       "    .dataframe thead th {\n",
       "        text-align: right;\n",
       "    }\n",
       "</style>\n",
       "<table border=\"1\" class=\"dataframe\">\n",
       "  <thead>\n",
       "    <tr style=\"text-align: right;\">\n",
       "      <th></th>\n",
       "      <th>Country/Region</th>\n",
       "      <th>Date</th>\n",
       "      <th>Latitude</th>\n",
       "      <th>Longitude</th>\n",
       "      <th>Confirmed</th>\n",
       "      <th>Recovered</th>\n",
       "      <th>Deaths</th>\n",
       "    </tr>\n",
       "  </thead>\n",
       "  <tbody>\n",
       "    <tr>\n",
       "      <th>23021</th>\n",
       "      <td>India</td>\n",
       "      <td>2020-01-30</td>\n",
       "      <td>23.746783</td>\n",
       "      <td>78.96288</td>\n",
       "      <td>1.0</td>\n",
       "      <td>0.0</td>\n",
       "      <td>0.0</td>\n",
       "    </tr>\n",
       "    <tr>\n",
       "      <th>23022</th>\n",
       "      <td>India</td>\n",
       "      <td>2020-01-31</td>\n",
       "      <td>23.746783</td>\n",
       "      <td>78.96288</td>\n",
       "      <td>1.0</td>\n",
       "      <td>0.0</td>\n",
       "      <td>0.0</td>\n",
       "    </tr>\n",
       "    <tr>\n",
       "      <th>23023</th>\n",
       "      <td>India</td>\n",
       "      <td>2020-02-01</td>\n",
       "      <td>23.746783</td>\n",
       "      <td>78.96288</td>\n",
       "      <td>1.0</td>\n",
       "      <td>0.0</td>\n",
       "      <td>0.0</td>\n",
       "    </tr>\n",
       "    <tr>\n",
       "      <th>23024</th>\n",
       "      <td>India</td>\n",
       "      <td>2020-02-02</td>\n",
       "      <td>23.746783</td>\n",
       "      <td>78.96288</td>\n",
       "      <td>2.0</td>\n",
       "      <td>0.0</td>\n",
       "      <td>0.0</td>\n",
       "    </tr>\n",
       "    <tr>\n",
       "      <th>23025</th>\n",
       "      <td>India</td>\n",
       "      <td>2020-02-03</td>\n",
       "      <td>23.746783</td>\n",
       "      <td>78.96288</td>\n",
       "      <td>3.0</td>\n",
       "      <td>0.0</td>\n",
       "      <td>0.0</td>\n",
       "    </tr>\n",
       "  </tbody>\n",
       "</table>\n",
       "</div>"
      ],
      "text/plain": [
       "      Country/Region        Date   Latitude  Longitude  Confirmed  Recovered  \\\n",
       "23021          India  2020-01-30  23.746783   78.96288        1.0        0.0   \n",
       "23022          India  2020-01-31  23.746783   78.96288        1.0        0.0   \n",
       "23023          India  2020-02-01  23.746783   78.96288        1.0        0.0   \n",
       "23024          India  2020-02-02  23.746783   78.96288        2.0        0.0   \n",
       "23025          India  2020-02-03  23.746783   78.96288        3.0        0.0   \n",
       "\n",
       "       Deaths  \n",
       "23021     0.0  \n",
       "23022     0.0  \n",
       "23023     0.0  \n",
       "23024     0.0  \n",
       "23025     0.0  "
      ]
     },
     "execution_count": 10,
     "metadata": {},
     "output_type": "execute_result"
    }
   ],
   "source": [
    "country_date_df = initialize_case_evolution(data)\n",
    "country_date_df.head()"
   ]
  },
  {
   "cell_type": "markdown",
   "id": "d1fd9854",
   "metadata": {
    "id": "d1fd9854"
   },
   "source": [
    "Create a [chart](https://docs.taipy.io/en/latest/manuals/gui/viselements/chart/) showing the evolution of Deaths in France (_Deaths_ for _y_ and _Date_ for _x_). The visual element (chart) has the same syntax as the other ones with specific properties (_x_, _y_, _type_ for example). Here are some [examples of charts](https://docs.taipy.io/en/release-1.1/manuals/gui/viselements/charts/bar/). The _x_ and _y_ porperties only needs the name of the dataframe columns to display."
   ]
  },
  {
   "cell_type": "markdown",
   "id": "bebeb0eb",
   "metadata": {
    "id": "bebeb0eb"
   },
   "source": [
    "![](img/simple_graph.png)"
   ]
  },
  {
   "cell_type": "code",
   "execution_count": 11,
   "id": "baa8dc69",
   "metadata": {
    "id": "baa8dc69"
   },
   "outputs": [],
   "source": [
    "country_md = \"<|{country_date_df}|chart|x=Date|y=Deaths|type=bar|>\""
   ]
  },
  {
   "cell_type": "code",
   "execution_count": 12,
   "id": "dd9f1eec-323d-4818-a57c-2bd0506fb551",
   "metadata": {},
   "outputs": [
    {
     "name": "stdout",
     "output_type": "stream",
     "text": [
      "Gui server has been stopped.\n",
      " * Server starting on http://127.0.0.1:5000\n"
     ]
    }
   ],
   "source": [
    "Gui(country_md).run(dark_mode=False, run_browser=False)"
   ]
  },
  {
   "cell_type": "markdown",
   "id": "6580b5fe",
   "metadata": {
    "id": "6580b5fe"
   },
   "source": [
    "## Add new traces\n",
    "\n",
    "- Add on the graph the number of Confirmed and Recovered cases (_Confirmed_ and _Recovered_) with the number of Deaths\n",
    "- _y_ (and _x_) can be indexed this way to add more traces (`y[1]=`, `y[2]=`, `y[3]=`)."
   ]
  },
  {
   "cell_type": "markdown",
   "id": "baf9d2b6",
   "metadata": {
    "id": "baf9d2b6"
   },
   "source": [
    "![](img/multi_traces.png)"
   ]
  },
  {
   "cell_type": "code",
   "execution_count": 13,
   "id": "242756d9",
   "metadata": {
    "id": "242756d9"
   },
   "outputs": [],
   "source": [
    "country_md = \"<|{country_date_df}|chart|type=bar|x=Date|y[1]=Deaths|y[2]=Recovered|y[3]=Confirmed|>\""
   ]
  },
  {
   "cell_type": "code",
   "execution_count": 14,
   "id": "98482902-22fe-4fb4-81a0-d609ee18bfba",
   "metadata": {},
   "outputs": [
    {
     "name": "stdout",
     "output_type": "stream",
     "text": [
      "Gui server has been stopped.\n",
      " * Server starting on http://127.0.0.1:5000\n"
     ]
    }
   ],
   "source": [
    "Gui(country_md).run(dark_mode=False, run_browser=False)"
   ]
  },
  {
   "cell_type": "markdown",
   "id": "f84e0a88",
   "metadata": {
    "id": "f84e0a88"
   },
   "source": [
    "## Style the graph with personalized properties\n",
    "The _layout_ dictionnary specifies how bars should be displayed. They would be 'stacked'.\n",
    "\n",
    "The _options_ dictionary will change the opacity of the unselected markers.\n",
    "\n",
    "These are Plotly properties."
   ]
  },
  {
   "cell_type": "markdown",
   "id": "99c5d669",
   "metadata": {
    "id": "99c5d669"
   },
   "source": [
    "![](img/stack_chart.png)"
   ]
  },
  {
   "cell_type": "code",
   "execution_count": 15,
   "id": "f068e3ba",
   "metadata": {
    "id": "f068e3ba"
   },
   "outputs": [],
   "source": [
    "layout = {'barmode':'stack'}\n",
    "options = {\"unselected\":{\"marker\":{\"opacity\":0.5}}}\n",
    "country_md = \"<|{country_date_df}|chart|type=bar|x=Date|y[1]=Deaths|y[2]=Recovered|y[3]=Confirmed|layout={layout}|options={options}|>\""
   ]
  },
  {
   "cell_type": "code",
   "execution_count": 16,
   "id": "5a526dbe-2aa7-4a76-b146-295c2d06de88",
   "metadata": {},
   "outputs": [
    {
     "name": "stdout",
     "output_type": "stream",
     "text": [
      "Gui server has been stopped.\n",
      " * Server starting on http://127.0.0.1:5000\n"
     ]
    }
   ],
   "source": [
    "Gui(country_md).run(dark_mode=False, run_browser=False)"
   ]
  },
  {
   "cell_type": "markdown",
   "id": "cd4d0268",
   "metadata": {
    "id": "cd4d0268"
   },
   "source": [
    "## Add texts that sums up the data\n",
    "\n",
    "Use the [text](https://docs.taipy.io/en/latest/manuals/gui/viselements/text/) visual element.\n",
    "\n",
    "- Add the total number of Deaths (last line of _country_date_df_)\n",
    "- Add the total number of Recovered (last line of _country_date_df_)\n",
    "- Add the total number of Confirmed (last line of _country_date_df_)\n"
   ]
  },
  {
   "cell_type": "code",
   "execution_count": 17,
   "id": "f9060a46",
   "metadata": {
    "id": "f9060a46",
    "outputId": "0d12534f-60a6-4acf-c555-5a6babd1c3d4"
   },
   "outputs": [
    {
     "data": {
      "text/html": [
       "<div>\n",
       "<style scoped>\n",
       "    .dataframe tbody tr th:only-of-type {\n",
       "        vertical-align: middle;\n",
       "    }\n",
       "\n",
       "    .dataframe tbody tr th {\n",
       "        vertical-align: top;\n",
       "    }\n",
       "\n",
       "    .dataframe thead th {\n",
       "        text-align: right;\n",
       "    }\n",
       "</style>\n",
       "<table border=\"1\" class=\"dataframe\">\n",
       "  <thead>\n",
       "    <tr style=\"text-align: right;\">\n",
       "      <th></th>\n",
       "      <th>Country/Region</th>\n",
       "      <th>Date</th>\n",
       "      <th>Latitude</th>\n",
       "      <th>Longitude</th>\n",
       "      <th>Confirmed</th>\n",
       "      <th>Recovered</th>\n",
       "      <th>Deaths</th>\n",
       "    </tr>\n",
       "  </thead>\n",
       "  <tbody>\n",
       "    <tr>\n",
       "      <th>23021</th>\n",
       "      <td>India</td>\n",
       "      <td>2020-01-30</td>\n",
       "      <td>23.746783</td>\n",
       "      <td>78.962880</td>\n",
       "      <td>1.0</td>\n",
       "      <td>0.0</td>\n",
       "      <td>0.0</td>\n",
       "    </tr>\n",
       "    <tr>\n",
       "      <th>23022</th>\n",
       "      <td>India</td>\n",
       "      <td>2020-01-31</td>\n",
       "      <td>23.746783</td>\n",
       "      <td>78.962880</td>\n",
       "      <td>1.0</td>\n",
       "      <td>0.0</td>\n",
       "      <td>0.0</td>\n",
       "    </tr>\n",
       "    <tr>\n",
       "      <th>23023</th>\n",
       "      <td>India</td>\n",
       "      <td>2020-02-01</td>\n",
       "      <td>23.746783</td>\n",
       "      <td>78.962880</td>\n",
       "      <td>1.0</td>\n",
       "      <td>0.0</td>\n",
       "      <td>0.0</td>\n",
       "    </tr>\n",
       "    <tr>\n",
       "      <th>23024</th>\n",
       "      <td>India</td>\n",
       "      <td>2020-02-02</td>\n",
       "      <td>23.746783</td>\n",
       "      <td>78.962880</td>\n",
       "      <td>2.0</td>\n",
       "      <td>0.0</td>\n",
       "      <td>0.0</td>\n",
       "    </tr>\n",
       "    <tr>\n",
       "      <th>23025</th>\n",
       "      <td>India</td>\n",
       "      <td>2020-02-03</td>\n",
       "      <td>23.746783</td>\n",
       "      <td>78.962880</td>\n",
       "      <td>3.0</td>\n",
       "      <td>0.0</td>\n",
       "      <td>0.0</td>\n",
       "    </tr>\n",
       "    <tr>\n",
       "      <th>...</th>\n",
       "      <td>...</td>\n",
       "      <td>...</td>\n",
       "      <td>...</td>\n",
       "      <td>...</td>\n",
       "      <td>...</td>\n",
       "      <td>...</td>\n",
       "      <td>...</td>\n",
       "    </tr>\n",
       "    <tr>\n",
       "      <th>23353</th>\n",
       "      <td>India</td>\n",
       "      <td>2020-12-27</td>\n",
       "      <td>854.924665</td>\n",
       "      <td>3023.983447</td>\n",
       "      <td>10207871.0</td>\n",
       "      <td>9782669.0</td>\n",
       "      <td>147901.0</td>\n",
       "    </tr>\n",
       "    <tr>\n",
       "      <th>23354</th>\n",
       "      <td>India</td>\n",
       "      <td>2020-12-28</td>\n",
       "      <td>854.924665</td>\n",
       "      <td>3023.983447</td>\n",
       "      <td>10224303.0</td>\n",
       "      <td>9807569.0</td>\n",
       "      <td>148153.0</td>\n",
       "    </tr>\n",
       "    <tr>\n",
       "      <th>23355</th>\n",
       "      <td>India</td>\n",
       "      <td>2020-12-29</td>\n",
       "      <td>854.924665</td>\n",
       "      <td>3023.983447</td>\n",
       "      <td>10244852.0</td>\n",
       "      <td>9834141.0</td>\n",
       "      <td>148439.0</td>\n",
       "    </tr>\n",
       "    <tr>\n",
       "      <th>23356</th>\n",
       "      <td>India</td>\n",
       "      <td>2020-12-30</td>\n",
       "      <td>854.924665</td>\n",
       "      <td>3023.983447</td>\n",
       "      <td>10266674.0</td>\n",
       "      <td>9860280.0</td>\n",
       "      <td>148738.0</td>\n",
       "    </tr>\n",
       "    <tr>\n",
       "      <th>23357</th>\n",
       "      <td>India</td>\n",
       "      <td>2020-12-31</td>\n",
       "      <td>854.924665</td>\n",
       "      <td>3023.983447</td>\n",
       "      <td>10266674.0</td>\n",
       "      <td>9860280.0</td>\n",
       "      <td>148738.0</td>\n",
       "    </tr>\n",
       "  </tbody>\n",
       "</table>\n",
       "<p>337 rows × 7 columns</p>\n",
       "</div>"
      ],
      "text/plain": [
       "      Country/Region        Date    Latitude    Longitude   Confirmed  \\\n",
       "23021          India  2020-01-30   23.746783    78.962880         1.0   \n",
       "23022          India  2020-01-31   23.746783    78.962880         1.0   \n",
       "23023          India  2020-02-01   23.746783    78.962880         1.0   \n",
       "23024          India  2020-02-02   23.746783    78.962880         2.0   \n",
       "23025          India  2020-02-03   23.746783    78.962880         3.0   \n",
       "...              ...         ...         ...          ...         ...   \n",
       "23353          India  2020-12-27  854.924665  3023.983447  10207871.0   \n",
       "23354          India  2020-12-28  854.924665  3023.983447  10224303.0   \n",
       "23355          India  2020-12-29  854.924665  3023.983447  10244852.0   \n",
       "23356          India  2020-12-30  854.924665  3023.983447  10266674.0   \n",
       "23357          India  2020-12-31  854.924665  3023.983447  10266674.0   \n",
       "\n",
       "       Recovered    Deaths  \n",
       "23021        0.0       0.0  \n",
       "23022        0.0       0.0  \n",
       "23023        0.0       0.0  \n",
       "23024        0.0       0.0  \n",
       "23025        0.0       0.0  \n",
       "...          ...       ...  \n",
       "23353  9782669.0  147901.0  \n",
       "23354  9807569.0  148153.0  \n",
       "23355  9834141.0  148439.0  \n",
       "23356  9860280.0  148738.0  \n",
       "23357  9860280.0  148738.0  \n",
       "\n",
       "[337 rows x 7 columns]"
      ]
     },
     "execution_count": 17,
     "metadata": {},
     "output_type": "execute_result"
    }
   ],
   "source": [
    "country_date_df"
   ]
  },
  {
   "cell_type": "markdown",
   "id": "ec27c620",
   "metadata": {
    "id": "ec27c620"
   },
   "source": [
    "This is how we can get the total number of Deaths from the dataset for India."
   ]
  },
  {
   "cell_type": "code",
   "execution_count": 18,
   "id": "c0a73440",
   "metadata": {
    "id": "c0a73440",
    "outputId": "642a8cff-1c8f-4748-af5e-7b4dc70d9627"
   },
   "outputs": [
    {
     "data": {
      "text/plain": [
       "148738.0"
      ]
     },
     "execution_count": 18,
     "metadata": {},
     "output_type": "execute_result"
    }
   ],
   "source": [
    "country_date_df.iloc[-1, 6] # gives the number of deaths for India (5 is for recovered and 4 is confirmed)"
   ]
  },
  {
   "cell_type": "markdown",
   "id": "4a043817",
   "metadata": {
    "id": "4a043817"
   },
   "source": [
    "Use the [text](https://docs.taipy.io/en/release-1.1/manuals/gui/viselements/text/) visual element. Note that between `{}`, any Python variable can be put but also any Python code."
   ]
  },
  {
   "cell_type": "markdown",
   "id": "8b5b47ec",
   "metadata": {
    "id": "8b5b47ec"
   },
   "source": [
    "![](img/control_text.png)"
   ]
  },
  {
   "cell_type": "code",
   "execution_count": 19,
   "id": "beab9af4",
   "metadata": {
    "id": "beab9af4"
   },
   "outputs": [],
   "source": [
    "country_md = \"\"\"\n",
    "## Deaths <|{country_date_df.iloc[-1, 6]}|text|>\n",
    "\n",
    "## Recovered <|{country_date_df.iloc[-1, 5]}|text|>\n",
    "\n",
    "## Confirmed <|{country_date_df.iloc[-1, 4]}|text|>\n",
    "\n",
    "<|{country_date_df}|chart|type=bar|x=Date|y[1]=Deaths|y[2]=Recovered|y[3]=Confirmed|layout={layout}|options={options}|>\n",
    "\"\"\""
   ]
  },
  {
   "cell_type": "code",
   "execution_count": 20,
   "id": "0bde617b-a796-4cab-bb77-8d1e294b3603",
   "metadata": {},
   "outputs": [
    {
     "name": "stdout",
     "output_type": "stream",
     "text": [
      "Gui server has been stopped.\n",
      " * Server starting on http://127.0.0.1:5000\n"
     ]
    }
   ],
   "source": [
    "Gui(country_md).run(dark_mode=False, run_browser=False)"
   ]
  },
  {
   "cell_type": "markdown",
   "id": "f48f94cd",
   "metadata": {
    "id": "f48f94cd"
   },
   "source": [
    "## Local _on_change_\n",
    "\n",
    "- Add a [selector](https://docs.taipy.io/en/latest/manuals/gui/viselements/selector/) with `dropdown=True` containing the name of all the _Country/region_\n",
    "- Give to the _on_change_ selector property the name of the _on_change_country_ function. This function will be called when the selector will be used.\n",
    "- This function has a 'state' parameter and has to be completed. When the selector is used, this function is called with the _state_ argument. It contains all the Gui variables; 'state.country_date_df' is then the dataframe used in the Gui."
   ]
  },
  {
   "cell_type": "markdown",
   "id": "35953a48",
   "metadata": {
    "id": "35953a48"
   },
   "source": [
    "![](img/on_change_local.png)"
   ]
  },
  {
   "cell_type": "code",
   "execution_count": 21,
   "id": "ed63f76a",
   "metadata": {
    "id": "ed63f76a"
   },
   "outputs": [],
   "source": [
    "country_lov = sorted(data[\"Country/Region\"].dropna().unique().tolist())\n",
    "selected_country = \"India\"\n",
    "\n",
    "country_md = \"\"\"\n",
    "<|{selected_country}|selector|lov={country_lov}|on_change=on_change_country|dropdown|label=Country|>\n",
    "\n",
    "## Deaths <|{country_date_df.iloc[-1, 6]}|>\n",
    "\n",
    "## Recovered <|{country_date_df.iloc[-1, 5]}|>\n",
    "\n",
    "## Confirmed <|{country_date_df.iloc[-1, 4]}|>\n",
    "\n",
    "<|{country_date_df}|chart|type=bar|x=Date|y[1]=Deaths|y[2]=Recovered|y[3]=Confirmed|layout={layout}|options={options}|>\n",
    "\"\"\""
   ]
  },
  {
   "cell_type": "code",
   "execution_count": 22,
   "id": "42e91877",
   "metadata": {
    "id": "42e91877"
   },
   "outputs": [],
   "source": [
    "def on_change_country(state):\n",
    "    # state contains all the Gui variables and this is through this state variable that we can update the Gui\n",
    "    # state.selected_country, state.country_date_df, ...\n",
    "    # update country_date_df with the right country (use initialize_case_evolution)\n",
    "    print(\"Chosen country: \", state.selected_country)\n",
    "    state.country_date_df = initialize_case_evolution(data, state.selected_country)"
   ]
  },
  {
   "cell_type": "code",
   "execution_count": 23,
   "id": "2dc35c5a-1840-4d35-b7ab-af61757dc804",
   "metadata": {},
   "outputs": [
    {
     "name": "stdout",
     "output_type": "stream",
     "text": [
      "Gui server has been stopped.\n",
      " * Server starting on http://127.0.0.1:5000\n"
     ]
    }
   ],
   "source": [
    "Gui(country_md).run(dark_mode=False, run_browser=False)"
   ]
  },
  {
   "cell_type": "markdown",
   "id": "6e528ce2",
   "metadata": {
    "id": "6e528ce2"
   },
   "source": [
    "## Layout\n",
    "\n",
    "Use the [layout](https://docs.taipy.io/en/latest/manuals/gui/viselements/layout/) block to change the page structure. This block creates invisible columns to put text/visual elements in.\n",
    "\n",
    "Syntax :\n",
    "```\n",
    "<|layout|columns=1 1 1 ...|\n",
    "(first column)\n",
    "\n",
    "(in second column)\n",
    "\n",
    "(third column)\n",
    "(again, third column)\n",
    "\n",
    "(...)\n",
    "|>\n",
    "```"
   ]
  },
  {
   "cell_type": "code",
   "execution_count": 24,
   "id": "f89fd2fb",
   "metadata": {
    "id": "f89fd2fb"
   },
   "outputs": [],
   "source": [
    "final_country_md = \"\"\"\n",
    "<|layout|columns=1 1 1 1|\n",
    "<|{selected_country}|selector|lov={country_lov}|on_change=on_change_country|dropdown|label=Country|>\n",
    "\n",
    "## Deaths <|{country_date_df.iloc[-1, 6]}|>\n",
    "\n",
    "## Recovered <|{country_date_df.iloc[-1, 5]}|>\n",
    "\n",
    "## Confirmed <|{country_date_df.iloc[-1, 4]}|>\n",
    "|>\n",
    "\n",
    "<|{country_date_df}|chart|type=bar|x=Date|y[1]=Deaths|y[2]=Recovered|y[3]=Confirmed|layout={layout}|options={options}|>\n",
    "\"\"\""
   ]
  },
  {
   "cell_type": "code",
   "execution_count": 25,
   "id": "84a77afa-33c3-41e5-a1ef-64efaf883334",
   "metadata": {},
   "outputs": [
    {
     "name": "stdout",
     "output_type": "stream",
     "text": [
      "Gui server has been stopped.\n",
      " * Server starting on http://127.0.0.1:5000\n"
     ]
    }
   ],
   "source": [
    "Gui(final_country_md).run(dark_mode=False, run_browser=False)"
   ]
  },
  {
   "cell_type": "markdown",
   "id": "f63dcc18",
   "metadata": {
    "id": "f63dcc18"
   },
   "source": [
    "![](img/layout.png)"
   ]
  },
  {
   "cell_type": "markdown",
   "id": "e9ab05a9",
   "metadata": {
    "id": "e9ab05a9"
   },
   "source": [
    "# Map"
   ]
  },
  {
   "cell_type": "code",
   "execution_count": 26,
   "id": "92212747",
   "metadata": {
    "id": "92212747"
   },
   "outputs": [],
   "source": [
    "def initialize_map(data):\n",
    "    data['Province/State'] = data['Province/State'].fillna(data[\"Country/Region\"])\n",
    "    data_province = data.groupby([\"Country/Region\",\n",
    "                                  'Province/State',\n",
    "                                  'Longitude',\n",
    "                                  'Latitude'])\\\n",
    "                         .max()\n",
    "\n",
    "    data_province_displayed = data_province[data_province['Deaths']>10].reset_index()\n",
    "\n",
    "    data_province_displayed['Size'] = np.sqrt(data_province_displayed.loc[:,'Deaths']/data_province_displayed.loc[:,'Deaths'].max())*80 + 3\n",
    "    data_province_displayed['Text'] = data_province_displayed.loc[:,'Deaths'].astype(str) + ' deaths</br>' + data_province_displayed.loc[:,'Province/State']\n",
    "    return data_province_displayed"
   ]
  },
  {
   "cell_type": "code",
   "execution_count": 27,
   "id": "5a1f5cb6",
   "metadata": {
    "id": "5a1f5cb6",
    "outputId": "ff8c0dc6-5b6a-4693-c1f1-01635ecf65c5"
   },
   "outputs": [
    {
     "data": {
      "text/html": [
       "<div>\n",
       "<style scoped>\n",
       "    .dataframe tbody tr th:only-of-type {\n",
       "        vertical-align: middle;\n",
       "    }\n",
       "\n",
       "    .dataframe tbody tr th {\n",
       "        vertical-align: top;\n",
       "    }\n",
       "\n",
       "    .dataframe thead th {\n",
       "        text-align: right;\n",
       "    }\n",
       "</style>\n",
       "<table border=\"1\" class=\"dataframe\">\n",
       "  <thead>\n",
       "    <tr style=\"text-align: right;\">\n",
       "      <th></th>\n",
       "      <th>Country/Region</th>\n",
       "      <th>Province/State</th>\n",
       "      <th>Longitude</th>\n",
       "      <th>Latitude</th>\n",
       "      <th>Confirmed</th>\n",
       "      <th>Recovered</th>\n",
       "      <th>Deaths</th>\n",
       "      <th>Date</th>\n",
       "      <th>Size</th>\n",
       "      <th>Text</th>\n",
       "    </tr>\n",
       "  </thead>\n",
       "  <tbody>\n",
       "    <tr>\n",
       "      <th>0</th>\n",
       "      <td>Afghanistan</td>\n",
       "      <td>Afghanistan</td>\n",
       "      <td>67.709953</td>\n",
       "      <td>33.93911</td>\n",
       "      <td>51526.0</td>\n",
       "      <td>41727.0</td>\n",
       "      <td>2191.0</td>\n",
       "      <td>2020-12-31</td>\n",
       "      <td>17.771247</td>\n",
       "      <td>2191.0 deaths&lt;/br&gt;Afghanistan</td>\n",
       "    </tr>\n",
       "    <tr>\n",
       "      <th>1</th>\n",
       "      <td>Albania</td>\n",
       "      <td>Albania</td>\n",
       "      <td>20.168300</td>\n",
       "      <td>41.15330</td>\n",
       "      <td>58316.0</td>\n",
       "      <td>33634.0</td>\n",
       "      <td>1181.0</td>\n",
       "      <td>2020-12-31</td>\n",
       "      <td>13.844784</td>\n",
       "      <td>1181.0 deaths&lt;/br&gt;Albania</td>\n",
       "    </tr>\n",
       "    <tr>\n",
       "      <th>2</th>\n",
       "      <td>Algeria</td>\n",
       "      <td>Algeria</td>\n",
       "      <td>1.659600</td>\n",
       "      <td>28.03390</td>\n",
       "      <td>99610.0</td>\n",
       "      <td>67127.0</td>\n",
       "      <td>2756.0</td>\n",
       "      <td>2020-12-31</td>\n",
       "      <td>19.566684</td>\n",
       "      <td>2756.0 deaths&lt;/br&gt;Algeria</td>\n",
       "    </tr>\n",
       "    <tr>\n",
       "      <th>3</th>\n",
       "      <td>Andorra</td>\n",
       "      <td>Andorra</td>\n",
       "      <td>1.521800</td>\n",
       "      <td>42.50630</td>\n",
       "      <td>8049.0</td>\n",
       "      <td>7432.0</td>\n",
       "      <td>84.0</td>\n",
       "      <td>2020-12-31</td>\n",
       "      <td>5.892249</td>\n",
       "      <td>84.0 deaths&lt;/br&gt;Andorra</td>\n",
       "    </tr>\n",
       "    <tr>\n",
       "      <th>4</th>\n",
       "      <td>Angola</td>\n",
       "      <td>Angola</td>\n",
       "      <td>17.873900</td>\n",
       "      <td>-11.20270</td>\n",
       "      <td>17553.0</td>\n",
       "      <td>11044.0</td>\n",
       "      <td>405.0</td>\n",
       "      <td>2020-12-31</td>\n",
       "      <td>9.350728</td>\n",
       "      <td>405.0 deaths&lt;/br&gt;Angola</td>\n",
       "    </tr>\n",
       "  </tbody>\n",
       "</table>\n",
       "</div>"
      ],
      "text/plain": [
       "  Country/Region Province/State  Longitude  Latitude  Confirmed  Recovered  \\\n",
       "0    Afghanistan    Afghanistan  67.709953  33.93911    51526.0    41727.0   \n",
       "1        Albania        Albania  20.168300  41.15330    58316.0    33634.0   \n",
       "2        Algeria        Algeria   1.659600  28.03390    99610.0    67127.0   \n",
       "3        Andorra        Andorra   1.521800  42.50630     8049.0     7432.0   \n",
       "4         Angola         Angola  17.873900 -11.20270    17553.0    11044.0   \n",
       "\n",
       "   Deaths        Date       Size                           Text  \n",
       "0  2191.0  2020-12-31  17.771247  2191.0 deaths</br>Afghanistan  \n",
       "1  1181.0  2020-12-31  13.844784      1181.0 deaths</br>Albania  \n",
       "2  2756.0  2020-12-31  19.566684      2756.0 deaths</br>Algeria  \n",
       "3    84.0  2020-12-31   5.892249        84.0 deaths</br>Andorra  \n",
       "4   405.0  2020-12-31   9.350728        405.0 deaths</br>Angola  "
      ]
     },
     "execution_count": 27,
     "metadata": {},
     "output_type": "execute_result"
    }
   ],
   "source": [
    "data_province_displayed = initialize_map(data)\n",
    "data_province_displayed.head()"
   ]
  },
  {
   "cell_type": "markdown",
   "id": "fe689939",
   "metadata": {
    "id": "fe689939"
   },
   "source": [
    "Properties to style the map\n",
    "- marker color corresponds to the number of Deaths (column _Deaths_)\n",
    "- marker sizes corresponds to the size in _Size_ column which is created from the number of Deaths\n",
    "\n",
    "layout_map permet defined the initial zoom and position of the map\n"
   ]
  },
  {
   "cell_type": "code",
   "execution_count": 28,
   "id": "62a4cc23",
   "metadata": {
    "id": "62a4cc23"
   },
   "outputs": [],
   "source": [
    "marker_map = {\"color\":\"Deaths\", \"size\": \"Size\", \"showscale\":True, \"colorscale\":\"Viridis\"}\n",
    "layout_map = {\n",
    "            \"dragmode\": \"zoom\",\n",
    "            \"mapbox\": { \"style\": \"open-street-map\", \"center\": { \"lat\": 38, \"lon\": -90 }, \"zoom\": 3}\n",
    "            }"
   ]
  },
  {
   "cell_type": "markdown",
   "id": "fb251153",
   "metadata": {
    "id": "fb251153"
   },
   "source": [
    "We give to Plotly:\n",
    "- a map type\n",
    "- the name of the latitude column\n",
    "- the name of the longitude column\n",
    "- properties: on the size and color of the markers\n",
    "- the name of the column for the text of the points"
   ]
  },
  {
   "cell_type": "code",
   "execution_count": 29,
   "id": "7e65e017",
   "metadata": {
    "id": "7e65e017"
   },
   "outputs": [],
   "source": [
    "selected_points = []\n",
    "map_md = \"\"\"\n",
    "<|{data_province_displayed}|chart|type=scattermapbox|selected={selected_points}|lat=Latitude|lon=Longitude|marker={marker_map}|layout={layout_map}|text=Text|mode=markers|height=800px|options={options}|>\n",
    "\"\"\""
   ]
  },
  {
   "cell_type": "code",
   "execution_count": 30,
   "id": "b068a3af",
   "metadata": {
    "id": "b068a3af",
    "outputId": "b1fcab52-320d-49aa-8a98-60a6b21ce8fb"
   },
   "outputs": [
    {
     "name": "stdout",
     "output_type": "stream",
     "text": [
      "Gui server has been stopped.\n",
      " * Server starting on http://127.0.0.1:5000\n"
     ]
    }
   ],
   "source": [
    "Gui(map_md).run(dark_mode=False, run_browser=False)"
   ]
  },
  {
   "cell_type": "markdown",
   "id": "56c0ea66",
   "metadata": {
    "id": "56c0ea66"
   },
   "source": [
    "![](img/carte.png)"
   ]
  },
  {
   "cell_type": "markdown",
   "id": "cab1cacc",
   "metadata": {
    "id": "cab1cacc"
   },
   "source": [
    "# Part and the _render_ property\n",
    "- Create a [toggle](https://docs.taipy.io/en/latest/manuals/gui/viselements/toggle/) (works the same as a selector) with a lov of 'Map' an 'Country'\n",
    "- Create two part blocks that renders or not depending on the value of the toggle\n",
    "    - To do this, use the fact that in the _render_ property of the part block, Python code can be inserted in `{}`"
   ]
  },
  {
   "cell_type": "code",
   "execution_count": 31,
   "id": "91bb95bc",
   "metadata": {
    "id": "91bb95bc"
   },
   "outputs": [],
   "source": [
    "representation_toggle = ['Map', 'Country']\n",
    "selected_representation = representation_toggle[0]"
   ]
  },
  {
   "cell_type": "code",
   "execution_count": 32,
   "id": "e76ebb06",
   "metadata": {
    "id": "e76ebb06"
   },
   "outputs": [],
   "source": [
    "main_page = \"\"\"\n",
    "<|{selected_representation}|toggle|lov={representation_toggle}|>\n",
    "\n",
    "<|part|render={selected_representation == \"Country\"}|\n",
    "\"\"\"+final_country_md+\"\"\"\n",
    "|>\n",
    "\n",
    "<|part|render={selected_representation == \"Map\"}|\n",
    "\"\"\"+map_md+\"\"\"\n",
    "|>\n",
    "\"\"\" "
   ]
  },
  {
   "cell_type": "code",
   "execution_count": 33,
   "id": "186846ba",
   "metadata": {
    "id": "186846ba",
    "outputId": "c5cf9b85-034b-4f80-e9ca-32b31f4caab1"
   },
   "outputs": [
    {
     "name": "stdout",
     "output_type": "stream",
     "text": [
      "Gui server has been stopped.\n",
      " * Server starting on http://127.0.0.1:5000\n"
     ]
    }
   ],
   "source": [
    "Gui(main_page).run(dark_mode=False, run_browser=False)"
   ]
  },
  {
   "cell_type": "markdown",
   "id": "47d5c7ce",
   "metadata": {
    "id": "47d5c7ce"
   },
   "source": [
    "![](img/part_render.png)"
   ]
  },
  {
   "cell_type": "markdown",
   "id": "0c8130ec",
   "metadata": {
    "id": "0c8130ec"
   },
   "source": [
    "# Taipy Core\n",
    "Here are the functions that we are going to use to predict the number of Deaths for a country.\n",
    "We will:\n",
    "- preprocess the data (_preprocess_),\n",
    "- create a training and testing database (_make_train_test_data_),\n",
    "- train a model (_train_model_),\n",
    "- generate predictions (_forecast_),\n",
    "- generate a dataframe with the historical data and the predictions (_result_)\n",
    "\n",
    "![](img/all_architecture.svg)"
   ]
  },
  {
   "cell_type": "code",
   "execution_count": 34,
   "id": "43951062-3a8d-45af-9aef-bee607ffd6f2",
   "metadata": {},
   "outputs": [],
   "source": [
    "# initialise variables\n",
    "selected_scenario = None\n",
    "scenario_selector = None\n",
    "\n",
    "first_date = dt.datetime(2020,11,1)\n",
    "\n",
    "scenario_name = None\n",
    "\n",
    "result = None"
   ]
  },
  {
   "cell_type": "code",
   "execution_count": 35,
   "id": "0bab3b3c",
   "metadata": {},
   "outputs": [],
   "source": [
    "#Config.configure_job_executions(mode=\"standalone\", nb_of_workers=2)"
   ]
  },
  {
   "cell_type": "code",
   "execution_count": 36,
   "id": "688ebab8",
   "metadata": {
    "id": "688ebab8"
   },
   "outputs": [],
   "source": [
    "def add_features(data):\n",
    "    dates = pd.to_datetime(data[\"Date\"])\n",
    "    data[\"Months\"] = dates.dt.month\n",
    "    data[\"Days\"] = dates.dt.isocalendar().day\n",
    "    data[\"Week\"] = dates.dt.isocalendar().week\n",
    "    data[\"Day of week\"] = dates.dt.dayofweek\n",
    "    return data\n",
    "\n",
    "def create_train_data(final_data, date):\n",
    "    bool_index = pd.to_datetime(final_data['Date']) <= date\n",
    "    train_data = final_data[bool_index]\n",
    "    return train_data\n",
    "\n",
    "def preprocess(initial_data, country, date):\n",
    "    data = initial_data.groupby([\"Country/Region\",'Date'])\\\n",
    "                       .sum()\\\n",
    "                       .dropna()\\\n",
    "                       .reset_index()\n",
    "\n",
    "    final_data = data.loc[data['Country/Region']==country].reset_index(drop=True)\n",
    "    final_data = final_data[['Date','Deaths']]\n",
    "    final_data = add_features(final_data)\n",
    "    \n",
    "    train_data = create_train_data(final_data, date)\n",
    "    return final_data, train_data\n",
    "\n",
    "\n",
    "def train_arima(train_data):\n",
    "    model = auto_arima(train_data['Deaths'],\n",
    "                       start_p=1, start_q=1,\n",
    "                       max_p=5, max_q=5,\n",
    "                       start_P=0, seasonal=False,\n",
    "                       d=1, D=1, trace=True,\n",
    "                       error_action='ignore',  \n",
    "                       suppress_warnings=True)\n",
    "    model.fit(train_data['Deaths'])\n",
    "    return model\n",
    "\n",
    "\n",
    "def forecast(model):\n",
    "    predictions = model.predict(n_periods=60)\n",
    "    return predictions\n",
    "\n",
    "\n",
    "def result(final_data, predictions, date):\n",
    "    dates = pd.to_datetime([date + dt.timedelta(days=i)\n",
    "                            for i in range(len(predictions))])\n",
    "    final_data['Date'] = pd.to_datetime(final_data['Date'])\n",
    "    predictions = pd.concat([pd.Series(dates, name=\"Date\"),\n",
    "                             pd.Series(predictions, name=\"Predictions\")], axis=1)\n",
    "    return final_data.merge(predictions, on=\"Date\", how=\"outer\")"
   ]
  },
  {
   "cell_type": "markdown",
   "id": "9d2e845f",
   "metadata": {
    "id": "9d2e845f"
   },
   "source": [
    "First we must define the Data Nodes then the tasks (associated to the Python function). Furthermore, we gather these tasks into different pipelines and these pipelines into a scenario.\n",
    "\n",
    "A Data Node needs a **unique id**. If needed, the storage type can be changed for CSV and SQL. Other parameters are then needed."
   ]
  },
  {
   "cell_type": "markdown",
   "id": "b19ed6d7",
   "metadata": {
    "id": "b19ed6d7"
   },
   "source": [
    "### Data Nodes and Task for preprocess"
   ]
  },
  {
   "cell_type": "markdown",
   "id": "6c0e2743",
   "metadata": {
    "id": "6c0e2743"
   },
   "source": [
    "<img src=\"img/preprocess.svg\" alt=\"drawing\" width=\"500\"/>"
   ]
  },
  {
   "cell_type": "code",
   "execution_count": 37,
   "id": "a0dec60e",
   "metadata": {
    "id": "a0dec60e"
   },
   "outputs": [],
   "source": [
    "initial_data_cfg = Config.configure_data_node(id=\"initial_data\",\n",
    "                                              storage_type=\"csv\",\n",
    "                                              path=path_to_data,\n",
    "                                              cacheable=True,\n",
    "                                              validity_period=dt.timedelta(days=5),\n",
    "                                              scope=Scope.GLOBAL)\n",
    "\n",
    "country_cfg = Config.configure_data_node(id=\"country\", default_data=\"India\",\n",
    "                                         cacheable=True, validity_period=dt.timedelta(days=5))\n",
    "\n",
    "\n",
    "date_cfg = Config.configure_data_node(id=\"date\", default_data=dt.datetime(2020,10,10),\n",
    "                                         cacheable=True, validity_period=dt.timedelta(days=5))"
   ]
  },
  {
   "cell_type": "markdown",
   "id": "ff0c6e21",
   "metadata": {},
   "source": [
    "<img src=\"img/preprocess.svg\" alt=\"drawing\" width=\"500\"/>"
   ]
  },
  {
   "cell_type": "code",
   "execution_count": 38,
   "id": "ef9193a1",
   "metadata": {},
   "outputs": [],
   "source": [
    "final_data_cfg =  Config.configure_data_node(id=\"final_data\",\n",
    "                                            cacheable=True, validity_period=dt.timedelta(days=5))\n",
    "\n",
    "\n",
    "train_data_cfg =  Config.configure_data_node(id=\"train_data\", cacheable=True, validity_period=dt.timedelta(days=5))\n"
   ]
  },
  {
   "cell_type": "markdown",
   "id": "5f2897e2",
   "metadata": {},
   "source": [
    "<img src=\"img/preprocess.svg\" alt=\"drawing\" width=\"500\"/>"
   ]
  },
  {
   "cell_type": "code",
   "execution_count": 39,
   "id": "7c18d8ea",
   "metadata": {},
   "outputs": [],
   "source": [
    "task_preprocess_cfg = Config.configure_task(id=\"task_preprocess_data\",\n",
    "                                           function=preprocess,\n",
    "                                           input=[initial_data_cfg, country_cfg, date_cfg],\n",
    "                                           output=[final_data_cfg,train_data_cfg])"
   ]
  },
  {
   "cell_type": "markdown",
   "id": "1908c988",
   "metadata": {
    "id": "1908c988"
   },
   "source": [
    "### Data Nodes and Task for train_model"
   ]
  },
  {
   "cell_type": "markdown",
   "id": "e8bd5020",
   "metadata": {
    "id": "e8bd5020"
   },
   "source": [
    "<img src=\"img/train_model.svg\" alt=\"drawing\" width=\"500\"/>"
   ]
  },
  {
   "cell_type": "code",
   "execution_count": 40,
   "id": "96afe994",
   "metadata": {
    "id": "96afe994"
   },
   "outputs": [],
   "source": [
    "model_cfg = Config.configure_data_node(id=\"model\", cacheable=True, validity_period=dt.timedelta(days=5), scope=Scope.PIPELINE)\n",
    "\n",
    "task_train_cfg = Config.configure_task(id=\"task_train\",\n",
    "                                      function=train_arima,\n",
    "                                      input=train_data_cfg,\n",
    "                                      output=model_cfg)"
   ]
  },
  {
   "cell_type": "markdown",
   "id": "849d0a97",
   "metadata": {
    "id": "849d0a97"
   },
   "source": [
    "### Data Nodes and Task for forecast"
   ]
  },
  {
   "cell_type": "markdown",
   "id": "e0a125c7",
   "metadata": {
    "id": "e0a125c7"
   },
   "source": [
    "<img src=\"img/forecast_arima.svg\" alt=\"drawing\" width=\"500\"/>"
   ]
  },
  {
   "cell_type": "code",
   "execution_count": 41,
   "id": "46b0287b",
   "metadata": {
    "id": "46b0287b"
   },
   "outputs": [],
   "source": [
    "predictions_cfg = Config.configure_data_node(id=\"predictions\", scope=Scope.PIPELINE)\n",
    "\n",
    "task_forecast_cfg = Config.configure_task(id=\"task_forecast\",\n",
    "                                      function=forecast,\n",
    "                                      input=model_cfg,\n",
    "                                      output=predictions_cfg)"
   ]
  },
  {
   "cell_type": "markdown",
   "id": "73ab0ee0",
   "metadata": {
    "id": "73ab0ee0"
   },
   "source": [
    "### Data Nodes and Task for result"
   ]
  },
  {
   "cell_type": "markdown",
   "id": "899c41df",
   "metadata": {
    "id": "899c41df"
   },
   "source": [
    "<img src=\"img/result.svg\" alt=\"drawing\" width=\"500\"/>"
   ]
  },
  {
   "cell_type": "code",
   "execution_count": 42,
   "id": "92f6ca0c",
   "metadata": {
    "id": "92f6ca0c"
   },
   "outputs": [],
   "source": [
    "result_cfg = Config.configure_data_node(id=\"result\", scope=Scope.PIPELINE)\n",
    "\n",
    "task_result_cfg = Config.configure_task(id=\"task_result\",\n",
    "                                      function=result,\n",
    "                                      input=[final_data_cfg, predictions_cfg, date_cfg],\n",
    "                                      output=result_cfg)"
   ]
  },
  {
   "cell_type": "markdown",
   "id": "252820b6",
   "metadata": {
    "id": "252820b6"
   },
   "source": [
    "## [Configuration of pipelines](https://docs.taipy.io/en/release-1.1/manuals/reference/taipy.Config/#taipy.core.config.config.Config.configure_default_pipeline)"
   ]
  },
  {
   "cell_type": "code",
   "execution_count": 43,
   "id": "ed34224b",
   "metadata": {
    "id": "ed34224b"
   },
   "outputs": [],
   "source": [
    "pipeline_preprocessing_cfg = Config.configure_pipeline(id=\"pipeline_preprocessing\",\n",
    "                                                       task_configs=[task_preprocess_cfg])\n",
    "\n",
    "pipeline_arima_cfg = Config.configure_pipeline(id=\"ARIMA\",\n",
    "                                               task_configs=[task_train_cfg,\n",
    "                                                             task_forecast_cfg,\n",
    "                                                             task_result_cfg])"
   ]
  },
  {
   "cell_type": "markdown",
   "id": "9834cac0",
   "metadata": {},
   "source": [
    "## Add more models\n",
    "\n",
    "<img src=\"img/pipeline_linear_regression.svg\" alt=\"drawing\" width=\"500\"/>"
   ]
  },
  {
   "cell_type": "code",
   "execution_count": 44,
   "id": "aa1025e1",
   "metadata": {},
   "outputs": [],
   "source": [
    "def train_linear_regression(train_data):    \n",
    "    y = train_data['Deaths']\n",
    "    X = train_data.drop(['Deaths','Date'], axis=1)\n",
    "    \n",
    "    model = LinearRegression()\n",
    "    model.fit(X,y)\n",
    "    return model\n",
    "\n",
    "def forecast_linear_regression(model, date):\n",
    "    dates = pd.to_datetime([date + dt.timedelta(days=i)\n",
    "                            for i in range(60)])\n",
    "    X = add_features(pd.DataFrame({\"Date\":dates}))\n",
    "    X.drop('Date', axis=1, inplace=True)\n",
    "    predictions = model.predict(X)\n",
    "    return predictions\n",
    "\n",
    "\n",
    "task_train_cfg = Config.configure_task(id=\"task_train\",\n",
    "                                      function=train_linear_regression,\n",
    "                                      input=train_data_cfg,\n",
    "                                      output=model_cfg)\n",
    "\n",
    "task_forecast_linear_cfg = Config.configure_task(id=\"task_forecast_linear\",\n",
    "                                      function=forecast_linear_regression,\n",
    "                                      input=[model_cfg, date_cfg],\n",
    "                                      output=predictions_cfg)\n",
    "\n",
    "pipeline_linear_regression_cfg = Config.configure_pipeline(id=\"LinearRegression\",\n",
    "                                               task_configs=[task_train_cfg,\n",
    "                                                             task_forecast_linear_cfg,\n",
    "                                                             task_result_cfg])"
   ]
  },
  {
   "cell_type": "markdown",
   "id": "27dbc823",
   "metadata": {
    "id": "27dbc823"
   },
   "source": [
    "## [Configuration of scénario](https://docs.taipy.io/en/release-1.1/manuals/reference/taipy.Config/#taipy.core.config.config.Config.configure_default_scenario)"
   ]
  },
  {
   "cell_type": "code",
   "execution_count": 45,
   "id": "36f84118",
   "metadata": {},
   "outputs": [],
   "source": [
    "scenario_cfg = Config.configure_scenario(id='scenario', pipeline_configs=[pipeline_preprocessing_cfg,\n",
    "                                                                          pipeline_arima_cfg,\n",
    "                                                                          pipeline_linear_regression_cfg])"
   ]
  },
  {
   "cell_type": "markdown",
   "id": "986ebad5",
   "metadata": {
    "id": "986ebad5"
   },
   "source": [
    "## Creation and submit of scenario"
   ]
  },
  {
   "cell_type": "code",
   "execution_count": 46,
   "id": "ee902abf",
   "metadata": {
    "id": "ee902abf",
    "outputId": "f2e36e97-1ce2-49ae-b4b7-23f84e68892a"
   },
   "outputs": [
    {
     "name": "stderr",
     "output_type": "stream",
     "text": [
      "C:\\Users\\jacta\\AppData\\Local\\R-MINI~1\\envs\\notebook\\lib\\site-packages\\taipy\\core\\data\\csv.py:161: DtypeWarning: Columns (0,1) have mixed types. Specify dtype option on import or set low_memory=False.\n",
      "  return pd.read_csv(self._path)\n"
     ]
    },
    {
     "name": "stdout",
     "output_type": "stream",
     "text": [
      "[2022-11-02 15:45:25,410][Taipy][INFO] job JOB_task_preprocess_data_1f33ff01-f793-47c1-a6de-3ffdd7166290 is completed.\n"
     ]
    },
    {
     "name": "stderr",
     "output_type": "stream",
     "text": [
      "C:\\Users\\jacta\\AppData\\Local\\Temp\\ipykernel_31024\\2389702588.py:16: FutureWarning: The default value of numeric_only in DataFrameGroupBy.sum is deprecated. In a future version, numeric_only will default to False. Either specify numeric_only or select only columns which should be valid for the function.\n",
      "  .sum()\\\n"
     ]
    },
    {
     "name": "stdout",
     "output_type": "stream",
     "text": [
      "[2022-11-02 15:45:25,819][Taipy][INFO] job JOB_task_train_d1288926-1ceb-45df-8421-ec39b919fe9d is completed.\n",
      "[2022-11-02 15:45:26,039][Taipy][WARNING] JOB_task_forecast_1e3a852f-a53e-4874-a91d-946c17b91e52 is not in the blocked list anymore.\n",
      "[2022-11-02 15:45:26,065][Taipy][ERROR]  1 errors occurred during execution of job JOB_task_forecast_1e3a852f-a53e-4874-a91d-946c17b91e52\n",
      "[2022-11-02 15:45:26,069][Taipy][ERROR] Traceback (most recent call last):\n",
      "  File \"C:\\Users\\jacta\\AppData\\Local\\R-MINI~1\\envs\\notebook\\lib\\site-packages\\taipy\\core\\_scheduler\\_dispatcher\\_job_dispatcher.py\", line 144, in _run_wrapped_function\n",
      "    results = fct(*cls.__read_inputs(inputs))\n",
      "  File \"C:\\Users\\jacta\\AppData\\Local\\Temp\\ipykernel_31024\\2389702588.py\", line 41, in forecast\n",
      "    predictions = model.predict(n_periods=60)\n",
      "TypeError: LinearModel.predict() got an unexpected keyword argument 'n_periods'\n",
      "\n",
      "[2022-11-02 15:45:26,491][Taipy][INFO] job JOB_task_train_deb19803-a56a-47cb-8dcf-f949636871b2 is completed.\n",
      "[2022-11-02 15:45:26,768][Taipy][INFO] job JOB_task_forecast_linear_0b484dfe-3045-495a-a985-1097e72b8686 is completed.\n",
      "[2022-11-02 15:45:26,931][Taipy][INFO] job JOB_task_result_4462eca4-8ce8-4b55-a950-6eb001e51510 is completed.\n"
     ]
    },
    {
     "data": {
      "text/plain": [
       "{'PIPELINE_pipeline_preprocessing_885b3e65-eb04-4954-9eb8-bbe9610ccd0a': [<taipy.core.job.job.Job at 0x1e7d4f6ab00>],\n",
       " 'PIPELINE_ARIMA_6d0cd462-f0e1-4bfc-90b1-e65941db42fd': [<taipy.core.job.job.Job at 0x1e7d5023490>,\n",
       "  <taipy.core.job.job.Job at 0x1e7d67eaad0>,\n",
       "  <taipy.core.job.job.Job at 0x1e7d67e82e0>],\n",
       " 'PIPELINE_LinearRegression_d4050e3c-489c-4c1c-963f-728cfe447eca': [<taipy.core.job.job.Job at 0x1e7d67eb370>,\n",
       "  <taipy.core.job.job.Job at 0x1e7d806ce50>,\n",
       "  <taipy.core.job.job.Job at 0x1e7d67eb940>]}"
      ]
     },
     "execution_count": 46,
     "metadata": {},
     "output_type": "execute_result"
    }
   ],
   "source": [
    "scenario = tp.create_scenario(scenario_cfg, name='First Scenario')\n",
    "tp.submit(scenario)"
   ]
  },
  {
   "cell_type": "code",
   "execution_count": 47,
   "id": "0438a233",
   "metadata": {
    "id": "0438a233",
    "outputId": "494c2bd8-eef2-4a0f-92ca-46ce061aeaee"
   },
   "outputs": [
    {
     "name": "stderr",
     "output_type": "stream",
     "text": [
      "C:\\Users\\jacta\\AppData\\Local\\R-MINI~1\\envs\\notebook\\lib\\site-packages\\taipy\\core\\data\\csv.py:161: DtypeWarning: Columns (0,1) have mixed types. Specify dtype option on import or set low_memory=False.\n",
      "  return pd.read_csv(self._path)\n"
     ]
    },
    {
     "data": {
      "text/html": [
       "<div>\n",
       "<style scoped>\n",
       "    .dataframe tbody tr th:only-of-type {\n",
       "        vertical-align: middle;\n",
       "    }\n",
       "\n",
       "    .dataframe tbody tr th {\n",
       "        vertical-align: top;\n",
       "    }\n",
       "\n",
       "    .dataframe thead th {\n",
       "        text-align: right;\n",
       "    }\n",
       "</style>\n",
       "<table border=\"1\" class=\"dataframe\">\n",
       "  <thead>\n",
       "    <tr style=\"text-align: right;\">\n",
       "      <th></th>\n",
       "      <th>Country/Region</th>\n",
       "      <th>Province/State</th>\n",
       "      <th>Latitude</th>\n",
       "      <th>Longitude</th>\n",
       "      <th>Confirmed</th>\n",
       "      <th>Recovered</th>\n",
       "      <th>Deaths</th>\n",
       "      <th>Date</th>\n",
       "    </tr>\n",
       "  </thead>\n",
       "  <tbody>\n",
       "    <tr>\n",
       "      <th>0</th>\n",
       "      <td>NaN</td>\n",
       "      <td>NaN</td>\n",
       "      <td>NaN</td>\n",
       "      <td>NaN</td>\n",
       "      <td>51526.0</td>\n",
       "      <td>41727.0</td>\n",
       "      <td>2191.0</td>\n",
       "      <td>2021-01-01</td>\n",
       "    </tr>\n",
       "    <tr>\n",
       "      <th>1</th>\n",
       "      <td>NaN</td>\n",
       "      <td>NaN</td>\n",
       "      <td>NaN</td>\n",
       "      <td>NaN</td>\n",
       "      <td>58316.0</td>\n",
       "      <td>33634.0</td>\n",
       "      <td>1181.0</td>\n",
       "      <td>2021-01-01</td>\n",
       "    </tr>\n",
       "    <tr>\n",
       "      <th>2</th>\n",
       "      <td>NaN</td>\n",
       "      <td>NaN</td>\n",
       "      <td>NaN</td>\n",
       "      <td>NaN</td>\n",
       "      <td>99897.0</td>\n",
       "      <td>67395.0</td>\n",
       "      <td>2762.0</td>\n",
       "      <td>2021-01-01</td>\n",
       "    </tr>\n",
       "    <tr>\n",
       "      <th>3</th>\n",
       "      <td>NaN</td>\n",
       "      <td>NaN</td>\n",
       "      <td>NaN</td>\n",
       "      <td>NaN</td>\n",
       "      <td>8117.0</td>\n",
       "      <td>7463.0</td>\n",
       "      <td>84.0</td>\n",
       "      <td>2021-01-01</td>\n",
       "    </tr>\n",
       "    <tr>\n",
       "      <th>4</th>\n",
       "      <td>NaN</td>\n",
       "      <td>NaN</td>\n",
       "      <td>NaN</td>\n",
       "      <td>NaN</td>\n",
       "      <td>17568.0</td>\n",
       "      <td>11146.0</td>\n",
       "      <td>405.0</td>\n",
       "      <td>2021-01-01</td>\n",
       "    </tr>\n",
       "    <tr>\n",
       "      <th>...</th>\n",
       "      <td>...</td>\n",
       "      <td>...</td>\n",
       "      <td>...</td>\n",
       "      <td>...</td>\n",
       "      <td>...</td>\n",
       "      <td>...</td>\n",
       "      <td>...</td>\n",
       "      <td>...</td>\n",
       "    </tr>\n",
       "    <tr>\n",
       "      <th>1241947</th>\n",
       "      <td>Vietnam</td>\n",
       "      <td>NaN</td>\n",
       "      <td>14.058324</td>\n",
       "      <td>108.277199</td>\n",
       "      <td>1465.0</td>\n",
       "      <td>1325.0</td>\n",
       "      <td>35.0</td>\n",
       "      <td>2020-12-31</td>\n",
       "    </tr>\n",
       "    <tr>\n",
       "      <th>1241948</th>\n",
       "      <td>West Bank and Gaza</td>\n",
       "      <td>NaN</td>\n",
       "      <td>31.952200</td>\n",
       "      <td>35.233200</td>\n",
       "      <td>138004.0</td>\n",
       "      <td>117183.0</td>\n",
       "      <td>1400.0</td>\n",
       "      <td>2020-12-31</td>\n",
       "    </tr>\n",
       "    <tr>\n",
       "      <th>1241949</th>\n",
       "      <td>Yemen</td>\n",
       "      <td>NaN</td>\n",
       "      <td>15.552727</td>\n",
       "      <td>48.516388</td>\n",
       "      <td>2099.0</td>\n",
       "      <td>1394.0</td>\n",
       "      <td>610.0</td>\n",
       "      <td>2020-12-31</td>\n",
       "    </tr>\n",
       "    <tr>\n",
       "      <th>1241950</th>\n",
       "      <td>Zambia</td>\n",
       "      <td>NaN</td>\n",
       "      <td>-13.133897</td>\n",
       "      <td>27.849332</td>\n",
       "      <td>20725.0</td>\n",
       "      <td>18660.0</td>\n",
       "      <td>388.0</td>\n",
       "      <td>2020-12-31</td>\n",
       "    </tr>\n",
       "    <tr>\n",
       "      <th>1241951</th>\n",
       "      <td>Zimbabwe</td>\n",
       "      <td>NaN</td>\n",
       "      <td>-19.015438</td>\n",
       "      <td>29.154857</td>\n",
       "      <td>13867.0</td>\n",
       "      <td>11250.0</td>\n",
       "      <td>363.0</td>\n",
       "      <td>2020-12-31</td>\n",
       "    </tr>\n",
       "  </tbody>\n",
       "</table>\n",
       "<p>1241952 rows × 8 columns</p>\n",
       "</div>"
      ],
      "text/plain": [
       "             Country/Region Province/State   Latitude   Longitude  Confirmed  \\\n",
       "0                       NaN            NaN        NaN         NaN    51526.0   \n",
       "1                       NaN            NaN        NaN         NaN    58316.0   \n",
       "2                       NaN            NaN        NaN         NaN    99897.0   \n",
       "3                       NaN            NaN        NaN         NaN     8117.0   \n",
       "4                       NaN            NaN        NaN         NaN    17568.0   \n",
       "...                     ...            ...        ...         ...        ...   \n",
       "1241947             Vietnam            NaN  14.058324  108.277199     1465.0   \n",
       "1241948  West Bank and Gaza            NaN  31.952200   35.233200   138004.0   \n",
       "1241949               Yemen            NaN  15.552727   48.516388     2099.0   \n",
       "1241950              Zambia            NaN -13.133897   27.849332    20725.0   \n",
       "1241951            Zimbabwe            NaN -19.015438   29.154857    13867.0   \n",
       "\n",
       "         Recovered  Deaths        Date  \n",
       "0          41727.0  2191.0  2021-01-01  \n",
       "1          33634.0  1181.0  2021-01-01  \n",
       "2          67395.0  2762.0  2021-01-01  \n",
       "3           7463.0    84.0  2021-01-01  \n",
       "4          11146.0   405.0  2021-01-01  \n",
       "...            ...     ...         ...  \n",
       "1241947     1325.0    35.0  2020-12-31  \n",
       "1241948   117183.0  1400.0  2020-12-31  \n",
       "1241949     1394.0   610.0  2020-12-31  \n",
       "1241950    18660.0   388.0  2020-12-31  \n",
       "1241951    11250.0   363.0  2020-12-31  \n",
       "\n",
       "[1241952 rows x 8 columns]"
      ]
     },
     "execution_count": 47,
     "metadata": {},
     "output_type": "execute_result"
    }
   ],
   "source": [
    "scenario.initial_data.read()"
   ]
  },
  {
   "cell_type": "code",
   "execution_count": 48,
   "id": "a4f4dafd",
   "metadata": {
    "id": "a4f4dafd",
    "outputId": "a9928f34-27e3-4e90-c43d-4aa073fc5617"
   },
   "outputs": [
    {
     "data": {
      "text/html": [
       "<div>\n",
       "<style scoped>\n",
       "    .dataframe tbody tr th:only-of-type {\n",
       "        vertical-align: middle;\n",
       "    }\n",
       "\n",
       "    .dataframe tbody tr th {\n",
       "        vertical-align: top;\n",
       "    }\n",
       "\n",
       "    .dataframe thead th {\n",
       "        text-align: right;\n",
       "    }\n",
       "</style>\n",
       "<table border=\"1\" class=\"dataframe\">\n",
       "  <thead>\n",
       "    <tr style=\"text-align: right;\">\n",
       "      <th></th>\n",
       "      <th>Date</th>\n",
       "      <th>Deaths</th>\n",
       "      <th>Months</th>\n",
       "      <th>Days</th>\n",
       "      <th>Week</th>\n",
       "      <th>Day of week</th>\n",
       "    </tr>\n",
       "  </thead>\n",
       "  <tbody>\n",
       "    <tr>\n",
       "      <th>0</th>\n",
       "      <td>2020-01-30</td>\n",
       "      <td>0.0</td>\n",
       "      <td>1</td>\n",
       "      <td>4</td>\n",
       "      <td>5</td>\n",
       "      <td>3</td>\n",
       "    </tr>\n",
       "    <tr>\n",
       "      <th>1</th>\n",
       "      <td>2020-01-31</td>\n",
       "      <td>0.0</td>\n",
       "      <td>1</td>\n",
       "      <td>5</td>\n",
       "      <td>5</td>\n",
       "      <td>4</td>\n",
       "    </tr>\n",
       "    <tr>\n",
       "      <th>2</th>\n",
       "      <td>2020-02-01</td>\n",
       "      <td>0.0</td>\n",
       "      <td>2</td>\n",
       "      <td>6</td>\n",
       "      <td>5</td>\n",
       "      <td>5</td>\n",
       "    </tr>\n",
       "    <tr>\n",
       "      <th>3</th>\n",
       "      <td>2020-02-02</td>\n",
       "      <td>0.0</td>\n",
       "      <td>2</td>\n",
       "      <td>7</td>\n",
       "      <td>5</td>\n",
       "      <td>6</td>\n",
       "    </tr>\n",
       "    <tr>\n",
       "      <th>4</th>\n",
       "      <td>2020-02-03</td>\n",
       "      <td>0.0</td>\n",
       "      <td>2</td>\n",
       "      <td>1</td>\n",
       "      <td>6</td>\n",
       "      <td>0</td>\n",
       "    </tr>\n",
       "    <tr>\n",
       "      <th>...</th>\n",
       "      <td>...</td>\n",
       "      <td>...</td>\n",
       "      <td>...</td>\n",
       "      <td>...</td>\n",
       "      <td>...</td>\n",
       "      <td>...</td>\n",
       "    </tr>\n",
       "    <tr>\n",
       "      <th>250</th>\n",
       "      <td>2020-10-06</td>\n",
       "      <td>104555.0</td>\n",
       "      <td>10</td>\n",
       "      <td>2</td>\n",
       "      <td>41</td>\n",
       "      <td>1</td>\n",
       "    </tr>\n",
       "    <tr>\n",
       "      <th>251</th>\n",
       "      <td>2020-10-07</td>\n",
       "      <td>105526.0</td>\n",
       "      <td>10</td>\n",
       "      <td>3</td>\n",
       "      <td>41</td>\n",
       "      <td>2</td>\n",
       "    </tr>\n",
       "    <tr>\n",
       "      <th>252</th>\n",
       "      <td>2020-10-08</td>\n",
       "      <td>106490.0</td>\n",
       "      <td>10</td>\n",
       "      <td>4</td>\n",
       "      <td>41</td>\n",
       "      <td>3</td>\n",
       "    </tr>\n",
       "    <tr>\n",
       "      <th>253</th>\n",
       "      <td>2020-10-09</td>\n",
       "      <td>107416.0</td>\n",
       "      <td>10</td>\n",
       "      <td>5</td>\n",
       "      <td>41</td>\n",
       "      <td>4</td>\n",
       "    </tr>\n",
       "    <tr>\n",
       "      <th>254</th>\n",
       "      <td>2020-10-10</td>\n",
       "      <td>108334.0</td>\n",
       "      <td>10</td>\n",
       "      <td>6</td>\n",
       "      <td>41</td>\n",
       "      <td>5</td>\n",
       "    </tr>\n",
       "  </tbody>\n",
       "</table>\n",
       "<p>255 rows × 6 columns</p>\n",
       "</div>"
      ],
      "text/plain": [
       "           Date    Deaths  Months  Days  Week  Day of week\n",
       "0    2020-01-30       0.0       1     4     5            3\n",
       "1    2020-01-31       0.0       1     5     5            4\n",
       "2    2020-02-01       0.0       2     6     5            5\n",
       "3    2020-02-02       0.0       2     7     5            6\n",
       "4    2020-02-03       0.0       2     1     6            0\n",
       "..          ...       ...     ...   ...   ...          ...\n",
       "250  2020-10-06  104555.0      10     2    41            1\n",
       "251  2020-10-07  105526.0      10     3    41            2\n",
       "252  2020-10-08  106490.0      10     4    41            3\n",
       "253  2020-10-09  107416.0      10     5    41            4\n",
       "254  2020-10-10  108334.0      10     6    41            5\n",
       "\n",
       "[255 rows x 6 columns]"
      ]
     },
     "execution_count": 48,
     "metadata": {},
     "output_type": "execute_result"
    }
   ],
   "source": [
    "scenario.train_data.read()"
   ]
  },
  {
   "cell_type": "code",
   "execution_count": 49,
   "id": "79602c0e",
   "metadata": {
    "id": "79602c0e",
    "outputId": "fe06a4ba-a59a-419e-f244-aed87412fb05"
   },
   "outputs": [
    {
     "data": {
      "text/plain": [
       "array([74825.01627879, 75240.33209199, 75021.90955514, 75437.22536835,\n",
       "       75852.54118155, 76267.85699475, 76683.17280796, 77098.48862116,\n",
       "       77513.80443437, 77295.38189751, 77710.69771072, 78126.01352392,\n",
       "       78541.32933712, 78956.64515033, 79371.96096353, 79787.27677674,\n",
       "       79568.85423988, 79984.17005309, 80399.48586629, 80814.8016795 ,\n",
       "       81230.1174927 , 81645.4333059 , 84018.0020429 , 83799.57950605,\n",
       "       84214.89531925, 84630.21113246, 85045.52694566, 85460.84275886,\n",
       "       85876.15857207, 86291.47438527, 86073.05184842, 86488.36766162,\n",
       "       86903.68347483, 87318.99928803, 87734.31510124, 88149.63091444,\n",
       "       88564.94672764, 88346.52419079, 88761.84000399, 89177.1558172 ,\n",
       "       89592.4716304 , 90007.78744361, 90423.10325681, 90838.41907001,\n",
       "       90619.99653316, 91035.31234636, 91450.62815957, 91865.94397277,\n",
       "       92281.25978598, 92696.57559918, 93111.89141238, 92893.46887553,\n",
       "       95266.03761253, 95681.35342573, 96096.66923894, 96511.98505214,\n",
       "       96927.30086535, 97342.61667855, 97124.1941417 , 97539.5099549 ])"
      ]
     },
     "execution_count": 49,
     "metadata": {},
     "output_type": "execute_result"
    }
   ],
   "source": [
    "scenario.LinearRegression.predictions.read()"
   ]
  },
  {
   "cell_type": "markdown",
   "id": "d9915978",
   "metadata": {
    "id": "d9915978"
   },
   "source": [
    "## Caching\n",
    "Some job are skipped because no change has been done to the \"input\" Data Nodes."
   ]
  },
  {
   "cell_type": "code",
   "execution_count": 50,
   "id": "7cb68da0",
   "metadata": {
    "id": "7cb68da0",
    "outputId": "b06a184d-f2aa-4e00-cac4-3a0111d1755c"
   },
   "outputs": [
    {
     "name": "stdout",
     "output_type": "stream",
     "text": [
      "[2022-11-02 15:45:28,486][Taipy][INFO] job JOB_task_preprocess_data_12325016-2165-4b14-b6dc-c55fb50dbbf1 is skipped.\n",
      "[2022-11-02 15:45:28,742][Taipy][INFO] job JOB_task_train_b3bf8edc-6973-4999-aa18-685bed946f21 is skipped.\n",
      "[2022-11-02 15:45:28,875][Taipy][WARNING] JOB_task_forecast_60efb1c3-ca47-4eb2-9447-2141a032cd74 is not in the blocked list anymore.\n",
      "[2022-11-02 15:45:28,896][Taipy][ERROR]  1 errors occurred during execution of job JOB_task_forecast_60efb1c3-ca47-4eb2-9447-2141a032cd74\n",
      "[2022-11-02 15:45:28,897][Taipy][ERROR] Traceback (most recent call last):\n",
      "  File \"C:\\Users\\jacta\\AppData\\Local\\R-MINI~1\\envs\\notebook\\lib\\site-packages\\taipy\\core\\_scheduler\\_dispatcher\\_job_dispatcher.py\", line 144, in _run_wrapped_function\n",
      "    results = fct(*cls.__read_inputs(inputs))\n",
      "  File \"C:\\Users\\jacta\\AppData\\Local\\Temp\\ipykernel_31024\\2389702588.py\", line 41, in forecast\n",
      "    predictions = model.predict(n_periods=60)\n",
      "TypeError: LinearModel.predict() got an unexpected keyword argument 'n_periods'\n",
      "\n",
      "[2022-11-02 15:45:29,142][Taipy][INFO] job JOB_task_train_57f29cd8-ab7e-43e8-abbc-b3f0ecaf1103 is skipped.\n",
      "[2022-11-02 15:45:29,419][Taipy][INFO] job JOB_task_forecast_linear_4ff72adb-2fa5-4050-b9cb-8d8a9e7cdc33 is completed.\n",
      "[2022-11-02 15:45:29,607][Taipy][INFO] job JOB_task_result_cf25927d-2587-4af7-9aaf-40e62d66fe09 is completed.\n"
     ]
    },
    {
     "data": {
      "text/plain": [
       "{'PIPELINE_pipeline_preprocessing_885b3e65-eb04-4954-9eb8-bbe9610ccd0a': [<taipy.core.job.job.Job at 0x1e7d806d1e0>],\n",
       " 'PIPELINE_ARIMA_6d0cd462-f0e1-4bfc-90b1-e65941db42fd': [<taipy.core.job.job.Job at 0x1e7d8086b30>,\n",
       "  <taipy.core.job.job.Job at 0x1e7d80860b0>,\n",
       "  <taipy.core.job.job.Job at 0x1e7d8086050>],\n",
       " 'PIPELINE_LinearRegression_d4050e3c-489c-4c1c-963f-728cfe447eca': [<taipy.core.job.job.Job at 0x1e7dc8f5ab0>,\n",
       "  <taipy.core.job.job.Job at 0x1e7d4fd87f0>,\n",
       "  <taipy.core.job.job.Job at 0x1e7dc8f6cb0>]}"
      ]
     },
     "execution_count": 50,
     "metadata": {},
     "output_type": "execute_result"
    }
   ],
   "source": [
    "tp.submit(scenario)"
   ]
  },
  {
   "cell_type": "markdown",
   "id": "ba83beac",
   "metadata": {
    "id": "ba83beac"
   },
   "source": [
    "## Write in data nodes\n",
    "\n",
    "To write a data node:\n",
    "\n",
    "`<Data Node>.write(new_value)`"
   ]
  },
  {
   "cell_type": "code",
   "execution_count": 51,
   "id": "31d6562d",
   "metadata": {
    "id": "31d6562d",
    "outputId": "9fef8e2d-9026-438f-da23-8299d3fe3497"
   },
   "outputs": [
    {
     "name": "stderr",
     "output_type": "stream",
     "text": [
      "C:\\Users\\jacta\\AppData\\Local\\R-MINI~1\\envs\\notebook\\lib\\site-packages\\taipy\\core\\data\\csv.py:161: DtypeWarning: Columns (0,1) have mixed types. Specify dtype option on import or set low_memory=False.\n",
      "  return pd.read_csv(self._path)\n"
     ]
    },
    {
     "name": "stdout",
     "output_type": "stream",
     "text": [
      "[2022-11-02 15:45:31,619][Taipy][INFO] job JOB_task_preprocess_data_9a68139b-6170-439c-8dbd-4d0d5765adf1 is completed.\n"
     ]
    },
    {
     "name": "stderr",
     "output_type": "stream",
     "text": [
      "C:\\Users\\jacta\\AppData\\Local\\Temp\\ipykernel_31024\\2389702588.py:16: FutureWarning: The default value of numeric_only in DataFrameGroupBy.sum is deprecated. In a future version, numeric_only will default to False. Either specify numeric_only or select only columns which should be valid for the function.\n",
      "  .sum()\\\n"
     ]
    },
    {
     "name": "stdout",
     "output_type": "stream",
     "text": [
      "[2022-11-02 15:45:31,818][Taipy][INFO] job JOB_task_train_37bc94fb-c9fc-4df2-a556-70bc3470c249 is completed.\n",
      "[2022-11-02 15:45:31,946][Taipy][WARNING] JOB_task_forecast_3bc1a49a-535e-4c2d-8769-ba8f7665d554 is not in the blocked list anymore.\n",
      "[2022-11-02 15:45:31,958][Taipy][ERROR]  1 errors occurred during execution of job JOB_task_forecast_3bc1a49a-535e-4c2d-8769-ba8f7665d554\n",
      "[2022-11-02 15:45:31,959][Taipy][ERROR] Traceback (most recent call last):\n",
      "  File \"C:\\Users\\jacta\\AppData\\Local\\R-MINI~1\\envs\\notebook\\lib\\site-packages\\taipy\\core\\_scheduler\\_dispatcher\\_job_dispatcher.py\", line 144, in _run_wrapped_function\n",
      "    results = fct(*cls.__read_inputs(inputs))\n",
      "  File \"C:\\Users\\jacta\\AppData\\Local\\Temp\\ipykernel_31024\\2389702588.py\", line 41, in forecast\n",
      "    predictions = model.predict(n_periods=60)\n",
      "TypeError: LinearModel.predict() got an unexpected keyword argument 'n_periods'\n",
      "\n",
      "[2022-11-02 15:45:32,129][Taipy][INFO] job JOB_task_train_c993a67d-a5fe-445d-96f3-60053cdd0576 is completed.\n",
      "[2022-11-02 15:45:32,206][Taipy][INFO] job JOB_task_forecast_linear_c537af2f-cfb2-4d9e-86e7-2f763bce68ec is completed.\n",
      "[2022-11-02 15:45:32,302][Taipy][INFO] job JOB_task_result_37748be4-20aa-4f98-9591-0d0b99879ae7 is completed.\n"
     ]
    },
    {
     "ename": "FileNotFoundError",
     "evalue": "[Errno 2] No such file or directory: '.data\\\\pickles\\\\DATANODE_result_821e9b2e-f278-4205-807c-2e4ef532cff0.p'",
     "output_type": "error",
     "traceback": [
      "\u001b[1;31m---------------------------------------------------------------------------\u001b[0m",
      "\u001b[1;31mFileNotFoundError\u001b[0m                         Traceback (most recent call last)",
      "Cell \u001b[1;32mIn [51], line 3\u001b[0m\n\u001b[0;32m      1\u001b[0m scenario\u001b[38;5;241m.\u001b[39mcountry\u001b[38;5;241m.\u001b[39mwrite(\u001b[38;5;124m'\u001b[39m\u001b[38;5;124mUS\u001b[39m\u001b[38;5;124m'\u001b[39m)\n\u001b[0;32m      2\u001b[0m tp\u001b[38;5;241m.\u001b[39msubmit(scenario)\n\u001b[1;32m----> 3\u001b[0m scenario\u001b[38;5;241m.\u001b[39mresult\u001b[38;5;241m.\u001b[39mread()\n",
      "File \u001b[1;32m~\\AppData\\Local\\R-MINI~1\\envs\\notebook\\lib\\site-packages\\taipy\\core\\data\\data_node.py:258\u001b[0m, in \u001b[0;36mDataNode.read\u001b[1;34m(self)\u001b[0m\n\u001b[0;32m    252\u001b[0m \u001b[38;5;124;03m\"\"\"Read the data referenced by this data node.\u001b[39;00m\n\u001b[0;32m    253\u001b[0m \n\u001b[0;32m    254\u001b[0m \u001b[38;5;124;03mReturns:\u001b[39;00m\n\u001b[0;32m    255\u001b[0m \u001b[38;5;124;03m    Any: The data referenced by this data node. None if the data has not been written yet.\u001b[39;00m\n\u001b[0;32m    256\u001b[0m \u001b[38;5;124;03m\"\"\"\u001b[39;00m\n\u001b[0;32m    257\u001b[0m \u001b[38;5;28;01mtry\u001b[39;00m:\n\u001b[1;32m--> 258\u001b[0m     \u001b[38;5;28;01mreturn\u001b[39;00m \u001b[38;5;28;43mself\u001b[39;49m\u001b[38;5;241;43m.\u001b[39;49m\u001b[43mread_or_raise\u001b[49m\u001b[43m(\u001b[49m\u001b[43m)\u001b[49m\n\u001b[0;32m    259\u001b[0m \u001b[38;5;28;01mexcept\u001b[39;00m NoData:\n\u001b[0;32m    260\u001b[0m     \u001b[38;5;28mself\u001b[39m\u001b[38;5;241m.\u001b[39m__logger\u001b[38;5;241m.\u001b[39mwarning(\u001b[38;5;124mf\u001b[39m\u001b[38;5;124m\"\u001b[39m\u001b[38;5;124mData node \u001b[39m\u001b[38;5;132;01m{\u001b[39;00m\u001b[38;5;28mself\u001b[39m\u001b[38;5;241m.\u001b[39mid\u001b[38;5;132;01m}\u001b[39;00m\u001b[38;5;124m is being read but has never been written.\u001b[39m\u001b[38;5;124m\"\u001b[39m)\n",
      "File \u001b[1;32m~\\AppData\\Local\\R-MINI~1\\envs\\notebook\\lib\\site-packages\\taipy\\core\\data\\data_node.py:249\u001b[0m, in \u001b[0;36mDataNode.read_or_raise\u001b[1;34m(self)\u001b[0m\n\u001b[0;32m    247\u001b[0m \u001b[38;5;28;01mif\u001b[39;00m \u001b[38;5;129;01mnot\u001b[39;00m \u001b[38;5;28mself\u001b[39m\u001b[38;5;241m.\u001b[39mlast_edit_date:\n\u001b[0;32m    248\u001b[0m     \u001b[38;5;28;01mraise\u001b[39;00m NoData(\u001b[38;5;124mf\u001b[39m\u001b[38;5;124m\"\u001b[39m\u001b[38;5;124mData node \u001b[39m\u001b[38;5;132;01m{\u001b[39;00m\u001b[38;5;28mself\u001b[39m\u001b[38;5;241m.\u001b[39mid\u001b[38;5;132;01m}\u001b[39;00m\u001b[38;5;124m has not been written yet.\u001b[39m\u001b[38;5;124m\"\u001b[39m)\n\u001b[1;32m--> 249\u001b[0m \u001b[38;5;28;01mreturn\u001b[39;00m \u001b[38;5;28;43mself\u001b[39;49m\u001b[38;5;241;43m.\u001b[39;49m\u001b[43m_read\u001b[49m\u001b[43m(\u001b[49m\u001b[43m)\u001b[49m\n",
      "File \u001b[1;32m~\\AppData\\Local\\R-MINI~1\\envs\\notebook\\lib\\site-packages\\taipy\\core\\data\\pickle.py:122\u001b[0m, in \u001b[0;36mPickleDataNode._read\u001b[1;34m(self)\u001b[0m\n\u001b[0;32m    121\u001b[0m \u001b[38;5;28;01mdef\u001b[39;00m \u001b[38;5;21m_read\u001b[39m(\u001b[38;5;28mself\u001b[39m):\n\u001b[1;32m--> 122\u001b[0m     \u001b[38;5;28;01mreturn\u001b[39;00m pickle\u001b[38;5;241m.\u001b[39mload(\u001b[38;5;28;43mopen\u001b[39;49m\u001b[43m(\u001b[49m\u001b[38;5;28;43mself\u001b[39;49m\u001b[38;5;241;43m.\u001b[39;49m\u001b[43m_path\u001b[49m\u001b[43m,\u001b[49m\u001b[43m \u001b[49m\u001b[38;5;124;43m\"\u001b[39;49m\u001b[38;5;124;43mrb\u001b[39;49m\u001b[38;5;124;43m\"\u001b[39;49m\u001b[43m)\u001b[49m)\n",
      "\u001b[1;31mFileNotFoundError\u001b[0m: [Errno 2] No such file or directory: '.data\\\\pickles\\\\DATANODE_result_821e9b2e-f278-4205-807c-2e4ef532cff0.p'"
     ]
    }
   ],
   "source": [
    "scenario.country.write('US')\n",
    "tp.submit(scenario)\n",
    "scenario.result.read()"
   ]
  },
  {
   "cell_type": "markdown",
   "id": "9d9d2c81",
   "metadata": {
    "id": "9d9d2c81"
   },
   "source": [
    "## Simple framework"
   ]
  },
  {
   "cell_type": "code",
   "execution_count": null,
   "id": "4892eb7d",
   "metadata": {
    "id": "4892eb7d"
   },
   "outputs": [],
   "source": [
    "scenario = tp.create_scenario(scenario_cfg, name='Second Scenario')\n",
    "tp.submit(scenario)"
   ]
  },
  {
   "cell_type": "code",
   "execution_count": null,
   "id": "3b7c15c8",
   "metadata": {
    "id": "a9248942"
   },
   "outputs": [],
   "source": [
    "scenario.ARIMA.model.read()"
   ]
  },
  {
   "cell_type": "code",
   "execution_count": null,
   "id": "89d5d002",
   "metadata": {},
   "outputs": [],
   "source": [
    "scenario.pipelines['LinearRegression'].model.read()"
   ]
  },
  {
   "cell_type": "code",
   "execution_count": null,
   "id": "daf87c40",
   "metadata": {},
   "outputs": [],
   "source": [
    "[s.country.read() for s in tp.get_scenarios()]"
   ]
  },
  {
   "cell_type": "code",
   "execution_count": null,
   "id": "b3181b24",
   "metadata": {},
   "outputs": [],
   "source": [
    "[s.date.read() for s in tp.get_scenarios()]"
   ]
  },
  {
   "cell_type": "markdown",
   "id": "73fd648f",
   "metadata": {
    "id": "73fd648f"
   },
   "source": [
    "## Create a Gui for the backend\n",
    "_scenario_selector_ lets you choose a scenario and display its results."
   ]
  },
  {
   "cell_type": "code",
   "execution_count": null,
   "id": "760f1a04",
   "metadata": {
    "id": "760f1a04",
    "outputId": "447fe599-faf2-47d9-d3f8-2f3e2297642a"
   },
   "outputs": [],
   "source": [
    "scenario_selector = [(s.id, s.name) for s in tp.get_scenarios()]\n",
    "selected_scenario = scenario.id\n",
    "print(scenario_selector,'\\n', selected_scenario)"
   ]
  },
  {
   "cell_type": "code",
   "execution_count": null,
   "id": "b590bdcc",
   "metadata": {
    "id": "b590bdcc",
    "outputId": "5747bb81-4c48-45ad-8457-f36fa783cff5"
   },
   "outputs": [],
   "source": [
    "result_arima = scenario.pipelines['ARIMA'].result.read()\n",
    "result_rd = scenario.pipelines['LinearRegression'].result.read()\n",
    "result = result_rd.merge(result_arima, on=\"Date\", how=\"outer\").sort_values(by='Date')\n",
    "result"
   ]
  },
  {
   "cell_type": "markdown",
   "id": "53c5cbc8",
   "metadata": {
    "id": "53c5cbc8"
   },
   "source": [
    "**Tips** : the _value_by_id_ property if set to True for a selected will make _selected_scenario_ directly refer to the first element of the tupple (here the id)"
   ]
  },
  {
   "cell_type": "markdown",
   "id": "4d705028",
   "metadata": {
    "id": "4d705028"
   },
   "source": [
    "![](img/predictions.png)"
   ]
  },
  {
   "cell_type": "code",
   "execution_count": null,
   "id": "ff76ef5f",
   "metadata": {
    "id": "ff76ef5f"
   },
   "outputs": [],
   "source": [
    "prediction_md = \"\"\"\n",
    "<|layout|columns=1 2 5 1 3|\n",
    "<|{scenario_name}|input|label=Name|>\n",
    "\n",
    "<br/>\n",
    "<|Create|button|on_action=create_new_scenario|>\n",
    "\n",
    "Prediction date\n",
    "<|{first_date}|date|>\n",
    "\n",
    "<|{selected_country}|selector|lov={country_lov}|dropdown|on_change=on_change_country|label=Country|>\n",
    "\n",
    "<br/>\n",
    "<|Submit|button|on_action=submit_scenario|>\n",
    "\n",
    "<|{selected_scenario}|selector|lov={scenario_selector}|on_change=actualize_graph|dropdown|value_by_id|label=Scenario|>\n",
    "|>\n",
    "\n",
    "<|{result}|chart|x=Date|y[1]=Deaths_x|type[1]=bar|y[2]=Predictions_x|y[3]=Predictions_y|>\n",
    "\"\"\""
   ]
  },
  {
   "cell_type": "code",
   "execution_count": null,
   "id": "de9e35b6",
   "metadata": {
    "id": "de9e35b6"
   },
   "outputs": [],
   "source": [
    "def create_new_scenario(state):\n",
    "    scenario = tp.create_scenario(scenario_cfg, name=state.scenario_name)\n",
    "    state.scenario_selector += [(scenario.id, scenario.name)]"
   ]
  },
  {
   "cell_type": "code",
   "execution_count": null,
   "id": "41f73a34",
   "metadata": {
    "id": "41f73a34"
   },
   "outputs": [],
   "source": [
    "def submit_scenario(state):\n",
    "    # 1) get the selected scenario\n",
    "    # 2) write in country Data Node, the selected country\n",
    "    # 3) submit the scenario\n",
    "    # 4) actualize le graph avec actualize_graph\n",
    "    scenario = tp.get(state.selected_scenario)\n",
    "    scenario.country.write(state.selected_country)\n",
    "    scenario.date.write(state.first_date.replace(tzinfo=None))\n",
    "    tp.submit(scenario)\n",
    "    actualize_graph(state)"
   ]
  },
  {
   "cell_type": "code",
   "execution_count": null,
   "id": "ef2d2fff",
   "metadata": {
    "id": "ef2d2fff"
   },
   "outputs": [],
   "source": [
    "def actualize_graph(state):\n",
    "    # 1) update the result dataframe\n",
    "    # 2) change selected_country with the predicted country of the scenario\n",
    "    scenario = tp.get(state.selected_scenario)\n",
    "    result_arima = scenario.pipelines['ARIMA'].result.read()\n",
    "    result_rd = scenario.pipelines['LinearRegression'].result.read()\n",
    "    if result_arima is not None and result_rd is not None:\n",
    "        state.result = result_rd.merge(result_arima, on=\"Date\", how=\"outer\").sort_values(by='Date')\n",
    "    state.selected_country = scenario.country.read()"
   ]
  },
  {
   "cell_type": "code",
   "execution_count": null,
   "id": "b9d18b7f",
   "metadata": {
    "id": "b9d18b7f",
    "outputId": "f0b7e1d3-3a44-4f8d-fccf-95065ae86ea1"
   },
   "outputs": [],
   "source": [
    "Gui(prediction_md).run(dark_mode=False)"
   ]
  },
  {
   "cell_type": "markdown",
   "id": "40a63136",
   "metadata": {
    "id": "40a63136"
   },
   "source": [
    "# Multi-pages and Taipy Rest"
   ]
  },
  {
   "cell_type": "markdown",
   "id": "9b4d3ab8",
   "metadata": {
    "id": "9b4d3ab8"
   },
   "source": [
    "To create a multi-pages app, we only need a dictionary with names as the keys and the Markdowns as the values.\n",
    "\n",
    "The _navbar_ control (<|navbar|>) has a default behaviour. It redirects to the different pages of the app automatically. Other solutions exists."
   ]
  },
  {
   "cell_type": "markdown",
   "id": "77019d17",
   "metadata": {
    "id": "77019d17"
   },
   "source": [
    "![](img/multi_pages.png)"
   ]
  },
  {
   "cell_type": "code",
   "execution_count": null,
   "id": "b0db7725",
   "metadata": {
    "id": "b0db7725",
    "outputId": "26b9efff-d31d-429a-ca16-a7f07e704605"
   },
   "outputs": [],
   "source": [
    "navbar_md = \"<center>\\n<|navbar|>\\n</center>\"\n",
    "\n",
    "pages = {\n",
    "    \"Map\":navbar_md+map_md,\n",
    "    \"Country\":navbar_md+final_country_md,\n",
    "    \"Predictions\":navbar_md+prediction_md\n",
    "}\n",
    "\n",
    "rest = tp.Rest()\n",
    "\n",
    "gui_multi_pages = Gui(pages=pages)\n",
    "tp.run(gui_multi_pages, rest, dark_mode=False, port=5050)"
   ]
  }
 ],
 "metadata": {
  "colab": {
   "collapsed_sections": [
    "b4ac0541",
    "6580b5fe",
    "f84e0a88",
    "cd4d0268",
    "f48f94cd",
    "6e528ce2",
    "6ab0529e",
    "b19ed6d7",
    "e9a53d43",
    "1908c988",
    "849d0a97",
    "73ab0ee0",
    "252820b6",
    "27dbc823",
    "986ebad5",
    "d9915978",
    "ba83beac",
    "73fd648f"
   ],
   "name": "Microsoft_workshop-solution_en.ipynb",
   "provenance": []
  },
  "kernelspec": {
   "display_name": "notebook",
   "language": "python",
   "name": "notebook"
  },
  "language_info": {
   "codemirror_mode": {
    "name": "ipython",
    "version": 3
   },
   "file_extension": ".py",
   "mimetype": "text/x-python",
   "name": "python",
   "nbconvert_exporter": "python",
   "pygments_lexer": "ipython3",
   "version": "3.10.4"
  },
  "vscode": {
   "interpreter": {
    "hash": "ba8253bf2265f190ff2d77bc66a586dcdf245e31b6255d2bcabcbf71b1320c9e"
   }
  }
 },
 "nbformat": 4,
 "nbformat_minor": 5
}
