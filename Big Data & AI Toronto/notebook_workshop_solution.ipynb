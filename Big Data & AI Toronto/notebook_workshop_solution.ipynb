{
 "cells": [
  {
   "cell_type": "markdown",
   "id": "306e5793",
   "metadata": {
    "id": "306e5793"
   },
   "source": [
    "# Install Taipy\n",
    "\n",
    "To install Taipy, just `pip install` it."
   ]
  },
  {
   "cell_type": "code",
   "execution_count": 1,
   "id": "c9cd05ba",
   "metadata": {
    "id": "c9cd05ba",
    "outputId": "3b72f1f4-8d12-40dd-cbda-5c85e8b516f8"
   },
   "outputs": [
    {
     "name": "stdout",
     "output_type": "stream",
     "text": [
      "Note: you may need to restart the kernel to use updated packages.\n"
     ]
    }
   ],
   "source": [
    "%pip install taipy -q"
   ]
  },
  {
   "cell_type": "code",
   "execution_count": 2,
   "id": "c870cd8b",
   "metadata": {
    "id": "c870cd8b"
   },
   "outputs": [
    {
     "name": "stdout",
     "output_type": "stream",
     "text": [
      "Note: you may need to restart the kernel to use updated packages.\n"
     ]
    }
   ],
   "source": [
    "%pip install pmdarima -q"
   ]
  },
  {
   "cell_type": "markdown",
   "id": "c42e5ded",
   "metadata": {
    "id": "c42e5ded"
   },
   "source": [
    "# Import the packages"
   ]
  },
  {
   "cell_type": "code",
   "execution_count": 3,
   "id": "d69871ac",
   "metadata": {
    "id": "d69871ac"
   },
   "outputs": [],
   "source": [
    "from taipy.gui import Gui, Markdown, notify\n",
    "from taipy import Config, Scope\n",
    "import taipy as tp\n",
    "\n",
    "import datetime as dt\n",
    "\n",
    "from pmdarima import auto_arima\n",
    "\n",
    "from sklearn.linear_model import LinearRegression\n",
    "\n",
    "import pandas as pd\n",
    "import numpy as np"
   ]
  },
  {
   "cell_type": "markdown",
   "id": "81074375",
   "metadata": {
    "id": "81074375"
   },
   "source": [
    "# Taipy Gui Basics\n",
    "## Markdown Syntax"
   ]
  },
  {
   "cell_type": "markdown",
   "id": "8ad49481",
   "metadata": {
    "id": "8ad49481"
   },
   "source": [
    "Taipy uses the Markdown syntax to display elements. `#` creates a title, `*` puts your text in italics and `**` puts it in bold."
   ]
  },
  {
   "cell_type": "markdown",
   "id": "929a56cf",
   "metadata": {
    "id": "929a56cf"
   },
   "source": [
    "![](img/gui_basic_eng.png)"
   ]
  },
  {
   "cell_type": "code",
   "execution_count": 4,
   "id": "a170a8e5",
   "metadata": {
    "id": "a170a8e5"
   },
   "outputs": [],
   "source": [
    "page_md = \"\"\"\n",
    "# Taipy\n",
    "\n",
    "Test **here** to put some *markdown*\n",
    "\n",
    "Click to access the [doc](https://docs.taipy.io/en/latest/)\n",
    "\"\"\""
   ]
  },
  {
   "cell_type": "code",
   "execution_count": 5,
   "id": "1cf6cf9d",
   "metadata": {
    "id": "1cf6cf9d",
    "outputId": "d69b4a02-2df5-4830-a043-9c2b5a423d0b"
   },
   "outputs": [
    {
     "name": "stdout",
     "output_type": "stream",
     "text": [
      " * Server starting on http://127.0.0.1:5000\n"
     ]
    }
   ],
   "source": [
    "Gui(page_md).run(dark_mode=False, run_browser=False)"
   ]
  },
  {
   "cell_type": "markdown",
   "id": "ea452214",
   "metadata": {
    "id": "ea452214"
   },
   "source": [
    "## Visual elements\n",
    "Create different visual elements. The syntax is always the same for each visual element.  `<|{value}|name_of_visual_element|property_1=value_of_property_1|...|>`\n",
    "- Create a [slider](https://docs.taipy.io/en/latest/manuals/gui/viselements/slider/) `<|{value}|slider|>`\n",
    "\n",
    "- Create a [date](https://docs.taipy.io/en/latest/manuals/gui/viselements/date/) `<|{value}|date|>`\n",
    "\n",
    "- Create a [selector](https://docs.taipy.io/en/latest/manuals/gui/viselements/selector/) `<|{value}|selector|lov={list_of_values}|>`\n"
   ]
  },
  {
   "cell_type": "markdown",
   "id": "68f228f9",
   "metadata": {
    "id": "68f228f9"
   },
   "source": [
    "![](img/control.png)"
   ]
  },
  {
   "cell_type": "code",
   "execution_count": 6,
   "id": "bc42cca4",
   "metadata": {
    "id": "bc42cca4"
   },
   "outputs": [],
   "source": [
    "slider_value = 0\n",
    "date_value = None\n",
    "selected_value = None\n",
    "selector = ['Test 1', 'Test 2', 'Test 3']\n",
    "\n",
    "control_md = \"\"\"\n",
    "## Controls\n",
    "\n",
    "<|{slider_value}|slider|> <|{slider_value}|>\n",
    "\n",
    "<|{date_value}|date|> <|{date_value}|>\n",
    "\n",
    "<|{selected_value}|selector|lov={selector}|> <|{selected_value}|>\n",
    "\"\"\""
   ]
  },
  {
   "cell_type": "code",
   "execution_count": 7,
   "id": "c5bbe9b7-bd0e-41db-9032-f8495b47a856",
   "metadata": {},
   "outputs": [
    {
     "name": "stdout",
     "output_type": "stream",
     "text": [
      "Gui server has been stopped.\n",
      " * Server starting on http://127.0.0.1:5000\n"
     ]
    }
   ],
   "source": [
    "Gui(control_md).run(dark_mode=False, run_browser=False)"
   ]
  },
  {
   "cell_type": "markdown",
   "id": "b4ac0541",
   "metadata": {
    "id": "b4ac0541"
   },
   "source": [
    "## Data Viz\n",
    "\n",
    "A dataset gathering information on the number of deaths, confirmed cases and recovered for different regions is going to be used to create an interactive Dashboard."
   ]
  },
  {
   "cell_type": "code",
   "execution_count": 8,
   "id": "49bd29ff",
   "metadata": {
    "id": "49bd29ff",
    "outputId": "b0900888-a15b-4af2-a97d-f796aa28cc46"
   },
   "outputs": [
    {
     "data": {
      "text/html": [
       "<div>\n",
       "<style scoped>\n",
       "    .dataframe tbody tr th:only-of-type {\n",
       "        vertical-align: middle;\n",
       "    }\n",
       "\n",
       "    .dataframe tbody tr th {\n",
       "        vertical-align: top;\n",
       "    }\n",
       "\n",
       "    .dataframe thead th {\n",
       "        text-align: right;\n",
       "    }\n",
       "</style>\n",
       "<table border=\"1\" class=\"dataframe\">\n",
       "  <thead>\n",
       "    <tr style=\"text-align: right;\">\n",
       "      <th></th>\n",
       "      <th>Country/Region</th>\n",
       "      <th>Province/State</th>\n",
       "      <th>Latitude</th>\n",
       "      <th>Longitude</th>\n",
       "      <th>Confirmed</th>\n",
       "      <th>Recovered</th>\n",
       "      <th>Deaths</th>\n",
       "      <th>Date</th>\n",
       "    </tr>\n",
       "  </thead>\n",
       "  <tbody>\n",
       "    <tr>\n",
       "      <th>1241947</th>\n",
       "      <td>Vietnam</td>\n",
       "      <td>NaN</td>\n",
       "      <td>14.058324</td>\n",
       "      <td>108.277199</td>\n",
       "      <td>1465.0</td>\n",
       "      <td>1325.0</td>\n",
       "      <td>35.0</td>\n",
       "      <td>2020-12-31</td>\n",
       "    </tr>\n",
       "    <tr>\n",
       "      <th>1241948</th>\n",
       "      <td>West Bank and Gaza</td>\n",
       "      <td>NaN</td>\n",
       "      <td>31.952200</td>\n",
       "      <td>35.233200</td>\n",
       "      <td>138004.0</td>\n",
       "      <td>117183.0</td>\n",
       "      <td>1400.0</td>\n",
       "      <td>2020-12-31</td>\n",
       "    </tr>\n",
       "    <tr>\n",
       "      <th>1241949</th>\n",
       "      <td>Yemen</td>\n",
       "      <td>NaN</td>\n",
       "      <td>15.552727</td>\n",
       "      <td>48.516388</td>\n",
       "      <td>2099.0</td>\n",
       "      <td>1394.0</td>\n",
       "      <td>610.0</td>\n",
       "      <td>2020-12-31</td>\n",
       "    </tr>\n",
       "    <tr>\n",
       "      <th>1241950</th>\n",
       "      <td>Zambia</td>\n",
       "      <td>NaN</td>\n",
       "      <td>-13.133897</td>\n",
       "      <td>27.849332</td>\n",
       "      <td>20725.0</td>\n",
       "      <td>18660.0</td>\n",
       "      <td>388.0</td>\n",
       "      <td>2020-12-31</td>\n",
       "    </tr>\n",
       "    <tr>\n",
       "      <th>1241951</th>\n",
       "      <td>Zimbabwe</td>\n",
       "      <td>NaN</td>\n",
       "      <td>-19.015438</td>\n",
       "      <td>29.154857</td>\n",
       "      <td>13867.0</td>\n",
       "      <td>11250.0</td>\n",
       "      <td>363.0</td>\n",
       "      <td>2020-12-31</td>\n",
       "    </tr>\n",
       "  </tbody>\n",
       "</table>\n",
       "</div>"
      ],
      "text/plain": [
       "             Country/Region Province/State   Latitude   Longitude  Confirmed  \\\n",
       "1241947             Vietnam            NaN  14.058324  108.277199     1465.0   \n",
       "1241948  West Bank and Gaza            NaN  31.952200   35.233200   138004.0   \n",
       "1241949               Yemen            NaN  15.552727   48.516388     2099.0   \n",
       "1241950              Zambia            NaN -13.133897   27.849332    20725.0   \n",
       "1241951            Zimbabwe            NaN -19.015438   29.154857    13867.0   \n",
       "\n",
       "         Recovered  Deaths        Date  \n",
       "1241947     1325.0    35.0  2020-12-31  \n",
       "1241948   117183.0  1400.0  2020-12-31  \n",
       "1241949     1394.0   610.0  2020-12-31  \n",
       "1241950    18660.0   388.0  2020-12-31  \n",
       "1241951    11250.0   363.0  2020-12-31  "
      ]
     },
     "execution_count": 8,
     "metadata": {},
     "output_type": "execute_result"
    }
   ],
   "source": [
    "path_to_data = \"data/covid-19-all.csv\"\n",
    "data = pd.read_csv(path_to_data, low_memory=False)\n",
    "data[-5:]"
   ]
  },
  {
   "cell_type": "code",
   "execution_count": 9,
   "id": "18b5bb55",
   "metadata": {
    "id": "18b5bb55"
   },
   "outputs": [],
   "source": [
    "def initialize_case_evolution(data, selected_country='France') -> pd.DataFrame:\n",
    "    # Aggregation of the dataframe per Country/Region\n",
    "    country_date_df = data.groupby([\"Country/Region\",'Date']).sum().reset_index()\n",
    "    \n",
    "    # a country is selected, here France by default\n",
    "    country_date_df = country_date_df.loc[country_date_df['Country/Region']==selected_country]\n",
    "    return country_date_df"
   ]
  },
  {
   "cell_type": "code",
   "execution_count": 10,
   "id": "f5ae821c",
   "metadata": {
    "id": "f5ae821c",
    "outputId": "0ca17075-c088-437a-b6e3-48a798a0bdde"
   },
   "outputs": [
    {
     "name": "stderr",
     "output_type": "stream",
     "text": [
      "C:\\Users\\jacta\\AppData\\Local\\Temp\\ipykernel_41444\\445871222.py:3: FutureWarning: The default value of numeric_only in DataFrameGroupBy.sum is deprecated. In a future version, numeric_only will default to False. Either specify numeric_only or select only columns which should be valid for the function.\n",
      "  country_date_df = data.groupby([\"Country/Region\",'Date']).sum().reset_index()\n"
     ]
    },
    {
     "data": {
      "text/html": [
       "<div>\n",
       "<style scoped>\n",
       "    .dataframe tbody tr th:only-of-type {\n",
       "        vertical-align: middle;\n",
       "    }\n",
       "\n",
       "    .dataframe tbody tr th {\n",
       "        vertical-align: top;\n",
       "    }\n",
       "\n",
       "    .dataframe thead th {\n",
       "        text-align: right;\n",
       "    }\n",
       "</style>\n",
       "<table border=\"1\" class=\"dataframe\">\n",
       "  <thead>\n",
       "    <tr style=\"text-align: right;\">\n",
       "      <th></th>\n",
       "      <th>Country/Region</th>\n",
       "      <th>Date</th>\n",
       "      <th>Latitude</th>\n",
       "      <th>Longitude</th>\n",
       "      <th>Confirmed</th>\n",
       "      <th>Recovered</th>\n",
       "      <th>Deaths</th>\n",
       "    </tr>\n",
       "  </thead>\n",
       "  <tbody>\n",
       "    <tr>\n",
       "      <th>18101</th>\n",
       "      <td>France</td>\n",
       "      <td>2020-01-24</td>\n",
       "      <td>14.6415</td>\n",
       "      <td>-56.3159</td>\n",
       "      <td>2.0</td>\n",
       "      <td>0.0</td>\n",
       "      <td>0.0</td>\n",
       "    </tr>\n",
       "    <tr>\n",
       "      <th>18102</th>\n",
       "      <td>France</td>\n",
       "      <td>2020-01-25</td>\n",
       "      <td>14.6415</td>\n",
       "      <td>-56.3159</td>\n",
       "      <td>3.0</td>\n",
       "      <td>0.0</td>\n",
       "      <td>0.0</td>\n",
       "    </tr>\n",
       "    <tr>\n",
       "      <th>18103</th>\n",
       "      <td>France</td>\n",
       "      <td>2020-01-26</td>\n",
       "      <td>14.6415</td>\n",
       "      <td>-56.3159</td>\n",
       "      <td>3.0</td>\n",
       "      <td>0.0</td>\n",
       "      <td>0.0</td>\n",
       "    </tr>\n",
       "    <tr>\n",
       "      <th>18104</th>\n",
       "      <td>France</td>\n",
       "      <td>2020-01-27</td>\n",
       "      <td>14.6415</td>\n",
       "      <td>-56.3159</td>\n",
       "      <td>3.0</td>\n",
       "      <td>0.0</td>\n",
       "      <td>0.0</td>\n",
       "    </tr>\n",
       "    <tr>\n",
       "      <th>18105</th>\n",
       "      <td>France</td>\n",
       "      <td>2020-01-28</td>\n",
       "      <td>14.6415</td>\n",
       "      <td>-56.3159</td>\n",
       "      <td>4.0</td>\n",
       "      <td>0.0</td>\n",
       "      <td>0.0</td>\n",
       "    </tr>\n",
       "  </tbody>\n",
       "</table>\n",
       "</div>"
      ],
      "text/plain": [
       "      Country/Region        Date  Latitude  Longitude  Confirmed  Recovered  \\\n",
       "18101         France  2020-01-24   14.6415   -56.3159        2.0        0.0   \n",
       "18102         France  2020-01-25   14.6415   -56.3159        3.0        0.0   \n",
       "18103         France  2020-01-26   14.6415   -56.3159        3.0        0.0   \n",
       "18104         France  2020-01-27   14.6415   -56.3159        3.0        0.0   \n",
       "18105         France  2020-01-28   14.6415   -56.3159        4.0        0.0   \n",
       "\n",
       "       Deaths  \n",
       "18101     0.0  \n",
       "18102     0.0  \n",
       "18103     0.0  \n",
       "18104     0.0  \n",
       "18105     0.0  "
      ]
     },
     "execution_count": 10,
     "metadata": {},
     "output_type": "execute_result"
    }
   ],
   "source": [
    "country_date_df = initialize_case_evolution(data)\n",
    "country_date_df.head()"
   ]
  },
  {
   "cell_type": "markdown",
   "id": "d1fd9854",
   "metadata": {
    "id": "d1fd9854"
   },
   "source": [
    "Create a [chart](https://docs.taipy.io/en/latest/manuals/gui/viselements/chart/) showing the evolution of Deaths in France (_Deaths_ for _y_ and _Date_ for _x_). The visual element (chart) has the same syntax as the other ones with specific properties (_x_, _y_, _type_ for example). Here are some [examples of charts](https://docs.taipy.io/en/release-1.1/manuals/gui/viselements/charts/bar/). The _x_ and _y_ porperties only needs the name of the dataframe columns to display."
   ]
  },
  {
   "cell_type": "markdown",
   "id": "bebeb0eb",
   "metadata": {
    "id": "bebeb0eb"
   },
   "source": [
    "![](img/simple_graph.png)"
   ]
  },
  {
   "cell_type": "code",
   "execution_count": 11,
   "id": "baa8dc69",
   "metadata": {
    "id": "baa8dc69"
   },
   "outputs": [],
   "source": [
    "country_md = \"<|{country_date_df}|chart|x=Date|y=Deaths|type=bar|>\""
   ]
  },
  {
   "cell_type": "code",
   "execution_count": 12,
   "id": "dd9f1eec-323d-4818-a57c-2bd0506fb551",
   "metadata": {},
   "outputs": [
    {
     "name": "stdout",
     "output_type": "stream",
     "text": [
      "Gui server has been stopped.\n",
      " * Server starting on http://127.0.0.1:5000\n"
     ]
    }
   ],
   "source": [
    "Gui(country_md).run(dark_mode=False, run_browser=False)"
   ]
  },
  {
   "cell_type": "markdown",
   "id": "6580b5fe",
   "metadata": {
    "id": "6580b5fe"
   },
   "source": [
    "## Add new traces\n",
    "\n",
    "- Add on the graph the number of Confirmed and Recovered cases (_Confirmed_ and _Recovered_) with the number of Deaths\n",
    "- _y_ (and _x_) can be indexed this way to add more traces (`y[1]=`, `y[2]=`, `y[3]=`)."
   ]
  },
  {
   "cell_type": "markdown",
   "id": "baf9d2b6",
   "metadata": {
    "id": "baf9d2b6"
   },
   "source": [
    "![](img/multi_traces.png)"
   ]
  },
  {
   "cell_type": "code",
   "execution_count": 13,
   "id": "242756d9",
   "metadata": {
    "id": "242756d9"
   },
   "outputs": [],
   "source": [
    "country_md = \"<|{country_date_df}|chart|type=bar|x=Date|y[1]=Deaths|y[2]=Recovered|y[3]=Confirmed|>\""
   ]
  },
  {
   "cell_type": "code",
   "execution_count": 14,
   "id": "98482902-22fe-4fb4-81a0-d609ee18bfba",
   "metadata": {},
   "outputs": [
    {
     "name": "stdout",
     "output_type": "stream",
     "text": [
      "Gui server has been stopped.\n",
      " * Server starting on http://127.0.0.1:5000\n"
     ]
    }
   ],
   "source": [
    "Gui(country_md).run(dark_mode=False, run_browser=False)"
   ]
  },
  {
   "cell_type": "markdown",
   "id": "f84e0a88",
   "metadata": {
    "id": "f84e0a88"
   },
   "source": [
    "## Style the graph with personalized properties\n",
    "The _layout_ dictionnary specifies how bars should be displayed. They would be 'stacked'.\n",
    "\n",
    "The _options_ dictionary will change the opacity of the unselected markers.\n",
    "\n",
    "These are Plotly properties."
   ]
  },
  {
   "cell_type": "markdown",
   "id": "99c5d669",
   "metadata": {
    "id": "99c5d669"
   },
   "source": [
    "![](img/stack_chart.png)"
   ]
  },
  {
   "cell_type": "code",
   "execution_count": 15,
   "id": "f068e3ba",
   "metadata": {
    "id": "f068e3ba"
   },
   "outputs": [],
   "source": [
    "layout = {'barmode':'stack'}\n",
    "options = {\"unselected\":{\"marker\":{\"opacity\":0.5}}}\n",
    "country_md = \"<|{country_date_df}|chart|type=bar|x=Date|y[1]=Deaths|y[2]=Recovered|y[3]=Confirmed|layout={layout}|options={options}|>\""
   ]
  },
  {
   "cell_type": "code",
   "execution_count": 16,
   "id": "5a526dbe-2aa7-4a76-b146-295c2d06de88",
   "metadata": {},
   "outputs": [
    {
     "name": "stdout",
     "output_type": "stream",
     "text": [
      "Gui server has been stopped.\n",
      " * Server starting on http://127.0.0.1:5000\n"
     ]
    }
   ],
   "source": [
    "Gui(country_md).run(dark_mode=False, run_browser=False)"
   ]
  },
  {
   "cell_type": "markdown",
   "id": "cd4d0268",
   "metadata": {
    "id": "cd4d0268"
   },
   "source": [
    "## Add texts that sums up the data\n",
    "\n",
    "Use the [text](https://docs.taipy.io/en/latest/manuals/gui/viselements/text/) visual element.\n",
    "\n",
    "- Add the total number of Deaths (last line of _country_date_df_)\n",
    "- Add the total number of Recovered (last line of _country_date_df_)\n",
    "- Add the total number of Confirmed (last line of _country_date_df_)\n"
   ]
  },
  {
   "cell_type": "code",
   "execution_count": 17,
   "id": "f9060a46",
   "metadata": {
    "id": "f9060a46",
    "outputId": "0d12534f-60a6-4acf-c555-5a6babd1c3d4"
   },
   "outputs": [
    {
     "data": {
      "text/html": [
       "<div>\n",
       "<style scoped>\n",
       "    .dataframe tbody tr th:only-of-type {\n",
       "        vertical-align: middle;\n",
       "    }\n",
       "\n",
       "    .dataframe tbody tr th {\n",
       "        vertical-align: top;\n",
       "    }\n",
       "\n",
       "    .dataframe thead th {\n",
       "        text-align: right;\n",
       "    }\n",
       "</style>\n",
       "<table border=\"1\" class=\"dataframe\">\n",
       "  <thead>\n",
       "    <tr style=\"text-align: right;\">\n",
       "      <th></th>\n",
       "      <th>Country/Region</th>\n",
       "      <th>Date</th>\n",
       "      <th>Latitude</th>\n",
       "      <th>Longitude</th>\n",
       "      <th>Confirmed</th>\n",
       "      <th>Recovered</th>\n",
       "      <th>Deaths</th>\n",
       "    </tr>\n",
       "  </thead>\n",
       "  <tbody>\n",
       "    <tr>\n",
       "      <th>18101</th>\n",
       "      <td>France</td>\n",
       "      <td>2020-01-24</td>\n",
       "      <td>14.641500</td>\n",
       "      <td>-56.315900</td>\n",
       "      <td>2.0</td>\n",
       "      <td>0.0</td>\n",
       "      <td>0.0</td>\n",
       "    </tr>\n",
       "    <tr>\n",
       "      <th>18102</th>\n",
       "      <td>France</td>\n",
       "      <td>2020-01-25</td>\n",
       "      <td>14.641500</td>\n",
       "      <td>-56.315900</td>\n",
       "      <td>3.0</td>\n",
       "      <td>0.0</td>\n",
       "      <td>0.0</td>\n",
       "    </tr>\n",
       "    <tr>\n",
       "      <th>18103</th>\n",
       "      <td>France</td>\n",
       "      <td>2020-01-26</td>\n",
       "      <td>14.641500</td>\n",
       "      <td>-56.315900</td>\n",
       "      <td>3.0</td>\n",
       "      <td>0.0</td>\n",
       "      <td>0.0</td>\n",
       "    </tr>\n",
       "    <tr>\n",
       "      <th>18104</th>\n",
       "      <td>France</td>\n",
       "      <td>2020-01-27</td>\n",
       "      <td>14.641500</td>\n",
       "      <td>-56.315900</td>\n",
       "      <td>3.0</td>\n",
       "      <td>0.0</td>\n",
       "      <td>0.0</td>\n",
       "    </tr>\n",
       "    <tr>\n",
       "      <th>18105</th>\n",
       "      <td>France</td>\n",
       "      <td>2020-01-28</td>\n",
       "      <td>14.641500</td>\n",
       "      <td>-56.315900</td>\n",
       "      <td>4.0</td>\n",
       "      <td>0.0</td>\n",
       "      <td>0.0</td>\n",
       "    </tr>\n",
       "    <tr>\n",
       "      <th>...</th>\n",
       "      <td>...</td>\n",
       "      <td>...</td>\n",
       "      <td>...</td>\n",
       "      <td>...</td>\n",
       "      <td>...</td>\n",
       "      <td>...</td>\n",
       "      <td>...</td>\n",
       "    </tr>\n",
       "    <tr>\n",
       "      <th>18439</th>\n",
       "      <td>France</td>\n",
       "      <td>2020-12-27</td>\n",
       "      <td>91.463495</td>\n",
       "      <td>-238.646914</td>\n",
       "      <td>2616510.0</td>\n",
       "      <td>195861.0</td>\n",
       "      <td>62867.0</td>\n",
       "    </tr>\n",
       "    <tr>\n",
       "      <th>18440</th>\n",
       "      <td>France</td>\n",
       "      <td>2020-12-28</td>\n",
       "      <td>91.463495</td>\n",
       "      <td>-238.646914</td>\n",
       "      <td>2619616.0</td>\n",
       "      <td>196642.0</td>\n",
       "      <td>63235.0</td>\n",
       "    </tr>\n",
       "    <tr>\n",
       "      <th>18441</th>\n",
       "      <td>France</td>\n",
       "      <td>2020-12-29</td>\n",
       "      <td>91.463495</td>\n",
       "      <td>-238.646914</td>\n",
       "      <td>2631110.0</td>\n",
       "      <td>197726.0</td>\n",
       "      <td>64204.0</td>\n",
       "    </tr>\n",
       "    <tr>\n",
       "      <th>18442</th>\n",
       "      <td>France</td>\n",
       "      <td>2020-12-30</td>\n",
       "      <td>91.463495</td>\n",
       "      <td>-238.646914</td>\n",
       "      <td>2657624.0</td>\n",
       "      <td>198966.0</td>\n",
       "      <td>64508.0</td>\n",
       "    </tr>\n",
       "    <tr>\n",
       "      <th>18443</th>\n",
       "      <td>France</td>\n",
       "      <td>2020-12-31</td>\n",
       "      <td>91.463495</td>\n",
       "      <td>-238.646914</td>\n",
       "      <td>2677666.0</td>\n",
       "      <td>200142.0</td>\n",
       "      <td>64759.0</td>\n",
       "    </tr>\n",
       "  </tbody>\n",
       "</table>\n",
       "<p>343 rows × 7 columns</p>\n",
       "</div>"
      ],
      "text/plain": [
       "      Country/Region        Date   Latitude   Longitude  Confirmed  Recovered  \\\n",
       "18101         France  2020-01-24  14.641500  -56.315900        2.0        0.0   \n",
       "18102         France  2020-01-25  14.641500  -56.315900        3.0        0.0   \n",
       "18103         France  2020-01-26  14.641500  -56.315900        3.0        0.0   \n",
       "18104         France  2020-01-27  14.641500  -56.315900        3.0        0.0   \n",
       "18105         France  2020-01-28  14.641500  -56.315900        4.0        0.0   \n",
       "...              ...         ...        ...         ...        ...        ...   \n",
       "18439         France  2020-12-27  91.463495 -238.646914  2616510.0   195861.0   \n",
       "18440         France  2020-12-28  91.463495 -238.646914  2619616.0   196642.0   \n",
       "18441         France  2020-12-29  91.463495 -238.646914  2631110.0   197726.0   \n",
       "18442         France  2020-12-30  91.463495 -238.646914  2657624.0   198966.0   \n",
       "18443         France  2020-12-31  91.463495 -238.646914  2677666.0   200142.0   \n",
       "\n",
       "        Deaths  \n",
       "18101      0.0  \n",
       "18102      0.0  \n",
       "18103      0.0  \n",
       "18104      0.0  \n",
       "18105      0.0  \n",
       "...        ...  \n",
       "18439  62867.0  \n",
       "18440  63235.0  \n",
       "18441  64204.0  \n",
       "18442  64508.0  \n",
       "18443  64759.0  \n",
       "\n",
       "[343 rows x 7 columns]"
      ]
     },
     "execution_count": 17,
     "metadata": {},
     "output_type": "execute_result"
    }
   ],
   "source": [
    "country_date_df"
   ]
  },
  {
   "cell_type": "markdown",
   "id": "ec27c620",
   "metadata": {
    "id": "ec27c620"
   },
   "source": [
    "This is how we can get the total number of Deaths from the dataset for France."
   ]
  },
  {
   "cell_type": "code",
   "execution_count": 18,
   "id": "c0a73440",
   "metadata": {
    "id": "c0a73440",
    "outputId": "642a8cff-1c8f-4748-af5e-7b4dc70d9627"
   },
   "outputs": [
    {
     "data": {
      "text/plain": [
       "64759.0"
      ]
     },
     "execution_count": 18,
     "metadata": {},
     "output_type": "execute_result"
    }
   ],
   "source": [
    "country_date_df.iloc[-1, 6] # gives the number of deaths for France (5 is for recovered and 4 is confirmed)"
   ]
  },
  {
   "cell_type": "markdown",
   "id": "4a043817",
   "metadata": {
    "id": "4a043817"
   },
   "source": [
    "Use the [text](https://docs.taipy.io/en/release-1.1/manuals/gui/viselements/text/) visual element. Note that between `{}`, any Python variable can be put but also any Python code."
   ]
  },
  {
   "cell_type": "markdown",
   "id": "8b5b47ec",
   "metadata": {
    "id": "8b5b47ec"
   },
   "source": [
    "![](img/control_text.png)"
   ]
  },
  {
   "cell_type": "code",
   "execution_count": 19,
   "id": "beab9af4",
   "metadata": {
    "id": "beab9af4"
   },
   "outputs": [],
   "source": [
    "country_md = \"\"\"\n",
    "## Deaths <|{country_date_df.iloc[-1, 6]}|>\n",
    "\n",
    "## Recovered <|{country_date_df.iloc[-1, 5]}|text|>\n",
    "\n",
    "## Confirmed <|{country_date_df.iloc[-1, 4]}|text|>\n",
    "\n",
    "<|{country_date_df}|chart|type=bar|x=Date|y[1]=Deaths|y[2]=Recovered|y[3]=Confirmed|layout={layout}|options={options}|>\n",
    "\"\"\""
   ]
  },
  {
   "cell_type": "code",
   "execution_count": 20,
   "id": "0bde617b-a796-4cab-bb77-8d1e294b3603",
   "metadata": {},
   "outputs": [
    {
     "name": "stdout",
     "output_type": "stream",
     "text": [
      "Gui server has been stopped.\n",
      " * Server starting on http://127.0.0.1:5000\n"
     ]
    }
   ],
   "source": [
    "Gui(country_md).run(dark_mode=False, run_browser=False)"
   ]
  },
  {
   "cell_type": "markdown",
   "id": "f48f94cd",
   "metadata": {
    "id": "f48f94cd"
   },
   "source": [
    "## Local _on_change_\n",
    "\n",
    "- Add a [selector](https://docs.taipy.io/en/latest/manuals/gui/viselements/selector/) with `dropdown=True` containing the name of all the _Country/region_\n",
    "- Give to the _on_change_ selector property the name of the _on_change_country_ function. This function will be called when the selector will be used.\n",
    "- This function has a 'state' parameter and has to be completed. When the selector is used, this function is called with the _state_ argument. It contains all the Gui variables; 'state.country_date_df' is then the dataframe used in the Gui."
   ]
  },
  {
   "cell_type": "markdown",
   "id": "35953a48",
   "metadata": {
    "id": "35953a48"
   },
   "source": [
    "![](img/on_change_local.png)"
   ]
  },
  {
   "cell_type": "code",
   "execution_count": 21,
   "id": "ed63f76a",
   "metadata": {
    "id": "ed63f76a"
   },
   "outputs": [],
   "source": [
    "country_lov = sorted(data[\"Country/Region\"].dropna().unique().tolist())\n",
    "selected_country = \"France\"\n",
    "\n",
    "final_country_md = \"\"\"\n",
    "<|layout|columns=1 1 1 1|\n",
    "<|{selected_country}|selector|lov={country_lov}|on_change=on_change_country|dropdown|label=Country|>\n",
    "\n",
    "## Deaths <|{country_date_df.iloc[-1, 6]}|>\n",
    "\n",
    "## Recovered <|{country_date_df.iloc[-1, 5]}|>\n",
    "\n",
    "## Confirmed <|{country_date_df.iloc[-1, 4]}|>\n",
    "|>\n",
    "\n",
    "<|{country_date_df}|chart|type=bar|x=Date|y[1]=Deaths|y[2]=Recovered|y[3]=Confirmed|layout={layout}|options={options}|>\n",
    "\"\"\""
   ]
  },
  {
   "cell_type": "code",
   "execution_count": 22,
   "id": "42e91877",
   "metadata": {
    "id": "42e91877"
   },
   "outputs": [],
   "source": [
    "def on_change_country(state):\n",
    "    # state contains all the Gui variables and this is through this state variable that we can update the Gui\n",
    "    # state.selected_country, state.country_date_df, ...\n",
    "    # update country_date_df with the right country (use initialize_case_evolution)\n",
    "    print(\"Chosen country: \", state.selected_country)\n",
    "    state.country_date_df = initialize_case_evolution(data, state.selected_country)"
   ]
  },
  {
   "cell_type": "code",
   "execution_count": 23,
   "id": "2dc35c5a-1840-4d35-b7ab-af61757dc804",
   "metadata": {},
   "outputs": [
    {
     "name": "stdout",
     "output_type": "stream",
     "text": [
      "Gui server has been stopped.\n",
      " * Server starting on http://127.0.0.1:5000\n"
     ]
    }
   ],
   "source": [
    "Gui(final_country_md).run(dark_mode=False, run_browser=False)"
   ]
  },
  {
   "cell_type": "markdown",
   "id": "e9ab05a9",
   "metadata": {
    "id": "e9ab05a9"
   },
   "source": [
    "# Map"
   ]
  },
  {
   "cell_type": "code",
   "execution_count": 24,
   "id": "92212747",
   "metadata": {
    "id": "92212747"
   },
   "outputs": [],
   "source": [
    "def initialize_map(data):\n",
    "    data['Province/State'] = data['Province/State'].fillna(data[\"Country/Region\"])\n",
    "    data_province = data.groupby([\"Country/Region\",\n",
    "                                  'Province/State',\n",
    "                                  'Longitude',\n",
    "                                  'Latitude'])\\\n",
    "                         .max()\n",
    "\n",
    "    data_province_displayed = data_province[data_province['Deaths']>10].reset_index()\n",
    "\n",
    "    data_province_displayed['Size'] = np.sqrt(data_province_displayed.loc[:,'Deaths']/data_province_displayed.loc[:,'Deaths'].max())*80 + 3\n",
    "    data_province_displayed['Text'] = data_province_displayed.loc[:,'Deaths'].astype(str) + ' deaths</br>' + data_province_displayed.loc[:,'Province/State']\n",
    "    return data_province_displayed"
   ]
  },
  {
   "cell_type": "code",
   "execution_count": 25,
   "id": "5a1f5cb6",
   "metadata": {
    "id": "5a1f5cb6",
    "outputId": "ff8c0dc6-5b6a-4693-c1f1-01635ecf65c5"
   },
   "outputs": [
    {
     "data": {
      "text/html": [
       "<div>\n",
       "<style scoped>\n",
       "    .dataframe tbody tr th:only-of-type {\n",
       "        vertical-align: middle;\n",
       "    }\n",
       "\n",
       "    .dataframe tbody tr th {\n",
       "        vertical-align: top;\n",
       "    }\n",
       "\n",
       "    .dataframe thead th {\n",
       "        text-align: right;\n",
       "    }\n",
       "</style>\n",
       "<table border=\"1\" class=\"dataframe\">\n",
       "  <thead>\n",
       "    <tr style=\"text-align: right;\">\n",
       "      <th></th>\n",
       "      <th>Country/Region</th>\n",
       "      <th>Province/State</th>\n",
       "      <th>Longitude</th>\n",
       "      <th>Latitude</th>\n",
       "      <th>Confirmed</th>\n",
       "      <th>Recovered</th>\n",
       "      <th>Deaths</th>\n",
       "      <th>Date</th>\n",
       "      <th>Size</th>\n",
       "      <th>Text</th>\n",
       "    </tr>\n",
       "  </thead>\n",
       "  <tbody>\n",
       "    <tr>\n",
       "      <th>0</th>\n",
       "      <td>Afghanistan</td>\n",
       "      <td>Afghanistan</td>\n",
       "      <td>67.709953</td>\n",
       "      <td>33.93911</td>\n",
       "      <td>51526.0</td>\n",
       "      <td>41727.0</td>\n",
       "      <td>2191.0</td>\n",
       "      <td>2020-12-31</td>\n",
       "      <td>17.771247</td>\n",
       "      <td>2191.0 deaths&lt;/br&gt;Afghanistan</td>\n",
       "    </tr>\n",
       "    <tr>\n",
       "      <th>1</th>\n",
       "      <td>Albania</td>\n",
       "      <td>Albania</td>\n",
       "      <td>20.168300</td>\n",
       "      <td>41.15330</td>\n",
       "      <td>58316.0</td>\n",
       "      <td>33634.0</td>\n",
       "      <td>1181.0</td>\n",
       "      <td>2020-12-31</td>\n",
       "      <td>13.844784</td>\n",
       "      <td>1181.0 deaths&lt;/br&gt;Albania</td>\n",
       "    </tr>\n",
       "    <tr>\n",
       "      <th>2</th>\n",
       "      <td>Algeria</td>\n",
       "      <td>Algeria</td>\n",
       "      <td>1.659600</td>\n",
       "      <td>28.03390</td>\n",
       "      <td>99610.0</td>\n",
       "      <td>67127.0</td>\n",
       "      <td>2756.0</td>\n",
       "      <td>2020-12-31</td>\n",
       "      <td>19.566684</td>\n",
       "      <td>2756.0 deaths&lt;/br&gt;Algeria</td>\n",
       "    </tr>\n",
       "    <tr>\n",
       "      <th>3</th>\n",
       "      <td>Andorra</td>\n",
       "      <td>Andorra</td>\n",
       "      <td>1.521800</td>\n",
       "      <td>42.50630</td>\n",
       "      <td>8049.0</td>\n",
       "      <td>7432.0</td>\n",
       "      <td>84.0</td>\n",
       "      <td>2020-12-31</td>\n",
       "      <td>5.892249</td>\n",
       "      <td>84.0 deaths&lt;/br&gt;Andorra</td>\n",
       "    </tr>\n",
       "    <tr>\n",
       "      <th>4</th>\n",
       "      <td>Angola</td>\n",
       "      <td>Angola</td>\n",
       "      <td>17.873900</td>\n",
       "      <td>-11.20270</td>\n",
       "      <td>17553.0</td>\n",
       "      <td>11044.0</td>\n",
       "      <td>405.0</td>\n",
       "      <td>2020-12-31</td>\n",
       "      <td>9.350728</td>\n",
       "      <td>405.0 deaths&lt;/br&gt;Angola</td>\n",
       "    </tr>\n",
       "  </tbody>\n",
       "</table>\n",
       "</div>"
      ],
      "text/plain": [
       "  Country/Region Province/State  Longitude  Latitude  Confirmed  Recovered  \\\n",
       "0    Afghanistan    Afghanistan  67.709953  33.93911    51526.0    41727.0   \n",
       "1        Albania        Albania  20.168300  41.15330    58316.0    33634.0   \n",
       "2        Algeria        Algeria   1.659600  28.03390    99610.0    67127.0   \n",
       "3        Andorra        Andorra   1.521800  42.50630     8049.0     7432.0   \n",
       "4         Angola         Angola  17.873900 -11.20270    17553.0    11044.0   \n",
       "\n",
       "   Deaths        Date       Size                           Text  \n",
       "0  2191.0  2020-12-31  17.771247  2191.0 deaths</br>Afghanistan  \n",
       "1  1181.0  2020-12-31  13.844784      1181.0 deaths</br>Albania  \n",
       "2  2756.0  2020-12-31  19.566684      2756.0 deaths</br>Algeria  \n",
       "3    84.0  2020-12-31   5.892249        84.0 deaths</br>Andorra  \n",
       "4   405.0  2020-12-31   9.350728        405.0 deaths</br>Angola  "
      ]
     },
     "execution_count": 25,
     "metadata": {},
     "output_type": "execute_result"
    }
   ],
   "source": [
    "data_province_displayed = initialize_map(data)\n",
    "data_province_displayed.head()"
   ]
  },
  {
   "cell_type": "markdown",
   "id": "fe689939",
   "metadata": {
    "id": "fe689939"
   },
   "source": [
    "Properties to style the map\n",
    "- marker color corresponds to the number of Deaths (column _Deaths_)\n",
    "- marker sizes corresponds to the size in _Size_ column which is created from the number of Deaths\n",
    "\n",
    "layout_map permet defined the initial zoom and position of the map\n"
   ]
  },
  {
   "cell_type": "code",
   "execution_count": 26,
   "id": "62a4cc23",
   "metadata": {
    "id": "62a4cc23"
   },
   "outputs": [],
   "source": [
    "marker_map = {\"color\":\"Deaths\", \"size\": \"Size\", \"showscale\":True, \"colorscale\":\"Viridis\"}\n",
    "layout_map = {\n",
    "            \"dragmode\": \"zoom\",\n",
    "            \"mapbox\": { \"style\": \"open-street-map\", \"center\": { \"lat\": 38, \"lon\": -90 }, \"zoom\": 3}\n",
    "            }"
   ]
  },
  {
   "cell_type": "markdown",
   "id": "fb251153",
   "metadata": {
    "id": "fb251153"
   },
   "source": [
    "We give to Plotly:\n",
    "- a map type\n",
    "- the name of the latitude column\n",
    "- the name of the longitude column\n",
    "- properties: on the size and color of the markers\n",
    "- the name of the column for the text of the points"
   ]
  },
  {
   "cell_type": "code",
   "execution_count": 27,
   "id": "7e65e017",
   "metadata": {
    "id": "7e65e017"
   },
   "outputs": [],
   "source": [
    "selected_points = []\n",
    "map_md = \"\"\"\n",
    "<|{data_province_displayed}|chart|type=scattermapbox|selected={selected_points}|lat=Latitude|lon=Longitude|marker={marker_map}|layout={layout_map}|text=Text|mode=markers|height=800px|options={options}|>\n",
    "\"\"\""
   ]
  },
  {
   "cell_type": "code",
   "execution_count": 28,
   "id": "b068a3af",
   "metadata": {
    "id": "b068a3af",
    "outputId": "b1fcab52-320d-49aa-8a98-60a6b21ce8fb"
   },
   "outputs": [
    {
     "name": "stdout",
     "output_type": "stream",
     "text": [
      "Gui server has been stopped.\n",
      " * Server starting on http://127.0.0.1:5000\n"
     ]
    }
   ],
   "source": [
    "Gui(map_md).run(dark_mode=False, run_browser=False)"
   ]
  },
  {
   "cell_type": "markdown",
   "id": "56c0ea66",
   "metadata": {
    "id": "56c0ea66"
   },
   "source": [
    "![](img/carte.png)"
   ]
  },
  {
   "cell_type": "markdown",
   "id": "0c8130ec",
   "metadata": {
    "id": "0c8130ec"
   },
   "source": [
    "# Taipy Core\n",
    "Here are the functions that we are going to use to predict the number of Deaths for a country.\n",
    "We will:\n",
    "- preprocess the data (_preprocess_),\n",
    "- create a training and testing database (_make_train_test_data_),\n",
    "- train a model (_train_model_),\n",
    "- generate predictions (_forecast_),\n",
    "- generate a dataframe with the historical data and the predictions (_result_)\n",
    "\n",
    "![](img/all_architecture.svg)"
   ]
  },
  {
   "cell_type": "code",
   "execution_count": 29,
   "id": "43951062-3a8d-45af-9aef-bee607ffd6f2",
   "metadata": {},
   "outputs": [],
   "source": [
    "# initialise variables\n",
    "selected_scenario = None\n",
    "scenario_selector = None\n",
    "\n",
    "first_date = dt.datetime(2020,11,1)\n",
    "\n",
    "scenario_name = None\n",
    "\n",
    "result = None"
   ]
  },
  {
   "cell_type": "code",
   "execution_count": 30,
   "id": "0bab3b3c",
   "metadata": {},
   "outputs": [],
   "source": [
    "# This simple line will configure the execution of the code in parallel\n",
    "#Config.configure_job_executions(mode=\"standalone\", nb_of_workers=2)"
   ]
  },
  {
   "cell_type": "code",
   "execution_count": 31,
   "id": "688ebab8",
   "metadata": {
    "id": "688ebab8"
   },
   "outputs": [],
   "source": [
    "def add_features(data):\n",
    "    dates = pd.to_datetime(data[\"Date\"])\n",
    "    data[\"Months\"] = dates.dt.month\n",
    "    data[\"Days\"] = dates.dt.isocalendar().day\n",
    "    data[\"Week\"] = dates.dt.isocalendar().week\n",
    "    data[\"Day of week\"] = dates.dt.dayofweek\n",
    "    return data\n",
    "\n",
    "def create_train_data(final_data, date):\n",
    "    bool_index = pd.to_datetime(final_data['Date']) <= date\n",
    "    train_data = final_data[bool_index]\n",
    "    return train_data\n",
    "\n",
    "def preprocess(initial_data, country, date):\n",
    "    data = initial_data.groupby([\"Country/Region\",'Date'])\\\n",
    "                       .sum()\\\n",
    "                       .dropna()\\\n",
    "                       .reset_index()\n",
    "\n",
    "    final_data = data.loc[data['Country/Region']==country].reset_index(drop=True)\n",
    "    final_data = final_data[['Date','Deaths']]\n",
    "    final_data = add_features(final_data)\n",
    "    \n",
    "    train_data = create_train_data(final_data, date)\n",
    "    return final_data, train_data\n",
    "\n",
    "\n",
    "def train_arima(train_data):\n",
    "    model = auto_arima(train_data['Deaths'],\n",
    "                       start_p=1, start_q=1,\n",
    "                       max_p=5, max_q=5,\n",
    "                       start_P=0, seasonal=False,\n",
    "                       d=1, D=1, trace=True,\n",
    "                       error_action='ignore',  \n",
    "                       suppress_warnings=True)\n",
    "    model.fit(train_data['Deaths'])\n",
    "    return model\n",
    "\n",
    "\n",
    "def forecast(model):\n",
    "    predictions = model.predict(n_periods=60)\n",
    "    return np.array(predictions)\n",
    "\n",
    "\n",
    "def result(final_data, predictions, date):\n",
    "    dates = pd.to_datetime([date + dt.timedelta(days=i)\n",
    "                            for i in range(len(predictions))])\n",
    "    final_data['Date'] = pd.to_datetime(final_data['Date'])\n",
    "    predictions = pd.concat([pd.Series(dates, name=\"Date\"),\n",
    "                             pd.Series(predictions, name=\"Predictions\")], axis=1)\n",
    "    return final_data.merge(predictions, on=\"Date\", how=\"outer\")"
   ]
  },
  {
   "cell_type": "markdown",
   "id": "9d2e845f",
   "metadata": {
    "id": "9d2e845f"
   },
   "source": [
    "First we must define the Data Nodes then the tasks (associated to the Python function). Furthermore, we gather these tasks into different pipelines and these pipelines into a scenario.\n",
    "\n",
    "A Data Node needs a **unique id**. If needed, the storage type can be changed for CSV and SQL. Other parameters are then needed."
   ]
  },
  {
   "cell_type": "markdown",
   "id": "b19ed6d7",
   "metadata": {
    "id": "b19ed6d7"
   },
   "source": [
    "### Data Nodes and Task for preprocess"
   ]
  },
  {
   "cell_type": "markdown",
   "id": "6c0e2743",
   "metadata": {
    "id": "6c0e2743"
   },
   "source": [
    "<img src=\"img/preprocess.svg\" alt=\"drawing\" width=\"500\"/>"
   ]
  },
  {
   "cell_type": "code",
   "execution_count": 32,
   "id": "a0dec60e",
   "metadata": {
    "id": "a0dec60e"
   },
   "outputs": [],
   "source": [
    "initial_data_cfg = Config.configure_data_node(id=\"initial_data\",\n",
    "                                              storage_type=\"csv\",\n",
    "                                              path=path_to_data,\n",
    "                                              cacheable=True,\n",
    "                                              validity_period=dt.timedelta(days=5),\n",
    "                                              scope=Scope.GLOBAL)\n",
    "\n",
    "country_cfg = Config.configure_data_node(id=\"country\", default_data=\"France\",\n",
    "                                         cacheable=True, validity_period=dt.timedelta(days=5))\n",
    "\n",
    "\n",
    "date_cfg = Config.configure_data_node(id=\"date\", default_data=dt.datetime(2020,10,10),\n",
    "                                         cacheable=True, validity_period=dt.timedelta(days=5))"
   ]
  },
  {
   "cell_type": "markdown",
   "id": "ff0c6e21",
   "metadata": {},
   "source": [
    "<img src=\"img/preprocess.svg\" alt=\"drawing\" width=\"500\"/>"
   ]
  },
  {
   "cell_type": "code",
   "execution_count": 33,
   "id": "ef9193a1",
   "metadata": {},
   "outputs": [],
   "source": [
    "final_data_cfg =  Config.configure_data_node(id=\"final_data\",\n",
    "                                            cacheable=True, validity_period=dt.timedelta(days=5))\n",
    "\n",
    "\n",
    "train_data_cfg =  Config.configure_data_node(id=\"train_data\", cacheable=True, validity_period=dt.timedelta(days=5))\n"
   ]
  },
  {
   "cell_type": "markdown",
   "id": "5f2897e2",
   "metadata": {},
   "source": [
    "<img src=\"img/preprocess.svg\" alt=\"drawing\" width=\"500\"/>"
   ]
  },
  {
   "cell_type": "code",
   "execution_count": 34,
   "id": "7c18d8ea",
   "metadata": {},
   "outputs": [],
   "source": [
    "task_preprocess_cfg = Config.configure_task(id=\"task_preprocess_data\",\n",
    "                                           function=preprocess,\n",
    "                                           input=[initial_data_cfg, country_cfg, date_cfg],\n",
    "                                           output=[final_data_cfg,train_data_cfg])"
   ]
  },
  {
   "cell_type": "markdown",
   "id": "1908c988",
   "metadata": {
    "id": "1908c988"
   },
   "source": [
    "### Rest of the graph"
   ]
  },
  {
   "cell_type": "code",
   "execution_count": 35,
   "id": "96afe994",
   "metadata": {
    "id": "96afe994"
   },
   "outputs": [],
   "source": [
    "### Data Nodes and Task for train_arima\n",
    "\n",
    "model_cfg = Config.configure_data_node(id=\"model\", cacheable=True, validity_period=dt.timedelta(days=5), scope=Scope.PIPELINE)\n",
    "\n",
    "task_train_cfg = Config.configure_task(id=\"task_train\",\n",
    "                                      function=train_arima,\n",
    "                                      input=train_data_cfg,\n",
    "                                      output=model_cfg)\n",
    "\n",
    "### Data Nodes and Task for forecast\n",
    "\n",
    "predictions_cfg = Config.configure_data_node(id=\"predictions\", scope=Scope.PIPELINE)\n",
    "\n",
    "task_forecast_cfg = Config.configure_task(id=\"task_forecast\",\n",
    "                                      function=forecast,\n",
    "                                      input=model_cfg,\n",
    "                                      output=predictions_cfg)\n",
    "\n",
    "### Data Nodes and Task for result\n",
    "\n",
    "result_cfg = Config.configure_data_node(id=\"result\", scope=Scope.PIPELINE)\n",
    "\n",
    "task_result_cfg = Config.configure_task(id=\"task_result\",\n",
    "                                      function=result,\n",
    "                                      input=[final_data_cfg, predictions_cfg, date_cfg],\n",
    "                                      output=result_cfg)"
   ]
  },
  {
   "cell_type": "markdown",
   "id": "252820b6",
   "metadata": {
    "id": "252820b6"
   },
   "source": [
    "## [Configuration of pipelines](https://docs.taipy.io/en/release-1.1/manuals/reference/taipy.Config/#taipy.core.config.config.Config.configure_default_pipeline)"
   ]
  },
  {
   "cell_type": "code",
   "execution_count": 36,
   "id": "ed34224b",
   "metadata": {
    "id": "ed34224b"
   },
   "outputs": [],
   "source": [
    "pipeline_preprocessing_cfg = Config.configure_pipeline(id=\"pipeline_preprocessing\",\n",
    "                                                       task_configs=[task_preprocess_cfg])\n",
    "\n",
    "pipeline_arima_cfg = Config.configure_pipeline(id=\"ARIMA\",\n",
    "                                               task_configs=[task_train_cfg,\n",
    "                                                             task_forecast_cfg,\n",
    "                                                             task_result_cfg])"
   ]
  },
  {
   "cell_type": "markdown",
   "id": "9834cac0",
   "metadata": {},
   "source": [
    "## Add more models\n",
    "\n",
    "<img src=\"img/pipeline_linear_regression.svg\" alt=\"drawing\" width=\"500\"/>"
   ]
  },
  {
   "cell_type": "code",
   "execution_count": 37,
   "id": "aa1025e1",
   "metadata": {},
   "outputs": [],
   "source": [
    "def train_linear_regression(train_data):    \n",
    "    y = train_data['Deaths']\n",
    "    X = train_data.drop(['Deaths','Date'], axis=1)\n",
    "    \n",
    "    model = LinearRegression()\n",
    "    model.fit(X,y)\n",
    "    return model\n",
    "\n",
    "def forecast_linear_regression(model, date):\n",
    "    dates = pd.to_datetime([date + dt.timedelta(days=i)\n",
    "                            for i in range(60)])\n",
    "    X = add_features(pd.DataFrame({\"Date\":dates}))\n",
    "    X.drop('Date', axis=1, inplace=True)\n",
    "    predictions = model.predict(X)\n",
    "    return predictions\n",
    "\n",
    "\n",
    "task_train_cfg = Config.configure_task(id=\"task_train\",\n",
    "                                      function=train_linear_regression,\n",
    "                                      input=train_data_cfg,\n",
    "                                      output=model_cfg)\n",
    "\n",
    "task_forecast_cfg = Config.configure_task(id=\"task_forecast\",\n",
    "                                      function=forecast_linear_regression,\n",
    "                                      input=[model_cfg, date_cfg],\n",
    "                                      output=predictions_cfg)\n",
    "\n",
    "pipeline_linear_regression_cfg = Config.configure_pipeline(id=\"LinearRegression\",\n",
    "                                               task_configs=[task_train_cfg,\n",
    "                                                             task_forecast_cfg,\n",
    "                                                             task_result_cfg])"
   ]
  },
  {
   "cell_type": "markdown",
   "id": "27dbc823",
   "metadata": {
    "id": "27dbc823"
   },
   "source": [
    "## [Configuration of scénario](https://docs.taipy.io/en/release-1.1/manuals/reference/taipy.Config/#taipy.core.config.config.Config.configure_default_scenario)"
   ]
  },
  {
   "cell_type": "code",
   "execution_count": 38,
   "id": "36f84118",
   "metadata": {},
   "outputs": [],
   "source": [
    "scenario_cfg = Config.configure_scenario(id='scenario', pipeline_configs=[pipeline_preprocessing_cfg,\n",
    "                                                                          pipeline_arima_cfg,\n",
    "                                                                          pipeline_linear_regression_cfg])"
   ]
  },
  {
   "cell_type": "markdown",
   "id": "986ebad5",
   "metadata": {
    "id": "986ebad5"
   },
   "source": [
    "## Creation and submit of scenario"
   ]
  },
  {
   "cell_type": "code",
   "execution_count": 39,
   "id": "ee902abf",
   "metadata": {
    "id": "ee902abf",
    "outputId": "f2e36e97-1ce2-49ae-b4b7-23f84e68892a"
   },
   "outputs": [
    {
     "name": "stderr",
     "output_type": "stream",
     "text": [
      "C:\\Users\\jacta\\AppData\\Local\\R-MINI~1\\envs\\notebook\\lib\\site-packages\\taipy\\core\\data\\csv.py:161: DtypeWarning: Columns (0,1) have mixed types. Specify dtype option on import or set low_memory=False.\n",
      "  return pd.read_csv(self._path)\n"
     ]
    },
    {
     "name": "stdout",
     "output_type": "stream",
     "text": [
      "[2022-10-05 09:41:21,653][Taipy][INFO] job JOB_task_preprocess_data_0328f038-0e89-4b3b-a35f-f7468ba17316 is completed.\n"
     ]
    },
    {
     "name": "stderr",
     "output_type": "stream",
     "text": [
      "C:\\Users\\jacta\\AppData\\Local\\Temp\\ipykernel_41444\\1815540409.py:16: FutureWarning: The default value of numeric_only in DataFrameGroupBy.sum is deprecated. In a future version, numeric_only will default to False. Either specify numeric_only or select only columns which should be valid for the function.\n",
      "  .sum()\\\n"
     ]
    },
    {
     "name": "stdout",
     "output_type": "stream",
     "text": [
      "[2022-10-05 09:41:21,957][Taipy][INFO] job JOB_task_train_89fd5a58-772a-463e-a644-7776dfb88ff9 is completed.\n",
      "[2022-10-05 09:41:22,048][Taipy][INFO] job JOB_task_forecast_7d081b84-77d1-4904-9f7d-61da457d8912 is completed.\n",
      "[2022-10-05 09:41:22,119][Taipy][INFO] job JOB_task_result_5db2c068-f01d-4639-bda2-9033d0e4c09a is completed.\n",
      "[2022-10-05 09:41:22,302][Taipy][INFO] job JOB_task_train_dd55a92f-2530-4081-b0db-e560f19d0616 is completed.\n",
      "[2022-10-05 09:41:22,384][Taipy][INFO] job JOB_task_forecast_946e707f-4aa8-4fd2-9d25-b3ec736b6a03 is completed.\n",
      "[2022-10-05 09:41:22,440][Taipy][INFO] job JOB_task_result_9f91b7a1-38f6-4a8e-8ad6-cc76804ec148 is completed.\n"
     ]
    },
    {
     "data": {
      "text/plain": [
       "{'PIPELINE_pipeline_preprocessing_6b95373e-b472-4ebc-912b-d1ec90b3b8fc': [<taipy.core.job.job.Job at 0x257017adba0>],\n",
       " 'PIPELINE_ARIMA_8a944c8c-a207-46eb-a52a-f696104281c1': [<taipy.core.job.job.Job at 0x25772232a10>,\n",
       "  <taipy.core.job.job.Job at 0x25772231ed0>,\n",
       "  <taipy.core.job.job.Job at 0x25701795870>],\n",
       " 'PIPELINE_LinearRegression_a2695fc1-54b2-49f6-a43d-a8bf4081d910': [<taipy.core.job.job.Job at 0x2577216fd90>,\n",
       "  <taipy.core.job.job.Job at 0x25704565f00>,\n",
       "  <taipy.core.job.job.Job at 0x25704565870>]}"
      ]
     },
     "execution_count": 39,
     "metadata": {},
     "output_type": "execute_result"
    }
   ],
   "source": [
    "scenario = tp.create_scenario(scenario_cfg, name='First Scenario')\n",
    "tp.submit(scenario)"
   ]
  },
  {
   "cell_type": "code",
   "execution_count": 40,
   "id": "0438a233",
   "metadata": {
    "id": "0438a233",
    "outputId": "494c2bd8-eef2-4a0f-92ca-46ce061aeaee"
   },
   "outputs": [
    {
     "name": "stderr",
     "output_type": "stream",
     "text": [
      "C:\\Users\\jacta\\AppData\\Local\\R-MINI~1\\envs\\notebook\\lib\\site-packages\\taipy\\core\\data\\csv.py:161: DtypeWarning: Columns (0,1) have mixed types. Specify dtype option on import or set low_memory=False.\n",
      "  return pd.read_csv(self._path)\n"
     ]
    },
    {
     "data": {
      "text/html": [
       "<div>\n",
       "<style scoped>\n",
       "    .dataframe tbody tr th:only-of-type {\n",
       "        vertical-align: middle;\n",
       "    }\n",
       "\n",
       "    .dataframe tbody tr th {\n",
       "        vertical-align: top;\n",
       "    }\n",
       "\n",
       "    .dataframe thead th {\n",
       "        text-align: right;\n",
       "    }\n",
       "</style>\n",
       "<table border=\"1\" class=\"dataframe\">\n",
       "  <thead>\n",
       "    <tr style=\"text-align: right;\">\n",
       "      <th></th>\n",
       "      <th>Country/Region</th>\n",
       "      <th>Province/State</th>\n",
       "      <th>Latitude</th>\n",
       "      <th>Longitude</th>\n",
       "      <th>Confirmed</th>\n",
       "      <th>Recovered</th>\n",
       "      <th>Deaths</th>\n",
       "      <th>Date</th>\n",
       "    </tr>\n",
       "  </thead>\n",
       "  <tbody>\n",
       "    <tr>\n",
       "      <th>0</th>\n",
       "      <td>NaN</td>\n",
       "      <td>NaN</td>\n",
       "      <td>NaN</td>\n",
       "      <td>NaN</td>\n",
       "      <td>51526.0</td>\n",
       "      <td>41727.0</td>\n",
       "      <td>2191.0</td>\n",
       "      <td>2021-01-01</td>\n",
       "    </tr>\n",
       "    <tr>\n",
       "      <th>1</th>\n",
       "      <td>NaN</td>\n",
       "      <td>NaN</td>\n",
       "      <td>NaN</td>\n",
       "      <td>NaN</td>\n",
       "      <td>58316.0</td>\n",
       "      <td>33634.0</td>\n",
       "      <td>1181.0</td>\n",
       "      <td>2021-01-01</td>\n",
       "    </tr>\n",
       "    <tr>\n",
       "      <th>2</th>\n",
       "      <td>NaN</td>\n",
       "      <td>NaN</td>\n",
       "      <td>NaN</td>\n",
       "      <td>NaN</td>\n",
       "      <td>99897.0</td>\n",
       "      <td>67395.0</td>\n",
       "      <td>2762.0</td>\n",
       "      <td>2021-01-01</td>\n",
       "    </tr>\n",
       "    <tr>\n",
       "      <th>3</th>\n",
       "      <td>NaN</td>\n",
       "      <td>NaN</td>\n",
       "      <td>NaN</td>\n",
       "      <td>NaN</td>\n",
       "      <td>8117.0</td>\n",
       "      <td>7463.0</td>\n",
       "      <td>84.0</td>\n",
       "      <td>2021-01-01</td>\n",
       "    </tr>\n",
       "    <tr>\n",
       "      <th>4</th>\n",
       "      <td>NaN</td>\n",
       "      <td>NaN</td>\n",
       "      <td>NaN</td>\n",
       "      <td>NaN</td>\n",
       "      <td>17568.0</td>\n",
       "      <td>11146.0</td>\n",
       "      <td>405.0</td>\n",
       "      <td>2021-01-01</td>\n",
       "    </tr>\n",
       "    <tr>\n",
       "      <th>...</th>\n",
       "      <td>...</td>\n",
       "      <td>...</td>\n",
       "      <td>...</td>\n",
       "      <td>...</td>\n",
       "      <td>...</td>\n",
       "      <td>...</td>\n",
       "      <td>...</td>\n",
       "      <td>...</td>\n",
       "    </tr>\n",
       "    <tr>\n",
       "      <th>1241947</th>\n",
       "      <td>Vietnam</td>\n",
       "      <td>NaN</td>\n",
       "      <td>14.058324</td>\n",
       "      <td>108.277199</td>\n",
       "      <td>1465.0</td>\n",
       "      <td>1325.0</td>\n",
       "      <td>35.0</td>\n",
       "      <td>2020-12-31</td>\n",
       "    </tr>\n",
       "    <tr>\n",
       "      <th>1241948</th>\n",
       "      <td>West Bank and Gaza</td>\n",
       "      <td>NaN</td>\n",
       "      <td>31.952200</td>\n",
       "      <td>35.233200</td>\n",
       "      <td>138004.0</td>\n",
       "      <td>117183.0</td>\n",
       "      <td>1400.0</td>\n",
       "      <td>2020-12-31</td>\n",
       "    </tr>\n",
       "    <tr>\n",
       "      <th>1241949</th>\n",
       "      <td>Yemen</td>\n",
       "      <td>NaN</td>\n",
       "      <td>15.552727</td>\n",
       "      <td>48.516388</td>\n",
       "      <td>2099.0</td>\n",
       "      <td>1394.0</td>\n",
       "      <td>610.0</td>\n",
       "      <td>2020-12-31</td>\n",
       "    </tr>\n",
       "    <tr>\n",
       "      <th>1241950</th>\n",
       "      <td>Zambia</td>\n",
       "      <td>NaN</td>\n",
       "      <td>-13.133897</td>\n",
       "      <td>27.849332</td>\n",
       "      <td>20725.0</td>\n",
       "      <td>18660.0</td>\n",
       "      <td>388.0</td>\n",
       "      <td>2020-12-31</td>\n",
       "    </tr>\n",
       "    <tr>\n",
       "      <th>1241951</th>\n",
       "      <td>Zimbabwe</td>\n",
       "      <td>NaN</td>\n",
       "      <td>-19.015438</td>\n",
       "      <td>29.154857</td>\n",
       "      <td>13867.0</td>\n",
       "      <td>11250.0</td>\n",
       "      <td>363.0</td>\n",
       "      <td>2020-12-31</td>\n",
       "    </tr>\n",
       "  </tbody>\n",
       "</table>\n",
       "<p>1241952 rows × 8 columns</p>\n",
       "</div>"
      ],
      "text/plain": [
       "             Country/Region Province/State   Latitude   Longitude  Confirmed  \\\n",
       "0                       NaN            NaN        NaN         NaN    51526.0   \n",
       "1                       NaN            NaN        NaN         NaN    58316.0   \n",
       "2                       NaN            NaN        NaN         NaN    99897.0   \n",
       "3                       NaN            NaN        NaN         NaN     8117.0   \n",
       "4                       NaN            NaN        NaN         NaN    17568.0   \n",
       "...                     ...            ...        ...         ...        ...   \n",
       "1241947             Vietnam            NaN  14.058324  108.277199     1465.0   \n",
       "1241948  West Bank and Gaza            NaN  31.952200   35.233200   138004.0   \n",
       "1241949               Yemen            NaN  15.552727   48.516388     2099.0   \n",
       "1241950              Zambia            NaN -13.133897   27.849332    20725.0   \n",
       "1241951            Zimbabwe            NaN -19.015438   29.154857    13867.0   \n",
       "\n",
       "         Recovered  Deaths        Date  \n",
       "0          41727.0  2191.0  2021-01-01  \n",
       "1          33634.0  1181.0  2021-01-01  \n",
       "2          67395.0  2762.0  2021-01-01  \n",
       "3           7463.0    84.0  2021-01-01  \n",
       "4          11146.0   405.0  2021-01-01  \n",
       "...            ...     ...         ...  \n",
       "1241947     1325.0    35.0  2020-12-31  \n",
       "1241948   117183.0  1400.0  2020-12-31  \n",
       "1241949     1394.0   610.0  2020-12-31  \n",
       "1241950    18660.0   388.0  2020-12-31  \n",
       "1241951    11250.0   363.0  2020-12-31  \n",
       "\n",
       "[1241952 rows x 8 columns]"
      ]
     },
     "execution_count": 40,
     "metadata": {},
     "output_type": "execute_result"
    }
   ],
   "source": [
    "scenario.initial_data.read()"
   ]
  },
  {
   "cell_type": "code",
   "execution_count": 41,
   "id": "a4f4dafd",
   "metadata": {
    "id": "a4f4dafd",
    "outputId": "a9928f34-27e3-4e90-c43d-4aa073fc5617"
   },
   "outputs": [
    {
     "data": {
      "text/html": [
       "<div>\n",
       "<style scoped>\n",
       "    .dataframe tbody tr th:only-of-type {\n",
       "        vertical-align: middle;\n",
       "    }\n",
       "\n",
       "    .dataframe tbody tr th {\n",
       "        vertical-align: top;\n",
       "    }\n",
       "\n",
       "    .dataframe thead th {\n",
       "        text-align: right;\n",
       "    }\n",
       "</style>\n",
       "<table border=\"1\" class=\"dataframe\">\n",
       "  <thead>\n",
       "    <tr style=\"text-align: right;\">\n",
       "      <th></th>\n",
       "      <th>Date</th>\n",
       "      <th>Deaths</th>\n",
       "      <th>Months</th>\n",
       "      <th>Days</th>\n",
       "      <th>Week</th>\n",
       "      <th>Day of week</th>\n",
       "    </tr>\n",
       "  </thead>\n",
       "  <tbody>\n",
       "    <tr>\n",
       "      <th>0</th>\n",
       "      <td>2020-01-24</td>\n",
       "      <td>0.0</td>\n",
       "      <td>1</td>\n",
       "      <td>5</td>\n",
       "      <td>4</td>\n",
       "      <td>4</td>\n",
       "    </tr>\n",
       "    <tr>\n",
       "      <th>1</th>\n",
       "      <td>2020-01-25</td>\n",
       "      <td>0.0</td>\n",
       "      <td>1</td>\n",
       "      <td>6</td>\n",
       "      <td>4</td>\n",
       "      <td>5</td>\n",
       "    </tr>\n",
       "    <tr>\n",
       "      <th>2</th>\n",
       "      <td>2020-01-26</td>\n",
       "      <td>0.0</td>\n",
       "      <td>1</td>\n",
       "      <td>7</td>\n",
       "      <td>4</td>\n",
       "      <td>6</td>\n",
       "    </tr>\n",
       "    <tr>\n",
       "      <th>3</th>\n",
       "      <td>2020-01-27</td>\n",
       "      <td>0.0</td>\n",
       "      <td>1</td>\n",
       "      <td>1</td>\n",
       "      <td>5</td>\n",
       "      <td>0</td>\n",
       "    </tr>\n",
       "    <tr>\n",
       "      <th>4</th>\n",
       "      <td>2020-01-28</td>\n",
       "      <td>0.0</td>\n",
       "      <td>1</td>\n",
       "      <td>2</td>\n",
       "      <td>5</td>\n",
       "      <td>1</td>\n",
       "    </tr>\n",
       "    <tr>\n",
       "      <th>...</th>\n",
       "      <td>...</td>\n",
       "      <td>...</td>\n",
       "      <td>...</td>\n",
       "      <td>...</td>\n",
       "      <td>...</td>\n",
       "      <td>...</td>\n",
       "    </tr>\n",
       "    <tr>\n",
       "      <th>256</th>\n",
       "      <td>2020-10-06</td>\n",
       "      <td>32386.0</td>\n",
       "      <td>10</td>\n",
       "      <td>2</td>\n",
       "      <td>41</td>\n",
       "      <td>1</td>\n",
       "    </tr>\n",
       "    <tr>\n",
       "      <th>257</th>\n",
       "      <td>2020-10-07</td>\n",
       "      <td>32466.0</td>\n",
       "      <td>10</td>\n",
       "      <td>3</td>\n",
       "      <td>41</td>\n",
       "      <td>2</td>\n",
       "    </tr>\n",
       "    <tr>\n",
       "      <th>258</th>\n",
       "      <td>2020-10-08</td>\n",
       "      <td>32539.0</td>\n",
       "      <td>10</td>\n",
       "      <td>4</td>\n",
       "      <td>41</td>\n",
       "      <td>3</td>\n",
       "    </tr>\n",
       "    <tr>\n",
       "      <th>259</th>\n",
       "      <td>2020-10-09</td>\n",
       "      <td>32649.0</td>\n",
       "      <td>10</td>\n",
       "      <td>5</td>\n",
       "      <td>41</td>\n",
       "      <td>4</td>\n",
       "    </tr>\n",
       "    <tr>\n",
       "      <th>260</th>\n",
       "      <td>2020-10-10</td>\n",
       "      <td>32684.0</td>\n",
       "      <td>10</td>\n",
       "      <td>6</td>\n",
       "      <td>41</td>\n",
       "      <td>5</td>\n",
       "    </tr>\n",
       "  </tbody>\n",
       "</table>\n",
       "<p>261 rows × 6 columns</p>\n",
       "</div>"
      ],
      "text/plain": [
       "           Date   Deaths  Months  Days  Week  Day of week\n",
       "0    2020-01-24      0.0       1     5     4            4\n",
       "1    2020-01-25      0.0       1     6     4            5\n",
       "2    2020-01-26      0.0       1     7     4            6\n",
       "3    2020-01-27      0.0       1     1     5            0\n",
       "4    2020-01-28      0.0       1     2     5            1\n",
       "..          ...      ...     ...   ...   ...          ...\n",
       "256  2020-10-06  32386.0      10     2    41            1\n",
       "257  2020-10-07  32466.0      10     3    41            2\n",
       "258  2020-10-08  32539.0      10     4    41            3\n",
       "259  2020-10-09  32649.0      10     5    41            4\n",
       "260  2020-10-10  32684.0      10     6    41            5\n",
       "\n",
       "[261 rows x 6 columns]"
      ]
     },
     "execution_count": 41,
     "metadata": {},
     "output_type": "execute_result"
    }
   ],
   "source": [
    "scenario.train_data.read()"
   ]
  },
  {
   "cell_type": "code",
   "execution_count": 42,
   "id": "79602c0e",
   "metadata": {
    "id": "79602c0e",
    "outputId": "fe06a4ba-a59a-419e-f244-aed87412fb05"
   },
   "outputs": [
    {
     "data": {
      "text/plain": [
       "array([40425.81351614, 40572.73161338, 40751.72048211, 40898.63857936,\n",
       "       41045.5566766 , 41192.47477385, 41339.39287109, 41486.31096833,\n",
       "       41633.22906558, 41812.21793431, 41959.13603155, 42106.0541288 ,\n",
       "       42252.97222604, 42399.89032329, 42546.80842053, 42693.72651778,\n",
       "       42872.71538651, 43019.63348375, 43166.551581  , 43313.46967824,\n",
       "       43460.38777548, 43607.30587273, 43790.05127049, 43969.04013923,\n",
       "       44115.95823647, 44262.87633371, 44409.79443096, 44556.7125282 ,\n",
       "       44703.63062545, 44850.54872269, 45029.53759142, 45176.45568867,\n",
       "       45323.37378591, 45470.29188316, 45617.2099804 , 45764.12807764,\n",
       "       45911.04617489, 46090.03504362, 46236.95314086, 46383.87123811,\n",
       "       46530.78933535, 46677.7074326 , 46824.62552984, 46971.54362709,\n",
       "       47150.53249582, 47297.45059306, 47444.36869031, 47591.28678755,\n",
       "       47738.20488479, 47885.12298204, 48032.04107928, 48211.02994801,\n",
       "       48393.77534578, 48540.69344302, 48687.61154027, 48834.52963751,\n",
       "       48981.44773476, 49128.365832  , 49307.35470073, 49454.27279798])"
      ]
     },
     "execution_count": 42,
     "metadata": {},
     "output_type": "execute_result"
    }
   ],
   "source": [
    "scenario.ARIMA.predictions.read()"
   ]
  },
  {
   "cell_type": "markdown",
   "id": "d9915978",
   "metadata": {
    "id": "d9915978"
   },
   "source": [
    "## Caching\n",
    "Some job are skipped because no change has been done to the \"input\" Data Nodes."
   ]
  },
  {
   "cell_type": "code",
   "execution_count": 43,
   "id": "7cb68da0",
   "metadata": {
    "id": "7cb68da0",
    "outputId": "b06a184d-f2aa-4e00-cac4-3a0111d1755c"
   },
   "outputs": [
    {
     "name": "stdout",
     "output_type": "stream",
     "text": [
      "[2022-10-05 09:41:23,248][Taipy][INFO] job JOB_task_preprocess_data_d8c81cbf-bcf9-47f2-890d-4d9c8c445a0b is skipped.\n",
      "[2022-10-05 09:41:23,390][Taipy][INFO] job JOB_task_train_e58799aa-b5c3-4262-9320-2b2af529b2ff is skipped.\n",
      "[2022-10-05 09:41:23,463][Taipy][INFO] job JOB_task_forecast_091c8640-9acc-4f2c-bf54-d0bd39d9446e is completed.\n",
      "[2022-10-05 09:41:23,519][Taipy][INFO] job JOB_task_result_9e410cca-3706-4f17-8b69-c2e2e0586ead is completed.\n",
      "[2022-10-05 09:41:23,657][Taipy][INFO] job JOB_task_train_ccb311e4-0184-496c-ade1-a82a62298504 is skipped.\n",
      "[2022-10-05 09:41:23,730][Taipy][INFO] job JOB_task_forecast_f93d746e-618c-42c4-afa2-6636917dbedd is completed.\n",
      "[2022-10-05 09:41:23,788][Taipy][INFO] job JOB_task_result_edaf3591-0296-4526-9dc4-15c7ebde5f0f is completed.\n"
     ]
    },
    {
     "data": {
      "text/plain": [
       "{'PIPELINE_pipeline_preprocessing_6b95373e-b472-4ebc-912b-d1ec90b3b8fc': [<taipy.core.job.job.Job at 0x257045668c0>],\n",
       " 'PIPELINE_ARIMA_8a944c8c-a207-46eb-a52a-f696104281c1': [<taipy.core.job.job.Job at 0x2577220e920>,\n",
       "  <taipy.core.job.job.Job at 0x25772232620>,\n",
       "  <taipy.core.job.job.Job at 0x25704566f80>],\n",
       " 'PIPELINE_LinearRegression_a2695fc1-54b2-49f6-a43d-a8bf4081d910': [<taipy.core.job.job.Job at 0x2570732ec20>,\n",
       "  <taipy.core.job.job.Job at 0x2570732db70>,\n",
       "  <taipy.core.job.job.Job at 0x2570458ae00>]}"
      ]
     },
     "execution_count": 43,
     "metadata": {},
     "output_type": "execute_result"
    }
   ],
   "source": [
    "tp.submit(scenario)"
   ]
  },
  {
   "cell_type": "markdown",
   "id": "ba83beac",
   "metadata": {
    "id": "ba83beac"
   },
   "source": [
    "## Write in data nodes\n",
    "\n",
    "To write a data node:\n",
    "\n",
    "`<Data Node>.write(new_value)`"
   ]
  },
  {
   "cell_type": "code",
   "execution_count": 44,
   "id": "31d6562d",
   "metadata": {
    "id": "31d6562d",
    "outputId": "9fef8e2d-9026-438f-da23-8299d3fe3497"
   },
   "outputs": [
    {
     "name": "stderr",
     "output_type": "stream",
     "text": [
      "C:\\Users\\jacta\\AppData\\Local\\R-MINI~1\\envs\\notebook\\lib\\site-packages\\taipy\\core\\data\\csv.py:161: DtypeWarning: Columns (0,1) have mixed types. Specify dtype option on import or set low_memory=False.\n",
      "  return pd.read_csv(self._path)\n"
     ]
    },
    {
     "name": "stdout",
     "output_type": "stream",
     "text": [
      "[2022-10-05 09:41:25,086][Taipy][INFO] job JOB_task_preprocess_data_ce49b91a-0eea-4ca9-bf0d-23a2e501b244 is completed.\n"
     ]
    },
    {
     "name": "stderr",
     "output_type": "stream",
     "text": [
      "C:\\Users\\jacta\\AppData\\Local\\Temp\\ipykernel_41444\\1815540409.py:16: FutureWarning: The default value of numeric_only in DataFrameGroupBy.sum is deprecated. In a future version, numeric_only will default to False. Either specify numeric_only or select only columns which should be valid for the function.\n",
      "  .sum()\\\n"
     ]
    },
    {
     "name": "stdout",
     "output_type": "stream",
     "text": [
      "[2022-10-05 09:41:25,260][Taipy][INFO] job JOB_task_train_02a67ea7-26d5-4cbc-9b8e-d7693b0d091d is completed.\n",
      "[2022-10-05 09:41:25,346][Taipy][INFO] job JOB_task_forecast_3d4c9508-2b42-4b5f-857b-09ae3eab6615 is completed.\n",
      "[2022-10-05 09:41:25,411][Taipy][INFO] job JOB_task_result_2ef65daa-ea0a-4aa0-a2ff-6ff3960eb413 is completed.\n",
      "[2022-10-05 09:41:25,579][Taipy][INFO] job JOB_task_train_4abf9ec7-a8e4-449f-a549-bf67d2069daf is completed.\n",
      "[2022-10-05 09:41:25,656][Taipy][INFO] job JOB_task_forecast_da69983a-53b3-44cc-8134-163f914f8f50 is completed.\n",
      "[2022-10-05 09:41:25,711][Taipy][INFO] job JOB_task_result_e9bbd92c-e581-4bf9-b0bb-a8d76614e5b1 is completed.\n"
     ]
    },
    {
     "data": {
      "text/html": [
       "<div>\n",
       "<style scoped>\n",
       "    .dataframe tbody tr th:only-of-type {\n",
       "        vertical-align: middle;\n",
       "    }\n",
       "\n",
       "    .dataframe tbody tr th {\n",
       "        vertical-align: top;\n",
       "    }\n",
       "\n",
       "    .dataframe thead th {\n",
       "        text-align: right;\n",
       "    }\n",
       "</style>\n",
       "<table border=\"1\" class=\"dataframe\">\n",
       "  <thead>\n",
       "    <tr style=\"text-align: right;\">\n",
       "      <th></th>\n",
       "      <th>Date</th>\n",
       "      <th>Deaths</th>\n",
       "      <th>Months</th>\n",
       "      <th>Days</th>\n",
       "      <th>Week</th>\n",
       "      <th>Day of week</th>\n",
       "      <th>Predictions</th>\n",
       "    </tr>\n",
       "  </thead>\n",
       "  <tbody>\n",
       "    <tr>\n",
       "      <th>0</th>\n",
       "      <td>2020-01-22</td>\n",
       "      <td>0.0</td>\n",
       "      <td>1</td>\n",
       "      <td>3</td>\n",
       "      <td>4</td>\n",
       "      <td>2</td>\n",
       "      <td>NaN</td>\n",
       "    </tr>\n",
       "    <tr>\n",
       "      <th>1</th>\n",
       "      <td>2020-01-23</td>\n",
       "      <td>0.0</td>\n",
       "      <td>1</td>\n",
       "      <td>4</td>\n",
       "      <td>4</td>\n",
       "      <td>3</td>\n",
       "      <td>NaN</td>\n",
       "    </tr>\n",
       "    <tr>\n",
       "      <th>2</th>\n",
       "      <td>2020-01-24</td>\n",
       "      <td>0.0</td>\n",
       "      <td>1</td>\n",
       "      <td>5</td>\n",
       "      <td>4</td>\n",
       "      <td>4</td>\n",
       "      <td>NaN</td>\n",
       "    </tr>\n",
       "    <tr>\n",
       "      <th>3</th>\n",
       "      <td>2020-01-25</td>\n",
       "      <td>0.0</td>\n",
       "      <td>1</td>\n",
       "      <td>6</td>\n",
       "      <td>4</td>\n",
       "      <td>5</td>\n",
       "      <td>NaN</td>\n",
       "    </tr>\n",
       "    <tr>\n",
       "      <th>4</th>\n",
       "      <td>2020-01-26</td>\n",
       "      <td>0.0</td>\n",
       "      <td>1</td>\n",
       "      <td>7</td>\n",
       "      <td>4</td>\n",
       "      <td>6</td>\n",
       "      <td>NaN</td>\n",
       "    </tr>\n",
       "    <tr>\n",
       "      <th>...</th>\n",
       "      <td>...</td>\n",
       "      <td>...</td>\n",
       "      <td>...</td>\n",
       "      <td>...</td>\n",
       "      <td>...</td>\n",
       "      <td>...</td>\n",
       "      <td>...</td>\n",
       "    </tr>\n",
       "    <tr>\n",
       "      <th>340</th>\n",
       "      <td>2020-12-27</td>\n",
       "      <td>334533.0</td>\n",
       "      <td>12</td>\n",
       "      <td>7</td>\n",
       "      <td>52</td>\n",
       "      <td>6</td>\n",
       "      <td>NaN</td>\n",
       "    </tr>\n",
       "    <tr>\n",
       "      <th>341</th>\n",
       "      <td>2020-12-28</td>\n",
       "      <td>336438.0</td>\n",
       "      <td>12</td>\n",
       "      <td>1</td>\n",
       "      <td>53</td>\n",
       "      <td>0</td>\n",
       "      <td>NaN</td>\n",
       "    </tr>\n",
       "    <tr>\n",
       "      <th>342</th>\n",
       "      <td>2020-12-29</td>\n",
       "      <td>340061.0</td>\n",
       "      <td>12</td>\n",
       "      <td>2</td>\n",
       "      <td>53</td>\n",
       "      <td>1</td>\n",
       "      <td>NaN</td>\n",
       "    </tr>\n",
       "    <tr>\n",
       "      <th>343</th>\n",
       "      <td>2020-12-30</td>\n",
       "      <td>343783.0</td>\n",
       "      <td>12</td>\n",
       "      <td>3</td>\n",
       "      <td>53</td>\n",
       "      <td>2</td>\n",
       "      <td>NaN</td>\n",
       "    </tr>\n",
       "    <tr>\n",
       "      <th>344</th>\n",
       "      <td>2020-12-31</td>\n",
       "      <td>347170.0</td>\n",
       "      <td>12</td>\n",
       "      <td>4</td>\n",
       "      <td>53</td>\n",
       "      <td>3</td>\n",
       "      <td>NaN</td>\n",
       "    </tr>\n",
       "  </tbody>\n",
       "</table>\n",
       "<p>345 rows × 7 columns</p>\n",
       "</div>"
      ],
      "text/plain": [
       "          Date    Deaths  Months  Days  Week  Day of week  Predictions\n",
       "0   2020-01-22       0.0       1     3     4            2          NaN\n",
       "1   2020-01-23       0.0       1     4     4            3          NaN\n",
       "2   2020-01-24       0.0       1     5     4            4          NaN\n",
       "3   2020-01-25       0.0       1     6     4            5          NaN\n",
       "4   2020-01-26       0.0       1     7     4            6          NaN\n",
       "..         ...       ...     ...   ...   ...          ...          ...\n",
       "340 2020-12-27  334533.0      12     7    52            6          NaN\n",
       "341 2020-12-28  336438.0      12     1    53            0          NaN\n",
       "342 2020-12-29  340061.0      12     2    53            1          NaN\n",
       "343 2020-12-30  343783.0      12     3    53            2          NaN\n",
       "344 2020-12-31  347170.0      12     4    53            3          NaN\n",
       "\n",
       "[345 rows x 7 columns]"
      ]
     },
     "execution_count": 44,
     "metadata": {},
     "output_type": "execute_result"
    }
   ],
   "source": [
    "scenario.country.write('US')\n",
    "tp.submit(scenario)\n",
    "scenario.result.read()"
   ]
  },
  {
   "cell_type": "markdown",
   "id": "9d9d2c81",
   "metadata": {
    "id": "9d9d2c81"
   },
   "source": [
    "## Simple framework"
   ]
  },
  {
   "cell_type": "code",
   "execution_count": 45,
   "id": "4892eb7d",
   "metadata": {
    "id": "4892eb7d"
   },
   "outputs": [
    {
     "name": "stderr",
     "output_type": "stream",
     "text": [
      "C:\\Users\\jacta\\AppData\\Local\\R-MINI~1\\envs\\notebook\\lib\\site-packages\\taipy\\core\\data\\csv.py:161: DtypeWarning: Columns (0,1) have mixed types. Specify dtype option on import or set low_memory=False.\n",
      "  return pd.read_csv(self._path)\n"
     ]
    },
    {
     "name": "stdout",
     "output_type": "stream",
     "text": [
      "[2022-10-05 09:41:27,197][Taipy][INFO] job JOB_task_preprocess_data_c05dd819-f7f6-41ad-a3be-13d4cccd7b34 is completed.\n"
     ]
    },
    {
     "name": "stderr",
     "output_type": "stream",
     "text": [
      "C:\\Users\\jacta\\AppData\\Local\\Temp\\ipykernel_41444\\1815540409.py:16: FutureWarning: The default value of numeric_only in DataFrameGroupBy.sum is deprecated. In a future version, numeric_only will default to False. Either specify numeric_only or select only columns which should be valid for the function.\n",
      "  .sum()\\\n"
     ]
    },
    {
     "name": "stdout",
     "output_type": "stream",
     "text": [
      "[2022-10-05 09:41:27,363][Taipy][INFO] job JOB_task_train_ae5dffcd-2b12-428d-b343-4cd2c5253d89 is completed.\n",
      "[2022-10-05 09:41:27,443][Taipy][INFO] job JOB_task_forecast_3a343ba4-9471-42cd-9b22-1135ae6916d1 is completed.\n",
      "[2022-10-05 09:41:27,509][Taipy][INFO] job JOB_task_result_c1e8c620-4093-4eb6-9760-47e29872774c is completed.\n",
      "[2022-10-05 09:41:27,668][Taipy][INFO] job JOB_task_train_8333d65a-4d99-44bd-adbb-7c36c6a08d2d is completed.\n",
      "[2022-10-05 09:41:27,744][Taipy][INFO] job JOB_task_forecast_91756136-70ea-4471-bb3e-320d77176c2e is completed.\n",
      "[2022-10-05 09:41:27,799][Taipy][INFO] job JOB_task_result_a340dad3-1488-42c8-aff8-92ffcd938b8a is completed.\n"
     ]
    },
    {
     "data": {
      "text/plain": [
       "{'PIPELINE_pipeline_preprocessing_eaf8ace3-5c18-44ea-aed8-f06535fb90c9': [<taipy.core.job.job.Job at 0x2570781a9b0>],\n",
       " 'PIPELINE_ARIMA_824d24b9-4412-412d-8edb-88240b21e9cd': [<taipy.core.job.job.Job at 0x2570784fcd0>,\n",
       "  <taipy.core.job.job.Job at 0x2570783add0>,\n",
       "  <taipy.core.job.job.Job at 0x2570732d6c0>],\n",
       " 'PIPELINE_LinearRegression_01246576-bf93-42f0-9f22-8cc4caceabf2': [<taipy.core.job.job.Job at 0x25711928d00>,\n",
       "  <taipy.core.job.job.Job at 0x2571192b670>,\n",
       "  <taipy.core.job.job.Job at 0x2571190fb50>]}"
      ]
     },
     "execution_count": 45,
     "metadata": {},
     "output_type": "execute_result"
    }
   ],
   "source": [
    "scenario = tp.create_scenario(scenario_cfg, name='Second Scenario')\n",
    "tp.submit(scenario)"
   ]
  },
  {
   "cell_type": "code",
   "execution_count": 46,
   "id": "3b7c15c8",
   "metadata": {
    "id": "a9248942"
   },
   "outputs": [
    {
     "data": {
      "text/html": [
       "<style>#sk-container-id-1 {color: black;background-color: white;}#sk-container-id-1 pre{padding: 0;}#sk-container-id-1 div.sk-toggleable {background-color: white;}#sk-container-id-1 label.sk-toggleable__label {cursor: pointer;display: block;width: 100%;margin-bottom: 0;padding: 0.3em;box-sizing: border-box;text-align: center;}#sk-container-id-1 label.sk-toggleable__label-arrow:before {content: \"▸\";float: left;margin-right: 0.25em;color: #696969;}#sk-container-id-1 label.sk-toggleable__label-arrow:hover:before {color: black;}#sk-container-id-1 div.sk-estimator:hover label.sk-toggleable__label-arrow:before {color: black;}#sk-container-id-1 div.sk-toggleable__content {max-height: 0;max-width: 0;overflow: hidden;text-align: left;background-color: #f0f8ff;}#sk-container-id-1 div.sk-toggleable__content pre {margin: 0.2em;color: black;border-radius: 0.25em;background-color: #f0f8ff;}#sk-container-id-1 input.sk-toggleable__control:checked~div.sk-toggleable__content {max-height: 200px;max-width: 100%;overflow: auto;}#sk-container-id-1 input.sk-toggleable__control:checked~label.sk-toggleable__label-arrow:before {content: \"▾\";}#sk-container-id-1 div.sk-estimator input.sk-toggleable__control:checked~label.sk-toggleable__label {background-color: #d4ebff;}#sk-container-id-1 div.sk-label input.sk-toggleable__control:checked~label.sk-toggleable__label {background-color: #d4ebff;}#sk-container-id-1 input.sk-hidden--visually {border: 0;clip: rect(1px 1px 1px 1px);clip: rect(1px, 1px, 1px, 1px);height: 1px;margin: -1px;overflow: hidden;padding: 0;position: absolute;width: 1px;}#sk-container-id-1 div.sk-estimator {font-family: monospace;background-color: #f0f8ff;border: 1px dotted black;border-radius: 0.25em;box-sizing: border-box;margin-bottom: 0.5em;}#sk-container-id-1 div.sk-estimator:hover {background-color: #d4ebff;}#sk-container-id-1 div.sk-parallel-item::after {content: \"\";width: 100%;border-bottom: 1px solid gray;flex-grow: 1;}#sk-container-id-1 div.sk-label:hover label.sk-toggleable__label {background-color: #d4ebff;}#sk-container-id-1 div.sk-serial::before {content: \"\";position: absolute;border-left: 1px solid gray;box-sizing: border-box;top: 0;bottom: 0;left: 50%;z-index: 0;}#sk-container-id-1 div.sk-serial {display: flex;flex-direction: column;align-items: center;background-color: white;padding-right: 0.2em;padding-left: 0.2em;position: relative;}#sk-container-id-1 div.sk-item {position: relative;z-index: 1;}#sk-container-id-1 div.sk-parallel {display: flex;align-items: stretch;justify-content: center;background-color: white;position: relative;}#sk-container-id-1 div.sk-item::before, #sk-container-id-1 div.sk-parallel-item::before {content: \"\";position: absolute;border-left: 1px solid gray;box-sizing: border-box;top: 0;bottom: 0;left: 50%;z-index: -1;}#sk-container-id-1 div.sk-parallel-item {display: flex;flex-direction: column;z-index: 1;position: relative;background-color: white;}#sk-container-id-1 div.sk-parallel-item:first-child::after {align-self: flex-end;width: 50%;}#sk-container-id-1 div.sk-parallel-item:last-child::after {align-self: flex-start;width: 50%;}#sk-container-id-1 div.sk-parallel-item:only-child::after {width: 0;}#sk-container-id-1 div.sk-dashed-wrapped {border: 1px dashed gray;margin: 0 0.4em 0.5em 0.4em;box-sizing: border-box;padding-bottom: 0.4em;background-color: white;}#sk-container-id-1 div.sk-label label {font-family: monospace;font-weight: bold;display: inline-block;line-height: 1.2em;}#sk-container-id-1 div.sk-label-container {text-align: center;}#sk-container-id-1 div.sk-container {/* jupyter's `normalize.less` sets `[hidden] { display: none; }` but bootstrap.min.css set `[hidden] { display: none !important; }` so we also need the `!important` here to be able to override the default hidden behavior on the sphinx rendered scikit-learn.org. See: https://github.com/scikit-learn/scikit-learn/issues/21755 */display: inline-block !important;position: relative;}#sk-container-id-1 div.sk-text-repr-fallback {display: none;}</style><div id=\"sk-container-id-1\" class=\"sk-top-container\"><div class=\"sk-text-repr-fallback\"><pre>LinearRegression()</pre><b>In a Jupyter environment, please rerun this cell to show the HTML representation or trust the notebook. <br />On GitHub, the HTML representation is unable to render, please try loading this page with nbviewer.org.</b></div><div class=\"sk-container\" hidden><div class=\"sk-item\"><div class=\"sk-estimator sk-toggleable\"><input class=\"sk-toggleable__control sk-hidden--visually\" id=\"sk-estimator-id-1\" type=\"checkbox\" checked><label for=\"sk-estimator-id-1\" class=\"sk-toggleable__label sk-toggleable__label-arrow\">LinearRegression</label><div class=\"sk-toggleable__content\"><pre>LinearRegression()</pre></div></div></div></div></div>"
      ],
      "text/plain": [
       "LinearRegression()"
      ]
     },
     "execution_count": 46,
     "metadata": {},
     "output_type": "execute_result"
    }
   ],
   "source": [
    "scenario.ARIMA.model.read()"
   ]
  },
  {
   "cell_type": "code",
   "execution_count": 47,
   "id": "89d5d002",
   "metadata": {},
   "outputs": [
    {
     "data": {
      "text/html": [
       "<style>#sk-container-id-2 {color: black;background-color: white;}#sk-container-id-2 pre{padding: 0;}#sk-container-id-2 div.sk-toggleable {background-color: white;}#sk-container-id-2 label.sk-toggleable__label {cursor: pointer;display: block;width: 100%;margin-bottom: 0;padding: 0.3em;box-sizing: border-box;text-align: center;}#sk-container-id-2 label.sk-toggleable__label-arrow:before {content: \"▸\";float: left;margin-right: 0.25em;color: #696969;}#sk-container-id-2 label.sk-toggleable__label-arrow:hover:before {color: black;}#sk-container-id-2 div.sk-estimator:hover label.sk-toggleable__label-arrow:before {color: black;}#sk-container-id-2 div.sk-toggleable__content {max-height: 0;max-width: 0;overflow: hidden;text-align: left;background-color: #f0f8ff;}#sk-container-id-2 div.sk-toggleable__content pre {margin: 0.2em;color: black;border-radius: 0.25em;background-color: #f0f8ff;}#sk-container-id-2 input.sk-toggleable__control:checked~div.sk-toggleable__content {max-height: 200px;max-width: 100%;overflow: auto;}#sk-container-id-2 input.sk-toggleable__control:checked~label.sk-toggleable__label-arrow:before {content: \"▾\";}#sk-container-id-2 div.sk-estimator input.sk-toggleable__control:checked~label.sk-toggleable__label {background-color: #d4ebff;}#sk-container-id-2 div.sk-label input.sk-toggleable__control:checked~label.sk-toggleable__label {background-color: #d4ebff;}#sk-container-id-2 input.sk-hidden--visually {border: 0;clip: rect(1px 1px 1px 1px);clip: rect(1px, 1px, 1px, 1px);height: 1px;margin: -1px;overflow: hidden;padding: 0;position: absolute;width: 1px;}#sk-container-id-2 div.sk-estimator {font-family: monospace;background-color: #f0f8ff;border: 1px dotted black;border-radius: 0.25em;box-sizing: border-box;margin-bottom: 0.5em;}#sk-container-id-2 div.sk-estimator:hover {background-color: #d4ebff;}#sk-container-id-2 div.sk-parallel-item::after {content: \"\";width: 100%;border-bottom: 1px solid gray;flex-grow: 1;}#sk-container-id-2 div.sk-label:hover label.sk-toggleable__label {background-color: #d4ebff;}#sk-container-id-2 div.sk-serial::before {content: \"\";position: absolute;border-left: 1px solid gray;box-sizing: border-box;top: 0;bottom: 0;left: 50%;z-index: 0;}#sk-container-id-2 div.sk-serial {display: flex;flex-direction: column;align-items: center;background-color: white;padding-right: 0.2em;padding-left: 0.2em;position: relative;}#sk-container-id-2 div.sk-item {position: relative;z-index: 1;}#sk-container-id-2 div.sk-parallel {display: flex;align-items: stretch;justify-content: center;background-color: white;position: relative;}#sk-container-id-2 div.sk-item::before, #sk-container-id-2 div.sk-parallel-item::before {content: \"\";position: absolute;border-left: 1px solid gray;box-sizing: border-box;top: 0;bottom: 0;left: 50%;z-index: -1;}#sk-container-id-2 div.sk-parallel-item {display: flex;flex-direction: column;z-index: 1;position: relative;background-color: white;}#sk-container-id-2 div.sk-parallel-item:first-child::after {align-self: flex-end;width: 50%;}#sk-container-id-2 div.sk-parallel-item:last-child::after {align-self: flex-start;width: 50%;}#sk-container-id-2 div.sk-parallel-item:only-child::after {width: 0;}#sk-container-id-2 div.sk-dashed-wrapped {border: 1px dashed gray;margin: 0 0.4em 0.5em 0.4em;box-sizing: border-box;padding-bottom: 0.4em;background-color: white;}#sk-container-id-2 div.sk-label label {font-family: monospace;font-weight: bold;display: inline-block;line-height: 1.2em;}#sk-container-id-2 div.sk-label-container {text-align: center;}#sk-container-id-2 div.sk-container {/* jupyter's `normalize.less` sets `[hidden] { display: none; }` but bootstrap.min.css set `[hidden] { display: none !important; }` so we also need the `!important` here to be able to override the default hidden behavior on the sphinx rendered scikit-learn.org. See: https://github.com/scikit-learn/scikit-learn/issues/21755 */display: inline-block !important;position: relative;}#sk-container-id-2 div.sk-text-repr-fallback {display: none;}</style><div id=\"sk-container-id-2\" class=\"sk-top-container\"><div class=\"sk-text-repr-fallback\"><pre>LinearRegression()</pre><b>In a Jupyter environment, please rerun this cell to show the HTML representation or trust the notebook. <br />On GitHub, the HTML representation is unable to render, please try loading this page with nbviewer.org.</b></div><div class=\"sk-container\" hidden><div class=\"sk-item\"><div class=\"sk-estimator sk-toggleable\"><input class=\"sk-toggleable__control sk-hidden--visually\" id=\"sk-estimator-id-2\" type=\"checkbox\" checked><label for=\"sk-estimator-id-2\" class=\"sk-toggleable__label sk-toggleable__label-arrow\">LinearRegression</label><div class=\"sk-toggleable__content\"><pre>LinearRegression()</pre></div></div></div></div></div>"
      ],
      "text/plain": [
       "LinearRegression()"
      ]
     },
     "execution_count": 47,
     "metadata": {},
     "output_type": "execute_result"
    }
   ],
   "source": [
    "scenario.pipelines['LinearRegression'].model.read()"
   ]
  },
  {
   "cell_type": "code",
   "execution_count": 48,
   "id": "daf87c40",
   "metadata": {},
   "outputs": [
    {
     "data": {
      "text/plain": [
       "['US', 'US', 'France', 'France', 'Finland']"
      ]
     },
     "execution_count": 48,
     "metadata": {},
     "output_type": "execute_result"
    }
   ],
   "source": [
    "[s.country.read() for s in tp.get_scenarios()]"
   ]
  },
  {
   "cell_type": "code",
   "execution_count": 49,
   "id": "b3181b24",
   "metadata": {},
   "outputs": [
    {
     "data": {
      "text/plain": [
       "[datetime.datetime(2020, 10, 10, 0, 0),\n",
       " datetime.datetime(2020, 10, 10, 0, 0),\n",
       " datetime.datetime(2020, 10, 10, 0, 0),\n",
       " datetime.datetime(2020, 10, 10, 0, 0),\n",
       " datetime.datetime(2020, 11, 1, 0, 0)]"
      ]
     },
     "execution_count": 49,
     "metadata": {},
     "output_type": "execute_result"
    }
   ],
   "source": [
    "[s.date.read() for s in tp.get_scenarios()]"
   ]
  },
  {
   "cell_type": "markdown",
   "id": "73fd648f",
   "metadata": {
    "id": "73fd648f"
   },
   "source": [
    "## Create a Gui for the backend\n",
    "_scenario_selector_ lets you choose a scenario and display its results."
   ]
  },
  {
   "cell_type": "code",
   "execution_count": 50,
   "id": "760f1a04",
   "metadata": {
    "id": "760f1a04",
    "outputId": "447fe599-faf2-47d9-d3f8-2f3e2297642a"
   },
   "outputs": [
    {
     "name": "stdout",
     "output_type": "stream",
     "text": [
      "[('SCENARIO_scenario_21c075d7-8e3c-42ca-af7a-f3318490d644', 'First Scenario'), ('SCENARIO_scenario_58a5cc7a-fdce-42ef-97aa-f1721841c331', 'First Scenario'), ('SCENARIO_scenario_70c7cd0a-de78-45d9-8eff-39c44c45653b', 'Second Scenario'), ('SCENARIO_scenario_f9cdfa16-293c-4e41-bfac-bcff70f70a3d', 'Second Scenario'), ('SCENARIO_scenario_fecbc342-ca11-4fae-b494-f7f1d230c9ce', 'test')] \n",
      " SCENARIO_scenario_f9cdfa16-293c-4e41-bfac-bcff70f70a3d\n"
     ]
    }
   ],
   "source": [
    "scenario_selector = [(s.id, s.name) for s in tp.get_scenarios()]\n",
    "selected_scenario = scenario.id\n",
    "print(scenario_selector,'\\n', selected_scenario)"
   ]
  },
  {
   "cell_type": "code",
   "execution_count": 51,
   "id": "b590bdcc",
   "metadata": {
    "id": "b590bdcc",
    "outputId": "5747bb81-4c48-45ad-8457-f36fa783cff5"
   },
   "outputs": [
    {
     "data": {
      "text/html": [
       "<div>\n",
       "<style scoped>\n",
       "    .dataframe tbody tr th:only-of-type {\n",
       "        vertical-align: middle;\n",
       "    }\n",
       "\n",
       "    .dataframe tbody tr th {\n",
       "        vertical-align: top;\n",
       "    }\n",
       "\n",
       "    .dataframe thead th {\n",
       "        text-align: right;\n",
       "    }\n",
       "</style>\n",
       "<table border=\"1\" class=\"dataframe\">\n",
       "  <thead>\n",
       "    <tr style=\"text-align: right;\">\n",
       "      <th></th>\n",
       "      <th>Date</th>\n",
       "      <th>Deaths_x</th>\n",
       "      <th>Months_x</th>\n",
       "      <th>Days_x</th>\n",
       "      <th>Week_x</th>\n",
       "      <th>Day of week_x</th>\n",
       "      <th>Predictions_x</th>\n",
       "      <th>Deaths_y</th>\n",
       "      <th>Months_y</th>\n",
       "      <th>Days_y</th>\n",
       "      <th>Week_y</th>\n",
       "      <th>Day of week_y</th>\n",
       "      <th>Predictions_y</th>\n",
       "    </tr>\n",
       "  </thead>\n",
       "  <tbody>\n",
       "    <tr>\n",
       "      <th>0</th>\n",
       "      <td>2020-01-24</td>\n",
       "      <td>0.0</td>\n",
       "      <td>1</td>\n",
       "      <td>5</td>\n",
       "      <td>4</td>\n",
       "      <td>4</td>\n",
       "      <td>NaN</td>\n",
       "      <td>0.0</td>\n",
       "      <td>1</td>\n",
       "      <td>5</td>\n",
       "      <td>4</td>\n",
       "      <td>4</td>\n",
       "      <td>NaN</td>\n",
       "    </tr>\n",
       "    <tr>\n",
       "      <th>1</th>\n",
       "      <td>2020-01-25</td>\n",
       "      <td>0.0</td>\n",
       "      <td>1</td>\n",
       "      <td>6</td>\n",
       "      <td>4</td>\n",
       "      <td>5</td>\n",
       "      <td>NaN</td>\n",
       "      <td>0.0</td>\n",
       "      <td>1</td>\n",
       "      <td>6</td>\n",
       "      <td>4</td>\n",
       "      <td>5</td>\n",
       "      <td>NaN</td>\n",
       "    </tr>\n",
       "    <tr>\n",
       "      <th>2</th>\n",
       "      <td>2020-01-26</td>\n",
       "      <td>0.0</td>\n",
       "      <td>1</td>\n",
       "      <td>7</td>\n",
       "      <td>4</td>\n",
       "      <td>6</td>\n",
       "      <td>NaN</td>\n",
       "      <td>0.0</td>\n",
       "      <td>1</td>\n",
       "      <td>7</td>\n",
       "      <td>4</td>\n",
       "      <td>6</td>\n",
       "      <td>NaN</td>\n",
       "    </tr>\n",
       "    <tr>\n",
       "      <th>3</th>\n",
       "      <td>2020-01-27</td>\n",
       "      <td>0.0</td>\n",
       "      <td>1</td>\n",
       "      <td>1</td>\n",
       "      <td>5</td>\n",
       "      <td>0</td>\n",
       "      <td>NaN</td>\n",
       "      <td>0.0</td>\n",
       "      <td>1</td>\n",
       "      <td>1</td>\n",
       "      <td>5</td>\n",
       "      <td>0</td>\n",
       "      <td>NaN</td>\n",
       "    </tr>\n",
       "    <tr>\n",
       "      <th>4</th>\n",
       "      <td>2020-01-28</td>\n",
       "      <td>0.0</td>\n",
       "      <td>1</td>\n",
       "      <td>2</td>\n",
       "      <td>5</td>\n",
       "      <td>1</td>\n",
       "      <td>NaN</td>\n",
       "      <td>0.0</td>\n",
       "      <td>1</td>\n",
       "      <td>2</td>\n",
       "      <td>5</td>\n",
       "      <td>1</td>\n",
       "      <td>NaN</td>\n",
       "    </tr>\n",
       "    <tr>\n",
       "      <th>...</th>\n",
       "      <td>...</td>\n",
       "      <td>...</td>\n",
       "      <td>...</td>\n",
       "      <td>...</td>\n",
       "      <td>...</td>\n",
       "      <td>...</td>\n",
       "      <td>...</td>\n",
       "      <td>...</td>\n",
       "      <td>...</td>\n",
       "      <td>...</td>\n",
       "      <td>...</td>\n",
       "      <td>...</td>\n",
       "      <td>...</td>\n",
       "    </tr>\n",
       "    <tr>\n",
       "      <th>338</th>\n",
       "      <td>2020-12-27</td>\n",
       "      <td>62867.0</td>\n",
       "      <td>12</td>\n",
       "      <td>7</td>\n",
       "      <td>52</td>\n",
       "      <td>6</td>\n",
       "      <td>NaN</td>\n",
       "      <td>62867.0</td>\n",
       "      <td>12</td>\n",
       "      <td>7</td>\n",
       "      <td>52</td>\n",
       "      <td>6</td>\n",
       "      <td>NaN</td>\n",
       "    </tr>\n",
       "    <tr>\n",
       "      <th>339</th>\n",
       "      <td>2020-12-28</td>\n",
       "      <td>63235.0</td>\n",
       "      <td>12</td>\n",
       "      <td>1</td>\n",
       "      <td>53</td>\n",
       "      <td>0</td>\n",
       "      <td>NaN</td>\n",
       "      <td>63235.0</td>\n",
       "      <td>12</td>\n",
       "      <td>1</td>\n",
       "      <td>53</td>\n",
       "      <td>0</td>\n",
       "      <td>NaN</td>\n",
       "    </tr>\n",
       "    <tr>\n",
       "      <th>340</th>\n",
       "      <td>2020-12-29</td>\n",
       "      <td>64204.0</td>\n",
       "      <td>12</td>\n",
       "      <td>2</td>\n",
       "      <td>53</td>\n",
       "      <td>1</td>\n",
       "      <td>NaN</td>\n",
       "      <td>64204.0</td>\n",
       "      <td>12</td>\n",
       "      <td>2</td>\n",
       "      <td>53</td>\n",
       "      <td>1</td>\n",
       "      <td>NaN</td>\n",
       "    </tr>\n",
       "    <tr>\n",
       "      <th>341</th>\n",
       "      <td>2020-12-30</td>\n",
       "      <td>64508.0</td>\n",
       "      <td>12</td>\n",
       "      <td>3</td>\n",
       "      <td>53</td>\n",
       "      <td>2</td>\n",
       "      <td>NaN</td>\n",
       "      <td>64508.0</td>\n",
       "      <td>12</td>\n",
       "      <td>3</td>\n",
       "      <td>53</td>\n",
       "      <td>2</td>\n",
       "      <td>NaN</td>\n",
       "    </tr>\n",
       "    <tr>\n",
       "      <th>342</th>\n",
       "      <td>2020-12-31</td>\n",
       "      <td>64759.0</td>\n",
       "      <td>12</td>\n",
       "      <td>4</td>\n",
       "      <td>53</td>\n",
       "      <td>3</td>\n",
       "      <td>NaN</td>\n",
       "      <td>64759.0</td>\n",
       "      <td>12</td>\n",
       "      <td>4</td>\n",
       "      <td>53</td>\n",
       "      <td>3</td>\n",
       "      <td>NaN</td>\n",
       "    </tr>\n",
       "  </tbody>\n",
       "</table>\n",
       "<p>343 rows × 13 columns</p>\n",
       "</div>"
      ],
      "text/plain": [
       "          Date  Deaths_x  Months_x  Days_x  Week_x  Day of week_x  \\\n",
       "0   2020-01-24       0.0         1       5       4              4   \n",
       "1   2020-01-25       0.0         1       6       4              5   \n",
       "2   2020-01-26       0.0         1       7       4              6   \n",
       "3   2020-01-27       0.0         1       1       5              0   \n",
       "4   2020-01-28       0.0         1       2       5              1   \n",
       "..         ...       ...       ...     ...     ...            ...   \n",
       "338 2020-12-27   62867.0        12       7      52              6   \n",
       "339 2020-12-28   63235.0        12       1      53              0   \n",
       "340 2020-12-29   64204.0        12       2      53              1   \n",
       "341 2020-12-30   64508.0        12       3      53              2   \n",
       "342 2020-12-31   64759.0        12       4      53              3   \n",
       "\n",
       "     Predictions_x  Deaths_y  Months_y  Days_y  Week_y  Day of week_y  \\\n",
       "0              NaN       0.0         1       5       4              4   \n",
       "1              NaN       0.0         1       6       4              5   \n",
       "2              NaN       0.0         1       7       4              6   \n",
       "3              NaN       0.0         1       1       5              0   \n",
       "4              NaN       0.0         1       2       5              1   \n",
       "..             ...       ...       ...     ...     ...            ...   \n",
       "338            NaN   62867.0        12       7      52              6   \n",
       "339            NaN   63235.0        12       1      53              0   \n",
       "340            NaN   64204.0        12       2      53              1   \n",
       "341            NaN   64508.0        12       3      53              2   \n",
       "342            NaN   64759.0        12       4      53              3   \n",
       "\n",
       "     Predictions_y  \n",
       "0              NaN  \n",
       "1              NaN  \n",
       "2              NaN  \n",
       "3              NaN  \n",
       "4              NaN  \n",
       "..             ...  \n",
       "338            NaN  \n",
       "339            NaN  \n",
       "340            NaN  \n",
       "341            NaN  \n",
       "342            NaN  \n",
       "\n",
       "[343 rows x 13 columns]"
      ]
     },
     "execution_count": 51,
     "metadata": {},
     "output_type": "execute_result"
    }
   ],
   "source": [
    "result_arima = scenario.pipelines['ARIMA'].result.read()\n",
    "result_rd = scenario.pipelines['LinearRegression'].result.read()\n",
    "result = result_rd.merge(result_arima, on=\"Date\", how=\"outer\").sort_values(by='Date')\n",
    "result"
   ]
  },
  {
   "cell_type": "markdown",
   "id": "53c5cbc8",
   "metadata": {
    "id": "53c5cbc8"
   },
   "source": [
    "**Tips** : the _value_by_id_ property if set to True for a selected will make _selected_scenario_ directly refer to the first element of the tupple (here the id)"
   ]
  },
  {
   "cell_type": "markdown",
   "id": "4d705028",
   "metadata": {
    "id": "4d705028"
   },
   "source": [
    "![](img/predictions.png)"
   ]
  },
  {
   "cell_type": "code",
   "execution_count": 52,
   "id": "ff76ef5f",
   "metadata": {
    "id": "ff76ef5f"
   },
   "outputs": [],
   "source": [
    "prediction_md = \"\"\"\n",
    "<|layout|columns=1 2 5 1 3|\n",
    "<|{scenario_name}|input|label=Name|>\n",
    "\n",
    "<br/>\n",
    "<|Create|button|on_action=create_new_scenario|>\n",
    "\n",
    "Prediction date\n",
    "<|{first_date}|date|>\n",
    "\n",
    "<|{selected_country}|selector|lov={country_lov}|dropdown|on_change=on_change_country|label=Country|>\n",
    "\n",
    "<br/>\n",
    "<|Submit|button|on_action=submit_scenario|>\n",
    "\n",
    "<|{selected_scenario}|selector|lov={scenario_selector}|on_change=actualize_graph|dropdown|value_by_id|label=Scenario|>\n",
    "|>\n",
    "\n",
    "<|{result}|chart|x=Date|y[1]=Deaths_x|type[1]=bar|y[2]=Predictions_x|y[3]=Predictions_y|>\n",
    "\"\"\""
   ]
  },
  {
   "cell_type": "code",
   "execution_count": 53,
   "id": "de9e35b6",
   "metadata": {
    "id": "de9e35b6"
   },
   "outputs": [],
   "source": [
    "def create_new_scenario(state):\n",
    "    scenario = tp.create_scenario(scenario_cfg, name=state.scenario_name)\n",
    "    state.scenario_selector += [(scenario.id, scenario.name)]"
   ]
  },
  {
   "cell_type": "code",
   "execution_count": 54,
   "id": "41f73a34",
   "metadata": {
    "id": "41f73a34"
   },
   "outputs": [],
   "source": [
    "def submit_scenario(state):\n",
    "    # 1) get the selected scenario\n",
    "    # 2) write in country Data Node, the selected country\n",
    "    # 3) submit the scenario\n",
    "    # 4) actualize le graph avec actualize_graph\n",
    "    scenario = tp.get(state.selected_scenario)\n",
    "    scenario.country.write(state.selected_country)\n",
    "    scenario.date.write(state.first_date.replace(tzinfo=None))\n",
    "    tp.submit(scenario)\n",
    "    actualize_graph(state)"
   ]
  },
  {
   "cell_type": "code",
   "execution_count": 55,
   "id": "ef2d2fff",
   "metadata": {
    "id": "ef2d2fff"
   },
   "outputs": [],
   "source": [
    "def actualize_graph(state):\n",
    "    # 1) update the result dataframe\n",
    "    # 2) change selected_country with the predicted country of the scenario\n",
    "    scenario = tp.get(state.selected_scenario)\n",
    "    result_arima = scenario.pipelines['ARIMA'].result.read()\n",
    "    result_rd = scenario.pipelines['LinearRegression'].result.read()\n",
    "    if result_arima is not None and result_rd is not None:\n",
    "        state.result = result_rd.merge(result_arima, on=\"Date\", how=\"outer\").sort_values(by='Date')\n",
    "    state.selected_country = scenario.country.read()"
   ]
  },
  {
   "cell_type": "code",
   "execution_count": 56,
   "id": "b9d18b7f",
   "metadata": {
    "id": "b9d18b7f",
    "outputId": "f0b7e1d3-3a44-4f8d-fccf-95065ae86ea1"
   },
   "outputs": [
    {
     "name": "stdout",
     "output_type": "stream",
     "text": [
      "Gui server has been stopped.\n",
      " * Server starting on http://127.0.0.1:5000\n"
     ]
    }
   ],
   "source": [
    "Gui(prediction_md).run(dark_mode=False)"
   ]
  },
  {
   "cell_type": "markdown",
   "id": "40a63136",
   "metadata": {
    "id": "40a63136"
   },
   "source": [
    "# Multi-pages and Taipy Rest"
   ]
  },
  {
   "cell_type": "markdown",
   "id": "9b4d3ab8",
   "metadata": {
    "id": "9b4d3ab8"
   },
   "source": [
    "To create a multi-pages app, we only need a dictionary with names as the keys and the Markdowns as the values.\n",
    "\n",
    "The _navbar_ control (<|navbar|>) has a default behaviour. It redirects to the different pages of the app automatically. Other solutions exists."
   ]
  },
  {
   "cell_type": "markdown",
   "id": "77019d17",
   "metadata": {
    "id": "77019d17"
   },
   "source": [
    "![](img/multi_pages.png)"
   ]
  },
  {
   "cell_type": "code",
   "execution_count": 57,
   "id": "b0db7725",
   "metadata": {
    "id": "b0db7725",
    "outputId": "26b9efff-d31d-429a-ca16-a7f07e704605"
   },
   "outputs": [
    {
     "name": "stdout",
     "output_type": "stream",
     "text": [
      " * Server starting on http://127.0.0.1:5006\n"
     ]
    }
   ],
   "source": [
    "navbar_md = \"<center>\\n<|navbar|>\\n</center>\"\n",
    "\n",
    "pages = {\n",
    "    \"Map\":navbar_md+map_md,\n",
    "    \"Country\":navbar_md+final_country_md,\n",
    "    \"Predictions\":navbar_md+prediction_md\n",
    "}\n",
    "\n",
    "rest = tp.Rest()\n",
    "\n",
    "gui_multi_pages = Gui(pages=pages)\n",
    "tp.run(gui_multi_pages, rest, dark_mode=False, port=5006)"
   ]
  }
 ],
 "metadata": {
  "colab": {
   "collapsed_sections": [
    "b4ac0541",
    "6580b5fe",
    "f84e0a88",
    "cd4d0268",
    "f48f94cd",
    "6e528ce2",
    "6ab0529e",
    "b19ed6d7",
    "e9a53d43",
    "1908c988",
    "849d0a97",
    "73ab0ee0",
    "252820b6",
    "27dbc823",
    "986ebad5",
    "d9915978",
    "ba83beac",
    "73fd648f"
   ],
   "name": "Microsoft_workshop-solution_en.ipynb",
   "provenance": []
  },
  "kernelspec": {
   "display_name": "notebook",
   "language": "python",
   "name": "notebook"
  },
  "language_info": {
   "codemirror_mode": {
    "name": "ipython",
    "version": 3
   },
   "file_extension": ".py",
   "mimetype": "text/x-python",
   "name": "python",
   "nbconvert_exporter": "python",
   "pygments_lexer": "ipython3",
   "version": "3.10.4"
  },
  "vscode": {
   "interpreter": {
    "hash": "ba8253bf2265f190ff2d77bc66a586dcdf245e31b6255d2bcabcbf71b1320c9e"
   }
  }
 },
 "nbformat": 4,
 "nbformat_minor": 5
}
